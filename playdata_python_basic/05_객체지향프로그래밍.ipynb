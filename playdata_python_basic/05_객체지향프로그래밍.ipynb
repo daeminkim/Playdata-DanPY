{
 "cells": [
  {
   "cell_type": "markdown",
   "metadata": {},
   "source": [
    "# 객체지향 프로그래밍\n",
    "\n",
    "## 클래스의 정의\n",
    "- 객체의 설계도\n",
    "    - 동일한 형태의 객체들이 가져야하는 변수(attribute)와 Method를 정의 한것.\n",
    "    - 클래스로 부터 객체(instance)를 생성.\n",
    "- 구문\n",
    "```python\n",
    "class 클래스이름: #클래스 선언부\n",
    "    # 클래스 구현부\n",
    "    # 메소드들을 정의\n",
    "   \n",
    "```\n",
    "- 클래스 이름의 관례 \n",
    "    - 파스칼표기법: 각 단어의 첫글자는 대문자 나머지는 소문자.\n",
    "        - BankAcount, Person\n",
    "    -\n",
    "    \n",
    "- 객체 생성\n",
    "```python\n",
    "변수= 클래스이름()\n",
    "```"
   ]
  },
  {
   "cell_type": "markdown",
   "metadata": {},
   "source": [
    "### Person 클래스를 작성 (하기위한단계)\n",
    "- 객체 구성요소\n",
    "    - Instance 속성\n",
    "        - 객체의 데이터/ 상태\n",
    "        - 변수 -  instanxe 변수 (variable)\n",
    "    - 인스턴스 메소드\n",
    "        - 객체가 제공하는 기능\n",
    "        - 함수를 객체에 넣은것 \n",
    "1. Person의 속성은?\n",
    "    - name, age, address\n",
    "2.       의 method?\n",
    "    - 나이를 더하는 메소드 \n",
    "    - 전체 속성을 변경하는 메소드 \n",
    "    - 전체 속성을 출력하는 메소드"
   ]
  },
  {
   "cell_type": "code",
   "execution_count": 2,
   "metadata": {},
   "outputs": [],
   "source": [
    "#클래스 정의: 코드작성+실행\n",
    "class Person:\n",
    "    pass    #구현부 비워둘때."
   ]
  },
  {
   "cell_type": "code",
   "execution_count": 3,
   "metadata": {},
   "outputs": [
    {
     "data": {
      "text/plain": [
       "<__main__.Person at 0x19fc786b1f0>"
      ]
     },
     "execution_count": 3,
     "metadata": {},
     "output_type": "execute_result"
    }
   ],
   "source": [
    "#객체 (인스턴스)생성\n",
    "Person()  #===.> 객체생성한것 객체를 P1에대입"
   ]
  },
  {
   "cell_type": "code",
   "execution_count": 5,
   "metadata": {},
   "outputs": [],
   "source": [
    "p1=Person()\n",
    "#class는  인스턴스의 타입\n",
    "#인스턴스는 클래스의 값"
   ]
  },
  {
   "cell_type": "code",
   "execution_count": 8,
   "metadata": {},
   "outputs": [
    {
     "name": "stdout",
     "output_type": "stream",
     "text": [
      "<class '__main__.Person'>\n"
     ]
    }
   ],
   "source": [
    "print(type(p1))"
   ]
  },
  {
   "cell_type": "code",
   "execution_count": 9,
   "metadata": {},
   "outputs": [
    {
     "name": "stdout",
     "output_type": "stream",
     "text": [
      "<class 'int'> <class 'str'> <class 'int'>\n"
     ]
    }
   ],
   "source": [
    "print(type(10),type('뮻'),type(10))   #==> 클래스!!로부터 만들어진 거야"
   ]
  },
  {
   "cell_type": "markdown",
   "metadata": {},
   "source": [
    "## Attribute\n",
    "- instance 변수 \n",
    "- 인스턴스 에 어트리뷰트 를 추가\n",
    "    1. Initializer(생성자)를 이용해 추가\n",
    "        - 주로 추가\n",
    "    2. 객체.속성명 = 값\n",
    "        - 주로 변경\n",
    "    3. 메소드를 이용\n",
    "        - 주로 변경\n",
    "\n",
    "- 조회\n",
    "    - 객체.속성명\n",
    "    "
   ]
  },
  {
   "cell_type": "code",
   "execution_count": null,
   "metadata": {},
   "outputs": [],
   "source": [
    "class Person:\n",
    "    pass  "
   ]
  },
  {
   "cell_type": "code",
   "execution_count": null,
   "metadata": {},
   "outputs": [],
   "source": [
    "p1=Person() "
   ]
  },
  {
   "cell_type": "code",
   "execution_count": 10,
   "metadata": {},
   "outputs": [],
   "source": [
    "p1.name = '홍길동'  #==> 2번방법으로 한것  주로 있는 값을 변경할때쓴다.// \n",
    "#설계도 원래 처음 클래스 선언한 것을 보면 속성 변수를 아에 알수없어서 ㅠㅠ/ 주로 첫번째방법으로 추가 한다."
   ]
  },
  {
   "cell_type": "code",
   "execution_count": 11,
   "metadata": {},
   "outputs": [],
   "source": [
    "p1.age = 30\n",
    "p1.address = '서울시'"
   ]
  },
  {
   "cell_type": "code",
   "execution_count": 13,
   "metadata": {},
   "outputs": [
    {
     "name": "stdout",
     "output_type": "stream",
     "text": [
      "홍길동\n",
      "30\n"
     ]
    },
    {
     "data": {
      "text/plain": [
       "(None, None)"
      ]
     },
     "execution_count": 13,
     "metadata": {},
     "output_type": "execute_result"
    }
   ],
   "source": [
    "print(p1.name), print(p1.age)"
   ]
  },
  {
   "cell_type": "code",
   "execution_count": 17,
   "metadata": {},
   "outputs": [],
   "source": [
    "p1.email ='sdfas@dsklfj.df'"
   ]
  },
  {
   "cell_type": "code",
   "execution_count": 18,
   "metadata": {},
   "outputs": [
    {
     "name": "stdout",
     "output_type": "stream",
     "text": [
      "sdfas@dsklfj.df\n"
     ]
    }
   ],
   "source": [
    "print(p1.email) "
   ]
  },
  {
   "cell_type": "code",
   "execution_count": 15,
   "metadata": {},
   "outputs": [
    {
     "ename": "AttributeError",
     "evalue": "'Person' object has no attribute 'email'",
     "output_type": "error",
     "traceback": [
      "\u001b[1;31m---------------------------------------------------------------------------\u001b[0m",
      "\u001b[1;31mAttributeError\u001b[0m                            Traceback (most recent call last)",
      "\u001b[1;32m<ipython-input-15-67f272052189>\u001b[0m in \u001b[0;36m<module>\u001b[1;34m\u001b[0m\n\u001b[1;32m----> 1\u001b[1;33m \u001b[0mprint\u001b[0m\u001b[1;33m(\u001b[0m\u001b[0mp1\u001b[0m\u001b[1;33m.\u001b[0m\u001b[0memail\u001b[0m\u001b[1;33m)\u001b[0m\u001b[1;33m\u001b[0m\u001b[1;33m\u001b[0m\u001b[0m\n\u001b[0m",
      "\u001b[1;31mAttributeError\u001b[0m: 'Person' object has no attribute 'email'"
     ]
    }
   ],
   "source": [
    "#print(p1.email)  #   변수없을때는 에러"
   ]
  },
  {
   "cell_type": "markdown",
   "metadata": {},
   "source": [
    "class Person:\n",
    "    pass      # 여러가지 인스턴스를 만들수 있다."
   ]
  },
  {
   "cell_type": "markdown",
   "metadata": {},
   "source": [
    "## Initializer\n",
    "- 역할: 클래스로 부터 인스턴스를 생성할때 인스턴수 변수(속성)을 초기화 하는 역할.\n",
    "- 객체 생성할때 딱 한번만 호출되는 특이한 형태의 메소드\n",
    "- 구문   //__/ _ _\n",
    "```python\n",
    "calss 클래스:\n",
    "    \n",
    "    def __init__(self [,매개변수, ...]):  #선언  // 이름 정해짐 init\n",
    "        #구현\n",
    "        #self.변수명 = 값\n",
    "       \n",
    "```\n",
    "## self 변수\n",
    "-  매개변수// 생성자(initializer) 나 메소드(객체의 기능)의 첫번째 매개변수로 선언.\n",
    "    -현재 객체 (instance)를 전달받는 변수.\n",
    "- 이니셜라이져의 셀프 :현재 생성되고 있는 객체\n",
    "- 메소드 \n",
    "    - 메소드를 호출한 객체(메소드 소유객체)\n",
    "- 생성자 / 메소드 정의시 호출시 전달받을 값을 저장하는 매개변수는 두번째부터 선언한다. "
   ]
  },
  {
   "cell_type": "code",
   "execution_count": 321,
   "metadata": {},
   "outputs": [],
   "source": [
    "class Person:\n",
    "    #initializer /1. Person의 속성은?\n",
    "    def __init__(self, name, age, address):\n",
    "        #Attribute에 매개변수로 받은 값으로 초기화, ///////최소한 이름하고 나이 주소는 같고 있다는 것을 알수 있다 생성된객체들이\n",
    "        self.name = name  # self.name  = 인스턴스 변수 name.\n",
    "        self.age= age     #self 는 인스턴스,객체를 가르킨다 person() 괄호안에 네임 나이 주소가 들어간다.\n",
    "        self.address = address\n",
    "      \n",
    "        #print('생성됨')\n",
    "    #1/13 사진 보기// 전체 데이터 한번에 프린트 하는 법 // 메소드 직접 만들어야 한다."
   ]
  },
  {
   "cell_type": "code",
   "execution_count": 315,
   "metadata": {},
   "outputs": [
    {
     "ename": "TypeError",
     "evalue": "__init__() missing 3 required positional arguments: 'name', 'age', and 'address'",
     "output_type": "error",
     "traceback": [
      "\u001b[1;31m---------------------------------------------------------------------------\u001b[0m",
      "\u001b[1;31mTypeError\u001b[0m                                 Traceback (most recent call last)",
      "\u001b[1;32m<ipython-input-315-7e77483d0f26>\u001b[0m in \u001b[0;36m<module>\u001b[1;34m\u001b[0m\n\u001b[0;32m      1\u001b[0m \u001b[1;31m# 클래스 이름(): __init__ 를 호출하는 것이다. 밑에있는게\u001b[0m\u001b[1;33m\u001b[0m\u001b[1;33m\u001b[0m\u001b[1;33m\u001b[0m\u001b[0m\n\u001b[1;32m----> 2\u001b[1;33m \u001b[0mp1\u001b[0m \u001b[1;33m=\u001b[0m \u001b[0mPerson\u001b[0m\u001b[1;33m(\u001b[0m\u001b[1;33m)\u001b[0m\u001b[1;33m\u001b[0m\u001b[1;33m\u001b[0m\u001b[0m\n\u001b[0m",
      "\u001b[1;31mTypeError\u001b[0m: __init__() missing 3 required positional arguments: 'name', 'age', and 'address'"
     ]
    }
   ],
   "source": [
    "# 클래스 이름(): __init__ 를 호출하는 것이다. 밑에있는게\n",
    "p1 = Person()"
   ]
  },
  {
   "cell_type": "code",
   "execution_count": 34,
   "metadata": {},
   "outputs": [],
   "source": [
    "p1 = Person('이순신',59,'서울시')  # 값을 넣어주면 인스턴스 변수를 초기화 (바꿔준다.)"
   ]
  },
  {
   "cell_type": "code",
   "execution_count": 35,
   "metadata": {},
   "outputs": [
    {
     "name": "stdout",
     "output_type": "stream",
     "text": [
      "이순신 59 서울시\n"
     ]
    }
   ],
   "source": [
    "print(p1.name, p1.age, p1.address)"
   ]
  },
  {
   "cell_type": "code",
   "execution_count": 36,
   "metadata": {},
   "outputs": [],
   "source": [
    "p2 = Person(\"김대민\",40,'인천시')  #p1,p2 의 네임,에이지 어드레스는(변수) 같다// 값은 다르지만 "
   ]
  },
  {
   "cell_type": "code",
   "execution_count": 37,
   "metadata": {},
   "outputs": [
    {
     "name": "stdout",
     "output_type": "stream",
     "text": [
      "김대민\n"
     ]
    }
   ],
   "source": [
    "print(p2.name)"
   ]
  },
  {
   "cell_type": "code",
   "execution_count": 40,
   "metadata": {},
   "outputs": [],
   "source": [
    "p1.age = 100"
   ]
  },
  {
   "cell_type": "code",
   "execution_count": 41,
   "metadata": {},
   "outputs": [
    {
     "name": "stdout",
     "output_type": "stream",
     "text": [
      "100\n"
     ]
    }
   ],
   "source": [
    "print(p1.age)  # 재할당도 가능"
   ]
  },
  {
   "cell_type": "code",
   "execution_count": 323,
   "metadata": {},
   "outputs": [
    {
     "data": {
      "text/plain": [
       "<__main__.Person2 at 0x19fc798d460>"
      ]
     },
     "execution_count": 323,
     "metadata": {},
     "output_type": "execute_result"
    }
   ],
   "source": []
  },
  {
   "cell_type": "code",
   "execution_count": null,
   "metadata": {},
   "outputs": [],
   "source": []
  },
  {
   "cell_type": "code",
   "execution_count": 38,
   "metadata": {},
   "outputs": [],
   "source": [
    "## 변수에 디폴스 값을 줄 수도 있다.   // 하나의 설계도(클라스)에서 피1,피2 두가지 객체를 만들어냄"
   ]
  },
  {
   "cell_type": "code",
   "execution_count": null,
   "metadata": {},
   "outputs": [],
   "source": [
    "# 딕셔너리와 비슷 //호출 법,표기법이랑 약간의 차이//'클래스'의 특성,부분에 따라 '(객체의 변수) 값에 따라 구분지을수 있다 ==> 메소드를 사용해서"
   ]
  },
  {
   "cell_type": "markdown",
   "metadata": {},
   "source": [
    "\n",
    "## Instance 메소드 (method)\n",
    " - 객체의 기능 (객체가 제공하는 기능)//(함수는 보편적 기능 값을 받아 실행// 메소드는 데이터를 갖고 실행)\n",
    " -  주로 인스턴스 변수(어트리부트)의 값을 처리하는 역할.\n",
    " - 구문(함수구문과 **거의** 동의\n",
    " ```python\n",
    "def 이름(self[,매개변수,...]):\n",
    "    #구현부\n",
    "    #self를 이용해서 객체의 속성이나 메소드 호출.\n",
    "    \n",
    " ```\n",
    " - 메소드이름 관례는 함수/변수와 동일.\n",
    "     - 스네이크 표기법: 다 소문자로 주고 단어와 단어는 _ 로 연결~\n",
    "     - 가끔 카멜 표기법\n",
    " - self매개 변수 : 메소드가 호출된 객체(인스턴스)를 가리킨다.\n",
    " - 메소드 호출\n",
    "     -객체.메소드이름(아규먼트1,[아규먼트2])\n",
    "     - 아규먼트 1은 두번째 매개변수 , 두번째 아규먼트는 세번째 매개 변수에 들어간다."
   ]
  },
  {
   "cell_type": "code",
   "execution_count": 42,
   "metadata": {},
   "outputs": [],
   "source": [
    "#ex\n",
    "#li= [3,2,5,]"
   ]
  },
  {
   "cell_type": "code",
   "execution_count": 43,
   "metadata": {},
   "outputs": [
    {
     "data": {
      "text/plain": [
       "[2, 3, 5]"
      ]
     },
     "execution_count": 43,
     "metadata": {},
     "output_type": "execute_result"
    }
   ],
   "source": [
    "#sorted(li)#리스트, 튜플, 셋.. 등을 갖고 sort함  (보편적)"
   ]
  },
  {
   "cell_type": "code",
   "execution_count": 44,
   "metadata": {},
   "outputs": [
    {
     "data": {
      "text/plain": [
       "[2, 3, 5]"
      ]
     },
     "execution_count": 44,
     "metadata": {},
     "output_type": "execute_result"
    }
   ],
   "source": [
    "#li.sort()  #==. li 라는 객체를 갖고 sort 함\n",
    "#li"
   ]
  },
  {
   "cell_type": "code",
   "execution_count": null,
   "metadata": {},
   "outputs": [],
   "source": []
  },
  {
   "cell_type": "code",
   "execution_count": null,
   "metadata": {},
   "outputs": [],
   "source": [
    "### Person 클래스를 작성 (하기위한단)\n",
    "- 객체 구성요소\n",
    "    - Instance 속성\n",
    "        - 객체의 데이터/ 상태\n",
    "        - 변수 -  instanxe 변수 (variable)\n",
    "    - 인스턴스 메소드\n",
    "        - 객체가 제공하는 기능\n",
    "        - 함수를 객체에 넣은것 \n",
    "1. Person의 속성은?\n",
    "    - name, age, address\n",
    "2.       의 method?\n",
    "    - 나이를 더하는 메소드 \n",
    "    - 전체 속성을 변경하는 메소드 \n",
    "    - 전체 속성을 출력하는 메소드"
   ]
  },
  {
   "cell_type": "code",
   "execution_count": null,
   "metadata": {},
   "outputs": [],
   "source": []
  },
  {
   "cell_type": "code",
   "execution_count": 69,
   "metadata": {},
   "outputs": [],
   "source": [
    "class Person2:\n",
    "    \"\"\"\n",
    "    클래스에 대한 설명 docstring\n",
    "    \"\"\"\n",
    "    \n",
    "    #생성자\n",
    "    def __init__(self, name,age,address=None):\n",
    "        self.name = name  \n",
    "        self.age= age     \n",
    "        self.address = address\n",
    "        \n",
    "        \n",
    "    # 모든 instance 변수의 값을 출력하는 메소드\n",
    "    def print_info(self):  #반드시 하나의 매개변수는 있어야 한다. class에서는 \"self\"로 지정 \n",
    "        \"\"\"\n",
    "         # 모든 instance 변수의 값을 출력하는 메소드 ==독스트링 \n",
    "         [매개변수]\n",
    "        \"\"\"\n",
    "        print(f'이름:{self.name},나이:{self.age},주소:{self.address}')\n",
    "   \n",
    "    \n",
    "    #모든 인스턴스 변수의 값들을 한번에 변경하는 메소드    \n",
    "    def set_info(self, name,age,address):\n",
    "        self.name = name  \n",
    "        self.age= age     \n",
    "        self.address = address\n",
    "        \n",
    "    # 나이에 매개변수로 받은 값을 더한 값으로 변경하는 메소드\n",
    "    def add_age(self, add_age= 0):\n",
    "        \"\"\"\n",
    "        매개변수\n",
    "         add_age = int - 더할 나이\n",
    "        \"\"\"\n",
    "        self.age= self.age + add_age \n",
    "         #self.age +=add_age"
   ]
  },
  {
   "cell_type": "code",
   "execution_count": 70,
   "metadata": {},
   "outputs": [],
   "source": [
    "?Person2"
   ]
  },
  {
   "cell_type": "code",
   "execution_count": 62,
   "metadata": {},
   "outputs": [],
   "source": [
    "p1= Person2('김영수',45,'부산시') #==> __init__"
   ]
  },
  {
   "cell_type": "code",
   "execution_count": 63,
   "metadata": {},
   "outputs": [
    {
     "name": "stdout",
     "output_type": "stream",
     "text": [
      "이름:김영수,나이:45,주소:부산시\n"
     ]
    }
   ],
   "source": [
    "info = p1.print_info() #  매개변수가 self 밖에 없어서 프린트인포의 괄호안에 아무것도 안넣는다."
   ]
  },
  {
   "cell_type": "code",
   "execution_count": null,
   "metadata": {},
   "outputs": [],
   "source": [
    "#  'set_info'  를 이용하여 모든 변수값을 변경하였다."
   ]
  },
  {
   "cell_type": "code",
   "execution_count": 64,
   "metadata": {},
   "outputs": [],
   "source": [
    "p1.set_info ('박영수',30,'인천시')"
   ]
  },
  {
   "cell_type": "code",
   "execution_count": 65,
   "metadata": {},
   "outputs": [
    {
     "name": "stdout",
     "output_type": "stream",
     "text": [
      "이름:박영수,나이:30,주소:인천시\n"
     ]
    }
   ],
   "source": [
    "p1.print_info()"
   ]
  },
  {
   "cell_type": "code",
   "execution_count": 66,
   "metadata": {},
   "outputs": [],
   "source": [
    "p1.add_age(3)"
   ]
  },
  {
   "cell_type": "code",
   "execution_count": 67,
   "metadata": {},
   "outputs": [
    {
     "name": "stdout",
     "output_type": "stream",
     "text": [
      "이름:박영수,나이:33,주소:인천시\n"
     ]
    }
   ],
   "source": [
    "p1.print_info()"
   ]
  },
  {
   "cell_type": "code",
   "execution_count": 75,
   "metadata": {},
   "outputs": [
    {
     "name": "stdout",
     "output_type": "stream",
     "text": [
      "박영수\n"
     ]
    }
   ],
   "source": [
    "print(p1.name)"
   ]
  },
  {
   "cell_type": "markdown",
   "metadata": {},
   "source": [
    "## 정보 은닉 (Information Hiding)\n",
    " - instance 변수(어트리뷰트)의 값을 외부에서 직접 접근(호출-변경/조회)하지 못하도록 막는다.\n",
    " - 목적: 마음대로 값을 변경하지 못하도록 한다.\n",
    " - instance변수의 값을 변경(setter)/조회(getter)할수 있는 메소드를 제공한다.\n",
    "     -setter:instance변수의 값을 변경하는 메소드 관례상 set으로 시작\n",
    "     -geetter:instance 변수의 값을 조회(반환)하는 메소드. 관례상 get으로 시작\n",
    " - 구현\n",
    "      - 인스턴스변수의 이름을 '__' 로 시작 self.__name,self.__age\n",
    "      -getter/setter 메소드를 제공.ex)set_name(),get_age()"
   ]
  },
  {
   "cell_type": "code",
   "execution_count": 324,
   "metadata": {},
   "outputs": [],
   "source": [
    "class MyDate:\n",
    "    \"\"\"\n",
    "    instance 변수로 년,월,일 (날짜) 을 관리하는 클래스\n",
    "    \"\"\"\n",
    "    def __init__(self, year, month, day):\n",
    "        self.__year  = year\n",
    "        self.__month = month\n",
    "        self.__day =day\n",
    "    def set_month(self, month):\n",
    "        \"\"\"\n",
    "        월을 변경하는 메소드\n",
    "        [매개변수]\n",
    "            month: int -월(1~12)\n",
    "        \"\"\"\n",
    "        if month>=1 and month<=12: #and type(month)==int:\n",
    "            self.__month = month #__변수: 같은 클래스안에서는 호출 가능\n",
    "        else:\n",
    "            print(f'{month}는 잘못된 월입니다.')\n",
    "    \n",
    "    def get_month(self):\n",
    "        \"\"\"\n",
    "        인스턴스 변수 월을 반환하는 메소드\n",
    "        [반환값]\n",
    "            int: 월\n",
    "        \"\"\"\n",
    "    def print_info(self):\n",
    "         print(f'이름:{self.name},나이:{self.age},주소:{self.address}')\n",
    "        \n",
    "        \n",
    "        return self.__month  # 같은 클래스에 접근하는 것은 가능하ㅏ"
   ]
  },
  {
   "cell_type": "code",
   "execution_count": null,
   "metadata": {},
   "outputs": [],
   "source": []
  },
  {
   "cell_type": "code",
   "execution_count": 325,
   "metadata": {},
   "outputs": [],
   "source": [
    "date = MyDate(2021, 1, 13)"
   ]
  },
  {
   "cell_type": "code",
   "execution_count": 326,
   "metadata": {},
   "outputs": [
    {
     "name": "stdout",
     "output_type": "stream",
     "text": [
      "1\n"
     ]
    }
   ],
   "source": [
    "#print(date.__month) \n",
    "print(date.get_month()) "
   ]
  },
  {
   "cell_type": "code",
   "execution_count": 327,
   "metadata": {},
   "outputs": [],
   "source": [
    "date.set_month(5)"
   ]
  },
  {
   "cell_type": "code",
   "execution_count": 328,
   "metadata": {},
   "outputs": [
    {
     "name": "stdout",
     "output_type": "stream",
     "text": [
      "5\n"
     ]
    }
   ],
   "source": [
    "print(date.get_month())"
   ]
  },
  {
   "cell_type": "code",
   "execution_count": null,
   "metadata": {},
   "outputs": [],
   "source": [
    "print"
   ]
  },
  {
   "cell_type": "code",
   "execution_count": null,
   "metadata": {},
   "outputs": [],
   "source": []
  },
  {
   "cell_type": "code",
   "execution_count": 108,
   "metadata": {
    "collapsed": true
   },
   "outputs": [
    {
     "ename": "AttributeError",
     "evalue": "'MyDate' object has no attribute '__year'",
     "output_type": "error",
     "traceback": [
      "\u001b[1;31m---------------------------------------------------------------------------\u001b[0m",
      "\u001b[1;31mAttributeError\u001b[0m                            Traceback (most recent call last)",
      "\u001b[1;32m<ipython-input-108-d5d1ee99a508>\u001b[0m in \u001b[0;36m<module>\u001b[1;34m\u001b[0m\n\u001b[1;32m----> 1\u001b[1;33m \u001b[0mprint\u001b[0m\u001b[1;33m(\u001b[0m\u001b[0mdate\u001b[0m\u001b[1;33m.\u001b[0m\u001b[0m__year\u001b[0m\u001b[1;33m)\u001b[0m   \u001b[1;31m# 오류나오는게 맞다 __ 이거 때문에 직접 갈수 없다\u001b[0m\u001b[1;33m\u001b[0m\u001b[1;33m\u001b[0m\u001b[0m\n\u001b[0m",
      "\u001b[1;31mAttributeError\u001b[0m: 'MyDate' object has no attribute '__year'"
     ]
    }
   ],
   "source": [
    "print(date.__year)   # 오류나오는게 맞다 __ 이거 때문에 직접 갈수 없다"
   ]
  },
  {
   "cell_type": "code",
   "execution_count": 109,
   "metadata": {},
   "outputs": [],
   "source": [
    "date.__year = 2011  #처리가 안된거다 //직접 바꿀수 없다."
   ]
  },
  {
   "cell_type": "code",
   "execution_count": 110,
   "metadata": {
    "collapsed": true
   },
   "outputs": [
    {
     "ename": "AttributeError",
     "evalue": "'MyDate' object has no attribute '__month'",
     "output_type": "error",
     "traceback": [
      "\u001b[1;31m---------------------------------------------------------------------------\u001b[0m",
      "\u001b[1;31mAttributeError\u001b[0m                            Traceback (most recent call last)",
      "\u001b[1;32m<ipython-input-110-946a8c707210>\u001b[0m in \u001b[0;36m<module>\u001b[1;34m\u001b[0m\n\u001b[1;32m----> 1\u001b[1;33m \u001b[0mdate\u001b[0m\u001b[1;33m.\u001b[0m\u001b[0m__month\u001b[0m \u001b[1;31m# 오류나오는게 맞다 __ 이거 때문에 직접 갈수 없다\u001b[0m\u001b[1;33m\u001b[0m\u001b[1;33m\u001b[0m\u001b[0m\n\u001b[0m",
      "\u001b[1;31mAttributeError\u001b[0m: 'MyDate' object has no attribute '__month'"
     ]
    }
   ],
   "source": [
    "date.__month # 오류나오는게 맞다 __ 이거 때문에 직접 갈수 없다//직접 호출을 막는다 "
   ]
  },
  {
   "cell_type": "code",
   "execution_count": 112,
   "metadata": {
    "collapsed": true
   },
   "outputs": [
    {
     "ename": "AttributeError",
     "evalue": "'MyDate' object has no attribute '__day'",
     "output_type": "error",
     "traceback": [
      "\u001b[1;31m---------------------------------------------------------------------------\u001b[0m",
      "\u001b[1;31mAttributeError\u001b[0m                            Traceback (most recent call last)",
      "\u001b[1;32m<ipython-input-112-87b6a4d4b4f5>\u001b[0m in \u001b[0;36m<module>\u001b[1;34m\u001b[0m\n\u001b[1;32m----> 1\u001b[1;33m \u001b[0mprint\u001b[0m\u001b[1;33m(\u001b[0m\u001b[0mdate\u001b[0m\u001b[1;33m.\u001b[0m\u001b[0m__day\u001b[0m\u001b[1;33m)\u001b[0m \u001b[1;31m# 오류나오는게 맞다 __ 이거 때문에 직접 갈수 없다\u001b[0m\u001b[1;33m\u001b[0m\u001b[1;33m\u001b[0m\u001b[0m\n\u001b[0m",
      "\u001b[1;31mAttributeError\u001b[0m: 'MyDate' object has no attribute '__day'"
     ]
    }
   ],
   "source": [
    "print(date.__day) # 오류나오는게 맞다 __ 이거 때문에 직접 갈수 없다"
   ]
  },
  {
   "cell_type": "code",
   "execution_count": null,
   "metadata": {},
   "outputs": [],
   "source": []
  },
  {
   "cell_type": "code",
   "execution_count": null,
   "metadata": {},
   "outputs": [],
   "source": []
  },
  {
   "cell_type": "code",
   "execution_count": 121,
   "metadata": {},
   "outputs": [
    {
     "data": {
      "text/plain": [
       "{'_MyDate__year': 2021, '_MyDate__month': 5, '_MyDate__day': 13}"
      ]
     },
     "execution_count": 121,
     "metadata": {},
     "output_type": "execute_result"
    }
   ],
   "source": [
    "# 객체.__dict__ 객체의 인수턴스 변수들 확인\n",
    "date.__dict__"
   ]
  },
  {
   "cell_type": "code",
   "execution_count": null,
   "metadata": {},
   "outputs": [],
   "source": [
    "#참고\n",
    "__year 를 _MyDate__year(_클래스 이름__변수이름) 으로 바꾼다 그래서 직접적으로 못부른다."
   ]
  },
  {
   "cell_type": "code",
   "execution_count": 122,
   "metadata": {},
   "outputs": [],
   "source": [
    "date._MyDate__month= 100 #바꿀수도 있다 ==>규칙을 알고 있다면 값도 바꿀수 있음"
   ]
  },
  {
   "cell_type": "code",
   "execution_count": 123,
   "metadata": {},
   "outputs": [
    {
     "name": "stdout",
     "output_type": "stream",
     "text": [
      "100\n"
     ]
    }
   ],
   "source": [
    "print(date.get_month())"
   ]
  },
  {
   "cell_type": "code",
   "execution_count": null,
   "metadata": {},
   "outputs": [],
   "source": []
  },
  {
   "cell_type": "code",
   "execution_count": null,
   "metadata": {},
   "outputs": [],
   "source": [
    "## Alt + 드래그 하면 세로 한묶음으로 조정 가는"
   ]
  },
  {
   "cell_type": "code",
   "execution_count": 194,
   "metadata": {},
   "outputs": [],
   "source": [
    "class MyDate2:\n",
    "    \n",
    "    def __init__(self, year, month, day):\n",
    "        self.__year  = year\n",
    "        self.__month = month\n",
    "        self.__day = day\n",
    "    \n",
    "    def set_year(self, year):\n",
    "        print(\">>set_year\")  #실행됐는지 확인하기위한 코드임 업어도됨\n",
    "        self.__year = year\n",
    "    def get_year(self):\n",
    "        print(\">>get_year\")\n",
    "        return self.__year\n",
    "    \n",
    "    \n",
    "    def set_month(self,month):\n",
    "        print(\">>set_month\")\n",
    "        self.__month = month\n",
    "    def get_month(self):\n",
    "        print(\">>get_month\")\n",
    "        return self.__month \n",
    "        \n",
    "    \n",
    "    \n",
    "    def set_day(self,day):\n",
    "        print(\">>set_day\")\n",
    "        self.__day = day\n",
    "    def get_day(self):\n",
    "        print(\">>get_day\")\n",
    "        return self.__day \n",
    "    \n",
    "    \n",
    "    # 아무 값으로나 변경 해도된다면 원래 하는듯이  생성자를 하면 되고 \n",
    "      #특정 조건을 넣어야 한다면 setter 에 넣어야하나면 은닉으로해서  함부러 바꾸지 못하게 한다\n",
    "    \n",
    "    #변수명=프로퍼티(겟터,세터)\n",
    "    #외부에서 변수명으로 조회하면 게터 메소드를 변수ㄱ에 값을 대입하면 세터 메소드를 호출해준다.\n",
    "    \n",
    "    year = property(get_year,set_year) # 변수 이어의 값으 ㄹ조회하면 겟이어 값을 반환, 변수 이어에 값을 대입하면 셋이어 를 호출\n",
    "    month = property(get_month,set_month) \n",
    "    day = property(get_day,set_day)"
   ]
  },
  {
   "cell_type": "code",
   "execution_count": null,
   "metadata": {},
   "outputs": [],
   "source": [
    "today.year = 2940  #변경할때느느 변수를 써서 셋먼스를 콜해서 변경해줌"
   ]
  },
  {
   "cell_type": "code",
   "execution_count": null,
   "metadata": {},
   "outputs": [],
   "source": [
    "print(today.year)  # 리턴값을 받을때도 변수를 써도 겟먼스를 콜해줌"
   ]
  },
  {
   "cell_type": "code",
   "execution_count": 195,
   "metadata": {},
   "outputs": [],
   "source": [
    "today = MyDate2(2013, 1,13)"
   ]
  },
  {
   "cell_type": "code",
   "execution_count": 196,
   "metadata": {},
   "outputs": [
    {
     "name": "stdout",
     "output_type": "stream",
     "text": [
      ">>get_year\n",
      "2013\n"
     ]
    }
   ],
   "source": [
    "print(today.year) # 조회"
   ]
  },
  {
   "cell_type": "code",
   "execution_count": 197,
   "metadata": {},
   "outputs": [
    {
     "name": "stdout",
     "output_type": "stream",
     "text": [
      ">>set_year\n"
     ]
    }
   ],
   "source": [
    "today.year=2030"
   ]
  },
  {
   "cell_type": "code",
   "execution_count": 198,
   "metadata": {},
   "outputs": [
    {
     "name": "stdout",
     "output_type": "stream",
     "text": [
      ">>get_year\n",
      "2030\n"
     ]
    }
   ],
   "source": [
    "print(today.year) "
   ]
  },
  {
   "cell_type": "code",
   "execution_count": 199,
   "metadata": {},
   "outputs": [
    {
     "name": "stdout",
     "output_type": "stream",
     "text": [
      ">>set_month\n",
      ">>set_day\n"
     ]
    }
   ],
   "source": [
    "today.month = 10\n",
    "today.day = 30\n"
   ]
  },
  {
   "cell_type": "code",
   "execution_count": 200,
   "metadata": {},
   "outputs": [
    {
     "name": "stdout",
     "output_type": "stream",
     "text": [
      ">>get_month\n",
      "10\n",
      ">>get_day\n",
      "30\n"
     ]
    }
   ],
   "source": [
    "print(today.month)\n",
    "print(today.day)"
   ]
  },
  {
   "cell_type": "code",
   "execution_count": 201,
   "metadata": {},
   "outputs": [
    {
     "data": {
      "text/plain": [
       "{'_MyDate2__year': 2030, '_MyDate2__month': 10, '_MyDate2__day': 30}"
      ]
     },
     "execution_count": 201,
     "metadata": {},
     "output_type": "execute_result"
    }
   ],
   "source": [
    "today.__dict__"
   ]
  },
  {
   "cell_type": "markdown",
   "metadata": {},
   "source": [
    "\n",
    "# setter/getter +property 변수를 지정하는것을 세터/게터 메소드에 직접설정.\n",
    "#데코레이터 이용\n",
    "#1. getter/setter 메소드의 이름을 호출될대ㅓ 사용할 변수명으로 지저.\n",
    "#2. gettter메소드에 @property 데코레이터를 추가\n",
    "#3.settter메소드에 \"'\"@getter메소드의 이름.setter'\"\" 데코레이터를 추가\n",
    "# 메소드 정의 순서는 반드시 getter를 먼저 정의 해야한다.\n",
    "#getter/setter 메소드 명은 동일\n"
   ]
  },
  {
   "cell_type": "code",
   "execution_count": 230,
   "metadata": {},
   "outputs": [],
   "source": [
    "class MyDate3:\n",
    "    def __init__(self, year, month, day):\n",
    "        self.__year  = year\n",
    "        self.__month = month\n",
    "        self.__day = day\n",
    "    \n",
    "    #year의 값을 반환하는 메소드 (getter)\n",
    "    @property    \n",
    "    def year(self):\n",
    "        return self.__year\n",
    "    \n",
    "    #year의 값을 변경하는 메소드 setter\n",
    "    #@getter이름.setter\n",
    "    @year.setter\n",
    "    def year(self,year):\n",
    "        self.__year  = year\n",
    "    \n",
    "    \n",
    "        #month의 값을 반환하는 메소드 (getter)\n",
    "    @property    \n",
    "    def month(self):\n",
    "        return self.__month\n",
    "    \n",
    "    #month 의 값을 변경하는 메소드 setter\n",
    "    #@getter\n",
    "    @month.setter\n",
    "    def month(self,month):\n",
    "        self.__month  = month\n",
    "        \n",
    "        #year의 값을 반환하는 메소드 (getter)\n",
    "    \n",
    "    @property    \n",
    "    def day(self):\n",
    "        return self.__day\n",
    "    \n",
    "   \n",
    "    #@getter\n",
    "    @day.setter\n",
    "    def day(self,day):\n",
    "        self.__day  = day\n",
    "    \n"
   ]
  },
  {
   "cell_type": "code",
   "execution_count": 231,
   "metadata": {},
   "outputs": [],
   "source": [
    "today = MyDate3(2021,1,13)"
   ]
  },
  {
   "cell_type": "code",
   "execution_count": 232,
   "metadata": {},
   "outputs": [
    {
     "name": "stdout",
     "output_type": "stream",
     "text": [
      "2021\n"
     ]
    }
   ],
   "source": [
    "print(today.year)"
   ]
  },
  {
   "cell_type": "code",
   "execution_count": 233,
   "metadata": {},
   "outputs": [],
   "source": [
    "today.year= 2929"
   ]
  },
  {
   "cell_type": "code",
   "execution_count": 234,
   "metadata": {},
   "outputs": [
    {
     "name": "stdout",
     "output_type": "stream",
     "text": [
      "2929\n"
     ]
    }
   ],
   "source": [
    "print(today.year)"
   ]
  },
  {
   "cell_type": "code",
   "execution_count": 235,
   "metadata": {},
   "outputs": [
    {
     "data": {
      "text/plain": [
       "{'_MyDate3__year': 2929, '_MyDate3__month': 1, '_MyDate3__day': 13}"
      ]
     },
     "execution_count": 235,
     "metadata": {},
     "output_type": "execute_result"
    }
   ],
   "source": [
    "today.__dict__"
   ]
  },
  {
   "cell_type": "code",
   "execution_count": 237,
   "metadata": {},
   "outputs": [
    {
     "name": "stdout",
     "output_type": "stream",
     "text": [
      "1\n"
     ]
    }
   ],
   "source": [
    "\n",
    "print(today.month)"
   ]
  },
  {
   "cell_type": "code",
   "execution_count": 238,
   "metadata": {},
   "outputs": [],
   "source": [
    "today.day=15"
   ]
  },
  {
   "cell_type": "code",
   "execution_count": 246,
   "metadata": {},
   "outputs": [
    {
     "name": "stdout",
     "output_type": "stream",
     "text": [
      "15\n"
     ]
    },
    {
     "data": {
      "text/plain": [
       "(None, {'_MyDate3__year': 2929, '_MyDate3__month': 1, '_MyDate3__day': 15})"
      ]
     },
     "execution_count": 246,
     "metadata": {},
     "output_type": "execute_result"
    }
   ],
   "source": [
    "print(today.day),today.__dict__"
   ]
  },
  {
   "cell_type": "code",
   "execution_count": 273,
   "metadata": {},
   "outputs": [
    {
     "data": {
      "text/plain": [
       "{'_MyDate3__year': 2929, '_MyDate3__month': 1, '_MyDate3__day': 15}"
      ]
     },
     "execution_count": 273,
     "metadata": {},
     "output_type": "execute_result"
    }
   ],
   "source": [
    "today.__dict__\n",
    "#세터하고 게터 위치 바뀌면 에러 난다."
   ]
  },
  {
   "cell_type": "markdown",
   "metadata": {},
   "source": [
    "## Todo \n",
    "- 제품 클래스 구현\n",
    "- 속성:   제품id: str  ,제품이름:str , 제품가격: int,  제조사 이름:str\n",
    "        정보은닉에 맞춰서 작성, 값을 대입/조회 하는 것은 변수처리 방식을 할 수 있도록.\n",
    "- 메소드 : 전체 정보를 출력하는 메소드\n",
    "\n",
    "메소드 : 세터 4개/게터 4개 . 전체정보 출력하는 메소드 1개\n",
    "\n"
   ]
  },
  {
   "cell_type": "code",
   "execution_count": null,
   "metadata": {},
   "outputs": [],
   "source": [
    "item = Item(\"id-1\",\"노트북\",300000,\"삼성')\n",
    "# id를 변경\n",
    "item.id = 'id-100'\n",
    "#id 조회\n",
    "print(item.id)"
   ]
  },
  {
   "cell_type": "code",
   "execution_count": null,
   "metadata": {},
   "outputs": [],
   "source": [
    "item.print_all_info()"
   ]
  },
  {
   "cell_type": "code",
   "execution_count": null,
   "metadata": {},
   "outputs": [],
   "source": [
    "- 제품 클래스 구현\n",
    "- 속성:   제품id: str  ,제품이름:str , 제품가격: int,  제조사 이름:str\n",
    "        정보은닉에 맞춰서 작성, 값을 대입/조회 하는 것은 변수처리 방식을 할 수 있도록.\n",
    "- 메소드 : 전체 정보를 출력하는 메소드\n",
    "\n",
    "메소드 : 세터 4개/게터 4개 . 전체정보 출력하는 메소드 1개\n"
   ]
  },
  {
   "cell_type": "code",
   "execution_count": 307,
   "metadata": {},
   "outputs": [],
   "source": [
    "class Item:\n",
    "   \n",
    "    def __init__(self, id, name, price, maker):\n",
    "        self.__id  = id\n",
    "        self.__name = name\n",
    "        self.__price = price\n",
    "        self.__maker = maker\n",
    "   \n",
    "    def print_info(self):\n",
    "        print(f'제품ID:{self.__id}, 제품명{self.__name},가격{self.__price},제조사{self.__maker}')\n",
    "        \n",
    "    @property    \n",
    "    def id(self):\n",
    "        return self.__id\n",
    "    @id.setter\n",
    "    def id(self,id):\n",
    "        self.__id = id\n",
    "        \n",
    "    @property    \n",
    "    def name(self):\n",
    "        return self.__name\n",
    "    @name.setter\n",
    "    def name(self,name):\n",
    "        self.__name = name\n",
    "    \n",
    "    @property    \n",
    "    def price(self):\n",
    "        return self.__price\n",
    "    @price.setter\n",
    "    def price(self,price):\n",
    "        self.__price = price\n",
    "        \n",
    "    @property    \n",
    "    def maker(self):\n",
    "        return self.__maker\n",
    "    @maker.setter\n",
    "    def maker(self,name):\n",
    "        self.__maker = maker\n",
    "        \n",
    "\n",
    "    \n",
    "    \n",
    "    \n",
    "    "
   ]
  },
  {
   "cell_type": "code",
   "execution_count": 308,
   "metadata": {},
   "outputs": [],
   "source": [
    "item=Item('daemin','note',30000,'apple')"
   ]
  },
  {
   "cell_type": "code",
   "execution_count": 309,
   "metadata": {},
   "outputs": [
    {
     "name": "stdout",
     "output_type": "stream",
     "text": [
      "제품ID:daemin, 제품명note,가격30000,제조사apple\n"
     ]
    }
   ],
   "source": [
    "item.print_info()"
   ]
  },
  {
   "cell_type": "code",
   "execution_count": 310,
   "metadata": {},
   "outputs": [],
   "source": [
    "item.price = 20000"
   ]
  },
  {
   "cell_type": "code",
   "execution_count": 314,
   "metadata": {},
   "outputs": [
    {
     "data": {
      "text/plain": [
       "'daemin'"
      ]
     },
     "execution_count": 314,
     "metadata": {},
     "output_type": "execute_result"
    }
   ],
   "source": [
    "item.id"
   ]
  },
  {
   "cell_type": "code",
   "execution_count": 313,
   "metadata": {},
   "outputs": [
    {
     "name": "stdout",
     "output_type": "stream",
     "text": [
      "제품ID:daemin, 제품명note,가격20000,제조사apple\n"
     ]
    }
   ],
   "source": [
    "item.print_info()"
   ]
  },
  {
   "cell_type": "code",
   "execution_count": null,
   "metadata": {},
   "outputs": [],
   "source": [
    "##강사님꺼\n",
    "\n",
    "class Item:\n",
    "    \n",
    "    def __init__(self, id, name, price, maker):\n",
    "        self.__id = id\n",
    "        self.__name = name\n",
    "        self.__price = price\n",
    "        self.__maker = maker\n",
    "        \n",
    "    def print_info(self):\n",
    "        print(f\"제품ID: {self.__id}, 제품명: {self.__name}, 가격: {self.__price}, 제조사: {self.__maker}\")\n",
    "        \n",
    "    #setter/getter\n",
    "    @property\n",
    "    def id(self):\n",
    "        return self.__id\n",
    "    @id.setter\n",
    "    def id(self, id):\n",
    "        self.__id = id\n",
    "        \n",
    "    @property\n",
    "    def name(self):\n",
    "        return self.__name\n",
    "    @name.setter\n",
    "    def name(self, name):\n",
    "        self.__name = name\n",
    "        \n",
    "    @property\n",
    "    def price(self):\n",
    "        return self.__price\n",
    "    @price.setter\n",
    "    def price(self, price):\n",
    "        self.__price = price\n",
    "        \n",
    "    @property\n",
    "    def maker(self):\n",
    "        return self.__maker\n",
    "    @maker.setter\n",
    "    def maker(self, maker):\n",
    "        self.__maker = maker\n"
   ]
  },
  {
   "cell_type": "markdown",
   "metadata": {},
   "source": [
    "## 상속   1/14\n",
    "-  기존 클래스를 확장해서 새로운 클래스를 구현하는 방식."
   ]
  },
  {
   "cell_type": "code",
   "execution_count": 352,
   "metadata": {},
   "outputs": [],
   "source": [
    "class Person:\n",
    "    \n",
    "    def eat(self):\n",
    "        print('사람이 먹는다.') #모든 하위클래스들에 적용될수 있는 구현 ==> 메소드의 구현이 추상적이다.\n",
    "        "
   ]
  },
  {
   "cell_type": "code",
   "execution_count": 353,
   "metadata": {},
   "outputs": [],
   "source": [
    "# eat(), study()\n",
    "# Person : 상위(super) 클래스\n",
    "# Student : 하위(sub) 클래스\n",
    "\n",
    "\n",
    "class Student(Person):\n",
    "    \n",
    "    def study(self):\n",
    "        print('학생이 공부한다.')"
   ]
  },
  {
   "cell_type": "code",
   "execution_count": 354,
   "metadata": {},
   "outputs": [],
   "source": [
    "class Teacher(Person):\n",
    "    def teach(self):\n",
    "        print('선생이 가르친다.')"
   ]
  },
  {
   "cell_type": "code",
   "execution_count": 355,
   "metadata": {},
   "outputs": [
    {
     "name": "stdout",
     "output_type": "stream",
     "text": [
      "학생이 공부한다.\n"
     ]
    }
   ],
   "source": [
    "s = Student()\n",
    "s.study()"
   ]
  },
  {
   "cell_type": "code",
   "execution_count": 356,
   "metadata": {},
   "outputs": [
    {
     "name": "stdout",
     "output_type": "stream",
     "text": [
      "사람이 먹는다.\n"
     ]
    }
   ],
   "source": [
    "s.eat()  #==> 상속받았기 때문에 펄슨에 있는 메소드가 구현된다."
   ]
  },
  {
   "cell_type": "code",
   "execution_count": 357,
   "metadata": {},
   "outputs": [
    {
     "name": "stdout",
     "output_type": "stream",
     "text": [
      "선생이 가르친다.\n",
      "사람이 먹는다.\n"
     ]
    }
   ],
   "source": [
    "t = Teacher()\n",
    "t.teach()\n",
    "t.eat()\n",
    "#t.study()  ==> 에러 남"
   ]
  },
  {
   "cell_type": "code",
   "execution_count": 360,
   "metadata": {},
   "outputs": [],
   "source": [
    "#상속받은 메소드를 하위클래스에서 재정의 할 수있다. - 메소드 오버라이딩(Method Overiding)\n",
    "#상위 클래스에 정의된 메소드는 추상적이므로 하위클래스에서 그 클래스가 해야하는 동작에 맞게 구현을 재정의 하는것\n",
    "class Student2(Person):\n",
    "    def eat(self):  # 재정의\n",
    "        print('학생이 먹는다.')\n",
    "    def study(self):\n",
    "        print('학생이 공부한다.')"
   ]
  },
  {
   "cell_type": "code",
   "execution_count": 361,
   "metadata": {},
   "outputs": [
    {
     "name": "stdout",
     "output_type": "stream",
     "text": [
      "학생이 공부한다.\n",
      "학생이 먹는다.\n"
     ]
    }
   ],
   "source": [
    "s2=Student2()\n",
    "s2.study()\n",
    "s2.eat() "
   ]
  },
  {
   "cell_type": "code",
   "execution_count": 447,
   "metadata": {},
   "outputs": [],
   "source": [
    "class Person:\n",
    "    \n",
    "    def __init__(self,name,age):\n",
    "        self.name = name\n",
    "        self.age= age\n",
    "    def eat(self):\n",
    "        print('f{self.name}님이 먹는다.')\n",
    "        \n",
    "    def get_info(self):\n",
    "        return f\"이름: {self.name}, 나이:{self.age}세\""
   ]
  },
  {
   "cell_type": "code",
   "execution_count": 448,
   "metadata": {},
   "outputs": [
    {
     "name": "stdout",
     "output_type": "stream",
     "text": [
      "f{self.name}님이 먹는다.\n",
      "이름: 김영수, 나이:20세\n"
     ]
    }
   ],
   "source": [
    "p = Person('김영수',20)\n",
    "p.eat()\n",
    "info = p.get_info()\n",
    "print(info)"
   ]
  },
  {
   "cell_type": "code",
   "execution_count": 450,
   "metadata": {},
   "outputs": [],
   "source": [
    "class Student(Person):\n",
    "    \n",
    "    def __init__(self, name, age, school_name):\n",
    "        #상위클래스(Person)의 객체에 name과 age 전달.\n",
    "        super().__init__(name,age)\n",
    "        \n",
    "        self.school_name = school_name #Student의 속성\n",
    "        \n",
    "    def study(self):\n",
    "        print(f'학생{self.name}이 공부한다.')\n",
    "        \n",
    "    def get_info(self):  # 같은 목적이니까 이름은 똑같이 쓰자\n",
    "        print(super().get_info()) # 실행된거 보려고 한거임 없어도됨\n",
    "        infor = super().get_info()+', 학교명: {}'.format(self.school_name)\n",
    "        return infor\n",
    "        # return f\"이름: {self.name}, 나이:{self.age}세 ,학교명:{self.school_name}\"  //\n",
    "        \n",
    "        \n",
    "    ## 하위 클래스 안에서 상위클래스 의 이닛이 필요할때 쓴다.두개의 객체를 묶어서// 위에것은 클래스 밖에서 새로운 객체를 만든것이다.\n",
    "    "
   ]
  },
  {
   "cell_type": "code",
   "execution_count": 440,
   "metadata": {},
   "outputs": [],
   "source": [
    "s=Student('박영철',15,'a중학교')"
   ]
  },
  {
   "cell_type": "code",
   "execution_count": 441,
   "metadata": {},
   "outputs": [
    {
     "name": "stdout",
     "output_type": "stream",
     "text": [
      "a중학교\n",
      "박영철 15\n"
     ]
    }
   ],
   "source": [
    "print(s.school_name)\n",
    "print(s.name,s.age)\n"
   ]
  },
  {
   "cell_type": "code",
   "execution_count": 442,
   "metadata": {},
   "outputs": [
    {
     "name": "stdout",
     "output_type": "stream",
     "text": [
      "학생박영철이 공부한다.\n"
     ]
    }
   ],
   "source": [
    "s.study()"
   ]
  },
  {
   "cell_type": "code",
   "execution_count": 443,
   "metadata": {},
   "outputs": [
    {
     "name": "stdout",
     "output_type": "stream",
     "text": [
      "이름: 박영철, 나이:15세\n",
      "이름: 박영철, 나이:15세, 학교명: a중학교\n"
     ]
    }
   ],
   "source": [
    "info = s.get_info()\n",
    "print(info)"
   ]
  },
  {
   "cell_type": "code",
   "execution_count": null,
   "metadata": {},
   "outputs": [],
   "source": []
  },
  {
   "cell_type": "code",
   "execution_count": null,
   "metadata": {},
   "outputs": [],
   "source": []
  },
  {
   "cell_type": "code",
   "execution_count": null,
   "metadata": {},
   "outputs": [],
   "source": []
  },
  {
   "cell_type": "code",
   "execution_count": 444,
   "metadata": {},
   "outputs": [],
   "source": [
    "s2=Student('박학생',13,'B중학교')"
   ]
  },
  {
   "cell_type": "code",
   "execution_count": 445,
   "metadata": {},
   "outputs": [
    {
     "name": "stdout",
     "output_type": "stream",
     "text": [
      "B중학교\n",
      "박학생 15\n"
     ]
    }
   ],
   "source": [
    "print(s2.school_name)\n",
    "print(s2.name,s.age)\n"
   ]
  },
  {
   "cell_type": "code",
   "execution_count": null,
   "metadata": {},
   "outputs": [],
   "source": [
    "#클래스이름() - stuudent('aa',20,\"aaa\") : 객체생성\n",
    "\n",
    "1. 객체를 만든다.\n",
    " 상속: 상위 하위 클래스의 객체를 모두 생성 - 상속으로 묶인다.\n",
    "2. 생성자 호출(__init__)\n",
    "    상속: super().__init__()을 이용해 하위클래스의 생성자에서 상위클래스의 생성자를 호출할 수있다."
   ]
  },
  {
   "cell_type": "markdown",
   "metadata": {},
   "source": [
    "## 다중상속\n",
    " - 여러 클래스를 상속받는것\n",
    " - MRO (Method Resolution Order): 호출된 메소드를 찾는 순서\n",
    "     1. 자기 자신\n",
    "     2. 상위클래스: 상속시 먼저 선언된 클래스 순서로 메소드를 찾는다(왼쪽-->오른쪽)"
   ]
  },
  {
   "cell_type": "code",
   "execution_count": 419,
   "metadata": {},
   "outputs": [],
   "source": [
    "class Printer:\n",
    "    def print(self):\n",
    "        print('프린트 한다.')\n",
    "        \n",
    "    def test(self):\n",
    "        print('프린트기능 테스트')\n",
    "class Saver:\n",
    "    def save(self):\n",
    "        print('저장한다.')\n",
    "    \n",
    "    def test(self):\n",
    "        print('저장 테스트')"
   ]
  },
  {
   "cell_type": "code",
   "execution_count": 420,
   "metadata": {},
   "outputs": [],
   "source": [
    "class WordProcessor(Printer,Saver):\n",
    "    #class WordProcessor(Saver,Printer): saver 먼저 찾는다.\n",
    "    \n",
    "    def write (self):\n",
    "        print('글을 작성한다.')\n",
    "        \n",
    "#   def test(self):\n",
    "#       print('워드를 테스트 한다.')"
   ]
  },
  {
   "cell_type": "code",
   "execution_count": 421,
   "metadata": {},
   "outputs": [
    {
     "name": "stdout",
     "output_type": "stream",
     "text": [
      "글을 작성한다.\n",
      "프린트 한다.\n",
      "저장한다.\n"
     ]
    }
   ],
   "source": [
    "wp = WordProcessor() #WordProcessor\n",
    "wp.write() #WordProcessor\n",
    "wp.print() #Printer\n",
    "wp.save()  #Saver"
   ]
  },
  {
   "cell_type": "code",
   "execution_count": 430,
   "metadata": {},
   "outputs": [],
   "source": [
    "wp = WordProcessor()"
   ]
  },
  {
   "cell_type": "code",
   "execution_count": 433,
   "metadata": {},
   "outputs": [
    {
     "data": {
      "text/plain": [
       "True"
      ]
     },
     "execution_count": 433,
     "metadata": {},
     "output_type": "execute_result"
    }
   ],
   "source": [
    "isinstance(wp,WordProcessor)\n",
    "# 객체의 타입을 물어보는 메소드 , 객체 타입:생성할때 사용한 클래스, 상속관계에서는 상위클래스도 포함"
   ]
  },
  {
   "cell_type": "code",
   "execution_count": 435,
   "metadata": {},
   "outputs": [
    {
     "data": {
      "text/plain": [
       "(True, True)"
      ]
     },
     "execution_count": 435,
     "metadata": {},
     "output_type": "execute_result"
    }
   ],
   "source": [
    "isinstance(wp,Saver),isinstance(wp,Printer)  # 사진 그림 보기  ==> 프린터 타입이냐?/세이버 타입이냐?// 세이버,프린트를 상속받았고 이 두개가 상위개념(super) 이기때문에"
   ]
  },
  {
   "cell_type": "code",
   "execution_count": 422,
   "metadata": {},
   "outputs": [
    {
     "name": "stdout",
     "output_type": "stream",
     "text": [
      "프린트기능 테스트\n"
     ]
    }
   ],
   "source": [
    "wp.test()  #"
   ]
  },
  {
   "cell_type": "markdown",
   "metadata": {},
   "source": [
    "## 상속 / 객체관련 메소드,변수"
   ]
  },
  {
   "cell_type": "code",
   "execution_count": null,
   "metadata": {},
   "outputs": [],
   "source": [
    "#isinstance(객체, 클래스) - 객체가 클래스로부터 생성되었는지 여부"
   ]
  },
  {
   "cell_type": "code",
   "execution_count": 423,
   "metadata": {},
   "outputs": [
    {
     "data": {
      "text/plain": [
       "True"
      ]
     },
     "execution_count": 423,
     "metadata": {},
     "output_type": "execute_result"
    }
   ],
   "source": [
    "isinstance('abc',str) # str 클래스로 부터 만들어진 객체인가? abc가"
   ]
  },
  {
   "cell_type": "code",
   "execution_count": 426,
   "metadata": {},
   "outputs": [
    {
     "data": {
      "text/plain": [
       "(False, False)"
      ]
     },
     "execution_count": 426,
     "metadata": {},
     "output_type": "execute_result"
    }
   ],
   "source": [
    "isinstance('abc',int) ,isinstance(70,str)"
   ]
  },
  {
   "cell_type": "code",
   "execution_count": 428,
   "metadata": {},
   "outputs": [],
   "source": [
    "def test(var): # 매개변수 var의 타입이 int 여야만할때\n",
    "    #if isinstance(var,int):\n",
    "    if type(var) == int:\n",
    "        print(var + 20)\n",
    "    \n",
    "    else:\n",
    "        print('정수만 가능')"
   ]
  },
  {
   "cell_type": "code",
   "execution_count": 429,
   "metadata": {},
   "outputs": [
    {
     "name": "stdout",
     "output_type": "stream",
     "text": [
      "30\n"
     ]
    }
   ],
   "source": [
    "test(10)"
   ]
  },
  {
   "cell_type": "code",
   "execution_count": null,
   "metadata": {},
   "outputs": [],
   "source": []
  },
  {
   "cell_type": "code",
   "execution_count": null,
   "metadata": {},
   "outputs": [],
   "source": [
    "#객체.__dict__: 객체의 속성정보를 딕셔너리로 반환( 키 -  속성명,, 밸류 - 속성값)// 객체 변환==> 딕셔너리"
   ]
  },
  {
   "cell_type": "code",
   "execution_count": 454,
   "metadata": {},
   "outputs": [
    {
     "data": {
      "text/plain": [
       "{'name': '박영철', 'age': 15, 'school_name': 'a중학교'}"
      ]
     },
     "execution_count": 454,
     "metadata": {},
     "output_type": "execute_result"
    }
   ],
   "source": [
    "s.__dict__  #상위객체/하위객체의 속성을 모두 넣어서 변환"
   ]
  },
  {
   "cell_type": "code",
   "execution_count": 455,
   "metadata": {},
   "outputs": [
    {
     "data": {
      "text/plain": [
       "__main__.Student"
      ]
     },
     "execution_count": 455,
     "metadata": {},
     "output_type": "execute_result"
    }
   ],
   "source": [
    "s.__class__                  # __main__.Student  모듈.클래스 이름 반환해준다."
   ]
  },
  {
   "cell_type": "code",
   "execution_count": null,
   "metadata": {},
   "outputs": [],
   "source": []
  },
  {
   "cell_type": "code",
   "execution_count": 3,
   "metadata": {},
   "outputs": [],
   "source": [
    "class Person:\n",
    "    \n",
    "    def __init__ (self, name , age):\n",
    "        self.name = name\n",
    "        self.age = age\n",
    "    \n",
    "    def __str__(self):  # 중요\n",
    "        \"\"\"\n",
    "        객체를 문자열로 변환하는 메소드\n",
    "        내장함수 str(객체)과 연동\n",
    "        [반환값]\n",
    "         str : 객체의 정보(데이터) -> 전체  instance 변수들을 문자열로 반환 (하나로 묶어서)\n",
    "        \"\"\"\n",
    "        \n",
    "        return f\"이름: {self.name}, 나이 :{self.age}\"\n",
    "    \n",
    "    def __repr__(self):\n",
    "        \n",
    "        \"\"\"\n",
    "        객체를 표현하는 표현식을 문자열로 만들어 변환.\n",
    "        내장함수 repr(객체)와 연동\n",
    "        [반환값] \n",
    "         str: 객체를 생성했던 코드를 문자열을 반환\n",
    "         \n",
    "        \"\"\"\n",
    "        \n",
    "        return f'Person(\"{self.name}\",{self.age})'  #  객체가 만들어졌던 코드를 문자열로 반환  Person(\"홍길동\",20) 이것을 문자열로\n",
    "    \n",
    "    def __eq__(self, other):  #중요\n",
    "        \"\"\"\n",
    "        == 연산자를 재정의. 객체의 인스턴스 변수들의 값이 같으면 트루가 나오도록 재정의\n",
    "         객체1 == 객체2            self: 객체1  other:객체2\n",
    "        \"\"\"\n",
    "        result = False\n",
    "        if isinstance (other, Person):\n",
    "            if self.name == other.name and self.age==other.age:\n",
    "                result = True\n",
    "        return result\n",
    "        \n",
    "    def __gt__(self, other):\n",
    "        '''\n",
    "        > 연산자 재정의\n",
    "        객체1>객체2:   self:객체1/ other :객체2\n",
    "        '''\n",
    "        result = False\n",
    "        if isinstance(other,Person):\n",
    "            if self.age> other.age:\n",
    "                result = True\n",
    "        return result\n",
    "        \n",
    "        \n",
    "# __lt__(self,other) :  self < other\n",
    "#__ge__(self,other)  :  (self>=other)\n",
    "#__le__(self,other)  : (self<=other)\n",
    "#__ne__(self,other)  : (self!=other)\n",
    "    def __add__(self,other):\n",
    "        '''\n",
    "        + 연산을 재정의 \n",
    "        객체1 +객체1\n",
    "        \n",
    "        '''\n",
    "        #정수를 받아서 나이와 더한값을 반환\n",
    "        result =  None\n",
    "        if isinstance(other,int):\n",
    "            result = self.age + other\n",
    "        elif isinstance(other,Person):\n",
    "            result = self.age + other.age\n",
    "        return result\n",
    "    \n",
    "#__sub__(self,other):(self-other)\n",
    "#__mul__(self,other):(self*other)\n",
    "#__truediv__(self,other):(self/other)\n",
    "#__floordiv__(self,other):(self//other 나누기의몫)\n",
    "#__mod__(self,other):(self%other 나머지 연산) \n"
   ]
  },
  {
   "cell_type": "code",
   "execution_count": 543,
   "metadata": {},
   "outputs": [],
   "source": [
    "p1 = Person('g홍길동',20) # self\n",
    "p2 = Person('g홍동',10)   # other"
   ]
  },
  {
   "cell_type": "code",
   "execution_count": 544,
   "metadata": {},
   "outputs": [
    {
     "data": {
      "text/plain": [
       "True"
      ]
     },
     "execution_count": 544,
     "metadata": {},
     "output_type": "execute_result"
    }
   ],
   "source": [
    "p1 > p2"
   ]
  },
  {
   "cell_type": "code",
   "execution_count": 545,
   "metadata": {},
   "outputs": [
    {
     "data": {
      "text/plain": [
       "40"
      ]
     },
     "execution_count": 545,
     "metadata": {},
     "output_type": "execute_result"
    }
   ],
   "source": [
    "p1 + 20"
   ]
  },
  {
   "cell_type": "code",
   "execution_count": 546,
   "metadata": {},
   "outputs": [
    {
     "data": {
      "text/plain": [
       "30"
      ]
     },
     "execution_count": 546,
     "metadata": {},
     "output_type": "execute_result"
    }
   ],
   "source": [
    "p1+p2"
   ]
  },
  {
   "cell_type": "code",
   "execution_count": null,
   "metadata": {},
   "outputs": [],
   "source": []
  },
  {
   "cell_type": "code",
   "execution_count": null,
   "metadata": {},
   "outputs": [],
   "source": []
  },
  {
   "cell_type": "code",
   "execution_count": 509,
   "metadata": {},
   "outputs": [],
   "source": [
    "#eval 은 변수 "
   ]
  },
  {
   "cell_type": "code",
   "execution_count": 510,
   "metadata": {},
   "outputs": [],
   "source": [
    "p = Person(\"홍길동\",20)\n",
    "p2 = Person(\"영수\",50)"
   ]
  },
  {
   "cell_type": "code",
   "execution_count": 511,
   "metadata": {},
   "outputs": [
    {
     "name": "stdout",
     "output_type": "stream",
     "text": [
      "Person(\"홍길동\",20)\n"
     ]
    }
   ],
   "source": [
    "r = repr(p) #p.__repr\n",
    "print(r)"
   ]
  },
  {
   "cell_type": "code",
   "execution_count": 512,
   "metadata": {},
   "outputs": [
    {
     "ename": "AttributeError",
     "evalue": "'str' object has no attribute 'name'",
     "output_type": "error",
     "traceback": [
      "\u001b[1;31m---------------------------------------------------------------------------\u001b[0m",
      "\u001b[1;31mAttributeError\u001b[0m                            Traceback (most recent call last)",
      "\u001b[1;32m<ipython-input-512-01d0c1e8c8d3>\u001b[0m in \u001b[0;36m<module>\u001b[1;34m\u001b[0m\n\u001b[1;32m----> 1\u001b[1;33m \u001b[0mr\u001b[0m\u001b[1;33m.\u001b[0m\u001b[0mname\u001b[0m\u001b[1;33m\u001b[0m\u001b[1;33m\u001b[0m\u001b[0m\n\u001b[0m",
      "\u001b[1;31mAttributeError\u001b[0m: 'str' object has no attribute 'name'"
     ]
    }
   ],
   "source": [
    "r.name"
   ]
  },
  {
   "cell_type": "code",
   "execution_count": 513,
   "metadata": {},
   "outputs": [
    {
     "data": {
      "text/plain": [
       "2"
      ]
     },
     "execution_count": 513,
     "metadata": {},
     "output_type": "execute_result"
    }
   ],
   "source": [
    "eval('1+1') # eval ('파이썬 코드') : 파이썬코드로 실행"
   ]
  },
  {
   "cell_type": "code",
   "execution_count": 490,
   "metadata": {},
   "outputs": [
    {
     "data": {
      "text/plain": [
       "'홍길동'"
      ]
     },
     "execution_count": 490,
     "metadata": {},
     "output_type": "execute_result"
    }
   ],
   "source": [
    "#'Person('홍길동,30')' 문자열이 파이썬코드로 실행=> Person 객체 생성\n",
    "a= eval(r)  # eval(문자열) : 문자열을 코드로 평가해서 실행\n",
    "a.name"
   ]
  },
  {
   "cell_type": "code",
   "execution_count": null,
   "metadata": {},
   "outputs": [],
   "source": []
  },
  {
   "cell_type": "code",
   "execution_count": 4,
   "metadata": {},
   "outputs": [],
   "source": [
    "p = Person(\"홍길동\",20)\n",
    "#== 인스턴스 값을 한번에 확인할때ㅐ 쓴다."
   ]
  },
  {
   "cell_type": "code",
   "execution_count": 5,
   "metadata": {},
   "outputs": [
    {
     "name": "stdout",
     "output_type": "stream",
     "text": [
      "이름: 홍길동, 나이 :20\n"
     ]
    }
   ],
   "source": [
    "print(p)   #===>  p.__str__ 함수가 연동되서 실행됐다"
   ]
  },
  {
   "cell_type": "code",
   "execution_count": 481,
   "metadata": {},
   "outputs": [
    {
     "name": "stdout",
     "output_type": "stream",
     "text": [
      "이름: 홍길동, 나이 :20\n"
     ]
    }
   ],
   "source": [
    "s = str(p)\n",
    "print(s) # person 객체 'p'를 문자열 => __str__()  // f\"이름: {self.name}, 나이 :{self.age}\"  ==>인스턴스 변수를 문자열로 바꾼다"
   ]
  },
  {
   "cell_type": "code",
   "execution_count": null,
   "metadata": {},
   "outputs": [],
   "source": []
  },
  {
   "cell_type": "code",
   "execution_count": 518,
   "metadata": {},
   "outputs": [],
   "source": [
    "p1 = Person('g홍길동',20)\n",
    "p2 = Person('g홍길동',20)\n",
    "p3=p1"
   ]
  },
  {
   "cell_type": "code",
   "execution_count": 519,
   "metadata": {},
   "outputs": [
    {
     "data": {
      "text/plain": [
       "True"
      ]
     },
     "execution_count": 519,
     "metadata": {},
     "output_type": "execute_result"
    }
   ],
   "source": [
    "p1 == p2 #객체 == 객체 (둘이 동일한 객체인지?)  값은 같지만 같은 객체가 아님 "
   ]
  },
  {
   "cell_type": "code",
   "execution_count": 520,
   "metadata": {},
   "outputs": [
    {
     "data": {
      "text/plain": [
       "True"
      ]
     },
     "execution_count": 520,
     "metadata": {},
     "output_type": "execute_result"
    }
   ],
   "source": [
    "p1 == p2"
   ]
  },
  {
   "cell_type": "code",
   "execution_count": 496,
   "metadata": {},
   "outputs": [
    {
     "data": {
      "text/plain": [
       "True"
      ]
     },
     "execution_count": 496,
     "metadata": {},
     "output_type": "execute_result"
    }
   ],
   "source": [
    "p1 != p2"
   ]
  },
  {
   "cell_type": "code",
   "execution_count": 497,
   "metadata": {},
   "outputs": [
    {
     "data": {
      "text/plain": [
       "True"
      ]
     },
     "execution_count": 497,
     "metadata": {},
     "output_type": "execute_result"
    }
   ],
   "source": [
    "p3==p1  #p3=p1 니까 같은 객체 // "
   ]
  },
  {
   "cell_type": "markdown",
   "metadata": {},
   "source": [
    "## 1월 15일\n"
   ]
  },
  {
   "cell_type": "markdown",
   "metadata": {},
   "source": [
    "## 클래스변수, 클래스 메소드\n",
    "- 클래스 변수: 클래스 자체의 변수(속성,데이터) , 클래스 메소드 :클래스 변수를 처리하는 메소드\n",
    "    -instance(객체) 와는 관계없다.\n",
    "   \n",
    "## 정적메소드\n",
    " - 클래스의 기능을 제공하는 메소드\n",
    " - 클래스 변수를 처리하는 일을 하지 ㅇㄶ는다."
   ]
  },
  {
   "cell_type": "code",
   "execution_count": 1,
   "metadata": {},
   "outputs": [],
   "source": [
    "class Calculator:\n",
    "    '''다양한 연산을 하는 메소드들을 묶어놓은 클래스'''\n",
    "    # 클래스 변수: PI\n",
    "    PI = 3.14  #==> 클래스 변수 만든것임\n",
    "    \n",
    "   \n",
    "    # 반지름을 받아서 원의 너비를 구하는 메소드 \n",
    "    @classmethod\n",
    "    def circleArea(clazz, radius):  # clazz는 클래스(여기서는 칼큘래이터) 를 가르킴\n",
    "        result = radius * radius* clazz.PI # 클래스 변수 호출하는 것임 \n",
    "        return result\n",
    "    @staticmethod  #일반적 함수를 클래스에 넣었다고 이해하면됨 ,, 클래스나 다른 변수와 상관없는 역할을 하니까 독립적인 역할\n",
    "    def plus(*args): #가변인자\n",
    "    \n",
    "        return sum(args)\n",
    "    @staticmethod\n",
    "    def minus(n1,n2):\n",
    "        #print(Calculator.PI) --> 스테틱 메소드에서 클래스 변수에 접근하고 싶은경우 -->클래스 메소드로 만드는 것이 맞다. \n",
    "                                  #클래스메소드는 클래스 변수를 이용하여 처리하니까\n",
    "        return n1-n2"
   ]
  },
  {
   "cell_type": "code",
   "execution_count": 2,
   "metadata": {},
   "outputs": [
    {
     "data": {
      "text/plain": [
       "3.14"
      ]
     },
     "execution_count": 2,
     "metadata": {},
     "output_type": "execute_result"
    }
   ],
   "source": [
    "Calculator.PI  # 클래스 변수/메소드 호출 : 클래스이름.변수명,  // 클래스이름.메소드()"
   ]
  },
  {
   "cell_type": "code",
   "execution_count": 3,
   "metadata": {},
   "outputs": [
    {
     "data": {
      "text/plain": [
       "314.0"
      ]
     },
     "execution_count": 3,
     "metadata": {},
     "output_type": "execute_result"
    }
   ],
   "source": [
    "Calculator.circleArea(10)"
   ]
  },
  {
   "cell_type": "code",
   "execution_count": 12,
   "metadata": {},
   "outputs": [
    {
     "data": {
      "text/plain": [
       "6"
      ]
     },
     "execution_count": 12,
     "metadata": {},
     "output_type": "execute_result"
    }
   ],
   "source": [
    "Calculator.plus(1,2,3,)  #스텍틱 메소드 호출 : 클래스 이름. 메소드()"
   ]
  },
  {
   "cell_type": "code",
   "execution_count": 18,
   "metadata": {},
   "outputs": [
    {
     "data": {
      "text/plain": [
       "3"
      ]
     },
     "execution_count": 18,
     "metadata": {},
     "output_type": "execute_result"
    }
   ],
   "source": [
    "Calculator.minus(5,2)"
   ]
  },
  {
   "cell_type": "code",
   "execution_count": null,
   "metadata": {},
   "outputs": [],
   "source": []
  },
  {
   "cell_type": "code",
   "execution_count": null,
   "metadata": {},
   "outputs": [],
   "source": []
  },
  {
   "cell_type": "code",
   "execution_count": null,
   "metadata": {},
   "outputs": [],
   "source": []
  },
  {
   "cell_type": "code",
   "execution_count": null,
   "metadata": {},
   "outputs": [],
   "source": []
  },
  {
   "cell_type": "code",
   "execution_count": null,
   "metadata": {},
   "outputs": [],
   "source": []
  },
  {
   "cell_type": "code",
   "execution_count": null,
   "metadata": {},
   "outputs": [],
   "source": []
  },
  {
   "cell_type": "code",
   "execution_count": null,
   "metadata": {},
   "outputs": [],
   "source": []
  },
  {
   "cell_type": "code",
   "execution_count": null,
   "metadata": {},
   "outputs": [],
   "source": []
  },
  {
   "cell_type": "code",
   "execution_count": null,
   "metadata": {},
   "outputs": [],
   "source": []
  },
  {
   "cell_type": "code",
   "execution_count": null,
   "metadata": {},
   "outputs": [],
   "source": []
  },
  {
   "cell_type": "code",
   "execution_count": null,
   "metadata": {},
   "outputs": [],
   "source": []
  },
  {
   "cell_type": "code",
   "execution_count": null,
   "metadata": {},
   "outputs": [],
   "source": []
  },
  {
   "cell_type": "code",
   "execution_count": null,
   "metadata": {},
   "outputs": [],
   "source": []
  },
  {
   "cell_type": "code",
   "execution_count": null,
   "metadata": {},
   "outputs": [],
   "source": []
  },
  {
   "cell_type": "code",
   "execution_count": null,
   "metadata": {},
   "outputs": [],
   "source": []
  },
  {
   "cell_type": "code",
   "execution_count": null,
   "metadata": {},
   "outputs": [],
   "source": []
  },
  {
   "cell_type": "code",
   "execution_count": null,
   "metadata": {},
   "outputs": [],
   "source": []
  },
  {
   "cell_type": "code",
   "execution_count": null,
   "metadata": {},
   "outputs": [],
   "source": []
  },
  {
   "cell_type": "code",
   "execution_count": null,
   "metadata": {},
   "outputs": [],
   "source": []
  },
  {
   "cell_type": "code",
   "execution_count": null,
   "metadata": {},
   "outputs": [],
   "source": []
  },
  {
   "cell_type": "code",
   "execution_count": null,
   "metadata": {},
   "outputs": [],
   "source": []
  },
  {
   "cell_type": "code",
   "execution_count": null,
   "metadata": {},
   "outputs": [],
   "source": []
  },
  {
   "cell_type": "code",
   "execution_count": null,
   "metadata": {},
   "outputs": [],
   "source": []
  },
  {
   "cell_type": "code",
   "execution_count": null,
   "metadata": {},
   "outputs": [],
   "source": []
  },
  {
   "cell_type": "code",
   "execution_count": null,
   "metadata": {},
   "outputs": [],
   "source": []
  },
  {
   "cell_type": "code",
   "execution_count": null,
   "metadata": {},
   "outputs": [],
   "source": []
  },
  {
   "cell_type": "code",
   "execution_count": null,
   "metadata": {},
   "outputs": [],
   "source": []
  },
  {
   "cell_type": "code",
   "execution_count": null,
   "metadata": {},
   "outputs": [],
   "source": []
  },
  {
   "cell_type": "code",
   "execution_count": null,
   "metadata": {},
   "outputs": [],
   "source": []
  },
  {
   "cell_type": "code",
   "execution_count": null,
   "metadata": {},
   "outputs": [],
   "source": []
  },
  {
   "cell_type": "code",
   "execution_count": null,
   "metadata": {},
   "outputs": [],
   "source": []
  },
  {
   "cell_type": "code",
   "execution_count": null,
   "metadata": {},
   "outputs": [],
   "source": []
  },
  {
   "cell_type": "code",
   "execution_count": null,
   "metadata": {},
   "outputs": [],
   "source": []
  },
  {
   "cell_type": "code",
   "execution_count": null,
   "metadata": {},
   "outputs": [],
   "source": []
  },
  {
   "cell_type": "code",
   "execution_count": null,
   "metadata": {},
   "outputs": [],
   "source": []
  },
  {
   "cell_type": "code",
   "execution_count": null,
   "metadata": {},
   "outputs": [],
   "source": []
  },
  {
   "cell_type": "code",
   "execution_count": null,
   "metadata": {},
   "outputs": [],
   "source": []
  },
  {
   "cell_type": "code",
   "execution_count": null,
   "metadata": {},
   "outputs": [],
   "source": []
  },
  {
   "cell_type": "code",
   "execution_count": null,
   "metadata": {},
   "outputs": [],
   "source": []
  },
  {
   "cell_type": "code",
   "execution_count": null,
   "metadata": {},
   "outputs": [],
   "source": []
  },
  {
   "cell_type": "code",
   "execution_count": null,
   "metadata": {},
   "outputs": [],
   "source": []
  },
  {
   "cell_type": "code",
   "execution_count": null,
   "metadata": {},
   "outputs": [],
   "source": []
  },
  {
   "cell_type": "code",
   "execution_count": null,
   "metadata": {},
   "outputs": [],
   "source": []
  },
  {
   "cell_type": "code",
   "execution_count": null,
   "metadata": {},
   "outputs": [],
   "source": []
  },
  {
   "cell_type": "code",
   "execution_count": null,
   "metadata": {},
   "outputs": [],
   "source": []
  },
  {
   "cell_type": "code",
   "execution_count": null,
   "metadata": {},
   "outputs": [],
   "source": []
  },
  {
   "cell_type": "code",
   "execution_count": null,
   "metadata": {},
   "outputs": [],
   "source": []
  },
  {
   "cell_type": "code",
   "execution_count": null,
   "metadata": {},
   "outputs": [],
   "source": []
  },
  {
   "cell_type": "code",
   "execution_count": null,
   "metadata": {},
   "outputs": [],
   "source": []
  }
 ],
 "metadata": {
  "kernelspec": {
   "display_name": "Python 3",
   "language": "python",
   "name": "python3"
  },
  "language_info": {
   "codemirror_mode": {
    "name": "ipython",
    "version": 3
   },
   "file_extension": ".py",
   "mimetype": "text/x-python",
   "name": "python",
   "nbconvert_exporter": "python",
   "pygments_lexer": "ipython3",
   "version": "3.8.5"
  }
 },
 "nbformat": 4,
 "nbformat_minor": 4
}
