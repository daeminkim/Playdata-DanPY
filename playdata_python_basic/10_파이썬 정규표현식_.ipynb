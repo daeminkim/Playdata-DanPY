{
 "cells": [
  {
   "cell_type": "code",
   "execution_count": 1,
   "metadata": {},
   "outputs": [
    {
     "data": {
      "text/plain": [
       "False"
      ]
     },
     "execution_count": 1,
     "metadata": {},
     "output_type": "execute_result"
    }
   ],
   "source": [
    "tel =  '010-222-2342' # 2222\n",
    "'2222'in tel"
   ]
  },
  {
   "cell_type": "code",
   "execution_count": 3,
   "metadata": {},
   "outputs": [
    {
     "data": {
      "text/plain": [
       "'010-###-2342'"
      ]
     },
     "execution_count": 3,
     "metadata": {},
     "output_type": "execute_result"
    }
   ],
   "source": [
    "#222 => ###\n",
    "\n",
    "tel.replace('222','###')"
   ]
  },
  {
   "cell_type": "code",
   "execution_count": null,
   "metadata": {},
   "outputs": [],
   "source": []
  },
  {
   "cell_type": "markdown",
   "metadata": {
    "slideshow": {
     "slide_type": "slide"
    }
   },
   "source": [
    "# <font size=50>정규 표현식 (Regular Expression)</font>"
   ]
  },
  {
   "cell_type": "markdown",
   "metadata": {
    "slideshow": {
     "slide_type": "slide"
    }
   },
   "source": [
    "# 1. 정규 표현식(Regular Expression) 개요"
   ]
  },
  {
   "cell_type": "markdown",
   "metadata": {
    "slideshow": {
     "slide_type": "subslide"
    }
   },
   "source": [
    "## 1.1. 정규 표현식이란\n",
    "- 텍스트에서 특정한 형태나 규칙을 가지는 문자열을 찾기 위해 그 형태나 규칙을 정의하는 것.\n",
    "- 파이썬 뿐만 아니라 문자열을 다루는 모든 곳에서 사용된다.\n",
    "- **정규식, Regexp**이라고도 한다."
   ]
  },
  {
   "cell_type": "markdown",
   "metadata": {
    "slideshow": {
     "slide_type": "fragment"
    }
   },
   "source": [
    "## 1.2. 기본개념\n",
    "- 패턴 \n",
    "    - 정규 표현식이라고 한다.\n",
    "    - 문장내에서 찾기위한 문구의 형태에 대한 표현식.\n",
    "- 메타문자\n",
    "    - 패턴을 기술하기 위해 사용되는 특별한 의미를 가지는 문자\n",
    "    - 예) `a*` : a가 0회 이상 반복을 뜻한다. a, aa, aaaa\n",
    "- 리터럴\n",
    "    - 표현식이 값 자체를 의미하는 것\n",
    "    - 예) `a`는 `a` 자체를 의미한다.    "
   ]
  },
  {
   "cell_type": "code",
   "execution_count": null,
   "metadata": {},
   "outputs": [],
   "source": [
    "#정규표현식 문법 익히고 많이 읽어보고(구글링 통해서 이미 만들어진 ) 작성해보고 공부하기 "
   ]
  },
  {
   "cell_type": "code",
   "execution_count": null,
   "metadata": {},
   "outputs": [],
   "source": [
    "#'a*' : 정규표현식\n",
    "#a: 리터럴 찾으려는 문자 'a'\n",
    "#    \n",
    "#*: 메타문자  찾으려는 문자가 0회 이사 반복한거  a ///aaaa/aaaaaa 다 가능 띠"
   ]
  },
  {
   "cell_type": "markdown",
   "metadata": {
    "slideshow": {
     "slide_type": "slide"
    }
   },
   "source": [
    "# 2. 정규 표현식 메타 문자\n",
    "- 패턴을 기술하기 위한 문자"
   ]
  },
  {
   "cell_type": "markdown",
   "metadata": {
    "slideshow": {
     "slide_type": "subslide"
    }
   },
   "source": [
    "## 2.1 문자 클래스 :  [  ]\n",
    "- `[ ]` 사이의 문자들과 매칭\n",
    "    - `[abc]` : a, b, c 중 **하나의 문자**와 매치\n",
    "- `-`를 이용해 범위로 설정할 수 있다.\n",
    "    - `[a-z]` : 알파벳소문자중 하나의 문자와 매치  // 한글 \"[가-힣]\" 한글 전체 \n",
    "    - `[a-zA-Z0-9]` : 알파벳대소문자와 숫자 중 하나의 문자와 매치\n",
    "- `[^패턴]` : ^ 으로 시작하는 경우 반대의 의미\n",
    "    - `[^abc]` : a, b, c를 제외한 나머지 문자들 중 하나와 매치.\n",
    "    - `[^a-z]` : 알파벳 소문자를 제외한 나머지 문자들 중 하나와 매치/// 문자클래스[대괄호] 밖에서 쓰일때는 의미가 다르다. \n",
    "    \n",
    "    ^ 문자열의 시작 (^abc) // abc 로시작/ 대괄호로 쓸때와 비교하기 //\n",
    "     문자 클래스([ ])의 ^와는 의미가 다르다."
   ]
  },
  {
   "cell_type": "markdown",
   "metadata": {
    "slideshow": {
     "slide_type": "subslide"
    }
   },
   "source": [
    "## 2.2 미리 정의된 문자 클래스\n",
    "- 자주 사용되는 문자클래스를 미리 정의된 별도 표기법으로 제공한다.\n",
    "- `\\d` : 숫자와 매치. [0-9]와 동일\n",
    "- `\\D` : `\\d`의 반대. 숫자가 아닌 문자와 매치.  [^0-9]와 동일\n",
    "- `\\w` : 문자와 숫자, _(underscore)와 매치. `[a-zA-Z0-9_]`와 동일  한글등 다국어문자 포함\n",
    "- `\\W` : `\\w`의 반대. 문자와 숫자와 _ 가 아닌 문자와 매치.  `[^a-zA-Z0-9_]`와 동일\n",
    "- `\\s` : 공백문자와 매치. tab,줄바꿈,공백문자와 일치\n",
    "- `\\S` : `\\s`와 반대. 공백을 제외한 문자열과 매치.\n",
    "- `\\b` : 단어 경계(word boundary) 표시. 보통 단어 경계로 공백을 의미\n",
    "    - `\\b가족\\b` => 우리 가족 만세(O), 우리가족만세 (X)\n",
    "- `\\B` : `\\b`의 반대. 단어 경계로 구분된 단어가 아닌 경우\n",
    "    - `\\B가족\\B` => 우리 가족 만세(X), 우리가족만세 (O)"
   ]
  },
  {
   "cell_type": "markdown",
   "metadata": {
    "slideshow": {
     "slide_type": "subslide"
    }
   },
   "source": [
    "## 2.3. 글자수와 관련된 메타문자\n",
    "- `.` : 한개의 모든 문자(\\n-줄바꿈 제외) (`a.b`)   ==> ab 가 앞뒤에 있는 세글자를 찾는다. //a3b, akb,a\\tb  // 엔터만  포함안한다.  ab (x) ,a\\nb (x)\n",
    "- `*` : 앞의 문자(패턴)과 일치하는 문자가 0개 이상인 경우. (`a*b`) 앞에 있는 'a' 가 0개 이상 오는 경우 // \"b\" 만 있어도 오케이 0글자니까\n",
    "- `+` : 앞의 문자(패턴)과 일치하는 문자가 1개이상인 경우.  (`a+b`)                 1개 이상 오는 경우//\"b\" 만 있으면 안됨\n",
    "- `?` :  앞의 문자(패턴)과 일치하는 문자가 한개 있거나 없는 경우. (`a?b`)          1개 또는 없는겨ㅕㅇ우// \"b\" 오케이 // \"ab\"오케이  이거 두개만 오케이//aab (x)안됨\n",
    "- `{m}` : 앞의 문자(패턴)가 m개. (`a{3}b`)    'aaab'만 오ㅋ에이 앞에 에이가 더많아도 저부분만 찾는다.\n",
    "- `{m,}` : 앞의 문자(패턴)이 m개 이상. (`a{3,}b`) a가 3개 이상 오는것 aaab, aaaaaab 오케이 // aab (x)\n",
    "    - , 뒤에 공백이 들어오지 않도록 한다.\n",
    "- `{m,n}` : 앞의 문자(패턴)이 m개이상 n개 이하. (`a{2,5}b`)   b앞에 a 가 2개 이상 5개 이하 있어야 한다.!!   \n",
    "- `.`, `*`, `+`, `?` 를 리터럴로 표현할 경우 `\\`를 붙인다.   앞에 \\를 붙인다. // 점을 찾고 싶을때 '\\\\.' or ' 이렇게 찾는다.  ==> 이스케이프 문자때문~!"
   ]
  },
  {
   "cell_type": "markdown",
   "metadata": {},
   "source": [
    "'가[abc]다'  # 가와다 사이ㅇ에 a,b,c 중 하나가 잇는것     가a다 가b다    가나다(x)\n",
    "'가[abc]다' #  가a다  가ab다   가abcab다"
   ]
  },
  {
   "cell_type": "markdown",
   "metadata": {
    "ExecuteTime": {
     "end_time": "2019-05-15T10:08:16.413433Z",
     "start_time": "2019-05-15T10:08:16.407394Z"
    },
    "slideshow": {
     "slide_type": "subslide"
    }
   },
   "source": [
    "## 2.4. 문장의 시작과 끝 표현\n",
    "- `^` 문자열의 시작 (`^abc`)    // abc 로시작/ 대괄호로 쓸때와 비교하기 //\n",
    "    - 문자 클래스([ ])의 ^와는 의미가 다르다.\n",
    "- `$` : 문자열의 끝 (`abc$`)   : abc로 끝~~!"
   ]
  },
  {
   "cell_type": "markdown",
   "metadata": {
    "ExecuteTime": {
     "end_time": "2019-05-15T10:08:16.413433Z",
     "start_time": "2019-05-15T10:08:16.407394Z"
    },
    "slideshow": {
     "slide_type": "fragment"
    }
   },
   "source": [
    "## 2.5. 기타\n",
    "- `|` : 둘중 하나 (OR) (010|011|016|019)\n",
    "    - ( )로 묶어서 사용한다. \n",
    "    - 010|016-111 : 010 또는 016-111 이 된다. \n",
    "- `(  )` : 패턴내 하위그룹을 만들때 사용"
   ]
  },
  {
   "cell_type": "markdown",
   "metadata": {
    "slideshow": {
     "slide_type": "slide"
    }
   },
   "source": [
    "# 3. re 모듈\n",
    "- 파이썬에서 정규 표현식을 지원하기 위한 모듈\n",
    "- 파이썬 기본 라이브러리"
   ]
  },
  {
   "cell_type": "markdown",
   "metadata": {
    "slideshow": {
     "slide_type": "subslide"
    }
   },
   "source": [
    "## 3.1 코딩패턴\n",
    "1. 모듈 import\n",
    "    - import re\n",
    "2. 패턴 객체 생성\n",
    "    - 패턴 컴파일\n",
    "    - 패턴을 가지고 있는 객체 생성\n",
    "3. 텍스트에서 패턴 문자열 검색또는 변경 작업\n",
    "\n",
    "> ### raw string\n",
    "> - 패턴을 지정하는 문자열 앞에 r 표시구분자(접두어)를 붙인 것을 말한다./// 습관적으로 붙이는 것도 좋음 \n",
    "> - `\\`를 일반문자로 처리\n",
    ">    - `re.compile('\\b가족\\b')` : `\\b`를 escape 문자 b(백스페이스)로 인식\n",
    ">    - `re.compile(r'\\b가족\\b')` : `\\b`가 일반문자가 되어 컴파일시 정규식 메타문자로 처리된다.\n"
   ]
  },
  {
   "cell_type": "code",
   "execution_count": null,
   "metadata": {},
   "outputs": [],
   "source": [
    "print(r\"c:\\a\\b\\c\")  = print('c:\\\\a\\\\b\\\\c')"
   ]
  },
  {
   "cell_type": "code",
   "execution_count": null,
   "metadata": {},
   "outputs": [],
   "source": [
    "import re\n",
    "p =  re.compile(f'\\b[abc]')   aaaa 가족 ㅁㅁㅁ"
   ]
  },
  {
   "cell_type": "markdown",
   "metadata": {
    "slideshow": {
     "slide_type": "subslide"
    }
   },
   "source": [
    "> ### 정규식 관련 함수 구문의 두 형태\n",
    "1. pattern객체.함수(매개변수)  ==> 특수한 경우 디테일하게 찾을때 사용\n",
    "    ```python\n",
    "        p = re.compile(r'\\d+')\n",
    "        p.search('abc123def')\n",
    "    ```\n",
    "2. re.정규식사용함수(패턴, 매개변수)   ==> 일반적인 경우에 사용\n",
    "    ```python\n",
    "        re.search(r'\\d+', 'abc123def')\n",
    "    ```"
   ]
  },
  {
   "cell_type": "markdown",
   "metadata": {
    "slideshow": {
     "slide_type": "slide"
    }
   },
   "source": [
    "## 3.2. 검색함수\n",
    "- match(), search() : 패턴과 일치하는 문장이 **있는지 여부**를 확인할 때 사용   매치== 그것으로 시작하는지// 서치 중간에있ㄴ느지 없느지 \n",
    "- findall() : 패턴과 일치하는 문장을 **찾을 때** 사용"
   ]
  },
  {
   "cell_type": "markdown",
   "metadata": {
    "slideshow": {
     "slide_type": "subslide"
    }
   },
   "source": [
    "### 3.2.1. Match 객체\n",
    "- **검색 결과를** 담아 반환되는 객체\n",
    "    - match(), search() 의 <반환타입>\n",
    "- 패턴과 일치한 <문자열>과 대상문자열 내에서의 <위치>를 가지고 있는 객체\n",
    "- 주요 메소드\n",
    "    - **group()** : 매치된 문자열들을 튜플로 반환\n",
    "    - **group(subgroup 번호)** : 패턴에 하위그룹이 지정된 경우 특정 그룹의 문자열 반환\n",
    "    - **start(), end()** : 대상 문자열내에서 시작, 끝 index 반환\n",
    "    - **span()** : 대상 문자열 내에서 시작, 끝 index를 tuple로 반환"
   ]
  },
  {
   "cell_type": "markdown",
   "metadata": {
    "slideshow": {
     "slide_type": "subslide"
    }
   },
   "source": [
    "### 3.2.2 match(대상문자열 [, pos=0])\n",
    "- 대상 문자열의 시작 부터 정규식과 일치하는 것이 있는지 조회\n",
    "- pos : 시작 index 지정\n",
    "- 반환값\n",
    "    - Match 객체: 일치하는 문자열이 있는 경우\n",
    "    - None: 일치하는 문자열이 없는 경우"
   ]
  },
  {
   "cell_type": "code",
   "execution_count": 7,
   "metadata": {},
   "outputs": [
    {
     "name": "stdout",
     "output_type": "stream",
     "text": [
      "<re.Match object; span=(0, 5), match='안녕하세요'>\n",
      "None\n"
     ]
    }
   ],
   "source": [
    "import re\n",
    "txt = \"안녕하세요. 제 나이는 20세 입니다.\" # 대상 문자열\n",
    "m = re.match(r'안녕하세요', txt) # '안녕하세요' 로 시작 함? txt가>  결과를 match 객체로 반화\n",
    "m1 = re.match(r\"나이는\",txt)\n",
    "print(m)  # 뭐든 반환 되면 된것\n",
    "print(m1)  # 일치하는 결과가 없으면 None 반환한다.\n",
    "\n",
    "# 밑에것과 비슷한 원리로 작동\n",
    "if m1:\n",
    "    print(m1)\n",
    "else:\n",
    "    print('일치하는 결과가 없다 ')\n",
    "\n"
   ]
  },
  {
   "cell_type": "code",
   "execution_count": 8,
   "metadata": {},
   "outputs": [
    {
     "name": "stdout",
     "output_type": "stream",
     "text": [
      "<re.Match object; span=(0, 5), match='안녕하세요'>\n"
     ]
    }
   ],
   "source": [
    "import re\n",
    "#패턴 정의\n",
    "p= re.compile(r'안녕하세요')\n",
    "m3 = p.match(txt)\n",
    "\n",
    "if m3: #none 이아니라면 \n",
    "    print(m3)\n",
    "else:\n",
    "    print('일치하는 결과가 없다.')"
   ]
  },
  {
   "cell_type": "code",
   "execution_count": null,
   "metadata": {},
   "outputs": [],
   "source": [
    "txt = \"안녕하세요. 제 나이는 20세 입니다.\"\n",
    "\n",
    "print(m1)  # 일치하는 결과가 없으면 None 반환한다.\n",
    "\n",
    "# 밑에것과 비슷한 원리로 작동\n",
    "if m1:\n",
    "    print(m1)\n",
    "else:\n",
    "    print('일치하는 결과가 없다 ')\n"
   ]
  },
  {
   "cell_type": "code",
   "execution_count": 9,
   "metadata": {},
   "outputs": [
    {
     "name": "stdout",
     "output_type": "stream",
     "text": [
      "<re.Match object; span=(9, 12), match='나이는'>\n"
     ]
    }
   ],
   "source": [
    "txt = \"안녕하세요. 제 나이는 20세 입니다.\"\n",
    "p= re.compile(r'나이는')\n",
    "m4 = p.match(txt,pos=9)\n",
    "\n",
    "if m4:\n",
    "    print(m4)\n",
    "else:\n",
    "    print('일치하는 결과가 없다 ')\n"
   ]
  },
  {
   "cell_type": "code",
   "execution_count": 13,
   "metadata": {},
   "outputs": [
    {
     "name": "stdout",
     "output_type": "stream",
     "text": [
      "<re.Match object; span=(0, 5), match='안녕하세요'>\n",
      "찾은 전체문자열를 반환 : 안녕하세요\n",
      "찾은 문자열의 시작,끝: 0 5\n",
      "시작,끝: (0, 5)\n"
     ]
    }
   ],
   "source": [
    "txt = \"안녕하세요. 제 나이는 20세 입니다.\"\n",
    "m = re.match(r'안녕하세요',txt)\n",
    "print(m)\n",
    "# 매치 메소드들\n",
    "print('찾은 전체문자열를 반환 :',m.group())\n",
    "print('찾은 문자열의 시작,끝:',m.start(),m.end())\n",
    "print(\"시작,끝:\",m.span())"
   ]
  },
  {
   "cell_type": "code",
   "execution_count": 16,
   "metadata": {},
   "outputs": [
    {
     "data": {
      "text/plain": [
       "'5'"
      ]
     },
     "execution_count": 16,
     "metadata": {},
     "output_type": "execute_result"
    }
   ],
   "source": [
    "txt = '30부터 시작'\n",
    "txt = '40부터 시작'\n",
    "txt = '50부터 시작'\n",
    "\n",
    "m= re.match(r'\\d',txt)#\\d 정수 1개 [0-9]/// 숫자형태의 문자열\n",
    "#m= re.match(r'\\d+',txt)\n",
    "m.group()\n"
   ]
  },
  {
   "cell_type": "code",
   "execution_count": null,
   "metadata": {},
   "outputs": [],
   "source": []
  },
  {
   "cell_type": "code",
   "execution_count": null,
   "metadata": {},
   "outputs": [],
   "source": []
  },
  {
   "cell_type": "markdown",
   "metadata": {
    "slideshow": {
     "slide_type": "subslide"
    }
   },
   "source": [
    "### 3.2.3 search(대상문자열 [, pos=0])\n",
    "- 대상문자열 전체 안에서 정규식과 일치하는 것이 있는지 조회\n",
    "- pos: 찾기 시작하는 index 지정\n",
    "- 반환값\n",
    "    - Match 객체: 일치하는 문자열이 있는 경우\n",
    "    - None: 일치하는 문자열이 없는 경우|"
   ]
  },
  {
   "cell_type": "code",
   "execution_count": 17,
   "metadata": {},
   "outputs": [
    {
     "name": "stdout",
     "output_type": "stream",
     "text": [
      "<re.Match object; span=(9, 12), match='나이는'>\n"
     ]
    }
   ],
   "source": [
    "txt = \"안녕하세요. 제 나이는 20세 입니다.\"\n",
    "\n",
    "p= re.compile(r'나이는')  # 패턴정의\n",
    "m= p.search(txt) # 패턴의 문자열이 txt에 있는지 확인  /// 시작하냐 가 아니라 갖고있냐\n",
    "print(m)\n",
    "\n"
   ]
  },
  {
   "cell_type": "code",
   "execution_count": 19,
   "metadata": {},
   "outputs": [
    {
     "name": "stdout",
     "output_type": "stream",
     "text": [
      "None\n"
     ]
    }
   ],
   "source": [
    " # 패턴정의\n",
    "m2= re.search(r\"30\",txt) # 패턴의 문자열이 txt에 있는지 확인  /// 시작하냐 가 아니라 갖고있냐\n",
    "print(m2)\n"
   ]
  },
  {
   "cell_type": "code",
   "execution_count": 27,
   "metadata": {},
   "outputs": [
    {
     "name": "stdout",
     "output_type": "stream",
     "text": [
      "(16, 21)\n",
      "50000\n"
     ]
    }
   ],
   "source": [
    "import re\n",
    "txt = '가격은 4000원,2000원,50000원 입니다.' # 정의\n",
    "#m= re.search(r\"\\d\",txt)    # re.search (v패턴, 대상 문자열 )  // \\d 정수문자 1개 \n",
    "#m= re.search(r\"\\d+\",txt)   # \\d+정수 문자 1개이상\n",
    "#m= re.search(r\"\\d{3}\",txt)\n",
    "m= re.search(r\"\\d{5}\",txt)      #  패턴 (조건 ) 안맞으면 패스 패스 맞는 조건 나올 때까지 \n",
    "if m:  # not None : 찾은 패턴이 대상에 있다.\n",
    "    print(m.span())\n",
    "    print(m.group())  # 패턴과 일치하는 문자열을 조회\n",
    "else :\n",
    "    pass\n",
    "# 패턴이 있는지 딱 하나만 찾고 찾으면 반환 하고 끄끝  ////group() : 매치된 문자열들을 튜플로 반환// 패턴을 만족하는 애가 있을 때까지 반환"
   ]
  },
  {
   "cell_type": "markdown",
   "metadata": {
    "slideshow": {
     "slide_type": "subslide"
    }
   },
   "source": [
    "### 3.2.4. findall(대상문자열)\n",
    "- 대상문자열에서 정규식과 매칭되는 문자열들을 리스트로 반환\n",
    "- 반환값\n",
    "    - 리스트(List) : 일치하는 문자열들을 가진 <리스트>를 반환\n",
    "    - 일치하는 문자열이 없는 경우 '\"빈 리스트\"' 반환"
   ]
  },
  {
   "cell_type": "code",
   "execution_count": 98,
   "metadata": {},
   "outputs": [
    {
     "data": {
      "text/plain": [
       "['Life', 'is', 'short', 'You', 'need', 'python', '파이썬3', '프로그래밍', '_언어']"
      ]
     },
     "execution_count": 98,
     "metadata": {},
     "output_type": "execute_result"
    }
   ],
   "source": [
    "txt = 'Life is short. You need python.'\n",
    "txt = 'Life is short. You need python. 파이썬3 프로그래밍 _언어?#$%^^'\n",
    "\n",
    "#result = re.findall(r\"[a-z]\",txt)  # 공백, 대문자 빠짐 \n",
    "#result = re.findall(r\"[a-zA-Z]+\",txt)  # 마침표 공백 빠짐 \n",
    "#result = re.findall(r\"[a-zA-Z\\.]+\",txt) # 마침표 포함 공백 없음\n",
    "#result = re.findall(r\"[a-zA-Z\\. ]+\",txt)  # 공백까지 포함 \n",
    "#result = re.findall(r\"[a-zA-Z가-힣]+\",txt)  # 가-힣  한글// \n",
    "result = re.findall(r\"\\w+\",txt)  # 영어 대문자 소문자, 한글, 숫자 ,\"_(언더바)\", 포함// 특수문자 제외//\n",
    "#result = re.findall(r\"\\W+\",txt)   # 특수문자하고 , 마침표  공백 만나온ㄷ\n",
    "\n",
    "\n",
    "\n",
    "result\n"
   ]
  },
  {
   "cell_type": "code",
   "execution_count": 28,
   "metadata": {},
   "outputs": [
    {
     "name": "stdout",
     "output_type": "stream",
     "text": [
      "['4000', '2000', '5000']\n"
     ]
    }
   ],
   "source": [
    "txt = '가격은 4000원,2000원,50000원 입니다.'\n",
    "result = re.findall(r'\\d{4}',txt)   # r 은 이스케이프 때문에 \n",
    "print(result)"
   ]
  },
  {
   "cell_type": "markdown",
   "metadata": {
    "slideshow": {
     "slide_type": "slide"
    }
   },
   "source": [
    "### 예제\n",
    "- info 변수는 한줄에 한사람의 data가 있고 구성은 **`이름 이메일주소 주민번호`** 순서로 되어있다."
   ]
  },
  {
   "cell_type": "code",
   "execution_count": 99,
   "metadata": {},
   "outputs": [],
   "source": [
    "info ='''김정수 kjs@gmail.com 801023-1010221\n",
    "박영수 pys@gmail.com 700121-1120212\n",
    "이민영 lmy@naver.com 820301-2020122\n",
    "김순희 ksh@daum.net 781223-2012212\n",
    "오주연 ojy@daum.net 900522-1023218\n",
    "'''"
   ]
  },
  {
   "cell_type": "code",
   "execution_count": null,
   "metadata": {},
   "outputs": [],
   "source": []
  },
  {
   "cell_type": "code",
   "execution_count": 100,
   "metadata": {},
   "outputs": [
    {
     "name": "stdout",
     "output_type": "stream",
     "text": [
      "['kjs@gmail.com', 'pys@gmail.com', 'lmy@naver.com', 'ksh@daum.net', 'ojy@daum.net']\n"
     ]
    }
   ],
   "source": [
    "import re\n",
    "# 이메일 주소만 조회  // 이메일이 어떻게 구성되는지 알아야 됨///계정@도메인\n",
    "email_list= re.findall(r\"\\w+@\\w+\\.\\w{2,4}\",info)\n",
    "print(email_list)\n"
   ]
  },
  {
   "cell_type": "code",
   "execution_count": 52,
   "metadata": {},
   "outputs": [
    {
     "name": "stdout",
     "output_type": "stream",
     "text": [
      "['801023-1010221', '700121-1120212', '820301-2020122', '781223-2012212', '900522-1023218']\n"
     ]
    }
   ],
   "source": [
    "# 주민번호만 출력\n",
    "#p_num = re.findall(r'\\d+-\\d+',info)\n",
    "#p_num = re.findall(r'\\d{6}-\\d{7}',info)\n",
    "p_num = re.findall(r'\\d{6}-[12349]\\d{6}',info)\n",
    "print(p_num)\n"
   ]
  },
  {
   "cell_type": "markdown",
   "metadata": {
    "slideshow": {
     "slide_type": "subslide"
    }
   },
   "source": [
    "## 3.3. 문자열 변경\n",
    "- sub(): 변경된 문자열 반환  (원본 안 바꿈)\n",
    "- subn(): 변경된 문자열, 변경개수 반환  ( 원본 안바꿈 바꾸고 갯수  n= 개수)"
   ]
  },
  {
   "cell_type": "markdown",
   "metadata": {
    "slideshow": {
     "slide_type": "subslide"
    }
   },
   "source": [
    "### 3.3.1 sub(바꿀문자열, 대상문자열 [, count=양수])\n",
    "- 대상문자열에서 패턴과 일치하는 것을 바꿀문자열로 변경한다.\n",
    "- count: 변경할 개수를 지정. 기본: 매칭되는 문자열은 다 변경\n",
    "- 반환값: 변경된 문자열\n",
    "\n",
    "### 3.3.2 subn(바꿀문자열, 대상문자열 [, count=양수])\n",
    "- sub()와 동일한 역할.\n",
    "- 반환값 : (변경된 문자열, 변경된문자열개수) 를 < tuple >로 반환"
   ]
  },
  {
   "cell_type": "code",
   "execution_count": null,
   "metadata": {},
   "outputs": [],
   "source": []
  },
  {
   "cell_type": "markdown",
   "metadata": {
    "slideshow": {
     "slide_type": "slide"
    }
   },
   "source": [
    "### 예제 "
   ]
  },
  {
   "cell_type": "code",
   "execution_count": 57,
   "metadata": {},
   "outputs": [
    {
     "name": "stdout",
     "output_type": "stream",
     "text": [
      "오늘 밥을 먹었다.\n"
     ]
    }
   ],
   "source": [
    "# 띄여 쓰기 여러개를 한개로 변경.\n",
    "import re\n",
    "txt= \"오늘            밥을           먹었다.\" # \"오늘 밥을 먹었다.\"\n",
    "txt1= \"\"\"오늘은 월요일 입니다.\n",
    "내일은      화요일           입니다.\"\"\"\n",
    "\n",
    "# txt.replace(\" \",\"-\")\n",
    "# \\s 공백 문자열 (' ',\\t ,\\n  이 공백 문자열이다.) \\s+ 공백이 하나 이상일때\n",
    "\n",
    "new_txt =re.sub(r'\\s+',' ',txt)  #sub(패턴,바꿀문자열, 대상문자열 [, count=양수])\n",
    "print(new_txt)\n"
   ]
  },
  {
   "cell_type": "code",
   "execution_count": 58,
   "metadata": {},
   "outputs": [
    {
     "name": "stdout",
     "output_type": "stream",
     "text": [
      "오늘은 월요일 입니다. 내일은 화요일 입니다.\n"
     ]
    }
   ],
   "source": [
    "new_txt3 =re.sub(r'\\s+',' ',txt1)  #sub(패턴,바꿀문자열, 대상문자열 [, count=양수])\n",
    "print(new_txt3)"
   ]
  },
  {
   "cell_type": "code",
   "execution_count": 54,
   "metadata": {},
   "outputs": [
    {
     "name": "stdout",
     "output_type": "stream",
     "text": [
      "오늘 밥을 먹었다.\n"
     ]
    }
   ],
   "source": [
    "new_txt1 =re.sub(r' +',' ',txt)   # 공백+  를 넣을 수도 있다 \\s 대신에 \n",
    "print(new_txt1)"
   ]
  },
  {
   "cell_type": "code",
   "execution_count": 60,
   "metadata": {},
   "outputs": [
    {
     "name": "stdout",
     "output_type": "stream",
     "text": [
      "('오늘 밥을 먹었다.', 2)\n",
      "오늘 밥을 먹었다.\n",
      "변경된개수:  2\n"
     ]
    }
   ],
   "source": [
    "result =re.subn(r' +',' ',txt)\n",
    "print(result)\n",
    "print(result[0])  \n",
    "print('변경된개수: ',result[1])"
   ]
  },
  {
   "cell_type": "code",
   "execution_count": null,
   "metadata": {},
   "outputs": [],
   "source": []
  },
  {
   "cell_type": "code",
   "execution_count": null,
   "metadata": {},
   "outputs": [],
   "source": []
  },
  {
   "cell_type": "code",
   "execution_count": 63,
   "metadata": {},
   "outputs": [
    {
     "name": "stdout",
     "output_type": "stream",
     "text": [
      "010 1111 2222, 01033213201  010 3213 3031\n",
      "010 1111 2222  01033213201  010 3213 3031\n",
      "010 1111 2222  01033213201  010 3213 3031\n"
     ]
    }
   ],
   "source": [
    "# 전화번호에서 사용된 구분자를 제거. 각 전화번호를 구분하는 공백은 남긴다.\n",
    "tel = '010-1111-2222, 01033213201 (010)3213-3031'\n",
    "\n",
    "print(re.sub(r'[-()]',' ',tel))\n",
    "print(re.sub(r'[^0-9]',' ' ,tel))\n",
    "print(re.sub(r'\\D',' ' ,tel))"
   ]
  },
  {
   "cell_type": "markdown",
   "metadata": {
    "slideshow": {
     "slide_type": "subslide"
    }
   },
   "source": [
    "## 3.4 나누기(토큰화)\n",
    "### 3.4.1 split(대상문자열)\n",
    "- pattern을 구분자로 문장을 나눈다.\n",
    "- 반환: 나눈 문자열을 원소로 하는 리스트"
   ]
  },
  {
   "cell_type": "code",
   "execution_count": 66,
   "metadata": {},
   "outputs": [],
   "source": [
    "txt = 'A.B|C.D,E:F'   # 각각 나누고 싶은ㄷ 구분자가 너무 다양하다./// 문자열.split() 은 구분가 하나일때만 쓸수 있다."
   ]
  },
  {
   "cell_type": "code",
   "execution_count": 71,
   "metadata": {},
   "outputs": [
    {
     "name": "stdout",
     "output_type": "stream",
     "text": [
      "['A', 'B', 'C', 'D', 'E', 'F']\n"
     ]
    }
   ],
   "source": [
    "result=re.split(r'[\\.|,:]', txt)  # [[[[[[[[대괄호 표기]]]]]]]] 법에서는 \\ 안써도됨 \n",
    "print(result)"
   ]
  },
  {
   "cell_type": "markdown",
   "metadata": {
    "slideshow": {
     "slide_type": "slide"
    }
   },
   "source": [
    "# 4. 그룹핑(Grouping)\n",
    "- 패턴 내에서 하위패턴을 만드는 것.\n",
    "    - 전체 패턴에서 일부 패턴을 묶어준다.\n",
    "- 구문: (패턴)"
   ]
  },
  {
   "cell_type": "code",
   "execution_count": null,
   "metadata": {},
   "outputs": [],
   "source": [
    "r\"(\\d{2,3})-(\\d{3,4})-(\\d{4})\"\n",
    "\n",
    "010-1234-2323\n",
    "\n",
    "02-111-2323"
   ]
  },
  {
   "cell_type": "markdown",
   "metadata": {
    "ExecuteTime": {
     "end_time": "2019-05-16T00:50:03.543080Z",
     "start_time": "2019-05-16T00:50:03.537062Z"
    },
    "slideshow": {
     "slide_type": "subslide"
    }
   },
   "source": [
    "## 4.1. 그룹핑 예"
   ]
  },
  {
   "cell_type": "markdown",
   "metadata": {
    "ExecuteTime": {
     "end_time": "2019-05-16T00:56:13.966065Z",
     "start_time": "2019-05-16T00:56:13.960644Z"
    },
    "slideshow": {
     "slide_type": "subslide"
    }
   },
   "source": [
    "### 4.1.1 전체 패턴 내에서 일부 패턴을 조회\n",
    "- 전체 패턴과 일치하는 문자열을 찾은뒤 그안에서 하위패턴과 일치하는 문자열을 조회."
   ]
  },
  {
   "cell_type": "code",
   "execution_count": 101,
   "metadata": {},
   "outputs": [
    {
     "name": "stdout",
     "output_type": "stream",
     "text": [
      "<re.Match object; span=(0, 13), match='010-1111-2345'>\n",
      "010-1111-2345\n",
      "1111\n"
     ]
    }
   ],
   "source": [
    "# 전화번호에서 국번만 조회하려는 경우 \n",
    "import re\n",
    "tel = '010-1111-2345'\n",
    "pattern = r\"\\d{2,3}-(\\d{3,4})-\\d{4}\"\n",
    "m = re.search(pattern, tel)\n",
    "print(m)\n",
    "print(m.group())\n",
    "print(m.group(1)) #그룹(소괄호)의 index를 지정"
   ]
  },
  {
   "cell_type": "code",
   "execution_count": 85,
   "metadata": {},
   "outputs": [
    {
     "name": "stdout",
     "output_type": "stream",
     "text": [
      "전화번호 :  010-1111-2345\n",
      "통신사 :  010\n",
      "국번 :  1111\n",
      "번호 :  2345\n"
     ]
    }
   ],
   "source": [
    "import re\n",
    "tel = '010-1111-2345'\n",
    "pattern = r\"(\\d{2,3})-(\\d{3,4})-(\\d{4})\"\n",
    "m = re.search(pattern, tel)\n",
    "print('전화번호 : ', m.group())\n",
    "print('통신사 : ', m.group(1))\n",
    "print('국번 : ', m.group(2))\n",
    "print('번호 : ', m.group(3))\n",
    "\n",
    "#group() : 매치된 문자열들을 튜플로 반환\n",
    "#group(subgroup 번호) : 패턴에 하위그룹이 지정된 경우 특정 그룹의 문자열 반환"
   ]
  },
  {
   "cell_type": "code",
   "execution_count": 86,
   "metadata": {},
   "outputs": [
    {
     "name": "stdout",
     "output_type": "stream",
     "text": [
      "[('010', '1111', '2345')]\n"
     ]
    }
   ],
   "source": [
    "l= re.findall(pattern, tel)  # findall(): 소그룹으로 찾은 것들을 묶은 튜플로 묶어서 반환\n",
    "print(l)\n"
   ]
  },
  {
   "cell_type": "code",
   "execution_count": 87,
   "metadata": {},
   "outputs": [
    {
     "name": "stdout",
     "output_type": "stream",
     "text": [
      "010-1111-2345\n",
      "010\n",
      "1111-2345\n",
      "1111\n",
      "2345\n"
     ]
    }
   ],
   "source": [
    "# 중첩 그룹\n",
    "num = '010-1111-2345'\n",
    "pattern = r'(\\d{2,3})-((\\d{3,4})-(\\d{4}))'## 사진 보기\n",
    "m = re.search(pattern,tel)\n",
    "print(m.group())\n",
    "print(m.group(1))\n",
    "print(m.group(2))\n",
    "print(m.group(3))\n",
    "print(m.group(4))\n",
    "\n",
    "\n",
    "#print(m.group(3)+m.group(4))"
   ]
  },
  {
   "cell_type": "code",
   "execution_count": null,
   "metadata": {},
   "outputs": [],
   "source": [
    "num = '010-1111-2345','02-123-2345'\n",
    "pattern = r'(\\d{2,3})-((\\d{3,4})-(\\d{4}))'\n",
    "l=re.findall(pattern,tel)"
   ]
  },
  {
   "cell_type": "markdown",
   "metadata": {
    "slideshow": {
     "slide_type": "subslide"
    }
   },
   "source": [
    "### 4.1.2 패턴 내에서 하위그룹 참조\n",
    "- `\\번호`\n",
    "- 지정한 '번호' 번째 패턴으로 매칭된 문자열과 같은 문자열을 의미"
   ]
  },
  {
   "cell_type": "code",
   "execution_count": 90,
   "metadata": {},
   "outputs": [],
   "source": [
    "tel= \"\"\"010-1111-1111\n",
    "010-222-2222\n",
    "010-3333-3333\n",
    "010-5555-6666\"\"\"      # 하위그룹끼리 같은것을 찾고 싶을때"
   ]
  },
  {
   "cell_type": "code",
   "execution_count": 91,
   "metadata": {},
   "outputs": [
    {
     "name": "stdout",
     "output_type": "stream",
     "text": [
      "[('010', '1111', '1111'), ('010', '222', '222'), ('010', '3333', '3333')]\n"
     ]
    }
   ],
   "source": [
    "#가운데와 끝번호가 같은 전화번호를 찾기 \n",
    "pattern = r\"(\\d{2,3})-(\\d{3,4})-(\\2)\"    #\\2: 2번 소그룹의 패턴으로 찾은 문자열과 동일한 문자열 \n",
    "#pattern = r\"(\\d{2,3})-(\\d{3,4})-\\2\"\n",
    "\n",
    "l= re.findall(pattern,tel)   # findall : 괄호로 묶인 소그룹으로 찾은 값들만 반환  /// 소그룹에 있는 값만 ..\n",
    "print(l)\n",
    "\n",
    "#m = re.search(pattern,tel)\n",
    "#print(m.group(1))\n",
    "#print(m.group(2))\n",
    "#print(m.group(3))\n",
    "\n",
    "## 찾을때는 전체지만 파인드올을 쓰면 소괄호로 묶여있는 값만 반환해준다."
   ]
  },
  {
   "cell_type": "markdown",
   "metadata": {},
   "source": [
    "## 패턴내의 특정부분만 변경  /// 프로그래머스 알고리즘 문제 전화번호  마스킹"
   ]
  },
  {
   "cell_type": "code",
   "execution_count": 92,
   "metadata": {},
   "outputs": [
    {
     "name": "stdout",
     "output_type": "stream",
     "text": [
      "김정수 kjs@gmail.com 801023-1010221\n",
      "박영수 pys@gmail.com 700121-1120212\n",
      "이민영 lmy@naver.com 820301-2020122\n",
      "김순희 ksh@daum.net 781223-2012212\n",
      "오주연 ojy@daum.net 900522-1023218\n",
      "\n"
     ]
    }
   ],
   "source": [
    "print(info) "
   ]
  },
  {
   "cell_type": "code",
   "execution_count": 94,
   "metadata": {},
   "outputs": [
    {
     "name": "stdout",
     "output_type": "stream",
     "text": [
      "김정수 kjs@gmail.com 801023-1#######\n",
      "박영수 pys@gmail.com 700121-1#######\n",
      "이민영 lmy@naver.com 820301-2#######\n",
      "김순희 ksh@daum.net 781223-2#######\n",
      "오주연 ojy@daum.net 900522-1#######\n",
      "\n"
     ]
    }
   ],
   "source": [
    "pattern = r\"(\\d{6}-[0-4])\\d{6}\"     # 주민번호  그대로 나올 것을 그룹으로 묶는다.\n",
    "new_info = re.sub(pattern,\"\\g<1>#######\",info)  # 패턴으로 찾은 문자열을 //패턴의 1번 소그룹######로 변경   \\g(그룹)<1> == 1번그룹 //2번으로 바꿔보기 \n",
    "print(new_info) "
   ]
  },
  {
   "cell_type": "code",
   "execution_count": 95,
   "metadata": {},
   "outputs": [
    {
     "name": "stdout",
     "output_type": "stream",
     "text": [
      "김정수 kjs@gmail.com 801023-1\n",
      "박영수 pys@gmail.com 700121-1\n",
      "이민영 lmy@naver.com 820301-2\n",
      "김순희 ksh@daum.net 781223-2\n",
      "오주연 ojy@daum.net 900522-1\n",
      "\n"
     ]
    }
   ],
   "source": [
    "pattern = r\"(\\d{6}-[0-4])\\d{6}\"     # 주민번호  그대로 나올 것을 그룹으로 묶는다.\n",
    "new_info = re.sub(pattern,\"\\g<1>\",info)  # 패턴으로 찾은 문자열을 //패턴의 1번 소그룹######로 변경   \\g(그룹)<1> == 1(그룹 번호 )번그룹 \n",
    "print(new_info) "
   ]
  },
  {
   "cell_type": "markdown",
   "metadata": {},
   "source": [
    "# group 으로 묶인 것 참조 \n",
    "- Match객체에서 특정 그룹으로 찾은 문자열 조회\n",
    "  - match객체.group(괄호index)\n",
    "- 패턴안에서 그룹을 참조\n",
    "    - `\\괄호 index`\n",
    "- sub() 함수에서 대체 문자로 그룹을 찾조\n",
    "       - \\g<괄호 index>\n",
    " "
   ]
  },
  {
   "cell_type": "code",
   "execution_count": null,
   "metadata": {},
   "outputs": [],
   "source": []
  },
  {
   "cell_type": "markdown",
   "metadata": {
    "slideshow": {
     "slide_type": "slide"
    }
   },
   "source": [
    "# 5. Greedy 와 Non-Greedy\n",
    "- Greedy(탐욕스러운-최대일치) 의 의미\n",
    "    - 주어진 패턴에 만족하는 문자열을 최대한 넓게(길게) 잡아 찾는다.\n",
    "    - 매칭시 기본 방식\n",
    "- Non-Greedy(최소일치)\n",
    "    - 주어진 패턴에 만족하는 문자열을 최초의 일치하는 위치까지 찾는다\n",
    "    - 개수를 나타내는 메타문자에 **`?`**를 붙인다.\n",
    "    - `*?`, `+?`, `{m,n}?`"
   ]
  },
  {
   "cell_type": "code",
   "execution_count": 97,
   "metadata": {},
   "outputs": [
    {
     "name": "stdout",
     "output_type": "stream",
     "text": [
      "['<h1>', '<h2>', '</h2>', '</h1>'] 4\n"
     ]
    }
   ],
   "source": [
    "txt = '<h1>파이썬 정규식<h2>정규식이란</h2></h1>'\n",
    "#pattern = r\"<.+>\"# <한글자이상> . : 모든한글자 \n",
    "\n",
    "pattern = r\"<.+?>\"\n",
    "result = re.findall(pattern,txt)\n",
    "print(result, len(result))\n"
   ]
  }
 ],
 "metadata": {
  "kernelspec": {
   "display_name": "Python 3",
   "language": "python",
   "name": "python3"
  },
  "language_info": {
   "codemirror_mode": {
    "name": "ipython",
    "version": 3
   },
   "file_extension": ".py",
   "mimetype": "text/x-python",
   "name": "python",
   "nbconvert_exporter": "python",
   "pygments_lexer": "ipython3",
   "version": "3.8.5"
  },
  "toc": {
   "base_numbering": 1,
   "nav_menu": {},
   "number_sections": false,
   "sideBar": false,
   "skip_h1_title": false,
   "title_cell": "Table of Contents",
   "title_sidebar": "Contents",
   "toc_cell": false,
   "toc_position": {
    "height": "606.319px",
    "left": "10px",
    "top": "150px",
    "width": "336.889px"
   },
   "toc_section_display": false,
   "toc_window_display": false
  },
  "varInspector": {
   "cols": {
    "lenName": 16,
    "lenType": 16,
    "lenVar": 40
   },
   "kernels_config": {
    "python": {
     "delete_cmd_postfix": "",
     "delete_cmd_prefix": "del ",
     "library": "var_list.py",
     "varRefreshCmd": "print(var_dic_list())"
    },
    "r": {
     "delete_cmd_postfix": ") ",
     "delete_cmd_prefix": "rm(",
     "library": "var_list.r",
     "varRefreshCmd": "cat(var_dic_list()) "
    }
   },
   "types_to_exclude": [
    "module",
    "function",
    "builtin_function_or_method",
    "instance",
    "_Feature"
   ],
   "window_display": false
  }
 },
 "nbformat": 4,
 "nbformat_minor": 2
}
