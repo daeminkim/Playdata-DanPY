{
 "cells": [
  {
   "cell_type": "markdown",
   "metadata": {},
   "source": [
    "## 1월 7일"
   ]
  },
  {
   "cell_type": "code",
   "execution_count": 1,
   "metadata": {},
   "outputs": [
    {
     "data": {
      "text/plain": [
       "False"
      ]
     },
     "execution_count": 1,
     "metadata": {},
     "output_type": "execute_result"
    }
   ],
   "source": [
    "bool([])"
   ]
  },
  {
   "cell_type": "code",
   "execution_count": 2,
   "metadata": {},
   "outputs": [
    {
     "data": {
      "text/plain": [
       "True"
      ]
     },
     "execution_count": 2,
     "metadata": {},
     "output_type": "execute_result"
    }
   ],
   "source": [
    "bool([1])  # 자료구조: 원소가 0개이면 False 1개이상이면 True"
   ]
  },
  {
   "cell_type": "code",
   "execution_count": 8,
   "metadata": {},
   "outputs": [
    {
     "name": "stdout",
     "output_type": "stream",
     "text": [
      "0입니다.\n",
      "영입니다.\n",
      "없습니다.\n",
      "종료\n"
     ]
    }
   ],
   "source": [
    "num = 0 # 만약에 num이 0이면 \"0입니다.\"로 출력  아니면 아무것도 출력 안함.\n",
    "\n",
    "if num == 0:\n",
    "    print('0입니다.')\n",
    "    print('영입니다.')\n",
    "    print('없습니다.')\n",
    "print('종료')"
   ]
  },
  {
   "cell_type": "code",
   "execution_count": 10,
   "metadata": {},
   "outputs": [
    {
     "name": "stdout",
     "output_type": "stream",
     "text": [
      "종료\n"
     ]
    }
   ],
   "source": [
    "num = 10 \n",
    "#if 조건 : 조건 불 타입이 들어와야 하는곳. 다른 타입의 값이 들어오면 알아서 불(논리형)으로 알아서 변환.\n",
    "if num == 0:\n",
    "    print('0입니다.')\n",
    "    print('영입니다.')\n",
    "    print('없습니다.')\n",
    "print('종료')# 폴스라서 실행이 안됨"
   ]
  },
  {
   "cell_type": "code",
   "execution_count": 79,
   "metadata": {},
   "outputs": [
    {
     "name": "stdout",
     "output_type": "stream",
     "text": [
      "0입니다.\n",
      "영입니다.\n",
      "없습니다.\n",
      "종료\n"
     ]
    }
   ],
   "source": [
    "num = 0 # 만약에 num이 0이면 \"0입니다.\"로 출력  아니면 아무것도 출력 안함.\n",
    "\n",
    "if not num:     #0 이면은 폴스인데 true가 되야 해서 앞에 not을 붙여서 트루로 바꿔준다.\n",
    "    print('0입니다.')\n",
    "    print('영입니다.')\n",
    "    print('없습니다.')\n",
    "print('종료')"
   ]
  },
  {
   "cell_type": "code",
   "execution_count": 2,
   "metadata": {},
   "outputs": [
    {
     "name": "stdout",
     "output_type": "stream",
     "text": [
      "Fa\n"
     ]
    }
   ],
   "source": [
    "if 0:#===  0 을넣었을때 알아서 bool 값으로 판단, 0이니까 False 이다.\n",
    "    print('gkdl')\n",
    "print('Fa')"
   ]
  },
  {
   "cell_type": "code",
   "execution_count": 80,
   "metadata": {},
   "outputs": [
    {
     "name": "stdout",
     "output_type": "stream",
     "text": [
      "종료\n"
     ]
    }
   ],
   "source": [
    "num = 0 # 만약에 num이 0이면 \"0입니다.\"로 출력  아니면 아무것도 출력 안함.\n",
    "\n",
    "if  num:     \n",
    "    print('0입니다.')\n",
    "    print('영입니다.')\n",
    "    print('없습니다.')\n",
    "print('종료')"
   ]
  },
  {
   "cell_type": "code",
   "execution_count": 12,
   "metadata": {},
   "outputs": [
    {
     "name": "stdout",
     "output_type": "stream",
     "text": [
      "종료\n"
     ]
    }
   ],
   "source": [
    "num = 10 \n",
    "#if 조건 : 조건 불 타입이 들어와야 하는곳. 다른 타입의 값이 들어오면 알아서 불(논리형)으로 알아서 변환.\n",
    "if not num:  # 10이라서 True 이지만  앞에 not 때문에 False 가 된것이다.\n",
    "    print('0입니다.')\n",
    "    print('영입니다.')\n",
    "    print('없습니다.')\n",
    "print('종료')   # 폴스라서 실행이 안됨"
   ]
  },
  {
   "cell_type": "code",
   "execution_count": null,
   "metadata": {},
   "outputs": [],
   "source": [
    "num = 0\n",
    " # 만약에 num이 0이면 \"0입니다.\"로 출력  아니면 0이 아닙니다.출력"
   ]
  },
  {
   "cell_type": "code",
   "execution_count": 18,
   "metadata": {},
   "outputs": [
    {
     "name": "stdout",
     "output_type": "stream",
     "text": [
      "0입니다.\n",
      "영입니다.\n",
      "없습니다.\n",
      "종료\n"
     ]
    }
   ],
   "source": [
    "num = 0\n",
    "if num==0:  # 불리언, 조건이다. 0과 같냐 아니냐를 묻는것이다. 즉 0 이맞으면 True 인것이지 0이라고  False 가아니다. \n",
    "    print('0입니다.')\n",
    "    print('영입니다.')\n",
    "    print('없습니다.')\n",
    "else:\n",
    "    print('0이 아닙니다.')\n",
    "    print('값-',num)\n",
    "\n",
    "print('종료')"
   ]
  },
  {
   "cell_type": "code",
   "execution_count": 19,
   "metadata": {},
   "outputs": [
    {
     "name": "stdout",
     "output_type": "stream",
     "text": [
      "0이 아닙니다.\n",
      "값- 10\n",
      "종료\n"
     ]
    }
   ],
   "source": [
    "num = 10\n",
    "if num==0:\n",
    "    print('0입니다.')\n",
    "    print('영입니다.')\n",
    "    print('없습니다.')\n",
    "else:\n",
    "    print('0이 아닙니다.')\n",
    "    print('값-',num)\n",
    "\n",
    "print('종료')"
   ]
  },
  {
   "cell_type": "code",
   "execution_count": 5,
   "metadata": {},
   "outputs": [
    {
     "name": "stdout",
     "output_type": "stream",
     "text": [
      "False 입니다.\n"
     ]
    }
   ],
   "source": [
    "if None :\n",
    "    print('gd')\n",
    "else :\n",
    "    print('False 입니다.')"
   ]
  },
  {
   "cell_type": "code",
   "execution_count": 21,
   "metadata": {},
   "outputs": [],
   "source": [
    "# 숫자: 0,0.0, None=> False 나머진: True\n",
    "num = 0"
   ]
  },
  {
   "cell_type": "code",
   "execution_count": 22,
   "metadata": {},
   "outputs": [
    {
     "data": {
      "text/plain": [
       "False"
      ]
     },
     "execution_count": 22,
     "metadata": {},
     "output_type": "execute_result"
    }
   ],
   "source": [
    "bool(num)"
   ]
  },
  {
   "cell_type": "code",
   "execution_count": 23,
   "metadata": {},
   "outputs": [
    {
     "data": {
      "text/plain": [
       "True"
      ]
     },
     "execution_count": 23,
     "metadata": {},
     "output_type": "execute_result"
    }
   ],
   "source": [
    "not bool(num) # not True => False, not False => True"
   ]
  },
  {
   "cell_type": "code",
   "execution_count": 24,
   "metadata": {},
   "outputs": [
    {
     "name": "stdout",
     "output_type": "stream",
     "text": [
      "0\n"
     ]
    }
   ],
   "source": [
    "if not bool(num): # True조건 : num == 0\n",
    "    print(\"0\")"
   ]
  },
  {
   "cell_type": "code",
   "execution_count": 136,
   "metadata": {},
   "outputs": [
    {
     "name": "stdout",
     "output_type": "stream",
     "text": [
      "0\n"
     ]
    }
   ],
   "source": [
    "num = 0  #num 이 0 보다 크면 양수 출력, 0이면 0출력 0보다 작으면 음수 출력!// (여러가지 연습 해보기0)\n",
    "\n",
    "if num>0 :\n",
    "    print('양수')\n",
    "elif num == 0:\n",
    "    print(\"0\")   # for in 문에서 여러가지 if 문을 갖고 있다면 그중 True 나오는것을 실행하고 위로 올라가서 반복한다.\n",
    "elif num < 0 :\n",
    "    print(\"음수\")"
   ]
  },
  {
   "cell_type": "code",
   "execution_count": 137,
   "metadata": {},
   "outputs": [
    {
     "name": "stdout",
     "output_type": "stream",
     "text": [
      "0\n"
     ]
    }
   ],
   "source": [
    "num = 0  #num 이 0 보다 크면 양수 출력, 0이면 0출력 0보다 작으면 음수 출력!// (여러가지 연습 해보기0)\n",
    "\n",
    "if num>0 :\n",
    "    print('양수')\n",
    "if num == 0:\n",
    "    print(\"0\")\n",
    "if num < 0 :\n",
    "    print(\"음수\")   #위의 코드와 결과값은 같지만 //  elif 와 if 의 차이 \n",
    "                    #이코드는 트루가 나와도 밑에코드를 계속 실행 위에거는 트루만 나오면 밑에 코드 실행 안한다."
   ]
  },
  {
   "cell_type": "code",
   "execution_count": 29,
   "metadata": {},
   "outputs": [
    {
     "name": "stdout",
     "output_type": "stream",
     "text": [
      "0\n"
     ]
    }
   ],
   "source": [
    "num = 0  #num 이 0 보다 크면 양수 출력, 0이면 0출력 0보다 작으면 음수 출력!// (여러가지 연습 해보기0)\n",
    "#두조건 하고 나머지 하나 엘스로 해도 결과는 같으니까!!\n",
    "if num>0 :\n",
    "    print('양수')\n",
    "elif num == 0:\n",
    "    print('0')           \n",
    "else: \n",
    "    print('음수')   #else 에는 조건쓰지 않는다.// 앞에서 <<<<<트루가 나오면 다음  조건으로 안넘어간다.!!!!!!!>>>>>>>"
   ]
  },
  {
   "cell_type": "code",
   "execution_count": 135,
   "metadata": {},
   "outputs": [
    {
     "name": "stdout",
     "output_type": "stream",
     "text": [
      "0\n"
     ]
    }
   ],
   "source": [
    "num = 0  #num 이 0 보다 크면 양수 출력, 0이면 0출력 0보다 작으면 음수 출력!// (여러가지 연습 해보기0)\n",
    "#두조건 하고 나머지 하나 엘스로 해도 결과는 같으니까!!\n",
    "if num>0 :\n",
    "    print('양수')\n",
    "if num == 0:\n",
    "    print('0')\n",
    "else: \n",
    "    print('음수')   #else 에는 조건쓰지 않는다.// 앞에서 트루가 나오면 다음  조건으로 안넘어간다."
   ]
  },
  {
   "cell_type": "code",
   "execution_count": 11,
   "metadata": {},
   "outputs": [
    {
     "name": "stdout",
     "output_type": "stream",
     "text": [
      "도시명:서울\n"
     ]
    }
   ],
   "source": [
    "city = input(\"도시명:\")"
   ]
  },
  {
   "cell_type": "code",
   "execution_count": 7,
   "metadata": {},
   "outputs": [
    {
     "data": {
      "text/plain": [
       "'의정부'"
      ]
     },
     "execution_count": 7,
     "metadata": {},
     "output_type": "execute_result"
    }
   ],
   "source": [
    "city"
   ]
  },
  {
   "cell_type": "code",
   "execution_count": 14,
   "metadata": {},
   "outputs": [
    {
     "name": "stdout",
     "output_type": "stream",
     "text": [
      "도시명: 수울\n"
     ]
    }
   ],
   "source": [
    "city = input(\"도시명: \")\n",
    "city = city.strip() # 사용자 들이 실수로 도시명 입력후 ('서울 ') 공백을 만들까봐 넣은 strip\n",
    "\n",
    "\n"
   ]
  },
  {
   "cell_type": "code",
   "execution_count": 85,
   "metadata": {},
   "outputs": [
    {
     "name": "stdout",
     "output_type": "stream",
     "text": [
      "키는 189이며, 몸무게는 80입니다.\n"
     ]
    }
   ],
   "source": [
    "h = '189'\n",
    "w = '80'\n",
    "value = f'키는 {h}이며, 몸무게는 {w}입니다.'\n",
    "print(value)"
   ]
  },
  {
   "cell_type": "code",
   "execution_count": 12,
   "metadata": {},
   "outputs": [
    {
     "name": "stdout",
     "output_type": "stream",
     "text": [
      "서울특별시\n",
      "서울~특별시\n"
     ]
    }
   ],
   "source": [
    "if city == '서울':\n",
    "    print(f\"{city}특별시\")\n",
    "    print(city, \"특별시\",sep=\"~\")  #==>sep는 서울 과 특별시 사이에 들어갈 문자 기호 등을 넣는것이다.\n",
    "elif city in[\"인천\",'부산','광주','대구','대전','울산']:\n",
    "    print(f\"{city}광역시\")\n",
    "else:\n",
    "    print(f\"{city}일반시\")"
   ]
  },
  {
   "cell_type": "code",
   "execution_count": 15,
   "metadata": {},
   "outputs": [
    {
     "name": "stdout",
     "output_type": "stream",
     "text": [
      "도시명서울\n"
     ]
    }
   ],
   "source": [
    "c1 = input('도시명')"
   ]
  },
  {
   "cell_type": "code",
   "execution_count": 16,
   "metadata": {},
   "outputs": [
    {
     "name": "stdout",
     "output_type": "stream",
     "text": [
      "서울은 한국에 있는 도시입니다.\n"
     ]
    }
   ],
   "source": [
    "if c1 =='LA':\n",
    "    print(f'{c1}은 미국에 있는 도시입니다.')\n",
    "elif c1 == '도쿄':\n",
    "    print(f'{c1}은 일본에 있는 도시입니다.')\n",
    "else:\n",
    "    print(f'{c1}은 한국에 있는 도시입니다.')"
   ]
  },
  {
   "cell_type": "code",
   "execution_count": 13,
   "metadata": {},
   "outputs": [
    {
     "name": "stdout",
     "output_type": "stream",
     "text": [
      "친구하이\n"
     ]
    }
   ],
   "source": [
    "freind = input('친구')"
   ]
  },
  {
   "cell_type": "code",
   "execution_count": 18,
   "metadata": {},
   "outputs": [
    {
     "name": "stdout",
     "output_type": "stream",
     "text": [
      "who the fuXX are you?\n"
     ]
    }
   ],
   "source": [
    "if freind =='대민':\n",
    "    print('친구입니다.')\n",
    "elif freind == '동표':\n",
    "    print(f'{freind}는 멍청이 입니다.')\n",
    "else : \n",
    "    print('who the fuXX are you?') "
   ]
  },
  {
   "cell_type": "code",
   "execution_count": 86,
   "metadata": {},
   "outputs": [
    {
     "name": "stdout",
     "output_type": "stream",
     "text": [
      "도시명:의정부\n"
     ]
    }
   ],
   "source": [
    "city = input(\"도시명:\").strip()"
   ]
  },
  {
   "cell_type": "code",
   "execution_count": 87,
   "metadata": {},
   "outputs": [
    {
     "name": "stdout",
     "output_type": "stream",
     "text": [
      "의정부일반시\n"
     ]
    }
   ],
   "source": [
    "if city == '서울':\n",
    "    print(f\"{city}특별시\")\n",
    "   #print('city',특별시)  sep''  ==>sep는 서울 과 특별시 사이에 들어갈 문자 기호 등을 넣는것이다.\n",
    "elif city in[\"인천\",'부산','광주','대구','대전','울산']:\n",
    "    #문자열 formatting / 문자열에 문장 형태를 미리 만들어 놓고 값은 나중에 대입\n",
    "    # (f\"{city}특별시\")  형태를 만들어 놓고 input 도시이름 시티를 삽입하여 문장 완성\n",
    "    print(f\"{city}광역시\")\n",
    "else:\n",
    "    print(f\"{city}일반시\")"
   ]
  },
  {
   "cell_type": "markdown",
   "metadata": {},
   "source": [
    "\n",
    "#  *중*     반복문   *요* \n",
    " - while 문\n",
    "     - 조건이 True 인동안 반복\n",
    " -for in 문\n",
    "    -자료구조(리스트/ 튜플(원소변형X)/ 셋(중복X)/ 딕셔너리 ),문자열 의 원소들을 하나식 모두 조회 할때 사용. 이터러블 타입\n",
    "    \n",
    "  - tab 자동완성\n",
    "  -shift + tab  \n",
    "  == ?\n",
    " \n",
    " \n",
    " -- a += 1 /// a = a+1  ==> 같은뜻이다.\n",
    "   - a *= 1 /// a = a*1  ==> 같은뜻이다.\n",
    "   - a -= 1 /// a = a-1  ==> 같은뜻이다.\n",
    " \n",
    " \n",
    " \n",
    " "
   ]
  },
  {
   "cell_type": "code",
   "execution_count": 17,
   "metadata": {},
   "outputs": [
    {
     "name": "stdout",
     "output_type": "stream",
     "text": [
      "Object `print   #앞에 물음표 붙이면 함수 설명~~!` not found.\n"
     ]
    }
   ],
   "source": [
    "?print   #앞에 물음표 붙이면 함수 설명~~!"
   ]
  },
  {
   "cell_type": "markdown",
   "metadata": {},
   "source": [
    "# while"
   ]
  },
  {
   "cell_type": "code",
   "execution_count": 45,
   "metadata": {
    "collapsed": true
   },
   "outputs": [
    {
     "name": "stdout",
     "output_type": "stream",
     "text": [
      "안녕하세요.\n",
      "안녕하세요.\n",
      "안녕하세요.\n",
      "안녕하세요.\n",
      "안녕하세요.\n",
      "안녕하세요.\n",
      "안녕하세요.\n",
      "안녕하세요.\n",
      "안녕하세요.\n",
      "안녕하세요.\n",
      "종료\n"
     ]
    }
   ],
   "source": [
    "cnt = 0 # 초기식  - 조건에서 사용되면서 조건을 폴스로 바꿀 때 사용할 값. 이값은 반복구문에서 사용할수있다.\n",
    "while cnt < 10: #조건식    #=> 0<10 트루 /// 초기식이 필요함// 조건이 트루인 동안 계속 반복\n",
    "  #  print(cnt)\n",
    "    print(\"안녕하세요.\")\n",
    "#    cnt = cnt + 1 #증감식  없으면 무한히 반복\n",
    "    cnt +=1 #=  cnt = cnt + 1\n",
    "    \n",
    "print(\"종료\")"
   ]
  },
  {
   "cell_type": "code",
   "execution_count": 18,
   "metadata": {},
   "outputs": [
    {
     "name": "stdout",
     "output_type": "stream",
     "text": [
      "python\n",
      "python\n",
      "python\n",
      "python\n",
      "python\n",
      "python\n",
      "python\n",
      "python\n"
     ]
    }
   ],
   "source": [
    "cnt=2\n",
    "while cnt<10:\n",
    "    print('python')\n",
    "    cnt+=1"
   ]
  },
  {
   "cell_type": "code",
   "execution_count": 20,
   "metadata": {},
   "outputs": [
    {
     "name": "stdout",
     "output_type": "stream",
     "text": [
      "dan is a good boy\n",
      "dan is a good boy\n",
      "dan is a good boy\n",
      "dan is a good boy\n",
      "dan is a good boy\n"
     ]
    }
   ],
   "source": [
    "dan = 0\n",
    "\n",
    "while dan <5:\n",
    "    print ('dan is a good boy')\n",
    "    dan +=1"
   ]
  },
  {
   "cell_type": "code",
   "execution_count": null,
   "metadata": {},
   "outputs": [],
   "source": []
  },
  {
   "cell_type": "code",
   "execution_count": null,
   "metadata": {},
   "outputs": [],
   "source": [
    "#- 대입연산자\n",
    " -변수\n",
    "    # a += 1 /// a = a+1  ==> 같은뜻이다.\n",
    "   #a *= 1 /// a = a*1  ==> 같은뜻이다.\n",
    " #a -= 1 /// a = a-1  ==> 같은뜻이다.\n",
    " \n",
    "    사진 필기 다시 하기 "
   ]
  },
  {
   "cell_type": "code",
   "execution_count": null,
   "metadata": {},
   "outputs": [],
   "source": [
    "# 1~100 중에 오의 배수만 출력 cnt가 5의 배수 이면 출력해라 "
   ]
  },
  {
   "cell_type": "code",
   "execution_count": 21,
   "metadata": {
    "collapsed": true
   },
   "outputs": [
    {
     "name": "stdout",
     "output_type": "stream",
     "text": [
      "5\n",
      "10\n",
      "15\n",
      "20\n",
      "25\n",
      "30\n",
      "35\n",
      "40\n",
      "45\n",
      "50\n",
      "55\n",
      "60\n",
      "65\n",
      "70\n",
      "75\n",
      "80\n",
      "85\n",
      "90\n",
      "95\n",
      "100\n"
     ]
    }
   ],
   "source": [
    "cnt =1\n",
    "while cnt<=100:\n",
    "    if cnt %5 ==0:\n",
    "        print(cnt)\n",
    "    cnt+=1"
   ]
  },
  {
   "cell_type": "code",
   "execution_count": 24,
   "metadata": {},
   "outputs": [
    {
     "name": "stdout",
     "output_type": "stream",
     "text": [
      "0\n",
      "3\n",
      "6\n",
      "9\n",
      "12\n",
      "15\n",
      "18\n",
      "21\n",
      "24\n",
      "27\n",
      "30\n"
     ]
    }
   ],
   "source": [
    "dan1 = 0\n",
    "while dan1 <= 30:\n",
    "    if dan1 % 3==0:\n",
    "        print(dan1)  # while 문 안에서 if 를 반복하는것 근데 dan1 += 1이 if 안으로 들어가면 +1하는것이 반복이 안되서 무한으로 반복 되는것이다.\n",
    "    dan1 += 1"
   ]
  },
  {
   "cell_type": "code",
   "execution_count": 47,
   "metadata": {
    "collapsed": true
   },
   "outputs": [
    {
     "name": "stdout",
     "output_type": "stream",
     "text": [
      "5\n",
      "10\n",
      "15\n",
      "20\n",
      "25\n",
      "30\n",
      "35\n",
      "40\n",
      "45\n",
      "50\n",
      "55\n",
      "60\n",
      "65\n",
      "70\n",
      "75\n",
      "80\n",
      "85\n",
      "90\n",
      "95\n",
      "100\n"
     ]
    }
   ],
   "source": [
    "cnt =1\n",
    "while cnt <= 100:\n",
    "    if cnt % 5 ==0:\n",
    "        print(cnt)\n",
    "    cnt +=1"
   ]
  },
  {
   "cell_type": "code",
   "execution_count": 28,
   "metadata": {
    "collapsed": true
   },
   "outputs": [
    {
     "name": "stdout",
     "output_type": "stream",
     "text": [
      "3\n",
      "6\n",
      "9\n",
      "12\n",
      "15\n",
      "18\n",
      "21\n",
      "24\n",
      "27\n",
      "30\n"
     ]
    }
   ],
   "source": [
    "dan0 = 1\n",
    "apple = True\n",
    "while apple:\n",
    "    if dan0 % 3==0:\n",
    "        print(dan0)\n",
    "    dan0 += 1\n",
    "    if dan0 > 31:\n",
    "        apple = False \n",
    "        "
   ]
  },
  {
   "cell_type": "code",
   "execution_count": null,
   "metadata": {},
   "outputs": [],
   "source": []
  },
  {
   "cell_type": "code",
   "execution_count": 27,
   "metadata": {
    "collapsed": true
   },
   "outputs": [
    {
     "name": "stdout",
     "output_type": "stream",
     "text": [
      "5\n",
      "10\n",
      "15\n",
      "20\n",
      "25\n",
      "30\n",
      "35\n",
      "40\n",
      "45\n",
      "50\n",
      "55\n",
      "60\n",
      "65\n",
      "70\n",
      "75\n",
      "80\n",
      "85\n",
      "90\n",
      "95\n",
      "100\n"
     ]
    }
   ],
   "source": [
    "cnt = 1\n",
    "flag = True\n",
    "while flag :\n",
    "    if cnt % 5 ==0:   #p17 나머지 구할 때 \"%\" 사용한다!! \n",
    "        print (cnt)\n",
    "    cnt += 1\n",
    "    if cnt>100:\n",
    "        flag = False"
   ]
  },
  {
   "cell_type": "markdown",
   "metadata": {},
   "source": [
    "## for in 문\n",
    "```python\n",
    "for 변수 in iterable:\n",
    "    반복할 구문\n",
    "```"
   ]
  },
  {
   "cell_type": "code",
   "execution_count": null,
   "metadata": {},
   "outputs": [],
   "source": [
    "fruits = ['사과', '복숭아', '귤', '수박', '배']"
   ]
  },
  {
   "cell_type": "code",
   "execution_count": 31,
   "metadata": {},
   "outputs": [
    {
     "data": {
      "text/plain": [
       "'사과'"
      ]
     },
     "execution_count": 31,
     "metadata": {},
     "output_type": "execute_result"
    }
   ],
   "source": [
    "fruits[0]"
   ]
  },
  {
   "cell_type": "code",
   "execution_count": 30,
   "metadata": {},
   "outputs": [
    {
     "name": "stdout",
     "output_type": "stream",
     "text": [
      "사과\n",
      "복숭아\n",
      "귤\n",
      "수박\n",
      "배\n"
     ]
    }
   ],
   "source": [
    "index = 0 #리스트의 index\n",
    "\n",
    "while index < 5:\n",
    "    print(fruits[index])   #리스트에서 '리스트명[index number]' 입력하면 불러오니까/원소의 갯수가 늘어나면 while 조건부분을 계속 수정해야함.ㅜ\n",
    "    index += 1"
   ]
  },
  {
   "cell_type": "code",
   "execution_count": 33,
   "metadata": {},
   "outputs": [
    {
     "name": "stdout",
     "output_type": "stream",
     "text": [
      "7\n"
     ]
    }
   ],
   "source": [
    "fruits = ['사과', '복숭아', '귤', '수박', '배',\"딸기\",'멜론']  #원소의 갯수가 늘거나 줄어도 되는 코드\n",
    "length = len(fruits)\n",
    "print(length)"
   ]
  },
  {
   "cell_type": "code",
   "execution_count": 107,
   "metadata": {
    "collapsed": true
   },
   "outputs": [
    {
     "name": "stdout",
     "output_type": "stream",
     "text": [
      "사과\n",
      "복숭아\n",
      "귤\n",
      "수박\n",
      "배\n",
      "딸기\n",
      "멜론\n"
     ]
    }
   ],
   "source": [
    "index = 0 #리스트의 index\n",
    "length = len(fruits)\n",
    " \n",
    "while index < length:\n",
    "#index 넘버는 원소 갯수를 절대 넘을 수 없음  len이 7이니까 index가 7이되면 false가되서 반복중지\n",
    "    print(fruits[index])\n",
    "    index += 1  "
   ]
  },
  {
   "cell_type": "code",
   "execution_count": 27,
   "metadata": {},
   "outputs": [],
   "source": [
    "cine=[\"potter\",'teddy','inter','twil']"
   ]
  },
  {
   "cell_type": "code",
   "execution_count": 29,
   "metadata": {},
   "outputs": [
    {
     "name": "stdout",
     "output_type": "stream",
     "text": [
      "potter\n",
      "teddy\n",
      "inter\n",
      "twil\n"
     ]
    }
   ],
   "source": [
    "index = 0\n",
    "while index<=len(cine)-1:\n",
    "    print(cine[index])\n",
    "    index+=1"
   ]
  },
  {
   "cell_type": "code",
   "execution_count": 108,
   "metadata": {
    "scrolled": false
   },
   "outputs": [
    {
     "name": "stdout",
     "output_type": "stream",
     "text": [
      "사과\n",
      "복숭아\n",
      "귤\n",
      "수박\n",
      "배\n",
      "딸기\n",
      "멜론\n"
     ]
    }
   ],
   "source": [
    "for fruit in fruits#자료구조:\n",
    "    print(fruit)"
   ]
  },
  {
   "cell_type": "code",
   "execution_count": 54,
   "metadata": {},
   "outputs": [
    {
     "name": "stdout",
     "output_type": "stream",
     "text": [
      "1\n",
      "3\n",
      "4\n",
      "5\n"
     ]
    }
   ],
   "source": [
    "for num in (1,3,4,5,):\n",
    "    print(num)      "
   ]
  },
  {
   "cell_type": "code",
   "execution_count": 34,
   "metadata": {},
   "outputs": [
    {
     "name": "stdout",
     "output_type": "stream",
     "text": [
      "a\n",
      "b\n",
      "c\n"
     ]
    }
   ],
   "source": [
    "d={\n",
    "    \"a\":10,\n",
    "    \"b\":20,\n",
    "    'c':30,\n",
    "}\n",
    "\n",
    "for k in d:\n",
    "    print(k)   #딕셔너리를 for 문에 넣으면 key값을 반환. 하단."
   ]
  },
  {
   "cell_type": "code",
   "execution_count": 49,
   "metadata": {},
   "outputs": [
    {
     "data": {
      "text/plain": [
       "(dict_values([10, 20, 30]),\n",
       " dict_keys(['a', 'b', 'c']),\n",
       " dict_items([('a', 10), ('b', 20), ('c', 30)]))"
      ]
     },
     "execution_count": 49,
     "metadata": {},
     "output_type": "execute_result"
    }
   ],
   "source": [
    "d.values(), d.keys(),d. items()"
   ]
  },
  {
   "cell_type": "code",
   "execution_count": null,
   "metadata": {},
   "outputs": [],
   "source": []
  },
  {
   "cell_type": "code",
   "execution_count": 31,
   "metadata": {},
   "outputs": [],
   "source": [
    "d={\n",
    "    \"a\":10,\n",
    "    \"b\":20,\n",
    "    'c':30,\n",
    "}"
   ]
  },
  {
   "cell_type": "code",
   "execution_count": 33,
   "metadata": {},
   "outputs": [
    {
     "name": "stdout",
     "output_type": "stream",
     "text": [
      "20\n"
     ]
    }
   ],
   "source": [
    "#키가 b 인 아이템의 벨류를 출력\n",
    "\n",
    "for i in d.items():  #--> 딕셔너리 튜플로 반환한다.\n",
    "    if i[0] == 'b':  # --> 튜플로 반환 받은 값중에 (3개의 튜플이 나올것이다.) 인덱스 0번이 키 이니까 그튜플의 values 인덱스번호 1번 을 출력\n",
    "        print(i[1])\n",
    "    "
   ]
  },
  {
   "cell_type": "code",
   "execution_count": null,
   "metadata": {},
   "outputs": [],
   "source": []
  },
  {
   "cell_type": "code",
   "execution_count": 112,
   "metadata": {},
   "outputs": [
    {
     "data": {
      "text/plain": [
       "dict_values"
      ]
     },
     "execution_count": 112,
     "metadata": {},
     "output_type": "execute_result"
    }
   ],
   "source": [
    "type(d.values())"
   ]
  },
  {
   "cell_type": "code",
   "execution_count": null,
   "metadata": {},
   "outputs": [],
   "source": [
    "#키가 b 인 아이템의 벨류를 출력\n",
    "for v in d.items():\n",
    "    if v[0]=='b':\n",
    "        print(v[1])"
   ]
  },
  {
   "cell_type": "code",
   "execution_count": 42,
   "metadata": {},
   "outputs": [
    {
     "name": "stdout",
     "output_type": "stream",
     "text": [
      "['a']\n",
      "['b']\n",
      "['c']\n"
     ]
    }
   ],
   "source": [
    "for k in d:\n",
    "    print([k])"
   ]
  },
  {
   "cell_type": "code",
   "execution_count": 37,
   "metadata": {},
   "outputs": [
    {
     "data": {
      "text/plain": [
       "list"
      ]
     },
     "execution_count": 37,
     "metadata": {},
     "output_type": "execute_result"
    }
   ],
   "source": [
    "type([k])"
   ]
  },
  {
   "cell_type": "code",
   "execution_count": 75,
   "metadata": {},
   "outputs": [
    {
     "name": "stdout",
     "output_type": "stream",
     "text": [
      "10\n",
      "20\n",
      "30\n"
     ]
    }
   ],
   "source": [
    "\n",
    "for v in d.values():\n",
    "    print(v)"
   ]
  },
  {
   "cell_type": "code",
   "execution_count": 77,
   "metadata": {
    "collapsed": true
   },
   "outputs": [
    {
     "name": "stdout",
     "output_type": "stream",
     "text": [
      "('a', 10)\n",
      "('b', 20)\n",
      "('c', 30)\n"
     ]
    }
   ],
   "source": [
    "\n",
    "for v in d.items():\n",
    "    print(v)"
   ]
  },
  {
   "cell_type": "code",
   "execution_count": 47,
   "metadata": {},
   "outputs": [],
   "source": [
    "d={\n",
    "    \"a\":10,\n",
    "    \"b\":20,\n",
    "    'c':30,\n",
    "}"
   ]
  },
  {
   "cell_type": "code",
   "execution_count": 50,
   "metadata": {},
   "outputs": [
    {
     "data": {
      "text/plain": [
       "dict_items([('a', 10), ('b', 20), ('c', 30)])"
      ]
     },
     "execution_count": 50,
     "metadata": {},
     "output_type": "execute_result"
    }
   ],
   "source": [
    "d.items()"
   ]
  },
  {
   "cell_type": "code",
   "execution_count": 54,
   "metadata": {},
   "outputs": [
    {
     "name": "stdout",
     "output_type": "stream",
     "text": [
      "10\n"
     ]
    }
   ],
   "source": [
    "# 키가 a 인 아이템의 벨류를 출력\n",
    "for kim in d.items():\n",
    "    if kim[0] == \"a\":\n",
    "        print(kim[1])\n",
    "    "
   ]
  },
  {
   "cell_type": "code",
   "execution_count": 53,
   "metadata": {},
   "outputs": [
    {
     "name": "stdout",
     "output_type": "stream",
     "text": [
      "30\n"
     ]
    }
   ],
   "source": [
    "#키가 c인 아이템의 벨류를 출력\n",
    "for dan in d.items():\n",
    "    if dan[0] == 'c':\n",
    "        print(dan[1])\n",
    "    "
   ]
  },
  {
   "cell_type": "code",
   "execution_count": 51,
   "metadata": {},
   "outputs": [
    {
     "name": "stdout",
     "output_type": "stream",
     "text": [
      "20\n"
     ]
    }
   ],
   "source": [
    "#키가 b 인 아이템의 벨류를 출력\n",
    "for v in d.items():\n",
    "    if v[0]=='b':\n",
    "        print(v[1])"
   ]
  },
  {
   "cell_type": "code",
   "execution_count": 34,
   "metadata": {},
   "outputs": [
    {
     "data": {
      "text/plain": [
       "dict_items([('a', 10), ('b', 20), ('c', 30)])"
      ]
     },
     "execution_count": 34,
     "metadata": {},
     "output_type": "execute_result"
    }
   ],
   "source": [
    "d.items()"
   ]
  },
  {
   "cell_type": "code",
   "execution_count": 120,
   "metadata": {},
   "outputs": [
    {
     "name": "stdout",
     "output_type": "stream",
     "text": [
      "20\n"
     ]
    }
   ],
   "source": [
    "for key, value in d.items():\n",
    "    if key == 'b':\n",
    "        print(value)            #변수 여러개 설정 가능// 키,벨류로 두개 설정했음"
   ]
  },
  {
   "cell_type": "code",
   "execution_count": 35,
   "metadata": {},
   "outputs": [
    {
     "name": "stdout",
     "output_type": "stream",
     "text": [
      "10\n"
     ]
    }
   ],
   "source": [
    "for k,v in d.items():  # 튜플로 나오는 원소들을 변수를 두개를 설정해서 바로 따로 받아서 사용했다.\n",
    "    if k == 'a':\n",
    "        print(v)"
   ]
  },
  {
   "cell_type": "code",
   "execution_count": 37,
   "metadata": {},
   "outputs": [],
   "source": [
    "lst = [\n",
    "    [1,2,3],\n",
    "    [20,34,4,],\n",
    "    [4,5,6],\n",
    "    ]"
   ]
  },
  {
   "cell_type": "code",
   "execution_count": 41,
   "metadata": {},
   "outputs": [
    {
     "name": "stdout",
     "output_type": "stream",
     "text": [
      "1★2★3\n",
      "20★34★4\n",
      "4★5★6\n"
     ]
    }
   ],
   "source": [
    "for a,b,c in lst:\n",
    "    print(a,b,c,sep='★')"
   ]
  },
  {
   "cell_type": "code",
   "execution_count": 40,
   "metadata": {},
   "outputs": [
    {
     "name": "stdout",
     "output_type": "stream",
     "text": [
      "1-2-3\n",
      "20-34-4\n",
      "4-5-6\n"
     ]
    }
   ],
   "source": [
    "for v1,v2,v3 in lst:\n",
    "    print(v1,v2,v3, sep=\"-\")  #원소 개수와 변수 개수가 같아야한다.~!"
   ]
  },
  {
   "cell_type": "code",
   "execution_count": 45,
   "metadata": {},
   "outputs": [],
   "source": [
    "dan = [\n",
    "    ['치킨','맥주','족발'],\n",
    "    ['삼겹살','소주','맥주'],\n",
    "    ['파전','소맥','골뱅이']\n",
    "]\n"
   ]
  },
  {
   "cell_type": "code",
   "execution_count": 46,
   "metadata": {},
   "outputs": [
    {
     "name": "stdout",
     "output_type": "stream",
     "text": [
      "치@맥@족\n",
      "삼@소@맥\n",
      "파@소@골\n"
     ]
    }
   ],
   "source": [
    "for a,b,c in dan:\n",
    "    print(a[0],b[0],c[0],sep='@')"
   ]
  },
  {
   "cell_type": "code",
   "execution_count": 59,
   "metadata": {},
   "outputs": [
    {
     "data": {
      "text/plain": [
       "list"
      ]
     },
     "execution_count": 59,
     "metadata": {},
     "output_type": "execute_result"
    }
   ],
   "source": [
    "type(dan)"
   ]
  },
  {
   "cell_type": "code",
   "execution_count": 63,
   "metadata": {},
   "outputs": [
    {
     "name": "stdout",
     "output_type": "stream",
     "text": [
      "치킨@맥주@족발\n",
      "삼겹살@소주@맥주\n",
      "파전@소맥@골뱅이\n"
     ]
    }
   ],
   "source": [
    "for k1,k2,k3 in dan:\n",
    "    print(k1,k2,k3, sep=\"@\")"
   ]
  },
  {
   "cell_type": "code",
   "execution_count": 47,
   "metadata": {},
   "outputs": [],
   "source": [
    "lst1 = [\n",
    "    [1,2,3],\n",
    "    [20,34,4,],\n",
    "    [4,5,6,4,5],\n",
    "    ]"
   ]
  },
  {
   "cell_type": "markdown",
   "metadata": {},
   "source": [
    "#### 이중 for in 구문"
   ]
  },
  {
   "cell_type": "code",
   "execution_count": 52,
   "metadata": {},
   "outputs": [
    {
     "name": "stdout",
     "output_type": "stream",
     "text": [
      "1 2 3 \n",
      "20 34 4 \n",
      "4 5 6 4 5 \n"
     ]
    }
   ],
   "source": [
    "for l in lst1:          #3번 반복\n",
    "    for v in l:         # l = [1,2,3]일때 1이 프린트되고 end=' '이게 붙고 그다음 2,3,이끝날때마다 *end' ' 이것때문에 가로로 출력된다.> #3번반복\n",
    "        print(v,end=\" \")  #원소 갯수 다를때 # 1번 3 번반복 2번 3번 .// 3번 4번반복한다 \n",
    "    print()#엔터         #  l = [1,2,3]일때  여기 원소 3개가 다 반복되면 print()를 하고 다시 첫번째 for로가서 반복을 한다."
   ]
  },
  {
   "cell_type": "code",
   "execution_count": 54,
   "metadata": {},
   "outputs": [],
   "source": [
    "dany = [\n",
    "    ['치킨','맥주',],\n",
    "    ['삼겹살','소주','맥주'],\n",
    "    ['파전','소맥','골뱅이']\n",
    "]"
   ]
  },
  {
   "cell_type": "code",
   "execution_count": 55,
   "metadata": {},
   "outputs": [
    {
     "name": "stdout",
     "output_type": "stream",
     "text": [
      "치킨/맥주/\n",
      "삼겹살/소주/맥주/\n",
      "파전/소맥/골뱅이/\n"
     ]
    }
   ],
   "source": [
    "for d in dany:           \n",
    "    for k in d:          # 두번째 for 문을 반복하고 반복이 완료되면 print()을 하고 첫번째가서 다음 원소를 반복한다.\n",
    "        print(k,end=\"/\")# end= '/' 이것때문에 가로로 출력되면서 구분을 지어 준다.\n",
    "    print()"
   ]
  },
  {
   "cell_type": "code",
   "execution_count": 56,
   "metadata": {},
   "outputs": [
    {
     "name": "stdout",
     "output_type": "stream",
     "text": [
      "치킨\n",
      "맥주\n",
      "\n",
      "삼겹살\n",
      "소주\n",
      "맥주\n",
      "\n",
      "파전\n",
      "소맥\n",
      "골뱅이\n",
      "\n"
     ]
    }
   ],
   "source": [
    "for d in dany:\n",
    "    for k in d:\n",
    "        print(k,sep=\"/\")# sep = '/' 은 출력하는게 원소가 1개라 의미가 없다.\n",
    "    print()"
   ]
  },
  {
   "cell_type": "code",
   "execution_count": 128,
   "metadata": {
    "collapsed": true
   },
   "outputs": [
    {
     "name": "stdout",
     "output_type": "stream",
     "text": [
      "a,b,x,d,e,f,가,나,다,라,"
     ]
    }
   ],
   "source": [
    "for s in \"abxdef가나다라\":\n",
    "    print(s,end=',')"
   ]
  },
  {
   "cell_type": "code",
   "execution_count": 59,
   "metadata": {},
   "outputs": [
    {
     "name": "stdout",
     "output_type": "stream",
     "text": [
      "asdfghjkl\n",
      "a^s^d^f^g^h^j^k^l^"
     ]
    }
   ],
   "source": [
    "k=input()\n",
    "for i in k:\n",
    "    print(i,end='^')\n",
    "    "
   ]
  },
  {
   "cell_type": "code",
   "execution_count": 126,
   "metadata": {},
   "outputs": [
    {
     "name": "stdout",
     "output_type": "stream",
     "text": [
      "a/b/20,"
     ]
    }
   ],
   "source": [
    "print(\"a\",\"b\",20,sep=\"/\",end = \",\")"
   ]
  },
  {
   "cell_type": "code",
   "execution_count": null,
   "metadata": {},
   "outputs": [],
   "source": [
    "#1~100까지 5의배수 while 문으로 만들기 \n",
    "cnt = 1\n",
    "flag = True\n",
    "while flag :\n",
    "    if cnt % 5 ==0:   #p17 나머지 구할 때 \"%\" 사용한다!! \n",
    "        print (cnt)\n",
    "    cnt += 1\n",
    "    if cnt>100:\n",
    "        flag = False   # 멈추기위해  True 를 False 로 바꾸려고 변수 사용"
   ]
  },
  {
   "cell_type": "code",
   "execution_count": null,
   "metadata": {},
   "outputs": [],
   "source": []
  },
  {
   "cell_type": "code",
   "execution_count": 62,
   "metadata": {
    "collapsed": true
   },
   "outputs": [
    {
     "name": "stdout",
     "output_type": "stream",
     "text": [
      "5\n",
      "10\n",
      "15\n",
      "20\n",
      "25\n",
      "30\n",
      "35\n",
      "40\n",
      "45\n",
      "50\n",
      "55\n",
      "60\n",
      "65\n",
      "70\n",
      "75\n",
      "80\n",
      "85\n",
      "90\n",
      "95\n",
      "100\n"
     ]
    }
   ],
   "source": [
    "#1~100까지 5의배수 while 문으로 만들기 \n",
    "dan =True\n",
    "cnt =1\n",
    "while dan:\n",
    "    if cnt%5 == 0:\n",
    "        print(cnt)\n",
    "    cnt+=1\n",
    "    if cnt >100:    # elif 는 True 를 찾으면 멈추기 때문에 if 를 써야한다.\n",
    "        dan=False\n",
    "        \n",
    "        "
   ]
  },
  {
   "cell_type": "code",
   "execution_count": null,
   "metadata": {},
   "outputs": [],
   "source": []
  },
  {
   "cell_type": "code",
   "execution_count": 69,
   "metadata": {
    "collapsed": true
   },
   "outputs": [
    {
     "name": "stdout",
     "output_type": "stream",
     "text": [
      "dan's good boy\n",
      "dan's good boy\n",
      "dan's good boy\n",
      "dan's good boy\n",
      "dan's good boy\n",
      "dan's good boy\n",
      "dan's good boy\n",
      "dan's good boy\n",
      "dan's good boy\n",
      "dan's good boy\n",
      "dan's good boy\n"
     ]
    }
   ],
   "source": [
    "dany = 0\n",
    "kim = True\n",
    "while kim:\n",
    "    if dany%3 ==0:\n",
    "        print(\"dan's good boy\")\n",
    "    dany += 1\n",
    "    if dany > 30:\n",
    "        kim = False"
   ]
  },
  {
   "cell_type": "code",
   "execution_count": 129,
   "metadata": {
    "collapsed": true
   },
   "outputs": [
    {
     "name": "stdout",
     "output_type": "stream",
     "text": [
      "5\n",
      "10\n",
      "15\n",
      "20\n",
      "25\n",
      "30\n",
      "35\n",
      "40\n",
      "45\n",
      "50\n",
      "55\n",
      "60\n",
      "65\n",
      "70\n",
      "75\n",
      "80\n",
      "85\n",
      "90\n",
      "95\n",
      "100\n"
     ]
    }
   ],
   "source": [
    "cnt = 1 # 위의 코드와 같은 결과로 나오지만 break로 멈추기 때문에 변수는 필요 없음 \n",
    "while True:\n",
    "    if cnt%5 ==0:\n",
    "        print(cnt)\n",
    "    cnt+=1\n",
    "    if cnt >100:    #특정조건이 되면 break 해라~~\n",
    "        break"
   ]
  },
  {
   "cell_type": "code",
   "execution_count": 4,
   "metadata": {
    "collapsed": true
   },
   "outputs": [
    {
     "name": "stdout",
     "output_type": "stream",
     "text": [
      "dan's good boy\n",
      "dan's good boy\n",
      "dan's good boy\n",
      "dan's good boy\n",
      "dan's good boy\n",
      "dan's good boy\n",
      "dan's good boy\n",
      "dan's good boy\n",
      "dan's good boy\n",
      "dan's good boy\n"
     ]
    }
   ],
   "source": [
    "dany = 1\n",
    "while True:\n",
    "    if dany%3 ==0:\n",
    "        print(\"dan's good boy\")\n",
    "    dany += 1\n",
    "    if dany > 30:\n",
    "        break"
   ]
  },
  {
   "cell_type": "code",
   "execution_count": null,
   "metadata": {},
   "outputs": [],
   "source": []
  },
  {
   "cell_type": "code",
   "execution_count": null,
   "metadata": {},
   "outputs": [],
   "source": [
    "#while True:\n",
    "#    if cnt%5 ==0:\n",
    "#        print(cnt)\n",
    "#   cnt+=1\n",
    "#   if cnt >100: #멈출 조건\n",
    "#       break\n"
   ]
  },
  {
   "cell_type": "code",
   "execution_count": 161,
   "metadata": {
    "collapsed": true
   },
   "outputs": [
    {
     "name": "stdout",
     "output_type": "stream",
     "text": [
      "5\n",
      "10\n",
      "15\n",
      "20\n",
      "25\n",
      "30\n",
      "35\n",
      "40\n",
      "45\n",
      "50\n",
      "55\n",
      "60\n",
      "65\n",
      "70\n",
      "75\n",
      "80\n",
      "85\n",
      "90\n",
      "95\n",
      "100\n"
     ]
    }
   ],
   "source": [
    "cnt =1     #True 일때 , print(cnt)가 된다./False면 continue때문에 print까지 안가고 다시 위로 올라가서 반복\n",
    "while cnt <= 100:\n",
    "    if cnt % 5 != 0:\n",
    "        cnt+=1       #5의 배수 일때는 다음단계인 print로 넘어가고 //5의 배수가 아닐때는continue때문에 다음단계로 넘어 가지않고 반복한다.\n",
    "        continue   #여기서 if 문이 참이면은 cnt+1을 하고 continue때문에 다음작업인 print를 실행하지 않고 다시 올라가서 반복문을 실행\n",
    "    print(cnt)     # if 문이 False이면 if 문은 실행이 되지않고 바로 print 실행하기때문에   5의 배수만 출력한다.\n",
    "    cnt+=1"
   ]
  },
  {
   "cell_type": "markdown",
   "metadata": {},
   "source": [
    "# continue\n",
    "– 나머지 부분을 실행하지 않고 다음 반복을 시작한다. "
   ]
  },
  {
   "cell_type": "code",
   "execution_count": 65,
   "metadata": {
    "collapsed": true
   },
   "outputs": [
    {
     "name": "stdout",
     "output_type": "stream",
     "text": [
      "10\n",
      "20\n",
      "30\n",
      "40\n",
      "50\n",
      "60\n",
      "70\n",
      "80\n",
      "90\n"
     ]
    }
   ],
   "source": [
    "# 1~100 까지 10의 배수 출력 while , continue 이용해서 해보기\n",
    "cnt=1\n",
    "while cnt < 100:\n",
    "    if cnt%10!=0:\n",
    "        cnt+=1\n",
    "        continue\n",
    "    print(cnt)\n",
    "    cnt+=1\n",
    "        "
   ]
  },
  {
   "cell_type": "code",
   "execution_count": 66,
   "metadata": {
    "collapsed": true
   },
   "outputs": [
    {
     "name": "stdout",
     "output_type": "stream",
     "text": [
      "10\n",
      "20\n",
      "30\n",
      "40\n",
      "50\n",
      "60\n",
      "70\n",
      "80\n",
      "90\n",
      "100\n"
     ]
    }
   ],
   "source": [
    "# 1~100 까지 10의 배수 출력 while , break이용해서 해보기\n",
    "cnt=1\n",
    "while cnt <101:\n",
    "    if cnt%10==0:\n",
    "        print(cnt)\n",
    "    cnt+=1\n",
    "    if cnt >101:\n",
    "        break"
   ]
  },
  {
   "cell_type": "code",
   "execution_count": 72,
   "metadata": {
    "collapsed": true
   },
   "outputs": [
    {
     "name": "stdout",
     "output_type": "stream",
     "text": [
      "mom's day off\n",
      "mom's day off\n",
      "3\n",
      "mom's day off\n",
      "mom's day off\n",
      "6\n",
      "mom's day off\n",
      "mom's day off\n",
      "9\n",
      "mom's day off\n",
      "mom's day off\n",
      "12\n",
      "mom's day off\n",
      "mom's day off\n",
      "15\n",
      "mom's day off\n",
      "mom's day off\n",
      "18\n",
      "mom's day off\n",
      "mom's day off\n",
      "21\n",
      "mom's day off\n",
      "mom's day off\n",
      "24\n",
      "mom's day off\n",
      "mom's day off\n",
      "27\n",
      "mom's day off\n",
      "mom's day off\n",
      "30\n"
     ]
    }
   ],
   "source": [
    "oak = 1\n",
    "while oak<= 30:\n",
    "    if oak %3 !=0:\n",
    "        print(\"mom's day off\")\n",
    "        oak +=1\n",
    "        continue\n",
    "    print(oak)\n",
    "    oak += 1\n",
    "    \n",
    "\n",
    "    \n",
    "        "
   ]
  },
  {
   "cell_type": "code",
   "execution_count": 64,
   "metadata": {},
   "outputs": [
    {
     "name": "stdout",
     "output_type": "stream",
     "text": [
      "3\n",
      "6\n",
      "9\n"
     ]
    }
   ],
   "source": [
    "for i in[1,2,3,4,5,6,7,8,9,10]:\n",
    "    if i % 3 != 0 :\n",
    "        continue                         #contiue는 참이면 반복 거짓이면 출력 한다!!\n",
    "    print(i)                             # 브레이크는 참인거를 계속 순환하다가\n",
    "                                            # 브레이크가 되는 조건에 해당되면 스탑!"
   ]
  },
  {
   "cell_type": "code",
   "execution_count": null,
   "metadata": {},
   "outputs": [],
   "source": []
  },
  {
   "cell_type": "markdown",
   "metadata": {},
   "source": [
    "## 1월 8일"
   ]
  },
  {
   "cell_type": "code",
   "execution_count": null,
   "metadata": {},
   "outputs": [],
   "source": [
    "#for in 연관 내장 함수 - range\n",
    "#range  :  정수만 가능// 실수 안됨 // 시작값, 증감값 생략 가능 //멈춤값(포함안됨 -1)은 필수 \n",
    "            #-1 로하면 거꾸로 # (멈춤값이 없으면 무한대로 가니까~)  시작,종료,증감 순서로\n",
    "#enumerate\n",
    "#zip"
   ]
  },
  {
   "cell_type": "code",
   "execution_count": 68,
   "metadata": {},
   "outputs": [
    {
     "name": "stdout",
     "output_type": "stream",
     "text": [
      "1 3 5 7 9 "
     ]
    }
   ],
   "source": [
    "#range(1,10,2)   #1~10-1   2씩 증가 \n",
    "for i in range (1,10,2):\n",
    "    print(i,end = ' ')\n",
    "   "
   ]
  },
  {
   "cell_type": "code",
   "execution_count": 74,
   "metadata": {},
   "outputs": [
    {
     "name": "stdout",
     "output_type": "stream",
     "text": [
      "[1, 2, 3, 4, 5, 6, 7, 8, 9, 10]\n"
     ]
    }
   ],
   "source": [
    "lst = list(range(1,11))\n",
    "print(lst)"
   ]
  },
  {
   "cell_type": "code",
   "execution_count": 75,
   "metadata": {},
   "outputs": [
    {
     "data": {
      "text/plain": [
       "list"
      ]
     },
     "execution_count": 75,
     "metadata": {},
     "output_type": "execute_result"
    }
   ],
   "source": [
    "type(lst)"
   ]
  },
  {
   "cell_type": "code",
   "execution_count": 81,
   "metadata": {},
   "outputs": [
    {
     "data": {
      "text/plain": [
       "[1, 2]"
      ]
     },
     "execution_count": 81,
     "metadata": {},
     "output_type": "execute_result"
    }
   ],
   "source": [
    "list(range(1,3))   # range 이용해서 list,tuple,set 만들기~~"
   ]
  },
  {
   "cell_type": "code",
   "execution_count": 82,
   "metadata": {},
   "outputs": [
    {
     "data": {
      "text/plain": [
       "((1, 2),)"
      ]
     },
     "execution_count": 82,
     "metadata": {},
     "output_type": "execute_result"
    }
   ],
   "source": [
    "tuple(range(1,3)),    #iterabble 타입의 객체를 리스트 튜플 셋으로 변환"
   ]
  },
  {
   "cell_type": "code",
   "execution_count": 90,
   "metadata": {},
   "outputs": [
    {
     "name": "stdout",
     "output_type": "stream",
     "text": [
      "{1, 2}\n"
     ]
    }
   ],
   "source": [
    "\n",
    "m=set(range(1,3))\n",
    "print(m)\n"
   ]
  },
  {
   "cell_type": "code",
   "execution_count": 91,
   "metadata": {},
   "outputs": [
    {
     "data": {
      "text/plain": [
       "set"
      ]
     },
     "execution_count": 91,
     "metadata": {},
     "output_type": "execute_result"
    }
   ],
   "source": [
    "type(m)"
   ]
  },
  {
   "cell_type": "code",
   "execution_count": 146,
   "metadata": {},
   "outputs": [
    {
     "data": {
      "text/plain": [
       "(0, 1, 2, 3, 4, 5, 6, 7, 8, 9)"
      ]
     },
     "execution_count": 146,
     "metadata": {},
     "output_type": "execute_result"
    }
   ],
   "source": [
    "tu = tuple(range(10))\n",
    "tu# 0~9 1씩 증가"
   ]
  },
  {
   "cell_type": "code",
   "execution_count": 148,
   "metadata": {},
   "outputs": [
    {
     "data": {
      "text/plain": [
       "{0, 1, 2, 3, 4, 5, 6, 7, 8, 9}"
      ]
     },
     "execution_count": 148,
     "metadata": {},
     "output_type": "execute_result"
    }
   ],
   "source": [
    "s = set(range(10))\n",
    "s"
   ]
  },
  {
   "cell_type": "code",
   "execution_count": 150,
   "metadata": {},
   "outputs": [
    {
     "data": {
      "text/plain": [
       "[10, 9, 8, 7, 6, 5, 4, 3, 2, 1, 0, -1, -2, -3, -4, -5, -6, -7, -8, -9]"
      ]
     },
     "execution_count": 150,
     "metadata": {},
     "output_type": "execute_result"
    }
   ],
   "source": [
    "#증감치가 음수 일때 시작값이 > 종료값\n",
    "list(range(10,-10,-1))  "
   ]
  },
  {
   "cell_type": "code",
   "execution_count": 152,
   "metadata": {},
   "outputs": [
    {
     "data": {
      "text/plain": [
       "[10, 5, 0, -5]"
      ]
     },
     "execution_count": 152,
     "metadata": {},
     "output_type": "execute_result"
    }
   ],
   "source": [
    "list(range(10,-10,-5))"
   ]
  },
  {
   "cell_type": "code",
   "execution_count": 96,
   "metadata": {},
   "outputs": [
    {
     "name": "stdout",
     "output_type": "stream",
     "text": [
      "range(0, 10)\n"
     ]
    }
   ],
   "source": [
    "r=range(10)\n",
    "print(r)"
   ]
  },
  {
   "cell_type": "code",
   "execution_count": 69,
   "metadata": {
    "scrolled": false
   },
   "outputs": [
    {
     "name": "stdout",
     "output_type": "stream",
     "text": [
      "0 안녕\n",
      "1 안녕\n",
      "2 안녕\n",
      "3 안녕\n",
      "4 안녕\n",
      "5 안녕\n",
      "6 안녕\n",
      "7 안녕\n",
      "8 안녕\n",
      "9 안녕\n"
     ]
    }
   ],
   "source": [
    "# dkssud 10번 반복 사용\n",
    "for i in range(10):\n",
    "    print(i,\"안녕\")"
   ]
  },
  {
   "cell_type": "code",
   "execution_count": 99,
   "metadata": {},
   "outputs": [
    {
     "name": "stdout",
     "output_type": "stream",
     "text": [
      "1 왜안되\n",
      "2 왜안되\n",
      "3 왜안되\n",
      "4 왜안되\n",
      "5 왜안되\n",
      "6 왜안되\n",
      "7 왜안되\n",
      "8 왜안되\n",
      "9 왜안되\n"
     ]
    }
   ],
   "source": [
    "for a in range(1,10):\n",
    "    print(a, \"왜안되\")"
   ]
  },
  {
   "cell_type": "raw",
   "metadata": {},
   "source": []
  },
  {
   "cell_type": "code",
   "execution_count": 156,
   "metadata": {},
   "outputs": [
    {
     "name": "stdout",
     "output_type": "stream",
     "text": [
      "안녕\n",
      "안녕\n",
      "안녕\n",
      "안녕\n",
      "안녕\n",
      "안녕\n",
      "안녕\n",
      "안녕\n",
      "안녕\n",
      "안녕\n"
     ]
    }
   ],
   "source": [
    "for _ in range(10):\n",
    "    print(\"안녕\")  #변수를 '_' 언더스코어로 지정하면  변수를 //10번 반복해라!!\n",
    "                    #반복문(결과값에 표시 안하겠다) 내에서 사용하지 않겠다.(관례)"
   ]
  },
  {
   "cell_type": "markdown",
   "metadata": {},
   "source": [
    "## enumerate(Iterabl ,[start=시작값])  시작값 생략 가능"
   ]
  },
  {
   "cell_type": "code",
   "execution_count": 70,
   "metadata": {},
   "outputs": [
    {
     "name": "stdout",
     "output_type": "stream",
     "text": [
      "(1, '가')\n",
      "(2, '나')\n",
      "(3, '다')\n",
      "(4, '라')\n",
      "(5, '마')\n"
     ]
    }
   ],
   "source": [
    "str_list = ['가','나','다','라','마']  #// 반복횟수를 알려줌!!!!\n",
    "for s in enumerate(str_list,1):  # 1을 쓰면 인덱스 값을 1부터 시작하고 안쓰면 0부터 시작\n",
    "    print(s)\n"
   ]
  },
  {
   "cell_type": "code",
   "execution_count": 75,
   "metadata": {
    "scrolled": false
   },
   "outputs": [
    {
     "name": "stdout",
     "output_type": "stream",
     "text": [
      "(1, 1)\n",
      "(2, 2)\n",
      "(3, 3)\n",
      "(4, 4)\n",
      "(5, 5)\n",
      "(6, 6)\n",
      "(7, 7)\n",
      "(8, 8)\n",
      "(9, 9)\n"
     ]
    }
   ],
   "source": [
    "lis=[1,2,3,4,5,6,7,8,9]\n",
    "for i in enumerate(lis,1):\n",
    "    print(i)"
   ]
  },
  {
   "cell_type": "code",
   "execution_count": 76,
   "metadata": {},
   "outputs": [
    {
     "name": "stdout",
     "output_type": "stream",
     "text": [
      "1\n"
     ]
    }
   ],
   "source": [
    "for k,i in enumerate(lis,1):  # enumerate 는 값을 튜플로 반환해주는데 이 튜플을 변수 2개로 받아서 index 값등을 넣으면 index 번호에 맞는 원소를\n",
    "                                #/조회 가능하다.\n",
    "    if k == 1:\n",
    "        print(i)"
   ]
  },
  {
   "cell_type": "code",
   "execution_count": 117,
   "metadata": {},
   "outputs": [
    {
     "name": "stdout",
     "output_type": "stream",
     "text": [
      "2 코딩\n"
     ]
    }
   ],
   "source": [
    "for kin, s in enumerate(study,2):  \n",
    "    if kin == 2:\n",
    "        print(kin,s)"
   ]
  },
  {
   "cell_type": "code",
   "execution_count": 77,
   "metadata": {},
   "outputs": [
    {
     "name": "stdout",
     "output_type": "stream",
     "text": [
      "3 4\n"
     ]
    }
   ],
   "source": [
    "for idx, s in enumerate(lis):    # enumerate 를 하면 index,값 이렇게 두가지 값이 한쌍인 튜플이 나온니까 변수를 두개 주었다.\n",
    "    if idx==3 :                  # 그리고 그 index를 통해 해당하는 원소를 찾았다.\n",
    "        print(idx,s)\n"
   ]
  },
  {
   "cell_type": "markdown",
   "metadata": {},
   "source": [
    "list 를 for in 에 넣고 반복을 하는데 enumerate를 사용하면 시작 값을 정하지 않는 이상 index 번호와 해당하는 원소를 묶어 튜플로 반환한다.\n",
    "이것을 통해 몇번 index에 어떤 원소가 있는지 조회가 가능하다."
   ]
  },
  {
   "cell_type": "code",
   "execution_count": 163,
   "metadata": {},
   "outputs": [
    {
     "name": "stdout",
     "output_type": "stream",
     "text": [
      "1 가\n",
      "2 나\n",
      "3 다\n",
      "4 라\n",
      "5 마\n"
     ]
    }
   ],
   "source": [
    "for idx, s in enumerate(str_list, start=1):\n",
    "    print(idx,s)                   #시작 값을 정해 줄 수 있다."
   ]
  },
  {
   "cell_type": "markdown",
   "metadata": {},
   "source": [
    "### zip (iterable,iterable [......])"
   ]
  },
  {
   "cell_type": "code",
   "execution_count": 166,
   "metadata": {},
   "outputs": [],
   "source": [
    "a = [1,2,3]\n",
    "b = [10,20,30,]\n",
    "c = 100,200,300,400,500  #튜플\n",
    "d = {'가','나','다'}  #셋은 순서가 없으니 랜덤  #같은 indexx 값끼리 튜플로 묶어준다."
   ]
  },
  {
   "cell_type": "code",
   "execution_count": 167,
   "metadata": {},
   "outputs": [
    {
     "name": "stdout",
     "output_type": "stream",
     "text": [
      "(1, 10, 100, '다')\n",
      "(2, 20, 200, '나')\n",
      "(3, 30, 300, '가')\n"
     ]
    }
   ],
   "source": [
    "for v in zip(a,b,c,d) :\n",
    "    print(v)          # 원소 개수가 작은 것에 맞춘다."
   ]
  },
  {
   "cell_type": "code",
   "execution_count": 118,
   "metadata": {},
   "outputs": [
    {
     "name": "stdout",
     "output_type": "stream",
     "text": [
      "('맥주', '소주', '파전')\n",
      "('치킨', '곱창', '막걸리')\n"
     ]
    }
   ],
   "source": [
    "a = ['맥주','치킨','파닭']\n",
    "b = ['소주','곱창','삼겹살']\n",
    "c = ['파전','막걸리']\n",
    "for dae in zip(a,b,c):\n",
    "    print(dae)\n"
   ]
  },
  {
   "cell_type": "code",
   "execution_count": 119,
   "metadata": {},
   "outputs": [],
   "source": [
    "김치찌개 = ['김치','돼지고기','다진마늘']\n",
    "다이어트 = ['닭가슴살','운동','하기싫음']\n",
    "호주 = ['골드코스트','케언즈','south port']\n"
   ]
  },
  {
   "cell_type": "code",
   "execution_count": 120,
   "metadata": {},
   "outputs": [
    {
     "name": "stdout",
     "output_type": "stream",
     "text": [
      "('김치', '닭가슴살', '골드코스트')\n",
      "('돼지고기', '운동', '케언즈')\n",
      "('다진마늘', '하기싫음', 'south port')\n"
     ]
    }
   ],
   "source": [
    "for austrailia in zip(김치찌개,다이어트,호주):\n",
    "    print(austrailia)"
   ]
  },
  {
   "cell_type": "code",
   "execution_count": 80,
   "metadata": {},
   "outputs": [],
   "source": [
    "names = ['이순실', '홍길동', '김대민']\n",
    "ages = [20, 30, 40,]\n",
    "talls = [150,190,180]"
   ]
  },
  {
   "cell_type": "code",
   "execution_count": 81,
   "metadata": {},
   "outputs": [
    {
     "name": "stdout",
     "output_type": "stream",
     "text": [
      "('이순실', 20, 150)\n",
      "('홍길동', 30, 190)\n",
      "('김대민', 40, 180)\n"
     ]
    }
   ],
   "source": [
    "for info in zip(names, ages, talls):\n",
    "    print(info)\n"
   ]
  },
  {
   "cell_type": "code",
   "execution_count": 84,
   "metadata": {},
   "outputs": [
    {
     "name": "stdout",
     "output_type": "stream",
     "text": [
      "이순실 20 150\n",
      "홍길동 30 190\n",
      "김대민 40 180\n"
     ]
    }
   ],
   "source": [
    "for name, age, tall in zip(names, ages, talls):\n",
    "    print(name, age, tall)"
   ]
  },
  {
   "cell_type": "code",
   "execution_count": 87,
   "metadata": {},
   "outputs": [
    {
     "name": "stdout",
     "output_type": "stream",
     "text": [
      "애플 애플워치\n",
      "삼성 갤럭시 워치\n",
      "엘지 미밴드\n"
     ]
    }
   ],
   "source": [
    "nb=['애플','삼성','엘지','아수스']\n",
    "wa=['애플워치','갤럭시 워치','미밴드']\n",
    "\n",
    "for n,z in zip(nb,wa):\n",
    "    print(n,z)"
   ]
  },
  {
   "cell_type": "markdown",
   "metadata": {},
   "source": [
    "## 컴프리헨션"
   ]
  },
  {
   "cell_type": "code",
   "execution_count": 92,
   "metadata": {},
   "outputs": [],
   "source": [
    "lst = [1,2,3,4,5,6]\n",
    "# lst의 원소들에 10을 더한 갑슬 갖는 리스트 생성"
   ]
  },
  {
   "cell_type": "code",
   "execution_count": 93,
   "metadata": {},
   "outputs": [],
   "source": [
    "lst2 = []   #빈 리스트를 만들고 반복문을 이용하여  lst값을 반복하여 \n",
    "for num in lst:\n",
    "    lst2.append(num+10)   # 뒤에 반복문을 게속 입력 "
   ]
  },
  {
   "cell_type": "code",
   "execution_count": 122,
   "metadata": {},
   "outputs": [],
   "source": [
    "around = ['김','대','민','천','재']"
   ]
  },
  {
   "cell_type": "code",
   "execution_count": 123,
   "metadata": {},
   "outputs": [],
   "source": [
    "around1 =[]\n",
    "for num1 in around:\n",
    "    around1.append(num1+str(10))"
   ]
  },
  {
   "cell_type": "code",
   "execution_count": 125,
   "metadata": {},
   "outputs": [
    {
     "data": {
      "text/plain": [
       "['김10', '대10', '민10', '천10', '재10']"
      ]
     },
     "execution_count": 125,
     "metadata": {},
     "output_type": "execute_result"
    }
   ],
   "source": [
    "around1"
   ]
  },
  {
   "cell_type": "code",
   "execution_count": 94,
   "metadata": {},
   "outputs": [
    {
     "data": {
      "text/plain": [
       "[11, 12, 13, 14, 15, 16]"
      ]
     },
     "execution_count": 94,
     "metadata": {},
     "output_type": "execute_result"
    }
   ],
   "source": [
    "lst2"
   ]
  },
  {
   "cell_type": "code",
   "execution_count": 95,
   "metadata": {},
   "outputs": [
    {
     "data": {
      "text/plain": [
       "[1, 2, 3, 4, 5, 6]"
      ]
     },
     "execution_count": 95,
     "metadata": {},
     "output_type": "execute_result"
    }
   ],
   "source": [
    "result = [num for num in lst]#for in 포문 반복해서 값을 빼서 리스트 안에 num에 넣어 주는것이다.\n",
    "result  # 리스트 컴프리핸션"
   ]
  },
  {
   "cell_type": "code",
   "execution_count": 96,
   "metadata": {},
   "outputs": [
    {
     "data": {
      "text/plain": [
       "[10, 20, 30, 40, 50, 60, 70, 80, 90, 100]"
      ]
     },
     "execution_count": 96,
     "metadata": {},
     "output_type": "execute_result"
    }
   ],
   "source": [
    "# 1~100 10의 배수\n",
    "gg = [num for num in range(1,101) if num %10==0]\n",
    "gg"
   ]
  },
  {
   "cell_type": "code",
   "execution_count": 102,
   "metadata": {},
   "outputs": [
    {
     "data": {
      "text/plain": [
       "[110, 120, 130, 140, 150, 160, 170, 180, 190, 200]"
      ]
     },
     "execution_count": 102,
     "metadata": {},
     "output_type": "execute_result"
    }
   ],
   "source": [
    "g=[int(n)+100 for n in gg] \n",
    "g"
   ]
  },
  {
   "cell_type": "code",
   "execution_count": 128,
   "metadata": {},
   "outputs": [
    {
     "data": {
      "text/plain": [
       "list"
      ]
     },
     "execution_count": 128,
     "metadata": {},
     "output_type": "execute_result"
    }
   ],
   "source": [
    "type(result)"
   ]
  },
  {
   "cell_type": "code",
   "execution_count": null,
   "metadata": {},
   "outputs": [],
   "source": [
    "lst = [1,2,3,4,5,6]"
   ]
  },
  {
   "cell_type": "code",
   "execution_count": 200,
   "metadata": {
    "collapsed": true
   },
   "outputs": [
    {
     "data": {
      "text/plain": [
       "[11, 12, 13, 14, 15, 16]"
      ]
     },
     "execution_count": 200,
     "metadata": {},
     "output_type": "execute_result"
    }
   ],
   "source": [
    "result = [num+10 for num in lst]#for in 포문 반복해서 값을 빼서 리스트 안에 num에 넣어 주는것이다.\n",
    "result # 리스트 컴프리헨션  #기존 리스트 값을 갖고와서 새로운 리스트를 만든다 == 컴프리헨션"
   ]
  },
  {
   "cell_type": "code",
   "execution_count": 132,
   "metadata": {},
   "outputs": [],
   "source": [
    "lst = [1,2,3,4,5,6]"
   ]
  },
  {
   "cell_type": "code",
   "execution_count": 134,
   "metadata": {},
   "outputs": [
    {
     "data": {
      "text/plain": [
       "[1, 2, 3, 4, 5, 6]"
      ]
     },
     "execution_count": 134,
     "metadata": {},
     "output_type": "execute_result"
    }
   ],
   "source": [
    "kim = [dan for dan in lst]\n",
    "kim"
   ]
  },
  {
   "cell_type": "code",
   "execution_count": 135,
   "metadata": {},
   "outputs": [
    {
     "data": {
      "text/plain": [
       "[6, 7, 8, 9, 10, 11]"
      ]
     },
     "execution_count": 135,
     "metadata": {},
     "output_type": "execute_result"
    }
   ],
   "source": [
    "kim = [dan +5 for dan in lst]\n",
    "kim"
   ]
  },
  {
   "cell_type": "code",
   "execution_count": null,
   "metadata": {},
   "outputs": [],
   "source": []
  },
  {
   "cell_type": "code",
   "execution_count": null,
   "metadata": {},
   "outputs": [],
   "source": []
  },
  {
   "cell_type": "code",
   "execution_count": 103,
   "metadata": {},
   "outputs": [
    {
     "data": {
      "text/plain": [
       "{11, 12, 13, 14, 15, 16}"
      ]
     },
     "execution_count": 103,
     "metadata": {},
     "output_type": "execute_result"
    }
   ],
   "source": [
    "result2 = {num+10 for num in lst}   #셋 컴프리헨션\n",
    "result2"
   ]
  },
  {
   "cell_type": "code",
   "execution_count": 104,
   "metadata": {},
   "outputs": [
    {
     "data": {
      "text/plain": [
       "{10, 20, 30, 40, 50, 60, 70, 80, 90, 100}"
      ]
     },
     "execution_count": 104,
     "metadata": {},
     "output_type": "execute_result"
    }
   ],
   "source": [
    "k={i for i in range(1,101) if i%10==0}\n",
    "k"
   ]
  },
  {
   "cell_type": "code",
   "execution_count": 137,
   "metadata": {},
   "outputs": [
    {
     "name": "stdout",
     "output_type": "stream",
     "text": [
      "{6, 7, 8, 9, 10, 11}\n"
     ]
    }
   ],
   "source": [
    "kim2 = {dan+5 for dan in lst}\n",
    "print(kim2)   #기존의 lst 리슽트를 이용하여 원소에 5씩 더한 새로운 set을 만들어 냈다"
   ]
  },
  {
   "cell_type": "code",
   "execution_count": 108,
   "metadata": {},
   "outputs": [],
   "source": [
    "lst = [1,2,3,4,5,6]"
   ]
  },
  {
   "cell_type": "code",
   "execution_count": 109,
   "metadata": {},
   "outputs": [
    {
     "data": {
      "text/plain": [
       "({1: '가', 2: '가', 3: '가', 4: '가', 5: '가', 6: '가'}, dict)"
      ]
     },
     "execution_count": 109,
     "metadata": {},
     "output_type": "execute_result"
    }
   ],
   "source": [
    "result2 = {num:'가' for num in lst}   #{k:v, k:v }  #딕셔너리 컴프리헨션 파이썬 3.부터\n",
    "result2 , type(result2)"
   ]
  },
  {
   "cell_type": "code",
   "execution_count": 110,
   "metadata": {},
   "outputs": [
    {
     "data": {
      "text/plain": [
       "{1: '대민짱', 2: '대민짱', 3: '대민짱', 4: '대민짱', 5: '대민짱', 6: '대민짱'}"
      ]
     },
     "execution_count": 110,
     "metadata": {},
     "output_type": "execute_result"
    }
   ],
   "source": [
    "kim3 = {dan:'대민짱' for dan in lst}\n",
    "kim3"
   ]
  },
  {
   "cell_type": "code",
   "execution_count": 112,
   "metadata": {},
   "outputs": [
    {
     "data": {
      "text/plain": [
       "{1: '배고파', 2: '배고파', 3: '배고파', 4: '배고파', 5: '배고파', 6: '배고파'}"
      ]
     },
     "execution_count": 112,
     "metadata": {},
     "output_type": "execute_result"
    }
   ],
   "source": [
    "dd= {i:'배고파' for i in lst}\n",
    "dd  #원소들을 key 로하는 딕셔너리를 만들었다. value"
   ]
  },
  {
   "cell_type": "code",
   "execution_count": null,
   "metadata": {},
   "outputs": [],
   "source": []
  },
  {
   "cell_type": "code",
   "execution_count": 117,
   "metadata": {},
   "outputs": [],
   "source": [
    "lst2 = ['영','하나','둘','셋','넷']"
   ]
  },
  {
   "cell_type": "code",
   "execution_count": 114,
   "metadata": {},
   "outputs": [
    {
     "data": {
      "text/plain": [
       "{0: '영', 1: '하나', 2: '둘', 3: '셋', 4: '넷'}"
      ]
     },
     "execution_count": 114,
     "metadata": {},
     "output_type": "execute_result"
    }
   ],
   "source": [
    "num_name = {ind:i for ind,i in enumerate(lst2)}\n",
    "num_name"
   ]
  },
  {
   "cell_type": "code",
   "execution_count": 149,
   "metadata": {},
   "outputs": [
    {
     "name": "stdout",
     "output_type": "stream",
     "text": [
      "{0: 1, 1: 2, 2: 3, 3: 4, 4: 5, 5: 6}\n"
     ]
    }
   ],
   "source": [
    "kim4 = {idx: dan for idx,dan in enumerate(lst)}\n",
    "print(kim4)  #enumerate 를 사용하여 인덱스와 리스트의 원소 쌍을 idx,dan에 얻었고 그것을 사용하여 딕셔너리컴프리헨션을 만들었다."
   ]
  },
  {
   "cell_type": "code",
   "execution_count": 140,
   "metadata": {},
   "outputs": [
    {
     "data": {
      "text/plain": [
       "{0: 11, 1: 12, 2: 13, 3: 14, 4: 15, 5: 16, 6: 17, 7: 18, 8: 19, 9: 20}"
      ]
     },
     "execution_count": 140,
     "metadata": {},
     "output_type": "execute_result"
    }
   ],
   "source": [
    "result3 = {idx:num for idx, num in enumerate(lst2)}\n",
    "result3"
   ]
  },
  {
   "cell_type": "code",
   "execution_count": 141,
   "metadata": {},
   "outputs": [
    {
     "data": {
      "text/plain": [
       "dict"
      ]
     },
     "execution_count": 141,
     "metadata": {},
     "output_type": "execute_result"
    }
   ],
   "source": [
    "type(result3)"
   ]
  },
  {
   "cell_type": "code",
   "execution_count": 118,
   "metadata": {},
   "outputs": [],
   "source": [
    "dic = {}\n",
    "for idx,dan in enumerate(lst2):\n",
    "    #0,1/1,2/2,3/3,4/\n",
    "    dic[idx] = dan  # 딕셔너리는 <<딕셔너리이름[key] = 값>> 을하면 없는 값일 경우 추가를 해준다."
   ]
  },
  {
   "cell_type": "code",
   "execution_count": 119,
   "metadata": {},
   "outputs": [
    {
     "name": "stdout",
     "output_type": "stream",
     "text": [
      "{0: '영', 1: '하나', 2: '둘', 3: '셋', 4: '넷'}\n"
     ]
    }
   ],
   "source": [
    "print(dic)"
   ]
  },
  {
   "cell_type": "code",
   "execution_count": 206,
   "metadata": {
    "collapsed": true
   },
   "outputs": [
    {
     "data": {
      "text/plain": [
       "[0,\n",
       " 1,\n",
       " 2,\n",
       " 3,\n",
       " 4,\n",
       " 5,\n",
       " 6,\n",
       " 7,\n",
       " 8,\n",
       " 9,\n",
       " 10,\n",
       " 11,\n",
       " 12,\n",
       " 13,\n",
       " 14,\n",
       " 15,\n",
       " 16,\n",
       " 17,\n",
       " 18,\n",
       " 19,\n",
       " 20,\n",
       " 21,\n",
       " 22,\n",
       " 23,\n",
       " 24,\n",
       " 25,\n",
       " 26,\n",
       " 27,\n",
       " 28,\n",
       " 29,\n",
       " 30,\n",
       " 31,\n",
       " 32,\n",
       " 33,\n",
       " 34,\n",
       " 35,\n",
       " 36,\n",
       " 37,\n",
       " 38,\n",
       " 39,\n",
       " 40,\n",
       " 41,\n",
       " 42,\n",
       " 43,\n",
       " 44,\n",
       " 45,\n",
       " 46,\n",
       " 47,\n",
       " 48,\n",
       " 49,\n",
       " 50,\n",
       " 51,\n",
       " 52,\n",
       " 53,\n",
       " 54,\n",
       " 55,\n",
       " 56,\n",
       " 57,\n",
       " 58,\n",
       " 59,\n",
       " 60,\n",
       " 61,\n",
       " 62,\n",
       " 63,\n",
       " 64,\n",
       " 65,\n",
       " 66,\n",
       " 67,\n",
       " 68,\n",
       " 69,\n",
       " 70,\n",
       " 71,\n",
       " 72,\n",
       " 73,\n",
       " 74,\n",
       " 75,\n",
       " 76,\n",
       " 77,\n",
       " 78,\n",
       " 79,\n",
       " 80,\n",
       " 81,\n",
       " 82,\n",
       " 83,\n",
       " 84,\n",
       " 85,\n",
       " 86,\n",
       " 87,\n",
       " 88,\n",
       " 89,\n",
       " 90,\n",
       " 91,\n",
       " 92,\n",
       " 93,\n",
       " 94,\n",
       " 95,\n",
       " 96,\n",
       " 97,\n",
       " 98,\n",
       " 99]"
      ]
     },
     "execution_count": 206,
     "metadata": {},
     "output_type": "execute_result"
    }
   ],
   "source": [
    "num_list = list(range(100))\n",
    "num_list"
   ]
  },
  {
   "cell_type": "code",
   "execution_count": 159,
   "metadata": {},
   "outputs": [],
   "source": [
    "fco=list(range(1,30))   #fco 라는 리스트를 갖고 3의 배수만 모은 ebbet이라는 새로운 리스트(컴프리헨션)를 만들었다."
   ]
  },
  {
   "cell_type": "code",
   "execution_count": 160,
   "metadata": {},
   "outputs": [
    {
     "name": "stdout",
     "output_type": "stream",
     "text": [
      "[3, 6, 9, 12, 15, 18, 21, 24, 27]\n"
     ]
    }
   ],
   "source": [
    "ebbet = []\n",
    "for e in fco:\n",
    "    if e %3 ==0:\n",
    "        ebbet.append(e)\n",
    "print(ebbet)\n",
    "    "
   ]
  },
  {
   "cell_type": "code",
   "execution_count": 211,
   "metadata": {},
   "outputs": [],
   "source": [
    " # 넘 리스트 10의 배수만 가지는 원소 리스트 생성.\n",
    "result = []\n",
    "for num in num_list :\n",
    "    if num %10 == 0:\n",
    "        result.append(num)"
   ]
  },
  {
   "cell_type": "code",
   "execution_count": 212,
   "metadata": {},
   "outputs": [
    {
     "data": {
      "text/plain": [
       "[0, 10, 20, 30, 40, 50, 60, 70, 80, 90]"
      ]
     },
     "execution_count": 212,
     "metadata": {},
     "output_type": "execute_result"
    }
   ],
   "source": [
    "result"
   ]
  },
  {
   "cell_type": "code",
   "execution_count": 213,
   "metadata": {},
   "outputs": [
    {
     "data": {
      "text/plain": [
       "[0, 10, 20, 30, 40, 50, 60, 70, 80, 90]"
      ]
     },
     "execution_count": 213,
     "metadata": {},
     "output_type": "execute_result"
    }
   ],
   "source": [
    "result2 = [num for num in num_list if num%10==0]   #원하는 값만 '필터링'//값하나에 하나하나 처리 '맵핑'\n",
    "result2 "
   ]
  },
  {
   "cell_type": "code",
   "execution_count": 161,
   "metadata": {},
   "outputs": [
    {
     "data": {
      "text/plain": [
       "[3, 6, 9, 12, 15, 18, 21, 24, 27]"
      ]
     },
     "execution_count": 161,
     "metadata": {},
     "output_type": "execute_result"
    }
   ],
   "source": [
    "ebbet2 =[e for e in fco if e %3 == 0]\n",
    "ebbet2"
   ]
  },
  {
   "cell_type": "code",
   "execution_count": null,
   "metadata": {},
   "outputs": [],
   "source": [
    "#[변수 for 변수 in iterable [for in ans 또는 if문 ][for in ans 또는 if문 ][for in ans 또는 if문 ]]\n",
    "# 조건 무한으로 가능//너무 많이 쓰면 가독성이 떨어짐 / 두번정도까진 함"
   ]
  },
  {
   "cell_type": "markdown",
   "metadata": {},
   "source": [
    "# todo"
   ]
  },
  {
   "cell_type": "code",
   "execution_count": 71,
   "metadata": {},
   "outputs": [
    {
     "name": "stdout",
     "output_type": "stream",
     "text": [
      "점수:70\n",
      "D학점\n"
     ]
    }
   ],
   "source": [
    "#(1) 다음 점수 구간에 맞게 학점을 출력하세요.\n",
    "# 91 ~ 100 : A학점\n",
    "# 81 ~ 90 :  B학점\n",
    "# 71 ~ 80 :  C학점\n",
    "# 61 ~ 70 :  D학점\n",
    "# 60이하   :  F학점\n",
    "\n",
    "num = int(input(\"점수:\"))\n",
    "\n",
    "if 91<=num <=100:\n",
    "    print(\"A학점\")\n",
    "elif 81<=num <=90:\n",
    "    print(\"B학점\")\n",
    "elif 71<=num <=80:\n",
    "    print(\"C학점\")\n",
    "elif 61<=num <=70:\n",
    "    print(\"D학점\")\n",
    "else:\n",
    "    print(\"F학점\")"
   ]
  },
  {
   "cell_type": "code",
   "execution_count": null,
   "metadata": {},
   "outputs": [],
   "source": [
    "num = int(input(\"점수:\"))\n",
    "\n",
    "elif 91<=num <=100:\n",
    "    print(\"A학점\")\n",
    "elif 81<=num:\n",
    "    print(\"B학점\")\n",
    "elif 71<=num:\n",
    "    print(\"C학점\")\n",
    "elif 61<=num:\n",
    "    print(\"D학점\")\n",
    "else:\n",
    "    print(\"F학점\")"
   ]
  },
  {
   "cell_type": "code",
   "execution_count": 164,
   "metadata": {},
   "outputs": [
    {
     "name": "stdout",
     "output_type": "stream",
     "text": [
      "점수:74\n",
      "C학점\n"
     ]
    }
   ],
   "source": [
    "#(1) 다음 점수 구간에 맞게 학점을 출력하세요.\n",
    "# 91 ~ 100 : A학점\n",
    "# 81 ~ 90 :  B학점\n",
    "# 71 ~ 80 :  C학점\n",
    "# 61 ~ 70 :  D학점\n",
    "# 60이하   :  F학점\n",
    "\n",
    "x = int(input(\"점수:\"))\n",
    "\n",
    "\n",
    "if 91<=x :\n",
    "    print(\"A학점\")         #x=91 & x<=100\n",
    "elif 81<=x:\n",
    "    print(\"B학점\")\n",
    "elif 71<=x:\n",
    "    print(\"C학점\")\n",
    "elif 61<=x:\n",
    "    print(\"D학점\")\n",
    "else:\n",
    "    print(\"F학점\")\n"
   ]
  },
  {
   "cell_type": "code",
   "execution_count": 171,
   "metadata": {},
   "outputs": [
    {
     "name": "stdout",
     "output_type": "stream",
     "text": [
      "89.0\n"
     ]
    },
    {
     "data": {
      "text/plain": [
       "89.0"
      ]
     },
     "execution_count": 171,
     "metadata": {},
     "output_type": "execute_result"
    }
   ],
   "source": [
    "#(2) 아래 리스트의 평균을 구하시오.\n",
    "jumsu = [100, 90, 100, 80, 70, 100, 80, 90, 95, 85]\n",
    "res = sum(jumsu)/len(jumsu)\n",
    "\n",
    "a=0 # 합계를 저장할 변수 \n",
    "for mi in jumsu:\n",
    "    a+=mi\n",
    "print(a/len(jumsu))\n",
    "\n",
    "dae = a/len(jumsu)\n",
    "dae"
   ]
  },
  {
   "cell_type": "code",
   "execution_count": 167,
   "metadata": {},
   "outputs": [
    {
     "name": "stdout",
     "output_type": "stream",
     "text": [
      "89.0\n"
     ]
    }
   ],
   "source": [
    "#2\n",
    "a=0 # 합계를 저장할 변수 \n",
    "for i in jumsu:\n",
    "    a+=i\n",
    "    #b+=1\n",
    "\n",
    "print(a/len(jumsu))"
   ]
  },
  {
   "cell_type": "code",
   "execution_count": 293,
   "metadata": {},
   "outputs": [
    {
     "data": {
      "text/plain": [
       "(6, 6, 55)"
      ]
     },
     "execution_count": 293,
     "metadata": {},
     "output_type": "execute_result"
    }
   ],
   "source": [
    "sum((1,2,3,)),sum({1,2,3,}),sum(range(11,))"
   ]
  },
  {
   "cell_type": "code",
   "execution_count": 169,
   "metadata": {},
   "outputs": [
    {
     "data": {
      "text/plain": [
       "range(0, 11)"
      ]
     },
     "execution_count": 169,
     "metadata": {},
     "output_type": "execute_result"
    }
   ],
   "source": [
    "range(11)"
   ]
  },
  {
   "cell_type": "code",
   "execution_count": 248,
   "metadata": {
    "collapsed": true
   },
   "outputs": [
    {
     "name": "stdout",
     "output_type": "stream",
     "text": [
      "0-pass\n",
      "1-pass\n",
      "2-pass\n",
      "3-fail\n",
      "4-fail\n",
      "5-pass\n",
      "6-fail\n",
      "7-pass\n",
      "8-pass\n",
      "9-fail\n"
     ]
    }
   ],
   "source": [
    "#(3) 위 jumsu리스트에서 평균점수이상은 pass, 미만은 fail을 index번호와 함께 출력하시오. (ex: 0-pass, 1-pass, 2-fail)\n",
    "\t\t\n",
    "for idx, x in enumerate(jumsu):\n",
    "    if x >= res:\n",
    "         print(f'{idx}-pass')\n",
    "    else:\n",
    "        print(f'{idx}-fail')"
   ]
  },
  {
   "cell_type": "code",
   "execution_count": 173,
   "metadata": {},
   "outputs": [
    {
     "name": "stdout",
     "output_type": "stream",
     "text": [
      "0-pass\n",
      "1-pass\n",
      "2-pass\n",
      "3-fail\n",
      "4-fail\n",
      "5-pass\n",
      "6-fail\n",
      "7-pass\n",
      "8-pass\n",
      "9-fail\n"
     ]
    }
   ],
   "source": [
    "for k, d in enumerate(jumsu):\n",
    "    if d >=dae :\n",
    "        print(f'{k}-pass')\n",
    "    else :\n",
    "        print(f'{k}-fail')"
   ]
  },
  {
   "cell_type": "code",
   "execution_count": 139,
   "metadata": {},
   "outputs": [
    {
     "name": "stdout",
     "output_type": "stream",
     "text": [
      "95\n",
      "55\n",
      "785\n",
      "최대값: 95\n"
     ]
    }
   ],
   "source": [
    "#(4) 아래 리스트 값들 중 최대값을 조회해 출력\n",
    "jumsu = [60, 90, 80, 80, 70, 55, 80, 90, 95, 85]\n",
    "\n",
    "#내장함수\n",
    "print(max(jumsu))\n",
    "print(min(jumsu))\n",
    "print(sum(jumsu))\n",
    "\n",
    "#max_value= jumsu[0]\n",
    "for num in jumsu :\n",
    "    if num> max_value:\n",
    "        max_value = num\n",
    "print ('최대값:', max_value)"
   ]
  },
  {
   "cell_type": "code",
   "execution_count": 140,
   "metadata": {},
   "outputs": [
    {
     "name": "stdout",
     "output_type": "stream",
     "text": [
      "최대값: 95\n"
     ]
    }
   ],
   "source": [
    "#(4) 아래 리스트 값들 중 최대값을 조회해 출력\n",
    "jumsu = [60, 90, 80, 80, 70, 55, 80, 90, 95, 85]\n",
    "\n",
    "#max_k = jumsu[3]\n",
    "for num in jumsu:\n",
    "    if num > max_k:\n",
    "        max_k=num\n",
    "print('최대값:', max_k)\n",
    "        "
   ]
  },
  {
   "cell_type": "code",
   "execution_count": 299,
   "metadata": {},
   "outputs": [
    {
     "data": {
      "text/plain": [
       "60"
      ]
     },
     "execution_count": 299,
     "metadata": {},
     "output_type": "execute_result"
    }
   ],
   "source": [
    "jumsu [0]"
   ]
  },
  {
   "cell_type": "code",
   "execution_count": 185,
   "metadata": {},
   "outputs": [
    {
     "name": "stdout",
     "output_type": "stream",
     "text": [
      "갑 을 병 "
     ]
    }
   ],
   "source": [
    "#(5) 다음 리스트 중에서 '정' 글자를 제외하고 출력하세요.\n",
    "str_list = [\"갑\", \"을\", \"병\", \"정\"]\n",
    "\n",
    "\n",
    "for daemin in str_list:\n",
    "    if daemin != '정':\n",
    "        print(daemin, end=\" \")\n"
   ]
  },
  {
   "cell_type": "code",
   "execution_count": 189,
   "metadata": {},
   "outputs": [
    {
     "name": "stdout",
     "output_type": "stream",
     "text": [
      "['갑', '을', '병']\n"
     ]
    },
    {
     "data": {
      "text/plain": [
       "(None, list)"
      ]
     },
     "execution_count": 189,
     "metadata": {},
     "output_type": "execute_result"
    }
   ],
   "source": [
    "kimdae = [daemin for daemin in str_list if daemin != '정']\n",
    "print(kimdae), type(kimdae)"
   ]
  },
  {
   "cell_type": "code",
   "execution_count": 252,
   "metadata": {},
   "outputs": [
    {
     "name": "stdout",
     "output_type": "stream",
     "text": [
      "갑\n",
      "을\n",
      "병\n"
     ]
    }
   ],
   "source": [
    "#(5) 다음 리스트 중에서 '정' 글자를 제외하고 출력하세요.\n",
    "str_list = [\"갑\", \"을\", \"병\", \"정\"]\n",
    "\n",
    "for a in str_list:\n",
    "    if a != \"정\":\n",
    "        print(a)\n"
   ]
  },
  {
   "cell_type": "code",
   "execution_count": 255,
   "metadata": {},
   "outputs": [
    {
     "name": "stdout",
     "output_type": "stream",
     "text": [
      "['갑', '을', '병']\n"
     ]
    }
   ],
   "source": [
    "list4= [num for num in str_list if num !=\"정\"]\n",
    "print(list4)"
   ]
  },
  {
   "cell_type": "code",
   "execution_count": 304,
   "metadata": {},
   "outputs": [
    {
     "name": "stdout",
     "output_type": "stream",
     "text": [
      "단을 입력하시오:2\n",
      "2 X 1 = 2\n",
      "2 X 2 = 4\n",
      "2 X 3 = 6\n",
      "2 X 4 = 8\n",
      "2 X 5 = 10\n",
      "2 X 6 = 12\n",
      "2 X 7 = 14\n",
      "2 X 8 = 16\n",
      "2 X 9 = 18\n"
     ]
    }
   ],
   "source": [
    "#(6) 사용자로부터 정수를 입력받아 그 단의 구구단을 출력하시오.\n",
    "# ex) 단을 입력하시오 : 2\n",
    "# 2 x 1 = 2\n",
    "# 2 x 2 = 4\n",
    "#..\n",
    "# 2 x 9 = 18\n",
    "\n",
    "num = int(input(\"단을 입력하시오:\"))  #문자열로 입력 하면 안되니까 int 로 정수로 변환 해줘야한다.\n",
    "\n",
    "\n",
    "for x in range(1,10):\n",
    "   # print (f'{num} x {x} = {num*x}')\n",
    "    print('{} X {} = {}'.format(num, x, num*x))\n",
    "    #핸드폰 사진\n",
    "\n"
   ]
  },
  {
   "cell_type": "code",
   "execution_count": 194,
   "metadata": {
    "collapsed": true
   },
   "outputs": [
    {
     "name": "stdout",
     "output_type": "stream",
     "text": [
      "단을 입력하시오:2\n",
      "2*1= 2\n",
      "2*2= 4\n",
      "2*3= 6\n",
      "2*4= 8\n",
      "2*5= 10\n",
      "2*6= 12\n",
      "2*7= 14\n",
      "2*8= 16\n",
      "2*9= 18\n"
     ]
    }
   ],
   "source": [
    "#(6) 사용자로부터 정수를 입력받아 그 단의 구구단을 출력하시오.\n",
    "# ex) 단을 입력하시오 : 2\n",
    "# 2 x 1 = 2\n",
    "# 2 x 2 = 4\n",
    "#..\n",
    "# 2 x 9 = 18\n",
    "\n",
    "num = int(input(\"단을 입력하시오:\"))  #문자열로 입력 하면 안되니까 int 로 정수로 변환 해줘야한다.\n",
    "\n",
    "for u in range(1,10):\n",
    "    print(f'{num}*{u}= {num*u}')"
   ]
  },
  {
   "cell_type": "code",
   "execution_count": 200,
   "metadata": {
    "collapsed": true
   },
   "outputs": [
    {
     "name": "stdout",
     "output_type": "stream",
     "text": [
      "몇단으로 하고싶냐?3\n",
      "3 * 1 = 3\n",
      "3 * 2 = 6\n",
      "3 * 3 = 9\n",
      "3 * 4 = 12\n",
      "3 * 5 = 15\n",
      "3 * 6 = 18\n",
      "3 * 7 = 21\n",
      "3 * 8 = 24\n",
      "3 * 9 = 27\n"
     ]
    }
   ],
   "source": [
    "no = int(input(\"몇단으로 하고싶냐?\"))\n",
    "c = 1\n",
    "while c< 10:\n",
    "    #print(f'{no}*{c}={no*c}')\n",
    "    print('%d * %d = %d' % (no,c,no*c))\n",
    "    c +=1"
   ]
  },
  {
   "cell_type": "code",
   "execution_count": null,
   "metadata": {},
   "outputs": [],
   "source": []
  },
  {
   "cell_type": "code",
   "execution_count": 205,
   "metadata": {},
   "outputs": [
    {
     "name": "stdout",
     "output_type": "stream",
     "text": [
      "2 X 1 = 2\t\n",
      "2 X 2 = 4\t\n",
      "2 X 3 = 6\t\n",
      "2 X 4 = 8\t\n",
      "2 X 5 = 10\t\n",
      "2 X 6 = 12\t\n",
      "2 X 7 = 14\t\n",
      "2 X 8 = 16\t\n",
      "2 X 9 = 18\t\n"
     ]
    }
   ],
   "source": [
    "#구구단 표 \n",
    "\n",
    "for num in range(1,10):# 숫자*num // 핸드폰 사진 삭제하기 \\n 엔터, \\t tab\n",
    "    for dan in range(2,3):\n",
    "        print('{} X {} = {}'.format(dan, num, dan*num),end=\"\\t\")    #가로로 한줄씩 나간다. 이중 for 중에 두번째 반복문이 끝날대까지 한다 \n",
    "    print()                                                            #두번째 반복문이 2~9까지 반복 하고 (dan 반복문이 )처음으로가서 num 으로감"
   ]
  },
  {
   "cell_type": "code",
   "execution_count": 214,
   "metadata": {},
   "outputs": [
    {
     "name": "stdout",
     "output_type": "stream",
     "text": [
      "2*1 = 2\n",
      "2*2 = 4\n",
      "2*3 = 6\n",
      "2*4 = 8\n",
      "2*5 = 10\n",
      "2*6 = 12\n",
      "2*7 = 14\n",
      "2*8 = 16\n",
      "2*9 = 18\n"
     ]
    }
   ],
   "source": [
    "for dan in range (2,3):\n",
    "    for num in range(1,10):\n",
    "        print(f'{dan}*{num} = {dan *num}')"
   ]
  },
  {
   "cell_type": "code",
   "execution_count": 206,
   "metadata": {},
   "outputs": [
    {
     "name": "stdout",
     "output_type": "stream",
     "text": [
      "2 X 1 = 2\t2 X 2 = 4\t2 X 3 = 6\t2 X 4 = 8\t2 X 5 = 10\t2 X 6 = 12\t2 X 7 = 14\t2 X 8 = 16\t2 X 9 = 18\t\n"
     ]
    }
   ],
   "source": [
    "for dan in range (2,3):\n",
    "    for num in range(1,10):\n",
    "        print('{} X {} = {}'.format(dan, num, dan*num),end=\"\\t\")    \n",
    "    print()                                                   "
   ]
  },
  {
   "cell_type": "code",
   "execution_count": null,
   "metadata": {},
   "outputs": [],
   "source": []
  },
  {
   "cell_type": "code",
   "execution_count": null,
   "metadata": {},
   "outputs": [],
   "source": []
  },
  {
   "cell_type": "code",
   "execution_count": 260,
   "metadata": {},
   "outputs": [
    {
     "data": {
      "text/plain": [
       "[20, 60, 140, 10, 240, 1400, 2, 70]"
      ]
     },
     "execution_count": 260,
     "metadata": {},
     "output_type": "execute_result"
    }
   ],
   "source": [
    "#컴프리헨션\n",
    "#(7) 다음 리스트가 가진 값에 두배(* 2)를 가지는 새로운 리스트를 만드시오. (리스트 컴프리헨션 이용)// 최종결과 리스트가됨\n",
    "lst = [10, 30, 70, 5, 120, 700, 1, 35]\n",
    "result = [num*2 for num in lst]  #mapping 모든값을 동일한 처리를 하는것 \n",
    "result"
   ]
  },
  {
   "cell_type": "code",
   "execution_count": null,
   "metadata": {},
   "outputs": [],
   "source": []
  },
  {
   "cell_type": "code",
   "execution_count": 263,
   "metadata": {},
   "outputs": [
    {
     "data": {
      "text/plain": [
       "[(10, 100),\n",
       " (30, 300),\n",
       " (70, 700),\n",
       " (5, 50),\n",
       " (5, 50),\n",
       " (120, 1200),\n",
       " (700, 7000),\n",
       " (1, 10),\n",
       " (35, 350),\n",
       " (35, 350)]"
      ]
     },
     "execution_count": 263,
     "metadata": {},
     "output_type": "execute_result"
    }
   ],
   "source": [
    "#(8) 다음 리스트가 가진 값에 10배의 값을 가지는 값을 (원래값, 10배값) 의 튜플묶음으로 가지는 리스트를 만드시오 (리스트 컴프리헨션 이용)\n",
    "# Ex) [(10,100), (30,300), .., (35, 350)]\n",
    "lst = [10, 30, 70, 5, 5, 120, 700, 1, 35, 35]\n",
    "result = [(num,num*10) for num in lst] #이런 상황에서는 괄호를써서 튜플ㅇㄹ 만들어야함 ㅋ\n",
    "result\n"
   ]
  },
  {
   "cell_type": "code",
   "execution_count": 266,
   "metadata": {},
   "outputs": [
    {
     "data": {
      "text/plain": [
       "[3, 33, 21, 33, 60, 120]"
      ]
     },
     "execution_count": 266,
     "metadata": {},
     "output_type": "execute_result"
    }
   ],
   "source": [
    "#(9) 다음 리스트가 가진 값들 중 3의 배수만 가지는 리스트를 만드시오. (리스트 컴프리헨션 이용)\n",
    "lst2 = [ 3, 20, 33, 21, 33, 8, 11, 10, 7, 17, 60, 120, 2]\n",
    "result = [num for num in lst2 if num%3 ==0 ]  #두번째 if 조건으로 filtering 한다~~~\n",
    "result"
   ]
  },
  {
   "cell_type": "code",
   "execution_count": 271,
   "metadata": {},
   "outputs": [
    {
     "data": {
      "text/plain": [
       "['a.exe', 'function.exe', 'b.exe', 'run.exe']"
      ]
     },
     "execution_count": 271,
     "metadata": {},
     "output_type": "execute_result"
    }
   ],
   "source": [
    "#(10) 다음 파일이름들을 담은 리스트에서 확장자가 exe인 파일만 골라서 새로운 리스트에 담으시오.(string의 endswith()함수 이용)\n",
    "file_name=[\"test.txt\", \"a.exe\", \"jupyter.bat\", \"function.exe\", \"b.exe\", \n",
    "           \"cat.jpg\", \"dog.png\", \"run.exe\", \"i.dll\"]\n",
    "result = [num for num in file_name if num.endswith(\"exe\")]\n",
    "result"
   ]
  },
  {
   "cell_type": "code",
   "execution_count": 278,
   "metadata": {},
   "outputs": [
    {
     "name": "stdout",
     "output_type": "stream",
     "text": [
      "['mystroy.txt', 'jupyter.bat', 'function.exe']\n"
     ]
    }
   ],
   "source": [
    "#(11) 다음 중 10글자 이상인 파일명(확장자포함)만 가지는 리스트를 만드시오.\n",
    "file_name=[\"mystroy.txt\", \"a.exe\", \"jupyter.bat\", \"function.exe\", \"b.exe\",\n",
    "           \"cat.jpg\", \"dog.png\", \"run.exe\", \"i.dll\"]\n",
    "result = [num for num in file_name if len(num)>=10]\n",
    "print(result)"
   ]
  },
  {
   "cell_type": "code",
   "execution_count": 216,
   "metadata": {},
   "outputs": [
    {
     "name": "stdout",
     "output_type": "stream",
     "text": [
      "김대민 천재\n",
      "이기완바보\n"
     ]
    }
   ],
   "source": [
    "#(11) 다음 중 5글자 이상인 파일명(확장자포함)만 가지는 리스트를 만드시오.\n",
    "name=['김대민 천재','이기완바보','김대민','독서실','맥북','맥북프로']\n",
    "\n",
    "for n in name:\n",
    "    if len(n) >= 5:\n",
    "        print(n)"
   ]
  },
  {
   "cell_type": "code",
   "execution_count": 218,
   "metadata": {},
   "outputs": [
    {
     "data": {
      "text/plain": [
       "['김대민 천재', '이기완바보']"
      ]
     },
     "execution_count": 218,
     "metadata": {},
     "output_type": "execute_result"
    }
   ],
   "source": [
    "name1 = [me for me in name if len(me)>=5]\n",
    "name1"
   ]
  },
  {
   "cell_type": "code",
   "execution_count": 220,
   "metadata": {},
   "outputs": [
    {
     "data": {
      "text/plain": [
       "{'김대민 천재': 6, '이기완바보': 5}"
      ]
     },
     "execution_count": 220,
     "metadata": {},
     "output_type": "execute_result"
    }
   ],
   "source": [
    "name2 = {d:len(d) for d in name if len(d)>=5}\n",
    "name2"
   ]
  },
  {
   "cell_type": "code",
   "execution_count": null,
   "metadata": {},
   "outputs": [],
   "source": []
  },
  {
   "cell_type": "code",
   "execution_count": 309,
   "metadata": {},
   "outputs": [
    {
     "data": {
      "text/plain": [
       "{'mystroy.txt': 11, 'jupyter.bat': 11, 'function.exe': 12}"
      ]
     },
     "execution_count": 309,
     "metadata": {},
     "output_type": "execute_result"
    }
   ],
   "source": [
    "result = {num:len(num) for num in file_name if len(num)>=10}\n",
    "result    #딕셔너리로 만들때 "
   ]
  },
  {
   "cell_type": "code",
   "execution_count": null,
   "metadata": {},
   "outputs": [],
   "source": [
    "# 예측할 숫자를 생성\n",
    "import random\n",
    "num= random.randint(1,100)  #100도포함 1~100 사이의 정수를 실행시마다 랜덤 하게 반환\n",
    "print(num)"
   ]
  },
  {
   "cell_type": "markdown",
   "metadata": {},
   "source": [
    "# todo 2번째 풀이\n"
   ]
  },
  {
   "cell_type": "code",
   "execution_count": 123,
   "metadata": {},
   "outputs": [
    {
     "name": "stdout",
     "output_type": "stream",
     "text": [
      "100\n",
      "A학점\n"
     ]
    }
   ],
   "source": [
    "#(1) 다음 점수 구간에 맞게 학점을 출력하세요.\n",
    "# 91 ~ 100 : A학점\n",
    "# 81 ~ 90 :  B학점\n",
    "# 71 ~ 80 :  C학점\n",
    "# 61 ~ 70 :  D학점\n",
    "# 60이하   :  F학점\n",
    "\n",
    "num = int(input())\n",
    "\n",
    "if num >=91:\n",
    "    print('A학점')\n",
    "elif num >=81:\n",
    "    print('B학점')\n",
    "elif num >= 71:\n",
    "    print('C학점')\n",
    "elif num >= 61:\n",
    "    print('D학점')\n",
    "else:\n",
    "    print('F학점')\n"
   ]
  },
  {
   "cell_type": "code",
   "execution_count": 125,
   "metadata": {},
   "outputs": [
    {
     "data": {
      "text/plain": [
       "89.0"
      ]
     },
     "execution_count": 125,
     "metadata": {},
     "output_type": "execute_result"
    }
   ],
   "source": [
    "#(2) 아래 리스트의 평균을 구하시오.\n",
    "jumsu = [100, 90, 100, 80, 70, 100, 80, 90, 95, 85]\n",
    "sum(jumsu)/len(jumsu)"
   ]
  },
  {
   "cell_type": "code",
   "execution_count": 127,
   "metadata": {},
   "outputs": [
    {
     "data": {
      "text/plain": [
       "89.0"
      ]
     },
     "execution_count": 127,
     "metadata": {},
     "output_type": "execute_result"
    }
   ],
   "source": [
    "total=0\n",
    "for i in jumsu:\n",
    "    total+=i\n",
    "avg=total/len(jumsu)\n",
    "avg"
   ]
  },
  {
   "cell_type": "code",
   "execution_count": 131,
   "metadata": {},
   "outputs": [
    {
     "name": "stdout",
     "output_type": "stream",
     "text": [
      "1-pass\n",
      "2-pass\n",
      "3-pass\n",
      "4-fail\n",
      "5-fail\n",
      "6-pass\n",
      "7-fail\n",
      "8-pass\n",
      "9-pass\n",
      "10-fail\n"
     ]
    }
   ],
   "source": [
    "#(3) 위 jumsu리스트에서 평균점수이상은 pass, 미만은 fail을 index번호와 함께 출력하시오. (ex: 0-pass, 1-pass, 2-fail)\n",
    "for indx,i in enumerate(jumsu,1):\n",
    "    if i >=avg:\n",
    "        print(indx,'pass',sep='-')\n",
    "    else:\n",
    "        print(indx,'fail',sep='-')\n"
   ]
  },
  {
   "cell_type": "code",
   "execution_count": 132,
   "metadata": {},
   "outputs": [
    {
     "data": {
      "text/plain": [
       "95"
      ]
     },
     "execution_count": 132,
     "metadata": {},
     "output_type": "execute_result"
    }
   ],
   "source": [
    "#(4) 아래 리스트 값들 중 최대값을 조회해 출력\n",
    "jumsu = [60, 90, 80, 80, 70, 55, 80, 90, 95, 85]\n",
    "max(jumsu)"
   ]
  },
  {
   "cell_type": "code",
   "execution_count": 144,
   "metadata": {},
   "outputs": [
    {
     "name": "stdout",
     "output_type": "stream",
     "text": [
      "95점\n"
     ]
    }
   ],
   "source": [
    "max_score=jumsu[0]  # 이게 for 안에 들어가면 max 점수가 i 로 바뀌지 않고 계속 jumsu[0]이되니까 결국 마지막 점수까지 반복하고 마지막 점수가 jumsu[0]보다 크니까 출력된다.\n",
    "for i in jumsu:\n",
    "    if i > max_score:\n",
    "        max_score=i\n",
    "print(str(max_score)+'점')"
   ]
  },
  {
   "cell_type": "code",
   "execution_count": 146,
   "metadata": {},
   "outputs": [
    {
     "name": "stdout",
     "output_type": "stream",
     "text": [
      "['갑', '을', '병']\n"
     ]
    }
   ],
   "source": [
    "#(5) 다음 리스트 중에서 '정' 글자를 제외하고 출력하세요.\n",
    "str_list = [\"갑\", \"을\", \"병\", \"정\"]\n",
    "print(str_list[0:3])"
   ]
  },
  {
   "cell_type": "code",
   "execution_count": 153,
   "metadata": {},
   "outputs": [
    {
     "name": "stdout",
     "output_type": "stream",
     "text": [
      "2\n",
      "2X1=2 2X2=4 2X3=6 2X4=8 2X5=10 2X6=12 2X7=14 2X8=16 2X9=18 "
     ]
    }
   ],
   "source": [
    "#(6) 사용자로부터 정수를 입력받아 그 단의 구구단을 출력하시오.\n",
    "# ex) 단을 입력하시오 : 2\n",
    "# 2 x 1 = 2\n",
    "# 2 x 2 = 4\n",
    "#..\n",
    "# 2 x 9 = 18\n",
    "\n",
    "dan=int(input())\n",
    "for i in range(1,10):\n",
    "    print(f'{dan}X{i}={dan*int(i)}',end=\" \")"
   ]
  },
  {
   "cell_type": "code",
   "execution_count": 158,
   "metadata": {},
   "outputs": [
    {
     "name": "stdout",
     "output_type": "stream",
     "text": [
      "2X1=2\t2X2=4\t2X3=6\t2X4=8\t2X5=10\t2X6=12\t2X7=14\t2X8=16\t2X9=18\t\n",
      "3X1=3\t3X2=6\t3X3=9\t3X4=12\t3X5=15\t3X6=18\t3X7=21\t3X8=24\t3X9=27\t\n",
      "4X1=4\t4X2=8\t4X3=12\t4X4=16\t4X5=20\t4X6=24\t4X7=28\t4X8=32\t4X9=36\t\n",
      "5X1=5\t5X2=10\t5X3=15\t5X4=20\t5X5=25\t5X6=30\t5X7=35\t5X8=40\t5X9=45\t\n",
      "6X1=6\t6X2=12\t6X3=18\t6X4=24\t6X5=30\t6X6=36\t6X7=42\t6X8=48\t6X9=54\t\n",
      "7X1=7\t7X2=14\t7X3=21\t7X4=28\t7X5=35\t7X6=42\t7X7=49\t7X8=56\t7X9=63\t\n",
      "8X1=8\t8X2=16\t8X3=24\t8X4=32\t8X5=40\t8X6=48\t8X7=56\t8X8=64\t8X9=72\t\n",
      "9X1=9\t9X2=18\t9X3=27\t9X4=36\t9X5=45\t9X6=54\t9X7=63\t9X8=72\t9X9=81\t\n"
     ]
    }
   ],
   "source": [
    "for i in range(2,10):\n",
    "    for n in range(1,10):\n",
    "        print(f'{i}X{n}={i*n}',end=\"\\t\")\n",
    "    print()"
   ]
  },
  {
   "cell_type": "code",
   "execution_count": 162,
   "metadata": {},
   "outputs": [
    {
     "data": {
      "text/plain": [
       "[50, 150, 350, 25, 600, 3500, 5, 175]"
      ]
     },
     "execution_count": 162,
     "metadata": {},
     "output_type": "execute_result"
    }
   ],
   "source": [
    "#컴프리헨션\n",
    "#(7) 다음 리스트가 가진 값에 두배(* 2)를 가지는 새로운 리스트를 만드시오. (리스트 컴프리헨션 이용)\n",
    "lst = [10, 30, 70, 5, 120, 700, 1, 35]\n",
    "\n",
    "lst2=[i*5 for i in lst]\n",
    "lst2"
   ]
  },
  {
   "cell_type": "code",
   "execution_count": 163,
   "metadata": {},
   "outputs": [
    {
     "name": "stdout",
     "output_type": "stream",
     "text": [
      "[(10, 100), (30, 300), (70, 700), (5, 50), (5, 50), (120, 1200), (700, 7000), (1, 10), (35, 350), (35, 350)]\n"
     ]
    }
   ],
   "source": [
    "#(8) 다음 리스트가 가진 값에 10배의 값을 가지는 값을 (원래값, 10배값) 의 튜플묶음으로 가지는 리스트를 만드시오 (리스트 컴프리헨션 이용)\n",
    "# Ex) [(10,100), (30,300), .., (35, 350)]\n",
    "lst = [10, 30, 70, 5, 5, 120, 700, 1, 35, 35]\n",
    "lst2 = [i*10 for i in lst]\n",
    "\n",
    "lst3=[]\n",
    "for i in zip(lst,lst2):\n",
    "    lst3.append(i)\n",
    "print(lst3)"
   ]
  },
  {
   "cell_type": "code",
   "execution_count": 165,
   "metadata": {},
   "outputs": [
    {
     "data": {
      "text/plain": [
       "[(10, 100),\n",
       " (30, 300),\n",
       " (70, 700),\n",
       " (5, 50),\n",
       " (5, 50),\n",
       " (120, 1200),\n",
       " (700, 7000),\n",
       " (1, 10),\n",
       " (35, 350),\n",
       " (35, 350)]"
      ]
     },
     "execution_count": 165,
     "metadata": {},
     "output_type": "execute_result"
    }
   ],
   "source": [
    "lst4=[(i,i*10)for i in lst]\n",
    "lst4"
   ]
  },
  {
   "cell_type": "code",
   "execution_count": null,
   "metadata": {},
   "outputs": [],
   "source": [
    "result = [(num,num*10) for num in lst]"
   ]
  },
  {
   "cell_type": "code",
   "execution_count": 166,
   "metadata": {},
   "outputs": [
    {
     "data": {
      "text/plain": [
       "[3, 33, 21, 33, 60, 120]"
      ]
     },
     "execution_count": 166,
     "metadata": {},
     "output_type": "execute_result"
    }
   ],
   "source": [
    "#(9) 다음 리스트가 가진 값들 중 3의 배수만 가지는 리스트를 만드시오. (리스트 컴프리헨션 이용)\n",
    "lst2 = [ 3, 20, 33, 21, 33, 8, 11, 10, 7, 17, 60, 120, 2]\n",
    "\n",
    "lst5=[i for i in lst2 if i%3==0]\n",
    "lst5"
   ]
  },
  {
   "cell_type": "code",
   "execution_count": 167,
   "metadata": {},
   "outputs": [
    {
     "name": "stdout",
     "output_type": "stream",
     "text": [
      "a.exe\n",
      "function.exe\n",
      "b.exe\n",
      "run.exe\n"
     ]
    }
   ],
   "source": [
    "#(10) 다음 파일이름들을 담은 리스트에서 확장자가 exe인 파일만 골라서 새로운 리스트에 담으시오.(string의 endswith()함수 이용)\n",
    "file_name=[\"test.txt\", \"a.exe\", \"jupyter.bat\", \"function.exe\", \"b.exe\", \"cat.jpg\", \"dog.png\", \"run.exe\", \"i.dll\"]\n",
    "for i in file_name:\n",
    "    if i.endswith('exe'):\n",
    "        print(i)"
   ]
  },
  {
   "cell_type": "code",
   "execution_count": 168,
   "metadata": {},
   "outputs": [
    {
     "name": "stdout",
     "output_type": "stream",
     "text": [
      "mystroy.txt\n",
      "jupyter.bat\n",
      "function.exe\n"
     ]
    }
   ],
   "source": [
    "#(11) 다음 중 10글자 이상인 파일명(확장자포함)만 가지는 리스트를 만드시오.\n",
    "file_name=[\"mystroy.txt\", \"a.exe\", \"jupyter.bat\", \"function.exe\", \"b.exe\", \"cat.jpg\", \"dog.png\", \"run.exe\", \"i.dll\"]\n",
    "\n",
    "for i in file_name:\n",
    "    if len(i)>=10:\n",
    "        print(i)"
   ]
  },
  {
   "cell_type": "markdown",
   "metadata": {},
   "source": [
    "# 숫자게임~"
   ]
  },
  {
   "cell_type": "code",
   "execution_count": null,
   "metadata": {},
   "outputs": [],
   "source": [
    "1. 예측할 숫자 생성\n",
    "2. 사용자로부터 숫자 입력\n",
    "3. 입력받은 숫자와 예측 숫자를 비교한다.\n",
    "    3-1 같으면 몇번째 성공했는지 출력하고 종료\n",
    "    "
   ]
  },
  {
   "cell_type": "code",
   "execution_count": 180,
   "metadata": {
    "collapsed": true
   },
   "outputs": [
    {
     "name": "stdout",
     "output_type": "stream",
     "text": [
      "83\n",
      "100\n",
      "입력한 값이 큽니다.\n"
     ]
    },
    {
     "ename": "KeyboardInterrupt",
     "evalue": "Interrupted by user",
     "output_type": "error",
     "traceback": [
      "\u001b[1;31m---------------------------------------------------------------------------\u001b[0m",
      "\u001b[1;31mKeyboardInterrupt\u001b[0m                         Traceback (most recent call last)",
      "\u001b[1;32m<ipython-input-180-86fd133f78f5>\u001b[0m in \u001b[0;36m<module>\u001b[1;34m\u001b[0m\n\u001b[0;32m      5\u001b[0m \u001b[1;33m\u001b[0m\u001b[0m\n\u001b[0;32m      6\u001b[0m \u001b[1;32mwhile\u001b[0m \u001b[0mi\u001b[0m \u001b[1;33m!=\u001b[0m \u001b[0mnum\u001b[0m\u001b[1;33m:\u001b[0m\u001b[1;33m\u001b[0m\u001b[1;33m\u001b[0m\u001b[0m\n\u001b[1;32m----> 7\u001b[1;33m     \u001b[0mi\u001b[0m \u001b[1;33m=\u001b[0m \u001b[0mint\u001b[0m\u001b[1;33m(\u001b[0m\u001b[0minput\u001b[0m\u001b[1;33m(\u001b[0m\u001b[1;33m)\u001b[0m\u001b[1;33m)\u001b[0m\u001b[1;33m\u001b[0m\u001b[1;33m\u001b[0m\u001b[0m\n\u001b[0m\u001b[0;32m      8\u001b[0m     \u001b[1;32mif\u001b[0m \u001b[0mi\u001b[0m\u001b[1;33m>\u001b[0m \u001b[0mnum\u001b[0m \u001b[1;33m:\u001b[0m\u001b[1;33m\u001b[0m\u001b[1;33m\u001b[0m\u001b[0m\n\u001b[0;32m      9\u001b[0m         \u001b[0mprint\u001b[0m\u001b[1;33m(\u001b[0m\u001b[1;34m\"입력한 값이 큽니다.\"\u001b[0m\u001b[1;33m)\u001b[0m\u001b[1;33m\u001b[0m\u001b[1;33m\u001b[0m\u001b[0m\n",
      "\u001b[1;32m~\\Anaconda3\\lib\\site-packages\\ipykernel\\kernelbase.py\u001b[0m in \u001b[0;36mraw_input\u001b[1;34m(self, prompt)\u001b[0m\n\u001b[0;32m    858\u001b[0m                 \u001b[1;34m\"raw_input was called, but this frontend does not support input requests.\"\u001b[0m\u001b[1;33m\u001b[0m\u001b[1;33m\u001b[0m\u001b[0m\n\u001b[0;32m    859\u001b[0m             )\n\u001b[1;32m--> 860\u001b[1;33m         return self._input_request(str(prompt),\n\u001b[0m\u001b[0;32m    861\u001b[0m             \u001b[0mself\u001b[0m\u001b[1;33m.\u001b[0m\u001b[0m_parent_ident\u001b[0m\u001b[1;33m,\u001b[0m\u001b[1;33m\u001b[0m\u001b[1;33m\u001b[0m\u001b[0m\n\u001b[0;32m    862\u001b[0m             \u001b[0mself\u001b[0m\u001b[1;33m.\u001b[0m\u001b[0m_parent_header\u001b[0m\u001b[1;33m,\u001b[0m\u001b[1;33m\u001b[0m\u001b[1;33m\u001b[0m\u001b[0m\n",
      "\u001b[1;32m~\\Anaconda3\\lib\\site-packages\\ipykernel\\kernelbase.py\u001b[0m in \u001b[0;36m_input_request\u001b[1;34m(self, prompt, ident, parent, password)\u001b[0m\n\u001b[0;32m    902\u001b[0m             \u001b[1;32mexcept\u001b[0m \u001b[0mKeyboardInterrupt\u001b[0m\u001b[1;33m:\u001b[0m\u001b[1;33m\u001b[0m\u001b[1;33m\u001b[0m\u001b[0m\n\u001b[0;32m    903\u001b[0m                 \u001b[1;31m# re-raise KeyboardInterrupt, to truncate traceback\u001b[0m\u001b[1;33m\u001b[0m\u001b[1;33m\u001b[0m\u001b[1;33m\u001b[0m\u001b[0m\n\u001b[1;32m--> 904\u001b[1;33m                 \u001b[1;32mraise\u001b[0m \u001b[0mKeyboardInterrupt\u001b[0m\u001b[1;33m(\u001b[0m\u001b[1;34m\"Interrupted by user\"\u001b[0m\u001b[1;33m)\u001b[0m \u001b[1;32mfrom\u001b[0m \u001b[1;32mNone\u001b[0m\u001b[1;33m\u001b[0m\u001b[1;33m\u001b[0m\u001b[0m\n\u001b[0m\u001b[0;32m    905\u001b[0m             \u001b[1;32mexcept\u001b[0m \u001b[0mException\u001b[0m \u001b[1;32mas\u001b[0m \u001b[0me\u001b[0m\u001b[1;33m:\u001b[0m\u001b[1;33m\u001b[0m\u001b[1;33m\u001b[0m\u001b[0m\n\u001b[0;32m    906\u001b[0m                 \u001b[0mself\u001b[0m\u001b[1;33m.\u001b[0m\u001b[0mlog\u001b[0m\u001b[1;33m.\u001b[0m\u001b[0mwarning\u001b[0m\u001b[1;33m(\u001b[0m\u001b[1;34m\"Invalid Message:\"\u001b[0m\u001b[1;33m,\u001b[0m \u001b[0mexc_info\u001b[0m\u001b[1;33m=\u001b[0m\u001b[1;32mTrue\u001b[0m\u001b[1;33m)\u001b[0m\u001b[1;33m\u001b[0m\u001b[1;33m\u001b[0m\u001b[0m\n",
      "\u001b[1;31mKeyboardInterrupt\u001b[0m: Interrupted by user"
     ]
    }
   ],
   "source": [
    "import random\n",
    "num= random.randint(1,100)  \n",
    "print(num)\n",
    "i = 0\n",
    "\n",
    "while i != num:\n",
    "    i = int(input())\n",
    "    if i> num :\n",
    "        print(\"입력한 값이 큽니다.\")\n",
    "    elif i < num :\n",
    "        print(\"입력한 값이 작습니다.\")\n",
    "    else: \n",
    "        break\n",
    "print(f\"일치합니다.\")"
   ]
  },
  {
   "cell_type": "code",
   "execution_count": 186,
   "metadata": {
    "collapsed": true
   },
   "outputs": [
    {
     "name": "stdout",
     "output_type": "stream",
     "text": [
      "92\n",
      "숫자 입력:34\n",
      "34 보다 큰 숫자입력\n",
      "숫자 입력:53\n",
      "53 보다 큰 숫자입력\n",
      "숫자 입력:7\n",
      "7 보다 큰 숫자입력\n",
      "숫자 입력:234\n",
      "234 보다 작은 숫자 입력\n",
      "숫자 입력:100\n",
      "100 보다 작은 숫자 입력\n",
      "숫자 입력:92\n",
      "92 정답입니다.\n"
     ]
    }
   ],
   "source": [
    "### 예측할 숫자를 생성\n",
    "import random\n",
    "num= random.randint(1,100)  #100도포함 1~100 사이의 정수를 실행시마다 랜덤 하게 반환\n",
    "print(num)\n",
    "i=0\n",
    "\n",
    "while i != num:   \n",
    "    #100 이상의 숫자를 입력하면 False 가 되서 while 이 작동하지 않는다. (while i < 100: 일때)\n",
    "    #그래서 != 으로 100이상의 숫자를 넣어도 while이 작동할수 있게한다.   (while i != 100 일때 i가 100이면 False 가됨)\n",
    "# but 100은 만약 i를 100을 넣으면 100 != 100 이되고 False 가되므로 while이멈추니까 사용자가 입력한 값과 랜덤 숫자가 다르면 계속 While이 작동하게한다.\n",
    "    # 그리고 사용자가 입력한 숫자와 random 숫자가 같으면 False 가되서 while 이 작동을 안하고 print만 하게된다.\n",
    "    i=int(input('숫자 입력:'))\n",
    "    if i <num:\n",
    "        print(f'{i} 보다 큰 숫자입력')\n",
    "        \n",
    "    elif i >num:\n",
    "        print(f'{i} 보다 작은 숫자 입력')\n",
    "        \n",
    "    else:\n",
    "        break\n",
    "print(f'{i} 정답입니다.')"
   ]
  },
  {
   "cell_type": "code",
   "execution_count": 194,
   "metadata": {},
   "outputs": [
    {
     "name": "stdout",
     "output_type": "stream",
     "text": [
      "40\n",
      "1번째 시도\n",
      "숫자 입력:1\n",
      "1 보다 큰 숫자입력\n",
      "2번째 시도\n",
      "숫자 입력:2\n",
      "2 보다 큰 숫자입력\n",
      "3번째 시도\n",
      "숫자 입력:3\n",
      "3 보다 큰 숫자입력\n",
      "4번째 시도\n",
      "숫자 입력:4\n",
      "4 보다 큰 숫자입력\n",
      "5번째 시도\n",
      "숫자 입력:5\n",
      "5 보다 큰 숫자입력\n",
      "5번째 시도 횟수 초과 실패\n"
     ]
    }
   ],
   "source": [
    "import random\n",
    "num= random.randint(1,100)  #100도포함 1~100 사이의 정수를 실행시마다 랜덤 하게 반환\n",
    "print(num)\n",
    "i=0\n",
    "try_count=1\n",
    "max_try=5\n",
    "while i != num:\n",
    "    print(f'{try_count}번째 시도')\n",
    "    \n",
    "    i=int(input('숫자 입력:'))\n",
    "    if i <num:\n",
    "        print(f'{i} 보다 큰 숫자입력')\n",
    "       # try_count += 1 이렇게 if 마다 넣으면 숫자를 입력과 동시에 더하기때문에 4번째때에 이미 try count가 5가되서 바로 break 된다.\n",
    "    elif i >num:\n",
    "        print(f'{i} 보다 작은 숫자 입력')\n",
    "       # try_count += 1\n",
    "    elif i==num:\n",
    "        print(f'{i} 정답')\n",
    "        break\n",
    "    if try_count == max_try:\n",
    "        print(f'{try_count}번째 시도 횟수 초과 실패')\n",
    "        break\n",
    "    try_count += 1  #이렇게 마지막에 넣어야 비교를 다하고 마지막에 1을 더하니까\n",
    "        \n",
    "#print(f'{i} 정답입니다.')"
   ]
  },
  {
   "cell_type": "markdown",
   "metadata": {},
   "source": [
    "예측할 숫자를 생성\n",
    "시도횟수를 저장할 변수 선언.\n",
    "사용자로부터 숫자입력 받기\n",
    "입력받은 숫자와 예측숫자를 비교한다.\n",
    "    4-1 같으면 종료\n",
    "    4-2 크면 \"작은 숫자를 입력하세요\" 출력\n",
    "    4-3 작으면 '큰 숫자를 입력하세요' 출력\n",
    "숫자를 맞출 때까지 3번,4번 반복..\n"
   ]
  },
  {
   "cell_type": "code",
   "execution_count": null,
   "metadata": {},
   "outputs": [],
   "source": [
    "print(\"예측할 숫자:\", num)\n",
    "try_count = 1 # 시도횟수 저장할 변수\n",
    "print(f'{try_count}번째시도\")"
   ]
  },
  {
   "cell_type": "code",
   "execution_count": 193,
   "metadata": {},
   "outputs": [
    {
     "name": "stdout",
     "output_type": "stream",
     "text": [
      "정답: 33\n",
      "1번째 시도\n",
      "1~100사이의 숫자를 입력하세요:1\n",
      "1 보다 큰 값을 입력하세요~!\n",
      "------------------------------\n",
      "2번째 시도\n",
      "1~100사이의 숫자를 입력하세요:2\n",
      "2 보다 큰 값을 입력하세요~!\n",
      "------------------------------\n",
      "3번째 시도\n",
      "1~100사이의 숫자를 입력하세요:3\n",
      "3 보다 큰 값을 입력하세요~!\n",
      "------------------------------\n",
      "4번째 시도\n",
      "1~100사이의 숫자를 입력하세요:4\n",
      "4 보다 큰 값을 입력하세요~!\n",
      "------------------------------\n",
      "5번째 시도\n",
      "1~100사이의 숫자를 입력하세요:5\n",
      "5 보다 큰 값을 입력하세요~!\n",
      "==============================\n",
      "시도 횟수 초과 실패!!\n",
      "==============================\n"
     ]
    }
   ],
   "source": [
    "import random\n",
    "num= random.randint(1,100)#100도포함 1~100 사이의 정수를 실행시마다 랜덤 하게 반환\n",
    "print('정답:',num)\n",
    "try_count = 1\n",
    "max_try = 5\n",
    "\n",
    "while True:\n",
    "    print(f'{try_count}번째 시도')\n",
    "    k = int(input('1~100사이의 숫자를 입력하세요:'))\n",
    "    if k == num:\n",
    "        print (f'{try_count}번째 성공')\n",
    "        break\n",
    "    elif k > num: \n",
    "        print (f'{k} 보다 작은 값을 입력하세요~')\n",
    "    elif k <num:\n",
    "        print(f'{k} 보다 큰 값을 입력하세요~!')\n",
    "    if max_try == try_count :\n",
    "        print(\"=\"*30)\n",
    "        print(\"시도 횟수 초과 실패!!\")\n",
    "        print(\"=\"*30)\n",
    "        break\n",
    "    try_count +=1\n",
    "    print(\"-\"*30)\n"
   ]
  }
 ],
 "metadata": {
  "kernelspec": {
   "display_name": "Python 3",
   "language": "python",
   "name": "python3"
  },
  "language_info": {
   "codemirror_mode": {
    "name": "ipython",
    "version": 3
   },
   "file_extension": ".py",
   "mimetype": "text/x-python",
   "name": "python",
   "nbconvert_exporter": "python",
   "pygments_lexer": "ipython3",
   "version": "3.8.5"
  }
 },
 "nbformat": 4,
 "nbformat_minor": 4
}
