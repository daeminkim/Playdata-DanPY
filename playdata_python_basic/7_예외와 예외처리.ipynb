{
 "cells": [
  {
   "cell_type": "markdown",
   "metadata": {},
   "source": [
    "## 1월 18일~~\n",
    "\n",
    "\n",
    "## 예외를 쓰는 가장 큰이유는 다음 작업이 실행되는 것을 멈추기위해서 이다.\n",
    "# 예외가 나온것을 모른다면 if문 같은 경우 다음 작업으로 넘어 가지만 \n",
    "## 예외가 나온것을 알려준다면 다음 작업으로 넘어 가지도 않고 멈출 수 있다."
   ]
  },
  {
   "cell_type": "code",
   "execution_count": 1,
   "metadata": {},
   "outputs": [
    {
     "name": "stdout",
     "output_type": "stream",
     "text": [
      "숫자:(0은 안됨)0\n",
      "0으로 나눌 수 없습니다.\n",
      "뺀 결과: 10\n"
     ]
    }
   ],
   "source": [
    "a=10\n",
    "#b=0\n",
    "b= int(input('숫자:(0은 안됨)'))\n",
    "try:\n",
    "    c=a/b #예외가 발생할 가능성이 잇는 코드 (그냥 한번 시도해봐 -try 블럭)\n",
    "    print('나누기 결과:',c)#처리 안됨. line 6 도 (try 가 없을때)\n",
    "except: # 만약 예외가 발생했다면(비정상적 상황이) except 블럭을 실행 => 정상화=> 예외처리 됨\n",
    "    print('0으로 나눌 수 없습니다.')\n",
    "\n",
    "d = a-b\n",
    "print('뺀 결과:',d)"
   ]
  },
  {
   "cell_type": "code",
   "execution_count": 5,
   "metadata": {},
   "outputs": [
    {
     "name": "stdout",
     "output_type": "stream",
     "text": [
      "정상실행되었음\n"
     ]
    }
   ],
   "source": [
    "try:\n",
    "    3/2\n",
    "except:\n",
    "    print('ZeroDivisionError')    # 그냥 3/0 을 하면 ZeroDivisionError예외가 발생한다.\n",
    "                                    # 이 예외 상황을 except 가 정상적인 상황으로 바꾸는 역할을 해서 print를 실행 시키는 것이다.\n",
    "else :\n",
    "    print('정상실행되었음') #예외 없이 실행 되었을때 "
   ]
  },
  {
   "cell_type": "code",
   "execution_count": null,
   "metadata": {},
   "outputs": [],
   "source": []
  },
  {
   "cell_type": "code",
   "execution_count": 11,
   "metadata": {},
   "outputs": [
    {
     "name": "stdout",
     "output_type": "stream",
     "text": [
      "네임에러만 처리\n",
      "정상종료\n"
     ]
    }
   ],
   "source": [
    "# 특정 익셉션 만 처리  / 위에서 부터 밑으로 차례대로 찾아서 실행한다..\n",
    "try:\n",
    "#   a = 10/1            # ZeroDivisionError가능성 \n",
    "#   print(a)\n",
    "    b = test()          # name error 가능성  // test()를 정의한게 없다\n",
    "    l =[1,2,3,]         # 에러가 나면 그다음 코드들은 아예 실행없이 건너뛴다\n",
    "    print(l[10]+b)      #index error 가능성\n",
    "    a = 10/0           # ZeroDivisionError가능성 \n",
    "    print(a)\n",
    "except NameError:       #  네임에러 전에 에러가나면 네임에러까지 가지도 않기 때문에 다 정상종료가 아니다.//다음코드가 실행안됨 \n",
    "    print('네임에러만 처리')\n",
    "\n",
    "print('정상종료')\n"
   ]
  },
  {
   "cell_type": "code",
   "execution_count": 2,
   "metadata": {},
   "outputs": [
    {
     "name": "stdout",
     "output_type": "stream",
     "text": [
      "1.0\n",
      "Name 에러만 처리\n",
      "정상종료\n"
     ]
    }
   ],
   "source": [
    "\n",
    "try:\n",
    "    a = 10/10 \n",
    "    print(a)# ZeroDivisionError가능성 \n",
    "    \n",
    "    b = test()          # name error 가능성\n",
    "    \n",
    "    l =[1,2,3,]         # 에러가 나면 그다음 코드들은 아예 실행없이 건너뛴다\n",
    "    print(l[10]+b)      #index error 가능성\n",
    "\n",
    "except  NameError:      \n",
    "    print('Name 에러만 처리') #Name에러만 처리\n",
    "except ZeroDivisionError:\n",
    "    print('ZeroDivisionError 발생처리')#제로디비전만 처리\n",
    "except IndexError:\n",
    "    print('indexerror 발생처리')#인덱스에러만 처리\n",
    "print('정상종료')"
   ]
  },
  {
   "cell_type": "code",
   "execution_count": 13,
   "metadata": {},
   "outputs": [
    {
     "name": "stdout",
     "output_type": "stream",
     "text": [
      "Name 에러만 처리\n",
      "정상종료\n"
     ]
    }
   ],
   "source": [
    "try:\n",
    "    #a = 10/0            # ZeroDivisionError가능성 \n",
    "    \n",
    "    b = test()          # name error 가능성\n",
    "    \n",
    "    l =[1,2,3,]         # except(error)가 발생하면  그다음 코드들은 아예 실행없이 건너뛰고 바로 except로 넘어간다  건너뛴다\n",
    "    print(l[10]+b)      #index error 가능성\n",
    "\n",
    "except  NameError:      \n",
    "    print('Name 에러만 처리') #Name에러만 처리  \n",
    "except ZeroDivisionError:\n",
    "    print('ZeroDivisionError 발생처리')#제로디비전만 처리\n",
    "except :  #'Name 에러   ZeroDivisionError  를 제외한 나머지  익셉션 들을 처리\n",
    "    print('공통 발생처리')  # 이름 없는 except 는 'else' 같이 항상 except의 마지막 구문에 넣는다 \n",
    "print('정상종료')"
   ]
  },
  {
   "cell_type": "markdown",
   "metadata": {},
   "source": [
    "### remind 2/14"
   ]
  },
  {
   "cell_type": "code",
   "execution_count": 22,
   "metadata": {},
   "outputs": [
    {
     "name": "stdout",
     "output_type": "stream",
     "text": [
      "어떤 예외가 발생하더라도 시행됩니다.\n"
     ]
    },
    {
     "ename": "ZeroDivisionError",
     "evalue": "division by zero",
     "output_type": "error",
     "traceback": [
      "\u001b[1;31m---------------------------------------------------------------------------\u001b[0m",
      "\u001b[1;31mZeroDivisionError\u001b[0m                         Traceback (most recent call last)",
      "\u001b[1;32m<ipython-input-22-b19ab23eb725>\u001b[0m in \u001b[0;36m<module>\u001b[1;34m\u001b[0m\n\u001b[0;32m      1\u001b[0m \u001b[1;32mtry\u001b[0m\u001b[1;33m:\u001b[0m\u001b[1;33m\u001b[0m\u001b[1;33m\u001b[0m\u001b[0m\n\u001b[1;32m----> 2\u001b[1;33m     \u001b[0ma\u001b[0m\u001b[1;33m=\u001b[0m\u001b[1;36m5\u001b[0m\u001b[1;33m/\u001b[0m\u001b[1;36m0\u001b[0m\u001b[1;33m\u001b[0m\u001b[1;33m\u001b[0m\u001b[0m\n\u001b[0m\u001b[0;32m      3\u001b[0m     \u001b[0mb\u001b[0m\u001b[1;33m=\u001b[0m\u001b[0mtest\u001b[0m\u001b[1;33m(\u001b[0m\u001b[1;33m)\u001b[0m\u001b[1;33m\u001b[0m\u001b[1;33m\u001b[0m\u001b[0m\n\u001b[0;32m      4\u001b[0m     \u001b[0ml\u001b[0m\u001b[1;33m=\u001b[0m\u001b[1;33m[\u001b[0m\u001b[1;36m3\u001b[0m\u001b[1;33m,\u001b[0m\u001b[1;36m4\u001b[0m\u001b[1;33m,\u001b[0m\u001b[1;36m5\u001b[0m\u001b[1;33m,\u001b[0m\u001b[1;33m]\u001b[0m\u001b[1;33m\u001b[0m\u001b[1;33m\u001b[0m\u001b[0m\n\u001b[0;32m      5\u001b[0m     \u001b[0mprint\u001b[0m\u001b[1;33m(\u001b[0m\u001b[0ml\u001b[0m\u001b[1;33m[\u001b[0m\u001b[1;36m20\u001b[0m\u001b[1;33m]\u001b[0m\u001b[1;33m)\u001b[0m\u001b[1;33m\u001b[0m\u001b[1;33m\u001b[0m\u001b[0m\n",
      "\u001b[1;31mZeroDivisionError\u001b[0m: division by zero"
     ]
    }
   ],
   "source": [
    "try: \n",
    "    a=5/0\n",
    "    b=test()\n",
    "    l=[3,4,5,]\n",
    "    print(l[20])\n",
    "    \n",
    "# except NameError:\n",
    "#     print('NameError 입니다')\n",
    "# # except ZeroDivisionError:\n",
    "# #     print('ZeoroDivisionError 입니다.')\n",
    "except IndexError:\n",
    "    print('IndexError 입니다.')\n",
    "# except :\n",
    "#     print('어떤 에러든 다 처리 합니다.')\n",
    "finally :\n",
    "    print('어떤 예외가 발생하더라도 시행됩니다.')\n",
    "print('n')"
   ]
  },
  {
   "cell_type": "markdown",
   "metadata": {},
   "source": [
    "# finally"
   ]
  },
  {
   "cell_type": "code",
   "execution_count": 20,
   "metadata": {},
   "outputs": [
    {
     "name": "stdout",
     "output_type": "stream",
     "text": [
      "0.1\n",
      "finally블럭실행\n"
     ]
    },
    {
     "ename": "NameError",
     "evalue": "name 'test' is not defined",
     "output_type": "error",
     "traceback": [
      "\u001b[1;31m---------------------------------------------------------------------------\u001b[0m",
      "\u001b[1;31mNameError\u001b[0m                                 Traceback (most recent call last)",
      "\u001b[1;32m<ipython-input-20-032308b49947>\u001b[0m in \u001b[0;36m<module>\u001b[1;34m\u001b[0m\n\u001b[0;32m      2\u001b[0m  \u001b[1;31m#  print(1/0)\u001b[0m\u001b[1;33m\u001b[0m\u001b[1;33m\u001b[0m\u001b[1;33m\u001b[0m\u001b[0m\n\u001b[0;32m      3\u001b[0m     \u001b[0mprint\u001b[0m\u001b[1;33m(\u001b[0m\u001b[1;36m1\u001b[0m\u001b[1;33m/\u001b[0m\u001b[1;36m10\u001b[0m\u001b[1;33m)\u001b[0m\u001b[1;33m\u001b[0m\u001b[1;33m\u001b[0m\u001b[0m\n\u001b[1;32m----> 4\u001b[1;33m     \u001b[0mtest\u001b[0m\u001b[1;33m(\u001b[0m\u001b[1;33m)\u001b[0m  \u001b[1;31m#name error\u001b[0m\u001b[1;33m\u001b[0m\u001b[1;33m\u001b[0m\u001b[0m\n\u001b[0m\u001b[0;32m      5\u001b[0m     \u001b[0mprint\u001b[0m\u001b[1;33m(\u001b[0m\u001b[1;34m'try블럭 실행'\u001b[0m\u001b[1;33m)\u001b[0m\u001b[1;33m\u001b[0m\u001b[1;33m\u001b[0m\u001b[0m\n\u001b[0;32m      6\u001b[0m     \u001b[1;31m#test()\u001b[0m\u001b[1;33m\u001b[0m\u001b[1;33m\u001b[0m\u001b[1;33m\u001b[0m\u001b[0m\n",
      "\u001b[1;31mNameError\u001b[0m: name 'test' is not defined"
     ]
    }
   ],
   "source": [
    "try:\n",
    " #  print(1/0)\n",
    "    print(1/10)\n",
    "    test()  #name error\n",
    "    print('try블럭 실행')\n",
    "    #test()\n",
    "\n",
    "except ZeroDivisionError:\n",
    "    \n",
    "    print('except블럭실행')\n",
    "finally: #무조건 실행되는 코드블럭 - I/O에서 외부자원과 연결을 닫는 코드를 작성.\n",
    "    print(\"finally블럭실행\")\n",
    "print('종료')                    # print('종료') 가 실행되지 않은 이유는 익셉션이 해결되지 않았다"
   ]
  },
  {
   "cell_type": "code",
   "execution_count": null,
   "metadata": {},
   "outputs": [],
   "source": [
    "# 위에 코드에서 try 구문에서  name error 가발생햇는데 except는 ZeroDivisionError밖에 처리 하지 못한다. 그래서 정상처리를 못하엿지만 \n",
    "# finally 는 실행이 된다. \n",
    "# print('종료') 가 실행되지 않은 이유는 익셉션이 해결되지 않았다."
   ]
  },
  {
   "cell_type": "code",
   "execution_count": 35,
   "metadata": {},
   "outputs": [],
   "source": [
    "dic ={\n",
    "    '사과':10,\n",
    "    '귤' :20,\n",
    "    '배': 5\n",
    "    \n",
    "}"
   ]
  },
  {
   "cell_type": "code",
   "execution_count": 42,
   "metadata": {},
   "outputs": [
    {
     "name": "stdout",
     "output_type": "stream",
     "text": [
      "복숭아는 없다.\n"
     ]
    }
   ],
   "source": [
    "try:\n",
    "    r=dic['복숭아']\n",
    "    print(r)\n",
    "except:\n",
    "    print('복숭아는 없다.')"
   ]
  },
  {
   "cell_type": "code",
   "execution_count": 49,
   "metadata": {},
   "outputs": [
    {
     "name": "stdout",
     "output_type": "stream",
     "text": [
      "북숭아는 없다\n"
     ]
    }
   ],
   "source": [
    "r=dic.get('복숭아')\n",
    "if r != None:\n",
    "    print(r)\n",
    "else:\n",
    "    print('북숭아는 없다')"
   ]
  },
  {
   "cell_type": "markdown",
   "metadata": {},
   "source": [
    "## 함수 / 메소드 호출 흐름\n",
    " - call stack mechanism\n",
    " -  FILO  fist in last out"
   ]
  },
  {
   "cell_type": "code",
   "execution_count": 43,
   "metadata": {},
   "outputs": [
    {
     "ename": "SyntaxError",
     "evalue": "invalid syntax (<ipython-input-43-b1a4887c65b7>, line 12)",
     "output_type": "error",
     "traceback": [
      "\u001b[1;36m  File \u001b[1;32m\"<ipython-input-43-b1a4887c65b7>\"\u001b[1;36m, line \u001b[1;32m12\u001b[0m\n\u001b[1;33m    print('b종료')\u001b[0m\n\u001b[1;37m    ^\u001b[0m\n\u001b[1;31mSyntaxError\u001b[0m\u001b[1;31m:\u001b[0m invalid syntax\n"
     ]
    }
   ],
   "source": [
    "def a():\n",
    "    print('a시작')\n",
    "    b()\n",
    "    print('a종료')\n",
    "    \n",
    "def b():\n",
    "    print('b시작')\n",
    "    try:\n",
    "        c()\n",
    "    except:\n",
    "        print('b에서 예외처리)'\n",
    "    print('b종료')\n",
    "    \n",
    "def c():\n",
    "    print('c시작')\n",
    "    print(10/0)\n",
    "                       # 주석처리 하면서 다시 보기 / 예외가 나오니까 여기서 끝남\n",
    "    print('c종료')  #호출한 바로 밑이 다음 작업순서// 사진보기//호출관계에  [비정상 관계 (오류일때도)] 있을때는 오류가 나면 호출된곳으로 리턴한다 "
   ]
  },
  {
   "cell_type": "code",
   "execution_count": 28,
   "metadata": {
    "collapsed": true
   },
   "outputs": [
    {
     "name": "stdout",
     "output_type": "stream",
     "text": [
      "a시작\n",
      "b시작\n",
      "c시작\n",
      "c종료\n",
      "b종료\n",
      "a종료\n"
     ]
    }
   ],
   "source": [
    "a()  #호출한 곳에서도  try 이를 할수 있다.//익셉션 난곳에서도 처리 가능한건 물론 "
   ]
  },
  {
   "cell_type": "code",
   "execution_count": 53,
   "metadata": {},
   "outputs": [],
   "source": [
    "def a():\n",
    "    print('a시작')\n",
    "    b()\n",
    "#     try:\n",
    "#         b()\n",
    "#     except:\n",
    "#         print('a에서 예외처리')\n",
    "    print('a종료')\n",
    "    \n",
    "def b():\n",
    "    print('b시작')\n",
    "   # c()   # b에서 처리 할때 이거 지워야함 \n",
    "    try:\n",
    "        c()\n",
    "    except:\n",
    "        print('B에서 예외처리')\n",
    "    print('b종료')\n",
    "    \n",
    "def c():\n",
    "    print('c시작')\n",
    "    print(10/0)\n",
    "#     try:\n",
    "#         print(10/0)\n",
    "#     except:\n",
    "#         print('c에서 예외처리')\n",
    "    print('c종료')"
   ]
  },
  {
   "cell_type": "code",
   "execution_count": 54,
   "metadata": {},
   "outputs": [],
   "source": [
    "#바로 위에꺼 b, a처리하는거 연습하면서 이해 확실히 하기///  예외가 나오는 호출된 관계에서 어느 곳에서든 예외 처리를 할수있다 !\n",
    "#/예외가 발생하면 호출된곳으로 넘어간다.\n",
    "# c()를 호출한 곳으로 넘어 갈수 있고 / c()를 호출한 def b()를 호출한 def a()로 가서 예외처리가 가능하다.\n"
   ]
  },
  {
   "cell_type": "code",
   "execution_count": 55,
   "metadata": {},
   "outputs": [
    {
     "name": "stdout",
     "output_type": "stream",
     "text": [
      "a시작\n",
      "b시작\n",
      "c시작\n",
      "B에서 예외처리\n",
      "b종료\n",
      "a종료\n"
     ]
    }
   ],
   "source": [
    "a()"
   ]
  },
  {
   "cell_type": "markdown",
   "metadata": {},
   "source": [
    "## 예외클래스 정의및 예외 발생"
   ]
  },
  {
   "cell_type": "markdown",
   "metadata": {},
   "source": [
    "## 나혼자 해본거임"
   ]
  },
  {
   "cell_type": "code",
   "execution_count": 58,
   "metadata": {},
   "outputs": [],
   "source": [
    "\n",
    "def set_month(month):\n",
    "    '''\n",
    "    월을 변경하는 함수 \n",
    "    '''\n",
    "    if month>=1 and month <= 12:\n",
    "        print(f'{month}월로 변경합니다')\n",
    "    #else:\n",
    "      #  print('변경못해')  # \n",
    "        #예외를 발생시켜서 '월을 100'으로 못바궜다고 알려야함/ 아니면 그냥 바뀐줄알고 다음 작업을 실행한다  # \n",
    "                  \n",
    "        "
   ]
  },
  {
   "cell_type": "code",
   "execution_count": 59,
   "metadata": {},
   "outputs": [
    {
     "name": "stdout",
     "output_type": "stream",
     "text": [
      "다음일\n"
     ]
    }
   ],
   "source": [
    "set_month(100)    # 이상태가 되면 정상적으로 처리가 된줄알고 다음 작업을 실행하게 되니까 \n",
    "                    # error execept가 발생햇는데 정상적으로 다음작업(print('다음일')) 을 해버렸다.\n",
    "    \n",
    "print('다음일') # setmonth가 정상적으로 끝나지 안았지만  다음 작업이 실행됨 \n",
    "               # 바로 밑의 함수 처럼 esle 일때 예외를 발생시켜서  exception(error)이 생겼다는 것을 알려줘야 작업을 멈춘다\n",
    "                  #그리고  "
   ]
  },
  {
   "cell_type": "code",
   "execution_count": 17,
   "metadata": {},
   "outputs": [
    {
     "name": "stdout",
     "output_type": "stream",
     "text": [
      "변경못해\n",
      "월 변경후 해야하는 다음작업\n"
     ]
    }
   ],
   "source": [
    "try:\n",
    "    set_month(100) # 월이 변경이 안됨.\n",
    "except:\n",
    "    print('예외처리')\n",
    "    set_month(1)\n",
    "print('월 변경후 해야하는 다음작업')"
   ]
  },
  {
   "cell_type": "code",
   "execution_count": null,
   "metadata": {},
   "outputs": [],
   "source": []
  },
  {
   "cell_type": "markdown",
   "metadata": {},
   "source": [
    "# 바로 위까지 나혼자 해본것임 "
   ]
  },
  {
   "cell_type": "code",
   "execution_count": 92,
   "metadata": {},
   "outputs": [
    {
     "name": "stdout",
     "output_type": "stream",
     "text": [
      "division by zero\n"
     ]
    }
   ],
   "source": [
    "try:\n",
    "    3/0\n",
    "except Exception as e:  # Exception 은 파이썬에서 기본으로 제공하는 것이고 예외 이름을 출력할 수있다.\n",
    "    print(e)"
   ]
  },
  {
   "cell_type": "code",
   "execution_count": 94,
   "metadata": {},
   "outputs": [],
   "source": [
    "# 예외 클래스 정의 :~~~Error // 예외 클래스를 만든다. //예외를 만든다.\n",
    "# InvalidMonthError 라는 예외 class 를 만들었다.\n",
    "class InvalidMonthError(Exception):  # 익셉션을 받은 클래스임\n",
    "    \n",
    "    def __init__(self, invalid_month):\n",
    "        self.invalid_month = invalid_month\n",
    "        \n",
    "    def __str__(self):\n",
    "        return f\"{self.invalid_month}- 사용할수 없는 월입니다. 1~12만 가능합니다.\""
   ]
  },
  {
   "cell_type": "code",
   "execution_count": 95,
   "metadata": {},
   "outputs": [],
   "source": [
    "def set_month(month):\n",
    "    if month>=1 and month <= 12:\n",
    "        print(f'{month}월로 변경합니다')\n",
    "    else:\n",
    "        raise InvalidMonthError(month)  # if 가 false 일때 InvalidMonthError를 발생시킨다. \n",
    "                                        #"
   ]
  },
  {
   "cell_type": "code",
   "execution_count": 96,
   "metadata": {},
   "outputs": [
    {
     "ename": "InvalidMonthError",
     "evalue": "100- 사용할수 없는 월입니다. 1~12만 가능합니다.",
     "output_type": "error",
     "traceback": [
      "\u001b[1;31m---------------------------------------------------------------------------\u001b[0m",
      "\u001b[1;31mInvalidMonthError\u001b[0m                         Traceback (most recent call last)",
      "\u001b[1;32m<ipython-input-96-731529ba6393>\u001b[0m in \u001b[0;36m<module>\u001b[1;34m\u001b[0m\n\u001b[1;32m----> 1\u001b[1;33m \u001b[0mset_month\u001b[0m\u001b[1;33m(\u001b[0m\u001b[1;36m100\u001b[0m\u001b[1;33m)\u001b[0m\u001b[1;33m\u001b[0m\u001b[1;33m\u001b[0m\u001b[0m\n\u001b[0m",
      "\u001b[1;32m<ipython-input-95-029a5efdd02b>\u001b[0m in \u001b[0;36mset_month\u001b[1;34m(month)\u001b[0m\n\u001b[0;32m      3\u001b[0m         \u001b[0mprint\u001b[0m\u001b[1;33m(\u001b[0m\u001b[1;34mf'{month}월로 변경합니다'\u001b[0m\u001b[1;33m)\u001b[0m\u001b[1;33m\u001b[0m\u001b[1;33m\u001b[0m\u001b[0m\n\u001b[0;32m      4\u001b[0m     \u001b[1;32melse\u001b[0m\u001b[1;33m:\u001b[0m\u001b[1;33m\u001b[0m\u001b[1;33m\u001b[0m\u001b[0m\n\u001b[1;32m----> 5\u001b[1;33m         \u001b[1;32mraise\u001b[0m \u001b[0mInvalidMonthError\u001b[0m\u001b[1;33m(\u001b[0m\u001b[0mmonth\u001b[0m\u001b[1;33m)\u001b[0m  \u001b[1;31m# if 가 false 일때 InvalidMonthError를 발생시킨다.\u001b[0m\u001b[1;33m\u001b[0m\u001b[1;33m\u001b[0m\u001b[0m\n\u001b[0m\u001b[0;32m      6\u001b[0m \u001b[1;33m\u001b[0m\u001b[0m\n",
      "\u001b[1;31mInvalidMonthError\u001b[0m: 100- 사용할수 없는 월입니다. 1~12만 가능합니다."
     ]
    }
   ],
   "source": [
    "set_month(100)"
   ]
  },
  {
   "cell_type": "code",
   "execution_count": 98,
   "metadata": {},
   "outputs": [
    {
     "name": "stdout",
     "output_type": "stream",
     "text": [
      "100\n"
     ]
    }
   ],
   "source": [
    "try:\n",
    "    set_month(100)                   # InvalidMonthError 발생\n",
    "    print('월 변경후 해야하는 다음작업')\n",
    "except InvalidMonthError as e: #except 예외클래서 as 변수: 변수를 이용해 raise 된 익셉션 객체를 받을 수 있다.\n",
    "    #print('set_month 호출시 오류 발생',  e,   e.invalid_month, sep=\",\")\n",
    "    #print(e)\n",
    "    print(e.invalid_month)"
   ]
  },
  {
   "cell_type": "code",
   "execution_count": 99,
   "metadata": {},
   "outputs": [
    {
     "name": "stdout",
     "output_type": "stream",
     "text": [
      "3월로 변경합니다\n"
     ]
    }
   ],
   "source": [
    "set_month(3)"
   ]
  },
  {
   "cell_type": "code",
   "execution_count": 100,
   "metadata": {},
   "outputs": [
    {
     "ename": "InvalidMonthError",
     "evalue": "23- 사용할수 없는 월입니다. 1~12만 가능합니다.",
     "output_type": "error",
     "traceback": [
      "\u001b[1;31m---------------------------------------------------------------------------\u001b[0m",
      "\u001b[1;31mInvalidMonthError\u001b[0m                         Traceback (most recent call last)",
      "\u001b[1;32m<ipython-input-100-6c026df578f2>\u001b[0m in \u001b[0;36m<module>\u001b[1;34m\u001b[0m\n\u001b[1;32m----> 1\u001b[1;33m \u001b[0mset_month\u001b[0m\u001b[1;33m(\u001b[0m\u001b[1;36m23\u001b[0m\u001b[1;33m)\u001b[0m\u001b[1;33m\u001b[0m\u001b[1;33m\u001b[0m\u001b[0m\n\u001b[0m",
      "\u001b[1;32m<ipython-input-95-029a5efdd02b>\u001b[0m in \u001b[0;36mset_month\u001b[1;34m(month)\u001b[0m\n\u001b[0;32m      3\u001b[0m         \u001b[0mprint\u001b[0m\u001b[1;33m(\u001b[0m\u001b[1;34mf'{month}월로 변경합니다'\u001b[0m\u001b[1;33m)\u001b[0m\u001b[1;33m\u001b[0m\u001b[1;33m\u001b[0m\u001b[0m\n\u001b[0;32m      4\u001b[0m     \u001b[1;32melse\u001b[0m\u001b[1;33m:\u001b[0m\u001b[1;33m\u001b[0m\u001b[1;33m\u001b[0m\u001b[0m\n\u001b[1;32m----> 5\u001b[1;33m         \u001b[1;32mraise\u001b[0m \u001b[0mInvalidMonthError\u001b[0m\u001b[1;33m(\u001b[0m\u001b[0mmonth\u001b[0m\u001b[1;33m)\u001b[0m  \u001b[1;31m# if 가 false 일때 InvalidMonthError를 발생시킨다.\u001b[0m\u001b[1;33m\u001b[0m\u001b[1;33m\u001b[0m\u001b[0m\n\u001b[0m\u001b[0;32m      6\u001b[0m \u001b[1;33m\u001b[0m\u001b[0m\n",
      "\u001b[1;31mInvalidMonthError\u001b[0m: 23- 사용할수 없는 월입니다. 1~12만 가능합니다."
     ]
    }
   ],
   "source": [
    "set_month(23)"
   ]
  },
  {
   "cell_type": "code",
   "execution_count": 70,
   "metadata": {},
   "outputs": [],
   "source": [
    "\n",
    "def set_month(month):\n",
    "    '''\n",
    "    월을 변경하는 함수 \n",
    "    [매개변수]\n",
    "      month: int -변경할 월 1-12 사이 정수\n",
    "    [반환값]\n",
    "     \n",
    "    [exception]\n",
    "        InvalidMonthError : 변경할 수 없는 월을 매개변수로 받으면 발생.\n",
    "     \n",
    "    '''\n",
    "    if month>=1 and month <= 12:\n",
    "        print(f'{month}월로 변경합니다')\n",
    "    else:\n",
    "        #예외를 발생시켜서 '월을 100'으로 못바궜다고 알려야함/ 아니면 그냥 바뀐줄알고 다음 작업을 실행한다\n",
    "        raise InvalidMonthError(month)  \n",
    "    "
   ]
  },
  {
   "cell_type": "code",
   "execution_count": 72,
   "metadata": {},
   "outputs": [
    {
     "ename": "InvalidMonthError",
     "evalue": "100- 사용할수 없는 월입니다. 1~12만 가능합니다.",
     "output_type": "error",
     "traceback": [
      "\u001b[1;31m---------------------------------------------------------------------------\u001b[0m",
      "\u001b[1;31mInvalidMonthError\u001b[0m                         Traceback (most recent call last)",
      "\u001b[1;32m<ipython-input-72-e23e949e8a88>\u001b[0m in \u001b[0;36m<module>\u001b[1;34m\u001b[0m\n\u001b[1;32m----> 1\u001b[1;33m \u001b[0mset_month\u001b[0m\u001b[1;33m(\u001b[0m\u001b[1;36m100\u001b[0m\u001b[1;33m)\u001b[0m\u001b[1;33m\u001b[0m\u001b[1;33m\u001b[0m\u001b[0m\n\u001b[0m\u001b[0;32m      2\u001b[0m \u001b[1;32mtry\u001b[0m\u001b[1;33m:\u001b[0m\u001b[1;33m\u001b[0m\u001b[1;33m\u001b[0m\u001b[0m\n\u001b[0;32m      3\u001b[0m     \u001b[0mset_month\u001b[0m\u001b[1;33m(\u001b[0m\u001b[1;36m100\u001b[0m\u001b[1;33m)\u001b[0m \u001b[1;31m# 월이 변경이 안됨.\u001b[0m\u001b[1;33m\u001b[0m\u001b[1;33m\u001b[0m\u001b[0m\n\u001b[0;32m      4\u001b[0m \u001b[1;32mexcept\u001b[0m \u001b[0mInvalidMonthError\u001b[0m\u001b[1;33m:\u001b[0m\u001b[1;33m\u001b[0m\u001b[1;33m\u001b[0m\u001b[0m\n\u001b[0;32m      5\u001b[0m     \u001b[0mprint\u001b[0m\u001b[1;33m(\u001b[0m\u001b[1;34m'예외처리'\u001b[0m\u001b[1;33m)\u001b[0m\u001b[1;33m\u001b[0m\u001b[1;33m\u001b[0m\u001b[0m\n",
      "\u001b[1;32m<ipython-input-70-ac217f37b857>\u001b[0m in \u001b[0;36mset_month\u001b[1;34m(month)\u001b[0m\n\u001b[0;32m     14\u001b[0m     \u001b[1;32melse\u001b[0m\u001b[1;33m:\u001b[0m\u001b[1;33m\u001b[0m\u001b[1;33m\u001b[0m\u001b[0m\n\u001b[0;32m     15\u001b[0m         \u001b[1;31m#예외를 발생시켜서 '월을 100'으로 못바궜다고 알려야함/ 아니면 그냥 바뀐줄알고 다음 작업을 실행한다\u001b[0m\u001b[1;33m\u001b[0m\u001b[1;33m\u001b[0m\u001b[1;33m\u001b[0m\u001b[0m\n\u001b[1;32m---> 16\u001b[1;33m         \u001b[1;32mraise\u001b[0m \u001b[0mInvalidMonthError\u001b[0m\u001b[1;33m(\u001b[0m\u001b[0mmonth\u001b[0m\u001b[1;33m)\u001b[0m\u001b[1;33m\u001b[0m\u001b[1;33m\u001b[0m\u001b[0m\n\u001b[0m\u001b[0;32m     17\u001b[0m \u001b[1;33m\u001b[0m\u001b[0m\n",
      "\u001b[1;31mInvalidMonthError\u001b[0m: 100- 사용할수 없는 월입니다. 1~12만 가능합니다."
     ]
    }
   ],
   "source": [
    "set_month(100)\n",
    "try:\n",
    "    set_month(100) # 월이 변경이 안됨.\n",
    "except :\n",
    "    print('예외처리')\n",
    "    set_month(1)\n",
    "print('월 변경후 해야하는 다음작업')"
   ]
  },
  {
   "cell_type": "code",
   "execution_count": 64,
   "metadata": {},
   "outputs": [
    {
     "name": "stdout",
     "output_type": "stream",
     "text": [
      "set_month 호출시 오류 발생,100- 사용할수 없는 월입니다. 1~12만 가능합니다.,100\n",
      "100- 사용할수 없는 월입니다. 1~12만 가능합니다.\n",
      "100\n"
     ]
    }
   ],
   "source": [
    "try:\n",
    "    set_month(100)\n",
    "    print('월 변경후 해야하는 다음작업')\n",
    "except InvalidMonthError as e: #except 예외클래서 as 변수: 변수를 이용해 raise 된 익셉션 객체를 받을 수 있다.\n",
    "    print('set_month 호출시 오류 발생',  e,   e.invalid_month, sep=\",\")\n",
    "    print(e)\n",
    "    print(e.invalid_month)"
   ]
  },
  {
   "cell_type": "code",
   "execution_count": null,
   "metadata": {},
   "outputs": [],
   "source": []
  },
  {
   "cell_type": "markdown",
   "metadata": {},
   "source": [
    "# 주문 함수 \n",
    "1. 재고량을 조회\n",
    "2.주문량과 재고량을 비교\n",
    "    2-1 재고량 >= 주문량 : 정상 주문 처리\n",
    "    2-2 재고량 < 주문량  : 주문처리(X)==.> 예외 발생 \n",
    "    "
   ]
  },
  {
   "cell_type": "code",
   "execution_count": 85,
   "metadata": {},
   "outputs": [],
   "source": [
    "# 주문처리를 못한느 상황에서 발생시킬 예외클래스\n",
    "class OrderFailError(Exception):  #익셉션\n",
    "    #상속받음  원래있는 함수를\n",
    "    def __init__(self, error_message):\n",
    "        self.message = error_message\n",
    "        \n",
    "    def __str__(self):\n",
    "        return self.message"
   ]
  },
  {
   "cell_type": "code",
   "execution_count": 88,
   "metadata": {},
   "outputs": [],
   "source": [
    "def order(order_amount):\n",
    "    \"\"\"\n",
    "    [매개변수]\n",
    "        order_amount: int - 주문량\n",
    "    \"\"\"\n",
    "    # 재고량을 조회\n",
    "    stock_amount = 10\n",
    "    \n",
    "    if stock_amount < order_amount: #재고량보다 주문량이 많으면\n",
    "        raise OrderFailError(f\"주문량이 재고량보다 많습니다. 주문량: {order_amount}, 재고량: {stock_amount}\") # --> error 메세지임\n",
    "        \n",
    "    # 주문처리\n",
    "    stock_amount = stock_amount - order_amount\n",
    "    print(\"주문처리 완료\")\n",
    "    print(f\"주문처리량: {order_amount}, 주문후 재고량: {stock_amount}\")"
   ]
  },
  {
   "cell_type": "code",
   "execution_count": null,
   "metadata": {},
   "outputs": [],
   "source": []
  },
  {
   "cell_type": "code",
   "execution_count": 91,
   "metadata": {},
   "outputs": [
    {
     "name": "stdout",
     "output_type": "stream",
     "text": [
      "주문량이 재고량보다 많습니다. 주문량: 100, 재고량: 10\n"
     ]
    }
   ],
   "source": [
    "# 주문요청(call)\n",
    "try:\n",
    "    order(100)\n",
    "    print(\"주문후 다음 작업\")\n",
    "except OrderFailError as x : # 위에 있는 raise OrderFailError(f\"주문량이 재고량보다 많습니다. 주문량: {order_amount}, 재고량: {stock_amount}\")\n",
    "                             #객체를 받아야되서 변수로 사용해야만 한다.\n",
    "                             #x =OrderFailError(f\"주문량이 재고량보다 많습니다. 주문량: {order_amount}, 재고량: {stock_amount}\") 가 된다\n",
    "    print(x)"
   ]
  },
  {
   "cell_type": "code",
   "execution_count": null,
   "metadata": {},
   "outputs": [],
   "source": []
  },
  {
   "cell_type": "code",
   "execution_count": null,
   "metadata": {},
   "outputs": [],
   "source": []
  }
 ],
 "metadata": {
  "kernelspec": {
   "display_name": "Python 3",
   "language": "python",
   "name": "python3"
  },
  "language_info": {
   "codemirror_mode": {
    "name": "ipython",
    "version": 3
   },
   "file_extension": ".py",
   "mimetype": "text/x-python",
   "name": "python",
   "nbconvert_exporter": "python",
   "pygments_lexer": "ipython3",
   "version": "3.8.5"
  }
 },
 "nbformat": 4,
 "nbformat_minor": 4
}
