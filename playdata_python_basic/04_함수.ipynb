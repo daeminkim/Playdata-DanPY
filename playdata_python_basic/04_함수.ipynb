{
 "cells": [
  {
   "cell_type": "markdown",
   "metadata": {},
   "source": [
    "# 1월 11일"
   ]
  },
  {
   "cell_type": "markdown",
   "metadata": {},
   "source": [
    "# 함수\n",
    "\n",
    "```python\n",
    "def 함수이름([변수,변수,....]):  #변수  : 파라미터,매개변수 //변수 선언할수도 있고 안할수도 있음\n",
    "    실행문\n",
    "    실행문\n",
    "    [return 반환값]  #리턴이 실행 안되며 None 이 반환.\n",
    "```\n",
    "\n",
    "- 함수이름 :  관례적으로 소문자만 사용, 단어와 단어는 '-'로 연결.\n",
    "    - 어떤 값을 제공하는 함수 :  get_제공하는 값\n",
    "     - get_name(), get_age()\n",
    "    - 어떤값을  변경하는 함수 : set_변경할값\n",
    "     - set_name(), set_age()\n",
    "    - 어떤 값을 제거 (삭제) : remove_삭제할 값\n",
    "     - remove_name(),remove_age()"
   ]
  },
  {
   "cell_type": "code",
   "execution_count": null,
   "metadata": {},
   "outputs": [],
   "source": [
    "1st 파이썬 표준라이브러리\n",
    "2nd application(특정 프로젝트, 단체에서만 쓰려고 만든)\n",
    "3rd party library (남이 만든것을 내가쓰거나 /공유하는 라이브러리 )"
   ]
  },
  {
   "cell_type": "code",
   "execution_count": 5,
   "metadata": {},
   "outputs": [],
   "source": [
    "# 함수 정의 - 코드작성 + 실행(메모리에 올려서 호출 할 수있게 한다.)\n",
    "def say_hello(): #선언부\n",
    "    #구현부 (선언을 했으면 한줄이라도 구현을 해야한다.)\n",
    "    print(\"안녕하세요\")\n",
    "    print('hello')\n"
   ]
  },
  {
   "cell_type": "code",
   "execution_count": 6,
   "metadata": {},
   "outputs": [
    {
     "name": "stdout",
     "output_type": "stream",
     "text": [
      "안녕하세요\n",
      "hello\n"
     ]
    }
   ],
   "source": [
    "#호출 = 함수이름([전달할값])\n",
    "say_hello()"
   ]
  },
  {
   "cell_type": "code",
   "execution_count": 7,
   "metadata": {},
   "outputs": [
    {
     "name": "stdout",
     "output_type": "stream",
     "text": [
      "안녕하세요\n",
      "hello\n"
     ]
    }
   ],
   "source": [
    "say_hello()"
   ]
  },
  {
   "cell_type": "code",
   "execution_count": 177,
   "metadata": {},
   "outputs": [],
   "source": [
    "def my_age():\n",
    "    print(32)"
   ]
  },
  {
   "cell_type": "code",
   "execution_count": 178,
   "metadata": {},
   "outputs": [
    {
     "name": "stdout",
     "output_type": "stream",
     "text": [
      "32\n"
     ]
    }
   ],
   "source": [
    "my_age()"
   ]
  },
  {
   "cell_type": "code",
   "execution_count": null,
   "metadata": {},
   "outputs": [],
   "source": []
  },
  {
   "cell_type": "code",
   "execution_count": null,
   "metadata": {},
   "outputs": [],
   "source": []
  },
  {
   "cell_type": "code",
   "execution_count": 8,
   "metadata": {},
   "outputs": [],
   "source": [
    "def say_hello2(name):  # name : 파라미터\n",
    "    print(f'{name}님 안녕하세요')\n",
    "    print(f'{name}님 hello')\n",
    "    "
   ]
  },
  {
   "cell_type": "code",
   "execution_count": 9,
   "metadata": {},
   "outputs": [
    {
     "name": "stdout",
     "output_type": "stream",
     "text": [
      "김대민님 안녕하세요\n",
      "김대민님 hello\n"
     ]
    }
   ],
   "source": [
    "say_hello2('김대민')"
   ]
  },
  {
   "cell_type": "code",
   "execution_count": 10,
   "metadata": {},
   "outputs": [
    {
     "name": "stdout",
     "output_type": "stream",
     "text": [
      "john님 안녕하세요\n",
      "john님 hello\n"
     ]
    }
   ],
   "source": [
    "say_hello2('john')"
   ]
  },
  {
   "cell_type": "code",
   "execution_count": 364,
   "metadata": {},
   "outputs": [],
   "source": [
    "def my_age(age,name):\n",
    "    print(f'{name}의 나이는 {age}입니다.')"
   ]
  },
  {
   "cell_type": "code",
   "execution_count": 365,
   "metadata": {},
   "outputs": [
    {
     "name": "stdout",
     "output_type": "stream",
     "text": [
      "김대민의 나이는 20입니다.\n"
     ]
    }
   ],
   "source": [
    "my_age(name='김대민',age=20) # 김대민 , 20 이라는 인수를 받기위한 매개변수(인자,parameter)2개 선언함"
   ]
  },
  {
   "cell_type": "code",
   "execution_count": 366,
   "metadata": {},
   "outputs": [
    {
     "name": "stdout",
     "output_type": "stream",
     "text": [
      "김대민의 나이는 20입니다.\n"
     ]
    }
   ],
   "source": [
    "my_age(name='김대민',age=20)"
   ]
  },
  {
   "cell_type": "code",
   "execution_count": 2,
   "metadata": {},
   "outputs": [],
   "source": [
    "def me(name,age):\n",
    "    print(f'이름: {name} 나이:{age}')"
   ]
  },
  {
   "cell_type": "code",
   "execution_count": 4,
   "metadata": {},
   "outputs": [
    {
     "name": "stdout",
     "output_type": "stream",
     "text": [
      "이름: 김대민 나이:32\n"
     ]
    }
   ],
   "source": [
    "me(name='김대민',age=32)"
   ]
  },
  {
   "cell_type": "code",
   "execution_count": 5,
   "metadata": {},
   "outputs": [],
   "source": [
    "def say_hello3(name):\n",
    "    greeting = f'{name}님 안녕하세요. {name},hello'\n",
    "    return greeting # 반환값(리턴밸류) 처리결과로서 호출한 곳에 전달// 호출한곳으로 돌아가라~"
   ]
  },
  {
   "cell_type": "code",
   "execution_count": 6,
   "metadata": {},
   "outputs": [
    {
     "data": {
      "text/plain": [
       "'김대민님 안녕하세요. 김대민,hello'"
      ]
     },
     "execution_count": 6,
     "metadata": {},
     "output_type": "execute_result"
    }
   ],
   "source": [
    "say_hello3('김대민')  # 호출한곳"
   ]
  },
  {
   "cell_type": "code",
   "execution_count": 9,
   "metadata": {},
   "outputs": [
    {
     "name": "stdout",
     "output_type": "stream",
     "text": [
      "박박님 안녕하세요. 박박,hello\n",
      "박박님 안녕하세요. 박박,hello박박님 안녕하세요. 박박,hello박박님 안녕하세요. 박박,hello\n"
     ]
    }
   ],
   "source": [
    "r=say_hello3('박박')\n",
    "print(r)\n",
    "print(r*3)"
   ]
  },
  {
   "cell_type": "code",
   "execution_count": 18,
   "metadata": {},
   "outputs": [
    {
     "name": "stdout",
     "output_type": "stream",
     "text": [
      "이순신님 안녕하세요. 이순신,hello\n",
      "이순신님 안녕하세요. 이순신,hello이순신님 안녕하세요. 이순신,hello이순신님 안녕하세요. 이순신,hello\n"
     ]
    }
   ],
   "source": [
    "g = say_hello3('이순신')  # 함수의 리턴 값을 변수에 저장할 수 있다.\n",
    "print(g)\n",
    "print(g*3)"
   ]
  },
  {
   "cell_type": "code",
   "execution_count": 11,
   "metadata": {},
   "outputs": [],
   "source": [
    "def say_hello2(name):  # name : 파라미터\n",
    "    print(f'{name}님 안녕하세요')\n",
    "    print(f'{name}님 hello')   # return 값이 없어서 함수를 변수에넣고 실행하면 'None' 나온다."
   ]
  },
  {
   "cell_type": "code",
   "execution_count": 12,
   "metadata": {},
   "outputs": [
    {
     "name": "stdout",
     "output_type": "stream",
     "text": [
      "책상님 안녕하세요\n",
      "책상님 hello\n"
     ]
    }
   ],
   "source": [
    "r = say_hello2('책상')"
   ]
  },
  {
   "cell_type": "code",
   "execution_count": 13,
   "metadata": {},
   "outputs": [
    {
     "name": "stdout",
     "output_type": "stream",
     "text": [
      "None\n"
     ]
    }
   ],
   "source": [
    "print(r)  #리턴값이 없어서 None"
   ]
  },
  {
   "cell_type": "code",
   "execution_count": 205,
   "metadata": {},
   "outputs": [],
   "source": [
    "def sum(n1,n2):\n",
    "    result = n1 + n2\n",
    "    return result"
   ]
  },
  {
   "cell_type": "code",
   "execution_count": 206,
   "metadata": {},
   "outputs": [
    {
     "name": "stdout",
     "output_type": "stream",
     "text": [
      "30\n"
     ]
    }
   ],
   "source": [
    "a=sum(10,20)\n",
    "print(a)"
   ]
  },
  {
   "cell_type": "code",
   "execution_count": 19,
   "metadata": {},
   "outputs": [],
   "source": [
    "def su(a,b):\n",
    "    return a+b\n",
    "    "
   ]
  },
  {
   "cell_type": "code",
   "execution_count": 20,
   "metadata": {},
   "outputs": [
    {
     "name": "stdout",
     "output_type": "stream",
     "text": [
      "20\n"
     ]
    }
   ],
   "source": [
    "c=su(10,10)\n",
    "print(c)"
   ]
  },
  {
   "cell_type": "code",
   "execution_count": 22,
   "metadata": {},
   "outputs": [],
   "source": [
    "def su1(a,b):\n",
    "    print(a+b)"
   ]
  },
  {
   "cell_type": "code",
   "execution_count": 25,
   "metadata": {},
   "outputs": [
    {
     "name": "stdout",
     "output_type": "stream",
     "text": [
      "30\n",
      "None\n"
     ]
    }
   ],
   "source": [
    "a=su1(10,20)\n",
    "print(a)     #return 값이 없을때 반환 None\n",
    "            # 함수에 return 값이 있어야 변수에도 넣었을때 print 할때 호출된 return  값을 반환할 수 있다."
   ]
  },
  {
   "cell_type": "code",
   "execution_count": 207,
   "metadata": {},
   "outputs": [
    {
     "data": {
      "text/plain": [
       "30"
      ]
     },
     "execution_count": 207,
     "metadata": {},
     "output_type": "execute_result"
    }
   ],
   "source": [
    "sum(10,20)"
   ]
  },
  {
   "cell_type": "code",
   "execution_count": null,
   "metadata": {},
   "outputs": [],
   "source": []
  },
  {
   "cell_type": "code",
   "execution_count": null,
   "metadata": {},
   "outputs": [],
   "source": []
  },
  {
   "cell_type": "code",
   "execution_count": 208,
   "metadata": {},
   "outputs": [],
   "source": [
    "#p두개의 숫자를 받아서 사칙연산 결과 반환\n",
    "def calculate(num1,num2):  #매개변수 , 파라미터는 0개 이상 가능 \n",
    "    a = num1 + num2\n",
    "    b = num1 - num2\n",
    "    c = num1 * num2\n",
    "    d = None\n",
    "    # if num2 !=0: 0이아니면 나누기 해\n",
    "    if num2 :# 0이면 폴스라서 진행안됨\n",
    "        d = num1 / num2\n",
    "    #num1 / num2\n",
    "    #return [a,b,c,d,]    #{'덧셈':a ....}#(a,b,c,d)/리턴 값 : 반드시 하나만 가능 (결과값)\n",
    "    return a,b,c,d,  #괄호생략한 튜플\n",
    "#2번째 일"
   ]
  },
  {
   "cell_type": "code",
   "execution_count": 211,
   "metadata": {},
   "outputs": [
    {
     "name": "stdout",
     "output_type": "stream",
     "text": [
      "(15, 5, 50, 2.0)\n"
     ]
    }
   ],
   "source": [
    " # 1 번째 처리\n",
    "result = calculate(10,5)\n",
    "#3번째 처리\n",
    "print(result)"
   ]
  },
  {
   "cell_type": "code",
   "execution_count": 36,
   "metadata": {},
   "outputs": [
    {
     "name": "stdout",
     "output_type": "stream",
     "text": [
      "덧셈: 6, 뺄셈:2, 곱셈:8, 나누기:2.0\n"
     ]
    }
   ],
   "source": [
    "a,b,c,d = calculate(4,2)\n",
    "print(f'덧셈: {a}, 뺄셈:{b}, 곱셈:{c}, 나누기:{d}')"
   ]
  },
  {
   "cell_type": "code",
   "execution_count": 223,
   "metadata": {},
   "outputs": [],
   "source": [
    "def cal(nu1,nu2):\n",
    "    a = nu1+nu2\n",
    "    b = nu1-nu2\n",
    "    c = nu1*nu2 \n",
    "    d = None\n",
    "    if nu2:\n",
    "        d=nu1/nu2\n",
    "        \n",
    "    return a,b,c,d"
   ]
  },
  {
   "cell_type": "code",
   "execution_count": 214,
   "metadata": {},
   "outputs": [
    {
     "name": "stdout",
     "output_type": "stream",
     "text": [
      "(12, 6, 27, 3.0)\n"
     ]
    }
   ],
   "source": [
    "n = cal(9,3)\n",
    "print(n)"
   ]
  },
  {
   "cell_type": "code",
   "execution_count": 227,
   "metadata": {},
   "outputs": [
    {
     "name": "stdout",
     "output_type": "stream",
     "text": [
      "(9, 9, 0, None)\n"
     ]
    }
   ],
   "source": [
    "m = cal(9,0)\n",
    "print(m)"
   ]
  },
  {
   "cell_type": "code",
   "execution_count": 42,
   "metadata": {},
   "outputs": [],
   "source": [
    "#p두개의 숫자를 받아서 사칙연산 결과 반환\n",
    "\n",
    "def cal(num1,num2):\n",
    "    a=num1+num2\n",
    "    z=num1-num2\n",
    "    c=num1*num2\n",
    "    d=None\n",
    "    if num2 != 0:  #b!=0 으로 하면 a-b가 b 이므로 0이 안되기때문에 나누기도 실행된다.\n",
    "        d=num1/num2\n",
    "    return a,z,c,d "
   ]
  },
  {
   "cell_type": "code",
   "execution_count": 43,
   "metadata": {},
   "outputs": [
    {
     "data": {
      "text/plain": [
       "(15, 5, 50, 2.0)"
      ]
     },
     "execution_count": 43,
     "metadata": {},
     "output_type": "execute_result"
    }
   ],
   "source": [
    "cal(10,5)"
   ]
  },
  {
   "cell_type": "code",
   "execution_count": 44,
   "metadata": {},
   "outputs": [
    {
     "data": {
      "text/plain": [
       "(10, 10, 0, None)"
      ]
     },
     "execution_count": 44,
     "metadata": {},
     "output_type": "execute_result"
    }
   ],
   "source": [
    "cal(10,0)"
   ]
  },
  {
   "cell_type": "code",
   "execution_count": null,
   "metadata": {},
   "outputs": [],
   "source": []
  },
  {
   "cell_type": "code",
   "execution_count": null,
   "metadata": {},
   "outputs": [],
   "source": []
  },
  {
   "cell_type": "code",
   "execution_count": 39,
   "metadata": {},
   "outputs": [
    {
     "data": {
      "text/plain": [
       "(10, 10, 0, None)"
      ]
     },
     "execution_count": 39,
     "metadata": {},
     "output_type": "execute_result"
    }
   ],
   "source": [
    "result = calculate(10,0) #나누기에서 오류 발생// 오류난 상태에서 진행을 멈춤 //호출한 곳과 함수 정의 한곳에 오류를 표시해줌/\n",
    "                            #나누기 부분에 if문을 넣어서 0이 아닐때, 0이면 false가 되는것을 이용하여 문제 해결\n",
    "result"
   ]
  },
  {
   "cell_type": "markdown",
   "metadata": {},
   "source": [
    "--------------------------------------------------------------------------------------------------------------------------------### "
   ]
  },
  {
   "cell_type": "markdown",
   "metadata": {},
   "source": [
    "## 매개변수 선언의 여러가지 문법\n",
    "\n",
    "### 포지션널 파마미터 (아규먼트)\n",
    " - 매개변수를 순서대로 나열한것.\n",
    "    - def my_func(a,b,c,):  ('abc 파라미터// 호출할때 전달값 아규먼트 // 파라미터에 아규먼트를 삽입한다.)\n",
    " - 호출할때 각 파라미터에 전달할 값을 순서대로 나열한다. 전달할 값을 생략할수 없다.\n",
    "     - my_fun(10,20,30,)\n",
    "       my_fun(10,20) c에 전달할 값이 없으므로 에러"
   ]
  },
  {
   "cell_type": "code",
   "execution_count": null,
   "metadata": {},
   "outputs": [],
   "source": [
    "#기본값이 없는  매개 변수 포지셔널~/// 기본값이 없기때문에 위치에 맞춰서 갯수도 맞춰서 나열해야한다."
   ]
  },
  {
   "cell_type": "code",
   "execution_count": 169,
   "metadata": {},
   "outputs": [],
   "source": [
    "def print_info(name, age, tall):\n",
    "    print(f'이름: {name}, 나이:{age}, 키:{tall}')"
   ]
  },
  {
   "cell_type": "code",
   "execution_count": 168,
   "metadata": {},
   "outputs": [
    {
     "ename": "NameError",
     "evalue": "name 'print_info' is not defined",
     "output_type": "error",
     "traceback": [
      "\u001b[1;31m---------------------------------------------------------------------------\u001b[0m",
      "\u001b[1;31mNameError\u001b[0m                                 Traceback (most recent call last)",
      "\u001b[1;32m<ipython-input-168-7cd5925c4e15>\u001b[0m in \u001b[0;36m<module>\u001b[1;34m\u001b[0m\n\u001b[1;32m----> 1\u001b[1;33m \u001b[0mprint_info\u001b[0m\u001b[1;33m(\u001b[0m\u001b[1;34m'김대민'\u001b[0m\u001b[1;33m,\u001b[0m\u001b[1;36m32\u001b[0m\u001b[1;33m)\u001b[0m  \u001b[1;31m# tall 에들어갈 값을 안넣어줘서 error 났음\u001b[0m\u001b[1;33m\u001b[0m\u001b[1;33m\u001b[0m\u001b[0m\n\u001b[0m",
      "\u001b[1;31mNameError\u001b[0m: name 'print_info' is not defined"
     ]
    }
   ],
   "source": [
    "print_info('김대민',32)  # tall 에들어갈 값을 안넣어줘서 error 났음 "
   ]
  },
  {
   "cell_type": "code",
   "execution_count": 170,
   "metadata": {},
   "outputs": [
    {
     "name": "stdout",
     "output_type": "stream",
     "text": [
      "이름: 홍길동, 나이:20, 키:189\n"
     ]
    }
   ],
   "source": [
    "print_info(\"홍길동\", 20, 189)"
   ]
  },
  {
   "cell_type": "code",
   "execution_count": 171,
   "metadata": {},
   "outputs": [
    {
     "name": "stdout",
     "output_type": "stream",
     "text": [
      "이름: 20, 나이:189, 키:홍길동\n"
     ]
    }
   ],
   "source": [
    "print_info( 20, 189,\"홍길동\")  #위치가 중요하다."
   ]
  },
  {
   "cell_type": "code",
   "execution_count": 172,
   "metadata": {},
   "outputs": [
    {
     "name": "stdout",
     "output_type": "stream",
     "text": [
      "이름: 동동, 나이:30, 키:170\n"
     ]
    }
   ],
   "source": [
    "print_info(tall=170, age=30, name='동동')"
   ]
  },
  {
   "cell_type": "code",
   "execution_count": null,
   "metadata": {},
   "outputs": [],
   "source": []
  },
  {
   "cell_type": "code",
   "execution_count": 43,
   "metadata": {},
   "outputs": [
    {
     "ename": "TypeError",
     "evalue": "print_info() missing 1 required positional argument: 'tall'",
     "output_type": "error",
     "traceback": [
      "\u001b[1;31m---------------------------------------------------------------------------\u001b[0m",
      "\u001b[1;31mTypeError\u001b[0m                                 Traceback (most recent call last)",
      "\u001b[1;32m<ipython-input-43-7b1954980399>\u001b[0m in \u001b[0;36m<module>\u001b[1;34m\u001b[0m\n\u001b[1;32m----> 1\u001b[1;33m \u001b[0mprint_info\u001b[0m\u001b[1;33m(\u001b[0m \u001b[1;36m20\u001b[0m\u001b[1;33m,\u001b[0m \u001b[1;36m189\u001b[0m\u001b[1;33m)\u001b[0m\u001b[1;33m\u001b[0m\u001b[1;33m\u001b[0m\u001b[0m\n\u001b[0m",
      "\u001b[1;31mTypeError\u001b[0m: print_info() missing 1 required positional argument: 'tall'"
     ]
    }
   ],
   "source": [
    "print_info( 20, 189)# 위치 (개수 )맞추고 안맞으면 에러 ,missing 1 required positional argument: 'tall'"
   ]
  },
  {
   "cell_type": "code",
   "execution_count": 230,
   "metadata": {},
   "outputs": [],
   "source": [
    "def 오스트레일리아(처음, 두번째):\n",
    "    print(f'{처음}는 첫번째로 살았던곳 {두번째}는 두번째로 살았던곳')"
   ]
  },
  {
   "cell_type": "code",
   "execution_count": 231,
   "metadata": {},
   "outputs": [
    {
     "name": "stdout",
     "output_type": "stream",
     "text": [
      "케언즈는 첫번째로 살았던곳 골드코스트는 두번째로 살았던곳\n"
     ]
    }
   ],
   "source": [
    "오스트레일리아('케언즈','골드코스트')"
   ]
  },
  {
   "cell_type": "code",
   "execution_count": 234,
   "metadata": {},
   "outputs": [
    {
     "ename": "TypeError",
     "evalue": "오스트레일리아() missing 1 required positional argument: '두번째'",
     "output_type": "error",
     "traceback": [
      "\u001b[1;31m---------------------------------------------------------------------------\u001b[0m",
      "\u001b[1;31mTypeError\u001b[0m                                 Traceback (most recent call last)",
      "\u001b[1;32m<ipython-input-234-3be8478a6ca7>\u001b[0m in \u001b[0;36m<module>\u001b[1;34m\u001b[0m\n\u001b[1;32m----> 1\u001b[1;33m \u001b[0m오스트레일리아\u001b[0m\u001b[1;33m(\u001b[0m\u001b[1;34m'골드코스트'\u001b[0m\u001b[1;33m)\u001b[0m\u001b[1;33m\u001b[0m\u001b[1;33m\u001b[0m\u001b[0m\n\u001b[0m",
      "\u001b[1;31mTypeError\u001b[0m: 오스트레일리아() missing 1 required positional argument: '두번째'"
     ]
    }
   ],
   "source": [
    "오스트레일리아('골드코스트') #"
   ]
  },
  {
   "cell_type": "code",
   "execution_count": 235,
   "metadata": {},
   "outputs": [
    {
     "name": "stdout",
     "output_type": "stream",
     "text": [
      "골드코스트는 첫번째로 살았던곳 케언즈는 두번째로 살았던곳\n"
     ]
    }
   ],
   "source": [
    "오스트레일리아('골드코스트','케언즈')  #위치 틀리니 내용달라짐"
   ]
  },
  {
   "cell_type": "code",
   "execution_count": null,
   "metadata": {},
   "outputs": [],
   "source": []
  },
  {
   "cell_type": "code",
   "execution_count": null,
   "metadata": {},
   "outputs": [],
   "source": []
  },
  {
   "cell_type": "markdown",
   "metadata": {},
   "source": [
    "### 기본값이 있는 매개변수\n",
    " - 매개변수를 선언할때 값을 대입한다.\n",
    " - 기본값이 있는 매개변수(파라미터)\n",
    " - 호출시 전달할 값(아규먼트)을 어떤 파라미터에 대입할 지 변수명으로 이용해 지정할 수 있다. (순서 상관없이// 아규먼트 없어도 기본값사용)"
   ]
  },
  {
   "cell_type": "code",
   "execution_count": 44,
   "metadata": {},
   "outputs": [],
   "source": [
    "def print_info2(name=None, age=None, tall=None):\n",
    "    print(f'이름: {name}, 나이:{age}, 키:{tall}')"
   ]
  },
  {
   "cell_type": "code",
   "execution_count": 45,
   "metadata": {},
   "outputs": [
    {
     "name": "stdout",
     "output_type": "stream",
     "text": [
      "이름: 이순신, 나이:20, 키:189.9\n"
     ]
    }
   ],
   "source": [
    "print_info2(\"이순신\", 20, 189.9)"
   ]
  },
  {
   "cell_type": "code",
   "execution_count": 46,
   "metadata": {},
   "outputs": [
    {
     "name": "stdout",
     "output_type": "stream",
     "text": [
      "이름: 이순신, 나이:None, 키:None\n"
     ]
    }
   ],
   "source": [
    "print_info2(\"이순신\")  # name = 이순신 , age, tall 은 기본값"
   ]
  },
  {
   "cell_type": "code",
   "execution_count": 3,
   "metadata": {},
   "outputs": [],
   "source": [
    "def cloth(상의=None, 하의=None , 신발= None):\n",
    "    print(f'저는 상의는 {상의}을 입고, 하의는 {하의}를 입고, 신발은 {신발}을 신었습니다.')"
   ]
  },
  {
   "cell_type": "code",
   "execution_count": 4,
   "metadata": {},
   "outputs": [
    {
     "name": "stdout",
     "output_type": "stream",
     "text": [
      "저는 상의는 None을 입고, 하의는 None를 입고, 신발은 None을 신었습니다.\n"
     ]
    }
   ],
   "source": [
    "cloth()"
   ]
  },
  {
   "cell_type": "code",
   "execution_count": 248,
   "metadata": {},
   "outputs": [
    {
     "name": "stdout",
     "output_type": "stream",
     "text": [
      "저는 상의는 반바지을 입고, 하의는 반바지를 입고, 신발은 운동화을 신었습니다.\n",
      "None\n"
     ]
    }
   ],
   "source": [
    "print(cloth('반바지','반바지','운동화'))"
   ]
  },
  {
   "cell_type": "code",
   "execution_count": 249,
   "metadata": {},
   "outputs": [
    {
     "name": "stdout",
     "output_type": "stream",
     "text": [
      "저는 상의는 셔츠을 입고, 하의는 반바지를 입고, 신발은 운동화을 신었습니다.\n",
      "None\n"
     ]
    }
   ],
   "source": [
    "print(cloth(하의='반바지',상의='셔츠',신발='운동화'))"
   ]
  },
  {
   "cell_type": "code",
   "execution_count": null,
   "metadata": {},
   "outputs": [],
   "source": []
  },
  {
   "cell_type": "code",
   "execution_count": 47,
   "metadata": {},
   "outputs": [
    {
     "name": "stdout",
     "output_type": "stream",
     "text": [
      "이름: 홍길동, 나이:40, 키:180\n"
     ]
    }
   ],
   "source": [
    "#키워드 인자\n",
    "print_info2(tall=180, age=40, name='홍길동') #순서 상관없이  / 지정함\n",
    "                                            # 입력값이 들어갈 인자를 정해두었기 때문에 순서가 바뀌어도 상관없다"
   ]
  },
  {
   "cell_type": "code",
   "execution_count": 48,
   "metadata": {},
   "outputs": [
    {
     "name": "stdout",
     "output_type": "stream",
     "text": [
      "이름: 동동, 나이:30, 키:170\n"
     ]
    }
   ],
   "source": [
    "print_info(tall=170, age=30, name='동동')  # 지정은 할수 있음//but 아규먼트가 없으면 오류==>기본값이 없는 매개변수 일때"
   ]
  },
  {
   "cell_type": "code",
   "execution_count": 238,
   "metadata": {},
   "outputs": [
    {
     "ename": "SyntaxError",
     "evalue": "positional argument follows keyword argument (<ipython-input-238-98958d56285f>, line 1)",
     "output_type": "error",
     "traceback": [
      "\u001b[1;36m  File \u001b[1;32m\"<ipython-input-238-98958d56285f>\"\u001b[1;36m, line \u001b[1;32m1\u001b[0m\n\u001b[1;33m    print_info(tall=170, age=30, name)\u001b[0m\n\u001b[1;37m                                 ^\u001b[0m\n\u001b[1;31mSyntaxError\u001b[0m\u001b[1;31m:\u001b[0m positional argument follows keyword argument\n"
     ]
    }
   ],
   "source": [
    "print_info(tall=170, age=30, name)  "
   ]
  },
  {
   "cell_type": "code",
   "execution_count": 10,
   "metadata": {},
   "outputs": [],
   "source": [
    "def print_info(name, age, tall):\n",
    "    print(f'이름: {name}, 나이:{age}, 키:{tall}')"
   ]
  },
  {
   "cell_type": "code",
   "execution_count": 11,
   "metadata": {},
   "outputs": [
    {
     "name": "stdout",
     "output_type": "stream",
     "text": [
      "이름: daf, 나이:32, 키:134\n"
     ]
    }
   ],
   "source": [
    "print_info(age=32,name='daf',tall=134)"
   ]
  },
  {
   "cell_type": "code",
   "execution_count": null,
   "metadata": {},
   "outputs": [],
   "source": []
  },
  {
   "cell_type": "markdown",
   "metadata": {},
   "source": [
    "### 기본값이 없는 매개변수와 기본값이 있는 매개 변수 같이 선언할때 /기본값이 없는 매개변수들을 먼저 선언해야한다.\n",
    "\n",
    "## 기본값이 \"있는\" 매개변수 뒤에 기본값이 \"없는\" 매개변수를 선언할 수없다."
   ]
  },
  {
   "cell_type": "code",
   "execution_count": 12,
   "metadata": {},
   "outputs": [
    {
     "ename": "SyntaxError",
     "evalue": "non-default argument follows default argument (<ipython-input-12-1a08e8626be8>, line 1)",
     "output_type": "error",
     "traceback": [
      "\u001b[1;36m  File \u001b[1;32m\"<ipython-input-12-1a08e8626be8>\"\u001b[1;36m, line \u001b[1;32m1\u001b[0m\n\u001b[1;33m    def print_info(name=None, age, tall):\u001b[0m\n\u001b[1;37m                   ^\u001b[0m\n\u001b[1;31mSyntaxError\u001b[0m\u001b[1;31m:\u001b[0m non-default argument follows default argument\n"
     ]
    }
   ],
   "source": [
    "def print_info(name=None, age, tall):\n",
    "    print(f'이름: {name}, 나이:{age}, 키:{tall}') # default 값이 없는변수가 뒤에 와서 syntaxerror 가 났다."
   ]
  },
  {
   "cell_type": "code",
   "execution_count": 251,
   "metadata": {},
   "outputs": [],
   "source": [
    "#기본값이 없는 매개변수: 입력값이 필수!! 없으면 아예 함수일 못함//기본값이 있는 매개 변수: 옵션 같은~ 있으면 일을 할수있고 없으면 기본값을 출력\n",
    "def print_info3(name,age,address,tall=None,weight=None,):\n",
    "    #if tall == None:\n",
    "    print(f'이름:{name}, 나이:{age}, 키:{tall} ,weight:{weight}')  #기본값이 없는 애들이 뒤에오면 에러 난다."
   ]
  },
  {
   "cell_type": "code",
   "execution_count": 252,
   "metadata": {},
   "outputs": [
    {
     "name": "stdout",
     "output_type": "stream",
     "text": [
      "이름:홍길동, 나이:20, 키:180 ,weight:80\n"
     ]
    }
   ],
   "source": [
    "print_info3('홍길동',20,'서울',180,80) #사진보기// goruf"
   ]
  },
  {
   "cell_type": "code",
   "execution_count": 14,
   "metadata": {},
   "outputs": [],
   "source": [
    "def print_info9(name,age,address,tall=178,weight=None):\n",
    "    print(f'이름:{name}나이:{age}주소:{address}키:{tall}몸무게:{weight}')"
   ]
  },
  {
   "cell_type": "code",
   "execution_count": 17,
   "metadata": {},
   "outputs": [
    {
     "name": "stdout",
     "output_type": "stream",
     "text": [
      "이름:안경나이:30주소:화성키:178몸무게:234\n"
     ]
    }
   ],
   "source": [
    "print_info9(name='안경',age=30,address='화성',weight=234)"
   ]
  },
  {
   "cell_type": "code",
   "execution_count": 20,
   "metadata": {},
   "outputs": [
    {
     "name": "stdout",
     "output_type": "stream",
     "text": [
      "이름:안경나이:30주소:  키:178몸무게:None\n"
     ]
    }
   ],
   "source": [
    "print_info9('안경',30,'  ')"
   ]
  },
  {
   "cell_type": "code",
   "execution_count": null,
   "metadata": {},
   "outputs": [],
   "source": [
    "#기본값이 있는애들을 기본값이 나오도록 할때 매개변수를 지정하고 입력값을 넣는게 좋다/ 안그러면 그냥 순서대로 값이 들어가고 다른 변수가 기본값으로 나옴"
   ]
  },
  {
   "cell_type": "code",
   "execution_count": 253,
   "metadata": {},
   "outputs": [
    {
     "ename": "SyntaxError",
     "evalue": "non-default argument follows default argument (<ipython-input-253-efeeeae6b712>, line 1)",
     "output_type": "error",
     "traceback": [
      "\u001b[1;36m  File \u001b[1;32m\"<ipython-input-253-efeeeae6b712>\"\u001b[1;36m, line \u001b[1;32m1\u001b[0m\n\u001b[1;33m    def print_info3_1(tall=None,name,age,address,weight=None,):\u001b[0m\n\u001b[1;37m                      ^\u001b[0m\n\u001b[1;31mSyntaxError\u001b[0m\u001b[1;31m:\u001b[0m non-default argument follows default argument\n"
     ]
    }
   ],
   "source": [
    "def print_info3_1(tall=None,name,age,address,weight=None,):\n",
    "    #if tall == None:\n",
    "    print(f'이름:{name}, 나이:{age}, 키:{tall} ,weight:{weight}')    # 디폴트 값이 있는 매개변수가 앞으로 오니까 함수가 오류난다."
   ]
  },
  {
   "cell_type": "code",
   "execution_count": 254,
   "metadata": {},
   "outputs": [],
   "source": [
    "def info4(name=None, age=0, address=None, tall=None, weight=None,): \n",
    "    #만약 디폴트 값이 모두 없는 아규먼트 였다면 'tall'값만 입력하고 싶으면 앞에 자리를 채울 것들을 입력해야한다\n",
    "    #ex) info(None,0,None,190,)==>포지셔널 인자// 순서대로 아규먼트 값을 넣고 tall 순서에서 채울 아규먼트 넣는다.\n",
    "    print(f'이름:{name}, 나이:{age}, 키:{tall} ,weight:{weight}')"
   ]
  },
  {
   "cell_type": "code",
   "execution_count": 255,
   "metadata": {},
   "outputs": [
    {
     "name": "stdout",
     "output_type": "stream",
     "text": [
      "이름:None, 나이:0, 키:190 ,weight:None\n",
      "None\n"
     ]
    }
   ],
   "source": [
    "print(info4(tall=190))"
   ]
  },
  {
   "cell_type": "code",
   "execution_count": 21,
   "metadata": {},
   "outputs": [],
   "source": [
    "def info12(name, age, address, tall, weight,):\n",
    "    print(f'이름:{name}, 나이:{age}, 키:{tall} ,weight:{weight}')"
   ]
  },
  {
   "cell_type": "code",
   "execution_count": 24,
   "metadata": {},
   "outputs": [
    {
     "ename": "TypeError",
     "evalue": "info12() got multiple values for argument 'tall'",
     "output_type": "error",
     "traceback": [
      "\u001b[1;31m---------------------------------------------------------------------------\u001b[0m",
      "\u001b[1;31mTypeError\u001b[0m                                 Traceback (most recent call last)",
      "\u001b[1;32m<ipython-input-24-777987475a38>\u001b[0m in \u001b[0;36m<module>\u001b[1;34m\u001b[0m\n\u001b[1;32m----> 1\u001b[1;33m \u001b[0minfo12\u001b[0m\u001b[1;33m(\u001b[0m\u001b[1;36m1\u001b[0m\u001b[1;33m,\u001b[0m\u001b[1;36m1\u001b[0m\u001b[1;33m,\u001b[0m\u001b[1;36m1\u001b[0m\u001b[1;33m,\u001b[0m\u001b[1;36m1\u001b[0m\u001b[1;33m,\u001b[0m\u001b[0mtall\u001b[0m\u001b[1;33m=\u001b[0m\u001b[1;36m190\u001b[0m\u001b[1;33m)\u001b[0m\u001b[1;33m\u001b[0m\u001b[1;33m\u001b[0m\u001b[0m\n\u001b[0m",
      "\u001b[1;31mTypeError\u001b[0m: info12() got multiple values for argument 'tall'"
     ]
    }
   ],
   "source": [
    "info12(1,1,1,1,tall=190)"
   ]
  },
  {
   "cell_type": "code",
   "execution_count": null,
   "metadata": {},
   "outputs": [],
   "source": []
  },
  {
   "cell_type": "code",
   "execution_count": null,
   "metadata": {},
   "outputs": [],
   "source": []
  },
  {
   "cell_type": "markdown",
   "metadata": {},
   "source": [
    "## 가변인자\n",
    "   - def 함수명(*변수명): 0~n개의 아규먼트 값들을 튜플로 묶어서 받는다.//가변인자 ==> 인자가 변할수 있다는 것\n",
    "   - 관례적으로 변수명을 agrs "
   ]
  },
  {
   "cell_type": "code",
   "execution_count": 74,
   "metadata": {},
   "outputs": [],
   "source": [
    "# 리스트를 받아서 총 합계를 구하는 함수\n",
    "\n",
    "#핸드폰 보기 사진 \n",
    "def sum_nums(num_list):\n",
    "    print(num_list)"
   ]
  },
  {
   "cell_type": "code",
   "execution_count": 75,
   "metadata": {},
   "outputs": [
    {
     "name": "stdout",
     "output_type": "stream",
     "text": [
      "[1, 3, 4, 5, 6]\n"
     ]
    }
   ],
   "source": [
    "sum_nums([1,3,4,5,6])"
   ]
  },
  {
   "cell_type": "code",
   "execution_count": 25,
   "metadata": {},
   "outputs": [],
   "source": [
    "def sum_nums2(*num_list):  #몇개가 들어가도 상관없음 .//변수가\n",
    "    #튜플\n",
    "    print(num_list)\n",
    "    print(type(num_list))\n",
    "    print(len(num_list))"
   ]
  },
  {
   "cell_type": "code",
   "execution_count": 26,
   "metadata": {},
   "outputs": [],
   "source": [
    "nums = [10,20,30,40,50]"
   ]
  },
  {
   "cell_type": "code",
   "execution_count": 27,
   "metadata": {},
   "outputs": [
    {
     "name": "stdout",
     "output_type": "stream",
     "text": [
      "([10, 20, 30, 40, 50],)\n",
      "<class 'tuple'>\n",
      "1\n"
     ]
    }
   ],
   "source": [
    "sum_nums2(nums)  #리스트 라는 한개의 값을 전달했음//튜플 안에 원소가 한개인(리스트자체가 하나의 원소) "
   ]
  },
  {
   "cell_type": "code",
   "execution_count": 28,
   "metadata": {},
   "outputs": [
    {
     "name": "stdout",
     "output_type": "stream",
     "text": [
      "(10, 20, 30, 40, 50)\n",
      "<class 'tuple'>\n",
      "5\n"
     ]
    }
   ],
   "source": [
    "sum_nums2(*nums)  #리스트의 원소들을 풀어서 전달함./함수에 들어갔을때 다시 튜플로 나옴/ 값을 묶어서 주면 안되니까\n",
    "                  #풀어진 원소를 튜플로 출력// * 이게 있다는 것은 자료구조일 것이다라는것을 알수있다ㅏ."
   ]
  },
  {
   "cell_type": "code",
   "execution_count": null,
   "metadata": {},
   "outputs": [],
   "source": []
  },
  {
   "cell_type": "code",
   "execution_count": 70,
   "metadata": {},
   "outputs": [
    {
     "name": "stdout",
     "output_type": "stream",
     "text": [
      "(1, 2, 3)\n",
      "<class 'tuple'>\n",
      "3\n"
     ]
    }
   ],
   "source": [
    "sum_nums2(1,2,3)"
   ]
  },
  {
   "cell_type": "code",
   "execution_count": 71,
   "metadata": {},
   "outputs": [
    {
     "name": "stdout",
     "output_type": "stream",
     "text": [
      "(1, 2, 3, 4, 5, 6, 7)\n",
      "<class 'tuple'>\n",
      "7\n"
     ]
    }
   ],
   "source": [
    "sum_nums2(1,2,3,4,5,6,7)   #"
   ]
  },
  {
   "cell_type": "code",
   "execution_count": 30,
   "metadata": {},
   "outputs": [],
   "source": [
    "def sum_nums2(*num_list):  #몇개가 들어가도 상관없음 .//변수가\n",
    "    #튜플\n",
    "    print(num_list)\n",
    "    print(list(num_list))\n",
    "    print(type(num_list))\n",
    "    print(len(num_list))"
   ]
  },
  {
   "cell_type": "code",
   "execution_count": 31,
   "metadata": {},
   "outputs": [],
   "source": [
    "nums = [59,49,73,59,68,48]"
   ]
  },
  {
   "cell_type": "code",
   "execution_count": 32,
   "metadata": {},
   "outputs": [],
   "source": [
    "k = [1,3,3,5,6,4,3]"
   ]
  },
  {
   "cell_type": "code",
   "execution_count": 33,
   "metadata": {},
   "outputs": [
    {
     "name": "stdout",
     "output_type": "stream",
     "text": [
      "([59, 49, 73, 59, 68, 48], [1, 3, 3, 5, 6, 4, 3])\n",
      "[[59, 49, 73, 59, 68, 48], [1, 3, 3, 5, 6, 4, 3]]\n",
      "<class 'tuple'>\n",
      "2\n"
     ]
    }
   ],
   "source": [
    "sum_nums2(nums,k)"
   ]
  },
  {
   "cell_type": "code",
   "execution_count": 34,
   "metadata": {},
   "outputs": [
    {
     "name": "stdout",
     "output_type": "stream",
     "text": [
      "(59, 49, 73, 59, 68, 48, 1, 3, 3, 5, 6, 4, 3)\n",
      "[59, 49, 73, 59, 68, 48, 1, 3, 3, 5, 6, 4, 3]\n",
      "<class 'tuple'>\n",
      "13\n"
     ]
    }
   ],
   "source": [
    "sum_nums2(*nums,*k)  #nums, k 의 원소들을 다풀어서 튜플로 반환/ 다른 자료 구조로도 바꿀 수있다 -->list ..등등"
   ]
  },
  {
   "cell_type": "code",
   "execution_count": null,
   "metadata": {},
   "outputs": [],
   "source": []
  },
  {
   "cell_type": "markdown",
   "metadata": {},
   "source": [
    " - def 함수명(**변수명)\n",
    "     - 호출할 때 키워드 인자 형태로 전달하고 가변인수는 이것을 딕셔너리 로 처리 한다.\n",
    "     - 관례적으로 변수명은 kwargs 로 준다.\n",
    "     "
   ]
  },
  {
   "cell_type": "code",
   "execution_count": 268,
   "metadata": {},
   "outputs": [],
   "source": [
    "def person_info(**info):  #딕셔너리로 처리// 키워드 인자로 받아야만 한다 //혹은 '**아규먼트' 같은 형식 풀어서 넘겨으로 받아야됨딕셔너리를 받는건 아니다\n",
    "    print(info)\n",
    "    print(type(info))\n",
    "    print(len(info))\n",
    "    "
   ]
  },
  {
   "cell_type": "code",
   "execution_count": 269,
   "metadata": {},
   "outputs": [],
   "source": [
    "d={\n",
    "    'id':'id-1',\n",
    "    'password ': '1111',\n",
    "    'name':'김회원'\n",
    "}"
   ]
  },
  {
   "cell_type": "code",
   "execution_count": 270,
   "metadata": {},
   "outputs": [
    {
     "name": "stdout",
     "output_type": "stream",
     "text": [
      "{'id': 'id-1', 'password ': '1111', 'name': '김회원'}\n",
      "<class 'dict'>\n",
      "3\n"
     ]
    }
   ],
   "source": [
    "person_info(**d) # **딕셔너리  ==> 'd'딕셔너리를 키워드 인자로 풀어달라는 명령이다.(풀어서 넘겨줘야만 한다.)이것을 함수에 넣으면 다시 딕셔너리로 뽑아준다.\n",
    "#person_info('id': 'id-1', 'password ': '1111', 'name': '김회원')// 키워드 인자로 풀어넣어야 딕셔너리로 받을수 있다 "
   ]
  },
  {
   "cell_type": "code",
   "execution_count": 274,
   "metadata": {},
   "outputs": [
    {
     "name": "stdout",
     "output_type": "stream",
     "text": [
      "{'id': 'id-1', 'password': '1111', 'name': '김회원'}\n",
      "<class 'dict'>\n",
      "3\n"
     ]
    }
   ],
   "source": [
    "person_info(id ='id-1', password = '1111', name = '김회원')  # ==> 키워드 인자로 풀어서 넣었더니 딕셔너리 값으로 받았다. "
   ]
  },
  {
   "cell_type": "code",
   "execution_count": 271,
   "metadata": {},
   "outputs": [
    {
     "ename": "TypeError",
     "evalue": "person_info() takes 0 positional arguments but 1 was given",
     "output_type": "error",
     "traceback": [
      "\u001b[1;31m---------------------------------------------------------------------------\u001b[0m",
      "\u001b[1;31mTypeError\u001b[0m                                 Traceback (most recent call last)",
      "\u001b[1;32m<ipython-input-271-1c613465f736>\u001b[0m in \u001b[0;36m<module>\u001b[1;34m\u001b[0m\n\u001b[1;32m----> 1\u001b[1;33m \u001b[0mperson_info\u001b[0m\u001b[1;33m(\u001b[0m\u001b[0md\u001b[0m\u001b[1;33m)\u001b[0m\u001b[1;33m\u001b[0m\u001b[1;33m\u001b[0m\u001b[0m\n\u001b[0m",
      "\u001b[1;31mTypeError\u001b[0m: person_info() takes 0 positional arguments but 1 was given"
     ]
    }
   ],
   "source": [
    "person_info(d)    #//키워드 인자로 풀어넣어야 딕셔너리로 받을수 있다"
   ]
  },
  {
   "cell_type": "code",
   "execution_count": null,
   "metadata": {},
   "outputs": [],
   "source": [
    "person_info()"
   ]
  },
  {
   "cell_type": "code",
   "execution_count": 256,
   "metadata": {},
   "outputs": [],
   "source": [
    "def person_info(**info):  #딕셔너리로 처리// 딕셔너리를 받는건 아니다\n",
    "    print(info)\n",
    "    print(type(info))"
   ]
  },
  {
   "cell_type": "code",
   "execution_count": 257,
   "metadata": {},
   "outputs": [
    {
     "name": "stdout",
     "output_type": "stream",
     "text": [
      "{'name': '김길동', 'age': 20}\n",
      "<class 'dict'>\n"
     ]
    }
   ],
   "source": [
    "#person_info('ghdrlfehd',20)\n",
    "person_info(name='김길동', age=20)  #딕셔너리로 처리"
   ]
  },
  {
   "cell_type": "code",
   "execution_count": 80,
   "metadata": {},
   "outputs": [
    {
     "name": "stdout",
     "output_type": "stream",
     "text": [
      "{}\n",
      "<class 'dict'>\n"
     ]
    }
   ],
   "source": [
    "person_info()"
   ]
  },
  {
   "cell_type": "code",
   "execution_count": 81,
   "metadata": {},
   "outputs": [
    {
     "name": "stdout",
     "output_type": "stream",
     "text": [
      "{'name': '김대민', 'age': 46, 'address': 'qntks'}\n",
      "<class 'dict'>\n"
     ]
    }
   ],
   "source": [
    "person_info(name = '김대민', age=46, address=\"qntks\")  # 키워드 인자로 (갯수 상관없이) 넣으면 딕셔너리형태로 받음 "
   ]
  },
  {
   "cell_type": "markdown",
   "metadata": {},
   "source": [
    "- 하나의 함수 정의당 가변인자는 각각 한개씩만 가능.// '*변수','**변수' 1개만 가능하다\n",
    "- 가변인자와 일반 매개변수를 같이 선언할 경우 일반 매개변수를 먼저 선언해야하나.\n",
    "- 이름 관례: \\*args, \\**kwargs"
   ]
  },
  {
   "cell_type": "code",
   "execution_count": 8,
   "metadata": {},
   "outputs": [],
   "source": [
    "def test(a,b,*args):\n",
    "    print(a,b,args)\n",
    "    "
   ]
  },
  {
   "cell_type": "code",
   "execution_count": 9,
   "metadata": {},
   "outputs": [
    {
     "name": "stdout",
     "output_type": "stream",
     "text": [
      "1 2 (3, 4, 5, 5, 6, 7)\n"
     ]
    }
   ],
   "source": [
    "test(1,2,3,4,5,5,6,7,)  #아규먼트가 갯수 제한 없이 들어간것을 볼수 있다.\n"
   ]
  },
  {
   "cell_type": "code",
   "execution_count": 98,
   "metadata": {},
   "outputs": [
    {
     "ename": "SyntaxError",
     "evalue": "invalid syntax (<ipython-input-98-affeb1ae3268>, line 1)",
     "output_type": "error",
     "traceback": [
      "\u001b[1;36m  File \u001b[1;32m\"<ipython-input-98-affeb1ae3268>\"\u001b[1;36m, line \u001b[1;32m1\u001b[0m\n\u001b[1;33m    def test(a,b,*args,*args): #같은 종류의 가변 인자 2개이상 선언 할수 없다.\u001b[0m\n\u001b[1;37m                       ^\u001b[0m\n\u001b[1;31mSyntaxError\u001b[0m\u001b[1;31m:\u001b[0m invalid syntax\n"
     ]
    }
   ],
   "source": [
    "def test(a,b,*args,*args): #같은 종류의 가변 인자 2개이상 선언 할수 없다.\n",
    "    print(a,b,args)"
   ]
  },
  {
   "cell_type": "code",
   "execution_count": 99,
   "metadata": {},
   "outputs": [],
   "source": [
    "def test2(*args,**kwargs): #이건 가능\n",
    "    print(args)\n",
    "    print(kwargs)"
   ]
  },
  {
   "cell_type": "code",
   "execution_count": 109,
   "metadata": {},
   "outputs": [
    {
     "name": "stdout",
     "output_type": "stream",
     "text": [
      "(1, 2, 3, 4, 4, 5, 6)\n",
      "{'name': '이름', 'address': '주소'}\n",
      "None\n"
     ]
    }
   ],
   "source": [
    "i=test2(1,2,3,4,4,5,6,name='이름',address='주소')  # *args 는 튜플로 출력해주고 아규먼트 갯수상관없이 넣어줌//\n",
    "print(i) #리턴값이 없어서 'None' 이 나온다.         #*&kwargs 는 키워드 인자로 아규먼트를 넣어줘서 딕셔너리로 처리 해줌 "
   ]
  },
  {
   "cell_type": "code",
   "execution_count": null,
   "metadata": {},
   "outputs": [],
   "source": []
  },
  {
   "cell_type": "code",
   "execution_count": null,
   "metadata": {},
   "outputs": [],
   "source": []
  },
  {
   "cell_type": "code",
   "execution_count": 101,
   "metadata": {},
   "outputs": [],
   "source": [
    "def test3(a,v,*args,**kwargs): #이건 가능\n",
    "    print(args)\n",
    "    print(kwargs)\n",
    "    print(a,v)"
   ]
  },
  {
   "cell_type": "code",
   "execution_count": 102,
   "metadata": {},
   "outputs": [
    {
     "name": "stdout",
     "output_type": "stream",
     "text": [
      "(3, 4, 4, 5, 6)\n",
      "{'name': '이름', 'address': '주소'}\n",
      "1 2\n"
     ]
    }
   ],
   "source": [
    "test3(1,2,3,4,4,5,6,name='이름',address='주소')"
   ]
  },
  {
   "cell_type": "code",
   "execution_count": null,
   "metadata": {},
   "outputs": [],
   "source": [
    "사진 #가변 매개 함수 단점 어려운점//제대로된 설명을 안 써주면 어떤의미의 값인지 알기가 어렵다."
   ]
  },
  {
   "cell_type": "code",
   "execution_count": 39,
   "metadata": {},
   "outputs": [],
   "source": [
    "def kan(a,c,*agrs,**kwargs):  #==>*d,*k 이런식으로 가변인자가 2개 이상 들어가거나 **f,**y이런식으로 2개이상 변수가 들어가면 안된다. \n",
    "    print(a,c)\n",
    "    print(agrs)\n",
    "    print(kwargs)\n",
    "    # ==> *d,**u 이런식으로 한개씩 혹은 각 각 하나씩만 가능하다!"
   ]
  },
  {
   "cell_type": "code",
   "execution_count": 40,
   "metadata": {},
   "outputs": [
    {
     "name": "stdout",
     "output_type": "stream",
     "text": [
      "1 2\n",
      "(3, 4, 5)\n",
      "{'dan': '김대민', 'age': 32, 'gender': 'male'}\n"
     ]
    }
   ],
   "source": [
    "kan(1,2,3,4,5,dan='김대민',age =32,gender='male')"
   ]
  },
  {
   "cell_type": "markdown",
   "metadata": {},
   "source": [
    "# 변수의 유효범위(Scope)"
   ]
  },
  {
   "cell_type": "code",
   "execution_count": 110,
   "metadata": {},
   "outputs": [],
   "source": [
    "def my_func():\n",
    "    #함수내에서 선언된 변수: 지역변수(로컬 베리어블) => 함수 내부에서만 사용가능\n",
    "    x =10\n",
    "    print(x)"
   ]
  },
  {
   "cell_type": "code",
   "execution_count": 111,
   "metadata": {},
   "outputs": [
    {
     "name": "stdout",
     "output_type": "stream",
     "text": [
      "10\n"
     ]
    }
   ],
   "source": [
    "my_func()"
   ]
  },
  {
   "cell_type": "code",
   "execution_count": 112,
   "metadata": {},
   "outputs": [
    {
     "ename": "NameError",
     "evalue": "name 'x' is not defined",
     "output_type": "error",
     "traceback": [
      "\u001b[1;31m---------------------------------------------------------------------------\u001b[0m",
      "\u001b[1;31mNameError\u001b[0m                                 Traceback (most recent call last)",
      "\u001b[1;32m<ipython-input-112-6fcf9dfbd479>\u001b[0m in \u001b[0;36m<module>\u001b[1;34m\u001b[0m\n\u001b[1;32m----> 1\u001b[1;33m \u001b[0mx\u001b[0m\u001b[1;33m\u001b[0m\u001b[1;33m\u001b[0m\u001b[0m\n\u001b[0m",
      "\u001b[1;31mNameError\u001b[0m: name 'x' is not defined"
     ]
    }
   ],
   "source": [
    "x  #정의된 함수 밖에서는 의미없다//지역변수"
   ]
  },
  {
   "cell_type": "code",
   "execution_count": 16,
   "metadata": {},
   "outputs": [
    {
     "name": "stdout",
     "output_type": "stream",
     "text": [
      "1000\n",
      "1000\n"
     ]
    }
   ],
   "source": [
    "var = 1000 # (전역변수 , 글로벌 변수)\n",
    "\n",
    "print(var)\n",
    "print(var)"
   ]
  },
  {
   "cell_type": "code",
   "execution_count": 17,
   "metadata": {},
   "outputs": [],
   "source": [
    "def test_func2():\n",
    "    print(var)  #  여기서는 함수 안에서 var를 변수로 지정하지 않아서 1000이 나온다.\n",
    "    "
   ]
  },
  {
   "cell_type": "code",
   "execution_count": 18,
   "metadata": {},
   "outputs": [
    {
     "name": "stdout",
     "output_type": "stream",
     "text": [
      "1000\n"
     ]
    }
   ],
   "source": [
    "test_func2()"
   ]
  },
  {
   "cell_type": "code",
   "execution_count": 22,
   "metadata": {},
   "outputs": [],
   "source": [
    "def test_func3():\n",
    "    global var #ㅠ이제부터 var에 값을 대입ㅎㅏ는 거서은 전역변수var에 하는 것이다.'//전역변수=global변수' 같은 의미이다.//\n",
    "    var = 200 #전역변수 1000을 200으로 재할당한다.\n",
    "    print(var)"
   ]
  },
  {
   "cell_type": "code",
   "execution_count": 23,
   "metadata": {},
   "outputs": [
    {
     "name": "stdout",
     "output_type": "stream",
     "text": [
      "200\n"
     ]
    }
   ],
   "source": [
    "test_func3()"
   ]
  },
  {
   "cell_type": "code",
   "execution_count": 24,
   "metadata": {},
   "outputs": [
    {
     "data": {
      "text/plain": [
       "200"
      ]
     },
     "execution_count": 24,
     "metadata": {},
     "output_type": "execute_result"
    }
   ],
   "source": [
    "var"
   ]
  },
  {
   "cell_type": "code",
   "execution_count": 42,
   "metadata": {},
   "outputs": [],
   "source": [
    "var=1000"
   ]
  },
  {
   "cell_type": "code",
   "execution_count": 43,
   "metadata": {},
   "outputs": [
    {
     "name": "stdout",
     "output_type": "stream",
     "text": [
      "1000\n"
     ]
    }
   ],
   "source": [
    "print(var) # 전역변수"
   ]
  },
  {
   "cell_type": "code",
   "execution_count": 44,
   "metadata": {},
   "outputs": [],
   "source": [
    "def test_func1():\n",
    "    var = 50 #지역 변수\n",
    "    print(var)"
   ]
  },
  {
   "cell_type": "code",
   "execution_count": 45,
   "metadata": {},
   "outputs": [
    {
     "name": "stdout",
     "output_type": "stream",
     "text": [
      "50\n"
     ]
    }
   ],
   "source": [
    " test_func1()"
   ]
  },
  {
   "cell_type": "code",
   "execution_count": 46,
   "metadata": {},
   "outputs": [
    {
     "name": "stdout",
     "output_type": "stream",
     "text": [
      "1000\n"
     ]
    }
   ],
   "source": [
    "print(var) #함수 안의 'var'(는 지역변수)와 밖의 var가 다르다\n",
    "# 함수 안에서 호출한게 아니기때문에 전역변수의 값이 나온다./"
   ]
  },
  {
   "cell_type": "code",
   "execution_count": null,
   "metadata": {},
   "outputs": [],
   "source": [
    "##여기부터 복습"
   ]
  },
  {
   "cell_type": "markdown",
   "metadata": {},
   "source": [
    "## 함수(Function)는 일급시민객체 (pdf에 없음)\n",
    "### 일급시민객체\n",
    "- 변수에 대입할 수 있는 값.(type)\n",
    "- 함수 호출시 매개변수로 전달할 수 있는 값.(argument).(type)\n",
    "- 함수의 반환값(return값)으로 사용할 수 있는 값..(type)"
   ]
  },
  {
   "cell_type": "code",
   "execution_count": 54,
   "metadata": {},
   "outputs": [],
   "source": [
    "a = 10 #정수(int)\n",
    "def test_func(num):\n",
    "    print(num)\n",
    "    return 10  #int 를 반환값"
   ]
  },
  {
   "cell_type": "code",
   "execution_count": 55,
   "metadata": {},
   "outputs": [
    {
     "name": "stdout",
     "output_type": "stream",
     "text": [
      "20\n"
     ]
    }
   ],
   "source": [
    "i = test_func(20)"
   ]
  },
  {
   "cell_type": "code",
   "execution_count": 56,
   "metadata": {},
   "outputs": [
    {
     "name": "stdout",
     "output_type": "stream",
     "text": [
      "10\n"
     ]
    }
   ],
   "source": [
    "print(i)"
   ]
  },
  {
   "cell_type": "code",
   "execution_count": null,
   "metadata": {},
   "outputs": [],
   "source": [
    "#int 는 일급시민객체// 함수도 값(아이다!"
   ]
  },
  {
   "cell_type": "code",
   "execution_count": 74,
   "metadata": {},
   "outputs": [],
   "source": [
    "# 함수의 이름 : hello  라는 이름을 가진 함수(안녕하세요라는 것을 출력하는)도 값이다. \n",
    "def hello():\n",
    "    print('안녕하세요')\n",
    "    return '안녕'\n",
    "    "
   ]
  },
  {
   "cell_type": "code",
   "execution_count": 75,
   "metadata": {},
   "outputs": [
    {
     "name": "stdout",
     "output_type": "stream",
     "text": [
      "안녕하세요\n"
     ]
    }
   ],
   "source": [
    "k=hello() # hello() 함수 호출"
   ]
  },
  {
   "cell_type": "code",
   "execution_count": 76,
   "metadata": {},
   "outputs": [
    {
     "name": "stdout",
     "output_type": "stream",
     "text": [
      "안녕\n"
     ]
    }
   ],
   "source": [
    "print(k)  #return 값을 반환 // k=hello() hello()함수가 k라는 변수에 저장 되었고 k를 호출하면 return 값을 반환한다."
   ]
  },
  {
   "cell_type": "code",
   "execution_count": 77,
   "metadata": {},
   "outputs": [],
   "source": [
    "def hi(a):             # def hi(a): 함수의 리턴값을  k 라는 변수에 넣어서 다른 연산 등에 사용할 수있다.\n",
    "    return (a+1)"
   ]
  },
  {
   "cell_type": "code",
   "execution_count": 79,
   "metadata": {},
   "outputs": [],
   "source": [
    "k=hi(1)   # hi 함수의 리턴값을 변수 k 넣었다."
   ]
  },
  {
   "cell_type": "code",
   "execution_count": 81,
   "metadata": {},
   "outputs": [
    {
     "name": "stdout",
     "output_type": "stream",
     "text": [
      "4\n"
     ]
    }
   ],
   "source": [
    "print(k+2) # 리턴값을 이용하여 덧셈을 햇다."
   ]
  },
  {
   "cell_type": "code",
   "execution_count": 91,
   "metadata": {},
   "outputs": [],
   "source": [
    "def bi(*a):\n",
    "    return a"
   ]
  },
  {
   "cell_type": "code",
   "execution_count": 94,
   "metadata": {},
   "outputs": [
    {
     "data": {
      "text/plain": [
       "(11, 2, 2, 3, 4, 5, 6)"
      ]
     },
     "execution_count": 94,
     "metadata": {},
     "output_type": "execute_result"
    }
   ],
   "source": [
    "bi(11,2,2,3,4,5,6)"
   ]
  },
  {
   "cell_type": "code",
   "execution_count": 92,
   "metadata": {},
   "outputs": [],
   "source": [
    "m=bi(11,2,2,3,4,5,6)"
   ]
  },
  {
   "cell_type": "code",
   "execution_count": 93,
   "metadata": {},
   "outputs": [
    {
     "data": {
      "text/plain": [
       "33"
      ]
     },
     "execution_count": 93,
     "metadata": {},
     "output_type": "execute_result"
    }
   ],
   "source": [
    "sum(m)"
   ]
  },
  {
   "cell_type": "code",
   "execution_count": 104,
   "metadata": {},
   "outputs": [],
   "source": [
    "def hello():\n",
    "    print('안녕하세요')\n",
    "    return '안녕'"
   ]
  },
  {
   "cell_type": "code",
   "execution_count": 96,
   "metadata": {},
   "outputs": [],
   "source": [
    "my_hello = hello # 마이 헬로우라는 이름을 하나더 부텨 준거다///하나의 함수에 이름을 추가// 함수 hello()를 마이 헬로에 대입(새로운 이름)"
   ]
  },
  {
   "cell_type": "code",
   "execution_count": 97,
   "metadata": {},
   "outputs": [
    {
     "name": "stdout",
     "output_type": "stream",
     "text": [
      "안녕하세요\n"
     ]
    },
    {
     "data": {
      "text/plain": [
       "'안녕'"
      ]
     },
     "execution_count": 97,
     "metadata": {},
     "output_type": "execute_result"
    }
   ],
   "source": [
    "my_hello()           #hello 가 변수 역할"
   ]
  },
  {
   "cell_type": "code",
   "execution_count": 99,
   "metadata": {},
   "outputs": [
    {
     "name": "stdout",
     "output_type": "stream",
     "text": [
      "안녕하세요\n"
     ]
    },
    {
     "data": {
      "text/plain": [
       "'안녕'"
      ]
     },
     "execution_count": 99,
     "metadata": {},
     "output_type": "execute_result"
    }
   ],
   "source": [
    "hello()"
   ]
  },
  {
   "cell_type": "code",
   "execution_count": 137,
   "metadata": {},
   "outputs": [],
   "source": [
    "your_hello = hello"
   ]
  },
  {
   "cell_type": "code",
   "execution_count": 138,
   "metadata": {},
   "outputs": [
    {
     "name": "stdout",
     "output_type": "stream",
     "text": [
      "안녕하세요\n"
     ]
    }
   ],
   "source": [
    "your_hello()"
   ]
  },
  {
   "cell_type": "code",
   "execution_count": 101,
   "metadata": {},
   "outputs": [
    {
     "name": "stdout",
     "output_type": "stream",
     "text": [
      "안녕하세요\n"
     ]
    }
   ],
   "source": [
    "your_hello1 = hello() #hello() 의 리턴값을 your_hello에 대입\n",
    "your_hello = hello    #함수 hello 를 your_hello에 대입"
   ]
  },
  {
   "cell_type": "code",
   "execution_count": 102,
   "metadata": {},
   "outputs": [
    {
     "data": {
      "text/plain": [
       "'안녕'"
      ]
     },
     "execution_count": 102,
     "metadata": {},
     "output_type": "execute_result"
    }
   ],
   "source": [
    "your_hello1"
   ]
  },
  {
   "cell_type": "code",
   "execution_count": 106,
   "metadata": {},
   "outputs": [
    {
     "name": "stdout",
     "output_type": "stream",
     "text": [
      "안녕하세요\n"
     ]
    },
    {
     "data": {
      "text/plain": [
       "'안녕'"
      ]
     },
     "execution_count": 106,
     "metadata": {},
     "output_type": "execute_result"
    }
   ],
   "source": [
    "your_hello()"
   ]
  },
  {
   "cell_type": "code",
   "execution_count": 43,
   "metadata": {},
   "outputs": [],
   "source": [
    "def fu():\n",
    "    print('수박')\n",
    "    "
   ]
  },
  {
   "cell_type": "code",
   "execution_count": null,
   "metadata": {},
   "outputs": [],
   "source": []
  },
  {
   "cell_type": "code",
   "execution_count": 140,
   "metadata": {},
   "outputs": [],
   "source": [
    "def plus(num1,num2):\n",
    "    return num1+num2  #리턴값이 있는 함수,"
   ]
  },
  {
   "cell_type": "code",
   "execution_count": 141,
   "metadata": {
    "collapsed": true
   },
   "outputs": [
    {
     "name": "stdout",
     "output_type": "stream",
     "text": [
      "3\n"
     ]
    }
   ],
   "source": [
    "v= plus(1,2)  #플러스 함수를 \"호출\"해서 반환된 값을 변수 브이에 넣어라 \n",
    "print(v)"
   ]
  },
  {
   "cell_type": "code",
   "execution_count": 142,
   "metadata": {},
   "outputs": [],
   "source": [
    "v2 = plus #플러스 함수 자체를 브이2에 \"대입  \"플러스 함수가  v2라는 \"이름도 생김 \""
   ]
  },
  {
   "cell_type": "code",
   "execution_count": 143,
   "metadata": {
    "collapsed": true
   },
   "outputs": [
    {
     "data": {
      "text/plain": [
       "7"
      ]
     },
     "execution_count": 143,
     "metadata": {},
     "output_type": "execute_result"
    }
   ],
   "source": [
    "v2(3,4)"
   ]
  },
  {
   "cell_type": "code",
   "execution_count": null,
   "metadata": {},
   "outputs": [],
   "source": [
    "#플러스, 브이투라는 이름으로 호출할수 있다"
   ]
  },
  {
   "cell_type": "code",
   "execution_count": 107,
   "metadata": {},
   "outputs": [],
   "source": [
    "def plus(n1,n2):\n",
    "    return(n1+n2)"
   ]
  },
  {
   "cell_type": "code",
   "execution_count": 108,
   "metadata": {},
   "outputs": [
    {
     "data": {
      "text/plain": [
       "30"
      ]
     },
     "execution_count": 108,
     "metadata": {},
     "output_type": "execute_result"
    }
   ],
   "source": [
    "plus(10,20)"
   ]
  },
  {
   "cell_type": "code",
   "execution_count": 109,
   "metadata": {},
   "outputs": [],
   "source": [
    "cal = plus"
   ]
  },
  {
   "cell_type": "code",
   "execution_count": 110,
   "metadata": {},
   "outputs": [
    {
     "data": {
      "text/plain": [
       "33"
      ]
     },
     "execution_count": 110,
     "metadata": {},
     "output_type": "execute_result"
    }
   ],
   "source": [
    "cal(14,19)"
   ]
  },
  {
   "cell_type": "code",
   "execution_count": null,
   "metadata": {},
   "outputs": [],
   "source": []
  },
  {
   "cell_type": "code",
   "execution_count": 111,
   "metadata": {},
   "outputs": [
    {
     "data": {
      "text/plain": [
       "True"
      ]
     },
     "execution_count": 111,
     "metadata": {},
     "output_type": "execute_result"
    }
   ],
   "source": [
    "plus == cal   # cal = plus 이렇게 이름을 하나 더준것이기 때문에 같은 함수가 되었다."
   ]
  },
  {
   "cell_type": "code",
   "execution_count": 89,
   "metadata": {},
   "outputs": [],
   "source": []
  },
  {
   "cell_type": "markdown",
   "metadata": {},
   "source": [
    "def cal(nu1,nu2):\n",
    "    #처리할 값을 매개변수로 받겠다. , 처리 방법\n",
    "    a = nu1+nu2  \n",
    "    b = nu1-nu2\n",
    "    c = nu1*nu2 \n",
    "    d = None\n",
    "    if nu2:\n",
    "        d=nu1/nu2\n",
    "        \n",
    "    return a,b,c,d"
   ]
  },
  {
   "cell_type": "code",
   "execution_count": 114,
   "metadata": {},
   "outputs": [],
   "source": [
    "def calculate(f):  #여기서 f는 변수 개수 //\n",
    "    # n1n2를 어떻게 처리할지를 매개변수 Plus 라는 함수 로 (func)를 통해서 함수로 받는다.\n",
    "    n1 = 20\n",
    "    k2 = 20\n",
    "    result = f(n1,k2)\n",
    "    print(result)  # 어떻게 연산할지 모를경우"
   ]
  },
  {
   "cell_type": "code",
   "execution_count": 115,
   "metadata": {},
   "outputs": [],
   "source": [
    "def aa(m1,m2):\n",
    "    return(m1+m2)"
   ]
  },
  {
   "cell_type": "code",
   "execution_count": 116,
   "metadata": {},
   "outputs": [
    {
     "name": "stdout",
     "output_type": "stream",
     "text": [
      "40\n"
     ]
    }
   ],
   "source": [
    "calculate(aa)"
   ]
  },
  {
   "cell_type": "code",
   "execution_count": 117,
   "metadata": {},
   "outputs": [],
   "source": [
    "def plus(num1,num2):  #plus 함수를 calculate 함수의 매개변수로 삽입하여 calculate 함수를 작동 시키겠다.\n",
    "    return num1+num2"
   ]
  },
  {
   "cell_type": "code",
   "execution_count": 118,
   "metadata": {},
   "outputs": [
    {
     "name": "stdout",
     "output_type": "stream",
     "text": [
      "40\n"
     ]
    }
   ],
   "source": [
    "calculate(plus)"
   ]
  },
  {
   "cell_type": "code",
   "execution_count": 127,
   "metadata": {},
   "outputs": [],
   "source": [
    "def cal (f):\n",
    "    wage=30\n",
    "    bonus=10\n",
    "    k=10\n",
    "    result = f(wage,bonus,k)  #su 함수 이름이 f 로 바뀐다고 생각하면 편할듯 f의 리턴값을 result 에 주고 리턴 받는다.\n",
    "    return result\n",
    "\n",
    "#     def su(a,b,c):  --> def f(a,b,c)\n",
    "#     return a+b             return a+b  -->매개변수 개수만 맞춰 넣어주면 return 값은 상관없음."
   ]
  },
  {
   "cell_type": "code",
   "execution_count": 128,
   "metadata": {},
   "outputs": [],
   "source": [
    "def su(a,b,c):\n",
    "    return a+b"
   ]
  },
  {
   "cell_type": "code",
   "execution_count": 129,
   "metadata": {},
   "outputs": [
    {
     "data": {
      "text/plain": [
       "40"
      ]
     },
     "execution_count": 129,
     "metadata": {},
     "output_type": "execute_result"
    }
   ],
   "source": [
    "cal(su)"
   ]
  },
  {
   "cell_type": "code",
   "execution_count": null,
   "metadata": {},
   "outputs": [],
   "source": []
  },
  {
   "cell_type": "code",
   "execution_count": 63,
   "metadata": {},
   "outputs": [],
   "source": [
    "def minus(num1,num2):\n",
    "    return num1-num2"
   ]
  },
  {
   "cell_type": "code",
   "execution_count": 149,
   "metadata": {},
   "outputs": [],
   "source": [
    "def multiply(num1,num2):\n",
    "    return num1*num2"
   ]
  },
  {
   "cell_type": "code",
   "execution_count": 151,
   "metadata": {},
   "outputs": [
    {
     "name": "stdout",
     "output_type": "stream",
     "text": [
      "-10\n"
     ]
    }
   ],
   "source": [
    "calculate(minus)"
   ]
  },
  {
   "cell_type": "code",
   "execution_count": 152,
   "metadata": {},
   "outputs": [
    {
     "name": "stdout",
     "output_type": "stream",
     "text": [
      "200\n"
     ]
    }
   ],
   "source": [
    "calculate(multiply)"
   ]
  },
  {
   "cell_type": "markdown",
   "metadata": {},
   "source": [
    "## # 튜플을 받아서 index 0 의 값을 반환 "
   ]
  },
  {
   "cell_type": "code",
   "execution_count": 153,
   "metadata": {},
   "outputs": [],
   "source": [
    "# 튜플을 받아서 index 0 의 값을 반환 (핸드폰 사진)\n",
    "def get_key(tu):\n",
    "    return tu[1]"
   ]
  },
  {
   "cell_type": "code",
   "execution_count": 154,
   "metadata": {},
   "outputs": [
    {
     "data": {
      "text/plain": [
       "(2, 5)"
      ]
     },
     "execution_count": 154,
     "metadata": {},
     "output_type": "execute_result"
    }
   ],
   "source": [
    "get_key((1,2,3,)),get_key((10,5,7))"
   ]
  },
  {
   "cell_type": "code",
   "execution_count": 92,
   "metadata": {},
   "outputs": [],
   "source": [
    "def get_dan(k):\n",
    "    return k[2]"
   ]
  },
  {
   "cell_type": "code",
   "execution_count": 93,
   "metadata": {},
   "outputs": [
    {
     "data": {
      "text/plain": [
       "3"
      ]
     },
     "execution_count": 93,
     "metadata": {},
     "output_type": "execute_result"
    }
   ],
   "source": [
    "get_dan([1,2,3,4,5,])"
   ]
  },
  {
   "cell_type": "code",
   "execution_count": null,
   "metadata": {},
   "outputs": [],
   "source": [
    "kdm = "
   ]
  },
  {
   "cell_type": "code",
   "execution_count": 96,
   "metadata": {},
   "outputs": [],
   "source": [
    "lst = [\n",
    "    (1,2,3),\n",
    "    (10,-10,5),\n",
    "    (0,100,1)\n",
    "]"
   ]
  },
  {
   "cell_type": "code",
   "execution_count": 158,
   "metadata": {},
   "outputs": [],
   "source": [
    "# sorted(iterable, key = 함수) 정렬 : 오름/내림차순\n",
    "#원소 하나하나를 함수의 매개 변수에 전달. 그함수가 반환하는 값을 기준으로 정렬."
   ]
  },
  {
   "cell_type": "code",
   "execution_count": 159,
   "metadata": {},
   "outputs": [
    {
     "ename": "NameError",
     "evalue": "name '함수' is not defined",
     "output_type": "error",
     "traceback": [
      "\u001b[1;31m---------------------------------------------------------------------------\u001b[0m",
      "\u001b[1;31mNameError\u001b[0m                                 Traceback (most recent call last)",
      "\u001b[1;32m<ipython-input-159-fe8fced24832>\u001b[0m in \u001b[0;36m<module>\u001b[1;34m\u001b[0m\n\u001b[1;32m----> 1\u001b[1;33m \u001b[0msorted\u001b[0m\u001b[1;33m(\u001b[0m\u001b[0mlst\u001b[0m\u001b[1;33m,\u001b[0m \u001b[0mkey\u001b[0m\u001b[1;33m=\u001b[0m\u001b[0m함수\u001b[0m\u001b[1;33m)\u001b[0m \u001b[1;31m#오름차순\u001b[0m\u001b[1;33m\u001b[0m\u001b[1;33m\u001b[0m\u001b[0m\n\u001b[0m",
      "\u001b[1;31mNameError\u001b[0m: name '함수' is not defined"
     ]
    }
   ],
   "source": [
    "sorted(lst, key=함수) #오름차순"
   ]
  },
  {
   "cell_type": "markdown",
   "metadata": {},
   "source": [
    "# 이부분오늘 리뷰때 잘보기"
   ]
  },
  {
   "cell_type": "code",
   "execution_count": 130,
   "metadata": {},
   "outputs": [],
   "source": [
    "def get_key(tu):   # 여기에 lst 를 매개 변수로 넣고 lst의 원소들을 하나하나 함수에 적용시켜서 인덱스 0번의 원소를 비교해서 정렬\n",
    "    return tu[0]"
   ]
  },
  {
   "cell_type": "code",
   "execution_count": 131,
   "metadata": {},
   "outputs": [],
   "source": [
    "lst = [\n",
    "    (1,2,3),\n",
    "    (10,-10,5),\n",
    "    (0,100,1)\n",
    "]"
   ]
  },
  {
   "cell_type": "code",
   "execution_count": 133,
   "metadata": {},
   "outputs": [
    {
     "data": {
      "text/plain": [
       "(1, 2, 3)"
      ]
     },
     "execution_count": 133,
     "metadata": {},
     "output_type": "execute_result"
    }
   ],
   "source": [
    "get_key(lst)"
   ]
  },
  {
   "cell_type": "code",
   "execution_count": 132,
   "metadata": {},
   "outputs": [
    {
     "data": {
      "text/plain": [
       "[(0, 100, 1), (1, 2, 3), (10, -10, 5)]"
      ]
     },
     "execution_count": 132,
     "metadata": {},
     "output_type": "execute_result"
    }
   ],
   "source": [
    "sorted(lst, key=get_key)   #인덱스 넘버 0 에 잇는 숫자를 기준으로 //def get_key함수가 반환해주는 값을 기준으로 "
   ]
  },
  {
   "cell_type": "code",
   "execution_count": 134,
   "metadata": {},
   "outputs": [],
   "source": [
    "def get_r(dan):\n",
    "    return dan[1]"
   ]
  },
  {
   "cell_type": "code",
   "execution_count": 135,
   "metadata": {},
   "outputs": [],
   "source": [
    "lt = [\n",
    "    ('d','k','h'),\n",
    "    ('e','t','e'),\n",
    "    ('y','u','z')\n",
    "]"
   ]
  },
  {
   "cell_type": "code",
   "execution_count": 136,
   "metadata": {},
   "outputs": [
    {
     "data": {
      "text/plain": [
       "[('d', 'k', 'h'), ('e', 't', 'e'), ('y', 'u', 'z')]"
      ]
     },
     "execution_count": 136,
     "metadata": {},
     "output_type": "execute_result"
    }
   ],
   "source": [
    "sorted(lt, key=get_r)  #==>하나의 형식으로 외우자"
   ]
  },
  {
   "cell_type": "code",
   "execution_count": 137,
   "metadata": {},
   "outputs": [
    {
     "data": {
      "text/plain": [
       "('d', 'k', 'h')"
      ]
     },
     "execution_count": 137,
     "metadata": {},
     "output_type": "execute_result"
    }
   ],
   "source": [
    "lt[0]"
   ]
  },
  {
   "cell_type": "code",
   "execution_count": 139,
   "metadata": {},
   "outputs": [
    {
     "data": {
      "text/plain": [
       "'k'"
      ]
     },
     "execution_count": 139,
     "metadata": {},
     "output_type": "execute_result"
    }
   ],
   "source": [
    "get_r(lt[0])"
   ]
  },
  {
   "cell_type": "code",
   "execution_count": null,
   "metadata": {},
   "outputs": [],
   "source": []
  },
  {
   "cell_type": "code",
   "execution_count": 161,
   "metadata": {},
   "outputs": [
    {
     "data": {
      "text/plain": [
       "(1, 2, 3)"
      ]
     },
     "execution_count": 161,
     "metadata": {},
     "output_type": "execute_result"
    }
   ],
   "source": [
    "lst[0]"
   ]
  },
  {
   "cell_type": "code",
   "execution_count": 105,
   "metadata": {},
   "outputs": [
    {
     "data": {
      "text/plain": [
       "0"
      ]
     },
     "execution_count": 105,
     "metadata": {},
     "output_type": "execute_result"
    }
   ],
   "source": [
    "get_key(lst[2]) #0:2, 1:-10,2:100    1,0,2"
   ]
  },
  {
   "cell_type": "code",
   "execution_count": 149,
   "metadata": {},
   "outputs": [],
   "source": [
    "def tu_sum(tu):\n",
    "    return sum(tu)"
   ]
  },
  {
   "cell_type": "code",
   "execution_count": 150,
   "metadata": {},
   "outputs": [
    {
     "data": {
      "text/plain": [
       "15"
      ]
     },
     "execution_count": 150,
     "metadata": {},
     "output_type": "execute_result"
    }
   ],
   "source": [
    "tu_sum((1,2,3,4,5))"
   ]
  },
  {
   "cell_type": "code",
   "execution_count": 151,
   "metadata": {},
   "outputs": [
    {
     "data": {
      "text/plain": [
       "21"
      ]
     },
     "execution_count": 151,
     "metadata": {},
     "output_type": "execute_result"
    }
   ],
   "source": [
    "tu_sum([1,2,3,4,5,6,])"
   ]
  },
  {
   "cell_type": "code",
   "execution_count": null,
   "metadata": {},
   "outputs": [],
   "source": [
    "lst = [\n",
    "    (1,2,3),\n",
    "    (10,-10,5),\n",
    "    (0,100,1)\n",
    "]"
   ]
  },
  {
   "cell_type": "code",
   "execution_count": 165,
   "metadata": {},
   "outputs": [
    {
     "data": {
      "text/plain": [
       "[(10, -10, 5), (1, 2, 3), (0, 100, 1)]"
      ]
     },
     "execution_count": 165,
     "metadata": {},
     "output_type": "execute_result"
    }
   ],
   "source": [
    "sorted(lst, key=tu_sum) #정렬기준: 원소의 총합이 작은순서"
   ]
  },
  {
   "cell_type": "code",
   "execution_count": 166,
   "metadata": {},
   "outputs": [
    {
     "data": {
      "text/plain": [
       "(1, 2, 3)"
      ]
     },
     "execution_count": 166,
     "metadata": {},
     "output_type": "execute_result"
    }
   ],
   "source": [
    "lst[0]"
   ]
  },
  {
   "cell_type": "code",
   "execution_count": 167,
   "metadata": {},
   "outputs": [
    {
     "data": {
      "text/plain": [
       "[(0, 100, 1), (1, 2, 3), (10, -10, 5)]"
      ]
     },
     "execution_count": 167,
     "metadata": {},
     "output_type": "execute_result"
    }
   ],
   "source": [
    "sorted(lst, key=tu_sum,reverse=True)"
   ]
  },
  {
   "cell_type": "code",
   "execution_count": null,
   "metadata": {},
   "outputs": [],
   "source": []
  },
  {
   "cell_type": "markdown",
   "metadata": {},
   "source": [
    "## 람다 표현식(람다식 -  람다 익스프레션)\n",
    " - 단일 구문으로 표현하는 익명함수\n",
    "     -익명함수: 이름(함수선언)이 없이 구현만 가지고 있는 함수 표현식.\n",
    " - 일회성 사용 함수를 만들때 주로 사용.\n",
    "     -함수호출시  매개변수에 함수를 전달할 때 많이 사용.\n",
    " - 구문\n",
    "```python\n",
    "lambda [매개변수] : 실행문 <== 이런 형식으로 만듦\n",
    "```\n",
    "- 실행문: 하나의 구문만 가능. 실행문의 처리결과를 자동으로 반환한다 (리턴구문 필요없음(생략))"
   ]
  },
  {
   "cell_type": "markdown",
   "metadata": {},
   "source": [
    "def plus(num1,num2):       ==     p = lambda num1, num2: num1+num2 \n",
    "   return num1+num2        ==     p(10,20)\n",
    "   "
   ]
  },
  {
   "cell_type": "code",
   "execution_count": 158,
   "metadata": {},
   "outputs": [
    {
     "data": {
      "text/plain": [
       "30"
      ]
     },
     "execution_count": 158,
     "metadata": {},
     "output_type": "execute_result"
    }
   ],
   "source": [
    "p = lambda num1, num2: num1+num2  #리턴이 (리턴이 원래 있다고 생각하면됨)생략 return num1+num2 됐기때문에 처리값을 바로 반환해준다.\n",
    "p(10,20)"
   ]
  },
  {
   "cell_type": "code",
   "execution_count": 141,
   "metadata": {},
   "outputs": [
    {
     "data": {
      "text/plain": [
       "200"
      ]
     },
     "execution_count": 141,
     "metadata": {},
     "output_type": "execute_result"
    }
   ],
   "source": [
    "kdm =lambda num1,num2 : num1*num2   # \"\"변수 = lambda 매개변수 : 실행구문 \"\"\n",
    "kdm (20,10)                          # 호출할때 --> 변수(매개변수) "
   ]
  },
  {
   "cell_type": "code",
   "execution_count": 162,
   "metadata": {},
   "outputs": [
    {
     "data": {
      "text/plain": [
       "20"
      ]
     },
     "execution_count": 162,
     "metadata": {},
     "output_type": "execute_result"
    }
   ],
   "source": [
    "k = lambda m1, m2 : m1*m2\n",
    "k(4,5)"
   ]
  },
  {
   "cell_type": "code",
   "execution_count": 142,
   "metadata": {},
   "outputs": [],
   "source": [
    "def calculate(func):\n",
    "    # n1n2를 어떻게 처리할지를 매개변수 (func)를 ㅗㅇ해서 함수로 바는다.\n",
    "    n1 = 10\n",
    "    n2 = 20\n",
    "    result = func(n1,n2)\n",
    "    print(result)"
   ]
  },
  {
   "cell_type": "code",
   "execution_count": 143,
   "metadata": {},
   "outputs": [
    {
     "name": "stdout",
     "output_type": "stream",
     "text": [
      "200\n"
     ]
    }
   ],
   "source": [
    "calculate(kdm)"
   ]
  },
  {
   "cell_type": "code",
   "execution_count": 163,
   "metadata": {},
   "outputs": [
    {
     "name": "stdout",
     "output_type": "stream",
     "text": [
      "200\n"
     ]
    }
   ],
   "source": [
    "calculate(k)"
   ]
  },
  {
   "cell_type": "code",
   "execution_count": 164,
   "metadata": {},
   "outputs": [
    {
     "name": "stdout",
     "output_type": "stream",
     "text": [
      "30\n"
     ]
    }
   ],
   "source": [
    "calculate(p)"
   ]
  },
  {
   "cell_type": "code",
   "execution_count": 145,
   "metadata": {},
   "outputs": [
    {
     "data": {
      "text/plain": [
       "50"
      ]
     },
     "execution_count": 145,
     "metadata": {},
     "output_type": "execute_result"
    }
   ],
   "source": [
    "cal(lambda k,d,m:k+d+m)"
   ]
  },
  {
   "cell_type": "code",
   "execution_count": 172,
   "metadata": {},
   "outputs": [
    {
     "name": "stdout",
     "output_type": "stream",
     "text": [
      "30\n"
     ]
    }
   ],
   "source": [
    "calculate(lambda num1, num2: num1+num2)"
   ]
  },
  {
   "cell_type": "code",
   "execution_count": 173,
   "metadata": {},
   "outputs": [
    {
     "name": "stdout",
     "output_type": "stream",
     "text": [
      "-10\n"
     ]
    }
   ],
   "source": [
    "calculate(lambda num1, num2: num1-num2)"
   ]
  },
  {
   "cell_type": "markdown",
   "metadata": {},
   "source": [
    "## def calculate(lambda x,y:x*y):\n",
    "    # n1n2를 어떻게 처리할지를 매개변수 (func)를 ㅗㅇ해서 함수로 바는다.\n",
    "    n1 = 10\n",
    "    n2 = 20\n",
    "    result = func(n1,n2)\n",
    "    print(result)"
   ]
  },
  {
   "cell_type": "code",
   "execution_count": 146,
   "metadata": {},
   "outputs": [],
   "source": [
    "def cal1(u):\n",
    "    k=10\n",
    "    d=20\n",
    "    m=30\n",
    "    result=u(k,d,m)\n",
    "    return result"
   ]
  },
  {
   "cell_type": "code",
   "execution_count": 147,
   "metadata": {},
   "outputs": [
    {
     "data": {
      "text/plain": [
       "60"
      ]
     },
     "execution_count": 147,
     "metadata": {},
     "output_type": "execute_result"
    }
   ],
   "source": [
    "cal1(lambda a,b,c : a+b+c)"
   ]
  },
  {
   "cell_type": "code",
   "execution_count": 288,
   "metadata": {},
   "outputs": [],
   "source": [
    "def calculate(func):\n",
    "    # n1n2를 어떻게 처리할지를 매개변수 (func)를 ㅗㅇ해서 함수로 바는다.\n",
    "    n1 = 10\n",
    "    n2 = 20\n",
    "    result = func(n1,n2)\n",
    "    print(result)"
   ]
  },
  {
   "cell_type": "code",
   "execution_count": 174,
   "metadata": {},
   "outputs": [
    {
     "name": "stdout",
     "output_type": "stream",
     "text": [
      "200\n"
     ]
    }
   ],
   "source": [
    "calculate(lambda x,y:x*y)  ##칼큘레이터 위에있는 함수에 매개변수로 들어가서 "
   ]
  },
  {
   "cell_type": "code",
   "execution_count": null,
   "metadata": {},
   "outputs": [],
   "source": [
    "#원소 하나하나를 함수의 매개 변수에 전달. 그함수가 반환하는 값을 기준으로 정렬."
   ]
  },
  {
   "cell_type": "code",
   "execution_count": 149,
   "metadata": {},
   "outputs": [],
   "source": [
    "lst = [\n",
    "    (1,3,4),\n",
    "    (5,4,7),\n",
    "    (9,7,3)\n",
    "]\n",
    "#원소 하나하나를 함수의 매개 변수에 전달. 그함수가 반환하는 값을 기준으로 정렬."
   ]
  },
  {
   "cell_type": "code",
   "execution_count": 150,
   "metadata": {},
   "outputs": [
    {
     "name": "stdout",
     "output_type": "stream",
     "text": [
      "(1, 3, 4)\n",
      "(5, 4, 7)\n",
      "(9, 7, 3)\n"
     ]
    }
   ],
   "source": [
    "for n in lst[:3]:\n",
    "    print(n)\n",
    "    "
   ]
  },
  {
   "cell_type": "code",
   "execution_count": 151,
   "metadata": {},
   "outputs": [
    {
     "data": {
      "text/plain": [
       "[(1, 3, 4), (5, 4, 7), (9, 7, 3)]"
      ]
     },
     "execution_count": 151,
     "metadata": {},
     "output_type": "execute_result"
    }
   ],
   "source": [
    "sorted(lst,key=lambda t: sum(t))    #lambda 매개변수 : 리턴값 = key"
   ]
  },
  {
   "cell_type": "code",
   "execution_count": 305,
   "metadata": {},
   "outputs": [
    {
     "data": {
      "text/plain": [
       "[(1, 3, 4), (5, 4, 7), (9, 7, 3)]"
      ]
     },
     "execution_count": 305,
     "metadata": {},
     "output_type": "execute_result"
    }
   ],
   "source": [
    "#튜플들의 총합을 기준으로 sorting\n",
    "sorted(lst, key=lambda t:sum(t))"
   ]
  },
  {
   "cell_type": "code",
   "execution_count": 304,
   "metadata": {},
   "outputs": [
    {
     "data": {
      "text/plain": [
       "[(1, 3, 4), (5, 4, 7), (9, 7, 3)]"
      ]
     },
     "execution_count": 304,
     "metadata": {},
     "output_type": "execute_result"
    }
   ],
   "source": [
    "#튜플들의 총합을 기준으로 sorting\n",
    "sorted(lst, key=lambda t:sum(t))"
   ]
  },
  {
   "cell_type": "code",
   "execution_count": 161,
   "metadata": {},
   "outputs": [],
   "source": [
    "def tu_sum(tu):\n",
    "    return sum(tu)"
   ]
  },
  {
   "cell_type": "code",
   "execution_count": 162,
   "metadata": {},
   "outputs": [
    {
     "data": {
      "text/plain": [
       "[(1, 3, 4), (5, 4, 7), (9, 7, 3)]"
      ]
     },
     "execution_count": 162,
     "metadata": {},
     "output_type": "execute_result"
    }
   ],
   "source": [
    "sorted(lst, key=lambda tu:tu_sum(tu))"
   ]
  },
  {
   "cell_type": "code",
   "execution_count": 164,
   "metadata": {},
   "outputs": [
    {
     "data": {
      "text/plain": [
       "['adfasd', 'bsdff', 'dbgv', 'ffoo', 'gjfdlkdsfa']"
      ]
     },
     "execution_count": 164,
     "metadata": {},
     "output_type": "execute_result"
    }
   ],
   "source": [
    "str_list=['adfasd','bsdff','dbgv','gjfdlkdsfa','ffoo']\n",
    "sorted(str_list)"
   ]
  },
  {
   "cell_type": "code",
   "execution_count": 177,
   "metadata": {},
   "outputs": [
    {
     "data": {
      "text/plain": [
       "['dbgv', 'ffoo', 'bsdff', 'adfasd', 'gjfdlkdsfa']"
      ]
     },
     "execution_count": 177,
     "metadata": {},
     "output_type": "execute_result"
    }
   ],
   "source": [
    "#글자수 많은 순서대로 정렬\n",
    "sorted(str_list, key=check_length)\n",
    "sorted(str_list, key= lambda k : len(k))"
   ]
  },
  {
   "cell_type": "code",
   "execution_count": 165,
   "metadata": {},
   "outputs": [
    {
     "data": {
      "text/plain": [
       "['dbgv', 'ffoo', 'bsdff', 'adfasd', 'gjfdlkdsfa']"
      ]
     },
     "execution_count": 165,
     "metadata": {},
     "output_type": "execute_result"
    }
   ],
   "source": [
    "sorted(str_list, key= lambda k : len(k))"
   ]
  },
  {
   "cell_type": "code",
   "execution_count": 167,
   "metadata": {},
   "outputs": [],
   "source": [
    "def check_length(s):\n",
    "    return len(s)"
   ]
  },
  {
   "cell_type": "code",
   "execution_count": 168,
   "metadata": {},
   "outputs": [
    {
     "data": {
      "text/plain": [
       "['dbgv', 'ffoo', 'bsdff', 'adfasd', 'gjfdlkdsfa']"
      ]
     },
     "execution_count": 168,
     "metadata": {},
     "output_type": "execute_result"
    }
   ],
   "source": [
    "sorted(str_list, key=check_length)   # check length 의 리턴값을 기준으로 정렬"
   ]
  },
  {
   "cell_type": "code",
   "execution_count": 178,
   "metadata": {},
   "outputs": [
    {
     "data": {
      "text/plain": [
       "['dbgv', 'ffoo', 'bsdff', 'adfasd', 'gjfdlkdsfa']"
      ]
     },
     "execution_count": 178,
     "metadata": {},
     "output_type": "execute_result"
    }
   ],
   "source": [
    "sorted(str_list, key=lambda x : len(x))"
   ]
  },
  {
   "cell_type": "code",
   "execution_count": 179,
   "metadata": {},
   "outputs": [
    {
     "data": {
      "text/plain": [
       "['gjfdlkdsfa', 'adfasd', 'bsdff', 'dbgv', 'ffoo']"
      ]
     },
     "execution_count": 179,
     "metadata": {},
     "output_type": "execute_result"
    }
   ],
   "source": [
    "sorted(str_list, key=lambda x : len(x), reverse=True)"
   ]
  },
  {
   "cell_type": "code",
   "execution_count": 182,
   "metadata": {},
   "outputs": [
    {
     "data": {
      "text/plain": [
       "['dbgv', 'ffoo', 'bsdff', 'adfasd', 'gjfdlkdsfa']"
      ]
     },
     "execution_count": 182,
     "metadata": {},
     "output_type": "execute_result"
    }
   ],
   "source": [
    "sorted(str_list, key=len)"
   ]
  },
  {
   "cell_type": "code",
   "execution_count": 183,
   "metadata": {},
   "outputs": [
    {
     "data": {
      "text/plain": [
       "['gjfdlkdsfa', 'adfasd', 'bsdff', 'dbgv', 'ffoo']"
      ]
     },
     "execution_count": 183,
     "metadata": {},
     "output_type": "execute_result"
    }
   ],
   "source": [
    "sorted(str_list, key=len, reverse=True)"
   ]
  },
  {
   "cell_type": "code",
   "execution_count": 169,
   "metadata": {},
   "outputs": [],
   "source": [
    "# 딕셔너리 정렬\n",
    "dic={\n",
    "    \"b\" : 100,\n",
    "    \"a\" : 200,\n",
    "    \"c\" : 50\n",
    "}"
   ]
  },
  {
   "cell_type": "code",
   "execution_count": 186,
   "metadata": {},
   "outputs": [
    {
     "data": {
      "text/plain": [
       "['a', 'b', 'c']"
      ]
     },
     "execution_count": 186,
     "metadata": {},
     "output_type": "execute_result"
    }
   ],
   "source": [
    "sorted(dic) # key값들을 정렬한뒤 리스트로 반환."
   ]
  },
  {
   "cell_type": "code",
   "execution_count": 187,
   "metadata": {},
   "outputs": [
    {
     "data": {
      "text/plain": [
       "dict_items([('b', 100), ('a', 200), ('c', 50)])"
      ]
     },
     "execution_count": 187,
     "metadata": {},
     "output_type": "execute_result"
    }
   ],
   "source": [
    "# value를 기준으로 정렬을 하려는 경우. (전제: value의 데이터 타입이 동일한 경우.)\n",
    "result = sorted(dic.items(), key=lambda x:x[1])\n",
    "sorted_dic={ k: v for k,v in result}\n",
    "sorted_dic"
   ]
  },
  {
   "cell_type": "code",
   "execution_count": 172,
   "metadata": {},
   "outputs": [
    {
     "ename": "TypeError",
     "evalue": "'builtin_function_or_method' object is not iterable",
     "output_type": "error",
     "traceback": [
      "\u001b[1;31m---------------------------------------------------------------------------\u001b[0m",
      "\u001b[1;31mTypeError\u001b[0m                                 Traceback (most recent call last)",
      "\u001b[1;32m<ipython-input-172-d106456fc3f0>\u001b[0m in \u001b[0;36m<module>\u001b[1;34m\u001b[0m\n\u001b[0;32m      1\u001b[0m \u001b[1;31m# value를 기준으로 정렬을 하려는 경우. (전제: value의 데이터 타입이 동일한 경우.)\u001b[0m\u001b[1;33m\u001b[0m\u001b[1;33m\u001b[0m\u001b[1;33m\u001b[0m\u001b[0m\n\u001b[1;32m----> 2\u001b[1;33m \u001b[0msorted\u001b[0m\u001b[1;33m(\u001b[0m\u001b[0mdic\u001b[0m\u001b[1;33m.\u001b[0m\u001b[0mitems\u001b[0m\u001b[1;33m,\u001b[0m \u001b[0mkey\u001b[0m\u001b[1;33m=\u001b[0m\u001b[1;32mlambda\u001b[0m \u001b[0mx\u001b[0m\u001b[1;33m:\u001b[0m\u001b[0mx\u001b[0m\u001b[1;33m[\u001b[0m\u001b[1;36m1\u001b[0m\u001b[1;33m]\u001b[0m\u001b[1;33m)\u001b[0m\u001b[1;33m\u001b[0m\u001b[1;33m\u001b[0m\u001b[0m\n\u001b[0m",
      "\u001b[1;31mTypeError\u001b[0m: 'builtin_function_or_method' object is not iterable"
     ]
    }
   ],
   "source": [
    "# value를 기준으로 정렬을 하려는 경우. (전제: value의 데이터 타입이 동일한 경우.)\n",
    "sorted(dic.items, key=lambda x:x[1])"
   ]
  },
  {
   "cell_type": "markdown",
   "metadata": {},
   "source": [
    "------------------------------------------여기부터-----------------------------------------------------------------------------------"
   ]
  },
  {
   "cell_type": "markdown",
   "metadata": {},
   "source": [
    "- filter(함수, iterable) : iterable 의 원소들중에 특정 조건을 만족하는 원소들만 걸러주는 함수.\n",
    " - 함수 : bool 값을 반환, 매개변수는 1개 .\n",
    " - 이터러블의 원소 하나하나를 함수의 매개 변수로 전달. 함수가 True를 반환하는 원소만 반환.\n",
    "\n",
    "- map(함수, iterable) : 이터러블의 원소들 하나하나를 처리해서 그처리결과를 반환\n",
    "    -함수 :  어떻게 처리할지를 정의 , 매개변수 1개, 반환값을 원소를 처리한 결과.\n",
    " -\n",
    "\n",
    "- 필터/맵 함수의 반환타입은 이터러블(generator)"
   ]
  },
  {
   "cell_type": "code",
   "execution_count": null,
   "metadata": {},
   "outputs": [],
   "source": [
    "# 맵핑 "
   ]
  },
  {
   "cell_type": "code",
   "execution_count": 177,
   "metadata": {},
   "outputs": [
    {
     "ename": "SyntaxError",
     "evalue": "cannot assign to function call (<ipython-input-177-5d82df122a63>, line 1)",
     "output_type": "error",
     "traceback": [
      "\u001b[1;36m  File \u001b[1;32m\"<ipython-input-177-5d82df122a63>\"\u001b[1;36m, line \u001b[1;32m1\u001b[0m\n\u001b[1;33m    list(range(1,11))=num_list\u001b[0m\n\u001b[1;37m    ^\u001b[0m\n\u001b[1;31mSyntaxError\u001b[0m\u001b[1;31m:\u001b[0m cannot assign to function call\n"
     ]
    }
   ],
   "source": [
    "list(range(1,11))=num_list"
   ]
  },
  {
   "cell_type": "code",
   "execution_count": 174,
   "metadata": {},
   "outputs": [
    {
     "data": {
      "text/plain": [
       "[1, 2, 3, 4, 5, 6, 7, 8, 9, 10]"
      ]
     },
     "execution_count": 174,
     "metadata": {},
     "output_type": "execute_result"
    }
   ],
   "source": [
    "num_list = list(range(1,11))\n",
    "num_list "
   ]
  },
  {
   "cell_type": "code",
   "execution_count": 175,
   "metadata": {},
   "outputs": [
    {
     "data": {
      "text/plain": [
       "[10, 20, 30, 40, 50, 60, 70, 80, 90, 100]"
      ]
     },
     "execution_count": 175,
     "metadata": {},
     "output_type": "execute_result"
    }
   ],
   "source": [
    "# 넘리스트의 원소 10배한 값을 반환.\n",
    "m=map(lambda x : x*10, num_list)\n",
    "#m\n",
    "list(m)"
   ]
  },
  {
   "cell_type": "code",
   "execution_count": 185,
   "metadata": {},
   "outputs": [
    {
     "name": "stdout",
     "output_type": "stream",
     "text": [
      "12 34\n",
      "12 34\n"
     ]
    }
   ],
   "source": [
    "d,k= map(int,input().split())\n",
    "print(d,k)"
   ]
  },
  {
   "cell_type": "code",
   "execution_count": null,
   "metadata": {},
   "outputs": [],
   "source": [
    "def change(x):\n",
    "    return x*10  #함수로 했을때 매핑  (여러 식이 들어가면 람다로 사용할수 없다.)"
   ]
  },
  {
   "cell_type": "code",
   "execution_count": 205,
   "metadata": {
    "collapsed": true
   },
   "outputs": [
    {
     "name": "stdout",
     "output_type": "stream",
     "text": [
      "10\n",
      "20\n",
      "30\n",
      "40\n",
      "50\n",
      "60\n",
      "70\n",
      "80\n",
      "90\n",
      "100\n"
     ]
    }
   ],
   "source": [
    "for i in m:\n",
    "    print(i)"
   ]
  },
  {
   "cell_type": "code",
   "execution_count": null,
   "metadata": {},
   "outputs": [],
   "source": [
    "[i*10 for i in num_list]  #==> 컴프리헨션으로 매핑함"
   ]
  },
  {
   "cell_type": "code",
   "execution_count": null,
   "metadata": {},
   "outputs": [],
   "source": []
  },
  {
   "cell_type": "markdown",
   "metadata": {},
   "source": [
    "## 필터링\n",
    "\n",
    "filter(함수, iterable) : iterable 의 원소들중에 특정 조건을 만족하는 원소들만 걸러주는 함수.\n",
    "\n",
    "함수 : bool 값을 반환, 매개변수는 1개 .\n",
    "이터러블의 원소 하나하나를 함수의 매개 변수로 전달. 함수가 True를 반환하는 원소만 반환."
   ]
  },
  {
   "cell_type": "code",
   "execution_count": 207,
   "metadata": {},
   "outputs": [
    {
     "data": {
      "text/plain": [
       "[1, 2, 3, 4, 5, 6, 7, 8, 9, 10]"
      ]
     },
     "execution_count": 207,
     "metadata": {},
     "output_type": "execute_result"
    }
   ],
   "source": [
    "num_list = list(range(1,11))\n",
    "num_list "
   ]
  },
  {
   "cell_type": "code",
   "execution_count": 189,
   "metadata": {},
   "outputs": [
    {
     "name": "stdout",
     "output_type": "stream",
     "text": [
      "0\n",
      "10\n",
      "20\n",
      "30\n",
      "40\n",
      "50\n",
      "60\n",
      "70\n",
      "80\n",
      "90\n"
     ]
    }
   ],
   "source": [
    "num_list = list(range(100))\n",
    "f=filter(lambda x:x%10==0, num_list)\n",
    "\n",
    "for i in f:\n",
    "    print(i)"
   ]
  },
  {
   "cell_type": "code",
   "execution_count": 199,
   "metadata": {},
   "outputs": [
    {
     "name": "stdout",
     "output_type": "stream",
     "text": [
      "[0, 10, 20, 30, 40, 50, 60, 70, 80, 90]\n"
     ]
    }
   ],
   "source": [
    "f=filter(lambda x:x%10==0, num_list)\n",
    "print(list(f))"
   ]
  },
  {
   "cell_type": "code",
   "execution_count": 200,
   "metadata": {},
   "outputs": [
    {
     "name": "stdout",
     "output_type": "stream",
     "text": [
      "[]\n"
     ]
    }
   ],
   "source": [
    "print(list(f))  #반복을 한번씩 다해서  더이상 줄값이 없어진다고 생각하면됨"
   ]
  },
  {
   "cell_type": "code",
   "execution_count": null,
   "metadata": {},
   "outputs": [],
   "source": [
    "# 핸드폰 사진 보기 "
   ]
  },
  {
   "cell_type": "code",
   "execution_count": 198,
   "metadata": {},
   "outputs": [
    {
     "data": {
      "text/plain": [
       "[0, 10, 20, 30, 40, 50, 60, 70, 80, 90]"
      ]
     },
     "execution_count": 198,
     "metadata": {},
     "output_type": "execute_result"
    }
   ],
   "source": [
    "[i for i in num_list if i%10==0]"
   ]
  },
  {
   "cell_type": "code",
   "execution_count": 211,
   "metadata": {},
   "outputs": [],
   "source": [
    "f= filter(lambda x:x%10==0,num_list)"
   ]
  },
  {
   "cell_type": "code",
   "execution_count": 212,
   "metadata": {},
   "outputs": [
    {
     "name": "stdout",
     "output_type": "stream",
     "text": [
      "[10]\n"
     ]
    }
   ],
   "source": [
    "print(list(f))"
   ]
  },
  {
   "cell_type": "code",
   "execution_count": 201,
   "metadata": {},
   "outputs": [],
   "source": [
    "\n",
    "def check(x):\n",
    "    a=[]\n",
    "    for i in x:\n",
    "        if int(i)%10==0:\n",
    "            a.append(i)  # 함수로 했을때 필터링\n",
    "    return a"
   ]
  },
  {
   "cell_type": "code",
   "execution_count": 202,
   "metadata": {},
   "outputs": [
    {
     "data": {
      "text/plain": [
       "[0, 10, 20, 30, 40, 50, 60, 70, 80, 90]"
      ]
     },
     "execution_count": 202,
     "metadata": {},
     "output_type": "execute_result"
    }
   ],
   "source": [
    "check(num_list)"
   ]
  },
  {
   "cell_type": "markdown",
   "metadata": {},
   "source": [
    "## docstring   \n",
    "- 함수/ class 대한 설명\n",
    "- 함수선언부와 구현부 사이에 여러줄 짜리 문자열(''' ''')로 작성한다.\n",
    "- 함수가 하는 역할, 매개변수 설명, 리턴값 설명"
   ]
  },
  {
   "cell_type": "code",
   "execution_count": null,
   "metadata": {},
   "outputs": [],
   "source": [
    "def print_info(name ,age , address):\n",
    "    \"\"\"ex)\n",
    "    \n",
    "    회원 정보 함수\n",
    "    설명\n",
    "    설명1\n",
    "    [매개변수]\n",
    "        name: str - 회원 이름\n",
    "        age : int - 회원이름\n",
    "        address : str - 회원주소\n",
    "    [반환값]\n",
    "        None\n",
    "        int: 나이의 10곱한값\n",
    "    \"\"\"\n",
    "    print(f'이름:{name}, 나이:{age}, 주소:{address}' )\n",
    "    return age*10\n",
    "    "
   ]
  },
  {
   "cell_type": "code",
   "execution_count": null,
   "metadata": {},
   "outputs": [],
   "source": [
    "?print_info  "
   ]
  },
  {
   "cell_type": "code",
   "execution_count": null,
   "metadata": {},
   "outputs": [],
   "source": [
    "print_info  #shift +tab"
   ]
  },
  {
   "cell_type": "markdown",
   "metadata": {},
   "source": [
    "## pass 키워드(예약어)\n",
    "- 코드블럭을 하는일 없이 채울때 .// 임시로 \"while, if ,def ,for in\" 등등등"
   ]
  },
  {
   "cell_type": "code",
   "execution_count": null,
   "metadata": {},
   "outputs": [],
   "source": [
    "def test():\n",
    "    pass\n",
    "    # 구현 나중에 하고 싶을때 // 조건문, 정의 에서 구문을 나중에 넣고 구현하려고 할때"
   ]
  },
  {
   "cell_type": "code",
   "execution_count": null,
   "metadata": {},
   "outputs": [],
   "source": [
    "for i in range(10):\n",
    "    pass"
   ]
  },
  {
   "cell_type": "markdown",
   "metadata": {},
   "source": [
    "## 문제!!"
   ]
  },
  {
   "cell_type": "code",
   "execution_count": 314,
   "metadata": {},
   "outputs": [],
   "source": [
    "# 1. 사용자가 입력한 단의 구구단을 출력하는 함수를 구현\n",
    "def gugudan():\n",
    "    dan = int(input(\"단을 입력하시오:\"))  #문자열로 입력 하면 안되니까 int 로 정수로 변환 해줘야한다.\n",
    "    for x in range(1,10):\n",
    "        print('{} X {} = {}'.format(dan, x, dan*x)) #print(f'{dan}X{x}={dan*x}')"
   ]
  },
  {
   "cell_type": "code",
   "execution_count": 315,
   "metadata": {
    "collapsed": true
   },
   "outputs": [
    {
     "name": "stdout",
     "output_type": "stream",
     "text": [
      "단을 입력하시오:2\n",
      "2 X 1 = 2\n",
      "2 X 2 = 4\n",
      "2 X 3 = 6\n",
      "2 X 4 = 8\n",
      "2 X 5 = 10\n",
      "2 X 6 = 12\n",
      "2 X 7 = 14\n",
      "2 X 8 = 16\n",
      "2 X 9 = 18\n"
     ]
    }
   ],
   "source": [
    "gugudan()"
   ]
  },
  {
   "cell_type": "code",
   "execution_count": 316,
   "metadata": {},
   "outputs": [],
   "source": [
    "def gugudan1():\n",
    "    dan = int(input('단:'))\n",
    "    for k in range(1,10):\n",
    "        print(f'{dan}X{k}={dan*k}')"
   ]
  },
  {
   "cell_type": "code",
   "execution_count": 317,
   "metadata": {
    "collapsed": true
   },
   "outputs": [
    {
     "name": "stdout",
     "output_type": "stream",
     "text": [
      "단:5\n",
      "5X1=5\n",
      "5X2=10\n",
      "5X3=15\n",
      "5X4=20\n",
      "5X5=25\n",
      "5X6=30\n",
      "5X7=35\n",
      "5X8=40\n",
      "5X9=45\n"
     ]
    }
   ],
   "source": [
    "gugudan1()"
   ]
  },
  {
   "cell_type": "code",
   "execution_count": 328,
   "metadata": {},
   "outputs": [],
   "source": [
    "# 2. 시작 정수, 끝 정수를 받아 그 사이의 모든 정수의 합을 구해서 반환하는 함수를 구현\n",
    "\n",
    "def sum_k(a,b):\n",
    "    a =0\n",
    "    for i in range(min(a,b),max(a,b)+1):\n",
    "        a +=i\n",
    "    return a\n"
   ]
  },
  {
   "cell_type": "code",
   "execution_count": 329,
   "metadata": {},
   "outputs": [
    {
     "data": {
      "text/plain": [
       "1"
      ]
     },
     "execution_count": 329,
     "metadata": {},
     "output_type": "execute_result"
    }
   ],
   "source": [
    "sum_k(10,1)"
   ]
  },
  {
   "cell_type": "code",
   "execution_count": null,
   "metadata": {},
   "outputs": [],
   "source": [
    "def sum_m(a,b):\n",
    "    "
   ]
  },
  {
   "cell_type": "code",
   "execution_count": 321,
   "metadata": {},
   "outputs": [],
   "source": [
    "def sumall(num1, num2):\n",
    "    return sum(range(min(num1,num2), max(num1,num2)+1))   #영일+나\n"
   ]
  },
  {
   "cell_type": "code",
   "execution_count": 322,
   "metadata": {},
   "outputs": [
    {
     "data": {
      "text/plain": [
       "(55, 5050)"
      ]
     },
     "execution_count": 322,
     "metadata": {},
     "output_type": "execute_result"
    }
   ],
   "source": [
    "sum_k(1,10), sum_k(1,100)"
   ]
  },
  {
   "cell_type": "code",
   "execution_count": 246,
   "metadata": {},
   "outputs": [],
   "source": [
    "?sum_k"
   ]
  },
  {
   "cell_type": "code",
   "execution_count": null,
   "metadata": {},
   "outputs": [],
   "source": [
    "def sumall(num1, num2):\n",
    "    return sum(range(num1, num2+1))  #영일님\n"
   ]
  },
  {
   "cell_type": "code",
   "execution_count": null,
   "metadata": {},
   "outputs": [],
   "source": []
  },
  {
   "cell_type": "code",
   "execution_count": null,
   "metadata": {},
   "outputs": [],
   "source": [
    "def accumulate(start,end):\n",
    "    '''\n",
    "    핸드폰 사진 '도큐레이팅'\n",
    "    '''\n",
    "    r"
   ]
  },
  {
   "cell_type": "code",
   "execution_count": 330,
   "metadata": {},
   "outputs": [],
   "source": [
    "# 3. 1번 문제에서 시작을 받지 않은 경우 0을, 끝 정수를 받지 않으면 10이 들어가도록 구현을 변경\n",
    "# 기본값이 있는  매개함수\n",
    "\n",
    "\n",
    "def sum_k1(a=0,b=10):\n",
    "    a =0\n",
    "    for i in range(min(a,b),max(a,b)+1):\n",
    "        a +=i\n",
    "    return a"
   ]
  },
  {
   "cell_type": "code",
   "execution_count": 334,
   "metadata": {},
   "outputs": [
    {
     "data": {
      "text/plain": [
       "15"
      ]
     },
     "execution_count": 334,
     "metadata": {},
     "output_type": "execute_result"
    }
   ],
   "source": [
    "sum_k1(a,5)"
   ]
  },
  {
   "cell_type": "code",
   "execution_count": 263,
   "metadata": {},
   "outputs": [],
   "source": [
    "lst = []\n",
    "\n",
    "def my_sum2(num1=0, num2=10):\n",
    "    for i in range(num1, num2+1):\n",
    "        lst.append(i)\n",
    "    return sum(lst)    #주연\n"
   ]
  },
  {
   "cell_type": "code",
   "execution_count": 264,
   "metadata": {},
   "outputs": [
    {
     "data": {
      "text/plain": [
       "(55, 100)"
      ]
     },
     "execution_count": 264,
     "metadata": {},
     "output_type": "execute_result"
    }
   ],
   "source": [
    "my_sum2(),my_sum2(5)"
   ]
  },
  {
   "cell_type": "code",
   "execution_count": null,
   "metadata": {},
   "outputs": [],
   "source": [
    "#영일\n",
    "def sumall(num1=0, num2=10):\n",
    "#    if num1 == None:\n",
    "#        num1 == 0\n",
    "#    if num2 == None:\n",
    "#        num2 == 9\n",
    "    return sum(range(min(num1,num2), max(num1,num2)+1))\n"
   ]
  },
  {
   "cell_type": "code",
   "execution_count": 335,
   "metadata": {},
   "outputs": [],
   "source": [
    "# 4. 체질량 지수(體質量指數, Body Mass Index, BMI)는 비만도를 나타내는 지수로 키가 a미터 이고 몸무게가 b kg일때 b/a**2 로 구한다.\n",
    "# 체질량 지수가\n",
    "#- 18.5 미만이면 저체중\n",
    "#- 18.5이상 25미만이면 정상\n",
    "#- 25이상이면 과체중\n",
    "#- 30이상이면 비만으로 하는데\n",
    "#몸무게와 키를 매개변수로 받아 비만인지 과체중인지 반환하는 함수를 구현하시오.\n",
    "\n",
    "def check_bmi(tall,weight):\n",
    "    '''\n",
    "    비엠아이 지수 계산해서 비만도 반환\n",
    "    [매개변수]\n",
    "        tall:double - 키(미ㅓ)\n",
    "        weight: double -몸무게(kg)\n",
    "    [반환값]\n",
    "        str : 비만도(저체중, 정상, 과체중,비만)\n",
    "    '''\n",
    "    bmi = weight/(tall**2)\n",
    "    result = None\n",
    "    if bmi <18.5:\n",
    "        result ='저체중'\n",
    "    elif bmi <25:\n",
    "         result ='정상'\n",
    "    elif bmi <30:\n",
    "         result ='과체중'\n",
    "    else:\n",
    "        result='qlaks'\n",
    "    return bmi, result\n",
    "    \n"
   ]
  },
  {
   "cell_type": "code",
   "execution_count": 336,
   "metadata": {
    "collapsed": true
   },
   "outputs": [
    {
     "name": "stdout",
     "output_type": "stream",
     "text": [
      "(21.75925925925926, '정상')\n"
     ]
    }
   ],
   "source": [
    "r = check_bmi(1.8,70.5)\n",
    "print(r)"
   ]
  },
  {
   "cell_type": "code",
   "execution_count": null,
   "metadata": {},
   "outputs": [],
   "source": [
    "# 4. 체질량 지수(體質量指數, Body Mass Index, BMI)는 비만도를 나타내는 지수로 키가 a미터 이고 몸무게가 b kg일때 b/a**2 로 구한다.\n",
    "# 체질량 지수가\n",
    "#- 18.5 미만이면 저체중\n",
    "#- 18.5이상 25미만이면 정상\n",
    "#- 25이상이면 과체중\n",
    "#- 30이상이면 비만으로 하는데\n",
    "#몸무게와 키를 매개변수로 받아 비만인지 과체중인지 반환하는 함수를 구현하시오."
   ]
  },
  {
   "cell_type": "code",
   "execution_count": 341,
   "metadata": {},
   "outputs": [],
   "source": [
    "def biman(a,b):\n",
    "    bmi=(b/a**2)\n",
    "    a=None\n",
    "    if bmi<18.5:\n",
    "        a ='저체중'\n",
    "    elif bmi < 25:\n",
    "        a='정상'\n",
    "    elif 25 <=bmi:\n",
    "        a='과체중'\n",
    "    else:\n",
    "        a='비만'\n",
    "    return print(a) "
   ]
  },
  {
   "cell_type": "code",
   "execution_count": 339,
   "metadata": {},
   "outputs": [
    {
     "name": "stdout",
     "output_type": "stream",
     "text": [
      "과체중\n"
     ]
    }
   ],
   "source": [
    "biman(1.8,100)"
   ]
  },
  {
   "cell_type": "code",
   "execution_count": 342,
   "metadata": {},
   "outputs": [],
   "source": [
    "def biman1(a,b):\n",
    "    if b/a**2 < 18.5:                                 \n",
    "        print('저체중')\n",
    "    elif 18.5 < b/a**2 < 25:\n",
    "        print('정상')\n",
    "    elif 25 < b/a**2:\n",
    "        print('과체중')\n",
    "    else:\n",
    "        print('비만')\n",
    "    return "
   ]
  },
  {
   "cell_type": "code",
   "execution_count": 344,
   "metadata": {},
   "outputs": [
    {
     "name": "stdout",
     "output_type": "stream",
     "text": [
      "저체중\n"
     ]
    }
   ],
   "source": [
    "biman1(1.9,50)"
   ]
  },
  {
   "cell_type": "code",
   "execution_count": 351,
   "metadata": {},
   "outputs": [
    {
     "data": {
      "text/plain": [
       "([1, 20, 3, 21], [1, 20, 3, 21])"
      ]
     },
     "execution_count": 351,
     "metadata": {},
     "output_type": "execute_result"
    }
   ],
   "source": [
    "list(f), list(k)"
   ]
  },
  {
   "cell_type": "code",
   "execution_count": null,
   "metadata": {},
   "outputs": [],
   "source": [
    "list(filter(lambda x:x>0, ex1))"
   ]
  },
  {
   "cell_type": "code",
   "execution_count": 277,
   "metadata": {},
   "outputs": [
    {
     "data": {
      "text/plain": [
       "[1, 20, 3, 21]"
      ]
     },
     "execution_count": 277,
     "metadata": {},
     "output_type": "execute_result"
    }
   ],
   "source": [
    "[i for i in ex1 if i>0]"
   ]
  },
  {
   "cell_type": "code",
   "execution_count": 361,
   "metadata": {},
   "outputs": [],
   "source": [
    "#6. filter와 map을 이용해 다음 리스트에서 음수만 추출한 뒤 그 제곱한 값들을 가지는 리스트를 구현\n",
    "ex2 = [1, -10, -2, 20, 3, -5, -7, 21]\n",
    "ex3= [1, -10, -2, 20, 3, -5, -7, 21]\n",
    "\n",
    "o=filter(lambda u: u<0,ex3)\n",
    "q=map(lambda u:u**2,f)\n",
    "\n"
   ]
  },
  {
   "cell_type": "code",
   "execution_count": 362,
   "metadata": {},
   "outputs": [
    {
     "data": {
      "text/plain": [
       "[]"
      ]
     },
     "execution_count": 362,
     "metadata": {},
     "output_type": "execute_result"
    }
   ],
   "source": [
    "list(q)"
   ]
  },
  {
   "cell_type": "code",
   "execution_count": 284,
   "metadata": {},
   "outputs": [
    {
     "data": {
      "text/plain": [
       "[100, 4, 25, 49]"
      ]
     },
     "execution_count": 284,
     "metadata": {},
     "output_type": "execute_result"
    }
   ],
   "source": [
    "[i**2 for i in ex2 if i < 0]"
   ]
  },
  {
   "cell_type": "code",
   "execution_count": 363,
   "metadata": {},
   "outputs": [
    {
     "ename": "SyntaxError",
     "evalue": "invalid syntax (<ipython-input-363-aa488ba5e76a>, line 1)",
     "output_type": "error",
     "traceback": [
      "\u001b[1;36m  File \u001b[1;32m\"<ipython-input-363-aa488ba5e76a>\"\u001b[1;36m, line \u001b[1;32m1\u001b[0m\n\u001b[1;33m    f= filter(labda x : x < 0, ex2)\u001b[0m\n\u001b[1;37m                    ^\u001b[0m\n\u001b[1;31mSyntaxError\u001b[0m\u001b[1;31m:\u001b[0m invalid syntax\n"
     ]
    }
   ],
   "source": [
    "f= filter(labda x : x < 0, ex2)\n",
    "m= map(lambda x:x**2,f)"
   ]
  },
  {
   "cell_type": "code",
   "execution_count": null,
   "metadata": {},
   "outputs": [],
   "source": [
    "# m= map(lambda x:x**2,filter(labda x : x < 0, ex2))"
   ]
  },
  {
   "cell_type": "code",
   "execution_count": null,
   "metadata": {},
   "outputs": [],
   "source": [
    "함수1(함수2()) #1. 함수2() 2.함수1() 함수2()의 처리결과를 전b달 "
   ]
  },
  {
   "cell_type": "code",
   "execution_count": 216,
   "metadata": {},
   "outputs": [],
   "source": [
    "# 1. 사용자가 입력한 단의 구구단을 출력하는 함수를 구현\n",
    "def gogo():\n",
    "    dan=int(input())\n",
    "    for i in range(1,10):\n",
    "        print(f'{dan}X{i}={dan*i}')\n",
    "        "
   ]
  },
  {
   "cell_type": "code",
   "execution_count": 217,
   "metadata": {},
   "outputs": [
    {
     "name": "stdout",
     "output_type": "stream",
     "text": [
      "2\n",
      "2X1=2\n",
      "2X2=4\n",
      "2X3=6\n",
      "2X4=8\n",
      "2X5=10\n",
      "2X6=12\n",
      "2X7=14\n",
      "2X8=16\n",
      "2X9=18\n"
     ]
    }
   ],
   "source": [
    "gogo()"
   ]
  },
  {
   "cell_type": "code",
   "execution_count": 218,
   "metadata": {},
   "outputs": [],
   "source": [
    "# 2. 시작 정수, 끝 정수를 받아 그 사이의 모든 정수의 합을 구해서 반환하는 함수를 구현\n",
    "def hap(a,b):\n",
    "    ha=0\n",
    "    for i in range(a,b+1):\n",
    "        ha+=i\n",
    "    return ha\n",
    "    "
   ]
  },
  {
   "cell_type": "code",
   "execution_count": 219,
   "metadata": {},
   "outputs": [
    {
     "data": {
      "text/plain": [
       "189"
      ]
     },
     "execution_count": 219,
     "metadata": {},
     "output_type": "execute_result"
    }
   ],
   "source": [
    "hap(2,19)"
   ]
  },
  {
   "cell_type": "code",
   "execution_count": 221,
   "metadata": {},
   "outputs": [],
   "source": [
    "# 3. 1번 문제에서 시작을 받지 않은 경우 0을, 끝 정수를 받지 않으면 10이 들어가도록 구현을 변경\n",
    "def hap1(a=0,b=10):\n",
    "    h=0\n",
    "    for i in range(a,b+1):\n",
    "        h+=i\n",
    "    return h"
   ]
  },
  {
   "cell_type": "code",
   "execution_count": 222,
   "metadata": {},
   "outputs": [
    {
     "data": {
      "text/plain": [
       "55"
      ]
     },
     "execution_count": 222,
     "metadata": {},
     "output_type": "execute_result"
    }
   ],
   "source": [
    "hap1()"
   ]
  },
  {
   "cell_type": "code",
   "execution_count": 225,
   "metadata": {},
   "outputs": [],
   "source": [
    "def hap2(a=0,b=10):\n",
    "    return sum(i for i in range(a,b+1))"
   ]
  },
  {
   "cell_type": "code",
   "execution_count": 226,
   "metadata": {},
   "outputs": [
    {
     "data": {
      "text/plain": [
       "55"
      ]
     },
     "execution_count": 226,
     "metadata": {},
     "output_type": "execute_result"
    }
   ],
   "source": [
    "hap2()"
   ]
  },
  {
   "cell_type": "code",
   "execution_count": 244,
   "metadata": {},
   "outputs": [],
   "source": [
    "# 4. 체질량 지수(體質量指數, Body Mass Index, BMI)는 비만도를 나타내는 지수로 키가 a미터 이고 몸무게가 b kg일때 b/a**2 로 구한다.\n",
    "# 체질량 지수가\n",
    "#- 18.5 미만이면 저체중\n",
    "#- 18.5이상 25미만이면 정상\n",
    "#- 25이상이면 과체중\n",
    "#- 30이상이면 비만으로 하는데\n",
    "#몸무게와 키를 매개변수로 받아 비만인지 과체중인지 반환하는 함수를 구현하시오.\n",
    "\n",
    "\n",
    "def bmi(a,b):\n",
    "    bm= b/(a**2)\n",
    "    #result = None\n",
    "    if bm < 18.5:\n",
    "        result = '저체중'\n",
    "    elif bm < 25:\n",
    "        result = '정상'\n",
    "    elif bm <= 30:\n",
    "        result = '과체중'\n",
    "    else:\n",
    "        result ='비만'\n",
    "    return result, bm"
   ]
  },
  {
   "cell_type": "code",
   "execution_count": 240,
   "metadata": {},
   "outputs": [],
   "source": [
    "def check_bmi(tall, weight):\n",
    "    bmi = weight/(tall**2)\n",
    "    result = None\n",
    "    if bmi < 18.5:\n",
    "        result = \"저체중\"\n",
    "    elif bmi < 25:\n",
    "        result = \"정상\"\n",
    "    elif bmi <30:\n",
    "        result = '과체중'\n",
    "    else:\n",
    "        result = \"비만\"\n",
    "    return bmi, result\n"
   ]
  },
  {
   "cell_type": "code",
   "execution_count": 245,
   "metadata": {},
   "outputs": [
    {
     "data": {
      "text/plain": [
       "('과체중', 27.428571428571427)"
      ]
     },
     "execution_count": 245,
     "metadata": {},
     "output_type": "execute_result"
    }
   ],
   "source": [
    "bmi(1.75,84)"
   ]
  },
  {
   "cell_type": "code",
   "execution_count": 247,
   "metadata": {},
   "outputs": [],
   "source": [
    "# 람다식\n",
    "#5. filter를 이용해 다음 리스트에서 양수만 추출히 리스트를 구현\n",
    "ex1 = [1, -10, -2, 20, 3, -5, -7, 21]\n",
    "k=filter(lambda x:x>0,ex1)"
   ]
  },
  {
   "cell_type": "code",
   "execution_count": 250,
   "metadata": {},
   "outputs": [
    {
     "name": "stdout",
     "output_type": "stream",
     "text": [
      "[1, 20, 3, 21]\n"
     ]
    }
   ],
   "source": [
    "print(list(k))"
   ]
  },
  {
   "cell_type": "code",
   "execution_count": 252,
   "metadata": {},
   "outputs": [
    {
     "data": {
      "text/plain": [
       "[100, 4, 25, 49]"
      ]
     },
     "execution_count": 252,
     "metadata": {},
     "output_type": "execute_result"
    }
   ],
   "source": [
    "#6. filter와 map을 이용해 다음 리스트에서 음수만 추출한 뒤 그 제곱한 값들을 가지는 리스트를 구현\n",
    "ex2 = [1, -10, -2, 20, 3, -5, -7, 21]\n",
    "\n",
    "i=map(lambda v : v**2,filter(lambda x:x<0,ex2))\n",
    "list(i)"
   ]
  }
 ],
 "metadata": {
  "kernelspec": {
   "display_name": "Python 3",
   "language": "python",
   "name": "python3"
  },
  "language_info": {
   "codemirror_mode": {
    "name": "ipython",
    "version": 3
   },
   "file_extension": ".py",
   "mimetype": "text/x-python",
   "name": "python",
   "nbconvert_exporter": "python",
   "pygments_lexer": "ipython3",
   "version": "3.8.5"
  }
 },
 "nbformat": 4,
 "nbformat_minor": 4
}
