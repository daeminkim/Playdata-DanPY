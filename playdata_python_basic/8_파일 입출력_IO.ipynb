{
 "cells": [
  {
   "cell_type": "markdown",
   "metadata": {},
   "source": [
    "## 파일의 경로 (Path)\n",
    "- 절대경로 (Absoluute path):  시작 디렉토리(폴더- Root 디렉토리/)부터 자원의 경로를 표현하는 방식 (전체 경로를 다 알려줌)\n",
    "    - windows: C:\\text/python/io.txt           - C:\\  ==> root directory / 경로구분자 : \\(역슬러시)\n",
    "    - 리눅스 / 유닉스 : /text/python/io.txt               /===> root              경로구분자 : /\n",
    "\n",
    "- 상대경로: 현재 디렉토리에서 부터 찾아가는 경로 표현방식\n",
    "    - '.' : 현재 대렉토리   ex)  .\\df\\dgf\\df\\    '.\\'  생략을 자주함 \n",
    "    - '..' : 상위디렉토리   ex)   ..\\b3\\b1               b3에서 상위를 거처 다른 디렉ㅌ토리로 (상위경로는 써주지 않아도됨)\n",
    "    -'/' : 경로 구분자 "
   ]
  },
  {
   "cell_type": "markdown",
   "metadata": {},
   "source": [
    "\n",
    "## os 모듈\n",
    "\n",
    "- 표준모듈(설치는 필요 없지만 import 는 해야한다.)\n",
    "- 운영체제(so)에서 제공하는 기능들을 파이썬 프로그램에서 사용할 수 있도록 도와주는 모듈"
   ]
  },
  {
   "cell_type": "code",
   "execution_count": 3,
   "metadata": {},
   "outputs": [],
   "source": [
    "import os \n"
   ]
  },
  {
   "cell_type": "code",
   "execution_count": 4,
   "metadata": {},
   "outputs": [
    {
     "name": "stdout",
     "output_type": "stream",
     "text": [
      "C:\\Users\\Playdata\\Daemin_Kim(python)\n"
     ]
    }
   ],
   "source": [
    "# 현재디렉ㅌ토릴 문자열로 반환\n",
    "curr_dir = os.getcwd()  #current work directory \n",
    "print(curr_dir) #주피터 노트북 : 현재 작성하는 ipyb 파일이 위치한 결로."
   ]
  },
  {
   "cell_type": "code",
   "execution_count": 100,
   "metadata": {},
   "outputs": [],
   "source": [
    "# 현재 디렉토리 변경.\n",
    "\n",
    "os.chdir(\"C:\\\\temp\")  # 맥  /temp       #change directory  ./     # '\\'한번만쓰면 tab 으로 인식될수 있음\n",
    "os.chdir(\"C:/temp\") \n",
    "os.chdir(r\"C:\\temp\") "
   ]
  },
  {
   "cell_type": "code",
   "execution_count": 101,
   "metadata": {},
   "outputs": [
    {
     "data": {
      "text/plain": [
       "'C:\\\\temp'"
      ]
     },
     "execution_count": 101,
     "metadata": {},
     "output_type": "execute_result"
    }
   ],
   "source": [
    "os.getcwd()"
   ]
  },
  {
   "cell_type": "markdown",
   "metadata": {},
   "source": [
    "## escape 문자 \n",
    "-  '\\문자' 로 시작하는 문자. text로 표현하지 못하는 문자를 표현하는 문자.\n",
    "- \\n  : 엔터 ,    \\t : 탭   ,  \\b : 백스페이스 , \\\\: \\ 를 가르킨다         ***/// 다른언어에서도 쓰인다."
   ]
  },
  {
   "cell_type": "code",
   "execution_count": 11,
   "metadata": {},
   "outputs": [
    {
     "name": "stdout",
     "output_type": "stream",
     "text": [
      "a\tb\n",
      "a\n",
      "b\n",
      "a\\t\n"
     ]
    }
   ],
   "source": [
    "print('a\\tb')\n",
    "print('a\\nb')\n",
    "print('a\\\\t')\n",
    "print(\"c:/src/a.py\") #파이썬에서 문자열로 파일 경로 표시할때 windows라고해도 /를 사용해도 인식함.\n",
    "print(\"c:\\\\src\\\\a.py\") # \\를 이스케이프로 인식 하지 않게 하기 위해 두개씩 넣는다.\n",
    "print(r\"c:\\src\\a.py\") # raw string => \\를 escape 문자의 접두어로 인식하지 않는 다. "
   ]
  },
  {
   "cell_type": "code",
   "execution_count": 8,
   "metadata": {},
   "outputs": [
    {
     "name": "stdout",
     "output_type": "stream",
     "text": [
      "c:\t\n",
      "\n"
     ]
    }
   ],
   "source": [
    "print('c:\\t\\n')"
   ]
  },
  {
   "cell_type": "code",
   "execution_count": 12,
   "metadata": {},
   "outputs": [
    {
     "data": {
      "text/plain": [
       "'C:\\\\Users\\\\Playdata\\\\Daemin_Kim(python)'"
      ]
     },
     "execution_count": 12,
     "metadata": {},
     "output_type": "execute_result"
    }
   ],
   "source": [
    "os.chdir(curr_dir)\n",
    "os.getcwd()"
   ]
  },
  {
   "cell_type": "code",
   "execution_count": 13,
   "metadata": {},
   "outputs": [
    {
     "data": {
      "text/plain": [
       "['.ipynb_checkpoints',\n",
       " '01_변수_데이터타입.ipynb',\n",
       " '02_자료구조.ipynb',\n",
       " '03_제어문.ipynb',\n",
       " '04_함수.ipynb',\n",
       " '05_객체지향프로그래밍.ipynb',\n",
       " '06_module_package_import.ipynb',\n",
       " '1월 프로그래머스  알고리즘 스터디.ipynb',\n",
       " '7_예외와 예외처리.ipynb',\n",
       " '8_파일 입출력_IO.ipynb',\n",
       " 'my_module.py',\n",
       " 'my_package',\n",
       " 'test2.py',\n",
       " '__pycache__',\n",
       " '강사님코드']"
      ]
     },
     "execution_count": 13,
     "metadata": {},
     "output_type": "execute_result"
    }
   ],
   "source": [
    "# 특정 디레ㄱ토리 안에 있는 하위 디렉토리나 파일들의 이름을 리스트에 담아서 반환\n",
    "# path 를 지정하거나 생략하면 현재 디렉토리내의 내용을 반환.\n",
    "path_list = os.listdir()\n",
    "path_list"
   ]
  },
  {
   "cell_type": "code",
   "execution_count": 14,
   "metadata": {},
   "outputs": [
    {
     "data": {
      "text/plain": [
       "['01_변수_데이터타입.ipynb',\n",
       " '02_자료구조.ipynb',\n",
       " '03_제어문.ipynb',\n",
       " '04_함수.ipynb',\n",
       " '05_객체지향프로그래밍.ipynb',\n",
       " '06_module_package_import.ipynb',\n",
       " '1월 프로그래머스  알고리즘 스터디.ipynb',\n",
       " '7_예외와 예외처리.ipynb',\n",
       " '8_파일 입출력_IO.ipynb']"
      ]
     },
     "execution_count": 14,
     "metadata": {},
     "output_type": "execute_result"
    }
   ],
   "source": [
    "# ipynb 파일들만 가진 리스트 \n",
    "\n",
    "[filename for filename in os.listdir() if filename.endswith('.ipynb')]\n"
   ]
  },
  {
   "cell_type": "code",
   "execution_count": 16,
   "metadata": {},
   "outputs": [
    {
     "data": {
      "text/plain": [
       "['Common Files',\n",
       " 'desktop.ini',\n",
       " 'Elantech',\n",
       " 'Intel',\n",
       " 'Internet Explorer',\n",
       " 'Microsoft Update Health Tools',\n",
       " 'ModifiableWindowsApps',\n",
       " 'Uninstall Information',\n",
       " 'Windows Defender',\n",
       " 'Windows Defender Advanced Threat Protection',\n",
       " 'Windows Mail',\n",
       " 'Windows Media Player',\n",
       " 'Windows Multimedia Platform',\n",
       " 'Windows NT',\n",
       " 'Windows Photo Viewer',\n",
       " 'Windows Portable Devices',\n",
       " 'Windows Security',\n",
       " 'Windows Sidebar',\n",
       " 'WindowsApps',\n",
       " 'WindowsPowerShell']"
      ]
     },
     "execution_count": 16,
     "metadata": {},
     "output_type": "execute_result"
    }
   ],
   "source": [
    "os.listdir(r'c:\\Program Files')"
   ]
  },
  {
   "cell_type": "code",
   "execution_count": 17,
   "metadata": {},
   "outputs": [],
   "source": [
    "# 디렉토리 만들기\n",
    "os.mkdir('test')  # == os.mkdir('./test')  #현재 디렉토리 안에 test 디렉토리를 만들어라  ./는 생략됨"
   ]
  },
  {
   "cell_type": "code",
   "execution_count": 18,
   "metadata": {
    "scrolled": true
   },
   "outputs": [
    {
     "ename": "FileExistsError",
     "evalue": "[WinError 183] 파일이 이미 있으므로 만들 수 없습니다: 'test'",
     "output_type": "error",
     "traceback": [
      "\u001b[1;31m---------------------------------------------------------------------------\u001b[0m",
      "\u001b[1;31mFileExistsError\u001b[0m                           Traceback (most recent call last)",
      "\u001b[1;32m<ipython-input-18-649df206c3ee>\u001b[0m in \u001b[0;36m<module>\u001b[1;34m\u001b[0m\n\u001b[1;32m----> 1\u001b[1;33m \u001b[0mos\u001b[0m\u001b[1;33m.\u001b[0m\u001b[0mmkdir\u001b[0m\u001b[1;33m(\u001b[0m\u001b[1;34m'test'\u001b[0m\u001b[1;33m)\u001b[0m\u001b[1;33m\u001b[0m\u001b[1;33m\u001b[0m\u001b[0m\n\u001b[0m",
      "\u001b[1;31mFileExistsError\u001b[0m: [WinError 183] 파일이 이미 있으므로 만들 수 없습니다: 'test'"
     ]
    }
   ],
   "source": [
    "os.mkdir('test')  # 못만들면 예외 발생~! / 이미 있는 거라 "
   ]
  },
  {
   "cell_type": "code",
   "execution_count": 20,
   "metadata": {
    "scrolled": true
   },
   "outputs": [
    {
     "ename": "FileNotFoundError",
     "evalue": "[WinError 3] 지정된 경로를 찾을 수 없습니다: 'test1\\\\test2\\\\test3'",
     "output_type": "error",
     "traceback": [
      "\u001b[1;31m---------------------------------------------------------------------------\u001b[0m",
      "\u001b[1;31mFileNotFoundError\u001b[0m                         Traceback (most recent call last)",
      "\u001b[1;32m<ipython-input-20-c85be0c556aa>\u001b[0m in \u001b[0;36m<module>\u001b[1;34m\u001b[0m\n\u001b[1;32m----> 1\u001b[1;33m \u001b[0mos\u001b[0m\u001b[1;33m.\u001b[0m\u001b[0mmkdir\u001b[0m\u001b[1;33m(\u001b[0m\u001b[1;34mr'test1\\test2\\test3'\u001b[0m\u001b[1;33m)\u001b[0m   \u001b[1;31m# 테스트 1,2 가 없어서 에러남\u001b[0m\u001b[1;33m\u001b[0m\u001b[1;33m\u001b[0m\u001b[0m\n\u001b[0m",
      "\u001b[1;31mFileNotFoundError\u001b[0m: [WinError 3] 지정된 경로를 찾을 수 없습니다: 'test1\\\\test2\\\\test3'"
     ]
    }
   ],
   "source": [
    "os.mkdir(r'test1\\test2\\test3')   # 테스트 1,2 가 없어서 에러남 // 테스트 1/테스트 2 아래에 테스트 3 만들라는 명령임// (테스트 1,2 가 있는 상태에서 해야한다.)"
   ]
  },
  {
   "cell_type": "code",
   "execution_count": 23,
   "metadata": {},
   "outputs": [],
   "source": [
    "os.makedirs(r'test1\\test2\\test3')  # 없는 경로를 만들면서 테스트 3까지 만드나// 있으면 있는데로 하고 없으면 경로를 만들면서 간다."
   ]
  },
  {
   "cell_type": "code",
   "execution_count": 24,
   "metadata": {},
   "outputs": [],
   "source": [
    "# 파일 / 디렉토리 삭제\n",
    "\n",
    "os.rmdir(r'test1\\test2\\test3') # 테스트 3 삭제"
   ]
  },
  {
   "cell_type": "code",
   "execution_count": null,
   "metadata": {},
   "outputs": [],
   "source": [
    "os.rmdir(r'test1') # os.rmdir()빈디렉토리만 삭제 가능"
   ]
  },
  {
   "cell_type": "code",
   "execution_count": 27,
   "metadata": {},
   "outputs": [],
   "source": [
    "os.removedirs(r'test1\\test2') # 테스트 1,2 모두 삭제 \n",
    "#테스트 1밑에 테스트 2 와 다\n"
   ]
  },
  {
   "cell_type": "code",
   "execution_count": null,
   "metadata": {},
   "outputs": [],
   "source": [
    "# 파일 삭제 \n",
    "os.remove('')"
   ]
  },
  {
   "cell_type": "code",
   "execution_count": null,
   "metadata": {},
   "outputs": [],
   "source": []
  },
  {
   "cell_type": "markdown",
   "metadata": {},
   "source": [
    "### os. path 모듈\n",
    "- 경로 관련 처리를 하는 모듈  'os.path' 이게 하나의 모듈이다."
   ]
  },
  {
   "cell_type": "code",
   "execution_count": null,
   "metadata": {},
   "outputs": [],
   "source": [
    "import os\n",
    "os.path()"
   ]
  },
  {
   "cell_type": "code",
   "execution_count": 28,
   "metadata": {},
   "outputs": [
    {
     "data": {
      "text/plain": [
       "False"
      ]
     },
     "execution_count": 28,
     "metadata": {},
     "output_type": "execute_result"
    }
   ],
   "source": [
    "#파일이나 디렉토리가 있는지 여부\n",
    "os.path.exists('a.txt')"
   ]
  },
  {
   "cell_type": "code",
   "execution_count": 29,
   "metadata": {},
   "outputs": [
    {
     "data": {
      "text/plain": [
       "True"
      ]
     },
     "execution_count": 29,
     "metadata": {},
     "output_type": "execute_result"
    }
   ],
   "source": [
    "os.path.exists('my_module.py')   # 있으면 True., "
   ]
  },
  {
   "cell_type": "code",
   "execution_count": 31,
   "metadata": {},
   "outputs": [
    {
     "data": {
      "text/plain": [
       "(False, True)"
      ]
     },
     "execution_count": 31,
     "metadata": {},
     "output_type": "execute_result"
    }
   ],
   "source": [
    "#데렉토리 인지 여부 확인(없으면 False)  // 있는데 디렉토리 트루 .. \n",
    "os.path.isdir('my_module.py'), os.path.isdir('test') # 파일이니까"
   ]
  },
  {
   "cell_type": "code",
   "execution_count": null,
   "metadata": {},
   "outputs": [],
   "source": [
    "# 파일인지 여부  없으면 False"
   ]
  },
  {
   "cell_type": "code",
   "execution_count": 32,
   "metadata": {},
   "outputs": [
    {
     "data": {
      "text/plain": [
       "(True, False)"
      ]
     },
     "execution_count": 32,
     "metadata": {},
     "output_type": "execute_result"
    }
   ],
   "source": [
    "os.path.isfile('my_module.py'),os.path.isfile('test') "
   ]
  },
  {
   "cell_type": "code",
   "execution_count": 103,
   "metadata": {},
   "outputs": [],
   "source": [
    "path = test 5\n",
    "if not os.path.isdir(path): # 테스트 디렉토리가 없으면\n",
    "    os.mkdir(path)"
   ]
  },
  {
   "cell_type": "code",
   "execution_count": 33,
   "metadata": {},
   "outputs": [
    {
     "name": "stdout",
     "output_type": "stream",
     "text": [
      "C:\\project\\data\\image\n"
     ]
    }
   ],
   "source": [
    "# 경롤를 문자열로 조합해주는 함수 \n",
    "path = os.path.join('C:\\project','data','image')\n",
    "print(path) "
   ]
  },
  {
   "cell_type": "code",
   "execution_count": null,
   "metadata": {},
   "outputs": [],
   "source": [
    "r'C:\\project\\data\\image'"
   ]
  },
  {
   "cell_type": "code",
   "execution_count": null,
   "metadata": {},
   "outputs": [],
   "source": [
    "# 프로젝트의 경로            : C:\\project'\n",
    "#데이터들을 저장할 경로      : data\n",
    "#       이미지 데이터       : img\n",
    "#      텍스트 데이터        : txt\n",
    "#소스 경로                 :src"
   ]
  },
  {
   "cell_type": "code",
   "execution_count": 36,
   "metadata": {},
   "outputs": [],
   "source": [
    "base_dir = r'c:\\project'  # 경로를 만드는것   / 실제 있을 수도 잇고 없을수 도 잇음 \n",
    "#src_dir =  base_dir + r'\\src'\n",
    "src_dir = os.path.join(base_dir, 'src')\n",
    "data_dir = os.path.join(base_dir, 'data')\n",
    "data_img_dir= os.path.join(data_dir,'img')\n",
    "data_txt_dir = os.path.join(data_dir, 'txt')"
   ]
  },
  {
   "cell_type": "code",
   "execution_count": 37,
   "metadata": {},
   "outputs": [
    {
     "name": "stdout",
     "output_type": "stream",
     "text": [
      "c:\\project\\data\\img\\1.jpg\n"
     ]
    }
   ],
   "source": [
    "img1_file = os.path.join(data_img_dir, '1.jpg')\n",
    "print(img1_file)"
   ]
  },
  {
   "cell_type": "code",
   "execution_count": 38,
   "metadata": {},
   "outputs": [
    {
     "data": {
      "text/plain": [
       "'c:\\\\project\\\\src'"
      ]
     },
     "execution_count": 38,
     "metadata": {},
     "output_type": "execute_result"
    }
   ],
   "source": [
    "src_dir"
   ]
  },
  {
   "cell_type": "code",
   "execution_count": 39,
   "metadata": {},
   "outputs": [
    {
     "data": {
      "text/plain": [
       "'c:\\\\project\\\\data'"
      ]
     },
     "execution_count": 39,
     "metadata": {},
     "output_type": "execute_result"
    }
   ],
   "source": [
    "data_dir"
   ]
  },
  {
   "cell_type": "code",
   "execution_count": 40,
   "metadata": {},
   "outputs": [
    {
     "data": {
      "text/plain": [
       "'c:\\\\project\\\\data\\\\img'"
      ]
     },
     "execution_count": 40,
     "metadata": {},
     "output_type": "execute_result"
    }
   ],
   "source": [
    "data_img_dir"
   ]
  },
  {
   "cell_type": "code",
   "execution_count": 41,
   "metadata": {},
   "outputs": [
    {
     "data": {
      "text/plain": [
       "'c:\\\\project\\\\data\\\\txt'"
      ]
     },
     "execution_count": 41,
     "metadata": {},
     "output_type": "execute_result"
    }
   ],
   "source": [
    "data_txt_dir       #사진보면서 다시이해"
   ]
  },
  {
   "cell_type": "code",
   "execution_count": null,
   "metadata": {},
   "outputs": [],
   "source": []
  },
  {
   "cell_type": "code",
   "execution_count": 42,
   "metadata": {},
   "outputs": [
    {
     "name": "stdout",
     "output_type": "stream",
     "text": [
      " C 드라이브의 볼륨에는 이름이 없습니다.\n",
      " 볼륨 일련 번호: 0A40-C4C5\n",
      "\n",
      " C:\\Users\\Playdata\\Daemin_Kim(python) 디렉터리\n",
      "\n",
      "2021-01-19  오후 02:12    <DIR>          .\n",
      "2021-01-19  오후 02:12    <DIR>          ..\n",
      "2021-01-19  오전 10:23    <DIR>          .ipynb_checkpoints\n",
      "2021-01-07  오후 10:07            55,466 01_변수_데이터타입.ipynb\n",
      "2021-01-18  오전 08:57            85,217 02_자료구조.ipynb\n",
      "2021-01-11  오전 09:52            89,515 03_제어문.ipynb\n",
      "2021-01-13  오전 09:07            92,362 04_함수.ipynb\n",
      "2021-01-18  오전 10:18            73,911 05_객체지향프로그래밍.ipynb\n",
      "2021-01-18  오전 10:18            15,099 06_module_package_import.ipynb\n",
      "2021-01-18  오전 08:57             7,400 1월 프로그래머스  알고리즘 스터디.ipynb\n",
      "2021-01-19  오전 10:11            24,978 7_예외와 예외처리.ipynb\n",
      "2021-01-19  오후 02:12            17,489 8_파일 입출력_IO.ipynb\n",
      "2021-01-16  오전 12:35               559 my_module.py\n",
      "2021-01-15  오후 04:33    <DIR>          my_package\n",
      "2021-01-19  오후 12:03    <DIR>          test\n",
      "2021-01-15  오후 02:31               210 test2.py\n",
      "2021-01-15  오후 10:58    <DIR>          __pycache__\n",
      "2021-01-19  오전 09:05    <DIR>          강사님코드\n",
      "              11개 파일             462,206 바이트\n",
      "               7개 디렉터리  197,197,570,048 바이트 남음\n"
     ]
    }
   ],
   "source": [
    "# 주피터 노트북에서 명령프롬프트(터미널) 명령이 실행\n",
    "\n",
    "!dir  # = !ls 맥\n"
   ]
  },
  {
   "cell_type": "code",
   "execution_count": 43,
   "metadata": {},
   "outputs": [
    {
     "name": "stdout",
     "output_type": "stream",
     "text": [
      "C:\\Users\\Playdata\\Daemin_Kim(python)\n"
     ]
    }
   ],
   "source": [
    "!cd  # = !pwd  맥"
   ]
  },
  {
   "cell_type": "markdown",
   "metadata": {},
   "source": [
    "## 텍스트 파일 입출력\n",
    "\n",
    "1. 연결 open()\n",
    "2. 입출력 read()/wirte()\n",
    "3. 연결닫기 "
   ]
  },
  {
   "cell_type": "code",
   "execution_count": 105,
   "metadata": {},
   "outputs": [],
   "source": [
    "# 현재 디렉토리 안에 있는 a.txt 와 연결   .\\ 생략된거임\n",
    "# wt 쓰기 텍스트 모드  / 쓰기모드 :  출력만 \n",
    "# 인코딩 생략 : os 기본 코딩 -- win :cp949 // 유닉스(맥)/리눅스: utf-8\n",
    "f = open(\"a.txt\",'wt')  #  'wt' == 'w' 만 써도 됨 't'는 기본갑이라서 "
   ]
  },
  {
   "cell_type": "code",
   "execution_count": 106,
   "metadata": {},
   "outputs": [
    {
     "data": {
      "text/plain": [
       "18"
      ]
     },
     "execution_count": 106,
     "metadata": {},
     "output_type": "execute_result"
    }
   ],
   "source": [
    "# 출력\n",
    "txt = \"\"\"안녕하세요.\n",
    "ABCDE\n",
    "12345\"\"\"\n",
    "f.write(txt)  # 18. 글자수 (16개, 엔터 2개 )"
   ]
  },
  {
   "cell_type": "code",
   "execution_count": 107,
   "metadata": {},
   "outputs": [
    {
     "data": {
      "text/plain": [
       "8"
      ]
     },
     "execution_count": 107,
     "metadata": {},
     "output_type": "execute_result"
    }
   ],
   "source": [
    "f.write('두번째로 쓴내용')"
   ]
  },
  {
   "cell_type": "code",
   "execution_count": 53,
   "metadata": {},
   "outputs": [],
   "source": [
    "f.close() # 연결 닫기 "
   ]
  },
  {
   "cell_type": "code",
   "execution_count": 54,
   "metadata": {},
   "outputs": [
    {
     "name": "stdout",
     "output_type": "stream",
     "text": [
      " C 드라이브의 볼륨에는 이름이 없습니다.\n",
      " 볼륨 일련 번호: 0A40-C4C5\n",
      "\n",
      " C:\\Users\\Playdata\\Daemin_Kim(python) 디렉터리\n",
      "\n",
      "2021-01-19  오후 03:18    <DIR>          .\n",
      "2021-01-19  오후 03:18    <DIR>          ..\n",
      "2021-01-19  오전 10:23    <DIR>          .ipynb_checkpoints\n",
      "2021-01-07  오후 10:07            55,466 01_변수_데이터타입.ipynb\n",
      "2021-01-18  오전 08:57            85,217 02_자료구조.ipynb\n",
      "2021-01-11  오전 09:52            89,515 03_제어문.ipynb\n",
      "2021-01-13  오전 09:07            92,362 04_함수.ipynb\n",
      "2021-01-18  오전 10:18            73,911 05_객체지향프로그래밍.ipynb\n",
      "2021-01-18  오전 10:18            15,099 06_module_package_import.ipynb\n",
      "2021-01-18  오전 08:57             7,400 1월 프로그래머스  알고리즘 스터디.ipynb\n",
      "2021-01-19  오전 10:11            24,978 7_예외와 예외처리.ipynb\n",
      "2021-01-19  오후 03:18            23,982 8_파일 입출력_IO.ipynb\n",
      "2021-01-19  오후 03:19                40 a.txt\n",
      "2021-01-16  오전 12:35               559 my_module.py\n",
      "2021-01-15  오후 04:33    <DIR>          my_package\n",
      "2021-01-19  오후 12:03    <DIR>          test\n",
      "2021-01-15  오후 02:31               210 test2.py\n",
      "2021-01-15  오후 10:58    <DIR>          __pycache__\n",
      "2021-01-19  오전 09:05    <DIR>          강사님코드\n",
      "              12개 파일             468,739 바이트\n",
      "               7개 디렉터리  197,438,668,800 바이트 남음\n"
     ]
    }
   ],
   "source": [
    "!dir"
   ]
  },
  {
   "cell_type": "code",
   "execution_count": 55,
   "metadata": {},
   "outputs": [
    {
     "ename": "ValueError",
     "evalue": "I/O operation on closed file.",
     "output_type": "error",
     "traceback": [
      "\u001b[1;31m---------------------------------------------------------------------------\u001b[0m",
      "\u001b[1;31mValueError\u001b[0m                                Traceback (most recent call last)",
      "\u001b[1;32m<ipython-input-55-9fa3e1535925>\u001b[0m in \u001b[0;36m<module>\u001b[1;34m\u001b[0m\n\u001b[1;32m----> 1\u001b[1;33m \u001b[0mf\u001b[0m\u001b[1;33m.\u001b[0m\u001b[0mwrite\u001b[0m\u001b[1;33m(\u001b[0m\u001b[1;34m'세번째'\u001b[0m\u001b[1;33m)\u001b[0m\u001b[1;33m\u001b[0m\u001b[1;33m\u001b[0m\u001b[0m\n\u001b[0m",
      "\u001b[1;31mValueError\u001b[0m: I/O operation on closed file."
     ]
    }
   ],
   "source": [
    "f.write('세번째')"
   ]
  },
  {
   "cell_type": "code",
   "execution_count": 108,
   "metadata": {},
   "outputs": [
    {
     "name": "stdout",
     "output_type": "stream",
     "text": [
      "C:\\temp\\my_text.txt\n"
     ]
    }
   ],
   "source": [
    "file  = os.path.join(os.getcwd(),'my_text.txt')\n",
    "print(file)\n",
    "# 출력 모드일때 파일이 없으면 파일을 생성한다.\n",
    "# w: 덮어 쓰기  // 없으면 만들지만 있으면 다지우고 다시 쓴다고 생각하면 됨\n",
    "f = open(file,\"wt\") #연결\n",
    "#출력\n",
    "f.write('첫번째줄\\n')\n",
    "f.write('두번째줄\\n')\n",
    "f.write('세번째줄')\n",
    "# 연결닫기\n",
    "f.close()"
   ]
  },
  {
   "cell_type": "code",
   "execution_count": null,
   "metadata": {},
   "outputs": [],
   "source": []
  },
  {
   "cell_type": "code",
   "execution_count": 109,
   "metadata": {},
   "outputs": [
    {
     "name": "stdout",
     "output_type": "stream",
     "text": [
      "C:\\temp\\my_text2.txt\n"
     ]
    }
   ],
   "source": [
    "file  = os.path.join(os.getcwd(),'my_text2.txt')\n",
    "print(file)\n",
    "# 출력 모드일때 파일이 없으면 파일을 생성한다.\n",
    "# w: 덮어 쓰기  // 없으면 만들지만 있으면 다지우고 다시 쓴다고 생각하면 됨\n",
    "# a: 이어쓰기 \n",
    "#연결  a: 이어쓰기 \n",
    "f = open(file,\"at\") \n",
    "#출력\n",
    "f.write('첫번째줄\\n')\n",
    "f.write('두번째줄\\n')\n",
    "f.write('세번째줄')\n",
    "# 연결닫기\n",
    "f.close()  # close 를 안하면 계속 사용중인 파일 임 //  텍스트도 안써짐 .// close 할때 최종출력이 일어난다.// 꼭해야 한다 클로즈"
   ]
  },
  {
   "cell_type": "code",
   "execution_count": 64,
   "metadata": {},
   "outputs": [
    {
     "name": "stdout",
     "output_type": "stream",
     "text": [
      "C:\\Users\\Playdata\\Daemin_Kim(python)\\my_text3.txt\n"
     ]
    },
    {
     "data": {
      "text/plain": [
       "4"
      ]
     },
     "execution_count": 64,
     "metadata": {},
     "output_type": "execute_result"
    }
   ],
   "source": [
    "file  = os.path.join(os.getcwd(),'my_text3.txt')\n",
    "print(file)\n",
    "# 출력 모드일때 파일이 없으면 파일을 생성한다.\n",
    "# w: 덮어 쓰기  // 없으면 만들지만 있으면 다지우고 다시 쓴다고 생각하면 됨\n",
    "# a: 이어쓰기 \n",
    "#연결  a: 이어쓰기 \n",
    "f = open(file,\"at\") \n",
    "#출력\n",
    "f.write('첫번째줄\\n')\n",
    "f.write('두번째줄\\n')\n",
    "f.write('세번째줄')\n",
    "# 연결닫기"
   ]
  },
  {
   "cell_type": "code",
   "execution_count": 68,
   "metadata": {},
   "outputs": [
    {
     "name": "stdout",
     "output_type": "stream",
     "text": [
      "C:\\Users\\Playdata\\Daemin_Kim(python)\\my_text4.txt\n"
     ]
    },
    {
     "data": {
      "text/plain": [
       "4"
      ]
     },
     "execution_count": 68,
     "metadata": {},
     "output_type": "execute_result"
    }
   ],
   "source": [
    "file  = os.path.join(os.getcwd(),'my_text4.txt')\n",
    "print(file)\n",
    "# 출력 모드일때 파일이 없으면 파일을 생성한다.\n",
    "# w: 덮어 쓰기  // 없으면 만들지만 있으면 다지우고 다시 쓴다고 생각하면 됨\n",
    "# a: 이어쓰기 \n",
    "#연결  a: 이어쓰기 \n",
    "f = open(file,\"at\") \n",
    "#출력\n",
    "f.write('첫번째줄\\n')\n",
    "f.flush() # 버퍼(메모리)를 비워라 ==> 파일에 써라.\n",
    "f.write('두번째줄\\n')\n",
    "f.flush()\n",
    "f.write('세번째줄')\n",
    "\n",
    "# 연결닫기\n"
   ]
  },
  {
   "cell_type": "code",
   "execution_count": 123,
   "metadata": {},
   "outputs": [],
   "source": [
    "f.close()"
   ]
  },
  {
   "cell_type": "code",
   "execution_count": 124,
   "metadata": {},
   "outputs": [],
   "source": [
    "file = \"test.txt\""
   ]
  },
  {
   "cell_type": "code",
   "execution_count": 125,
   "metadata": {},
   "outputs": [
    {
     "name": "stdout",
     "output_type": "stream",
     "text": [
      "my_text4.txt을 익는 도중 오류 발생\n"
     ]
    }
   ],
   "source": [
    "file = \"test.txt\"\n",
    "file =  'my_text4.txt'\n",
    "\n",
    "# 읽기 /  텍스트 \n",
    "#읽기 모드인 경우 파일이 반드시 존재해야한다.\n",
    "\n",
    "#if os.path.exists(file)  1번째 해결방법\n",
    "try:\n",
    "    #연결\n",
    "    fi = open(file, 'rt')\n",
    "    #읽기\n",
    "    txt = fi.read() # 파일에서 읽은 데이터 (텍스트)를 반환 . read(): 한번에 전체를 읽는다.\n",
    "    print(txt)\n",
    "    #\n",
    "except:\n",
    "     print(f'{file}을 익는 도중 오류 발생')\n",
    "finally:\n",
    "    #연결닫기는 finally에서 처리\n",
    "    fi.close\n",
    "# fi = open(file)  'rt' 생략가능"
   ]
  },
  {
   "cell_type": "code",
   "execution_count": 120,
   "metadata": {},
   "outputs": [],
   "source": [
    "?fi.read"
   ]
  },
  {
   "cell_type": "code",
   "execution_count": null,
   "metadata": {},
   "outputs": [],
   "source": [
    "try:\n",
    "    fi= open('my_text3.txt')  # 'rt'모드\n",
    " #   txt = fi.read()\n",
    "    txt_list = fi.readlines()\n",
    "    print(type(txt_list))# 한줄을 하나의 문자열로 해서 리스트로 붂어서 반환\n",
    "    print(txt_list)\n",
    "except:\n",
    "    print('dhfbqkfto')\n",
    "finally:\n",
    "    fi.close()"
   ]
  },
  {
   "cell_type": "code",
   "execution_count": 138,
   "metadata": {},
   "outputs": [
    {
     "name": "stdout",
     "output_type": "stream",
     "text": [
      "오류발생\n"
     ]
    }
   ],
   "source": [
    "try:\n",
    "    fi =  open('my_text3.txt')\n",
    "    #입력 stream(fi) 은 iterable. 포인 문에서 사용시 한번 반복할때 한줄을 반환\n",
    "    for index, line_text in enumerate(fi, start = 1): # 라인(한번 반복할때마다 한줄을 반환)단위로 처리할 경우 사용.\n",
    "        if '첫' in line_text:\n",
    "            print(f'{index}, {line_text}', end='')\n",
    "except:\n",
    "    print('오류발생')\n",
    "finally:\n",
    "    fi.close()    # 한번 반복할때 마다  한줄씩 "
   ]
  },
  {
   "cell_type": "code",
   "execution_count": null,
   "metadata": {},
   "outputs": [],
   "source": [
    "fo.writelines(['첫번째줄\\n', '두번째줄\\n', '세번째줄첫번째줄\\n', '두번째줄\\n', '세번째줄'])"
   ]
  },
  {
   "cell_type": "code",
   "execution_count": null,
   "metadata": {},
   "outputs": [],
   "source": [
    "fo.write()"
   ]
  },
  {
   "cell_type": "markdown",
   "metadata": {},
   "source": [
    "## 1/20 일 복습 여기 부터~~"
   ]
  },
  {
   "cell_type": "code",
   "execution_count": 90,
   "metadata": {},
   "outputs": [
    {
     "name": "stdout",
     "output_type": "stream",
     "text": [
      "첫번째줄\n",
      "\n",
      "두번째줄\n",
      "\n"
     ]
    }
   ],
   "source": [
    "fi = open('my_text3.txt')  #한줄씩 읽음\n",
    "print(fi.readline())\n",
    "print(fi.readline())\n",
    "fi.close"
   ]
  },
  {
   "cell_type": "code",
   "execution_count": null,
   "metadata": {},
   "outputs": [],
   "source": [
    "try:\n",
    "    1.연결\n",
    "    2.입출력\n",
    "except:\n",
    "    연결, 입출시 발생한 예외 처리\n",
    "finally:\n",
    "    3. 연결닫기 - 무조건 "
   ]
  },
  {
   "cell_type": "code",
   "execution_count": null,
   "metadata": {},
   "outputs": [],
   "source": []
  },
  {
   "cell_type": "code",
   "execution_count": 134,
   "metadata": {},
   "outputs": [
    {
     "ename": "SyntaxError",
     "evalue": "unexpected EOF while parsing (<ipython-input-134-17f4696a503a>, line 4)",
     "output_type": "error",
     "traceback": [
      "\u001b[1;36m  File \u001b[1;32m\"<ipython-input-134-17f4696a503a>\"\u001b[1;36m, line \u001b[1;32m4\u001b[0m\n\u001b[1;33m    print(x)\u001b[0m\n\u001b[1;37m            ^\u001b[0m\n\u001b[1;31mSyntaxError\u001b[0m\u001b[1;31m:\u001b[0m unexpected EOF while parsing\n"
     ]
    }
   ],
   "source": [
    "try:\n",
    "    fi =  open('my_text3.txt')\n",
    "    x= fi.read()\n",
    "    print(x)"
   ]
  },
  {
   "cell_type": "code",
   "execution_count": 135,
   "metadata": {},
   "outputs": [],
   "source": [
    "try:\n",
    "    with open('my_text3.txt') as fi:  #변수에 넣는 것이다.\n",
    "        x= fi.read()\n",
    "        print(x)\n",
    "except:\n",
    "    pass\n",
    "# with 블럭의 실행 끊나면 알아서 clse 를 해준다.// 바로 위의 함수 와 같은 것 이다."
   ]
  },
  {
   "cell_type": "code",
   "execution_count": 136,
   "metadata": {},
   "outputs": [],
   "source": [
    "try:\n",
    "    fo = open('test.txt','wt') \n",
    "    fo.write('a')\n",
    "    fo.write('b')\n",
    "except:\n",
    "    pass\n",
    "finally:\n",
    "    fo.close()"
   ]
  },
  {
   "cell_type": "code",
   "execution_count": 137,
   "metadata": {},
   "outputs": [],
   "source": [
    "try:\n",
    "    with open('test.txt','wt') as fo:  #오픈결과를 fo 에 넣음 \n",
    "        fo.write('a')\n",
    "        fo.write('b')\n",
    "except:\n",
    "    pass"
   ]
  },
  {
   "cell_type": "markdown",
   "metadata": {},
   "source": [
    "\n",
    "## Todo 1/20 입 ㄹ"
   ]
  },
  {
   "cell_type": "markdown",
   "metadata": {},
   "source": [
    "\n",
    "TODO - 간단한 메모장                                \n",
    "사용자로부터 파일명을 입력받는다.                              \n",
    "사용자로 부터 파일에 저장할 문장을 입력받아서 파일에 저장한다.                        \n",
    "사용자가 !q 를 입력하면 종료한다.                 \n",
    "사용자가 저장한 파일을 읽어서 출력한다.               \n",
    "\n",
    "- input()  사용자로부터 텍스트 입력 받는다.\n",
    "\n",
    "\n",
    "\n",
    "def memo():"
   ]
  },
  {
   "cell_type": "code",
   "execution_count": 148,
   "metadata": {},
   "outputs": [],
   "source": [
    "os.chdir('C:\\\\Users\\\\Playdata\\\\Daemin_Kim(python)')"
   ]
  },
  {
   "cell_type": "code",
   "execution_count": 149,
   "metadata": {},
   "outputs": [
    {
     "data": {
      "text/plain": [
       "'C:\\\\Users\\\\Playdata\\\\Daemin_Kim(python)'"
      ]
     },
     "execution_count": 149,
     "metadata": {},
     "output_type": "execute_result"
    }
   ],
   "source": [
    "os.getcwd()"
   ]
  },
  {
   "cell_type": "code",
   "execution_count": 189,
   "metadata": {
    "scrolled": true
   },
   "outputs": [
    {
     "ename": "KeyboardInterrupt",
     "evalue": "Interrupted by user",
     "output_type": "error",
     "traceback": [
      "\u001b[1;31m---------------------------------------------------------------------------\u001b[0m",
      "\u001b[1;31mKeyboardInterrupt\u001b[0m                         Traceback (most recent call last)",
      "\u001b[1;32m<ipython-input-189-3a5529e04f4f>\u001b[0m in \u001b[0;36m<module>\u001b[1;34m\u001b[0m\n\u001b[0;32m      1\u001b[0m \u001b[1;31m# 1 파일명 입력\u001b[0m\u001b[1;33m\u001b[0m\u001b[1;33m\u001b[0m\u001b[1;33m\u001b[0m\u001b[0m\n\u001b[1;32m----> 2\u001b[1;33m \u001b[0mfile\u001b[0m \u001b[1;33m=\u001b[0m \u001b[0minput\u001b[0m\u001b[1;33m(\u001b[0m\u001b[1;34m'파일명:'\u001b[0m\u001b[1;33m)\u001b[0m\u001b[1;33m\u001b[0m\u001b[1;33m\u001b[0m\u001b[0m\n\u001b[0m\u001b[0;32m      3\u001b[0m \u001b[1;33m\u001b[0m\u001b[0m\n\u001b[0;32m      4\u001b[0m \u001b[1;32mtry\u001b[0m\u001b[1;33m:\u001b[0m\u001b[1;33m\u001b[0m\u001b[1;33m\u001b[0m\u001b[0m\n\u001b[0;32m      5\u001b[0m     \u001b[1;32mwith\u001b[0m \u001b[0mopen\u001b[0m\u001b[1;33m(\u001b[0m\u001b[0mfile\u001b[0m\u001b[1;33m,\u001b[0m\u001b[1;34m'wt'\u001b[0m\u001b[1;33m)\u001b[0m \u001b[1;32mas\u001b[0m \u001b[0mfw\u001b[0m \u001b[1;33m:\u001b[0m\u001b[1;33m\u001b[0m\u001b[1;33m\u001b[0m\u001b[0m\n",
      "\u001b[1;32m~\\Anaconda3\\lib\\site-packages\\ipykernel\\kernelbase.py\u001b[0m in \u001b[0;36mraw_input\u001b[1;34m(self, prompt)\u001b[0m\n\u001b[0;32m    858\u001b[0m                 \u001b[1;34m\"raw_input was called, but this frontend does not support input requests.\"\u001b[0m\u001b[1;33m\u001b[0m\u001b[1;33m\u001b[0m\u001b[0m\n\u001b[0;32m    859\u001b[0m             )\n\u001b[1;32m--> 860\u001b[1;33m         return self._input_request(str(prompt),\n\u001b[0m\u001b[0;32m    861\u001b[0m             \u001b[0mself\u001b[0m\u001b[1;33m.\u001b[0m\u001b[0m_parent_ident\u001b[0m\u001b[1;33m,\u001b[0m\u001b[1;33m\u001b[0m\u001b[1;33m\u001b[0m\u001b[0m\n\u001b[0;32m    862\u001b[0m             \u001b[0mself\u001b[0m\u001b[1;33m.\u001b[0m\u001b[0m_parent_header\u001b[0m\u001b[1;33m,\u001b[0m\u001b[1;33m\u001b[0m\u001b[1;33m\u001b[0m\u001b[0m\n",
      "\u001b[1;32m~\\Anaconda3\\lib\\site-packages\\ipykernel\\kernelbase.py\u001b[0m in \u001b[0;36m_input_request\u001b[1;34m(self, prompt, ident, parent, password)\u001b[0m\n\u001b[0;32m    902\u001b[0m             \u001b[1;32mexcept\u001b[0m \u001b[0mKeyboardInterrupt\u001b[0m\u001b[1;33m:\u001b[0m\u001b[1;33m\u001b[0m\u001b[1;33m\u001b[0m\u001b[0m\n\u001b[0;32m    903\u001b[0m                 \u001b[1;31m# re-raise KeyboardInterrupt, to truncate traceback\u001b[0m\u001b[1;33m\u001b[0m\u001b[1;33m\u001b[0m\u001b[1;33m\u001b[0m\u001b[0m\n\u001b[1;32m--> 904\u001b[1;33m                 \u001b[1;32mraise\u001b[0m \u001b[0mKeyboardInterrupt\u001b[0m\u001b[1;33m(\u001b[0m\u001b[1;34m\"Interrupted by user\"\u001b[0m\u001b[1;33m)\u001b[0m \u001b[1;32mfrom\u001b[0m \u001b[1;32mNone\u001b[0m\u001b[1;33m\u001b[0m\u001b[1;33m\u001b[0m\u001b[0m\n\u001b[0m\u001b[0;32m    905\u001b[0m             \u001b[1;32mexcept\u001b[0m \u001b[0mException\u001b[0m \u001b[1;32mas\u001b[0m \u001b[0me\u001b[0m\u001b[1;33m:\u001b[0m\u001b[1;33m\u001b[0m\u001b[1;33m\u001b[0m\u001b[0m\n\u001b[0;32m    906\u001b[0m                 \u001b[0mself\u001b[0m\u001b[1;33m.\u001b[0m\u001b[0mlog\u001b[0m\u001b[1;33m.\u001b[0m\u001b[0mwarning\u001b[0m\u001b[1;33m(\u001b[0m\u001b[1;34m\"Invalid Message:\"\u001b[0m\u001b[1;33m,\u001b[0m \u001b[0mexc_info\u001b[0m\u001b[1;33m=\u001b[0m\u001b[1;32mTrue\u001b[0m\u001b[1;33m)\u001b[0m\u001b[1;33m\u001b[0m\u001b[1;33m\u001b[0m\u001b[0m\n",
      "\u001b[1;31mKeyboardInterrupt\u001b[0m: Interrupted by user"
     ]
    }
   ],
   "source": [
    "# 1 파일명 입력\n",
    "file = input('파일명:')\n",
    "\n",
    "try:\n",
    "    with open(file,'wt') as fw :\n",
    "# 사용자 입력을 읽어 오기\n",
    "        # 사용자가 !q를 입력하기 전까지 입력된 내용을 파일에 출력\\\n",
    "        while True :\n",
    "            한줄 = input()\n",
    "            if 한줄 == '!q':\n",
    "                break\n",
    "            fw.write(한줄+'\\n')\n",
    "        print('종료')\n",
    "            \n",
    "        \n",
    "except:\n",
    "    print('실행도중 오류 발생')"
   ]
  },
  {
   "cell_type": "code",
   "execution_count": 151,
   "metadata": {},
   "outputs": [
    {
     "name": "stdout",
     "output_type": "stream",
     "text": [
      "gkdl\n",
      "하이\n",
      "안녕\n",
      "abcd\n",
      "gg\n",
      "\n"
     ]
    }
   ],
   "source": [
    "try:\n",
    "    with open(file, 'rt') as fi:\n",
    "        memo = fi.read()\n",
    "        print(memo)\n",
    "except:\n",
    "    pass\n",
    "        "
   ]
  },
  {
   "cell_type": "code",
   "execution_count": 147,
   "metadata": {},
   "outputs": [
    {
     "data": {
      "text/plain": [
       "'C:\\\\temp'"
      ]
     },
     "execution_count": 147,
     "metadata": {},
     "output_type": "execute_result"
    }
   ],
   "source": [
    "os.getcwd()"
   ]
  },
  {
   "cell_type": "code",
   "execution_count": 153,
   "metadata": {},
   "outputs": [],
   "source": [
    "def simple_memo():\n",
    "    file = input('파일명:')\n",
    "\n",
    "    try:\n",
    "        with open(file,'wt') as fw :\n",
    "# 사용자 입력을 읽어 오기\n",
    "        # 사용자가 !q를 입력하기 전까지 입력된 내용을 파일에 출력\\\n",
    "            while True :\n",
    "                한줄 = input()\n",
    "                if 한줄 == '!q':\n",
    "                    break\n",
    "                fw.write(한줄+'\\n')\n",
    "            print('종료')\n",
    "            \n",
    "        \n",
    "    except:\n",
    "        print('실행도중 오류 발생')"
   ]
  },
  {
   "cell_type": "code",
   "execution_count": 154,
   "metadata": {},
   "outputs": [
    {
     "name": "stdout",
     "output_type": "stream",
     "text": [
      "파일명:memo 2.txt\n",
      "d\n",
      "g\n",
      "d\n",
      "gkdl\n",
      "허리아파\n",
      "힘들다\n",
      "ㅜ\n",
      "오늘만하면 쉬나\n",
      "!ㅂ\n",
      "!q\n",
      "종료\n"
     ]
    }
   ],
   "source": [
    "simple_memo()"
   ]
  },
  {
   "cell_type": "code",
   "execution_count": null,
   "metadata": {},
   "outputs": [],
   "source": []
  },
  {
   "cell_type": "code",
   "execution_count": null,
   "metadata": {},
   "outputs": [],
   "source": [
    "x"
   ]
  },
  {
   "cell_type": "code",
   "execution_count": null,
   "metadata": {},
   "outputs": [],
   "source": []
  },
  {
   "cell_type": "markdown",
   "metadata": {},
   "source": [
    "\n",
    "# csv(comma sperate value) 파일\n",
    "   - 정형데이터 (테이블- 표 형태)를 파일에 저장하는 방식.\n",
    "   - 한개의 데이터를 한줄에 표시\n",
    "   - 한개의 데이터를 구성한느 값(속성)은 ','로 구분\n",
    "   - tsv(tab sperated value) \n",
    "   - 텍스트파일 기반\n",
    "   - 파일 확장자는 '.csv', '.tsv' 를 사용"
   ]
  },
  {
   "cell_type": "code",
   "execution_count": null,
   "metadata": {},
   "outputs": [],
   "source": [
    "TODO - csv 파일을 읽어서 각 열의 값을 배열에 담는다.            \n",
    "이름,나이,주소  형태의 csv를 읽어             \n",
    "names = [홍길동,박영희 김영수.....]             \n",
    "ages =[20,30,17,,,,,,]             \n",
    "address =['서울', '인천','부산',,,,,]              \n",
    "배열에 넣는다. 라인이 index가 된다.              \n",
    "홍길동,20,서울              \n",
    "박영희,30,인천            \n",
    "김영수,17,부산           \n",
    "이경수,20,서울           \n",
    "장경철,22,인천           \n",
    "\n",
    "이름나이 주소\n",
    "한줄이 한개(한명)의 데이터\n",
    "\n"
   ]
  },
  {
   "cell_type": "code",
   "execution_count": 190,
   "metadata": {},
   "outputs": [
    {
     "name": "stdout",
     "output_type": "stream",
     "text": [
      "홍길동,20,서울              \n",
      "박영희,30,인천            \n",
      "김영수,17,부산           \n",
      "이경수,20,서울           \n",
      "장경철,22,인천\n"
     ]
    }
   ],
   "source": [
    "with open('data.csv','rt', encoding='utf-8') as fi:\n",
    "    print(fi.read())"
   ]
  },
  {
   "cell_type": "code",
   "execution_count": null,
   "metadata": {},
   "outputs": [],
   "source": [
    "1. data.csv 와 읽기 모드로 연결\n",
    "2. 라인단위로 읽어서 이름, 나이 주소를 분리 => 리스트에 각각 추가."
   ]
  },
  {
   "cell_type": "code",
   "execution_count": null,
   "metadata": {},
   "outputs": [],
   "source": [
    " #   txt = fi.read()\n",
    "    txt_list = fi.readlines()\n",
    "    print(type(txt_list))# 한줄을 하나의 문자열로 해서 리스트로 붂어서 반환\n",
    "    print(txt_list)"
   ]
  },
  {
   "cell_type": "code",
   "execution_count": 191,
   "metadata": {},
   "outputs": [],
   "source": [
    "names = []\n",
    "ages = []\n",
    "address=[]\n",
    "\n",
    "try:\n",
    "    with open('data.csv','rt', encoding='utf-8') as fi:\n",
    "        for line in fi:  # 한번 반복에 한줄씩 읽을때 readlines 말고 더 간단히 할때\n",
    "            name, age, addr = line.split(',')  #리스트 언패킹\n",
    "            names.append(name.strip())\n",
    "            ages.append(age.strip())\n",
    "            address.append(addr.strip())\n",
    "except Exception as e:\n",
    "    print('오류발생',e)"
   ]
  },
  {
   "cell_type": "code",
   "execution_count": 192,
   "metadata": {},
   "outputs": [
    {
     "data": {
      "text/plain": [
       "['홍길동', '박영희', '김영수', '이경수', '장경철']"
      ]
     },
     "execution_count": 192,
     "metadata": {},
     "output_type": "execute_result"
    }
   ],
   "source": [
    "names"
   ]
  },
  {
   "cell_type": "code",
   "execution_count": 193,
   "metadata": {},
   "outputs": [
    {
     "data": {
      "text/plain": [
       "['20', '30', '17', '20', '22']"
      ]
     },
     "execution_count": 193,
     "metadata": {},
     "output_type": "execute_result"
    }
   ],
   "source": [
    "ages"
   ]
  },
  {
   "cell_type": "code",
   "execution_count": 172,
   "metadata": {},
   "outputs": [
    {
     "data": {
      "text/plain": [
       "['서울', '인천', '부산', '서울', '인천']"
      ]
     },
     "execution_count": 172,
     "metadata": {},
     "output_type": "execute_result"
    }
   ],
   "source": [
    "address"
   ]
  },
  {
   "cell_type": "code",
   "execution_count": null,
   "metadata": {},
   "outputs": [],
   "source": []
  },
  {
   "cell_type": "code",
   "execution_count": null,
   "metadata": {},
   "outputs": [],
   "source": []
  },
  {
   "cell_type": "code",
   "execution_count": 194,
   "metadata": {},
   "outputs": [],
   "source": [
    "with open('member2.csv', 'wt', encoding='utf-8') as fw:\n",
    "    for mem in zip ( names,ages,address):\n",
    "        fw.write(','.join(mem )+'\\n')\n",
    "        \n",
    "    "
   ]
  },
  {
   "cell_type": "markdown",
   "metadata": {},
   "source": [
    "# 핸드폰 다시 보기 위에꺼  다른 방식으로 하는거 \n",
    "with open('member2.csv', 'wt', encoding='utf-8') as fw:\n",
    "    for name,age,adr in zip ( names,ages,address):\n",
    "        fw.write(','.join(mem )+'\\n')\n",
    "        "
   ]
  },
  {
   "cell_type": "code",
   "execution_count": 163,
   "metadata": {},
   "outputs": [],
   "source": [
    "#pandas 를 이용해 csv 파일 읽어오기\n",
    "import pandas as pd"
   ]
  },
  {
   "cell_type": "code",
   "execution_count": 195,
   "metadata": {},
   "outputs": [
    {
     "data": {
      "text/html": [
       "<div>\n",
       "<style scoped>\n",
       "    .dataframe tbody tr th:only-of-type {\n",
       "        vertical-align: middle;\n",
       "    }\n",
       "\n",
       "    .dataframe tbody tr th {\n",
       "        vertical-align: top;\n",
       "    }\n",
       "\n",
       "    .dataframe thead th {\n",
       "        text-align: right;\n",
       "    }\n",
       "</style>\n",
       "<table border=\"1\" class=\"dataframe\">\n",
       "  <thead>\n",
       "    <tr style=\"text-align: right;\">\n",
       "      <th></th>\n",
       "      <th>0</th>\n",
       "      <th>1</th>\n",
       "      <th>2</th>\n",
       "    </tr>\n",
       "  </thead>\n",
       "  <tbody>\n",
       "    <tr>\n",
       "      <th>0</th>\n",
       "      <td>홍길동</td>\n",
       "      <td>20</td>\n",
       "      <td>서울</td>\n",
       "    </tr>\n",
       "    <tr>\n",
       "      <th>1</th>\n",
       "      <td>박영희</td>\n",
       "      <td>30</td>\n",
       "      <td>인천</td>\n",
       "    </tr>\n",
       "    <tr>\n",
       "      <th>2</th>\n",
       "      <td>김영수</td>\n",
       "      <td>17</td>\n",
       "      <td>부산</td>\n",
       "    </tr>\n",
       "    <tr>\n",
       "      <th>3</th>\n",
       "      <td>이경수</td>\n",
       "      <td>20</td>\n",
       "      <td>서울</td>\n",
       "    </tr>\n",
       "    <tr>\n",
       "      <th>4</th>\n",
       "      <td>장경철</td>\n",
       "      <td>22</td>\n",
       "      <td>인천</td>\n",
       "    </tr>\n",
       "  </tbody>\n",
       "</table>\n",
       "</div>"
      ],
      "text/plain": [
       "     0   1                 2\n",
       "0  홍길동  20  서울              \n",
       "1  박영희  30    인천            \n",
       "2  김영수  17     부산           \n",
       "3  이경수  20     서울           \n",
       "4  장경철  22                인천"
      ]
     },
     "execution_count": 195,
     "metadata": {},
     "output_type": "execute_result"
    }
   ],
   "source": [
    "data = pd.read_csv('data.csv', encoding = 'utf-8', header=None)\n",
    "data"
   ]
  },
  {
   "cell_type": "code",
   "execution_count": null,
   "metadata": {},
   "outputs": [],
   "source": [
    "p = Person('이름', 20, '주소')"
   ]
  },
  {
   "cell_type": "markdown",
   "metadata": {},
   "source": [
    "## pickle 을 이용한 객체 읽고 쓰기\n",
    "- pickle.dump(저장할객체, 출력)\n",
    "    - 객체 직렬화(Serialize) -  객체를 출력한다.\n",
    "- 읽기 : pickle. load(입력)\n",
    "    - 객체 역직렬화  -직렬화된 객체를 입력 받는 것.\n",
    "- 파일과 연결시 binary 모드로 설정해야한다.\n",
    "- 데이터 타입 그대로 저장 그대로 불러쓴다."
   ]
  },
  {
   "cell_type": "code",
   "execution_count": null,
   "metadata": {},
   "outputs": [],
   "source": [
    "#껏다 다시 해보자// 리스트 1 실행하지 말고 list 2 실행해보기"
   ]
  },
  {
   "cell_type": "code",
   "execution_count": 183,
   "metadata": {},
   "outputs": [],
   "source": [
    "list1 = [1,2,3,4,5]"
   ]
  },
  {
   "cell_type": "code",
   "execution_count": 184,
   "metadata": {},
   "outputs": [],
   "source": [
    "import pickle\n",
    "\n",
    "with open('list.pkl','wb') as fi:   #리슽트 피케이엘 파일을 만들고 리스트 1을 저장한다고 생각하면됨\n",
    "    pickle.dump(list1, fi) # 저장"
   ]
  },
  {
   "cell_type": "code",
   "execution_count": 185,
   "metadata": {
    "collapsed": true
   },
   "outputs": [
    {
     "name": "stdout",
     "output_type": "stream",
     "text": [
      " C 드라이브의 볼륨에는 이름이 없습니다.\n",
      " 볼륨 일련 번호: 0A40-C4C5\n",
      "\n",
      " C:\\Users\\Playdata\\Daemin_Kim(python) 디렉터리\n",
      "\n",
      "2021-01-20  오전 11:33    <DIR>          .\n",
      "2021-01-20  오전 11:33    <DIR>          ..\n",
      "2021-01-19  오전 10:23    <DIR>          .ipynb_checkpoints\n",
      "2021-01-07  오후 10:07            55,466 01_변수_데이터타입.ipynb\n",
      "2021-01-18  오전 08:57            85,217 02_자료구조.ipynb\n",
      "2021-01-11  오전 09:52            89,515 03_제어문.ipynb\n",
      "2021-01-13  오전 09:07            92,362 04_함수.ipynb\n",
      "2021-01-18  오전 10:18            73,911 05_객체지향프로그래밍.ipynb\n",
      "2021-01-18  오전 10:18            15,099 06_module_package_import.ipynb\n",
      "2021-01-18  오전 08:57             7,400 1월 프로그래머스  알고리즘 스터디.ipynb\n",
      "2021-01-19  오전 10:11            24,978 7_예외와 예외처리.ipynb\n",
      "2021-01-20  오전 11:32            47,275 8_파일 입출력_IO.ipynb\n",
      "2021-01-19  오후 03:19                40 a.txt\n",
      "2021-01-19  오후 05:01               151 data.csv\n",
      "2021-01-20  오전 11:34                26 list.pkl\n",
      "2021-01-20  오전 11:01                 0 member.csv\n",
      "2021-01-20  오전 11:08                 0 member1.csv\n",
      "2021-01-20  오전 11:13               105 member2.csv\n",
      "2021-01-20  오전 10:07                59 memo 2.txt\n",
      "2021-01-20  오전 10:03                28 memo1.txt\n",
      "2021-01-16  오전 12:35               559 my_module.py\n",
      "2021-01-15  오후 04:33    <DIR>          my_package\n",
      "2021-01-19  오후 03:25                28 my_text.txt\n",
      "2021-01-19  오후 03:29               140 my_text2.txt\n",
      "2021-01-19  오후 03:44                56 my_text3.txt\n",
      "2021-01-19  오후 11:02                56 my_text4.txt\n",
      "2021-01-19  오후 12:03    <DIR>          test\n",
      "2021-01-15  오후 02:31               210 test2.py\n",
      "2021-01-15  오후 10:58    <DIR>          __pycache__\n",
      "2021-01-19  오전 09:05    <DIR>          강사님코드\n",
      "              23개 파일             492,681 바이트\n",
      "               7개 디렉터리  197,418,344,448 바이트 남음\n"
     ]
    }
   ],
   "source": [
    "!dir  "
   ]
  },
  {
   "cell_type": "code",
   "execution_count": 186,
   "metadata": {},
   "outputs": [],
   "source": [
    "with open('list.pkl','rb') as fo:\n",
    "    list2 = pickle.load(fo)           #리스트 피케이엘에 있는 것을 소환 (연결스트림 == 파일 )  //list1 list2 는 같은 값을 갖지만 다른 객체 이다. \n",
    "                                    # 파일에는 데이터가(클래스로 부터 생성된 객체) 저장됐다고 생각하면 된다./그리고 객체 데이터를 그대로 읽어 오겠다 라고 생각\n",
    "                                    #//  클래스가필요하다 "
   ]
  },
  {
   "cell_type": "code",
   "execution_count": 188,
   "metadata": {},
   "outputs": [
    {
     "data": {
      "text/plain": [
       "([1, 2, 3, 4, 5], list)"
      ]
     },
     "execution_count": 188,
     "metadata": {},
     "output_type": "execute_result"
    }
   ],
   "source": [
    "list2,type(list2)"
   ]
  },
  {
   "cell_type": "code",
   "execution_count": null,
   "metadata": {},
   "outputs": [],
   "source": []
  },
  {
   "cell_type": "code",
   "execution_count": null,
   "metadata": {},
   "outputs": [],
   "source": []
  },
  {
   "cell_type": "code",
   "execution_count": null,
   "metadata": {},
   "outputs": [],
   "source": []
  },
  {
   "cell_type": "code",
   "execution_count": null,
   "metadata": {},
   "outputs": [],
   "source": []
  },
  {
   "cell_type": "code",
   "execution_count": null,
   "metadata": {},
   "outputs": [],
   "source": []
  },
  {
   "cell_type": "code",
   "execution_count": null,
   "metadata": {},
   "outputs": [],
   "source": []
  },
  {
   "cell_type": "code",
   "execution_count": null,
   "metadata": {},
   "outputs": [],
   "source": []
  },
  {
   "cell_type": "code",
   "execution_count": null,
   "metadata": {},
   "outputs": [],
   "source": []
  },
  {
   "cell_type": "code",
   "execution_count": null,
   "metadata": {},
   "outputs": [],
   "source": []
  },
  {
   "cell_type": "code",
   "execution_count": null,
   "metadata": {},
   "outputs": [],
   "source": []
  },
  {
   "cell_type": "code",
   "execution_count": null,
   "metadata": {},
   "outputs": [],
   "source": []
  },
  {
   "cell_type": "code",
   "execution_count": null,
   "metadata": {},
   "outputs": [],
   "source": []
  },
  {
   "cell_type": "code",
   "execution_count": null,
   "metadata": {},
   "outputs": [],
   "source": []
  },
  {
   "cell_type": "code",
   "execution_count": null,
   "metadata": {},
   "outputs": [],
   "source": []
  },
  {
   "cell_type": "code",
   "execution_count": null,
   "metadata": {},
   "outputs": [],
   "source": []
  },
  {
   "cell_type": "code",
   "execution_count": null,
   "metadata": {},
   "outputs": [],
   "source": []
  },
  {
   "cell_type": "code",
   "execution_count": null,
   "metadata": {},
   "outputs": [],
   "source": []
  },
  {
   "cell_type": "code",
   "execution_count": null,
   "metadata": {},
   "outputs": [],
   "source": []
  },
  {
   "cell_type": "code",
   "execution_count": null,
   "metadata": {},
   "outputs": [],
   "source": []
  },
  {
   "cell_type": "code",
   "execution_count": null,
   "metadata": {},
   "outputs": [],
   "source": []
  },
  {
   "cell_type": "code",
   "execution_count": null,
   "metadata": {},
   "outputs": [],
   "source": []
  },
  {
   "cell_type": "code",
   "execution_count": null,
   "metadata": {},
   "outputs": [],
   "source": []
  },
  {
   "cell_type": "code",
   "execution_count": null,
   "metadata": {},
   "outputs": [],
   "source": []
  },
  {
   "cell_type": "code",
   "execution_count": null,
   "metadata": {},
   "outputs": [],
   "source": []
  },
  {
   "cell_type": "code",
   "execution_count": null,
   "metadata": {},
   "outputs": [],
   "source": []
  },
  {
   "cell_type": "code",
   "execution_count": null,
   "metadata": {},
   "outputs": [],
   "source": []
  },
  {
   "cell_type": "code",
   "execution_count": null,
   "metadata": {},
   "outputs": [],
   "source": []
  }
 ],
 "metadata": {
  "kernelspec": {
   "display_name": "Python 3",
   "language": "python",
   "name": "python3"
  },
  "language_info": {
   "codemirror_mode": {
    "name": "ipython",
    "version": 3
   },
   "file_extension": ".py",
   "mimetype": "text/x-python",
   "name": "python",
   "nbconvert_exporter": "python",
   "pygments_lexer": "ipython3",
   "version": "3.8.5"
  }
 },
 "nbformat": 4,
 "nbformat_minor": 4
}
