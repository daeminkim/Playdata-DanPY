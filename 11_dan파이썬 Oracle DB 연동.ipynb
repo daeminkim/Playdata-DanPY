{
 "cells": [
  {
   "cell_type": "markdown",
   "metadata": {},
   "source": [
    "- DB별 라이브러리가 필요하다. 즉 다운받아서 설치를 해야 한다. (파이썬과 DBMS을 연동하려면)\n",
    "- 다른 DB라이브러리들도 사용법들은 거의 동일하다.\n",
    "\n",
    "- 서버컴퓨터와 클라이언트 컴퓨터분리되어 네트워크로 연결되어있을때는  // cx-oracle\n",
    "https://www.oracle.com/kr/database/technologies/instant-client/winx64-64-downloads.html\n",
    "- 오라클 클라이언트 설치 사이트에서 클라이언트를 다운로드를 받아야한다.\n",
    "\n",
    "- Mac에서 Oracle Instant Client - Homebrew\n",
    "  - https://blog.naver.com/hanccii/222052865386\n",
    "  \n",
    "- window cx_Oracle 모듈 설치 방법\n",
    "https://pypi.org/ 접속해서 cx_Oracle 검색\n",
    "아나콘다 프롬프트 에 pip install cx-Oracle 입력 \n",
    "\n",
    "or\n",
    "\n",
    "https://anaconda.org/anaconda/repo 에서 검색 \n",
    "conda install cx_oracle 입력 \n"
   ]
  },
  {
   "cell_type": "markdown",
   "metadata": {
    "slideshow": {
     "slide_type": "slide"
    }
   },
   "source": [
    "# cx_Oracle 모듈\n",
    "- 파이썬에서 오라클 DBMS와 연동는 다양한 함수를 제공하는 모듈\n",
    "- Python DB API 2.0 표준을 따른다. \n",
    "\n",
    "## 참고\n",
    "- [cx_Oracle 모듈 홈페이지](https://oracle.github.io/python-cx_Oracle/)\n",
    "- [Python DB API](https://docs.python.org/ko/3/library/sqlite3.html)"
   ]
  },
  {
   "cell_type": "markdown",
   "metadata": {
    "slideshow": {
     "slide_type": "slide"
    }
   },
   "source": [
    "## cx_Oracle 모듈 설치\n",
    "- [설치 튜토리얼](https://cx-oracle.readthedocs.io/en/latest/user_guide/installation.html)\n",
    "- 패키지 설치\n",
    "```\n",
    "conda install cx_oracle\n",
    "pip install cx_Oracle --upgrade\n",
    "```"
   ]
  },
  {
   "cell_type": "code",
   "execution_count": null,
   "metadata": {},
   "outputs": [],
   "source": []
  },
  {
   "cell_type": "markdown",
   "metadata": {
    "slideshow": {
     "slide_type": "slide"
    }
   },
   "source": [
    "## 코딩 절차\n",
    "1. cx_Oracle 모듈 import"
   ]
  },
  {
   "cell_type": "markdown",
   "metadata": {
    "slideshow": {
     "slide_type": "fragment"
    }
   },
   "source": [
    "2. cx_Oracle모듈의 connect() 함수를 이용해 디비\"연결\" // (연결 : db와 연결하는 역할 /접속 scott 에 접속 하듯이)"
   ]
  },
  {
   "cell_type": "markdown",
   "metadata": {
    "slideshow": {
     "slide_type": "fragment"
    }
   },
   "source": [
    "3. Connection 객체의 cursor() 메소드를 이용해 Cursor객체 조회.\n",
    "    - Cursor객체: sql문을 전송하고 select결과 조회 기능을 제공하는 객체"
   ]
  },
  {
   "cell_type": "markdown",
   "metadata": {
    "slideshow": {
     "slide_type": "fragment"
    }
   },
   "source": [
    "4. Cursor 의 execute() 메소드를 이용해 SQL문 전송"
   ]
  },
  {
   "cell_type": "markdown",
   "metadata": {
    "slideshow": {
     "slide_type": "fragment"
    }
   },
   "source": [
    "5. SELECT 의 경우 결과 조회.\n",
    "    - 조회결과 한행씩 반환받아 사용\n",
    "    - 조회결과 한번에 반환받아 사용"
   ]
  },
  {
   "cell_type": "markdown",
   "metadata": {
    "slideshow": {
     "slide_type": "fragment"
    }
   },
   "source": [
    "6. INSERT/DELETE/UPDATE의 경우  SQL 문 실행 후 Connection의 commit() 메소드를 이용해 Transaction 처리"
   ]
  },
  {
   "cell_type": "markdown",
   "metadata": {
    "slideshow": {
     "slide_type": "fragment"
    }
   },
   "source": [
    "7. Cursor, Connection 연결 닫기"
   ]
  },
  {
   "cell_type": "markdown",
   "metadata": {
    "slideshow": {
     "slide_type": "slide"
    }
   },
   "source": [
    "### DB 연결\n",
    "- connect() 함수를 이용하며 연결 후 Connection 객체를 받는다.\n",
    "- 연결시 필요한 값\n",
    "    - **host**        (ip 주소// 서버의 ip주소// 어느 컴퓨터 ///예를 들면 )어느나라에 갈지)\n",
    "    - **port번호**    (어느 서버프로그램에 연결할지0~65535//어느 DB서버 //예를 들면)어떤항구에들어갈지)\n",
    "    - **SID (DB이름)**   ( 오라클에서는 sid  다른 곳에선 db이름)(어느 DB에 접근할지)\n",
    "    - **user name**()  \n",
    "    - **password**\n",
    "\n",
    "### Connection 주요 메소드\n",
    "- commit(): 커밋\n",
    "- rollback(): 롤백\n",
    "- close(): 연결 닫기"
   ]
  },
  {
   "cell_type": "code",
   "execution_count": 2,
   "metadata": {},
   "outputs": [
    {
     "name": "stdout",
     "output_type": "stream",
     "text": [
      "<class 'cx_Oracle.Connection'>\n"
     ]
    }
   ],
   "source": [
    "# connect() 함수를 이용해서 연결. 연결(접속) 성공하면 connection객체를 반환\n",
    "# connection객체: 연결정보(username,password,url*url은 host,port,sid를 묶어서)를 가지고 있는 객체 // \n",
    "#연결은 connect() 함수가 하는것 (connection 이라는 객체를 반환하고 그안의 메소드를 사용 ex) close()등)\n",
    "import cx_Oracle\n",
    "username = 'c##scott_join'\n",
    "password = 'tiger'\n",
    "url = \"localhost:1521/XE\"  #host:port/sid\n",
    "conn = cx_Oracle.connect(username, password, url)  # 연결  /connect 함수를 이용해서 // conn(connection 객체이름) 객체를 받았다.\n",
    "print(type(conn))\n",
    "conn.close()  # 연결 해제 // 객체.메소드 "
   ]
  },
  {
   "cell_type": "code",
   "execution_count": 3,
   "metadata": {},
   "outputs": [
    {
     "name": "stdout",
     "output_type": "stream",
     "text": [
      "<class 'cx_Oracle.Connection'>\n"
     ]
    }
   ],
   "source": [
    "# username/pwd@url  연결방법 2\n",
    "conn2 = cx_Oracle.connect(\"c##scott_join/tiger@localhost:1521/XE\")  #연결\n",
    "print(type(conn2))\n",
    "conn2.close()"
   ]
  },
  {
   "cell_type": "code",
   "execution_count": 3,
   "metadata": {},
   "outputs": [],
   "source": [
    "import cx_Oracle"
   ]
  },
  {
   "cell_type": "markdown",
   "metadata": {
    "slideshow": {
     "slide_type": "slide"
    }
   },
   "source": [
    "#### DSN (Data Source Name) 을 이용한 연결\n",
    "- DSN: DBMS를 연결하기 위한 정보를 모아 놓은 것. (서로 다른 DBMS의 연결정보를 통일하기 위해서 방식)\n",
    "- makedsn(host, port번호, SID) 함수 이용해 dsn을 생성한다."
   ]
  },
  {
   "cell_type": "code",
   "execution_count": 4,
   "metadata": {},
   "outputs": [],
   "source": [
    "username='c##scott_join'\n",
    "password ='tiger'\n",
    "host='localhost'\n",
    "port=1521\n",
    "sid='XE'\n",
    "\n",
    "dsn=cx_Oracle.makedsn(host,port,sid)\n",
    "conn=cx_Oracle.connect(username,password,dsn)\n"
   ]
  },
  {
   "cell_type": "code",
   "execution_count": 5,
   "metadata": {},
   "outputs": [],
   "source": [
    "conn.close()  ## 연습한것"
   ]
  },
  {
   "cell_type": "code",
   "execution_count": 6,
   "metadata": {},
   "outputs": [
    {
     "name": "stdout",
     "output_type": "stream",
     "text": [
      "(DESCRIPTION=(ADDRESS=(PROTOCOL=TCP)(HOST=localhost)(PORT=1521))(CONNECT_DATA=(SID=XE)))\n",
      "<class 'cx_Oracle.Connection'>\n"
     ]
    },
    {
     "data": {
      "text/plain": [
       "<function Connection.close>"
      ]
     },
     "execution_count": 6,
     "metadata": {},
     "output_type": "execute_result"
    }
   ],
   "source": [
    "username='c##scott_join'\n",
    "password ='tiger'\n",
    "host='localhost'\n",
    "port=1521\n",
    "sid='XE'\n",
    "\n",
    "#url = f'{username}/{password}@{host}:{port}/{sid}' \n",
    "\n",
    "dsn = cx_Oracle.makedsn(host,port,sid)  #makedsn 함수를 이용해서 url을 만듦// 묶음을 만들었다. \n",
    "print(dsn)\n",
    "conn3 =cx_Oracle.connect(username,password,dsn) # data sause name\n",
    "print(type(conn3))\n",
    "conn3.close"
   ]
  },
  {
   "cell_type": "code",
   "execution_count": null,
   "metadata": {},
   "outputs": [],
   "source": [
    "#with block  을 빠져나오면 자동으로 close()처리.  : 복습할때 with 구문 다시 보기 \n",
    "with cx_Oracle.connect(username,password,dsn) as conn4:\n",
    "    # DB관련 작업    conn4.xxx()\n",
    "    pass\n",
    "\n"
   ]
  },
  {
   "cell_type": "markdown",
   "metadata": {
    "slideshow": {
     "slide_type": "slide"
    }
   },
   "source": [
    "## Cursor 객체  \n",
    "- SQL문을 전송하고 select결과를 조회하는 메소드들을 제공한다.\n",
    "- Connection객체의 cursor() 메소드로 받아온다.\n",
    "- cursor 현재위치// DB 에서의 data 의 현재 위치 "
   ]
  },
  {
   "cell_type": "markdown",
   "metadata": {
    "slideshow": {
     "slide_type": "subslide"
    }
   },
   "source": [
    "### Cursor의 주요 메소드\n",
    "#### SQL 실행 메소드\n",
    "- execute(sql) : 하나의 sql 문 실행. \n",
    "- executemany(sql): insert, update, delete 배치 처리  ** 동일한 쿼리를 값만 바꾸면서 여러개를 한번에 처리할때 쓴다.(ex: insert를 여러게 할때)\n",
    "    - insert, update, delete는 다 처리후 conn.commit()으로 커밋 처리해야한다.\n",
    "    "
   ]
  },
  {
   "cell_type": "markdown",
   "metadata": {
    "slideshow": {
     "slide_type": "fragment"
    }
   },
   "source": [
    "#### select 결과 조회 메소드\n",
    "- execute()로 실행한 SQL이 select인 경우 다음 메소드로 조회한다.\n",
    "- fetchall()  : 조회된 모든 행을 한번에 가져올 때 사용한다. 결과를 tuple들을 묶은 리스트로 반환\n",
    "- fetchone()  : 호출시 마다 한행씩 반환한다. PK로 조회한 경우 많이 사용한다.\n",
    "- fetchmany(n): n행만큼 조회한다. n기본값-100. 특정개수반큼 반복문을 이용해 가져올때 사용.\n",
    "\n",
    "- 값을 갖고오는것을 fetch 라고 한다."
   ]
  },
  {
   "cell_type": "code",
   "execution_count": 18,
   "metadata": {},
   "outputs": [],
   "source": [
    "import cx_Oracle\n",
    "from  pprint import pprint  #자료구조를 보기좋게 출력해주는 print함수."
   ]
  },
  {
   "cell_type": "code",
   "execution_count": 28,
   "metadata": {
    "collapsed": true
   },
   "outputs": [
    {
     "name": "stdout",
     "output_type": "stream",
     "text": [
      "연결 완료\n",
      "<class 'list'> <class 'tuple'>\n",
      "116\n",
      "[(100, 'Steven', None),\n",
      " (101, 'Neena', 'AD_VP'),\n",
      " (102, 'Lex', 'AD_VP'),\n",
      " (103, 'Alexander', 'IT_PROG'),\n",
      " (104, 'Bruce', 'IT_PROG'),\n",
      " (105, 'David', 'IT_PROG'),\n",
      " (106, 'Valli', 'IT_PROG'),\n",
      " (107, 'Diana', 'IT_PROG'),\n",
      " (108, 'Nancy', 'FI_MGR'),\n",
      " (109, 'Daniel', 'FI_ACCOUNT'),\n",
      " (110, 'John', 'FI_ACCOUNT'),\n",
      " (111, 'Ismael', 'FI_ACCOUNT'),\n",
      " (112, 'Jose Manuel', 'FI_ACCOUNT'),\n",
      " (113, 'Luis', 'FI_ACCOUNT'),\n",
      " (114, 'Den', 'PU_MAN'),\n",
      " (115, 'Alexander', 'PU_MAN'),\n",
      " (116, 'Shelli', 'PU_CLERK'),\n",
      " (117, 'Sigal', 'PU_CLERK'),\n",
      " (118, 'Guy', 'PU_CLERK'),\n",
      " (119, 'Karen', 'PU_CLERK'),\n",
      " (120, 'Matthew', 'ST_MAN'),\n",
      " (121, 'Adam', 'ST_MAN'),\n",
      " (122, 'Payam', 'ST_MAN'),\n",
      " (123, 'Shanta', 'ST_MAN'),\n",
      " (124, 'Kevin', 'ST_MAN'),\n",
      " (125, 'Julia', 'ST_CLERK'),\n",
      " (126, 'Irene', 'ST_CLERK'),\n",
      " (127, 'James', 'ST_CLERK'),\n",
      " (128, 'Steven', 'ST_CLERK'),\n",
      " (129, 'Laura', 'ST_CLERK'),\n",
      " (130, 'Mozhe', None),\n",
      " (131, 'James', None),\n",
      " (132, 'TJ', 'ST_CLERK'),\n",
      " (133, 'Jason', 'ST_CLERK'),\n",
      " (134, 'Michael', 'ST_CLERK'),\n",
      " (135, 'Ki', 'ST_CLERK'),\n",
      " (136, 'Hazel', 'ST_CLERK'),\n",
      " (137, 'Renske', 'ST_CLERK'),\n",
      " (138, 'Stephen', 'ST_CLERK'),\n",
      " (139, 'John', 'ST_CLERK'),\n",
      " (140, 'Joshua', None),\n",
      " (141, 'Trenna', 'ST_CLERK'),\n",
      " (142, 'Curtis', 'ST_CLERK'),\n",
      " (143, 'Randall', 'ST_CLERK'),\n",
      " (144, 'Peter', 'ST_CLERK'),\n",
      " (145, 'John', 'SA_MAN'),\n",
      " (146, 'Karen', 'SA_MAN'),\n",
      " (147, 'Alberto', 'SA_MAN'),\n",
      " (148, 'Gerald', 'SA_MAN'),\n",
      " (149, 'Eleni', 'SA_MAN'),\n",
      " (150, 'Peter', 'SA_REP'),\n",
      " (151, 'David', 'SA_REP'),\n",
      " (152, 'Peter', 'SA_REP'),\n",
      " (153, 'Christopher', 'SA_REP'),\n",
      " (154, 'Nanette', 'SA_REP'),\n",
      " (155, 'Oliver', 'SA_REP'),\n",
      " (156, 'Janette', 'SA_REP'),\n",
      " (157, 'Patrick', 'SA_REP'),\n",
      " (158, 'Allan', 'SA_REP'),\n",
      " (159, 'Lindsey', 'SA_REP'),\n",
      " (160, 'Louise', 'SA_REP'),\n",
      " (161, 'Sarath', 'SA_REP'),\n",
      " (162, 'Clara', 'SA_REP'),\n",
      " (163, 'Danielle', 'SA_REP'),\n",
      " (164, 'Mattea', 'SA_REP'),\n",
      " (165, 'David', 'SA_REP'),\n",
      " (166, 'Sundar', 'SA_REP'),\n",
      " (167, 'Amit', 'SA_REP'),\n",
      " (168, 'Lisa', 'SA_REP'),\n",
      " (169, 'Harrison', 'SA_REP'),\n",
      " (170, 'Tayler', 'SA_REP'),\n",
      " (171, 'William', 'SA_REP'),\n",
      " (172, 'Elizabeth', 'SA_REP'),\n",
      " (173, 'Sundita', 'SA_REP'),\n",
      " (174, 'Ellen', 'SA_REP'),\n",
      " (175, 'Alyssa', 'SA_REP'),\n",
      " (176, 'Jonathon', 'SA_REP'),\n",
      " (177, 'Jack', 'SA_REP'),\n",
      " (178, 'Kimberely', 'SA_REP'),\n",
      " (179, 'Charles', 'SA_REP'),\n",
      " (180, 'Winston', 'SH_CLERK'),\n",
      " (181, 'Jean', 'SH_CLERK'),\n",
      " (182, 'Martha', 'SH_CLERK'),\n",
      " (183, 'Girard', 'SH_CLERK'),\n",
      " (184, 'Nandita', 'SH_CLERK'),\n",
      " (185, 'Alexis', 'SH_CLERK'),\n",
      " (186, 'Julia', 'SH_CLERK'),\n",
      " (187, 'Anthony', None),\n",
      " (188, 'Kelly', 'SH_CLERK'),\n",
      " (189, 'Jennifer', 'SH_CLERK'),\n",
      " (190, 'Timothy', None),\n",
      " (191, 'Randall', None),\n",
      " (192, 'Sarah', 'SH_CLERK'),\n",
      " (193, 'Britney', 'SH_CLERK'),\n",
      " (194, 'Samuel', 'SH_CLERK'),\n",
      " (195, 'Vance', 'SH_CLERK'),\n",
      " (196, 'Alana', 'SH_CLERK'),\n",
      " (197, 'Kevin', 'SH_CLERK'),\n",
      " (198, 'Donald', 'SH_CLERK'),\n",
      " (199, 'Douglas', 'SH_CLERK'),\n",
      " (200, 'Jennifer', 'AD_ASST'),\n",
      " (201, 'Michael', 'MK_MAN'),\n",
      " (202, 'Pat', 'MK_REP'),\n",
      " (203, 'Susan', 'HR_REP'),\n",
      " (204, 'Hermann', 'PR_REP'),\n",
      " (205, 'Shelley', 'AC_MGR'),\n",
      " (206, 'William', 'AC_ACCOUNT'),\n",
      " (1500, 'g홍길동', 'FI_ACCOUNT'),\n",
      " (1000, '홍길동', 'FI_ACCOUNT'),\n",
      " (1100, '이순신', None),\n",
      " (17800, '홍동', 'FI_ACCOUNT'),\n",
      " (393, 'dan', 'IT_PROG'),\n",
      " (593, 'dan', 'IT_PROG'),\n",
      " (793, 'dan', 'IT_PROG'),\n",
      " (893, 'dan', 'IT_PROG'),\n",
      " (993, 'dan', 'IT_PROG')]\n"
     ]
    }
   ],
   "source": [
    "#sql문 : 문자열로 작성. 대소문자 구분 안한다.//(sql의 keyword들은 보통 대문자로 작성, 컬럼명/테이블명은 소문자 *가독성 위해서)\n",
    "#     :\"\" ';' 은 뒤에 붙이지 않는다. \"\"\n",
    "\n",
    "select_sql = \"SELECT emp_id, emp_name, job_id FROM emp\"  # 디벨로퍼에서 작성해서 결과 확인후 하는게 편함 \n",
    "insert_sql = \"INSERT INTO emp VALUES (1500, 'g홍길동' , 'FI_ACCOUNT', 101, to_date('2021/02/15','yyyy/mm/dd'), 30000, 0.2, 100)\"  #sql 문과 똑같이 작성한다고 생각하면됨\n",
    "# 날짜 문자열이기 때문에 는 to_date로 해야한다.\n",
    "\n",
    "\n",
    "conn = None  # connection을 대입할 변수 \n",
    "cusor= None # cusor 객체를 대힙할 변수 \n",
    "\n",
    "#insert 후에 select문을 조회 할것이다.\n",
    "# 연결 -> cursor 객체 생성-> cursor실행(execute) -> 조회결과 -> conn.commit -> 연결닫기 cursor.close()/con.close()\n",
    "\n",
    "try:\n",
    "    #1 연결\n",
    "    conn= cx_Oracle.connect(\"c##scott_join/tiger@localhost:1521/XE\")\n",
    "    print('연결 완료')\n",
    "    #2. cusor  객체 생성\n",
    "    cursor = conn.cursor()\n",
    "    #3.sql 실행\n",
    "    cursor.execute(insert_sql)\n",
    "    cursor.execute(select_sql)\n",
    "    #4. select 조회 결과\n",
    "    result = cursor.fetchall() #조회결과 한번에 반환. 한행 = tuple , 여러행 =  여러행의tuple 을 list로 묶어서 반환 \n",
    "    print(type(result),type(result[0]))\n",
    "    \n",
    "    print(len(result))   #115 였는데 116으로 늘어남\n",
    "    pprint(result)  # pprint 썻을때\n",
    "    #5. insert/update/delete 를 실행한경우 commit 처리 \n",
    "    conn.commit() # 커밋을 안하면 데이터에는 추가가 안됨// 그냥 조회는 가능하지만 \n",
    "except Exception as e:\n",
    "    print(e)\n",
    "    \n",
    "finally:\n",
    "    #6. 연결 닫기 . - cursor/connect  다 끊기 \n",
    "    if cursor !=None:\n",
    "        cursor.close()\n",
    "    if conn != None:  # None이 아니면 연결이 되서 conn에 connect 객체가 있을것이니까 ==None 이면 \n",
    "        conn.close()\n",
    "    "
   ]
  },
  {
   "cell_type": "code",
   "execution_count": 31,
   "metadata": {
    "collapsed": true
   },
   "outputs": [
    {
     "name": "stdout",
     "output_type": "stream",
     "text": [
      "[(100, 'Steven', None),\n",
      " (101, 'Neena', 'AD_VP'),\n",
      " (102, 'Lex', 'AD_VP'),\n",
      " (103, 'Alexander', 'IT_PROG'),\n",
      " (104, 'Bruce', 'IT_PROG'),\n",
      " (105, 'David', 'IT_PROG'),\n",
      " (106, 'Valli', 'IT_PROG'),\n",
      " (107, 'Diana', 'IT_PROG'),\n",
      " (108, 'Nancy', 'FI_MGR'),\n",
      " (109, 'Daniel', 'FI_ACCOUNT'),\n",
      " (110, 'John', 'FI_ACCOUNT'),\n",
      " (111, 'Ismael', 'FI_ACCOUNT'),\n",
      " (112, 'Jose Manuel', 'FI_ACCOUNT'),\n",
      " (113, 'Luis', 'FI_ACCOUNT'),\n",
      " (114, 'Den', 'PU_MAN'),\n",
      " (115, 'Alexander', 'PU_MAN'),\n",
      " (116, 'Shelli', 'PU_CLERK'),\n",
      " (117, 'Sigal', 'PU_CLERK'),\n",
      " (118, 'Guy', 'PU_CLERK'),\n",
      " (119, 'Karen', 'PU_CLERK'),\n",
      " (120, 'Matthew', 'ST_MAN'),\n",
      " (121, 'Adam', 'ST_MAN'),\n",
      " (122, 'Payam', 'ST_MAN'),\n",
      " (123, 'Shanta', 'ST_MAN'),\n",
      " (124, 'Kevin', 'ST_MAN'),\n",
      " (125, 'Julia', 'ST_CLERK'),\n",
      " (126, 'Irene', 'ST_CLERK'),\n",
      " (127, 'James', 'ST_CLERK'),\n",
      " (128, 'Steven', 'ST_CLERK'),\n",
      " (129, 'Laura', 'ST_CLERK'),\n",
      " (130, 'Mozhe', None),\n",
      " (131, 'James', None),\n",
      " (132, 'TJ', 'ST_CLERK'),\n",
      " (133, 'Jason', 'ST_CLERK'),\n",
      " (134, 'Michael', 'ST_CLERK'),\n",
      " (135, 'Ki', 'ST_CLERK'),\n",
      " (136, 'Hazel', 'ST_CLERK'),\n",
      " (137, 'Renske', 'ST_CLERK'),\n",
      " (138, 'Stephen', 'ST_CLERK'),\n",
      " (139, 'John', 'ST_CLERK'),\n",
      " (140, 'Joshua', None),\n",
      " (141, 'Trenna', 'ST_CLERK'),\n",
      " (142, 'Curtis', 'ST_CLERK'),\n",
      " (143, 'Randall', 'ST_CLERK'),\n",
      " (144, 'Peter', 'ST_CLERK'),\n",
      " (145, 'John', 'SA_MAN'),\n",
      " (146, 'Karen', 'SA_MAN'),\n",
      " (147, 'Alberto', 'SA_MAN'),\n",
      " (148, 'Gerald', 'SA_MAN'),\n",
      " (149, 'Eleni', 'SA_MAN'),\n",
      " (150, 'Peter', 'SA_REP'),\n",
      " (151, 'David', 'SA_REP'),\n",
      " (152, 'Peter', 'SA_REP'),\n",
      " (153, 'Christopher', 'SA_REP'),\n",
      " (154, 'Nanette', 'SA_REP'),\n",
      " (155, 'Oliver', 'SA_REP'),\n",
      " (156, 'Janette', 'SA_REP'),\n",
      " (157, 'Patrick', 'SA_REP'),\n",
      " (158, 'Allan', 'SA_REP'),\n",
      " (159, 'Lindsey', 'SA_REP'),\n",
      " (160, 'Louise', 'SA_REP'),\n",
      " (161, 'Sarath', 'SA_REP'),\n",
      " (162, 'Clara', 'SA_REP'),\n",
      " (163, 'Danielle', 'SA_REP'),\n",
      " (164, 'Mattea', 'SA_REP'),\n",
      " (165, 'David', 'SA_REP'),\n",
      " (166, 'Sundar', 'SA_REP'),\n",
      " (167, 'Amit', 'SA_REP'),\n",
      " (168, 'Lisa', 'SA_REP'),\n",
      " (169, 'Harrison', 'SA_REP'),\n",
      " (170, 'Tayler', 'SA_REP'),\n",
      " (171, 'William', 'SA_REP'),\n",
      " (172, 'Elizabeth', 'SA_REP'),\n",
      " (173, 'Sundita', 'SA_REP'),\n",
      " (174, 'Ellen', 'SA_REP'),\n",
      " (175, 'Alyssa', 'SA_REP'),\n",
      " (176, 'Jonathon', 'SA_REP'),\n",
      " (177, 'Jack', 'SA_REP'),\n",
      " (178, 'Kimberely', 'SA_REP'),\n",
      " (179, 'Charles', 'SA_REP'),\n",
      " (180, 'Winston', 'SH_CLERK'),\n",
      " (181, 'Jean', 'SH_CLERK'),\n",
      " (182, 'Martha', 'SH_CLERK'),\n",
      " (183, 'Girard', 'SH_CLERK'),\n",
      " (184, 'Nandita', 'SH_CLERK'),\n",
      " (185, 'Alexis', 'SH_CLERK'),\n",
      " (186, 'Julia', 'SH_CLERK'),\n",
      " (187, 'Anthony', None),\n",
      " (188, 'Kelly', 'SH_CLERK'),\n",
      " (189, 'Jennifer', 'SH_CLERK'),\n",
      " (190, 'Timothy', None),\n",
      " (191, 'Randall', None),\n",
      " (192, 'Sarah', 'SH_CLERK'),\n",
      " (193, 'Britney', 'SH_CLERK'),\n",
      " (194, 'Samuel', 'SH_CLERK'),\n",
      " (195, 'Vance', 'SH_CLERK'),\n",
      " (196, 'Alana', 'SH_CLERK'),\n",
      " (197, 'Kevin', 'SH_CLERK'),\n",
      " (198, 'Donald', 'SH_CLERK'),\n",
      " (199, 'Douglas', 'SH_CLERK'),\n",
      " (200, 'Jennifer', 'AD_ASST'),\n",
      " (201, 'Michael', 'MK_MAN'),\n",
      " (202, 'Pat', 'MK_REP'),\n",
      " (203, 'Susan', 'HR_REP'),\n",
      " (204, 'Hermann', 'PR_REP'),\n",
      " (205, 'Shelley', 'AC_MGR'),\n",
      " (206, 'William', 'AC_ACCOUNT'),\n",
      " (1500, 'g홍길동', 'FI_ACCOUNT'),\n",
      " (1000, '홍길동', 'FI_ACCOUNT'),\n",
      " (1100, '이순신', None),\n",
      " (17800, '홍동', 'FI_ACCOUNT'),\n",
      " (393, 'dan', 'IT_PROG'),\n",
      " (593, 'dan', 'IT_PROG'),\n",
      " (793, 'dan', 'IT_PROG'),\n",
      " (893, 'dan', 'IT_PROG'),\n",
      " (993, 'dan', 'IT_PROG')]\n"
     ]
    }
   ],
   "source": [
    "pprint(result) #하면 조회했던 값을 계속 사용"
   ]
  },
  {
   "cell_type": "code",
   "execution_count": null,
   "metadata": {},
   "outputs": [],
   "source": []
  },
  {
   "cell_type": "markdown",
   "metadata": {
    "slideshow": {
     "slide_type": "slide"
    }
   },
   "source": [
    "## placeholder(자리표시자)를 이용해 sql 실행\n",
    "- SQL에 값이 들어갈 자리에 값을 대신할 문자 **`:순번` 또는 `:이름`** 를 넣고 SQL 실행시 값을 전달\n",
    "> placehold 는 DBMS마다 다르다. \n",
    "- execute(SQL, placeholder에 들어갈 값)\n",
    "    - 딕셔너리: placeholder의 이름-값 형식\n",
    "    - 리스트나 튜플: placeholder 순서"
   ]
  },
  {
   "cell_type": "code",
   "execution_count": 32,
   "metadata": {},
   "outputs": [],
   "source": [
    "import cx_Oracle\n",
    "from pprint import pprint"
   ]
  },
  {
   "cell_type": "code",
   "execution_count": null,
   "metadata": {},
   "outputs": [],
   "source": []
  },
  {
   "cell_type": "code",
   "execution_count": 40,
   "metadata": {
    "collapsed": true
   },
   "outputs": [
    {
     "name": "stdout",
     "output_type": "stream",
     "text": [
      "[(101,\n",
      "  'Neena',\n",
      "  'AD_VP',\n",
      "  100,\n",
      "  datetime.datetime(2005, 9, 21, 0, 0),\n",
      "  17000.0,\n",
      "  None,\n",
      "  90),\n",
      " (102,\n",
      "  'Lex',\n",
      "  'AD_VP',\n",
      "  100,\n",
      "  datetime.datetime(2001, 1, 13, 0, 0),\n",
      "  17000.0,\n",
      "  None,\n",
      "  90),\n",
      " (104,\n",
      "  'Bruce',\n",
      "  'IT_PROG',\n",
      "  103,\n",
      "  datetime.datetime(2007, 5, 21, 0, 0),\n",
      "  18000.0,\n",
      "  None,\n",
      "  60),\n",
      " (109,\n",
      "  'Daniel',\n",
      "  'FI_ACCOUNT',\n",
      "  108,\n",
      "  datetime.datetime(2002, 8, 16, 0, 0),\n",
      "  18000.0,\n",
      "  None,\n",
      "  100),\n",
      " (110,\n",
      "  'John',\n",
      "  'FI_ACCOUNT',\n",
      "  108,\n",
      "  datetime.datetime(2005, 9, 28, 0, 0),\n",
      "  16400.0,\n",
      "  None,\n",
      "  100),\n",
      " (111,\n",
      "  'Ismael',\n",
      "  'FI_ACCOUNT',\n",
      "  108,\n",
      "  datetime.datetime(2005, 9, 30, 0, 0),\n",
      "  15400.0,\n",
      "  None,\n",
      "  100),\n",
      " (112,\n",
      "  'Jose Manuel',\n",
      "  'FI_ACCOUNT',\n",
      "  108,\n",
      "  datetime.datetime(2006, 3, 7, 0, 0),\n",
      "  15600.0,\n",
      "  None,\n",
      "  100)]\n",
      "15000~20000 사이 salary 조회\n",
      "[(116,\n",
      "  'Shelli',\n",
      "  'PU_CLERK',\n",
      "  114,\n",
      "  datetime.datetime(2005, 12, 24, 0, 0),\n",
      "  2900.0,\n",
      "  None,\n",
      "  30),\n",
      " (117,\n",
      "  'Sigal',\n",
      "  'PU_CLERK',\n",
      "  114,\n",
      "  datetime.datetime(2005, 7, 24, 0, 0),\n",
      "  2800.0,\n",
      "  None,\n",
      "  30),\n",
      " (118,\n",
      "  'Guy',\n",
      "  'PU_CLERK',\n",
      "  114,\n",
      "  datetime.datetime(2006, 11, 15, 0, 0),\n",
      "  2600.0,\n",
      "  None,\n",
      "  30),\n",
      " (119,\n",
      "  'Karen',\n",
      "  'PU_CLERK',\n",
      "  114,\n",
      "  datetime.datetime(2007, 8, 10, 0, 0),\n",
      "  2500.0,\n",
      "  None,\n",
      "  30),\n",
      " (126,\n",
      "  'Irene',\n",
      "  'ST_CLERK',\n",
      "  120,\n",
      "  datetime.datetime(2006, 9, 28, 0, 0),\n",
      "  2700.0,\n",
      "  None,\n",
      "  50),\n",
      " (127,\n",
      "  'James',\n",
      "  'ST_CLERK',\n",
      "  120,\n",
      "  datetime.datetime(2007, 1, 14, 0, 0),\n",
      "  2400.0,\n",
      "  None,\n",
      "  50),\n",
      " (128,\n",
      "  'Steven',\n",
      "  'ST_CLERK',\n",
      "  120,\n",
      "  datetime.datetime(2008, 3, 8, 0, 0),\n",
      "  2200.0,\n",
      "  None,\n",
      "  50),\n",
      " (130,\n",
      "  'Mozhe',\n",
      "  None,\n",
      "  121,\n",
      "  datetime.datetime(2005, 7, 16, 0, 0),\n",
      "  2800.0,\n",
      "  None,\n",
      "  50),\n",
      " (131,\n",
      "  'James',\n",
      "  None,\n",
      "  121,\n",
      "  datetime.datetime(2005, 2, 16, 0, 0),\n",
      "  2500.0,\n",
      "  None,\n",
      "  50),\n",
      " (132,\n",
      "  'TJ',\n",
      "  'ST_CLERK',\n",
      "  121,\n",
      "  datetime.datetime(2007, 4, 10, 0, 0),\n",
      "  2100.0,\n",
      "  None,\n",
      "  50),\n",
      " (134,\n",
      "  'Michael',\n",
      "  'ST_CLERK',\n",
      "  122,\n",
      "  datetime.datetime(2006, 8, 26, 0, 0),\n",
      "  2900.0,\n",
      "  None,\n",
      "  50),\n",
      " (135,\n",
      "  'Ki',\n",
      "  'ST_CLERK',\n",
      "  122,\n",
      "  datetime.datetime(2007, 12, 12, 0, 0),\n",
      "  2400.0,\n",
      "  None,\n",
      "  50),\n",
      " (136,\n",
      "  'Hazel',\n",
      "  'ST_CLERK',\n",
      "  122,\n",
      "  datetime.datetime(2008, 2, 6, 0, 0),\n",
      "  2200.0,\n",
      "  None,\n",
      "  50),\n",
      " (139,\n",
      "  'John',\n",
      "  'ST_CLERK',\n",
      "  123,\n",
      "  datetime.datetime(2008, 2, 6, 0, 0),\n",
      "  2700.0,\n",
      "  None,\n",
      "  50),\n",
      " (140,\n",
      "  'Joshua',\n",
      "  None,\n",
      "  123,\n",
      "  datetime.datetime(2008, 2, 6, 0, 0),\n",
      "  2500.0,\n",
      "  None,\n",
      "  50),\n",
      " (143,\n",
      "  'Randall',\n",
      "  'ST_CLERK',\n",
      "  124,\n",
      "  datetime.datetime(2006, 3, 15, 0, 0),\n",
      "  2600.0,\n",
      "  None,\n",
      "  50),\n",
      " (144,\n",
      "  'Peter',\n",
      "  'ST_CLERK',\n",
      "  124,\n",
      "  datetime.datetime(2006, 7, 9, 0, 0),\n",
      "  2500.0,\n",
      "  None,\n",
      "  50),\n",
      " (182,\n",
      "  'Martha',\n",
      "  'SH_CLERK',\n",
      "  120,\n",
      "  datetime.datetime(2007, 6, 21, 0, 0),\n",
      "  2500.0,\n",
      "  None,\n",
      "  50),\n",
      " (183,\n",
      "  'Girard',\n",
      "  'SH_CLERK',\n",
      "  120,\n",
      "  datetime.datetime(2008, 2, 3, 0, 0),\n",
      "  2800.0,\n",
      "  None,\n",
      "  None),\n",
      " (187,\n",
      "  'Anthony',\n",
      "  None,\n",
      "  121,\n",
      "  datetime.datetime(2007, 2, 7, 0, 0),\n",
      "  3000.0,\n",
      "  None,\n",
      "  50),\n",
      " (190,\n",
      "  'Timothy',\n",
      "  None,\n",
      "  122,\n",
      "  datetime.datetime(2006, 7, 11, 0, 0),\n",
      "  2900.0,\n",
      "  None,\n",
      "  50),\n",
      " (191,\n",
      "  'Randall',\n",
      "  None,\n",
      "  122,\n",
      "  datetime.datetime(2007, 6, 21, 0, 0),\n",
      "  2500.0,\n",
      "  None,\n",
      "  50),\n",
      " (195,\n",
      "  'Vance',\n",
      "  'SH_CLERK',\n",
      "  123,\n",
      "  datetime.datetime(2007, 6, 21, 0, 0),\n",
      "  2800.0,\n",
      "  None,\n",
      "  50),\n",
      " (197,\n",
      "  'Kevin',\n",
      "  'SH_CLERK',\n",
      "  124,\n",
      "  datetime.datetime(2006, 5, 23, 0, 0),\n",
      "  3000.0,\n",
      "  None,\n",
      "  50),\n",
      " (198,\n",
      "  'Donald',\n",
      "  'SH_CLERK',\n",
      "  124,\n",
      "  datetime.datetime(2007, 6, 21, 0, 0),\n",
      "  2600.0,\n",
      "  None,\n",
      "  50),\n",
      " (199,\n",
      "  'Douglas',\n",
      "  'SH_CLERK',\n",
      "  124,\n",
      "  datetime.datetime(2007, 6, 21, 0, 0),\n",
      "  2600.0,\n",
      "  None,\n",
      "  50),\n",
      " (393,\n",
      "  'dan',\n",
      "  'IT_PROG',\n",
      "  None,\n",
      "  datetime.datetime(2011, 2, 23, 0, 0),\n",
      "  2384.0,\n",
      "  None,\n",
      "  None),\n",
      " (593,\n",
      "  'dan',\n",
      "  'IT_PROG',\n",
      "  None,\n",
      "  datetime.datetime(2011, 2, 23, 0, 0),\n",
      "  2384.0,\n",
      "  None,\n",
      "  None),\n",
      " (793,\n",
      "  'dan',\n",
      "  'IT_PROG',\n",
      "  None,\n",
      "  datetime.datetime(2011, 2, 23, 0, 0),\n",
      "  2384.0,\n",
      "  None,\n",
      "  None),\n",
      " (893,\n",
      "  'dan',\n",
      "  'IT_PROG',\n",
      "  None,\n",
      "  datetime.datetime(2011, 2, 23, 0, 0),\n",
      "  2384.0,\n",
      "  None,\n",
      "  None),\n",
      " (993,\n",
      "  'dan',\n",
      "  'IT_PROG',\n",
      "  None,\n",
      "  datetime.datetime(2011, 2, 23, 0, 0),\n",
      "  2384.0,\n",
      "  None,\n",
      "  None)]\n"
     ]
    }
   ],
   "source": [
    "#select_sql = \"SELECT * FROM emp WHERE salary BETWEEN 10000 AND 20000\"\n",
    "select_sql = \"SELECT * FROM emp WHERE salary BETWEEN :1 AND :2\"  # 순번\n",
    "#insert_sql = \"INSERT INTO emp VALUES(:1,:2,:3,:4,:5)\"\n",
    "insert_sql = \"INSERT INTO emp VALUES(:id, :name, :job_id, :mgr_id, to_date(:hire_date, 'yyyymmdd'), :salary, :comm_pct, :dept_id)\"\n",
    "## dictionary 형태로 \n",
    "\n",
    "conn = None\n",
    "cursor = None\n",
    "\n",
    "try:\n",
    "    conn = cx_Oracle.connect(\"c##scott_join/tiger@localhost:1521/XE\")\n",
    "    cursor= conn.cursor()\n",
    "    # sql 문 실행\n",
    "    \n",
    "# varchar/char/nvarchar/nchar   - 문자열\n",
    "# number (정수/ 실수) - int/ double\n",
    "# date : datetime 객체   -- 아직 안배움  #datetime.datetime(2005, 9, 21, 0, 0)\n",
    "# null : None \n",
    "\n",
    "    param_dict = {\n",
    "        'id' : 2000,\n",
    "        'name' :'이순신',\n",
    "        'job_id':'FI_ACCOUNT',\n",
    "        'mgr_id':101,\n",
    "        'hire_date':'20210215',\n",
    "        'salary': 1999,  # 실수일때는 정수 넣어도 무관하다.\n",
    "        'comm_pct':None,\n",
    "        'dept_id': 110\n",
    "    }\n",
    "    \n",
    "    #insert 에 들어갈 값을 줌\n",
    "    cursor.execute(insert_sql, param_dict)\n",
    "    \n",
    "    \n",
    "    \n",
    "    cursor.execute(select_sql, [15000,20000])\n",
    "    result1= cursor.fetchall()\n",
    "    pprint(result1)\n",
    "    \n",
    "    cursor.execute(select_sql, [2000,3000])\n",
    "    result2= cursor.fetchall()\n",
    "    print(\"15000~20000 사이 salary 조회\")\n",
    "    pprint(result2)\n",
    "    \n",
    "    \n",
    "    conn.commit()\n",
    "except Exception as e:\n",
    "    print(e)\n",
    "    \n",
    "finally:\n",
    "    if cursor:\n",
    "        cursor.close()\n",
    "    if conn:\n",
    "        conn.close()"
   ]
  },
  {
   "cell_type": "markdown",
   "metadata": {
    "slideshow": {
     "slide_type": "slide"
    }
   },
   "source": [
    "## SELECT  결과 조회\n",
    "\n",
    "### fetchone()\n",
    "- 조회결과 한행씩 반환한다.\n",
    "- PK로 조회시 사용한다.   ex) emp_id 가 100 인 직원 찾을때\n",
    "- 반환 type: tuple\n"
   ]
  },
  {
   "cell_type": "markdown",
   "metadata": {
    "slideshow": {
     "slide_type": "fragment"
    }
   },
   "source": [
    "### fetchall()\n",
    "- 조회한 전체 결과셋을 반환한다.\n",
    "- 한 row를 Tuple로 묶고 그 Tuple들을 List로 묶어서 반환한다.  \n",
    "- fetchone pk 일때 쓰지만 all 써도 된다 하지만 결과에서 인덱스로 필요값을 갖고 올때 불편하다. r[0][1]   이런식으로 \n",
    "-"
   ]
  },
  {
   "cell_type": "markdown",
   "metadata": {
    "slideshow": {
     "slide_type": "fragment"
    }
   },
   "source": [
    "### fetchmany(n)\n",
    "- n 행씩 조회할 때 사용\n",
    "- n 기본값 100        \n",
    "- 원하는 행수 만큼 본다. page 개념으로 생각 "
   ]
  },
  {
   "cell_type": "code",
   "execution_count": 19,
   "metadata": {},
   "outputs": [],
   "source": [
    "# emp_id(PK)로 직원 정보 조회\n",
    "def select_emp_by_id(emp_id):\n",
    "    sql = \"SELECT * FROM emp WHERE emp_id =:1\"    ## 플레이스 홀더라서 리스트로 넣어야함 하나라도 \n",
    "    #conn, cursor = None,None \n",
    "    with cx_Oracle.connect('c##scott_join/tiger@localhost:1521/XE') as conn:  # 연결\n",
    "        with conn.cursor() as cursor:      # 커서 객체 \n",
    "            # sql실행\n",
    "            cursor.execute(sql, [emp_id])\n",
    "            result =  cursor.fetchone()      #1행만 조회, 조회결과가 없으면 None을 반환\n",
    "            return result\n",
    "        "
   ]
  },
  {
   "cell_type": "code",
   "execution_count": 20,
   "metadata": {},
   "outputs": [
    {
     "name": "stdout",
     "output_type": "stream",
     "text": [
      "(100, 'Steven', None, 100, datetime.datetime(2003, 6, 17, 0, 0), 27000.0, 0.2, 90) id 100 이름: Steven\n",
      "id 100 이름: Steven\n"
     ]
    }
   ],
   "source": [
    "r = select_emp_by_id(100)\n",
    "if r != None:\n",
    "    print(r, \"id\",r[0],'이름:',r[1])\n",
    "    print(\"id\",r[0],'이름:',r[1])  #튜플로 반환 되었으니까 \n",
    "else:\n",
    "    print(\"조회결과 없음\")"
   ]
  },
  {
   "cell_type": "code",
   "execution_count": 76,
   "metadata": {},
   "outputs": [
    {
     "name": "stdout",
     "output_type": "stream",
     "text": [
      "조회결과 없음 None\n"
     ]
    }
   ],
   "source": [
    "r1 = select_emp_by_id(100000)\n",
    "\n",
    "#if r1 != None:\n",
    "if r1:            #넌이면 false 니까\n",
    "    print(r1)\n",
    "else:\n",
    "    print(\"조회결과 없음\",r1)\n"
   ]
  },
  {
   "cell_type": "code",
   "execution_count": 63,
   "metadata": {
    "collapsed": true
   },
   "outputs": [
    {
     "name": "stdout",
     "output_type": "stream",
     "text": [
      "10\n",
      "[(100, 'Steven', None, 100, datetime.datetime(2003, 6, 17, 0, 0), 27000.0, 0.2, 90), (101, 'Neena', 'AD_VP', 100, datetime.datetime(2005, 9, 21, 0, 0), 17000.0, None, 90), (102, 'Lex', 'AD_VP', 100, datetime.datetime(2001, 1, 13, 0, 0), 17000.0, None, 90), (103, 'Alexander', 'IT_PROG', 102, datetime.datetime(2006, 1, 3, 0, 0), 27000.0, None, 60), (104, 'Bruce', 'IT_PROG', 103, datetime.datetime(2007, 5, 21, 0, 0), 18000.0, None, 60), (105, 'David', 'IT_PROG', 103, datetime.datetime(2005, 6, 25, 0, 0), 14400.0, None, 60), (106, 'Valli', 'IT_PROG', 103, datetime.datetime(2006, 2, 5, 0, 0), 14400.0, None, 60), (107, 'Diana', 'IT_PROG', 103, datetime.datetime(2007, 2, 7, 0, 0), 12600.0, None, 60), (108, 'Nancy', 'FI_MGR', 101, datetime.datetime(2002, 8, 17, 0, 0), 24016.0, None, 100), (109, 'Daniel', 'FI_ACCOUNT', 108, datetime.datetime(2002, 8, 16, 0, 0), 18000.0, None, 100)]\n",
      "10\n",
      "[(110, 'John', 'FI_ACCOUNT', 108, datetime.datetime(2005, 9, 28, 0, 0), 16400.0, None, 100), (111, 'Ismael', 'FI_ACCOUNT', 108, datetime.datetime(2005, 9, 30, 0, 0), 15400.0, None, 100), (112, 'Jose Manuel', 'FI_ACCOUNT', 108, datetime.datetime(2006, 3, 7, 0, 0), 15600.0, None, 100), (113, 'Luis', 'FI_ACCOUNT', 108, datetime.datetime(2007, 12, 7, 0, 0), 13800.0, None, 100), (114, 'Den', 'PU_MAN', 100, datetime.datetime(2002, 12, 7, 0, 0), 11000.0, None, 30), (115, 'Alexander', 'PU_MAN', 100, datetime.datetime(2003, 5, 18, 0, 0), 9100.0, None, 30), (116, 'Shelli', 'PU_CLERK', 114, datetime.datetime(2005, 12, 24, 0, 0), 2900.0, None, 30), (117, 'Sigal', 'PU_CLERK', 114, datetime.datetime(2005, 7, 24, 0, 0), 2800.0, None, 30), (118, 'Guy', 'PU_CLERK', 114, datetime.datetime(2006, 11, 15, 0, 0), 2600.0, None, 30), (119, 'Karen', 'PU_CLERK', 114, datetime.datetime(2007, 8, 10, 0, 0), 2500.0, None, 30)]\n",
      "10\n",
      "[(120, 'Matthew', 'ST_MAN', 100, datetime.datetime(2004, 7, 18, 0, 0), 8000.0, None, 50), (121, 'Adam', 'ST_MAN', 100, datetime.datetime(2004, 7, 18, 0, 0), 8200.0, None, 50), (122, 'Payam', 'ST_MAN', 100, datetime.datetime(2003, 5, 1, 0, 0), 7900.0, None, 50), (123, 'Shanta', 'ST_MAN', 100, datetime.datetime(2005, 10, 10, 0, 0), 6500.0, None, 50), (124, 'Kevin', 'ST_MAN', 100, datetime.datetime(2007, 11, 16, 0, 0), 5800.0, None, 50), (125, 'Julia', 'ST_CLERK', 120, datetime.datetime(2005, 7, 16, 0, 0), 3200.0, None, 50), (126, 'Irene', 'ST_CLERK', 120, datetime.datetime(2006, 9, 28, 0, 0), 2700.0, None, 50), (127, 'James', 'ST_CLERK', 120, datetime.datetime(2007, 1, 14, 0, 0), 2400.0, None, 50), (128, 'Steven', 'ST_CLERK', 120, datetime.datetime(2008, 3, 8, 0, 0), 2200.0, None, 50), (129, 'Laura', 'ST_CLERK', 121, datetime.datetime(2005, 7, 16, 0, 0), 3300.0, None, 50)]\n",
      "20\n",
      "[(130, 'Mozhe', None, 121, datetime.datetime(2005, 7, 16, 0, 0), 2800.0, None, 50), (131, 'James', None, 121, datetime.datetime(2005, 2, 16, 0, 0), 2500.0, None, 50), (132, 'TJ', 'ST_CLERK', 121, datetime.datetime(2007, 4, 10, 0, 0), 2100.0, None, 50), (133, 'Jason', 'ST_CLERK', 122, datetime.datetime(2004, 6, 14, 0, 0), 3300.0, None, 50), (134, 'Michael', 'ST_CLERK', 122, datetime.datetime(2006, 8, 26, 0, 0), 2900.0, None, 50), (135, 'Ki', 'ST_CLERK', 122, datetime.datetime(2007, 12, 12, 0, 0), 2400.0, None, 50), (136, 'Hazel', 'ST_CLERK', 122, datetime.datetime(2008, 2, 6, 0, 0), 2200.0, None, 50), (137, 'Renske', 'ST_CLERK', 123, datetime.datetime(2003, 7, 14, 0, 0), 3600.0, None, 50), (138, 'Stephen', 'ST_CLERK', 123, datetime.datetime(2005, 10, 26, 0, 0), 3200.0, None, 50), (139, 'John', 'ST_CLERK', 123, datetime.datetime(2008, 2, 6, 0, 0), 2700.0, None, 50), (140, 'Joshua', None, 123, datetime.datetime(2008, 2, 6, 0, 0), 2500.0, None, 50), (141, 'Trenna', 'ST_CLERK', 124, datetime.datetime(2003, 10, 17, 0, 0), 3500.0, None, 50), (142, 'Curtis', 'ST_CLERK', 124, datetime.datetime(2005, 1, 29, 0, 0), 3100.0, None, 50), (143, 'Randall', 'ST_CLERK', 124, datetime.datetime(2006, 3, 15, 0, 0), 2600.0, None, 50), (144, 'Peter', 'ST_CLERK', 124, datetime.datetime(2006, 7, 9, 0, 0), 2500.0, None, 50), (145, 'John', 'SA_MAN', 100, datetime.datetime(2004, 10, 1, 0, 0), 14000.0, 0.4, 80), (146, 'Karen', 'SA_MAN', 100, datetime.datetime(2004, 10, 1, 0, 0), 13500.0, 0.3, 80), (147, 'Alberto', 'SA_MAN', 100, datetime.datetime(2005, 3, 10, 0, 0), 12000.0, 0.3, 80), (148, 'Gerald', 'SA_MAN', 100, datetime.datetime(2007, 10, 15, 0, 0), 11000.0, 0.3, 80), (149, 'Eleni', 'SA_MAN', 100, datetime.datetime(2007, 10, 15, 0, 0), 10500.0, 0.2, 80)]\n"
     ]
    }
   ],
   "source": [
    "sql = \"SELECT * FROM emp order by emp_id\"\n",
    "with cx_Oracle.connect('c##scott_join/tiger@localhost:1521/XE') as conn:\n",
    "    with conn.cursor() as cursor:\n",
    "        cursor.execute(sql)\n",
    "        result = cursor.fetchmany(10)\n",
    "        print(len(result))\n",
    "        print(result)  # 이구문을 반복 하면 10개씩 계속 조회한다.\n",
    "        \n",
    "        result = cursor.fetchmany(10)\n",
    "        print(len(result))\n",
    "        print(result)  # 첫번째꺼 10개 다음번 부터 10개씩 계속 조회한다.\n",
    "        \n",
    "        result = cursor.fetchmany(10)\n",
    "        print(len(result))\n",
    "        print(result)\n",
    "        \n",
    "        result = cursor.fetchmany(20)\n",
    "        print(len(result))\n",
    "        print(result)  # 반복문으로 돌리는 것도 가능!"
   ]
  },
  {
   "cell_type": "code",
   "execution_count": null,
   "metadata": {},
   "outputs": [],
   "source": []
  },
  {
   "cell_type": "code",
   "execution_count": null,
   "metadata": {},
   "outputs": [],
   "source": []
  },
  {
   "cell_type": "code",
   "execution_count": 7,
   "metadata": {},
   "outputs": [],
   "source": [
    "from pprint import pprint"
   ]
  },
  {
   "cell_type": "markdown",
   "metadata": {},
   "source": [
    "### cursor를 for in 문을 이용해 select결과 조회\n",
    "- select후 cursor는 Iterable 한 객체.\n",
    "- cursor는 반복시마다 조회한 한행을 반환."
   ]
  },
  {
   "cell_type": "code",
   "execution_count": 69,
   "metadata": {
    "collapsed": true
   },
   "outputs": [
    {
     "name": "stdout",
     "output_type": "stream",
     "text": [
      "1. (100, 'Steven', None, 100, datetime.datetime(2003, 6, 17, 0, 0), 27000.0, 0.2, 90)\n",
      "2. (145, 'John', 'SA_MAN', 100, datetime.datetime(2004, 10, 1, 0, 0), 14000.0, 0.4, 80)\n",
      "3. (146, 'Karen', 'SA_MAN', 100, datetime.datetime(2004, 10, 1, 0, 0), 13500.0, 0.3, 80)\n",
      "4. (147, 'Alberto', 'SA_MAN', 100, datetime.datetime(2005, 3, 10, 0, 0), 12000.0, 0.3, 80)\n",
      "5. (148, 'Gerald', 'SA_MAN', 100, datetime.datetime(2007, 10, 15, 0, 0), 11000.0, 0.3, 80)\n",
      "6. (149, 'Eleni', 'SA_MAN', 100, datetime.datetime(2007, 10, 15, 0, 0), 10500.0, 0.2, 80)\n",
      "7. (150, 'Peter', 'SA_REP', 145, datetime.datetime(2007, 10, 15, 0, 0), 10000.0, 0.3, 80)\n",
      "8. (151, 'David', 'SA_REP', 145, datetime.datetime(2005, 3, 24, 0, 0), 9500.0, 0.25, 80)\n",
      "9. (152, 'Peter', 'SA_REP', 145, datetime.datetime(2005, 8, 20, 0, 0), 9000.0, 0.25, 80)\n",
      "10. (153, 'Christopher', 'SA_REP', 145, datetime.datetime(2006, 3, 30, 0, 0), 8000.0, 0.2, 80)\n",
      "11. (154, 'Nanette', 'SA_REP', 145, datetime.datetime(2006, 12, 9, 0, 0), 7500.0, 0.2, 80)\n",
      "12. (155, 'Oliver', 'SA_REP', 145, datetime.datetime(2007, 11, 23, 0, 0), 7000.0, 0.15, 80)\n",
      "13. (156, 'Janette', 'SA_REP', 146, datetime.datetime(2004, 1, 30, 0, 0), 10000.0, 0.35, 80)\n",
      "14. (157, 'Patrick', 'SA_REP', 146, datetime.datetime(2004, 3, 4, 0, 0), 9500.0, 0.35, 80)\n",
      "15. (158, 'Allan', 'SA_REP', 146, datetime.datetime(2004, 8, 1, 0, 0), 9000.0, 0.35, 80)\n",
      "16. (159, 'Lindsey', 'SA_REP', 146, datetime.datetime(2005, 3, 10, 0, 0), 8000.0, 0.3, 80)\n",
      "17. (160, 'Louise', 'SA_REP', 146, datetime.datetime(2005, 12, 15, 0, 0), 7500.0, 0.3, 80)\n",
      "18. (161, 'Sarath', 'SA_REP', 146, datetime.datetime(2006, 11, 3, 0, 0), 7000.0, 0.25, 80)\n",
      "19. (162, 'Clara', 'SA_REP', 147, datetime.datetime(2005, 11, 11, 0, 0), 10500.0, 0.25, 80)\n",
      "20. (163, 'Danielle', 'SA_REP', 147, datetime.datetime(2007, 3, 19, 0, 0), 9500.0, 0.15, 80)\n",
      "21. (164, 'Mattea', 'SA_REP', 147, datetime.datetime(2008, 1, 24, 0, 0), 7200.0, 0.1, 80)\n",
      "22. (165, 'David', 'SA_REP', 147, datetime.datetime(2008, 2, 23, 0, 0), 6800.0, 0.1, 80)\n",
      "23. (166, 'Sundar', 'SA_REP', 147, datetime.datetime(2008, 3, 24, 0, 0), 6400.0, 0.1, 80)\n",
      "24. (167, 'Amit', 'SA_REP', 147, datetime.datetime(2008, 4, 21, 0, 0), 6200.0, 0.1, 80)\n",
      "25. (168, 'Lisa', 'SA_REP', 148, datetime.datetime(2005, 3, 11, 0, 0), 11500.0, 0.25, 80)\n",
      "26. (169, 'Harrison', 'SA_REP', 148, datetime.datetime(2006, 3, 23, 0, 0), 10000.0, 0.2, 80)\n",
      "27. (170, 'Tayler', 'SA_REP', 148, datetime.datetime(2006, 1, 24, 0, 0), 9600.0, 0.2, 80)\n",
      "28. (171, 'William', 'SA_REP', 148, datetime.datetime(2007, 2, 23, 0, 0), 7400.0, 0.15, 80)\n",
      "29. (172, 'Elizabeth', 'SA_REP', 148, datetime.datetime(2007, 3, 24, 0, 0), 7300.0, 0.15, 80)\n",
      "30. (173, 'Sundita', 'SA_REP', 148, datetime.datetime(2008, 4, 21, 0, 0), 6100.0, 0.1, 80)\n",
      "31. (174, 'Ellen', 'SA_REP', 149, datetime.datetime(2004, 5, 11, 0, 0), 11000.0, 0.3, 80)\n",
      "32. (175, 'Alyssa', 'SA_REP', 149, datetime.datetime(2005, 3, 19, 0, 0), 8800.0, 0.25, None)\n",
      "33. (176, 'Jonathon', 'SA_REP', 149, datetime.datetime(2006, 3, 24, 0, 0), 8600.0, 0.2, 80)\n",
      "34. (177, 'Jack', 'SA_REP', 149, datetime.datetime(2006, 4, 23, 0, 0), 8400.0, 0.2, 80)\n",
      "35. (178, 'Kimberely', 'SA_REP', 149, datetime.datetime(2007, 5, 24, 0, 0), 7000.0, 0.15, None)\n",
      "36. (179, 'Charles', 'SA_REP', 149, datetime.datetime(2008, 1, 4, 0, 0), 6200.0, 0.1, 80)\n",
      "37. (1000, '홍길동', 'FI_ACCOUNT', 100, datetime.datetime(2017, 10, 20, 0, 0), 5000.0, 0.1, 20)\n",
      "38. (1500, 'g홍길동', 'FI_ACCOUNT', 101, datetime.datetime(2021, 2, 15, 0, 0), 30000.0, 0.2, 100)\n",
      "39. (17800, '홍동', 'FI_ACCOUNT', None, datetime.datetime(2017, 1, 1, 0, 0), 5000.0, 0.1, 20)\n"
     ]
    }
   ],
   "source": [
    "sql = \"SELECT * FROM emp WHERE comm_pct IS NOT NULL ORDER BY emp_id\"\n",
    "with cx_Oracle.connect('c##scott_join/tiger@localhost:1521/XE') as conn:\n",
    "    with conn.cursor() as cursor:\n",
    "        cursor.execute(sql)  \n",
    "        #한행씩 조회해서 처리하는 경우   / cursor 가 iterable type 이다.\n",
    "        for idx,row in enumerate(cursor, start=1): # 한번 반복할때마다 cursor.fetchone()을 실행\n",
    "            print(f'{idx}. {row}')\n",
    "            \n",
    "            \n",
    "#             r = cursor.fetchone()\n",
    "#             while r != None:\n",
    "#                 print(r)\n",
    "#                 print('-------------')\n",
    "#                 r= cursor.fetchone()"
   ]
  },
  {
   "cell_type": "code",
   "execution_count": 8,
   "metadata": {
    "collapsed": true
   },
   "outputs": [
    {
     "name": "stdout",
     "output_type": "stream",
     "text": [
      "[('FI_ACCOUNT', 153198, 13927.09),\n",
      " ('AD_VP', 34000, 17000),\n",
      " ('PU_CLERK', 10800, 2700),\n",
      " ('SH_CLERK', 55900, 3288.24),\n",
      " ('HR_REP', 6500, 6500),\n",
      " ('PU_MAN', 20100, 10050),\n",
      " ('AC_MGR', 12008, 12008),\n",
      " ('ST_CLERK', 47900, 2817.65),\n",
      " ('AD_ASST', 5500, 5500),\n",
      " (None, 48200, 6025),\n",
      " ('IT_PROG', 98320, 9832),\n",
      " ('SA_MAN', 61000, 12200),\n",
      " ('AC_ACCOUNT', 8300, 8300),\n",
      " ('FI_MGR', 24016, 24016),\n",
      " ('ST_MAN', 36400, 7280),\n",
      " ('MK_MAN', 13000, 13000),\n",
      " ('SA_REP', 250500, 8350),\n",
      " ('MK_REP', 6000, 6000),\n",
      " ('PR_REP', 10000, 10000)]\n"
     ]
    }
   ],
   "source": [
    "sql = \"SELECT job_id, sum(salary), round(avg(salary),2) FROM emp GROUP BY job_id\"\n",
    "with cx_Oracle.connect('c##scott_join/tiger@localhost:1521/XE') as conn:\n",
    "    with conn.cursor() as cursor:\n",
    "        cursor.execute(sql)\n",
    "        result = cursor.fetchall()\n",
    "        pprint(result)"
   ]
  },
  {
   "cell_type": "code",
   "execution_count": 11,
   "metadata": {
    "collapsed": true
   },
   "outputs": [
    {
     "name": "stdout",
     "output_type": "stream",
     "text": [
      "[('Michael', 'Marketing'),\n",
      " ('Pat', 'Marketing'),\n",
      " ('홍길동', 'Marketing'),\n",
      " ('홍동', 'Marketing'),\n",
      " ('Den', 'Purchasing'),\n",
      " ('Alexander', 'Purchasing'),\n",
      " ('Shelli', 'Purchasing'),\n",
      " ('Sigal', 'Purchasing'),\n",
      " ('Guy', 'Purchasing'),\n",
      " ('Karen', 'Purchasing'),\n",
      " ('Susan', 'Human Resources'),\n",
      " ('Matthew', 'Shipping'),\n",
      " ('Adam', 'Shipping'),\n",
      " ('Payam', 'Shipping'),\n",
      " ('Shanta', 'Shipping'),\n",
      " ('Kevin', 'Shipping'),\n",
      " ('Julia', 'Shipping'),\n",
      " ('Irene', 'Shipping'),\n",
      " ('James', 'Shipping'),\n",
      " ('Steven', 'Shipping'),\n",
      " ('Laura', 'Shipping'),\n",
      " ('Mozhe', 'Shipping'),\n",
      " ('James', 'Shipping'),\n",
      " ('TJ', 'Shipping'),\n",
      " ('Jason', 'Shipping'),\n",
      " ('Michael', 'Shipping'),\n",
      " ('Ki', 'Shipping'),\n",
      " ('Hazel', 'Shipping'),\n",
      " ('Renske', 'Shipping'),\n",
      " ('Stephen', 'Shipping'),\n",
      " ('John', 'Shipping'),\n",
      " ('Joshua', 'Shipping'),\n",
      " ('Trenna', 'Shipping'),\n",
      " ('Curtis', 'Shipping'),\n",
      " ('Randall', 'Shipping'),\n",
      " ('Peter', 'Shipping'),\n",
      " ('Winston', 'Shipping'),\n",
      " ('Jean', 'Shipping'),\n",
      " ('Martha', 'Shipping'),\n",
      " ('Julia', 'Shipping'),\n",
      " ('Anthony', 'Shipping'),\n",
      " ('Kelly', 'Shipping'),\n",
      " ('Jennifer', 'Shipping'),\n",
      " ('Timothy', 'Shipping'),\n",
      " ('Randall', 'Shipping'),\n",
      " ('Sarah', 'Shipping'),\n",
      " ('Britney', 'Shipping'),\n",
      " ('Samuel', 'Shipping'),\n",
      " ('Vance', 'Shipping'),\n",
      " ('Alana', 'Shipping'),\n",
      " ('Kevin', 'Shipping'),\n",
      " ('Donald', 'Shipping'),\n",
      " ('Douglas', 'Shipping'),\n",
      " ('Alexander', 'IT'),\n",
      " ('Bruce', 'IT'),\n",
      " ('David', 'IT'),\n",
      " ('Valli', 'IT'),\n",
      " ('Diana', 'IT'),\n",
      " ('Hermann', 'Public Relations'),\n",
      " ('John', 'Sales'),\n",
      " ('Karen', 'Sales'),\n",
      " ('Alberto', 'Sales'),\n",
      " ('Gerald', 'Sales'),\n",
      " ('Eleni', 'Sales'),\n",
      " ('Peter', 'Sales'),\n",
      " ('David', 'Sales'),\n",
      " ('Peter', 'Sales'),\n",
      " ('Christopher', 'Sales'),\n",
      " ('Nanette', 'Sales'),\n",
      " ('Oliver', 'Sales'),\n",
      " ('Janette', 'Sales'),\n",
      " ('Patrick', 'Sales'),\n",
      " ('Allan', 'Sales'),\n",
      " ('Lindsey', 'Sales'),\n",
      " ('Louise', 'Sales'),\n",
      " ('Sarath', 'Sales'),\n",
      " ('Clara', 'Sales'),\n",
      " ('Danielle', 'Sales'),\n",
      " ('Mattea', 'Sales'),\n",
      " ('David', 'Sales'),\n",
      " ('Sundar', 'Sales'),\n",
      " ('Amit', 'Sales'),\n",
      " ('Lisa', 'Sales'),\n",
      " ('Harrison', 'Sales'),\n",
      " ('Tayler', 'Sales'),\n",
      " ('William', 'Sales'),\n",
      " ('Elizabeth', 'Sales'),\n",
      " ('Sundita', 'Sales'),\n",
      " ('Ellen', 'Sales'),\n",
      " ('Jonathon', 'Sales'),\n",
      " ('Jack', 'Sales'),\n",
      " ('Charles', 'Sales'),\n",
      " ('Steven', 'Executive'),\n",
      " ('Neena', 'Executive'),\n",
      " ('Lex', 'Executive'),\n",
      " ('g홍길동', 'Finance'),\n",
      " ('Nancy', 'Finance'),\n",
      " ('Daniel', 'Finance'),\n",
      " ('John', 'Finance'),\n",
      " ('Ismael', 'Finance'),\n",
      " ('Jose Manuel', 'Finance'),\n",
      " ('Luis', 'Finance'),\n",
      " ('g홍길동', 'Finance'),\n",
      " ('이순신2', 'Accounting'),\n",
      " ('Shelley', 'Accounting'),\n",
      " ('William', 'Accounting'),\n",
      " ('이순신', 'Accounting'),\n",
      " ('Alyssa', None),\n",
      " ('Kimberely', None),\n",
      " ('Girard', None),\n",
      " ('Nandita', None),\n",
      " ('Alexis', None),\n",
      " ('Jennifer', None),\n",
      " ('이순신', None),\n",
      " ('dan', None),\n",
      " ('dan', None),\n",
      " ('dan', None),\n",
      " ('dan', None),\n",
      " ('dan', None)]\n"
     ]
    }
   ],
   "source": [
    "sql = 'SELECT e.emp_name, d.dept_name FROM emp e left join dept d ON e.dept_id = d.dept_id'\n",
    "with cx_Oracle.connect('c##scott_join/tiger@localhost:1521/XE') as conn:\n",
    "    with conn.cursor() as cursor:\n",
    "        cursor.execute(sql)\n",
    "        result = cursor.fetchall()\n",
    "        pprint(result)"
   ]
  },
  {
   "cell_type": "code",
   "execution_count": null,
   "metadata": {},
   "outputs": [],
   "source": [
    "#프롬프트에 netstat  을 치면 현재 사용한느 포트가 다조회가능\n",
    "# netstat -an|findstr 1521 을 검색하면  1521이 사용중인인지 조회\n",
    "# C:\\app\\Playdata\\product\\18.0.0\\dbhomeXE\\network\\admin 에서 litener.ora 에서 보면 포트번호 조회가능 "
   ]
  },
  {
   "cell_type": "markdown",
   "metadata": {
    "slideshow": {
     "slide_type": "slide"
    }
   },
   "source": [
    "## INSERT / UPDATE/ DELETE\n",
    "- SQL 실행 후 Connection객체의 commit()을 호출 해야 최종적으로 적용된다.\n",
    "- commit()\n",
    "    - 최종 적용\n",
    "- rollback()\n",
    "    - 변경전 상태로 되돌리기\n",
    "\n",
    "### 사용할 테이블\n",
    "```sql\n",
    "create table test(\n",
    "    id varchar2(10),\n",
    "    name varchar2(100),\n",
    "    age number(3));\n",
    "```"
   ]
  },
  {
   "cell_type": "code",
   "execution_count": 78,
   "metadata": {},
   "outputs": [],
   "source": [
    "create_sql = \"create table test(id varchar2(10),name varchar2(100),age number(3))\"\n",
    "insert_sql = \"INSERT INTO test VAlUES (:1,:2,:3)\"\n",
    "\n",
    "with cx_Oracle.connect('c##scott_join/tiger@localhost:1521/XE') as conn:\n",
    "    with conn.cursor() as cursor:\n",
    "        try:\n",
    "            cursor.execute(create_sql)  #테이블 생성은 계속 되면 에러 나는게 당연하고 / insert는 된다 \n",
    "        except Exception as e:\n",
    "            print(e)\n",
    "            #insert\n",
    "        cursor.execute(insert_sql, [1,'이름1',20])\n",
    "        cursor.execute(insert_sql, [1,'이름2',30])\n",
    "        cursor.execute(insert_sql, [1,'이름3',10])\n",
    "        conn.commit()"
   ]
  },
  {
   "cell_type": "code",
   "execution_count": 101,
   "metadata": {},
   "outputs": [],
   "source": [
    "delete_sql = \"DELETE FROM test WHERE name =:1\"\n",
    "with cx_Oracle.connect('c##scott_join/tiger@localhost:1521/XE') as conn:\n",
    "    with conn.cursor() as cursor:\n",
    "        cursor.execute(delete_sql, ['이름1'])\n",
    "        conn.commit()\n"
   ]
  },
  {
   "cell_type": "markdown",
   "metadata": {},
   "source": [
    "UPDATE : 테이블의 컬럼의 값을 수정\n",
    "UPDATE 테이블명\n",
    "SET    변경할 컬럼 = 변경할 값  [, 변경할 컬럼 = 변경할 값]\n",
    "[WHERE 제약조건]\n",
    "\n",
    " - UPDATE: 변경할 테이블 지정\n",
    " - SET: 변경할 컬럼과 값을 지정\n",
    " - WHERE: 변경할 행을 선택. "
   ]
  },
  {
   "cell_type": "code",
   "execution_count": 9,
   "metadata": {},
   "outputs": [],
   "source": [
    "update_sql=\"UPDATE test SET name =:1\"\n",
    "with cx_Oracle.connect('c##scott_join/tiger@localhost:1521/XE') as conn:\n",
    "    with conn.cursor() as cursor:\n",
    "        cursor.execute(update_sql,['새이름'])\n",
    "        conn.commit()\n"
   ]
  },
  {
   "cell_type": "code",
   "execution_count": 10,
   "metadata": {},
   "outputs": [
    {
     "name": "stdout",
     "output_type": "stream",
     "text": [
      "[('1', '새이름', 20),\n",
      " ('1', '새이름', 30),\n",
      " ('1', '새이름', 10),\n",
      " ('a-1', '새이름', 30),\n",
      " ('a-2', '새이름', 20),\n",
      " ('a-2', '새이름', 20),\n",
      " ('a-3', '새이름', 33),\n",
      " ('a-3', '새이름', 33),\n",
      " ('a-4', '새이름', 40),\n",
      " ('a-4', '새이름', 40)]\n"
     ]
    }
   ],
   "source": [
    "select_sql='select*from test order by id'\n",
    "with cx_Oracle.connect('c##scott_join/tiger@localhost:1521/XE') as conn:\n",
    "    with conn.cursor() as cursor:\n",
    "        cursor.execute(select_sql)\n",
    "        pprint(cursor.fetchall())\n"
   ]
  },
  {
   "cell_type": "markdown",
   "metadata": {
    "slideshow": {
     "slide_type": "slide"
    }
   },
   "source": [
    "## batch(일괄작업) 처리\n",
    "- 한번에 메소드 호출로 다수 행을 처리한다.\n",
    "- executemany(sql, placeholder에 전달할값)\n",
    "    - placeholder에 전달할 값을 list로 묶어서 전달하면 sql문이 그 개수만큼 한번에 처리된다."
   ]
  },
  {
   "cell_type": "code",
   "execution_count": null,
   "metadata": {},
   "outputs": [],
   "source": [
    "insert_sql = 'INSERT INTO test VALUES(:1, :2, :3)'\n",
    "param = [\n",
    "    ['a-1','이름1',30],\n",
    "    ['a-2','이름2',20],\n",
    "    ['a-3','이름3',33],\n",
    "    ['a-4','이름4',40]\n",
    "    \n",
    "]\n",
    "with cx_Oracle.connect('c##scott_join/tiger@localhost:1521/XE') as conn:\n",
    "    with conn.cursor() as cursor:\n",
    "        cursor.executemany(insert_sql,param)\n",
    "        conn.commit()"
   ]
  },
  {
   "cell_type": "code",
   "execution_count": null,
   "metadata": {},
   "outputs": [],
   "source": []
  },
  {
   "cell_type": "code",
   "execution_count": null,
   "metadata": {},
   "outputs": [],
   "source": [
    "# 전부 함수로 만들면됨"
   ]
  },
  {
   "cell_type": "markdown",
   "metadata": {},
   "source": [
    "## TODO : 매개변수로 dept_id를 받아서 EMP 테이블에서 그 부서의 직원들의 salary를 두배 update하는 함수."
   ]
  },
  {
   "cell_type": "code",
   "execution_count": null,
   "metadata": {},
   "outputs": [],
   "source": [
    "UPDATE emp\n",
    "SET salary= salary*2 \n",
    "WHERE dept_id = 100"
   ]
  },
  {
   "cell_type": "code",
   "execution_count": null,
   "metadata": {},
   "outputs": [],
   "source": [
    "\n",
    "def update_salary_by_dept_id(dept_id):\n",
    "    update_sql = \"UPDATE emp SET salary= salary*2 WHERE dept_id =:1\"\n",
    "    with cx_Oracle.connect('c##scott_join/tiger@localhost:1521/XE') as conn:\n",
    "        with conn.cursor() as cursor:\n",
    "            cursor.execute(update_sql,[dept_id])\n",
    "            result = cursor.fetchall()\n",
    "            return result"
   ]
  },
  {
   "cell_type": "code",
   "execution_count": null,
   "metadata": {},
   "outputs": [],
   "source": [
    "r2 = update_salary_by_dept_id(80)\n",
    "if r2 != None:\n",
    "    print(r2)  \n",
    "else:\n",
    "    print('없음')"
   ]
  },
  {
   "cell_type": "markdown",
   "metadata": {},
   "source": [
    "------------------------------위에꺼 틀린거 -------------------------------\n",
    " - 조회 하는거는 무조건 select 로 해서 봐야함.. 위에서는 조회하는 거까지 해서 틀렸음 "
   ]
  },
  {
   "cell_type": "code",
   "execution_count": null,
   "metadata": {},
   "outputs": [],
   "source": []
  },
  {
   "cell_type": "code",
   "execution_count": 5,
   "metadata": {},
   "outputs": [],
   "source": [
    "import cx_Oracle\n",
    "def update_salary_by_dept_id(dept_id):\n",
    "    sql = \"UPDATE emp SET salary= salary*2 WHERE dept_id =:1\"  #여기까지 맞음\n",
    "    with cx_Oracle.connect(\"c##scott_join/tiger@localhost:1521/XE\") as conn:\n",
    "        with conn.cursor() as cursor:\n",
    "            cursor.execute(sql,[dept_id])\n",
    "            conn.commit()  # 조회 하는거는 무조건 select문으로 해서 봐야함 파이썬에서 볼때"
   ]
  },
  {
   "cell_type": "code",
   "execution_count": 6,
   "metadata": {},
   "outputs": [],
   "source": [
    "update_salary_by_dept_id(80)"
   ]
  },
  {
   "cell_type": "code",
   "execution_count": null,
   "metadata": {},
   "outputs": [],
   "source": []
  },
  {
   "cell_type": "markdown",
   "metadata": {},
   "source": [
    "## TODO : 매개변수로 job_id를 받아서 그 업무를 하는 직원들을 EMP 테이블에서 삭제하는 함수."
   ]
  },
  {
   "cell_type": "code",
   "execution_count": null,
   "metadata": {},
   "outputs": [],
   "source": [
    "딜리트"
   ]
  },
  {
   "cell_type": "code",
   "execution_count": 8,
   "metadata": {},
   "outputs": [],
   "source": [
    "def delete_job_id(job_id):\n",
    "    if job_id =! None:\n",
    "        delete_sql = \"DELETE FROM emp WHERE job_id=:1\"\n",
    "    else:\n",
    "        delete_sql = \"DELETE FROM emp WHERE job_id is null\"  # null 인 데이터 삭제 \n",
    "        \n",
    "    with cx_Oracle.connect('c##scott_join/tiger@localhost:1521/XE') as conn:\n",
    "        with conn.cursor() as cursor:\n",
    "            if jon_id != None:\n",
    "                cursor.execute(delete_sql,[job_id])\n",
    "                conn.commit()\n",
    "            else:\n",
    "                cursor.execute(sql)  # 잡 아이디가 없으니까\n",
    "           "
   ]
  },
  {
   "cell_type": "code",
   "execution_count": null,
   "metadata": {},
   "outputs": [],
   "source": [
    "delete_job_id('AD_VP')   # 복습할때 해보기 `"
   ]
  },
  {
   "cell_type": "code",
   "execution_count": null,
   "metadata": {},
   "outputs": [],
   "source": [
    "delete_job_id(None) # job_id가 null 인애들 지우라는 함수이다. 실행했는데 삭제가 되지 않았다.\n",
    "\n",
    "예. 두번째 sql을 보시면 placeholder가 없잖아요. 그래서 sql만 넣어서 실행한 거에요.\n",
    "\n"
   ]
  },
  {
   "cell_type": "markdown",
   "metadata": {},
   "source": [
    "--------------------------------------밑에꺼 틀린거------------------------------\n",
    "- ## 조회가 해서 값을 여기서 보는 함수가 아닌데  조회를 해서 안 됐던것임"
   ]
  },
  {
   "cell_type": "code",
   "execution_count": null,
   "metadata": {},
   "outputs": [],
   "source": [
    "r2 = delete_job_id('PU_MAN')\n",
    "if r2 != None:\n",
    "    print(r2)  \n",
    "else:\n",
    "    print('없음')  ## 조회가 안되는 함수를 조회하려고 해서 안 됐던것임"
   ]
  },
  {
   "cell_type": "code",
   "execution_count": null,
   "metadata": {},
   "outputs": [],
   "source": [
    "# 정지 눌러도 아스타리스크가 안없어진다. "
   ]
  },
  {
   "cell_type": "code",
   "execution_count": null,
   "metadata": {},
   "outputs": [],
   "source": []
  },
  {
   "cell_type": "code",
   "execution_count": null,
   "metadata": {},
   "outputs": [],
   "source": []
  },
  {
   "cell_type": "code",
   "execution_count": null,
   "metadata": {},
   "outputs": [],
   "source": []
  },
  {
   "cell_type": "code",
   "execution_count": null,
   "metadata": {},
   "outputs": [],
   "source": []
  },
  {
   "cell_type": "markdown",
   "metadata": {
    "slideshow": {
     "slide_type": "slide"
    }
   },
   "source": [
    "# TODO : 매개변수로 직원 이름을 입력받아 EMP 테이블에서 그  직원들의 전체 정보를 조회결과를 출력하는 함수.   ------조회하는것과 수정하는것을 구분해서 공부다시 하기\n"
   ]
  },
  {
   "cell_type": "code",
   "execution_count": 12,
   "metadata": {},
   "outputs": [],
   "source": [
    "import cx_Oracle\n",
    "def select_emp_by_name(emp_name):\n",
    "    #sql= \"SELECT * FROM emp WHERE emp_name=:1\"\n",
    "    sql = \"SELECT * FROM emp WHERE emp_name LIKE '%'||:name||'%'\"\n",
    "   # sql = \"SELECT * FROM emp WHERE emp_name LIKE '%'John'%'\"  ==> 이상태로 입력 받게 된다 db 에서 \n",
    "   # sql = \"SELECT * FROM emp WHERE emp_name LIKE '%John%'\"  ==> 이걸 원했는데 \n",
    "    with cx_Oracle.connect('c##scott_join/tiger@localhost:1521/XE') as conn:\n",
    "        with conn.cursor() as cursor:\n",
    "            #cursor.execute(sql,[emp_name])\n",
    "            cursor.execute(sql,{\"name\":emp_name})  #---> :name 으로 했기 때문에 딕셔너리로 잆력\n",
    "            result = cursor.fetchall()\n",
    "            return result"
   ]
  },
  {
   "cell_type": "code",
   "execution_count": 14,
   "metadata": {},
   "outputs": [
    {
     "name": "stdout",
     "output_type": "stream",
     "text": [
      "[(110, 'John', 'FI_ACCOUNT', 108, datetime.datetime(2005, 9, 28, 0, 0), 32800.0, None, 100), (112, 'Jose Manuel', 'FI_ACCOUNT', 108, datetime.datetime(2006, 3, 7, 0, 0), 31200.0, None, 100), (139, 'John', 'ST_CLERK', 123, datetime.datetime(2008, 2, 6, 0, 0), 2700.0, None, 50), (140, 'Joshua', None, 123, datetime.datetime(2008, 2, 6, 0, 0), 2500.0, None, 50), (145, 'John', 'SA_MAN', 100, datetime.datetime(2004, 10, 1, 0, 0), 28000.0, 0.4, 80), (176, 'Jonathon', 'SA_REP', 149, datetime.datetime(2006, 3, 24, 0, 0), 17200.0, 0.2, 80)]\n"
     ]
    }
   ],
   "source": [
    "r= select_emp_by_name('Jo')\n",
    "print(r)"
   ]
  },
  {
   "cell_type": "code",
   "execution_count": null,
   "metadata": {},
   "outputs": [],
   "source": [
    "#       '%'||:name||'%'\" =====>>> //'%'||'John'||'%'\"   이렇게 되야 세개를 합해서 '%John%' 이렇게 바뀐다."
   ]
  },
  {
   "cell_type": "markdown",
   "metadata": {
    "slideshow": {
     "slide_type": "slide"
    }
   },
   "source": [
    "# TODO: 사용자로 부터 직원정보를 입력받아 EMP 테이블에 입력한다.\n",
    "- emp_id, emp_name, job_id, mgr_id, hire_date, salary, comm_pct, dept_id 를 하나씩 입력받는다.\n",
    "- job_id, mgr_id,  comm_pct, dept_id 을 입력하지 않은 경우 NULL 을 넣는다. (placehold 사용시 None을 대입)\n",
    "- 입력된 값을 EMP 테이블에 insert 한다.\n",
    "- 주의 job_id, mgr_id, dept_id는 FK 컬럼이므로 부모테이블의 PK값을 넣어야 한다."
   ]
  },
  {
   "cell_type": "code",
   "execution_count": null,
   "metadata": {},
   "outputs": [],
   "source": [
    "input(\"job_id\")"
   ]
  },
  {
   "cell_type": "code",
   "execution_count": 19,
   "metadata": {},
   "outputs": [],
   "source": [
    "def insert_emp():\n",
    "    # 사용자로부터 insert 값 q받고 검증 작업\n",
    "    \n",
    "    emp_id = int(input(\"직원ID:\"))\n",
    "    emp_name = input(\"이름:\")\n",
    "    job_id = input('업무ID')\n",
    "    if len(job_id.strip()) == 0:\n",
    "        job_id = None\n",
    "        \n",
    "        \n",
    "    try:\n",
    "        mgr_id = int(input(\"상사ID\"))  # 정수여야만 하니까 //정수가 아니면 예외 처리 \n",
    "    except:\n",
    "        mgr_id = None          # 널을 가질수 있으니까  잘못입력하면 null 이 되게 하려고 \n",
    "        \n",
    "    hire_date =  input(\"입사일(형식:yyyymmdd):\")  # 입력하는 형식을 맞춰서 오류 피하기 위해\n",
    "    salary =  int(input(\"급여:\"))   #  notnull 이라서 잘못된 값을 넣었을때 null 을 넣을 수 없어서 잘못된값일때 에러를 내서 끝내려고한거다.\n",
    "    \n",
    "    \n",
    "    try:\n",
    "        comm_pct = float(input(\"커미션\"))\n",
    "        if comm_pct >= 1:\n",
    "            raise Exception()\n",
    "    except:\n",
    "        comm_pct = None\n",
    "    \n",
    "    try: \n",
    "        dept_id = int(input(\"부서ID:\"))\n",
    "        \n",
    "    except:\n",
    "        dept_id = None\n",
    "        \n",
    "        \n",
    "    param = {\n",
    "        \"emp_id\":emp_id,\n",
    "        \"emp_name\" : emp_name,\n",
    "        \"job_id\": job_id,\n",
    "        \"mgr_id\": mgr_id,\n",
    "        \"hire_date\": hire_date,\n",
    "        \"salary\":salary,\n",
    "        \"comm_pct\": comm_pct,\n",
    "        \"dept_id\": dept_id\n",
    "    }\n",
    "        \n",
    "    sql = \"INSERT INTO emp VALUES(:emp_id, :emp_name, :job_id, :mgr_id, to_date(:hire_date,'yyyymmdd'), :salary, :comm_pct, :dept_id)\"\n",
    "    with cx_Oracle.connect(\"c##scott_join/tiger@localhost:1521/XE\") as conn:\n",
    "        with conn.cursor() as cursor:\n",
    "            cursor.execute(sql,param)\n",
    "            conn.commit()\n",
    "            print(\"insert완료\")\n",
    "            \n",
    "        \n",
    "        #입력해보고 insert 확인해보기// 핸드폰 사진 보기 \n",
    "        "
   ]
  },
  {
   "cell_type": "code",
   "execution_count": 20,
   "metadata": {},
   "outputs": [
    {
     "name": "stdout",
     "output_type": "stream",
     "text": [
      "직원ID:3220\n",
      "이름:박명수\n",
      "업무IDFI_ACCOUNT\n",
      "상사ID\n",
      "입사일(형식:yyyymmdd):20200815\n",
      "급여:10000\n",
      "커미션\n",
      "부서ID:\n",
      "insert완료\n"
     ]
    }
   ],
   "source": [
    "insert_emp()"
   ]
  },
  {
   "cell_type": "code",
   "execution_count": null,
   "metadata": {},
   "outputs": [],
   "source": []
  },
  {
   "cell_type": "markdown",
   "metadata": {},
   "source": [
    "다른 연산 join 같은것도 연습해보기 "
   ]
  }
 ],
 "metadata": {
  "kernelspec": {
   "display_name": "Python 3",
   "language": "python",
   "name": "python3"
  },
  "language_info": {
   "codemirror_mode": {
    "name": "ipython",
    "version": 3
   },
   "file_extension": ".py",
   "mimetype": "text/x-python",
   "name": "python",
   "nbconvert_exporter": "python",
   "pygments_lexer": "ipython3",
   "version": "3.8.5"
  },
  "toc": {
   "base_numbering": 1,
   "nav_menu": {},
   "number_sections": true,
   "sideBar": true,
   "skip_h1_title": false,
   "title_cell": "Table of Contents",
   "title_sidebar": "Contents",
   "toc_cell": false,
   "toc_position": {},
   "toc_section_display": true,
   "toc_window_display": false
  },
  "varInspector": {
   "cols": {
    "lenName": 16,
    "lenType": 16,
    "lenVar": 40
   },
   "kernels_config": {
    "python": {
     "delete_cmd_postfix": "",
     "delete_cmd_prefix": "del ",
     "library": "var_list.py",
     "varRefreshCmd": "print(var_dic_list())"
    },
    "r": {
     "delete_cmd_postfix": ") ",
     "delete_cmd_prefix": "rm(",
     "library": "var_list.r",
     "varRefreshCmd": "cat(var_dic_list()) "
    }
   },
   "types_to_exclude": [
    "module",
    "function",
    "builtin_function_or_method",
    "instance",
    "_Feature"
   ],
   "window_display": false
  }
 },
 "nbformat": 4,
 "nbformat_minor": 2
}
