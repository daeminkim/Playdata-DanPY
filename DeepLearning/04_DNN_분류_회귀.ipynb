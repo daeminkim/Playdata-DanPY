{
 "cells": [
  {
   "cell_type": "markdown",
   "metadata": {},
   "source": [
    "# 데이터셋 API\n",
    "- 데이터 입력 파이프라인을 위한 패키지\n",
    "- tf.data 패키지에서 제공\n",
    "- tf.data.Dataset 추상클래스에서 상속된 여러가지 클래스 객체를 사용 또는 만들어 쓴다.\n",
    "\n",
    "## 데이터 입력 파이프라인이란\n",
    "**모델에 공급**되는 데이터에 대한 전처리 작업과 공급을 담당한다.    \n",
    "- 이미지 데이터의 경우\n",
    "    - 분산 파일시스템으로 부터 이미지를 모으는 작업, \n",
    "    - 이미지에 노이즈를 주거나 변형하는 작업, \n",
    "    - 배치 학습을 위해 무작위로 데이터를 선택하여 배치데이터를 만드는 작업\n",
    "- 텍스트 데이터 경우\n",
    "    - 원문을 토큰화하는 작업\n",
    "    - 임베딩하는 작업\n",
    "    - 길이가 다른 데이터를 패딩하여 합치는 작업 \n",
    "\n",
    "\n",
    "## 데이터셋 API 사용 세단계\n",
    "1. 데이터셋 생성\n",
    "    - from_tensor_slices(), from_generator() 클래스 메소드, tf.data.TFRecordDataset 클래스를 사용해 메모리나 파일에 있는 데이터를 데이터소스로 만든다.\n",
    "    - from_tensor_slices(): 리스트 넘파이배열, 텐서플로 자료형에서 데이터를 생성한다.\n",
    "    - raw 데이터가 저장된 형태가 여러가지이므로 여러가지 클래스가 있는것 이다. // 메모리에 있는경우from_tensor_slices()를씀\n",
    "2. 데이터셋 변형: map():데이터 원소를 바꾸는~, filter():조건에 맞는 데이터를 갖고 오는, batch() 등 메소드를 이용해 데이터 소스를 변형한다.\n",
    "3. for 반복문에서 iterate를 통해 데이터셋 사용\n",
    "\n",
    "## Dataset의 주요 메소드\n",
    "- map(함수) : dataset의 각 원소들을 함수로 처리한다.\n",
    "\n",
    "- shuffle(크기): dataset의 원소들의 순서를 섞는다. 크기는 섞는 공간의 크기로  **데이터보다 크거나 같으면** 완전셔플, **적으면 일부만 가져와서 섞어** 완전셔플이 안된다.=>데이터가 너무너무 많으면 적게 주기도 한다.)\n",
    "- batch(size) : 반복시 제공할 데이터 수. 지정한 batch size만큼 data를 꺼내준다."
   ]
  },
  {
   "cell_type": "markdown",
   "metadata": {},
   "source": [
    "# 데이터 feeding에 관한  여러 설정들 "
   ]
  },
  {
   "cell_type": "code",
   "execution_count": 1,
   "metadata": {},
   "outputs": [],
   "source": [
    "import tensorflow as tf\n",
    "import numpy as np"
   ]
  },
  {
   "cell_type": "code",
   "execution_count": 28,
   "metadata": {},
   "outputs": [],
   "source": [
    "arr = np.arange(9) # 0~8까지 9개배열// 메모리에 원소가 9개인 배열데이터가 있는것 /불러와서 이미 메모리에 있는데이터셋이라고 생각"
   ]
  },
  {
   "cell_type": "code",
   "execution_count": 29,
   "metadata": {},
   "outputs": [
    {
     "data": {
      "text/plain": [
       "tensorflow.python.data.ops.dataset_ops.TensorSliceDataset"
      ]
     },
     "execution_count": 29,
     "metadata": {},
     "output_type": "execute_result"
    }
   ],
   "source": [
    "# 메모리에 ndarray로 저장된 데이터를 이용해 Dataset 객체를 생성\n",
    "dataset = tf.data.Dataset.from_tensor_slices(arr)  # 데이터 종류에 따라 메서드 바뀜\n",
    "type(dataset)"
   ]
  },
  {
   "cell_type": "code",
   "execution_count": 30,
   "metadata": {},
   "outputs": [
    {
     "data": {
      "text/plain": [
       "tensorflow.python.data.ops.dataset_ops.MapDataset"
      ]
     },
     "execution_count": 30,
     "metadata": {},
     "output_type": "execute_result"
    }
   ],
   "source": [
    "# 각각 원소를 변환 작업을 Dataset 추가 - Dataset.map(변환함수) :변환!!!!!!!!!!!!!!!!!!!!! map\n",
    "dataset = dataset.map(lambda x : x**2)\n",
    "type(dataset)  # map이 적용된 dataset "
   ]
  },
  {
   "cell_type": "code",
   "execution_count": 31,
   "metadata": {},
   "outputs": [],
   "source": [
    "#dataset = dataset.filter(lambda x : x%2==0) # 2의 배수만 걸러내기 !!!!!!!!!!!!!!!!!!!!!! filter /ndarray 읽기 , 변환map, filter,  조회"
   ]
  },
  {
   "cell_type": "code",
   "execution_count": 32,
   "metadata": {},
   "outputs": [],
   "source": [
    "dataset = dataset.shuffle(9)  # data 섞는 작업 해줘 // ndarray 읽기 , 변환map, 섞기shuffle  조회, epoch당 1번 shuffle\n",
    "# 가능하다면 데이터 크기와 동일하게 주는게 좋다.메모리의 크기에따라 괄호안에 숫자 지정하기!"
   ]
  },
  {
   "cell_type": "code",
   "execution_count": 33,
   "metadata": {},
   "outputs": [],
   "source": [
    "dataset = dataset.batch(3) # 한번에 지정한 개수(3) 만큼 제공 // 다시설정하면 위에서부터 다시 작동시켜야함 "
   ]
  },
  {
   "cell_type": "code",
   "execution_count": 34,
   "metadata": {
    "collapsed": true
   },
   "outputs": [
    {
     "name": "stdout",
     "output_type": "stream",
     "text": [
      "tf.Tensor([ 1 49 25], shape=(3,), dtype=int32)\n",
      "tf.Tensor([ 4 36 64], shape=(3,), dtype=int32)\n",
      "tf.Tensor([ 9 16  0], shape=(3,), dtype=int32)\n"
     ]
    }
   ],
   "source": [
    "for a in dataset:\n",
    "    print(a)"
   ]
  },
  {
   "cell_type": "code",
   "execution_count": 27,
   "metadata": {
    "collapsed": true
   },
   "outputs": [
    {
     "name": "stdout",
     "output_type": "stream",
     "text": [
      "tf.Tensor(16, shape=(), dtype=int32)\n",
      "tf.Tensor(64, shape=(), dtype=int32)\n",
      "tf.Tensor(36, shape=(), dtype=int32)\n",
      "tf.Tensor(0, shape=(), dtype=int32)\n",
      "tf.Tensor(49, shape=(), dtype=int32)\n",
      "tf.Tensor(9, shape=(), dtype=int32)\n",
      "tf.Tensor(4, shape=(), dtype=int32)\n",
      "tf.Tensor(1, shape=(), dtype=int32)\n",
      "tf.Tensor(25, shape=(), dtype=int32)\n"
     ]
    }
   ],
   "source": [
    "# Dataset에서 제공되는 값들을 조회f\n",
    "for a in dataset:\n",
    "    print(a)"
   ]
  },
  {
   "cell_type": "code",
   "execution_count": 35,
   "metadata": {},
   "outputs": [
    {
     "data": {
      "text/plain": [
       "((10,), (10,))"
      ]
     },
     "execution_count": 35,
     "metadata": {},
     "output_type": "execute_result"
    }
   ],
   "source": [
    "x = np.arange(10)\n",
    "y = np.arange(10,20)\n",
    "x.shape, y.shape"
   ]
  },
  {
   "cell_type": "code",
   "execution_count": 36,
   "metadata": {},
   "outputs": [],
   "source": [
    "ds = tf.data.Dataset.from_tensor_slices((x,y)) # 데이터 원소의 개수가 같아야 묶어서 읽는거 가능 \n"
   ]
  },
  {
   "cell_type": "code",
   "execution_count": 39,
   "metadata": {},
   "outputs": [
    {
     "name": "stdout",
     "output_type": "stream",
     "text": [
      "(<tf.Tensor: shape=(), dtype=int32, numpy=0>, <tf.Tensor: shape=(), dtype=int32, numpy=10>)\n",
      "(<tf.Tensor: shape=(), dtype=int32, numpy=1>, <tf.Tensor: shape=(), dtype=int32, numpy=11>)\n",
      "(<tf.Tensor: shape=(), dtype=int32, numpy=2>, <tf.Tensor: shape=(), dtype=int32, numpy=12>)\n",
      "(<tf.Tensor: shape=(), dtype=int32, numpy=3>, <tf.Tensor: shape=(), dtype=int32, numpy=13>)\n",
      "(<tf.Tensor: shape=(), dtype=int32, numpy=4>, <tf.Tensor: shape=(), dtype=int32, numpy=14>)\n",
      "(<tf.Tensor: shape=(), dtype=int32, numpy=5>, <tf.Tensor: shape=(), dtype=int32, numpy=15>)\n",
      "(<tf.Tensor: shape=(), dtype=int32, numpy=6>, <tf.Tensor: shape=(), dtype=int32, numpy=16>)\n",
      "(<tf.Tensor: shape=(), dtype=int32, numpy=7>, <tf.Tensor: shape=(), dtype=int32, numpy=17>)\n",
      "(<tf.Tensor: shape=(), dtype=int32, numpy=8>, <tf.Tensor: shape=(), dtype=int32, numpy=18>)\n",
      "(<tf.Tensor: shape=(), dtype=int32, numpy=9>, <tf.Tensor: shape=(), dtype=int32, numpy=19>)\n"
     ]
    }
   ],
   "source": [
    "for a in ds:\n",
    "    print(a)\n",
    "     # tf.tensor 로 나옴 자료구조가 tensor임 // zip과 같은 느낌으로 보면 됨!"
   ]
  },
  {
   "cell_type": "code",
   "execution_count": 40,
   "metadata": {},
   "outputs": [],
   "source": [
    "ds2= ds.map(lambda x, y : (x**2,y**3)) # x:2제곱 , y: 3제곱 하고싶음 // y를 그대로 하고 싶으면 그냥 y를 넣으면 되고 생략해서는 안된다.\n",
    "\n",
    "# def map_func(x,y) # dataset에 두개의 배열을 넣었을 경우 변수 두개로 가각 받는다.\n",
    "#     return x**2 , y**3"
   ]
  },
  {
   "cell_type": "code",
   "execution_count": 42,
   "metadata": {},
   "outputs": [
    {
     "name": "stdout",
     "output_type": "stream",
     "text": [
      "(<tf.Tensor: shape=(), dtype=int32, numpy=0>, <tf.Tensor: shape=(), dtype=int32, numpy=1000>)\n",
      "(<tf.Tensor: shape=(), dtype=int32, numpy=1>, <tf.Tensor: shape=(), dtype=int32, numpy=1331>)\n",
      "(<tf.Tensor: shape=(), dtype=int32, numpy=4>, <tf.Tensor: shape=(), dtype=int32, numpy=1728>)\n",
      "(<tf.Tensor: shape=(), dtype=int32, numpy=9>, <tf.Tensor: shape=(), dtype=int32, numpy=2197>)\n",
      "(<tf.Tensor: shape=(), dtype=int32, numpy=16>, <tf.Tensor: shape=(), dtype=int32, numpy=2744>)\n",
      "(<tf.Tensor: shape=(), dtype=int32, numpy=25>, <tf.Tensor: shape=(), dtype=int32, numpy=3375>)\n",
      "(<tf.Tensor: shape=(), dtype=int32, numpy=36>, <tf.Tensor: shape=(), dtype=int32, numpy=4096>)\n",
      "(<tf.Tensor: shape=(), dtype=int32, numpy=49>, <tf.Tensor: shape=(), dtype=int32, numpy=4913>)\n",
      "(<tf.Tensor: shape=(), dtype=int32, numpy=64>, <tf.Tensor: shape=(), dtype=int32, numpy=5832>)\n",
      "(<tf.Tensor: shape=(), dtype=int32, numpy=81>, <tf.Tensor: shape=(), dtype=int32, numpy=6859>)\n"
     ]
    }
   ],
   "source": [
    "for a in ds2:\n",
    "    print(a)\n",
    "    "
   ]
  },
  {
   "cell_type": "code",
   "execution_count": 43,
   "metadata": {},
   "outputs": [],
   "source": [
    "ds3 = ds2.shuffle(10) # 짝은 맞춰 져 있고 index가 바뀐다고 생각해~~~!\n"
   ]
  },
  {
   "cell_type": "code",
   "execution_count": 44,
   "metadata": {
    "collapsed": true
   },
   "outputs": [
    {
     "name": "stdout",
     "output_type": "stream",
     "text": [
      "(<tf.Tensor: shape=(), dtype=int32, numpy=49>, <tf.Tensor: shape=(), dtype=int32, numpy=4913>)\n",
      "(<tf.Tensor: shape=(), dtype=int32, numpy=1>, <tf.Tensor: shape=(), dtype=int32, numpy=1331>)\n",
      "(<tf.Tensor: shape=(), dtype=int32, numpy=9>, <tf.Tensor: shape=(), dtype=int32, numpy=2197>)\n",
      "(<tf.Tensor: shape=(), dtype=int32, numpy=4>, <tf.Tensor: shape=(), dtype=int32, numpy=1728>)\n",
      "(<tf.Tensor: shape=(), dtype=int32, numpy=36>, <tf.Tensor: shape=(), dtype=int32, numpy=4096>)\n",
      "(<tf.Tensor: shape=(), dtype=int32, numpy=64>, <tf.Tensor: shape=(), dtype=int32, numpy=5832>)\n",
      "(<tf.Tensor: shape=(), dtype=int32, numpy=16>, <tf.Tensor: shape=(), dtype=int32, numpy=2744>)\n",
      "(<tf.Tensor: shape=(), dtype=int32, numpy=81>, <tf.Tensor: shape=(), dtype=int32, numpy=6859>)\n",
      "(<tf.Tensor: shape=(), dtype=int32, numpy=0>, <tf.Tensor: shape=(), dtype=int32, numpy=1000>)\n",
      "(<tf.Tensor: shape=(), dtype=int32, numpy=25>, <tf.Tensor: shape=(), dtype=int32, numpy=3375>)\n"
     ]
    }
   ],
   "source": [
    "for a in ds3:\n",
    "    print(a)\n"
   ]
  },
  {
   "cell_type": "code",
   "execution_count": 45,
   "metadata": {},
   "outputs": [],
   "source": [
    "ds4 = ds2.batch(4)"
   ]
  },
  {
   "cell_type": "code",
   "execution_count": 46,
   "metadata": {
    "collapsed": true
   },
   "outputs": [
    {
     "name": "stdout",
     "output_type": "stream",
     "text": [
      "(<tf.Tensor: shape=(4,), dtype=int32, numpy=array([0, 1, 4, 9])>, <tf.Tensor: shape=(4,), dtype=int32, numpy=array([1000, 1331, 1728, 2197])>)\n",
      "(<tf.Tensor: shape=(4,), dtype=int32, numpy=array([16, 25, 36, 49])>, <tf.Tensor: shape=(4,), dtype=int32, numpy=array([2744, 3375, 4096, 4913])>)\n",
      "(<tf.Tensor: shape=(2,), dtype=int32, numpy=array([64, 81])>, <tf.Tensor: shape=(2,), dtype=int32, numpy=array([5832, 6859])>)\n"
     ]
    }
   ],
   "source": [
    "for a in ds4:\n",
    "    print(a)"
   ]
  },
  {
   "cell_type": "code",
   "execution_count": 49,
   "metadata": {
    "collapsed": true
   },
   "outputs": [
    {
     "name": "stdout",
     "output_type": "stream",
     "text": [
      "(<tf.Tensor: shape=(4,), dtype=int32, numpy=array([0, 1, 4, 9])>, <tf.Tensor: shape=(4,), dtype=int32, numpy=array([1000, 1331, 1728, 2197])>)\n",
      "(<tf.Tensor: shape=(4,), dtype=int32, numpy=array([16, 25, 36, 49])>, <tf.Tensor: shape=(4,), dtype=int32, numpy=array([2744, 3375, 4096, 4913])>)\n",
      "(<tf.Tensor: shape=(2,), dtype=int32, numpy=array([64, 81])>, <tf.Tensor: shape=(2,), dtype=int32, numpy=array([5832, 6859])>)\n",
      "(<tf.Tensor: shape=(4,), dtype=int32, numpy=array([0, 1, 4, 9])>, <tf.Tensor: shape=(4,), dtype=int32, numpy=array([1000, 1331, 1728, 2197])>)\n",
      "(<tf.Tensor: shape=(4,), dtype=int32, numpy=array([16, 25, 36, 49])>, <tf.Tensor: shape=(4,), dtype=int32, numpy=array([2744, 3375, 4096, 4913])>)\n",
      "(<tf.Tensor: shape=(2,), dtype=int32, numpy=array([64, 81])>, <tf.Tensor: shape=(2,), dtype=int32, numpy=array([5832, 6859])>)\n",
      "(<tf.Tensor: shape=(4,), dtype=int32, numpy=array([0, 1, 4, 9])>, <tf.Tensor: shape=(4,), dtype=int32, numpy=array([1000, 1331, 1728, 2197])>)\n",
      "(<tf.Tensor: shape=(4,), dtype=int32, numpy=array([16, 25, 36, 49])>, <tf.Tensor: shape=(4,), dtype=int32, numpy=array([2744, 3375, 4096, 4913])>)\n",
      "(<tf.Tensor: shape=(2,), dtype=int32, numpy=array([64, 81])>, <tf.Tensor: shape=(2,), dtype=int32, numpy=array([5832, 6859])>)\n"
     ]
    }
   ],
   "source": [
    "for a in ds4.repeat(3): # dataset.repeat(count) : count횟수만큼 반복, count 생략 시 무한이제공한다.\n",
    "    print(a)"
   ]
  },
  {
   "cell_type": "code",
   "execution_count": 51,
   "metadata": {},
   "outputs": [],
   "source": [
    "# 위에서 사용했던거 한번에 사용해서 dataset만들기 \n",
    "dataset = tf.data.Dataset.from_tensor_slices((x,y)).map(lambda x, y : (x**2,y**3)).shuffle(10).batch(4).repeat(3)"
   ]
  },
  {
   "cell_type": "code",
   "execution_count": 52,
   "metadata": {},
   "outputs": [
    {
     "name": "stdout",
     "output_type": "stream",
     "text": [
      "(<tf.Tensor: shape=(4,), dtype=int32, numpy=array([25, 36,  1, 81])>, <tf.Tensor: shape=(4,), dtype=int32, numpy=array([3375, 4096, 1331, 6859])>)\n",
      "(<tf.Tensor: shape=(4,), dtype=int32, numpy=array([ 4,  0, 49, 16])>, <tf.Tensor: shape=(4,), dtype=int32, numpy=array([1728, 1000, 4913, 2744])>)\n",
      "(<tf.Tensor: shape=(2,), dtype=int32, numpy=array([ 9, 64])>, <tf.Tensor: shape=(2,), dtype=int32, numpy=array([2197, 5832])>)\n",
      "(<tf.Tensor: shape=(4,), dtype=int32, numpy=array([49,  0, 64, 16])>, <tf.Tensor: shape=(4,), dtype=int32, numpy=array([4913, 1000, 5832, 2744])>)\n",
      "(<tf.Tensor: shape=(4,), dtype=int32, numpy=array([25,  9,  1,  4])>, <tf.Tensor: shape=(4,), dtype=int32, numpy=array([3375, 2197, 1331, 1728])>)\n",
      "(<tf.Tensor: shape=(2,), dtype=int32, numpy=array([81, 36])>, <tf.Tensor: shape=(2,), dtype=int32, numpy=array([6859, 4096])>)\n",
      "(<tf.Tensor: shape=(4,), dtype=int32, numpy=array([ 4, 25,  1, 64])>, <tf.Tensor: shape=(4,), dtype=int32, numpy=array([1728, 3375, 1331, 5832])>)\n",
      "(<tf.Tensor: shape=(4,), dtype=int32, numpy=array([81, 49, 16,  9])>, <tf.Tensor: shape=(4,), dtype=int32, numpy=array([6859, 4913, 2744, 2197])>)\n",
      "(<tf.Tensor: shape=(2,), dtype=int32, numpy=array([36,  0])>, <tf.Tensor: shape=(2,), dtype=int32, numpy=array([4096, 1000])>)\n"
     ]
    }
   ],
   "source": [
    "for a in dataset:\n",
    "    print(a)"
   ]
  },
  {
   "cell_type": "code",
   "execution_count": null,
   "metadata": {},
   "outputs": [],
   "source": [
    "# tensorflow type : 넘파이 배열과 호환이 된다.// 그래서 내부적으로 텐서타입으로 바꿔서 작업된다. "
   ]
  },
  {
   "cell_type": "markdown",
   "metadata": {},
   "source": [
    "# 1. 회귀 - Boston Housing Dataset\n",
    "보스턴 주택가격 dataset은 다음과 같은 속성을 바탕으로 해당 타운 주택 가격의 중앙값을 예측하는 문제.\n",
    "- CRIM: 범죄율\n",
    "- ZN: 25,000 평방피트당 주거지역 비율\n",
    "- INDUS: 비소매 상업지구 비율\n",
    "- CHAS: 찰스강에 인접해 있는지 여부(인접:1, 아니면:0)\n",
    "- NOX: 일산화질소 농도(단위: 0.1ppm)\n",
    "- RM: 주택당 방의 수\n",
    "- AGE: 1940년 이전에 건설된 주택의 비율\n",
    "- DIS: 5개의 보스턴 직업고용센터와의 거리(가중 평균)\n",
    "- RAD: 고속도로 접근성\n",
    "- TAX: 재산세율\n",
    "- PTRATIO: 학생/교사 비율\n",
    "- B: 흑인 비율\n",
    "- LSTAT: 하위 계층 비율\n",
    "\n",
    "예측해야하는 것\n",
    "- MEDV: 타운의 주택가격 중앙값(단위: 1,000달러)"
   ]
  },
  {
   "cell_type": "code",
   "execution_count": 16,
   "metadata": {},
   "outputs": [],
   "source": [
    "import numpy as np\n",
    "import tensorflow as tf\n",
    "from tensorflow import keras"
   ]
  },
  {
   "cell_type": "code",
   "execution_count": 17,
   "metadata": {},
   "outputs": [],
   "source": [
    "# random seed 설정.\n",
    "np.random.seed(1)\n",
    "tf.random.set_seed(1)"
   ]
  },
  {
   "cell_type": "code",
   "execution_count": 18,
   "metadata": {},
   "outputs": [
    {
     "data": {
      "text/plain": [
       "((404, 13), (102, 13))"
      ]
     },
     "execution_count": 18,
     "metadata": {},
     "output_type": "execute_result"
    }
   ],
   "source": [
    "# 데이터셋 로딩\n",
    "(X_train,y_train),(X_test,y_test) = keras.datasets.boston_housing.load_data()\n",
    "X_train.shape,X_test.shape  # 작은 데이터 이기때문에 deeplearn성능은 안좋을..."
   ]
  },
  {
   "cell_type": "code",
   "execution_count": 19,
   "metadata": {},
   "outputs": [
    {
     "data": {
      "text/plain": [
       "array([15.2, 42.3, 50. , 21.1, 17.7])"
      ]
     },
     "execution_count": 19,
     "metadata": {},
     "output_type": "execute_result"
    }
   ],
   "source": [
    "y_train[:5]  # 회귀(regression)"
   ]
  },
  {
   "cell_type": "code",
   "execution_count": 20,
   "metadata": {},
   "outputs": [
    {
     "data": {
      "text/plain": [
       "array([  1.23247,   0.     ,   8.14   ,   0.     ,   0.538  ,   6.142  ,\n",
       "        91.7    ,   3.9769 ,   4.     , 307.     ,  21.     , 396.9    ,\n",
       "        18.72   ])"
      ]
     },
     "execution_count": 20,
     "metadata": {},
     "output_type": "execute_result"
    }
   ],
   "source": [
    "X_train[0]"
   ]
  },
  {
   "cell_type": "code",
   "execution_count": 21,
   "metadata": {},
   "outputs": [],
   "source": [
    "# 하이퍼파라미터 값들을 설정 // 한번에 변수와 하이퍼파라미터를 조절하기위해서 변수 지정하고 사용하는게 좋다.\n",
    "LEARNING_RATE = 0.001  # 학습률\n",
    "N_EPOCHS = 200         # 에폭 횟수. 1epoch 전체 데이터셋 한번 사용한것.\n",
    "N_BATCHS = 32          # batch_size 32개 데이터셋 마다 파라미터들(가중치) 업데이트.\n",
    "\n",
    "N_TRAIN = X_train.shape[0] # train set의 개수를 뽑아 //필요한 변수를 미리뽑은것 /// x_TRAIN 의 데이터 개수를 사용하기위해서 \n",
    "N_TEST = X_test.shape[0] # test set의 개수 뽑기위해 //필요한 변수를 미리뽑은것\n",
    "N_FEATURES = X_train.shape[1] # input data의 feature(컬럼) 개수   //필요한 변수를 미리뽑은것"
   ]
  },
  {
   "cell_type": "code",
   "execution_count": 22,
   "metadata": {},
   "outputs": [],
   "source": [
    "# Dataset 생성 // 1epoch 당 한번씩 셔플 한다//\n",
    "# drop_remainder = True : 마지막에 batch_size보다 제공할 데이터가 적으면 학습시 제공하지 말고 버려라.drop하라는 뜻 \n",
    "# 일정한 batch사이즈로 학습하다가 줄어버리면 그거에 영향을 받을 수 있어서drop 함. 하지만 shuffle때문에 학습은 된다.\n",
    "# repeat() : 여러 epoch을 돌때마다 계속 데이터를 제공하게 하기 위해. repeat을 지정하지 않으면 1에폭 후 데이터를 제공하지 못한다.\n",
    "train_dataset = tf.data.Dataset.from_tensor_slices((X_train,y_train)).shuffle(N_TRAIN).batch(N_BATCHS, drop_remainder = True).repeat()\n",
    "#.batch(N_BATCHS): 배치단위로 메모리에 읽어온다.// 메모리 상황에 맞게 배치사이즈 지정하면된다.(비정형데이터 같은경우 용량이 크니까)\n",
    "# 한번에 많은 데이터를 메모리에 읽어오면 메모리에 무리가 생김...\n",
    "\n",
    "val_dataset = tf.data.Dataset.from_tensor_slices((X_test,y_test)).batch(N_BATCHS) #???? 검증만 하니까 한번만 제대로 나오면 되니까 설정별로없음\n",
    "## test셋도 val과 비슷하게 만들면 된.."
   ]
  },
  {
   "cell_type": "code",
   "execution_count": 23,
   "metadata": {},
   "outputs": [],
   "source": [
    "# 모델 생성\n",
    "def create_model():\n",
    "    model = keras.Sequential()  # 모델 객체.생성// 입력층을 안만들었음 // 첫번째 은닉층을 만들때\n",
    "    # 두가지 방법이있다.\n",
    "    # 1.입력 layer를 따로 정의.\n",
    "    # 2.첫번째 layer를 만들때 input_shape(입력데이터를 형태)를 지정하면 입력 layer층이 자동으로 생성된다.\n",
    "    # flatten 해야할 경우 그냥 1번 방법으로 진행하면됨\n",
    "    model.add(keras.layers.Dense(units = 16, activation= 'relu', input_shape = (N_FEATURES,))) #input_shape = (N_FEATURES,)튜플로 지정해야함..//1개데이터의 shape\n",
    "    model.add(keras.layers.Dense(units = 8, activation = 'relu'))\n",
    "    # 출력 layer\n",
    "    model.add(keras.layers.Dense(units = 1)) # 회귀의 출력층 : unit = 1 //  activation 함수는 사용하지 않는다.\n",
    "    \n",
    "# 모델 컴파일 \n",
    "    model.compile(optimizer = tf.keras.optimizers.Adam(learning_rate= LEARNING_RATE), # optimizer의 하이퍼파라미터를 기본값으로 쓸경우 문자열로 \"adam\"으로 선언하면 됨.\n",
    "                  loss = 'mse') #회귀의 loss 함수 : mse 를 주로 사용한다. // metrics도 mse를 사용하기 때문에 따로 설정하지 않는다.\n",
    "    \n",
    "    return model"
   ]
  },
  {
   "cell_type": "code",
   "execution_count": 24,
   "metadata": {},
   "outputs": [
    {
     "data": {
      "text/plain": [
       "(404, 13)"
      ]
     },
     "execution_count": 24,
     "metadata": {},
     "output_type": "execute_result"
    }
   ],
   "source": [
    "X_train.shape #(데이터 개수, 크기)"
   ]
  },
  {
   "cell_type": "code",
   "execution_count": 25,
   "metadata": {},
   "outputs": [],
   "source": [
    "model = create_model()"
   ]
  },
  {
   "cell_type": "code",
   "execution_count": 26,
   "metadata": {},
   "outputs": [
    {
     "name": "stdout",
     "output_type": "stream",
     "text": [
      "Model: \"sequential_1\"\n",
      "_________________________________________________________________\n",
      "Layer (type)                 Output Shape              Param #   \n",
      "=================================================================\n",
      "dense_3 (Dense)              (None, 16)                224       \n",
      "_________________________________________________________________\n",
      "dense_4 (Dense)              (None, 8)                 136       \n",
      "_________________________________________________________________\n",
      "dense_5 (Dense)              (None, 1)                 9         \n",
      "=================================================================\n",
      "Total params: 369\n",
      "Trainable params: 369\n",
      "Non-trainable params: 0\n",
      "_________________________________________________________________\n"
     ]
    }
   ],
   "source": [
    "model.summary()"
   ]
  },
  {
   "cell_type": "code",
   "execution_count": 27,
   "metadata": {},
   "outputs": [],
   "source": [
    "# 1에폭 : 전체 train 데이터 한번 학습// 트레인 데이터에서 batch 사이즈만큼 모델을 지나서 예측결과를 얻은후 오차를 토대로 업데이트가 진행되니까// \n",
    "#트레인 데이터/배치사이즈 만큼 step을 하게 된다.**스텝(Step): 한번 파라미터를 업데이트하는 단위 \n",
    "steps_per_epoch = N_TRAIN//N_BATCHS # 총 step 수가 나온 // dropremainder를 True로  햇으니까 몫만 필요해서  '//'를 햇음 # 학습데이터개수/배치수 \n",
    "\n",
    "# validation\n",
    "validation_steps = int(np.ceil(N_TEST / N_BATCHS))  # 올림하면  .0 때문에 실수니까 정수로 바꾸기"
   ]
  },
  {
   "cell_type": "code",
   "execution_count": 28,
   "metadata": {},
   "outputs": [
    {
     "name": "stdout",
     "output_type": "stream",
     "text": [
      "Train for 12 steps, validate for 4 steps\n",
      "Epoch 1/200\n",
      "12/12 [==============================] - 0s 36ms/step - loss: 402.1756 - val_loss: 239.0792\n",
      "Epoch 2/200\n",
      "12/12 [==============================] - 0s 3ms/step - loss: 151.8999 - val_loss: 120.9074\n",
      "Epoch 3/200\n",
      "12/12 [==============================] - 0s 4ms/step - loss: 81.3070 - val_loss: 104.4386\n",
      "Epoch 4/200\n",
      "12/12 [==============================] - 0s 3ms/step - loss: 77.1330 - val_loss: 99.5287\n",
      "Epoch 5/200\n",
      "12/12 [==============================] - 0s 3ms/step - loss: 73.2870 - val_loss: 102.3875\n",
      "Epoch 6/200\n",
      "12/12 [==============================] - 0s 3ms/step - loss: 73.6594 - val_loss: 96.8372\n",
      "Epoch 7/200\n",
      "12/12 [==============================] - 0s 3ms/step - loss: 68.5961 - val_loss: 105.7052\n",
      "Epoch 8/200\n",
      "12/12 [==============================] - 0s 3ms/step - loss: 68.1735 - val_loss: 96.7148\n",
      "Epoch 9/200\n",
      "12/12 [==============================] - 0s 3ms/step - loss: 64.4891 - val_loss: 99.6242\n",
      "Epoch 10/200\n",
      "12/12 [==============================] - 0s 4ms/step - loss: 64.8099 - val_loss: 94.7956\n",
      "Epoch 11/200\n",
      "12/12 [==============================] - 0s 3ms/step - loss: 65.4377 - val_loss: 93.5169\n",
      "Epoch 12/200\n",
      "12/12 [==============================] - 0s 4ms/step - loss: 62.9740 - val_loss: 92.2851\n",
      "Epoch 13/200\n",
      "12/12 [==============================] - 0s 3ms/step - loss: 63.7099 - val_loss: 90.6814\n",
      "Epoch 14/200\n",
      "12/12 [==============================] - 0s 3ms/step - loss: 65.0336 - val_loss: 90.3487\n",
      "Epoch 15/200\n",
      "12/12 [==============================] - 0s 4ms/step - loss: 63.9684 - val_loss: 90.3886\n",
      "Epoch 16/200\n",
      "12/12 [==============================] - 0s 4ms/step - loss: 62.0394 - val_loss: 88.6108\n",
      "Epoch 17/200\n",
      "12/12 [==============================] - 0s 4ms/step - loss: 62.4096 - val_loss: 93.4703\n",
      "Epoch 18/200\n",
      "12/12 [==============================] - 0s 3ms/step - loss: 59.5261 - val_loss: 85.1806\n",
      "Epoch 19/200\n",
      "12/12 [==============================] - 0s 3ms/step - loss: 61.3428 - val_loss: 86.0758\n",
      "Epoch 20/200\n",
      "12/12 [==============================] - 0s 3ms/step - loss: 58.3868 - val_loss: 86.5942\n",
      "Epoch 21/200\n",
      "12/12 [==============================] - 0s 3ms/step - loss: 59.8239 - val_loss: 83.0461\n",
      "Epoch 22/200\n",
      "12/12 [==============================] - 0s 3ms/step - loss: 60.4442 - val_loss: 81.0010\n",
      "Epoch 23/200\n",
      "12/12 [==============================] - 0s 3ms/step - loss: 57.6439 - val_loss: 86.8079\n",
      "Epoch 24/200\n",
      "12/12 [==============================] - 0s 3ms/step - loss: 58.5588 - val_loss: 80.0078\n",
      "Epoch 25/200\n",
      "12/12 [==============================] - 0s 3ms/step - loss: 55.6146 - val_loss: 80.8006\n",
      "Epoch 26/200\n",
      "12/12 [==============================] - 0s 4ms/step - loss: 55.1755 - val_loss: 86.5272\n",
      "Epoch 27/200\n",
      "12/12 [==============================] - 0s 3ms/step - loss: 56.7222 - val_loss: 76.9069\n",
      "Epoch 28/200\n",
      "12/12 [==============================] - 0s 3ms/step - loss: 55.2426 - val_loss: 80.4709\n",
      "Epoch 29/200\n",
      "12/12 [==============================] - 0s 3ms/step - loss: 56.0066 - val_loss: 76.2385\n",
      "Epoch 30/200\n",
      "12/12 [==============================] - 0s 4ms/step - loss: 55.0820 - val_loss: 81.3397\n",
      "Epoch 31/200\n",
      "12/12 [==============================] - 0s 3ms/step - loss: 54.4144 - val_loss: 74.7921\n",
      "Epoch 32/200\n",
      "12/12 [==============================] - 0s 4ms/step - loss: 53.5696 - val_loss: 79.9435\n",
      "Epoch 33/200\n",
      "12/12 [==============================] - 0s 4ms/step - loss: 51.9430 - val_loss: 74.4227\n",
      "Epoch 34/200\n",
      "12/12 [==============================] - 0s 4ms/step - loss: 50.8528 - val_loss: 74.4612\n",
      "Epoch 35/200\n",
      "12/12 [==============================] - 0s 3ms/step - loss: 52.0572 - val_loss: 72.3950\n",
      "Epoch 36/200\n",
      "12/12 [==============================] - 0s 3ms/step - loss: 56.3639 - val_loss: 75.0957\n",
      "Epoch 37/200\n",
      "12/12 [==============================] - 0s 3ms/step - loss: 58.0538 - val_loss: 72.7176\n",
      "Epoch 38/200\n",
      "12/12 [==============================] - 0s 3ms/step - loss: 55.8469 - val_loss: 85.8494\n",
      "Epoch 39/200\n",
      "12/12 [==============================] - 0s 2ms/step - loss: 50.7781 - val_loss: 71.2032\n",
      "Epoch 40/200\n",
      "12/12 [==============================] - 0s 3ms/step - loss: 50.5251 - val_loss: 69.4462\n",
      "Epoch 41/200\n",
      "12/12 [==============================] - 0s 3ms/step - loss: 50.2312 - val_loss: 71.2047\n",
      "Epoch 42/200\n",
      "12/12 [==============================] - 0s 3ms/step - loss: 51.1090 - val_loss: 72.6919\n",
      "Epoch 43/200\n",
      "12/12 [==============================] - 0s 3ms/step - loss: 47.1106 - val_loss: 69.0461\n",
      "Epoch 44/200\n",
      "12/12 [==============================] - 0s 3ms/step - loss: 46.9172 - val_loss: 68.4506\n",
      "Epoch 45/200\n",
      "12/12 [==============================] - 0s 3ms/step - loss: 49.1659 - val_loss: 67.5604\n",
      "Epoch 46/200\n",
      "12/12 [==============================] - 0s 3ms/step - loss: 49.5845 - val_loss: 66.6459\n",
      "Epoch 47/200\n",
      "12/12 [==============================] - 0s 3ms/step - loss: 49.9568 - val_loss: 67.4414\n",
      "Epoch 48/200\n",
      "12/12 [==============================] - 0s 3ms/step - loss: 47.2701 - val_loss: 66.8274\n",
      "Epoch 49/200\n",
      "12/12 [==============================] - 0s 3ms/step - loss: 48.2489 - val_loss: 67.0387\n",
      "Epoch 50/200\n",
      "12/12 [==============================] - 0s 3ms/step - loss: 50.1579 - val_loss: 64.6146\n",
      "Epoch 51/200\n",
      "12/12 [==============================] - 0s 3ms/step - loss: 45.3427 - val_loss: 64.9217\n",
      "Epoch 52/200\n",
      "12/12 [==============================] - 0s 3ms/step - loss: 45.7545 - val_loss: 65.2818\n",
      "Epoch 53/200\n",
      "12/12 [==============================] - 0s 3ms/step - loss: 42.2191 - val_loss: 63.4426\n",
      "Epoch 54/200\n",
      "12/12 [==============================] - 0s 3ms/step - loss: 45.6220 - val_loss: 63.8125\n",
      "Epoch 55/200\n",
      "12/12 [==============================] - 0s 3ms/step - loss: 44.3202 - val_loss: 62.9416\n",
      "Epoch 56/200\n",
      "12/12 [==============================] - 0s 3ms/step - loss: 44.7217 - val_loss: 68.6659\n",
      "Epoch 57/200\n",
      "12/12 [==============================] - 0s 3ms/step - loss: 47.4383 - val_loss: 66.9072\n",
      "Epoch 58/200\n",
      "12/12 [==============================] - 0s 3ms/step - loss: 46.6368 - val_loss: 61.3961\n",
      "Epoch 59/200\n",
      "12/12 [==============================] - 0s 3ms/step - loss: 43.9872 - val_loss: 60.6247\n",
      "Epoch 60/200\n",
      "12/12 [==============================] - 0s 2ms/step - loss: 45.9647 - val_loss: 60.7900\n",
      "Epoch 61/200\n",
      "12/12 [==============================] - 0s 3ms/step - loss: 45.2187 - val_loss: 60.5361\n",
      "Epoch 62/200\n",
      "12/12 [==============================] - 0s 3ms/step - loss: 42.1026 - val_loss: 60.4174\n",
      "Epoch 63/200\n",
      "12/12 [==============================] - 0s 3ms/step - loss: 41.8696 - val_loss: 59.3985\n",
      "Epoch 64/200\n",
      "12/12 [==============================] - 0s 3ms/step - loss: 43.5113 - val_loss: 59.2489\n",
      "Epoch 65/200\n",
      "12/12 [==============================] - 0s 3ms/step - loss: 43.1631 - val_loss: 63.9555\n",
      "Epoch 66/200\n",
      "12/12 [==============================] - 0s 3ms/step - loss: 42.6488 - val_loss: 58.7775\n",
      "Epoch 67/200\n",
      "12/12 [==============================] - 0s 3ms/step - loss: 42.6960 - val_loss: 66.3218\n",
      "Epoch 68/200\n",
      "12/12 [==============================] - 0s 3ms/step - loss: 43.9614 - val_loss: 58.9223\n",
      "Epoch 69/200\n",
      "12/12 [==============================] - 0s 3ms/step - loss: 41.6968 - val_loss: 57.4759\n",
      "Epoch 70/200\n",
      "12/12 [==============================] - 0s 3ms/step - loss: 40.7622 - val_loss: 59.4052\n",
      "Epoch 71/200\n",
      "12/12 [==============================] - 0s 3ms/step - loss: 40.9530 - val_loss: 56.1775\n",
      "Epoch 72/200\n",
      "12/12 [==============================] - 0s 3ms/step - loss: 42.1056 - val_loss: 59.9877\n",
      "Epoch 73/200\n",
      "12/12 [==============================] - 0s 3ms/step - loss: 41.6055 - val_loss: 59.9041\n",
      "Epoch 74/200\n",
      "12/12 [==============================] - 0s 3ms/step - loss: 38.9769 - val_loss: 58.0634\n",
      "Epoch 75/200\n",
      "12/12 [==============================] - 0s 3ms/step - loss: 41.9724 - val_loss: 54.7375\n",
      "Epoch 76/200\n",
      "12/12 [==============================] - 0s 3ms/step - loss: 39.4094 - val_loss: 56.1887\n",
      "Epoch 77/200\n",
      "12/12 [==============================] - 0s 3ms/step - loss: 39.9596 - val_loss: 60.2336\n",
      "Epoch 78/200\n",
      "12/12 [==============================] - 0s 3ms/step - loss: 39.3306 - val_loss: 55.4171\n",
      "Epoch 79/200\n",
      "12/12 [==============================] - 0s 3ms/step - loss: 41.4842 - val_loss: 57.4870\n",
      "Epoch 80/200\n",
      "12/12 [==============================] - 0s 3ms/step - loss: 35.7655 - val_loss: 53.9507\n"
     ]
    },
    {
     "name": "stdout",
     "output_type": "stream",
     "text": [
      "Epoch 81/200\n",
      "12/12 [==============================] - 0s 3ms/step - loss: 40.6395 - val_loss: 53.9089\n",
      "Epoch 82/200\n",
      "12/12 [==============================] - 0s 3ms/step - loss: 41.8409 - val_loss: 63.6541\n",
      "Epoch 83/200\n",
      "12/12 [==============================] - 0s 3ms/step - loss: 41.3783 - val_loss: 53.3382\n",
      "Epoch 84/200\n",
      "12/12 [==============================] - 0s 3ms/step - loss: 39.6774 - val_loss: 55.3795\n",
      "Epoch 85/200\n",
      "12/12 [==============================] - 0s 3ms/step - loss: 41.2063 - val_loss: 53.4620\n",
      "Epoch 86/200\n",
      "12/12 [==============================] - 0s 3ms/step - loss: 40.0407 - val_loss: 50.9151\n",
      "Epoch 87/200\n",
      "12/12 [==============================] - 0s 3ms/step - loss: 35.3876 - val_loss: 57.0341\n",
      "Epoch 88/200\n",
      "12/12 [==============================] - 0s 3ms/step - loss: 40.0828 - val_loss: 55.3768\n",
      "Epoch 89/200\n",
      "12/12 [==============================] - 0s 3ms/step - loss: 41.4325 - val_loss: 53.9549\n",
      "Epoch 90/200\n",
      "12/12 [==============================] - 0s 3ms/step - loss: 36.9179 - val_loss: 51.1429\n",
      "Epoch 91/200\n",
      "12/12 [==============================] - 0s 2ms/step - loss: 38.8322 - val_loss: 50.9436\n",
      "Epoch 92/200\n",
      "12/12 [==============================] - 0s 3ms/step - loss: 39.3039 - val_loss: 50.9130\n",
      "Epoch 93/200\n",
      "12/12 [==============================] - 0s 3ms/step - loss: 39.6712 - val_loss: 50.6565\n",
      "Epoch 94/200\n",
      "12/12 [==============================] - 0s 3ms/step - loss: 38.1553 - val_loss: 51.8271\n",
      "Epoch 95/200\n",
      "12/12 [==============================] - 0s 3ms/step - loss: 36.1023 - val_loss: 49.4534\n",
      "Epoch 96/200\n",
      "12/12 [==============================] - 0s 2ms/step - loss: 41.5882 - val_loss: 50.9062\n",
      "Epoch 97/200\n",
      "12/12 [==============================] - 0s 2ms/step - loss: 38.6762 - val_loss: 49.2382\n",
      "Epoch 98/200\n",
      "12/12 [==============================] - 0s 2ms/step - loss: 39.1162 - val_loss: 49.8827\n",
      "Epoch 99/200\n",
      "12/12 [==============================] - 0s 3ms/step - loss: 36.4666 - val_loss: 51.2218\n",
      "Epoch 100/200\n",
      "12/12 [==============================] - 0s 3ms/step - loss: 34.7881 - val_loss: 49.5943\n",
      "Epoch 101/200\n",
      "12/12 [==============================] - 0s 2ms/step - loss: 38.8773 - val_loss: 48.7423\n",
      "Epoch 102/200\n",
      "12/12 [==============================] - 0s 3ms/step - loss: 38.0817 - val_loss: 49.0095\n",
      "Epoch 103/200\n",
      "12/12 [==============================] - 0s 3ms/step - loss: 35.2724 - val_loss: 47.9767\n",
      "Epoch 104/200\n",
      "12/12 [==============================] - 0s 3ms/step - loss: 37.3092 - val_loss: 51.0182\n",
      "Epoch 105/200\n",
      "12/12 [==============================] - 0s 3ms/step - loss: 37.7346 - val_loss: 47.8397\n",
      "Epoch 106/200\n",
      "12/12 [==============================] - 0s 3ms/step - loss: 37.8885 - val_loss: 47.5388\n",
      "Epoch 107/200\n",
      "12/12 [==============================] - 0s 3ms/step - loss: 38.4335 - val_loss: 48.4857\n",
      "Epoch 108/200\n",
      "12/12 [==============================] - 0s 3ms/step - loss: 38.6801 - val_loss: 46.7803\n",
      "Epoch 109/200\n",
      "12/12 [==============================] - 0s 3ms/step - loss: 36.5863 - val_loss: 48.7671\n",
      "Epoch 110/200\n",
      "12/12 [==============================] - 0s 3ms/step - loss: 35.7232 - val_loss: 49.9738\n",
      "Epoch 111/200\n",
      "12/12 [==============================] - 0s 3ms/step - loss: 36.3928 - val_loss: 48.0733\n",
      "Epoch 112/200\n",
      "12/12 [==============================] - 0s 3ms/step - loss: 35.2898 - val_loss: 50.4938\n",
      "Epoch 113/200\n",
      "12/12 [==============================] - 0s 3ms/step - loss: 37.6640 - val_loss: 49.3602\n",
      "Epoch 114/200\n",
      "12/12 [==============================] - 0s 2ms/step - loss: 36.7590 - val_loss: 50.6795\n",
      "Epoch 115/200\n",
      "12/12 [==============================] - 0s 3ms/step - loss: 36.8200 - val_loss: 45.8221\n",
      "Epoch 116/200\n",
      "12/12 [==============================] - 0s 3ms/step - loss: 36.3729 - val_loss: 46.2563\n",
      "Epoch 117/200\n",
      "12/12 [==============================] - 0s 3ms/step - loss: 36.4167 - val_loss: 46.5439\n",
      "Epoch 118/200\n",
      "12/12 [==============================] - 0s 3ms/step - loss: 34.5780 - val_loss: 46.5030\n",
      "Epoch 119/200\n",
      "12/12 [==============================] - 0s 3ms/step - loss: 37.6742 - val_loss: 46.3432\n",
      "Epoch 120/200\n",
      "12/12 [==============================] - 0s 3ms/step - loss: 38.4758 - val_loss: 51.2389\n",
      "Epoch 121/200\n",
      "12/12 [==============================] - 0s 3ms/step - loss: 36.2951 - val_loss: 45.6070\n",
      "Epoch 122/200\n",
      "12/12 [==============================] - 0s 3ms/step - loss: 36.6792 - val_loss: 45.8387\n",
      "Epoch 123/200\n",
      "12/12 [==============================] - 0s 3ms/step - loss: 35.6400 - val_loss: 46.1335\n",
      "Epoch 124/200\n",
      "12/12 [==============================] - 0s 3ms/step - loss: 37.0662 - val_loss: 43.7563\n",
      "Epoch 125/200\n",
      "12/12 [==============================] - 0s 3ms/step - loss: 37.2502 - val_loss: 45.1508\n",
      "Epoch 126/200\n",
      "12/12 [==============================] - 0s 3ms/step - loss: 36.9471 - val_loss: 46.3435\n",
      "Epoch 127/200\n",
      "12/12 [==============================] - 0s 3ms/step - loss: 36.2343 - val_loss: 46.8887\n",
      "Epoch 128/200\n",
      "12/12 [==============================] - 0s 3ms/step - loss: 34.9077 - val_loss: 44.7797\n",
      "Epoch 129/200\n",
      "12/12 [==============================] - 0s 2ms/step - loss: 36.0079 - val_loss: 44.3926\n",
      "Epoch 130/200\n",
      "12/12 [==============================] - 0s 3ms/step - loss: 35.8052 - val_loss: 48.6851\n",
      "Epoch 131/200\n",
      "12/12 [==============================] - 0s 3ms/step - loss: 36.5314 - val_loss: 44.6947\n",
      "Epoch 132/200\n",
      "12/12 [==============================] - 0s 3ms/step - loss: 35.1258 - val_loss: 45.5119\n",
      "Epoch 133/200\n",
      "12/12 [==============================] - 0s 3ms/step - loss: 37.3060 - val_loss: 45.5628\n",
      "Epoch 134/200\n",
      "12/12 [==============================] - 0s 3ms/step - loss: 35.4222 - val_loss: 44.5694\n",
      "Epoch 135/200\n",
      "12/12 [==============================] - 0s 3ms/step - loss: 33.0794 - val_loss: 43.5407\n",
      "Epoch 136/200\n",
      "12/12 [==============================] - 0s 3ms/step - loss: 34.5928 - val_loss: 45.8809\n",
      "Epoch 137/200\n",
      "12/12 [==============================] - 0s 3ms/step - loss: 35.3102 - val_loss: 45.6709\n",
      "Epoch 138/200\n",
      "12/12 [==============================] - 0s 3ms/step - loss: 36.0494 - val_loss: 43.6593\n",
      "Epoch 139/200\n",
      "12/12 [==============================] - 0s 3ms/step - loss: 31.6362 - val_loss: 46.0003\n",
      "Epoch 140/200\n",
      "12/12 [==============================] - 0s 3ms/step - loss: 35.6327 - val_loss: 44.8853\n",
      "Epoch 141/200\n",
      "12/12 [==============================] - 0s 3ms/step - loss: 35.7827 - val_loss: 46.7908\n",
      "Epoch 142/200\n",
      "12/12 [==============================] - 0s 3ms/step - loss: 35.2612 - val_loss: 44.0635\n",
      "Epoch 143/200\n",
      "12/12 [==============================] - 0s 3ms/step - loss: 35.2579 - val_loss: 42.9545\n",
      "Epoch 144/200\n",
      "12/12 [==============================] - 0s 3ms/step - loss: 36.3229 - val_loss: 42.8788\n",
      "Epoch 145/200\n",
      "12/12 [==============================] - 0s 3ms/step - loss: 35.0171 - val_loss: 43.1785\n",
      "Epoch 146/200\n",
      "12/12 [==============================] - 0s 3ms/step - loss: 32.7783 - val_loss: 45.3316\n",
      "Epoch 147/200\n",
      "12/12 [==============================] - 0s 2ms/step - loss: 35.4734 - val_loss: 42.2680\n",
      "Epoch 148/200\n",
      "12/12 [==============================] - 0s 2ms/step - loss: 35.7032 - val_loss: 48.9488\n",
      "Epoch 149/200\n",
      "12/12 [==============================] - 0s 2ms/step - loss: 35.7451 - val_loss: 44.0936\n",
      "Epoch 150/200\n",
      "12/12 [==============================] - 0s 3ms/step - loss: 36.4797 - val_loss: 42.6408\n",
      "Epoch 151/200\n",
      "12/12 [==============================] - 0s 3ms/step - loss: 34.7162 - val_loss: 45.1105\n",
      "Epoch 152/200\n",
      "12/12 [==============================] - 0s 2ms/step - loss: 35.9736 - val_loss: 43.5559\n",
      "Epoch 153/200\n",
      "12/12 [==============================] - 0s 3ms/step - loss: 32.8387 - val_loss: 42.6934\n",
      "Epoch 154/200\n",
      "12/12 [==============================] - 0s 3ms/step - loss: 33.9922 - val_loss: 42.2322\n",
      "Epoch 155/200\n",
      "12/12 [==============================] - 0s 3ms/step - loss: 35.4931 - val_loss: 42.3189\n",
      "Epoch 156/200\n",
      "12/12 [==============================] - 0s 3ms/step - loss: 34.7526 - val_loss: 42.6368\n",
      "Epoch 157/200\n",
      "12/12 [==============================] - 0s 3ms/step - loss: 34.6434 - val_loss: 42.7124\n",
      "Epoch 158/200\n",
      "12/12 [==============================] - 0s 3ms/step - loss: 33.3328 - val_loss: 41.7090\n",
      "Epoch 159/200\n",
      "12/12 [==============================] - 0s 3ms/step - loss: 34.2025 - val_loss: 42.8937\n",
      "Epoch 160/200\n"
     ]
    },
    {
     "name": "stdout",
     "output_type": "stream",
     "text": [
      "12/12 [==============================] - 0s 3ms/step - loss: 33.3250 - val_loss: 42.3829\n",
      "Epoch 161/200\n",
      "12/12 [==============================] - 0s 3ms/step - loss: 33.8451 - val_loss: 43.0780\n",
      "Epoch 162/200\n",
      "12/12 [==============================] - 0s 2ms/step - loss: 34.4304 - val_loss: 42.0786\n",
      "Epoch 163/200\n",
      "12/12 [==============================] - 0s 3ms/step - loss: 33.9570 - val_loss: 42.5185\n",
      "Epoch 164/200\n",
      "12/12 [==============================] - 0s 3ms/step - loss: 35.2657 - val_loss: 42.1647\n",
      "Epoch 165/200\n",
      "12/12 [==============================] - 0s 3ms/step - loss: 35.4410 - val_loss: 42.4210\n",
      "Epoch 166/200\n",
      "12/12 [==============================] - 0s 3ms/step - loss: 33.9625 - val_loss: 42.6780\n",
      "Epoch 167/200\n",
      "12/12 [==============================] - 0s 3ms/step - loss: 34.1748 - val_loss: 43.0065\n",
      "Epoch 168/200\n",
      "12/12 [==============================] - 0s 3ms/step - loss: 36.5509 - val_loss: 43.5831\n",
      "Epoch 169/200\n",
      "12/12 [==============================] - 0s 3ms/step - loss: 32.7472 - val_loss: 41.8438\n",
      "Epoch 170/200\n",
      "12/12 [==============================] - 0s 3ms/step - loss: 32.7444 - val_loss: 40.8911\n",
      "Epoch 171/200\n",
      "12/12 [==============================] - 0s 3ms/step - loss: 33.2411 - val_loss: 41.8906\n",
      "Epoch 172/200\n",
      "12/12 [==============================] - 0s 3ms/step - loss: 34.6767 - val_loss: 43.4839\n",
      "Epoch 173/200\n",
      "12/12 [==============================] - 0s 3ms/step - loss: 34.8062 - val_loss: 41.1269\n",
      "Epoch 174/200\n",
      "12/12 [==============================] - 0s 3ms/step - loss: 33.0958 - val_loss: 41.2674\n",
      "Epoch 175/200\n",
      "12/12 [==============================] - 0s 3ms/step - loss: 34.4121 - val_loss: 40.7267\n",
      "Epoch 176/200\n",
      "12/12 [==============================] - 0s 3ms/step - loss: 33.5598 - val_loss: 43.7371\n",
      "Epoch 177/200\n",
      "12/12 [==============================] - 0s 3ms/step - loss: 34.2061 - val_loss: 43.0726\n",
      "Epoch 178/200\n",
      "12/12 [==============================] - 0s 3ms/step - loss: 34.7221 - val_loss: 40.5014\n",
      "Epoch 179/200\n",
      "12/12 [==============================] - 0s 3ms/step - loss: 33.3808 - val_loss: 43.0057\n",
      "Epoch 180/200\n",
      "12/12 [==============================] - 0s 3ms/step - loss: 33.4244 - val_loss: 40.7363\n",
      "Epoch 181/200\n",
      "12/12 [==============================] - 0s 3ms/step - loss: 35.0616 - val_loss: 41.3751\n",
      "Epoch 182/200\n",
      "12/12 [==============================] - 0s 3ms/step - loss: 34.1833 - val_loss: 44.5758\n",
      "Epoch 183/200\n",
      "12/12 [==============================] - 0s 3ms/step - loss: 35.8915 - val_loss: 41.7643\n",
      "Epoch 184/200\n",
      "12/12 [==============================] - 0s 3ms/step - loss: 34.8062 - val_loss: 43.7791\n",
      "Epoch 185/200\n",
      "12/12 [==============================] - 0s 3ms/step - loss: 33.8466 - val_loss: 40.9773\n",
      "Epoch 186/200\n",
      "12/12 [==============================] - 0s 3ms/step - loss: 32.5418 - val_loss: 43.7228\n",
      "Epoch 187/200\n",
      "12/12 [==============================] - 0s 3ms/step - loss: 33.7945 - val_loss: 40.0882\n",
      "Epoch 188/200\n",
      "12/12 [==============================] - 0s 3ms/step - loss: 36.1498 - val_loss: 45.5055\n",
      "Epoch 189/200\n",
      "12/12 [==============================] - 0s 3ms/step - loss: 36.4542 - val_loss: 42.6976\n",
      "Epoch 190/200\n",
      "12/12 [==============================] - 0s 3ms/step - loss: 33.8898 - val_loss: 40.5609\n",
      "Epoch 191/200\n",
      "12/12 [==============================] - 0s 3ms/step - loss: 35.1105 - val_loss: 40.3852\n",
      "Epoch 192/200\n",
      "12/12 [==============================] - 0s 3ms/step - loss: 35.8341 - val_loss: 40.4043\n",
      "Epoch 193/200\n",
      "12/12 [==============================] - 0s 3ms/step - loss: 33.4818 - val_loss: 43.2756\n",
      "Epoch 194/200\n",
      "12/12 [==============================] - 0s 3ms/step - loss: 34.0635 - val_loss: 43.2660\n",
      "Epoch 195/200\n",
      "12/12 [==============================] - 0s 3ms/step - loss: 34.8828 - val_loss: 39.8638\n",
      "Epoch 196/200\n",
      "12/12 [==============================] - 0s 3ms/step - loss: 33.3723 - val_loss: 40.8599\n",
      "Epoch 197/200\n",
      "12/12 [==============================] - 0s 3ms/step - loss: 34.1927 - val_loss: 40.8968\n",
      "Epoch 198/200\n",
      "12/12 [==============================] - 0s 3ms/step - loss: 33.5358 - val_loss: 39.9343\n",
      "Epoch 199/200\n",
      "12/12 [==============================] - 0s 3ms/step - loss: 33.6734 - val_loss: 40.1557\n",
      "Epoch 200/200\n",
      "12/12 [==============================] - 0s 3ms/step - loss: 32.8767 - val_loss: 51.7618\n"
     ]
    }
   ],
   "source": [
    "history = model.fit(train_dataset, # 학습데이터셋 (x_train,y_train) \n",
    "                      epochs = N_EPOCHS,\n",
    "                      steps_per_epoch= steps_per_epoch, #1 에폭당 step수////1step :한번 가중치 업데이트 /tf2.4부터는 생략가능\n",
    "                      validation_data = val_dataset, # 검증데이터셋 지정.\n",
    "                      validation_steps = validation_steps)\n",
    "# 한번 에폭완료 후 train data를 shuffle하고 배치사이즈만큼 모델에 던지고 그다음 에폭후 셔플,배치사이즈 만큼 던지고... 에폭 횟수 끝날때까지..repeat"
   ]
  },
  {
   "cell_type": "code",
   "execution_count": 31,
   "metadata": {},
   "outputs": [
    {
     "data": {
      "text/plain": [
       "dict_keys(['loss', 'val_loss'])"
      ]
     },
     "execution_count": 31,
     "metadata": {},
     "output_type": "execute_result"
    }
   ],
   "source": [
    "history.history.keys() # 딕셔너리로 반환해준다~~!"
   ]
  },
  {
   "cell_type": "code",
   "execution_count": 32,
   "metadata": {
    "collapsed": true
   },
   "outputs": [
    {
     "data": {
      "text/plain": [
       "{'loss': [402.1755714416504,\n",
       "  151.8999080657959,\n",
       "  81.30701160430908,\n",
       "  77.13301118214925,\n",
       "  73.28703467051189,\n",
       "  73.65941619873047,\n",
       "  68.59605550765991,\n",
       "  68.17346239089966,\n",
       "  64.48908138275146,\n",
       "  64.8098824818929,\n",
       "  65.43766578038533,\n",
       "  62.97398026784261,\n",
       "  63.70985635121664,\n",
       "  65.03363641103108,\n",
       "  63.968371550242104,\n",
       "  62.03939040501913,\n",
       "  62.409614404042564,\n",
       "  59.52605644861857,\n",
       "  61.34282080332438,\n",
       "  58.386757691701256,\n",
       "  59.823924700419106,\n",
       "  60.44420623779297,\n",
       "  57.643933137257896,\n",
       "  58.558788458506264,\n",
       "  55.61461035410563,\n",
       "  55.175479571024574,\n",
       "  56.72218449910482,\n",
       "  55.2426438331604,\n",
       "  56.00656016667684,\n",
       "  55.081990242004395,\n",
       "  54.414416472117104,\n",
       "  53.56959597269694,\n",
       "  51.94300206502279,\n",
       "  50.852795441945396,\n",
       "  52.05717945098877,\n",
       "  56.36387538909912,\n",
       "  58.05383268992106,\n",
       "  55.84691349665324,\n",
       "  50.77808666229248,\n",
       "  50.52508211135864,\n",
       "  50.231220960617065,\n",
       "  51.10897922515869,\n",
       "  47.1106162071228,\n",
       "  46.91719579696655,\n",
       "  49.16593964894613,\n",
       "  49.584521770477295,\n",
       "  49.956803957621254,\n",
       "  47.27008867263794,\n",
       "  48.24892775217692,\n",
       "  50.157850901285805,\n",
       "  45.342668533325195,\n",
       "  45.75454314549764,\n",
       "  42.21909952163696,\n",
       "  45.62204090754191,\n",
       "  44.32019805908203,\n",
       "  44.72172975540161,\n",
       "  47.43827247619629,\n",
       "  46.63679726918539,\n",
       "  43.98722394307455,\n",
       "  45.9646741549174,\n",
       "  45.21869993209839,\n",
       "  42.10261329015096,\n",
       "  41.869609673817955,\n",
       "  43.511267026265465,\n",
       "  43.163065910339355,\n",
       "  42.648751735687256,\n",
       "  42.69603697458903,\n",
       "  43.961432774861656,\n",
       "  41.69684569040934,\n",
       "  40.762214501698814,\n",
       "  40.952980518341064,\n",
       "  42.10564390818278,\n",
       "  41.60549974441528,\n",
       "  38.976925214131676,\n",
       "  41.97237046559652,\n",
       "  39.409361362457275,\n",
       "  39.959607442220054,\n",
       "  39.33064397176107,\n",
       "  41.48420206705729,\n",
       "  35.76548480987549,\n",
       "  40.639527002970375,\n",
       "  41.840893586476646,\n",
       "  41.378340085347496,\n",
       "  39.67741552988688,\n",
       "  41.2063315709432,\n",
       "  40.04070425033569,\n",
       "  35.387570222218834,\n",
       "  40.082754929860435,\n",
       "  41.43246157964071,\n",
       "  36.91786162058512,\n",
       "  38.832241217295326,\n",
       "  39.30388116836548,\n",
       "  39.671213229497276,\n",
       "  38.155309995015465,\n",
       "  36.1023363272349,\n",
       "  41.5881552696228,\n",
       "  38.6762433052063,\n",
       "  39.11619965235392,\n",
       "  36.46663490931193,\n",
       "  34.78805239995321,\n",
       "  38.87733507156372,\n",
       "  38.08166186014811,\n",
       "  35.27239418029785,\n",
       "  37.30921459197998,\n",
       "  37.734583377838135,\n",
       "  37.888458490371704,\n",
       "  38.43354654312134,\n",
       "  38.68011999130249,\n",
       "  36.58634066581726,\n",
       "  35.723216692606606,\n",
       "  36.39282210667928,\n",
       "  35.2898493607839,\n",
       "  37.663970947265625,\n",
       "  36.759003003438316,\n",
       "  36.820049126942955,\n",
       "  36.372897148132324,\n",
       "  36.416689236958824,\n",
       "  34.57796065012614,\n",
       "  37.67422914505005,\n",
       "  38.475776036580406,\n",
       "  36.295064767201744,\n",
       "  36.67917490005493,\n",
       "  35.64001178741455,\n",
       "  37.06617975234985,\n",
       "  37.25017023086548,\n",
       "  36.9471443494161,\n",
       "  36.2342521349589,\n",
       "  34.9076821009318,\n",
       "  36.007909536361694,\n",
       "  35.80521376927694,\n",
       "  36.53144391377767,\n",
       "  35.12577692667643,\n",
       "  37.30595906575521,\n",
       "  35.42224947611491,\n",
       "  33.079446156819664,\n",
       "  34.59278790156046,\n",
       "  35.310211499532066,\n",
       "  36.04941956202189,\n",
       "  31.636187156041462,\n",
       "  35.6326896349589,\n",
       "  35.78272422154745,\n",
       "  35.261199633280434,\n",
       "  35.25794013341268,\n",
       "  36.32292779286703,\n",
       "  35.017119566599526,\n",
       "  32.77834288279215,\n",
       "  35.473411877950035,\n",
       "  35.703234354654946,\n",
       "  35.745144526163735,\n",
       "  36.47974634170532,\n",
       "  34.71617873509725,\n",
       "  35.9736176331838,\n",
       "  32.838735262552895,\n",
       "  33.992223262786865,\n",
       "  35.49308204650879,\n",
       "  34.752627531687416,\n",
       "  34.64336824417114,\n",
       "  33.33279720942179,\n",
       "  34.20252466201782,\n",
       "  33.32500624656677,\n",
       "  33.845096270243324,\n",
       "  34.43042993545532,\n",
       "  33.95702393849691,\n",
       "  35.265668074289955,\n",
       "  35.440987745920815,\n",
       "  33.9625031153361,\n",
       "  34.17483790715536,\n",
       "  36.5509352684021,\n",
       "  32.747190395991005,\n",
       "  32.7443839708964,\n",
       "  33.24112892150879,\n",
       "  34.67674700419108,\n",
       "  34.806246757507324,\n",
       "  33.09579110145569,\n",
       "  34.4120512008667,\n",
       "  33.559787114461265,\n",
       "  34.206089655558266,\n",
       "  34.72210454940796,\n",
       "  33.3808004061381,\n",
       "  33.424382050832115,\n",
       "  35.0616192817688,\n",
       "  34.183286348978676,\n",
       "  35.89150126775106,\n",
       "  34.80615345637003,\n",
       "  33.84657414754232,\n",
       "  32.54181353251139,\n",
       "  33.79453961054484,\n",
       "  36.14983097712199,\n",
       "  36.45422172546387,\n",
       "  33.88977098464966,\n",
       "  35.11047554016113,\n",
       "  35.83410358428955,\n",
       "  33.48175875345866,\n",
       "  34.06353950500488,\n",
       "  34.88276163736979,\n",
       "  33.37225898106893,\n",
       "  34.19273201624552,\n",
       "  33.53582874933878,\n",
       "  33.673423767089844,\n",
       "  32.87668530146281],\n",
       " 'val_loss': [239.07921409606934,\n",
       "  120.90739154815674,\n",
       "  104.43864727020264,\n",
       "  99.52873229980469,\n",
       "  102.38753890991211,\n",
       "  96.83716106414795,\n",
       "  105.70520973205566,\n",
       "  96.71477127075195,\n",
       "  99.62417411804199,\n",
       "  94.79558277130127,\n",
       "  93.51691913604736,\n",
       "  92.28505611419678,\n",
       "  90.681396484375,\n",
       "  90.34867191314697,\n",
       "  90.38856506347656,\n",
       "  88.61078262329102,\n",
       "  93.47032928466797,\n",
       "  85.18064308166504,\n",
       "  86.07576370239258,\n",
       "  86.59419918060303,\n",
       "  83.04612731933594,\n",
       "  81.00098419189453,\n",
       "  86.80790615081787,\n",
       "  80.00780963897705,\n",
       "  80.80056667327881,\n",
       "  86.52716541290283,\n",
       "  76.9068832397461,\n",
       "  80.47087955474854,\n",
       "  76.23849487304688,\n",
       "  81.33969497680664,\n",
       "  74.79212665557861,\n",
       "  79.9434871673584,\n",
       "  74.42268657684326,\n",
       "  74.46122074127197,\n",
       "  72.39503479003906,\n",
       "  75.09574317932129,\n",
       "  72.71757221221924,\n",
       "  85.84942531585693,\n",
       "  71.20319080352783,\n",
       "  69.44615173339844,\n",
       "  71.20471668243408,\n",
       "  72.69189643859863,\n",
       "  69.04610443115234,\n",
       "  68.45055294036865,\n",
       "  67.5604362487793,\n",
       "  66.64585781097412,\n",
       "  67.44141960144043,\n",
       "  66.82737159729004,\n",
       "  67.03874111175537,\n",
       "  64.61459159851074,\n",
       "  64.92174911499023,\n",
       "  65.28183937072754,\n",
       "  63.44264602661133,\n",
       "  63.81246852874756,\n",
       "  62.94162368774414,\n",
       "  68.66588830947876,\n",
       "  66.90720272064209,\n",
       "  61.39607334136963,\n",
       "  60.624725341796875,\n",
       "  60.79004383087158,\n",
       "  60.53614044189453,\n",
       "  60.41739463806152,\n",
       "  59.39851140975952,\n",
       "  59.24888467788696,\n",
       "  63.95545768737793,\n",
       "  58.7774543762207,\n",
       "  66.32180881500244,\n",
       "  58.9223108291626,\n",
       "  57.475913524627686,\n",
       "  59.40518045425415,\n",
       "  56.1775107383728,\n",
       "  59.987725257873535,\n",
       "  59.904056549072266,\n",
       "  58.063424587249756,\n",
       "  54.73746871948242,\n",
       "  56.18869590759277,\n",
       "  60.233566761016846,\n",
       "  55.41706037521362,\n",
       "  57.487037658691406,\n",
       "  53.95069074630737,\n",
       "  53.90892791748047,\n",
       "  63.65413284301758,\n",
       "  53.33818340301514,\n",
       "  55.37947607040405,\n",
       "  53.46204471588135,\n",
       "  50.915080070495605,\n",
       "  57.03406381607056,\n",
       "  55.37678623199463,\n",
       "  53.95487308502197,\n",
       "  51.1428918838501,\n",
       "  50.94361686706543,\n",
       "  50.91301918029785,\n",
       "  50.656476974487305,\n",
       "  51.82711601257324,\n",
       "  49.45340538024902,\n",
       "  50.9062237739563,\n",
       "  49.23823881149292,\n",
       "  49.88273572921753,\n",
       "  51.221832275390625,\n",
       "  49.59430694580078,\n",
       "  48.742305278778076,\n",
       "  49.00953674316406,\n",
       "  47.97669744491577,\n",
       "  51.01818227767944,\n",
       "  47.83969593048096,\n",
       "  47.53881216049194,\n",
       "  48.48572015762329,\n",
       "  46.78033638000488,\n",
       "  48.76705741882324,\n",
       "  49.97376108169556,\n",
       "  48.073317527770996,\n",
       "  50.49379539489746,\n",
       "  49.360156536102295,\n",
       "  50.6794638633728,\n",
       "  45.822142124176025,\n",
       "  46.256333351135254,\n",
       "  46.54389524459839,\n",
       "  46.502997398376465,\n",
       "  46.343204498291016,\n",
       "  51.23885154724121,\n",
       "  45.606990814208984,\n",
       "  45.838741302490234,\n",
       "  46.133506774902344,\n",
       "  43.756327629089355,\n",
       "  45.150824546813965,\n",
       "  46.343504905700684,\n",
       "  46.88866186141968,\n",
       "  44.77969980239868,\n",
       "  44.39262628555298,\n",
       "  48.68511199951172,\n",
       "  44.694708824157715,\n",
       "  45.51188516616821,\n",
       "  45.56277561187744,\n",
       "  44.56939172744751,\n",
       "  43.54068565368652,\n",
       "  45.88091850280762,\n",
       "  45.67090368270874,\n",
       "  43.65925312042236,\n",
       "  46.00031328201294,\n",
       "  44.8852972984314,\n",
       "  46.79081916809082,\n",
       "  44.06348943710327,\n",
       "  42.95445919036865,\n",
       "  42.87875699996948,\n",
       "  43.178518772125244,\n",
       "  45.33159255981445,\n",
       "  42.2680459022522,\n",
       "  48.94879102706909,\n",
       "  44.093634605407715,\n",
       "  42.64076375961304,\n",
       "  45.11051368713379,\n",
       "  43.555893898010254,\n",
       "  42.69339179992676,\n",
       "  42.23221015930176,\n",
       "  42.31887435913086,\n",
       "  42.636802196502686,\n",
       "  42.712427616119385,\n",
       "  41.70903205871582,\n",
       "  42.89370250701904,\n",
       "  42.38286209106445,\n",
       "  43.077993869781494,\n",
       "  42.078606605529785,\n",
       "  42.51846694946289,\n",
       "  42.164652824401855,\n",
       "  42.420979499816895,\n",
       "  42.67800045013428,\n",
       "  43.00647735595703,\n",
       "  43.58310031890869,\n",
       "  41.843796730041504,\n",
       "  40.89112901687622,\n",
       "  41.890578746795654,\n",
       "  43.483932971954346,\n",
       "  41.1269326210022,\n",
       "  41.267446994781494,\n",
       "  40.72666263580322,\n",
       "  43.73710060119629,\n",
       "  43.07261514663696,\n",
       "  40.50139808654785,\n",
       "  43.0056791305542,\n",
       "  40.73627519607544,\n",
       "  41.375099182128906,\n",
       "  44.57577562332153,\n",
       "  41.76429224014282,\n",
       "  43.779057025909424,\n",
       "  40.97725057601929,\n",
       "  43.72283887863159,\n",
       "  40.08817720413208,\n",
       "  45.505473136901855,\n",
       "  42.697628021240234,\n",
       "  40.560925006866455,\n",
       "  40.38515663146973,\n",
       "  40.40430545806885,\n",
       "  43.275580406188965,\n",
       "  43.26603412628174,\n",
       "  39.863800048828125,\n",
       "  40.85993480682373,\n",
       "  40.89683294296265,\n",
       "  39.93431806564331,\n",
       "  40.1556715965271,\n",
       "  51.76176357269287]}"
      ]
     },
     "execution_count": 32,
     "metadata": {},
     "output_type": "execute_result"
    }
   ],
   "source": [
    "history.history  # 딕셔너리로 반환해준다~~!"
   ]
  },
  {
   "cell_type": "code",
   "execution_count": 33,
   "metadata": {
    "collapsed": true
   },
   "outputs": [
    {
     "data": {
      "text/plain": [
       "[239.07921409606934,\n",
       " 120.90739154815674,\n",
       " 104.43864727020264,\n",
       " 99.52873229980469,\n",
       " 102.38753890991211,\n",
       " 96.83716106414795,\n",
       " 105.70520973205566,\n",
       " 96.71477127075195,\n",
       " 99.62417411804199,\n",
       " 94.79558277130127,\n",
       " 93.51691913604736,\n",
       " 92.28505611419678,\n",
       " 90.681396484375,\n",
       " 90.34867191314697,\n",
       " 90.38856506347656,\n",
       " 88.61078262329102,\n",
       " 93.47032928466797,\n",
       " 85.18064308166504,\n",
       " 86.07576370239258,\n",
       " 86.59419918060303,\n",
       " 83.04612731933594,\n",
       " 81.00098419189453,\n",
       " 86.80790615081787,\n",
       " 80.00780963897705,\n",
       " 80.80056667327881,\n",
       " 86.52716541290283,\n",
       " 76.9068832397461,\n",
       " 80.47087955474854,\n",
       " 76.23849487304688,\n",
       " 81.33969497680664,\n",
       " 74.79212665557861,\n",
       " 79.9434871673584,\n",
       " 74.42268657684326,\n",
       " 74.46122074127197,\n",
       " 72.39503479003906,\n",
       " 75.09574317932129,\n",
       " 72.71757221221924,\n",
       " 85.84942531585693,\n",
       " 71.20319080352783,\n",
       " 69.44615173339844,\n",
       " 71.20471668243408,\n",
       " 72.69189643859863,\n",
       " 69.04610443115234,\n",
       " 68.45055294036865,\n",
       " 67.5604362487793,\n",
       " 66.64585781097412,\n",
       " 67.44141960144043,\n",
       " 66.82737159729004,\n",
       " 67.03874111175537,\n",
       " 64.61459159851074,\n",
       " 64.92174911499023,\n",
       " 65.28183937072754,\n",
       " 63.44264602661133,\n",
       " 63.81246852874756,\n",
       " 62.94162368774414,\n",
       " 68.66588830947876,\n",
       " 66.90720272064209,\n",
       " 61.39607334136963,\n",
       " 60.624725341796875,\n",
       " 60.79004383087158,\n",
       " 60.53614044189453,\n",
       " 60.41739463806152,\n",
       " 59.39851140975952,\n",
       " 59.24888467788696,\n",
       " 63.95545768737793,\n",
       " 58.7774543762207,\n",
       " 66.32180881500244,\n",
       " 58.9223108291626,\n",
       " 57.475913524627686,\n",
       " 59.40518045425415,\n",
       " 56.1775107383728,\n",
       " 59.987725257873535,\n",
       " 59.904056549072266,\n",
       " 58.063424587249756,\n",
       " 54.73746871948242,\n",
       " 56.18869590759277,\n",
       " 60.233566761016846,\n",
       " 55.41706037521362,\n",
       " 57.487037658691406,\n",
       " 53.95069074630737,\n",
       " 53.90892791748047,\n",
       " 63.65413284301758,\n",
       " 53.33818340301514,\n",
       " 55.37947607040405,\n",
       " 53.46204471588135,\n",
       " 50.915080070495605,\n",
       " 57.03406381607056,\n",
       " 55.37678623199463,\n",
       " 53.95487308502197,\n",
       " 51.1428918838501,\n",
       " 50.94361686706543,\n",
       " 50.91301918029785,\n",
       " 50.656476974487305,\n",
       " 51.82711601257324,\n",
       " 49.45340538024902,\n",
       " 50.9062237739563,\n",
       " 49.23823881149292,\n",
       " 49.88273572921753,\n",
       " 51.221832275390625,\n",
       " 49.59430694580078,\n",
       " 48.742305278778076,\n",
       " 49.00953674316406,\n",
       " 47.97669744491577,\n",
       " 51.01818227767944,\n",
       " 47.83969593048096,\n",
       " 47.53881216049194,\n",
       " 48.48572015762329,\n",
       " 46.78033638000488,\n",
       " 48.76705741882324,\n",
       " 49.97376108169556,\n",
       " 48.073317527770996,\n",
       " 50.49379539489746,\n",
       " 49.360156536102295,\n",
       " 50.6794638633728,\n",
       " 45.822142124176025,\n",
       " 46.256333351135254,\n",
       " 46.54389524459839,\n",
       " 46.502997398376465,\n",
       " 46.343204498291016,\n",
       " 51.23885154724121,\n",
       " 45.606990814208984,\n",
       " 45.838741302490234,\n",
       " 46.133506774902344,\n",
       " 43.756327629089355,\n",
       " 45.150824546813965,\n",
       " 46.343504905700684,\n",
       " 46.88866186141968,\n",
       " 44.77969980239868,\n",
       " 44.39262628555298,\n",
       " 48.68511199951172,\n",
       " 44.694708824157715,\n",
       " 45.51188516616821,\n",
       " 45.56277561187744,\n",
       " 44.56939172744751,\n",
       " 43.54068565368652,\n",
       " 45.88091850280762,\n",
       " 45.67090368270874,\n",
       " 43.65925312042236,\n",
       " 46.00031328201294,\n",
       " 44.8852972984314,\n",
       " 46.79081916809082,\n",
       " 44.06348943710327,\n",
       " 42.95445919036865,\n",
       " 42.87875699996948,\n",
       " 43.178518772125244,\n",
       " 45.33159255981445,\n",
       " 42.2680459022522,\n",
       " 48.94879102706909,\n",
       " 44.093634605407715,\n",
       " 42.64076375961304,\n",
       " 45.11051368713379,\n",
       " 43.555893898010254,\n",
       " 42.69339179992676,\n",
       " 42.23221015930176,\n",
       " 42.31887435913086,\n",
       " 42.636802196502686,\n",
       " 42.712427616119385,\n",
       " 41.70903205871582,\n",
       " 42.89370250701904,\n",
       " 42.38286209106445,\n",
       " 43.077993869781494,\n",
       " 42.078606605529785,\n",
       " 42.51846694946289,\n",
       " 42.164652824401855,\n",
       " 42.420979499816895,\n",
       " 42.67800045013428,\n",
       " 43.00647735595703,\n",
       " 43.58310031890869,\n",
       " 41.843796730041504,\n",
       " 40.89112901687622,\n",
       " 41.890578746795654,\n",
       " 43.483932971954346,\n",
       " 41.1269326210022,\n",
       " 41.267446994781494,\n",
       " 40.72666263580322,\n",
       " 43.73710060119629,\n",
       " 43.07261514663696,\n",
       " 40.50139808654785,\n",
       " 43.0056791305542,\n",
       " 40.73627519607544,\n",
       " 41.375099182128906,\n",
       " 44.57577562332153,\n",
       " 41.76429224014282,\n",
       " 43.779057025909424,\n",
       " 40.97725057601929,\n",
       " 43.72283887863159,\n",
       " 40.08817720413208,\n",
       " 45.505473136901855,\n",
       " 42.697628021240234,\n",
       " 40.560925006866455,\n",
       " 40.38515663146973,\n",
       " 40.40430545806885,\n",
       " 43.275580406188965,\n",
       " 43.26603412628174,\n",
       " 39.863800048828125,\n",
       " 40.85993480682373,\n",
       " 40.89683294296265,\n",
       " 39.93431806564331,\n",
       " 40.1556715965271,\n",
       " 51.76176357269287]"
      ]
     },
     "execution_count": 33,
     "metadata": {},
     "output_type": "execute_result"
    }
   ],
   "source": [
    "history.history['val_loss']"
   ]
  },
  {
   "cell_type": "code",
   "execution_count": 34,
   "metadata": {},
   "outputs": [
    {
     "data": {
      "image/png": "[encoded data removed]",
      "text/plain": [
       "<Figure size 720x504 with 1 Axes>"
      ]
     },
     "metadata": {
      "needs_background": "light"
     },
     "output_type": "display_data"
    }
   ],
   "source": [
    "# epoch당 loss와 val_loss 변화에 대해 선그래프 그리기.---> 파라미터 조절을 위해서 항상그려봐야함 ... \n",
    "import matplotlib.pyplot as plt\n",
    "plt.figure(figsize =(10,7))\n",
    "plt.plot(range(1, N_EPOCHS+1), history.history['loss'], label = 'Train loss')\n",
    "plt.plot(range(1, N_EPOCHS+1), history.history['val_loss'], label = 'Validation loss')\n",
    "\n",
    "plt.xlabel('Epochs')\n",
    "plt.ylabel('Loss(MSE)')\n",
    "plt.ylim(0,90)\n",
    "plt.legend()\n",
    "plt.grid(True)\n",
    "plt.show()"
   ]
  },
  {
   "cell_type": "code",
   "execution_count": 35,
   "metadata": {},
   "outputs": [
    {
     "name": "stdout",
     "output_type": "stream",
     "text": [
      "4/4 [==============================] - 0s 2ms/step - loss: 51.7618\n"
     ]
    },
    {
     "data": {
      "text/plain": [
       "51.76176357269287"
      ]
     },
     "execution_count": 35,
     "metadata": {},
     "output_type": "execute_result"
    }
   ],
   "source": [
    "#평가\n",
    "model.evaluate(val_dataset) # "
   ]
  },
  {
   "cell_type": "code",
   "execution_count": null,
   "metadata": {},
   "outputs": [],
   "source": []
  },
  {
   "cell_type": "code",
   "execution_count": null,
   "metadata": {},
   "outputs": [],
   "source": []
  },
  {
   "cell_type": "markdown",
   "metadata": {},
   "source": [
    "## 2. Classification\n",
    "\n",
    "### Fashion MNIST(MNIST) Dataset - 다중분류"
   ]
  },
  {
   "cell_type": "markdown",
   "metadata": {},
   "source": [
    "10개의 범주(category)와 70,000개의 흑백 이미지로 구성된 [패션 MNIST](https://github.com/zalandoresearch/fashion-mnist) 데이터셋. \n",
    "이미지는 해상도(28x28 픽셀)가 낮고 다음처럼 개별 의류 품목을 나타낸다:\n",
    "\n",
    "<table>\n",
    "  <tr><td>\n",
    "    <img src=\"https://tensorflow.org/images/fashion-mnist-sprite.png\"\n",
    "         alt=\"Fashion MNIST sprite\"  width=\"600\">\n",
    "  </td></tr>\n",
    "  <tr><td align=\"center\">\n",
    "    <b>그림</b> <a href=\"https://github.com/zalandoresearch/fashion-mnist\">패션-MNIST 샘플</a> (Zalando, MIT License).<br/>&nbsp;\n",
    "  </td></tr>\n",
    "</table>\n",
    "\n",
    "패션 MNIST와 손글씨 MNIST는  비교적 작기 때문에 알고리즘의 작동 여부를 확인하기 위해 사용되곤 하며 코드를 테스트하고 디버깅하는 용도로 좋다."
   ]
  },
  {
   "cell_type": "markdown",
   "metadata": {},
   "source": [
    "이미지는 28x28 크기의 넘파이 배열이고 픽셀 값은 0과 255 사이이다. *레이블*(label)은 0에서 9까지의 정수 배열이다. 아래 표는 이미지에 있는 의류의 **클래스**(class)를 나낸다.\n",
    "\n",
    "<table>\n",
    "  <tr>\n",
    "    <th>레이블</th>\n",
    "    <th>클래스</th>\n",
    "  </tr>\n",
    "  <tr>\n",
    "    <td>0</td>\n",
    "    <td>T-shirt/top</td>\n",
    "  </tr>\n",
    "  <tr>\n",
    "    <td>1</td>\n",
    "    <td>Trousers</td>\n",
    "  </tr>\n",
    "    <tr>\n",
    "    <td>2</td>\n",
    "    <td>Pullover</td>\n",
    "  </tr>\n",
    "    <tr>\n",
    "    <td>3</td>\n",
    "    <td>Dress</td>\n",
    "  </tr>\n",
    "    <tr>\n",
    "    <td>4</td>\n",
    "    <td>Coat</td>\n",
    "  </tr>\n",
    "    <tr>\n",
    "    <td>5</td>\n",
    "    <td>Sandal</td>\n",
    "  </tr>\n",
    "    <tr>\n",
    "    <td>6</td>\n",
    "    <td>Shirt</td>\n",
    "  </tr>\n",
    "    <tr>\n",
    "    <td>7</td>\n",
    "    <td>Sneaker</td>\n",
    "  </tr>\n",
    "    <tr>\n",
    "    <td>8</td>\n",
    "    <td>Bag</td>\n",
    "  </tr>\n",
    "    <tr>\n",
    "    <td>9</td>\n",
    "    <td>Ankle boot</td>\n",
    "  </tr>\n",
    "</table>\n",
    "\n",
    "각 이미지는 하나의 레이블에 매핑되어 있다. 데이터셋에 클래스 이름이 들어있지 않기 때문에 나중에 이미지를 출력할 때 사용하기 위해 별도의 변수를 만들어 저장한다."
   ]
  },
  {
   "cell_type": "code",
   "execution_count": 32,
   "metadata": {},
   "outputs": [],
   "source": [
    "class_names = ['T-shirt/top', 'Trousers', 'Pullover', 'Dress', 'Coat', 'Sandal', 'Shirt', 'Sneaker', 'Bag', 'Ankle boot']"
   ]
  },
  {
   "cell_type": "code",
   "execution_count": 33,
   "metadata": {},
   "outputs": [],
   "source": [
    "import numpy as np\n",
    "import tensorflow as tf\n",
    "from tensorflow import keras\n",
    "\n",
    "np.random.seed(1)\n",
    "tf.random.set_seed(1)"
   ]
  },
  {
   "cell_type": "code",
   "execution_count": 34,
   "metadata": {},
   "outputs": [],
   "source": [
    "#데이터 셋 읽기\n",
    "\n",
    "(X_train,y_train),(X_test,y_test) = keras.datasets.fashion_mnist.load_data()"
   ]
  },
  {
   "cell_type": "code",
   "execution_count": 35,
   "metadata": {},
   "outputs": [
    {
     "data": {
      "text/plain": [
       "((60000, 28, 28), (60000,), (10000, 28, 28), (10000,))"
      ]
     },
     "execution_count": 35,
     "metadata": {},
     "output_type": "execute_result"
    }
   ],
   "source": [
    "X_train.shape,y_train.shape,X_test.shape,y_test.shape"
   ]
  },
  {
   "cell_type": "code",
   "execution_count": 36,
   "metadata": {},
   "outputs": [
    {
     "data": {
      "text/plain": [
       "(array([0, 1, 2, 3, 4, 5, 6, 7, 8, 9], dtype=uint8),\n",
       " array([6000, 6000, 6000, 6000, 6000, 6000, 6000, 6000, 6000, 6000],\n",
       "       dtype=int64))"
      ]
     },
     "execution_count": 36,
     "metadata": {},
     "output_type": "execute_result"
    }
   ],
   "source": [
    "np.unique(y_train, return_counts = True)"
   ]
  },
  {
   "cell_type": "code",
   "execution_count": 37,
   "metadata": {},
   "outputs": [
    {
     "data": {
      "text/plain": [
       "(array([0, 1, 2, 3, 4, 5, 6, 7, 8, 9], dtype=uint8),\n",
       " array([1000, 1000, 1000, 1000, 1000, 1000, 1000, 1000, 1000, 1000],\n",
       "       dtype=int64))"
      ]
     },
     "execution_count": 37,
     "metadata": {},
     "output_type": "execute_result"
    }
   ],
   "source": [
    "np.unique(y_test, return_counts = True)"
   ]
  },
  {
   "cell_type": "code",
   "execution_count": 38,
   "metadata": {
    "collapsed": true
   },
   "outputs": [
    {
     "data": {
      "image/png": "[encoded data removed]",
      "text/plain": [
       "<Figure size 1080x1080 with 25 Axes>"
      ]
     },
     "metadata": {
      "needs_background": "light"
     },
     "output_type": "display_data"
    }
   ],
   "source": [
    "#이미지 확인\n",
    "import matplotlib.pyplot as plt\n",
    "\n",
    "plt.figure(figsize= (15,15))\n",
    "\n",
    "for i in range(25):\n",
    "    plt.subplot(5,5,i+1)\n",
    "    plt.imshow(X_train[i], cmap ='gray')\n",
    "    plt.title(class_names[y_train[i]])\n",
    "    \n",
    "plt.tight_layout()\n",
    "plt.show()"
   ]
  },
  {
   "cell_type": "code",
   "execution_count": 39,
   "metadata": {},
   "outputs": [
    {
     "data": {
      "text/plain": [
       "(28, 28)"
      ]
     },
     "execution_count": 39,
     "metadata": {},
     "output_type": "execute_result"
    }
   ],
   "source": [
    "X_train[0].shape"
   ]
  },
  {
   "cell_type": "code",
   "execution_count": 40,
   "metadata": {},
   "outputs": [
    {
     "data": {
      "text/plain": [
       "'Ankle boot'"
      ]
     },
     "execution_count": 40,
     "metadata": {},
     "output_type": "execute_result"
    }
   ],
   "source": [
    "class_names[y_train[0]]"
   ]
  },
  {
   "cell_type": "code",
   "execution_count": 41,
   "metadata": {},
   "outputs": [],
   "source": [
    "# 하이퍼 파라미터 설정\n",
    "LEARNING_RATE = 0.001\n",
    "N_EPOCHS = 50\n",
    "N_BATCHS = 100\n",
    "\n",
    "N_CLASS = 10 #CLASS CATEGORY의 개수\n",
    "N_TRAIN = X_train.shape[0]\n",
    "N_TEST = X_test.shape[0]\n",
    "IMAGE_SIZE = 28 # WIDTH와 HEIGHT 가다를경우 튜플로 지정하면됨 ... \n",
    "\n"
   ]
  },
  {
   "cell_type": "code",
   "execution_count": 42,
   "metadata": {},
   "outputs": [],
   "source": [
    "# 데이터 전처리\n",
    "# X(이미지) : 0~255 => 0~1 사이 실수로 바꿈\n",
    "\n",
    "X_train = X_train/255\n",
    "X_test = X_test/255\n",
    "\n",
    "# y (labael)  --> 다중분류 : OneHotEncoding// label인코딩이 되어있는데 다중분류를 하기 위해서 Ohe 을 했다.\n",
    "y_train = keras.utils.to_categorical(y_train)\n",
    "y_test = keras.utils.to_categorical(y_test)"
   ]
  },
  {
   "cell_type": "code",
   "execution_count": 43,
   "metadata": {},
   "outputs": [
    {
     "data": {
      "text/plain": [
       "(1.0, 0.0)"
      ]
     },
     "execution_count": 43,
     "metadata": {},
     "output_type": "execute_result"
    }
   ],
   "source": [
    "np.max(X_train),np.min(X_train)"
   ]
  },
  {
   "cell_type": "code",
   "execution_count": 47,
   "metadata": {
    "collapsed": true
   },
   "outputs": [
    {
     "data": {
      "text/plain": [
       "array([[[0.        , 0.        , 0.        , 0.        , 0.        ,\n",
       "         0.        , 0.        , 0.        , 0.        , 0.        ,\n",
       "         0.        , 0.        , 0.        , 0.        , 0.        ,\n",
       "         0.        , 0.        , 0.        , 0.        , 0.        ,\n",
       "         0.        , 0.        , 0.        , 0.        , 0.        ,\n",
       "         0.        , 0.        , 0.        ],\n",
       "        [0.        , 0.        , 0.        , 0.        , 0.        ,\n",
       "         0.        , 0.        , 0.        , 0.        , 0.        ,\n",
       "         0.        , 0.        , 0.        , 0.        , 0.        ,\n",
       "         0.        , 0.        , 0.        , 0.        , 0.        ,\n",
       "         0.        , 0.        , 0.        , 0.        , 0.        ,\n",
       "         0.        , 0.        , 0.        ],\n",
       "        [0.        , 0.        , 0.        , 0.        , 0.        ,\n",
       "         0.        , 0.        , 0.        , 0.        , 0.        ,\n",
       "         0.        , 0.        , 0.        , 0.        , 0.        ,\n",
       "         0.        , 0.        , 0.        , 0.        , 0.        ,\n",
       "         0.        , 0.        , 0.        , 0.        , 0.        ,\n",
       "         0.        , 0.        , 0.        ],\n",
       "        [0.        , 0.        , 0.        , 0.        , 0.        ,\n",
       "         0.        , 0.        , 0.        , 0.        , 0.        ,\n",
       "         0.        , 0.        , 0.00392157, 0.        , 0.        ,\n",
       "         0.05098039, 0.28627451, 0.        , 0.        , 0.00392157,\n",
       "         0.01568627, 0.        , 0.        , 0.        , 0.        ,\n",
       "         0.00392157, 0.00392157, 0.        ],\n",
       "        [0.        , 0.        , 0.        , 0.        , 0.        ,\n",
       "         0.        , 0.        , 0.        , 0.        , 0.        ,\n",
       "         0.        , 0.        , 0.01176471, 0.        , 0.14117647,\n",
       "         0.53333333, 0.49803922, 0.24313725, 0.21176471, 0.        ,\n",
       "         0.        , 0.        , 0.00392157, 0.01176471, 0.01568627,\n",
       "         0.        , 0.        , 0.01176471],\n",
       "        [0.        , 0.        , 0.        , 0.        , 0.        ,\n",
       "         0.        , 0.        , 0.        , 0.        , 0.        ,\n",
       "         0.        , 0.        , 0.02352941, 0.        , 0.4       ,\n",
       "         0.8       , 0.69019608, 0.5254902 , 0.56470588, 0.48235294,\n",
       "         0.09019608, 0.        , 0.        , 0.        , 0.        ,\n",
       "         0.04705882, 0.03921569, 0.        ],\n",
       "        [0.        , 0.        , 0.        , 0.        , 0.        ,\n",
       "         0.        , 0.        , 0.        , 0.        , 0.        ,\n",
       "         0.        , 0.        , 0.        , 0.        , 0.60784314,\n",
       "         0.9254902 , 0.81176471, 0.69803922, 0.41960784, 0.61176471,\n",
       "         0.63137255, 0.42745098, 0.25098039, 0.09019608, 0.30196078,\n",
       "         0.50980392, 0.28235294, 0.05882353],\n",
       "        [0.        , 0.        , 0.        , 0.        , 0.        ,\n",
       "         0.        , 0.        , 0.        , 0.        , 0.        ,\n",
       "         0.        , 0.00392157, 0.        , 0.27058824, 0.81176471,\n",
       "         0.8745098 , 0.85490196, 0.84705882, 0.84705882, 0.63921569,\n",
       "         0.49803922, 0.4745098 , 0.47843137, 0.57254902, 0.55294118,\n",
       "         0.34509804, 0.6745098 , 0.25882353],\n",
       "        [0.        , 0.        , 0.        , 0.        , 0.        ,\n",
       "         0.        , 0.        , 0.        , 0.        , 0.00392157,\n",
       "         0.00392157, 0.00392157, 0.        , 0.78431373, 0.90980392,\n",
       "         0.90980392, 0.91372549, 0.89803922, 0.8745098 , 0.8745098 ,\n",
       "         0.84313725, 0.83529412, 0.64313725, 0.49803922, 0.48235294,\n",
       "         0.76862745, 0.89803922, 0.        ],\n",
       "        [0.        , 0.        , 0.        , 0.        , 0.        ,\n",
       "         0.        , 0.        , 0.        , 0.        , 0.        ,\n",
       "         0.        , 0.        , 0.        , 0.71764706, 0.88235294,\n",
       "         0.84705882, 0.8745098 , 0.89411765, 0.92156863, 0.89019608,\n",
       "         0.87843137, 0.87058824, 0.87843137, 0.86666667, 0.8745098 ,\n",
       "         0.96078431, 0.67843137, 0.        ],\n",
       "        [0.        , 0.        , 0.        , 0.        , 0.        ,\n",
       "         0.        , 0.        , 0.        , 0.        , 0.        ,\n",
       "         0.        , 0.        , 0.        , 0.75686275, 0.89411765,\n",
       "         0.85490196, 0.83529412, 0.77647059, 0.70588235, 0.83137255,\n",
       "         0.82352941, 0.82745098, 0.83529412, 0.8745098 , 0.8627451 ,\n",
       "         0.95294118, 0.79215686, 0.        ],\n",
       "        [0.        , 0.        , 0.        , 0.        , 0.        ,\n",
       "         0.        , 0.        , 0.        , 0.        , 0.00392157,\n",
       "         0.01176471, 0.        , 0.04705882, 0.85882353, 0.8627451 ,\n",
       "         0.83137255, 0.85490196, 0.75294118, 0.6627451 , 0.89019608,\n",
       "         0.81568627, 0.85490196, 0.87843137, 0.83137255, 0.88627451,\n",
       "         0.77254902, 0.81960784, 0.20392157],\n",
       "        [0.        , 0.        , 0.        , 0.        , 0.        ,\n",
       "         0.        , 0.        , 0.        , 0.        , 0.        ,\n",
       "         0.02352941, 0.        , 0.38823529, 0.95686275, 0.87058824,\n",
       "         0.8627451 , 0.85490196, 0.79607843, 0.77647059, 0.86666667,\n",
       "         0.84313725, 0.83529412, 0.87058824, 0.8627451 , 0.96078431,\n",
       "         0.46666667, 0.65490196, 0.21960784],\n",
       "        [0.        , 0.        , 0.        , 0.        , 0.        ,\n",
       "         0.        , 0.        , 0.        , 0.        , 0.01568627,\n",
       "         0.        , 0.        , 0.21568627, 0.9254902 , 0.89411765,\n",
       "         0.90196078, 0.89411765, 0.94117647, 0.90980392, 0.83529412,\n",
       "         0.85490196, 0.8745098 , 0.91764706, 0.85098039, 0.85098039,\n",
       "         0.81960784, 0.36078431, 0.        ],\n",
       "        [0.        , 0.        , 0.00392157, 0.01568627, 0.02352941,\n",
       "         0.02745098, 0.00784314, 0.        , 0.        , 0.        ,\n",
       "         0.        , 0.        , 0.92941176, 0.88627451, 0.85098039,\n",
       "         0.8745098 , 0.87058824, 0.85882353, 0.87058824, 0.86666667,\n",
       "         0.84705882, 0.8745098 , 0.89803922, 0.84313725, 0.85490196,\n",
       "         1.        , 0.30196078, 0.        ],\n",
       "        [0.        , 0.01176471, 0.        , 0.        , 0.        ,\n",
       "         0.        , 0.        , 0.        , 0.        , 0.24313725,\n",
       "         0.56862745, 0.8       , 0.89411765, 0.81176471, 0.83529412,\n",
       "         0.86666667, 0.85490196, 0.81568627, 0.82745098, 0.85490196,\n",
       "         0.87843137, 0.8745098 , 0.85882353, 0.84313725, 0.87843137,\n",
       "         0.95686275, 0.62352941, 0.        ],\n",
       "        [0.        , 0.        , 0.        , 0.        , 0.07058824,\n",
       "         0.17254902, 0.32156863, 0.41960784, 0.74117647, 0.89411765,\n",
       "         0.8627451 , 0.87058824, 0.85098039, 0.88627451, 0.78431373,\n",
       "         0.80392157, 0.82745098, 0.90196078, 0.87843137, 0.91764706,\n",
       "         0.69019608, 0.7372549 , 0.98039216, 0.97254902, 0.91372549,\n",
       "         0.93333333, 0.84313725, 0.        ],\n",
       "        [0.        , 0.22352941, 0.73333333, 0.81568627, 0.87843137,\n",
       "         0.86666667, 0.87843137, 0.81568627, 0.8       , 0.83921569,\n",
       "         0.81568627, 0.81960784, 0.78431373, 0.62352941, 0.96078431,\n",
       "         0.75686275, 0.80784314, 0.8745098 , 1.        , 1.        ,\n",
       "         0.86666667, 0.91764706, 0.86666667, 0.82745098, 0.8627451 ,\n",
       "         0.90980392, 0.96470588, 0.        ],\n",
       "        [0.01176471, 0.79215686, 0.89411765, 0.87843137, 0.86666667,\n",
       "         0.82745098, 0.82745098, 0.83921569, 0.80392157, 0.80392157,\n",
       "         0.80392157, 0.8627451 , 0.94117647, 0.31372549, 0.58823529,\n",
       "         1.        , 0.89803922, 0.86666667, 0.7372549 , 0.60392157,\n",
       "         0.74901961, 0.82352941, 0.8       , 0.81960784, 0.87058824,\n",
       "         0.89411765, 0.88235294, 0.        ],\n",
       "        [0.38431373, 0.91372549, 0.77647059, 0.82352941, 0.87058824,\n",
       "         0.89803922, 0.89803922, 0.91764706, 0.97647059, 0.8627451 ,\n",
       "         0.76078431, 0.84313725, 0.85098039, 0.94509804, 0.25490196,\n",
       "         0.28627451, 0.41568627, 0.45882353, 0.65882353, 0.85882353,\n",
       "         0.86666667, 0.84313725, 0.85098039, 0.8745098 , 0.8745098 ,\n",
       "         0.87843137, 0.89803922, 0.11372549],\n",
       "        [0.29411765, 0.8       , 0.83137255, 0.8       , 0.75686275,\n",
       "         0.80392157, 0.82745098, 0.88235294, 0.84705882, 0.7254902 ,\n",
       "         0.77254902, 0.80784314, 0.77647059, 0.83529412, 0.94117647,\n",
       "         0.76470588, 0.89019608, 0.96078431, 0.9372549 , 0.8745098 ,\n",
       "         0.85490196, 0.83137255, 0.81960784, 0.87058824, 0.8627451 ,\n",
       "         0.86666667, 0.90196078, 0.2627451 ],\n",
       "        [0.18823529, 0.79607843, 0.71764706, 0.76078431, 0.83529412,\n",
       "         0.77254902, 0.7254902 , 0.74509804, 0.76078431, 0.75294118,\n",
       "         0.79215686, 0.83921569, 0.85882353, 0.86666667, 0.8627451 ,\n",
       "         0.9254902 , 0.88235294, 0.84705882, 0.78039216, 0.80784314,\n",
       "         0.72941176, 0.70980392, 0.69411765, 0.6745098 , 0.70980392,\n",
       "         0.80392157, 0.80784314, 0.45098039],\n",
       "        [0.        , 0.47843137, 0.85882353, 0.75686275, 0.70196078,\n",
       "         0.67058824, 0.71764706, 0.76862745, 0.8       , 0.82352941,\n",
       "         0.83529412, 0.81176471, 0.82745098, 0.82352941, 0.78431373,\n",
       "         0.76862745, 0.76078431, 0.74901961, 0.76470588, 0.74901961,\n",
       "         0.77647059, 0.75294118, 0.69019608, 0.61176471, 0.65490196,\n",
       "         0.69411765, 0.82352941, 0.36078431],\n",
       "        [0.        , 0.        , 0.29019608, 0.74117647, 0.83137255,\n",
       "         0.74901961, 0.68627451, 0.6745098 , 0.68627451, 0.70980392,\n",
       "         0.7254902 , 0.7372549 , 0.74117647, 0.7372549 , 0.75686275,\n",
       "         0.77647059, 0.8       , 0.81960784, 0.82352941, 0.82352941,\n",
       "         0.82745098, 0.7372549 , 0.7372549 , 0.76078431, 0.75294118,\n",
       "         0.84705882, 0.66666667, 0.        ],\n",
       "        [0.00784314, 0.        , 0.        , 0.        , 0.25882353,\n",
       "         0.78431373, 0.87058824, 0.92941176, 0.9372549 , 0.94901961,\n",
       "         0.96470588, 0.95294118, 0.95686275, 0.86666667, 0.8627451 ,\n",
       "         0.75686275, 0.74901961, 0.70196078, 0.71372549, 0.71372549,\n",
       "         0.70980392, 0.69019608, 0.65098039, 0.65882353, 0.38823529,\n",
       "         0.22745098, 0.        , 0.        ],\n",
       "        [0.        , 0.        , 0.        , 0.        , 0.        ,\n",
       "         0.        , 0.        , 0.15686275, 0.23921569, 0.17254902,\n",
       "         0.28235294, 0.16078431, 0.1372549 , 0.        , 0.        ,\n",
       "         0.        , 0.        , 0.        , 0.        , 0.        ,\n",
       "         0.        , 0.        , 0.        , 0.        , 0.        ,\n",
       "         0.        , 0.        , 0.        ],\n",
       "        [0.        , 0.        , 0.        , 0.        , 0.        ,\n",
       "         0.        , 0.        , 0.        , 0.        , 0.        ,\n",
       "         0.        , 0.        , 0.        , 0.        , 0.        ,\n",
       "         0.        , 0.        , 0.        , 0.        , 0.        ,\n",
       "         0.        , 0.        , 0.        , 0.        , 0.        ,\n",
       "         0.        , 0.        , 0.        ],\n",
       "        [0.        , 0.        , 0.        , 0.        , 0.        ,\n",
       "         0.        , 0.        , 0.        , 0.        , 0.        ,\n",
       "         0.        , 0.        , 0.        , 0.        , 0.        ,\n",
       "         0.        , 0.        , 0.        , 0.        , 0.        ,\n",
       "         0.        , 0.        , 0.        , 0.        , 0.        ,\n",
       "         0.        , 0.        , 0.        ]]])"
      ]
     },
     "execution_count": 47,
     "metadata": {},
     "output_type": "execute_result"
    }
   ],
   "source": [
    "X_train[:1]"
   ]
  },
  {
   "cell_type": "code",
   "execution_count": 45,
   "metadata": {},
   "outputs": [
    {
     "data": {
      "text/plain": [
       "array([[0., 0., 0., 0., 0., 0., 0., 0., 0., 1.],\n",
       "       [1., 0., 0., 0., 0., 0., 0., 0., 0., 0.],\n",
       "       [1., 0., 0., 0., 0., 0., 0., 0., 0., 0.],\n",
       "       [0., 0., 0., 1., 0., 0., 0., 0., 0., 0.],\n",
       "       [1., 0., 0., 0., 0., 0., 0., 0., 0., 0.]], dtype=float32)"
      ]
     },
     "execution_count": 45,
     "metadata": {},
     "output_type": "execute_result"
    }
   ],
   "source": [
    "y_train[:5]"
   ]
  },
  {
   "cell_type": "code",
   "execution_count": 57,
   "metadata": {},
   "outputs": [],
   "source": [
    "#Dataset\n",
    "train_dataset = tf.data.Dataset.from_tensor_slices((X_train,y_train))\\\n",
    "                               .shuffle(N_TRAIN)\\\n",
    "                               .batch(N_BATCHS, drop_remainder = True)\\\n",
    "                               .repeat()"
   ]
  },
  {
   "cell_type": "code",
   "execution_count": 58,
   "metadata": {},
   "outputs": [],
   "source": [
    "val_dataset = tf.data.Dataset.from_tensor_slices((X_test,y_test)).batch(N_BATCHS)"
   ]
  },
  {
   "cell_type": "code",
   "execution_count": 60,
   "metadata": {},
   "outputs": [],
   "source": [
    "# 이런식으로 할 수도 있다.\n",
    "# from tensorflow.keras.layers import Flatten,Dense,Input\n",
    "\n",
    "# model.add(Input((28,28)))\n",
    "# model.add(Dense(...))"
   ]
  },
  {
   "cell_type": "code",
   "execution_count": 64,
   "metadata": {},
   "outputs": [],
   "source": [
    "\n",
    "def create_model():\n",
    "    model = keras.Sequential()\n",
    "    #입력측(Input layer)\n",
    "    model.add(keras.layers.Input((28,28)))\n",
    "   #model.add(keras.layers.Input((28*28,))) 직접해줄수도 있다.// flatten이 된상태로 넣어준것...\n",
    "    model.add(keras.layers.Flatten()) # 1개의 데이터가 2차원인데 1차원 vector로 넣어 줘야 하기때문에..\n",
    "   #model.add(keras.layers.Flatten(Input_shape=(28,28))) 이렇게 합칠수도 있다.\n",
    "    \n",
    "    #은닉층(Hidden layer) : layer개수 , units개수 튜닝의 대상이다.\n",
    "    # units 개수는 다똑같이 줘도 되지만 작게 만들어주는게 일반적이다....\n",
    "    model.add(keras.layers.Dense(units = 256, activation ='relu'))\n",
    "    model.add(keras.layers.Dense(units = 128, activation ='relu'))\n",
    "    model.add(keras.layers.Dense(units = 64, activation ='relu'))\n",
    "    \n",
    "    #출력층(Outputlayer)\n",
    "    model.add(keras.layers.Dense(N_CLASS, activation ='softmax')) # 10개의 값이 출력될때 확률로 나온다.0일확률,1일확률.....9일확률\n",
    "                                                                    # 다중분류일때 : untis - class category개수, activation-softmax = 각class별확률\n",
    "    \n",
    "    \n",
    "    # 컴파일 - 다중분류 :loss = 'categorycal_crossentropy'(y를 원핫인코딩 한경우), \n",
    "    #                         'sparse_categorical_entropy'(y를 원핫인코딩을 안한경우// 내부적으로 원핫인코딩을 해서 작동한다...)\n",
    "    model.compile(optimizer = keras.optimizers.Adam(learning_rate=LEARNING_RATE),\n",
    "                  loss = 'categorical_crossentropy',\n",
    "                  metrics =['accuracy'])\n",
    "    \n",
    "    \n",
    "    return model"
   ]
  },
  {
   "cell_type": "code",
   "execution_count": 66,
   "metadata": {},
   "outputs": [
    {
     "name": "stdout",
     "output_type": "stream",
     "text": [
      "Model: \"sequential_5\"\n",
      "_________________________________________________________________\n",
      "Layer (type)                 Output Shape              Param #   \n",
      "=================================================================\n",
      "flatten_3 (Flatten)          (None, 784)               0         \n",
      "_________________________________________________________________\n",
      "dense_18 (Dense)             (None, 256)               200960    \n",
      "_________________________________________________________________\n",
      "dense_19 (Dense)             (None, 128)               32896     \n",
      "_________________________________________________________________\n",
      "dense_20 (Dense)             (None, 64)                8256      \n",
      "_________________________________________________________________\n",
      "dense_21 (Dense)             (None, 10)                650       \n",
      "=================================================================\n",
      "Total params: 242,762\n",
      "Trainable params: 242,762\n",
      "Non-trainable params: 0\n",
      "_________________________________________________________________\n"
     ]
    }
   ],
   "source": [
    "model = create_model()\n",
    "model.summary()"
   ]
  },
  {
   "cell_type": "code",
   "execution_count": 68,
   "metadata": {},
   "outputs": [
    {
     "data": {
      "image/png": "[encoded data removed]",
      "text/plain": [
       "<IPython.core.display.Image object>"
      ]
     },
     "execution_count": 68,
     "metadata": {},
     "output_type": "execute_result"
    }
   ],
   "source": [
    "from tensorflow.keras.utils import plot_model\n",
    "plot_model(model, to_file ='fashion_mnist_model.png', show_shapes = True)"
   ]
  },
  {
   "cell_type": "code",
   "execution_count": null,
   "metadata": {},
   "outputs": [],
   "source": [
    "# !pip install pydot pydotplus graphviz"
   ]
  },
  {
   "cell_type": "code",
   "execution_count": 69,
   "metadata": {},
   "outputs": [],
   "source": [
    "# 학습\n",
    "## 에폭당 steps계산\n",
    "\n",
    "steps_per_epoch = N_TRAIN //N_BATCHS # 배치 짜투리 사용안하고 버릴거라서....\n",
    "validation_steps = int(np.ceil(N_TEST / N_BATCHS))  # 검증할때는 짜투리까지 써서...함 // 정수로 넣어줘야하고.."
   ]
  },
  {
   "cell_type": "code",
   "execution_count": 70,
   "metadata": {},
   "outputs": [
    {
     "data": {
      "text/plain": [
       "(600, 100)"
      ]
     },
     "execution_count": 70,
     "metadata": {},
     "output_type": "execute_result"
    }
   ],
   "source": [
    "steps_per_epoch,validation_steps"
   ]
  },
  {
   "cell_type": "code",
   "execution_count": 71,
   "metadata": {
    "scrolled": true
   },
   "outputs": [
    {
     "name": "stdout",
     "output_type": "stream",
     "text": [
      "Train for 600 steps, validate for 100 steps\n",
      "Epoch 1/50\n",
      "600/600 [==============================] - 4s 7ms/step - loss: 0.5103 - accuracy: 0.8181 - val_loss: 0.4141 - val_accuracy: 0.8532\n",
      "Epoch 2/50\n",
      "600/600 [==============================] - 3s 6ms/step - loss: 0.3662 - accuracy: 0.8664 - val_loss: 0.3931 - val_accuracy: 0.8584\n",
      "Epoch 3/50\n",
      "600/600 [==============================] - 4s 6ms/step - loss: 0.3271 - accuracy: 0.8806 - val_loss: 0.3550 - val_accuracy: 0.8717\n",
      "Epoch 4/50\n",
      "600/600 [==============================] - 4s 6ms/step - loss: 0.3055 - accuracy: 0.8870 - val_loss: 0.3450 - val_accuracy: 0.8759\n",
      "Epoch 5/50\n",
      "600/600 [==============================] - 4s 6ms/step - loss: 0.2846 - accuracy: 0.8939 - val_loss: 0.3680 - val_accuracy: 0.8603\n",
      "Epoch 6/50\n",
      "600/600 [==============================] - 4s 6ms/step - loss: 0.2705 - accuracy: 0.8984 - val_loss: 0.3277 - val_accuracy: 0.8820\n",
      "Epoch 7/50\n",
      "600/600 [==============================] - 4s 7ms/step - loss: 0.2554 - accuracy: 0.9036 - val_loss: 0.3381 - val_accuracy: 0.8744\n",
      "Epoch 8/50\n",
      "600/600 [==============================] - 5s 8ms/step - loss: 0.2525 - accuracy: 0.9048 - val_loss: 0.3221 - val_accuracy: 0.8855\n",
      "Epoch 9/50\n",
      "600/600 [==============================] - 4s 7ms/step - loss: 0.2356 - accuracy: 0.9113 - val_loss: 0.3418 - val_accuracy: 0.8740\n",
      "Epoch 10/50\n",
      "600/600 [==============================] - 4s 7ms/step - loss: 0.2260 - accuracy: 0.9149 - val_loss: 0.3243 - val_accuracy: 0.8838\n",
      "Epoch 11/50\n",
      "600/600 [==============================] - 4s 7ms/step - loss: 0.2224 - accuracy: 0.9149 - val_loss: 0.3404 - val_accuracy: 0.8810\n",
      "Epoch 12/50\n",
      "600/600 [==============================] - 4s 7ms/step - loss: 0.2135 - accuracy: 0.9183 - val_loss: 0.3439 - val_accuracy: 0.8850\n",
      "Epoch 13/50\n",
      "600/600 [==============================] - 4s 7ms/step - loss: 0.2024 - accuracy: 0.9230 - val_loss: 0.3181 - val_accuracy: 0.8884\n",
      "Epoch 14/50\n",
      "600/600 [==============================] - 4s 7ms/step - loss: 0.1965 - accuracy: 0.9249 - val_loss: 0.3495 - val_accuracy: 0.8870\n",
      "Epoch 15/50\n",
      "600/600 [==============================] - 4s 7ms/step - loss: 0.1919 - accuracy: 0.9263 - val_loss: 0.3274 - val_accuracy: 0.8927\n",
      "Epoch 16/50\n",
      "600/600 [==============================] - 4s 7ms/step - loss: 0.1836 - accuracy: 0.9294 - val_loss: 0.3515 - val_accuracy: 0.8886\n",
      "Epoch 17/50\n",
      "600/600 [==============================] - 4s 7ms/step - loss: 0.1769 - accuracy: 0.9322 - val_loss: 0.3741 - val_accuracy: 0.8774\n",
      "Epoch 18/50\n",
      "600/600 [==============================] - 4s 7ms/step - loss: 0.1741 - accuracy: 0.9336 - val_loss: 0.3504 - val_accuracy: 0.8882\n",
      "Epoch 19/50\n",
      "600/600 [==============================] - 4s 7ms/step - loss: 0.1714 - accuracy: 0.9337 - val_loss: 0.3412 - val_accuracy: 0.8906\n",
      "Epoch 20/50\n",
      "600/600 [==============================] - 4s 7ms/step - loss: 0.1608 - accuracy: 0.9386 - val_loss: 0.3679 - val_accuracy: 0.8906\n",
      "Epoch 21/50\n",
      "600/600 [==============================] - 4s 7ms/step - loss: 0.1563 - accuracy: 0.9402 - val_loss: 0.3451 - val_accuracy: 0.8929\n",
      "Epoch 22/50\n",
      "600/600 [==============================] - 4s 7ms/step - loss: 0.1512 - accuracy: 0.9419 - val_loss: 0.3723 - val_accuracy: 0.8926\n",
      "Epoch 23/50\n",
      "600/600 [==============================] - 4s 7ms/step - loss: 0.1469 - accuracy: 0.9436 - val_loss: 0.3890 - val_accuracy: 0.8937\n",
      "Epoch 24/50\n",
      "600/600 [==============================] - 4s 7ms/step - loss: 0.1446 - accuracy: 0.9449 - val_loss: 0.3945 - val_accuracy: 0.8896\n",
      "Epoch 25/50\n",
      "600/600 [==============================] - 4s 7ms/step - loss: 0.1411 - accuracy: 0.9452 - val_loss: 0.3712 - val_accuracy: 0.8950\n",
      "Epoch 26/50\n",
      "600/600 [==============================] - 4s 7ms/step - loss: 0.1360 - accuracy: 0.9478 - val_loss: 0.4315 - val_accuracy: 0.8887\n",
      "Epoch 27/50\n",
      "600/600 [==============================] - 4s 7ms/step - loss: 0.1318 - accuracy: 0.9490 - val_loss: 0.4186 - val_accuracy: 0.8907\n",
      "Epoch 28/50\n",
      "600/600 [==============================] - 4s 7ms/step - loss: 0.1294 - accuracy: 0.9503 - val_loss: 0.3880 - val_accuracy: 0.8984\n",
      "Epoch 29/50\n",
      "600/600 [==============================] - 4s 7ms/step - loss: 0.1265 - accuracy: 0.9498 - val_loss: 0.4056 - val_accuracy: 0.8942\n",
      "Epoch 30/50\n",
      "600/600 [==============================] - 5s 8ms/step - loss: 0.1205 - accuracy: 0.9529 - val_loss: 0.3981 - val_accuracy: 0.8990\n",
      "Epoch 31/50\n",
      "600/600 [==============================] - 5s 8ms/step - loss: 0.1161 - accuracy: 0.9544 - val_loss: 0.4282 - val_accuracy: 0.8964\n",
      "Epoch 32/50\n",
      "600/600 [==============================] - 4s 7ms/step - loss: 0.1143 - accuracy: 0.9564 - val_loss: 0.4342 - val_accuracy: 0.8975\n",
      "Epoch 33/50\n",
      "600/600 [==============================] - 4s 7ms/step - loss: 0.1108 - accuracy: 0.9563 - val_loss: 0.4530 - val_accuracy: 0.8930\n",
      "Epoch 34/50\n",
      "600/600 [==============================] - 5s 8ms/step - loss: 0.1083 - accuracy: 0.9587 - val_loss: 0.4492 - val_accuracy: 0.8964\n",
      "Epoch 35/50\n",
      "600/600 [==============================] - 4s 7ms/step - loss: 0.1082 - accuracy: 0.9573 - val_loss: 0.4493 - val_accuracy: 0.8971\n",
      "Epoch 36/50\n",
      "600/600 [==============================] - 5s 8ms/step - loss: 0.1025 - accuracy: 0.9601 - val_loss: 0.4558 - val_accuracy: 0.8971\n",
      "Epoch 37/50\n",
      "600/600 [==============================] - 5s 8ms/step - loss: 0.0957 - accuracy: 0.9628 - val_loss: 0.4472 - val_accuracy: 0.8904\n",
      "Epoch 38/50\n",
      "600/600 [==============================] - 4s 7ms/step - loss: 0.0987 - accuracy: 0.9620 - val_loss: 0.4660 - val_accuracy: 0.8940\n",
      "Epoch 39/50\n",
      "600/600 [==============================] - 4s 7ms/step - loss: 0.0977 - accuracy: 0.9618 - val_loss: 0.4650 - val_accuracy: 0.8913\n",
      "Epoch 40/50\n",
      "600/600 [==============================] - 4s 7ms/step - loss: 0.0937 - accuracy: 0.9631 - val_loss: 0.5075 - val_accuracy: 0.8918\n",
      "Epoch 41/50\n",
      "600/600 [==============================] - 4s 7ms/step - loss: 0.0919 - accuracy: 0.9646 - val_loss: 0.5205 - val_accuracy: 0.8957\n",
      "Epoch 42/50\n",
      "600/600 [==============================] - 4s 7ms/step - loss: 0.0864 - accuracy: 0.9665 - val_loss: 0.5261 - val_accuracy: 0.8919\n",
      "Epoch 43/50\n",
      "600/600 [==============================] - 4s 7ms/step - loss: 0.0931 - accuracy: 0.9640 - val_loss: 0.4669 - val_accuracy: 0.8884\n",
      "Epoch 44/50\n",
      "600/600 [==============================] - 4s 7ms/step - loss: 0.0852 - accuracy: 0.9670 - val_loss: 0.4907 - val_accuracy: 0.8942\n",
      "Epoch 45/50\n",
      "600/600 [==============================] - 4s 7ms/step - loss: 0.0807 - accuracy: 0.9693 - val_loss: 0.5818 - val_accuracy: 0.8883\n",
      "Epoch 46/50\n",
      "600/600 [==============================] - 5s 8ms/step - loss: 0.0812 - accuracy: 0.9687 - val_loss: 0.5801 - val_accuracy: 0.8856\n",
      "Epoch 47/50\n",
      "600/600 [==============================] - 4s 7ms/step - loss: 0.0791 - accuracy: 0.9694 - val_loss: 0.5231 - val_accuracy: 0.8921\n",
      "Epoch 48/50\n",
      "600/600 [==============================] - 5s 8ms/step - loss: 0.0772 - accuracy: 0.9702 - val_loss: 0.5919 - val_accuracy: 0.8920\n",
      "Epoch 49/50\n",
      "600/600 [==============================] - 4s 7ms/step - loss: 0.0765 - accuracy: 0.9704 - val_loss: 0.5484 - val_accuracy: 0.8941\n",
      "Epoch 50/50\n",
      "600/600 [==============================] - 4s 7ms/step - loss: 0.0811 - accuracy: 0.9682 - val_loss: 0.5256 - val_accuracy: 0.8962\n"
     ]
    }
   ],
   "source": [
    "# 학습\n",
    "\n",
    "history = model.fit(train_dataset,\n",
    "                    epochs = N_EPOCHS,\n",
    "                    steps_per_epoch = steps_per_epoch,\n",
    "                    validation_data = val_dataset,\n",
    "                    validation_steps = validation_steps)\n",
    "\n",
    "# 똑같이 정답을 맞추더라도 확률상 다르게 맞출 수 있어서 정확성은 더높아도 loss가 높아질수 있다.~~~~!"
   ]
  },
  {
   "cell_type": "code",
   "execution_count": 72,
   "metadata": {},
   "outputs": [
    {
     "name": "stdout",
     "output_type": "stream",
     "text": [
      "100/100 [==============================] - 0s 3ms/step - loss: 0.5256 - accuracy: 0.8962\n"
     ]
    },
    {
     "data": {
      "text/plain": [
       "[0.5256481019034982, 0.8962]"
      ]
     },
     "execution_count": 72,
     "metadata": {},
     "output_type": "execute_result"
    }
   ],
   "source": [
    "# 평가 - testset\n",
    "model.evaluate(val_dataset)"
   ]
  },
  {
   "cell_type": "code",
   "execution_count": 73,
   "metadata": {},
   "outputs": [],
   "source": [
    "# 결과를 시각화 : loss와 지정한 평가지표('accuracy')의 epoch당 변화 시각화. -> 선그래프"
   ]
  },
  {
   "cell_type": "code",
   "execution_count": 74,
   "metadata": {},
   "outputs": [
    {
     "data": {
      "text/plain": [
       "dict_keys(['loss', 'accuracy', 'val_loss', 'val_accuracy'])"
      ]
     },
     "execution_count": 74,
     "metadata": {},
     "output_type": "execute_result"
    }
   ],
   "source": [
    "history.history.keys()"
   ]
  },
  {
   "cell_type": "code",
   "execution_count": 80,
   "metadata": {},
   "outputs": [
    {
     "data": {
      "image/png": "[encoded data removed]",
      "text/plain": [
       "<Figure size 1080x576 with 2 Axes>"
      ]
     },
     "metadata": {
      "needs_background": "light"
     },
     "output_type": "display_data"
    }
   ],
   "source": [
    "plt.figure(figsize=(15,8))\n",
    "plt.subplot(1,2,1)\n",
    "\n",
    "plt.plot(range(1,N_EPOCHS+1), history.history['loss'], label ='train loss')\n",
    "plt.plot(range(1,N_EPOCHS+1), history.history['val_loss'], label ='validation loss')\n",
    "plt.title('LOSS')\n",
    "plt.legend()\n",
    "\n",
    "plt.subplot(1,2,2)\n",
    "\n",
    "plt.plot(range(1,N_EPOCHS+1), history.history['accuracy'], label ='train accuracy')\n",
    "plt.plot(range(1,N_EPOCHS+1), history.history['val_accuracy'], label ='validation accuracy')\n",
    "plt.title('ACCURACY')\n",
    "\n",
    "plt.legend()\n",
    "plt.tight_layout()\n",
    "plt.show()\n",
    "\n",
    "# 벨리데이션 loss가 떨어지다가 높아진다 높아지기 시작한부분이 과적합 시작 ... 파라미터 조절을 통해 해결해야한다."
   ]
  },
  {
   "cell_type": "code",
   "execution_count": null,
   "metadata": {},
   "outputs": [],
   "source": []
  },
  {
   "cell_type": "markdown",
   "metadata": {},
   "source": [
    "##  IMDB 감성분석\n",
    "### 이진 분류(Binary Classification)\n",
    "- 영화 댓글 - 부정(0),긍정(1)"
   ]
  },
  {
   "cell_type": "code",
   "execution_count": 3,
   "metadata": {},
   "outputs": [],
   "source": [
    "import pickle\n",
    "# 영일님이 보낸걸로도 해보기 \n",
    "# 데이터 로드 \n",
    "with open('imdb_dataset/x_train.pkl', 'rb') as f:\n",
    "    X_train = pickle.load(f)\n",
    "    \n",
    "with open('imdb_dataset/x_test.pkl', 'rb') as f:\n",
    "    X_test = pickle.load(f)\n",
    "\n",
    "with open('imdb_dataset/y_train.pkl', 'rb') as f:\n",
    "    y_train = pickle.load(f)\n",
    "\n",
    "with open('imdb_dataset/y_test.pkl', 'rb') as f:\n",
    "    y_test = pickle.load(f)"
   ]
  },
  {
   "cell_type": "code",
   "execution_count": 4,
   "metadata": {},
   "outputs": [
    {
     "data": {
      "text/plain": [
       "'day lead think even re think boy young men do do commit mutual suicide slaughter classmate capture be bizarre mode be human have decide withdraw common civility order define own mutual world couple destruction be not perfect movie give money time filmmaker actor have be remarkable product term explain motif action young suicide murderer be well elephant term be film get rationalistic skin be far far good film almost anything be likely see flawed honest terrible honesty'"
      ]
     },
     "execution_count": 4,
     "metadata": {},
     "output_type": "execute_result"
    }
   ],
   "source": [
    "X_train[0]"
   ]
  },
  {
   "cell_type": "code",
   "execution_count": 5,
   "metadata": {},
   "outputs": [
    {
     "data": {
      "text/plain": [
       "array([1, 0, 1, 0, 0])"
      ]
     },
     "execution_count": 5,
     "metadata": {},
     "output_type": "execute_result"
    }
   ],
   "source": [
    "y_train[:5]"
   ]
  },
  {
   "cell_type": "code",
   "execution_count": 6,
   "metadata": {},
   "outputs": [],
   "source": [
    "# X -> 벡터화(숫자 변경)\n",
    "from sklearn.feature_extraction.text import TfidfVectorizer\n",
    "\n",
    "tfidf = TfidfVectorizer(max_features = 10000)\n",
    "tfidf.fit(X_train+X_test)\n",
    "X_train_tfidf = tfidf.transform(X_train)\n",
    "X_test_tfidf = tfidf.transform(X_test)"
   ]
  },
  {
   "cell_type": "code",
   "execution_count": 7,
   "metadata": {},
   "outputs": [
    {
     "data": {
      "text/plain": [
       "(25000, 10000)"
      ]
     },
     "execution_count": 7,
     "metadata": {},
     "output_type": "execute_result"
    }
   ],
   "source": [
    "X_train_tfidf.shape"
   ]
  },
  {
   "cell_type": "code",
   "execution_count": 8,
   "metadata": {},
   "outputs": [
    {
     "data": {
      "text/plain": [
       "<25000x10000 sparse matrix of type '<class 'numpy.float64'>'\n",
       "\twith 2299041 stored elements in Compressed Sparse Row format>"
      ]
     },
     "execution_count": 8,
     "metadata": {},
     "output_type": "execute_result"
    }
   ],
   "source": [
    "X_train_tfidf # tensorflow에서는 넘파이 배열로 바꿔서 사용해야함..// sklearn은 그냥 사용.."
   ]
  },
  {
   "cell_type": "code",
   "execution_count": 14,
   "metadata": {},
   "outputs": [],
   "source": [
    "# 하이퍼파라미터 설정\n",
    "LEARNING_RATE =0.001\n",
    "N_EPOCH = 10\n",
    "N_BATCHS =50\n",
    "\n",
    "N_TRAIN = X_train_tfidf.shape[0]\n",
    "N_TEST = X_test_tfidf.shape[0]\n",
    "N_FEATURE = X_train_tfidf.shape[1] # Input layers에 쓰려고 함..\n",
    "\n"
   ]
  },
  {
   "cell_type": "code",
   "execution_count": 15,
   "metadata": {},
   "outputs": [],
   "source": [
    "#Dataset 생성 : 이진 분류 이기때문에 y값 ohe 안했음\n",
    "# Sparse Matrix --> ndarray 로 바꿔줘야함...\n",
    "train_dataset = tf.data.Dataset.from_tensor_slices((X_train_tfidf.toarray(),y_train))\\\n",
    "                               .shuffle(N_TRAIN)\\\n",
    "                               .batch(N_BATCHS, drop_remainder= True)\\\n",
    "                               .repeat()\n",
    "\n",
    "\n",
    "val_dataset = tf.data.Dataset.from_tensor_slices((X_test_tfidf.toarray(),y_test)).batch(N_BATCHS)"
   ]
  },
  {
   "cell_type": "code",
   "execution_count": 16,
   "metadata": {},
   "outputs": [],
   "source": [
    "def create_model():\n",
    "    model = keras.Sequential()\n",
    "    #input layer\n",
    "    model.add(keras.layers.Input((N_FEATURE, )))\n",
    "    #Hidden layer\n",
    "    model.add(keras.layers.Dense(512, activation= 'relu'))\n",
    "    model.add(keras.layers.Dense(256, activation= 'relu'))\n",
    "    model.add(keras.layers.Dense(256, activation= 'relu'))\n",
    "    model.add(keras.layers.Dense(128, activation= 'relu'))\n",
    "    \n",
    "    #Output layer : 이진 분류 일때 --> units =1 , activation = 'sigmoid':logistic함수\n",
    "    model.add(keras.layers.Dense(1, activation ='sigmoid')) # 예측값이 1개가나오고 , sigmoid 는 확률이 0.5 이상이나 이하냐 로 값을 판단하니까 \n",
    "    \n",
    "    # 컴파일 - activation :sigmoid --> loss : binary_crossentropy\n",
    "    model.compile(optimizer = keras.optimizers.Adam(learning_rate = LEARNING_RATE),\n",
    "                  loss ='binary_crossentropy',\n",
    "                  metrics =['accuracy'])\n",
    "    return model"
   ]
  },
  {
   "cell_type": "code",
   "execution_count": 17,
   "metadata": {},
   "outputs": [
    {
     "name": "stdout",
     "output_type": "stream",
     "text": [
      "Model: \"sequential\"\n",
      "_________________________________________________________________\n",
      "Layer (type)                 Output Shape              Param #   \n",
      "=================================================================\n",
      "dense (Dense)                (None, 512)               5120512   \n",
      "_________________________________________________________________\n",
      "dense_1 (Dense)              (None, 256)               131328    \n",
      "_________________________________________________________________\n",
      "dense_2 (Dense)              (None, 256)               65792     \n",
      "_________________________________________________________________\n",
      "dense_3 (Dense)              (None, 128)               32896     \n",
      "_________________________________________________________________\n",
      "dense_4 (Dense)              (None, 1)                 129       \n",
      "=================================================================\n",
      "Total params: 5,350,657\n",
      "Trainable params: 5,350,657\n",
      "Non-trainable params: 0\n",
      "_________________________________________________________________\n"
     ]
    }
   ],
   "source": [
    "model = create_model()\n",
    "model.summary()"
   ]
  },
  {
   "cell_type": "code",
   "execution_count": 19,
   "metadata": {},
   "outputs": [
    {
     "data": {
      "text/plain": [
       "5120512"
      ]
     },
     "execution_count": 19,
     "metadata": {},
     "output_type": "execute_result"
    }
   ],
   "source": [
    "N_FEATURE*512+512"
   ]
  },
  {
   "cell_type": "code",
   "execution_count": 20,
   "metadata": {},
   "outputs": [
    {
     "ename": "NameError",
     "evalue": "name 'plot_model' is not defined",
     "output_type": "error",
     "traceback": [
      "\u001b[1;31m---------------------------------------------------------------------------\u001b[0m",
      "\u001b[1;31mNameError\u001b[0m                                 Traceback (most recent call last)",
      "\u001b[1;32m<ipython-input-20-93da5b8388dd>\u001b[0m in \u001b[0;36m<module>\u001b[1;34m\u001b[0m\n\u001b[1;32m----> 1\u001b[1;33m \u001b[0mplot_model\u001b[0m\u001b[1;33m(\u001b[0m\u001b[0mmodel\u001b[0m\u001b[1;33m,\u001b[0m \u001b[0mshow_shapes\u001b[0m\u001b[1;33m=\u001b[0m\u001b[1;32mTrue\u001b[0m\u001b[1;33m)\u001b[0m\u001b[1;33m\u001b[0m\u001b[1;33m\u001b[0m\u001b[0m\n\u001b[0m",
      "\u001b[1;31mNameError\u001b[0m: name 'plot_model' is not defined"
     ]
    }
   ],
   "source": [
    "plot_model(model, show_shapes=True)"
   ]
  },
  {
   "cell_type": "code",
   "execution_count": 24,
   "metadata": {},
   "outputs": [],
   "source": [
    "# 학습 \n",
    "\n",
    "steps_per_epoch = N_TRAIN//N_BATCHS\n",
    "validation_step = int(np.ceil(N_TEST/N_BATCHS))\n"
   ]
  },
  {
   "cell_type": "code",
   "execution_count": 25,
   "metadata": {},
   "outputs": [
    {
     "name": "stdout",
     "output_type": "stream",
     "text": [
      "Train for 500 steps, validate for 500 steps\n",
      "Epoch 1/10\n",
      "500/500 [==============================] - 64s 128ms/step - loss: 0.0976 - accuracy: 0.9666 - val_loss: 0.5061 - val_accuracy: 0.8362\n",
      "Epoch 2/10\n",
      "500/500 [==============================] - 65s 130ms/step - loss: 0.0135 - accuracy: 0.9961 - val_loss: 0.8195 - val_accuracy: 0.8464\n",
      "Epoch 3/10\n",
      "500/500 [==============================] - 65s 131ms/step - loss: 0.0039 - accuracy: 0.9989 - val_loss: 1.2657 - val_accuracy: 0.8341\n",
      "Epoch 4/10\n",
      "500/500 [==============================] - 66s 131ms/step - loss: 0.0028 - accuracy: 0.9991 - val_loss: 1.0856 - val_accuracy: 0.8496\n",
      "Epoch 5/10\n",
      "500/500 [==============================] - 66s 132ms/step - loss: 0.0025 - accuracy: 0.9993 - val_loss: 1.1477 - val_accuracy: 0.8425\n",
      "Epoch 6/10\n",
      "500/500 [==============================] - 69s 137ms/step - loss: 0.0018 - accuracy: 0.9993 - val_loss: 1.3154 - val_accuracy: 0.8456\n",
      "Epoch 7/10\n",
      "500/500 [==============================] - 67s 133ms/step - loss: 0.0056 - accuracy: 0.9980 - val_loss: 1.5871 - val_accuracy: 0.8270\n",
      "Epoch 8/10\n",
      "500/500 [==============================] - 68s 136ms/step - loss: 0.0040 - accuracy: 0.9990 - val_loss: 1.3420 - val_accuracy: 0.8466\n",
      "Epoch 9/10\n",
      "500/500 [==============================] - 76s 153ms/step - loss: 0.0014 - accuracy: 0.9996 - val_loss: 1.5264 - val_accuracy: 0.8445\n",
      "Epoch 10/10\n",
      "500/500 [==============================] - 74s 149ms/step - loss: 4.0398e-05 - accuracy: 1.0000 - val_loss: 1.7473 - val_accuracy: 0.8476\n"
     ]
    }
   ],
   "source": [
    "history = model.fit(train_dataset,\n",
    "                  epochs = N_EPOCH,\n",
    "                  steps_per_epoch = steps_per_epoch,\n",
    "                  validation_data = val_dataset,\n",
    "                  validation_steps = validation_step)"
   ]
  },
  {
   "cell_type": "code",
   "execution_count": 26,
   "metadata": {},
   "outputs": [
    {
     "name": "stdout",
     "output_type": "stream",
     "text": [
      "500/500 [==============================] - 12s 25ms/step - loss: 1.7473 - accuracy: 0.8476\n"
     ]
    },
    {
     "data": {
      "text/plain": [
       "[1.7473127267956734, 0.84764]"
      ]
     },
     "execution_count": 26,
     "metadata": {},
     "output_type": "execute_result"
    }
   ],
   "source": [
    "#평가\n",
    "model.evaluate(val_dataset)"
   ]
  },
  {
   "cell_type": "code",
   "execution_count": 29,
   "metadata": {},
   "outputs": [
    {
     "data": {
      "image/png": "[encoded data removed]",
      "text/plain": [
       "<Figure size 1080x576 with 2 Axes>"
      ]
     },
     "metadata": {
      "needs_background": "light"
     },
     "output_type": "display_data"
    }
   ],
   "source": [
    "import matplotlib.pyplot as plt\n",
    "plt.figure(figsize=(15,8))\n",
    "plt.subplot(1,2,1)\n",
    "\n",
    "plt.plot(range(1,N_EPOCH+1), history.history['loss'], label ='train loss')\n",
    "plt.plot(range(1,N_EPOCH+1), history.history['val_loss'], label ='validation loss')\n",
    "plt.title('LOSS')\n",
    "plt.legend()\n",
    "\n",
    "plt.subplot(1,2,2)\n",
    "\n",
    "plt.plot(range(1,N_EPOCH+1), history.history['accuracy'], label ='train accuracy')\n",
    "plt.plot(range(1,N_EPOCH+1), history.history['val_accuracy'], label ='validation accuracy')\n",
    "plt.title('ACCURACY')\n",
    "\n",
    "plt.legend()\n",
    "plt.tight_layout()\n",
    "plt.show()"
   ]
  },
  {
   "attachments": {
    "image.png": {
     "image/png": "[encoded data removed]"
    }
   },
   "cell_type": "markdown",
   "metadata": {},
   "source": [
    "![image.png](attachment:image.png)"
   ]
  },
  {
   "cell_type": "markdown",
   "metadata": {},
   "source": [
    "### DNN 순서 정리\n",
    "1. 데이터를 읽어온다. tf.data.Dataset.from_tensor(())\n",
    "2. 데이터 전처리.. 한다. 필요없으면 생략\n",
    "3. 하이퍼파라미터 설정\n",
    "4. 데이터 API 파이프라인을 이용하여 train_dataset , val_dataset을 만든다.\n",
    "5. 모델을 만들 함수를 만들다. create_model()\n",
    "6. 함수를 이용하여 모델 객체생성하고 모델에 train_dataset을 fit(학습)한다.\n",
    "7. 평가(evaluate)를 하고 그래프를 그려서 과소적합, 과대적합을 확인 후 하이퍼 파라미터를 조절한다.\n",
    "\n",
    "#### 이진분류 \n",
    "- 출력 레이어 : units =1, activation = 'sigmoid'\n",
    "- compile(optimizer = Adam, loss = binary_crossentropy, metrics = ['accuracy'])\n",
    "\n",
    "#### 다중 분류\n",
    "- 출력레이어 : units= class 개수, activation ='Softmax'\n",
    "- compile(optimizer = Adam, loss = categorical_crossentropy, metrics =['accuracy'])\n",
    "#### 회귀\n",
    "\n",
    "- 출력레이어 : units = 1 --> 활성함수 사용 안함\n",
    "- compile(optimizer = Adom, loss= mse)  --> 평가지표도 mse를 사용하기 때문에 따로 설정하지 않음.."
   ]
  },
  {
   "cell_type": "code",
   "execution_count": null,
   "metadata": {},
   "outputs": [],
   "source": []
  },
  {
   "cell_type": "code",
   "execution_count": null,
   "metadata": {},
   "outputs": [],
   "source": []
  },
  {
   "cell_type": "code",
   "execution_count": null,
   "metadata": {},
   "outputs": [],
   "source": []
  },
  {
   "cell_type": "code",
   "execution_count": null,
   "metadata": {},
   "outputs": [],
   "source": []
  },
  {
   "cell_type": "code",
   "execution_count": null,
   "metadata": {},
   "outputs": [],
   "source": []
  },
  {
   "cell_type": "code",
   "execution_count": null,
   "metadata": {},
   "outputs": [],
   "source": []
  }
 ],
 "metadata": {
  "kernelspec": {
   "display_name": "Python 3",
   "language": "python",
   "name": "python3"
  },
  "language_info": {
   "codemirror_mode": {
    "name": "ipython",
    "version": 3
   },
   "file_extension": ".py",
   "mimetype": "text/x-python",
   "name": "python",
   "nbconvert_exporter": "python",
   "pygments_lexer": "ipython3",
   "version": "3.7.10"
  },
  "toc": {
   "base_numbering": 1,
   "nav_menu": {},
   "number_sections": false,
   "sideBar": true,
   "skip_h1_title": false,
   "title_cell": "Table of Contents",
   "title_sidebar": "Contents",
   "toc_cell": false,
   "toc_position": {},
   "toc_section_display": true,
   "toc_window_display": false
  },
  "varInspector": {
   "cols": {
    "lenName": 16,
    "lenType": 16,
    "lenVar": 40
   },
   "kernels_config": {
    "python": {
     "delete_cmd_postfix": "",
     "delete_cmd_prefix": "del ",
     "library": "var_list.py",
     "varRefreshCmd": "print(var_dic_list())"
    },
    "r": {
     "delete_cmd_postfix": ") ",
     "delete_cmd_prefix": "rm(",
     "library": "var_list.r",
     "varRefreshCmd": "cat(var_dic_list()) "
    }
   },
   "types_to_exclude": [
    "module",
    "function",
    "builtin_function_or_method",
    "instance",
    "_Feature"
   ],
   "window_display": false
  }
 },
 "nbformat": 4,
 "nbformat_minor": 2
}
