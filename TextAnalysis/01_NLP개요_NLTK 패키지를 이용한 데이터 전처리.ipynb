{
 "cells": [
  {
   "cell_type": "markdown",
   "metadata": {},
   "source": [
    "# NLP(Natural Language Processing) 자연어 처리란"
   ]
  },
  {
   "cell_type": "markdown",
   "metadata": {},
   "source": [
    "## 자연어\n",
    "- 사람이 사용하는 고유한 언어\n",
    "- 인공언어의 반대 의미\n",
    "    - 인공언어: 특정 목적을 위해 인위적으로 만든 언어\n",
    "    - ex) 프로그래밍 언어"
   ]
  },
  {
   "cell_type": "markdown",
   "metadata": {},
   "source": [
    "## 자연어 처리\n",
    "- 사람이 사용하는 자연어를 컴퓨터가 사용할 수 있도록 처리하는 과정.\n",
    "- 자연어 처리 응용분야\n",
    "    - 번역 시스템\n",
    "    - 문서요약\n",
    "    - 감성분석\n",
    "    - 대화형 시스템(챗봇)\n",
    "    - 정보 검색 시스템\n",
    "    - 텍스트 마이닝\n",
    "    - 음성인식"
   ]
  },
  {
   "cell_type": "markdown",
   "metadata": {},
   "source": [
    "# 텍스트 분석 수행 프로세스\n",
    "\n",
    "1. 텍스트 전처리 \n",
    "    - 클렌징(cleansing)\n",
    "        - 특수문자, 기호 필요없는 문자 제거\n",
    "        - 대소문자 변경\n",
    "    - stop word(분석에 필요 없는 토큰) 제거\n",
    "    - 텍스트 토큰화\n",
    "        - 분석의 최소단위로 나누는 작업\n",
    "        - 보통 단어단위나 글자단위로 나눈다.\n",
    "    - 어근 추출(Stemming/Lemmatization)을 통한 텍스트 정규화 작업\n",
    "2. Feature vectorization   \n",
    "    - 문자열 비정형 데이터인 텍스트를 숫자타입의 정형데이터로 만드는 작업\n",
    "    - BOW와 Word2Vec\n",
    "3. 머신러닝 모델 수립, 학습, 예측, 평가"
   ]
  },
  {
   "cell_type": "markdown",
   "metadata": {},
   "source": [
    "# NLTK \n",
    "- Natural Language ToolKit\n",
    "- https://www.nltk.org/\n",
    "- 자연어 처리를 위한 파이썬 패키지\n",
    "- 한글처리 부족...\n",
    "\n",
    "## NLTK 설치\n",
    "- nltk 패키지 설치\n",
    "pip 설치\n",
    "```\n",
    "pip install nltk\n",
    "```\n",
    "conda 설치\n",
    "```\n",
    "conda install -y nltk\n",
    "```\n",
    "\n",
    "- NLTK 추가 패키지 설치\n",
    "```python\n",
    "import nltk\n",
    "nltk.download() # 설치 GUI 프로그램 실행\n",
    "nltk.download('패키지명')\n",
    "```"
   ]
  },
  {
   "cell_type": "code",
   "execution_count": 2,
   "metadata": {},
   "outputs": [],
   "source": [
    "import nltk\n",
    "#nltk.download() # 설치 GUI 프로그램 실행"
   ]
  },
  {
   "cell_type": "code",
   "execution_count": null,
   "metadata": {},
   "outputs": [],
   "source": []
  },
  {
   "cell_type": "code",
   "execution_count": null,
   "metadata": {},
   "outputs": [],
   "source": []
  },
  {
   "cell_type": "code",
   "execution_count": null,
   "metadata": {},
   "outputs": [],
   "source": []
  },
  {
   "cell_type": "markdown",
   "metadata": {},
   "source": [
    "## NLTK 주요기능\n",
    "- ### 말뭉치(corpus) 제공\n",
    "    - **말뭉치**: 언어 연구를 위해 텍스트를 컴퓨터가 읽을 수 있는 형태로 모아 놓은 언어 자료를 말한다.\n",
    "    - 예제용 말뭉치 데이터를 제공한다.\n",
    "- ### 텍스트 정규화를 위한 기능 제공\n",
    "    - 토큰 생성\n",
    "    - 여러 언어의 Stop word(불용어) 제공// 보통 불용어는 만들어쓴다.// 한글은 없다...\n",
    "    - 형태소 분석\n",
    "        - 형태소\n",
    "            - 의미가 있는 가장 작은 말의 단위\n",
    "        - 형태소 분석\n",
    "            - 말뭉치에서 의미있는(분석시 필요한) 형태소들만 추출하는 것           \n",
    "        - 어간추출(Stemming)\n",
    "        - 원형복원(Lemmatization)\n",
    "        - 품사부착(POS tagging - Part Of Speech)\n",
    "- ### 분석기능을 제공해 주는 클래스 제공\n",
    "    - Text\n",
    "    - FreqDist"
   ]
  },
  {
   "cell_type": "code",
   "execution_count": 3,
   "metadata": {},
   "outputs": [],
   "source": [
    "#TextAnalysis"
   ]
  },
  {
   "cell_type": "code",
   "execution_count": 4,
   "metadata": {},
   "outputs": [],
   "source": [
    "#news.txt"
   ]
  },
  {
   "cell_type": "markdown",
   "metadata": {},
   "source": [
    "# NLTK 텍스트 정규화 기본 문법\n",
    "\n",
    "## 텍스트 토큰화\n",
    "- 분석을 위해 문서를작은 단위로 나누는 작업.\n",
    "- **토큰(Token)**\n",
    "    - 나뉜 문자열의 단위를 말한다. \n",
    "    - 정하기에 따라 문장, 단어일 수도 있고 문자일 수도 있다. \n",
    "- **Tokenizer**\n",
    "    - 문장을 token으로 나눠주는 함수\n",
    "    - NLTK 주요 tokenizer\n",
    "        - **sent_tokenize()** : 문장단위로 나눠준다.  (마침표단위)\n",
    "        - **word_tokenize()** : 단어단위로 나눠준다. (공백단위, 마침표)\n",
    "        - **regexp_tokenize()** : 토큰의 단위를 정규표현식으로 지정 (사용자가 정규표현식으로 지정)\n",
    "        - 반환타입 : 토큰하나 하나를 원소로 하는 list"
   ]
  },
  {
   "cell_type": "code",
   "execution_count": 5,
   "metadata": {},
   "outputs": [],
   "source": [
    "#!pip install nltk"
   ]
  },
  {
   "cell_type": "code",
   "execution_count": 6,
   "metadata": {},
   "outputs": [
    {
     "name": "stdout",
     "output_type": "stream",
     "text": [
      "The Zen of Python, by Tim Peters\n",
      "\n",
      "Beautiful is better than ugly.\n",
      "Explicit is better than implicit.\n",
      "Simple is better than complex.\n",
      "Complex is better than complicated.\n",
      "Flat is better than nested.\n",
      "Sparse is better than dense.\n",
      "Readability counts.\n",
      "Special cases aren't special enough to break the rules.\n",
      "Although practicality beats purity.\n",
      "Errors should never pass silently.\n",
      "Unless explicitly silenced.\n",
      "In the face of ambiguity, refuse the temptation to guess.\n",
      "There should be one-- and preferably only one --obvious way to do it.\n",
      "Although that way may not be obvious at first unless you're Dutch.\n",
      "Now is better than never.\n",
      "Although never is often better than *right* now.\n",
      "If the implementation is hard to explain, it's a bad idea.\n",
      "If the implementation is easy to explain, it may be a good idea.\n",
      "Namespaces are one honking great idea -- let's do more of those!\n"
     ]
    }
   ],
   "source": [
    "import this  # 그냥 텍스트 예제를 쓰기위해서 inmport 함 "
   ]
  },
  {
   "cell_type": "code",
   "execution_count": 7,
   "metadata": {},
   "outputs": [],
   "source": [
    "txt = \"\"\"Beautiful is better than ugly.\n",
    "Explicit is better than implicit.\n",
    "Simple is better than complex.\n",
    "Complex is better than complicated.\n",
    "Flat is better than nested.\n",
    "Sparse is better than dense.\n",
    "Readability counts.\n",
    "Special cases aren't special enough to break the rules.\n",
    "Although practicality beats purity.\n",
    "Errors should never pass silently.\n",
    "Unless explicitly silenced.\n",
    "In the face of ambiguity, refuse the temptation to guess.\n",
    "There should be one-- and preferably only one --obvious way to do it.\n",
    "Although that way may not be obvious at first unless you're Dutch.\n",
    "Now is better than never.\n",
    "Although never is often better than *right* now.\n",
    "If the implementation is hard to explain, it's a bad idea.\n",
    "If the implementation is easy to explain, it may be a good idea.\n",
    "Namespaces are one honking great idea -- let's do more of those!\"\"\"\n",
    "\n",
    "#txt"
   ]
  },
  {
   "cell_type": "code",
   "execution_count": 8,
   "metadata": {},
   "outputs": [
    {
     "name": "stderr",
     "output_type": "stream",
     "text": [
      "[nltk_data] Downloading package punkt to\n",
      "[nltk_data]     C:\\Users\\Playdata\\AppData\\Roaming\\nltk_data...\n",
      "[nltk_data]   Package punkt is already up-to-date!\n"
     ]
    },
    {
     "data": {
      "text/plain": [
       "True"
      ]
     },
     "execution_count": 8,
     "metadata": {},
     "output_type": "execute_result"
    }
   ],
   "source": [
    "import nltk \n",
    "nltk.download('punkt')"
   ]
  },
  {
   "cell_type": "code",
   "execution_count": 9,
   "metadata": {},
   "outputs": [],
   "source": [
    "# 문장단위로 토큰화\n",
    "sent_list = nltk.sent_tokenize(txt) # 매개변수 : 토큰화할 대상 문성(문자열)//LookupError :사용하고자 하는 패키지 나오니까 바로 복사해서 설치하면됨\n"
   ]
  },
  {
   "cell_type": "code",
   "execution_count": 10,
   "metadata": {},
   "outputs": [
    {
     "name": "stdout",
     "output_type": "stream",
     "text": [
      "19 <class 'list'>\n"
     ]
    }
   ],
   "source": [
    "print(len(sent_list),type(sent_list))"
   ]
  },
  {
   "cell_type": "code",
   "execution_count": 11,
   "metadata": {
    "scrolled": true
   },
   "outputs": [
    {
     "data": {
      "text/plain": [
       "['Beautiful is better than ugly.',\n",
       " 'Explicit is better than implicit.',\n",
       " 'Simple is better than complex.',\n",
       " 'Complex is better than complicated.',\n",
       " 'Flat is better than nested.',\n",
       " 'Sparse is better than dense.',\n",
       " 'Readability counts.',\n",
       " \"Special cases aren't special enough to break the rules.\",\n",
       " 'Although practicality beats purity.',\n",
       " 'Errors should never pass silently.',\n",
       " 'Unless explicitly silenced.',\n",
       " 'In the face of ambiguity, refuse the temptation to guess.',\n",
       " 'There should be one-- and preferably only one --obvious way to do it.',\n",
       " \"Although that way may not be obvious at first unless you're Dutch.\",\n",
       " 'Now is better than never.',\n",
       " 'Although never is often better than *right* now.',\n",
       " \"If the implementation is hard to explain, it's a bad idea.\",\n",
       " 'If the implementation is easy to explain, it may be a good idea.',\n",
       " \"Namespaces are one honking great idea -- let's do more of those!\"]"
      ]
     },
     "execution_count": 11,
     "metadata": {},
     "output_type": "execute_result"
    }
   ],
   "source": [
    "sent_list"
   ]
  },
  {
   "cell_type": "code",
   "execution_count": 12,
   "metadata": {},
   "outputs": [],
   "source": [
    "# 단어단위 토큰화 (공백기준) // 전처리를 하고 사용할때가 많겠지~~!\n",
    "word_list = nltk.word_tokenize(txt)"
   ]
  },
  {
   "cell_type": "code",
   "execution_count": 13,
   "metadata": {},
   "outputs": [
    {
     "name": "stdout",
     "output_type": "stream",
     "text": [
      "167 <class 'list'>\n"
     ]
    }
   ],
   "source": [
    "print(len(word_list), type(word_list))"
   ]
  },
  {
   "cell_type": "code",
   "execution_count": 14,
   "metadata": {},
   "outputs": [
    {
     "data": {
      "text/plain": [
       "['Beautiful',\n",
       " 'is',\n",
       " 'better',\n",
       " 'than',\n",
       " 'ugly',\n",
       " '.',\n",
       " 'Explicit',\n",
       " 'is',\n",
       " 'better',\n",
       " 'than',\n",
       " 'implicit',\n",
       " '.',\n",
       " 'Simple',\n",
       " 'is',\n",
       " 'better',\n",
       " 'than',\n",
       " 'complex',\n",
       " '.',\n",
       " 'Complex',\n",
       " 'is',\n",
       " 'better',\n",
       " 'than',\n",
       " 'complicated',\n",
       " '.',\n",
       " 'Flat',\n",
       " 'is',\n",
       " 'better',\n",
       " 'than',\n",
       " 'nested',\n",
       " '.',\n",
       " 'Sparse',\n",
       " 'is',\n",
       " 'better',\n",
       " 'than',\n",
       " 'dense',\n",
       " '.',\n",
       " 'Readability',\n",
       " 'counts',\n",
       " '.',\n",
       " 'Special',\n",
       " 'cases',\n",
       " 'are',\n",
       " \"n't\",\n",
       " 'special',\n",
       " 'enough',\n",
       " 'to',\n",
       " 'break',\n",
       " 'the',\n",
       " 'rules',\n",
       " '.',\n",
       " 'Although',\n",
       " 'practicality',\n",
       " 'beats',\n",
       " 'purity',\n",
       " '.',\n",
       " 'Errors',\n",
       " 'should',\n",
       " 'never',\n",
       " 'pass',\n",
       " 'silently',\n",
       " '.',\n",
       " 'Unless',\n",
       " 'explicitly',\n",
       " 'silenced',\n",
       " '.',\n",
       " 'In',\n",
       " 'the',\n",
       " 'face',\n",
       " 'of',\n",
       " 'ambiguity',\n",
       " ',',\n",
       " 'refuse',\n",
       " 'the',\n",
       " 'temptation',\n",
       " 'to',\n",
       " 'guess',\n",
       " '.',\n",
       " 'There',\n",
       " 'should',\n",
       " 'be',\n",
       " 'one',\n",
       " '--',\n",
       " 'and',\n",
       " 'preferably',\n",
       " 'only',\n",
       " 'one',\n",
       " '--',\n",
       " 'obvious',\n",
       " 'way',\n",
       " 'to',\n",
       " 'do',\n",
       " 'it',\n",
       " '.',\n",
       " 'Although',\n",
       " 'that',\n",
       " 'way',\n",
       " 'may',\n",
       " 'not',\n",
       " 'be',\n",
       " 'obvious',\n",
       " 'at',\n",
       " 'first',\n",
       " 'unless',\n",
       " 'you',\n",
       " \"'re\",\n",
       " 'Dutch',\n",
       " '.',\n",
       " 'Now',\n",
       " 'is',\n",
       " 'better',\n",
       " 'than',\n",
       " 'never',\n",
       " '.',\n",
       " 'Although',\n",
       " 'never',\n",
       " 'is',\n",
       " 'often',\n",
       " 'better',\n",
       " 'than',\n",
       " '*',\n",
       " 'right',\n",
       " '*',\n",
       " 'now',\n",
       " '.',\n",
       " 'If',\n",
       " 'the',\n",
       " 'implementation',\n",
       " 'is',\n",
       " 'hard',\n",
       " 'to',\n",
       " 'explain',\n",
       " ',',\n",
       " 'it',\n",
       " \"'s\",\n",
       " 'a',\n",
       " 'bad',\n",
       " 'idea',\n",
       " '.',\n",
       " 'If',\n",
       " 'the',\n",
       " 'implementation',\n",
       " 'is',\n",
       " 'easy',\n",
       " 'to',\n",
       " 'explain',\n",
       " ',',\n",
       " 'it',\n",
       " 'may',\n",
       " 'be',\n",
       " 'a',\n",
       " 'good',\n",
       " 'idea',\n",
       " '.',\n",
       " 'Namespaces',\n",
       " 'are',\n",
       " 'one',\n",
       " 'honking',\n",
       " 'great',\n",
       " 'idea',\n",
       " '--',\n",
       " 'let',\n",
       " \"'s\",\n",
       " 'do',\n",
       " 'more',\n",
       " 'of',\n",
       " 'those',\n",
       " '!']"
      ]
     },
     "execution_count": 14,
     "metadata": {},
     "output_type": "execute_result"
    }
   ],
   "source": [
    "word_list  # 마침표도 하나씩 쪼개짐.. enter도 공백"
   ]
  },
  {
   "cell_type": "code",
   "execution_count": 15,
   "metadata": {},
   "outputs": [],
   "source": [
    "# 마침표, 부호 는 필요가 없으니까 처음에 없애서 할수도 있고 정규표현식으로 지정해서 토큰화 할수도 있다."
   ]
  },
  {
   "cell_type": "code",
   "execution_count": 16,
   "metadata": {},
   "outputs": [],
   "source": [
    "# 토큰의 형식(패턴)을 정규표현식으로 지정.\n",
    "reg_list = nltk.regexp_tokenize(txt,'\\w+')  # \\w : 숫자 (0~9),a-z,A_Z,가-힣,그리고 언더바 _ 까지 포함//+ :1글자 이상 "
   ]
  },
  {
   "cell_type": "code",
   "execution_count": 17,
   "metadata": {},
   "outputs": [
    {
     "name": "stdout",
     "output_type": "stream",
     "text": [
      "140\n",
      "['Beautiful', 'is', 'better', 'than', 'ugly', 'Explicit', 'is', 'better', 'than', 'implicit', 'Simple', 'is', 'better', 'than', 'complex', 'Complex', 'is', 'better', 'than', 'complicated', 'Flat', 'is', 'better', 'than', 'nested', 'Sparse', 'is', 'better', 'than', 'dense', 'Readability', 'counts', 'Special', 'cases', 'aren', 't', 'special', 'enough', 'to', 'break', 'the', 'rules', 'Although', 'practicality', 'beats', 'purity', 'Errors', 'should', 'never', 'pass', 'silently', 'Unless', 'explicitly', 'silenced', 'In', 'the', 'face', 'of', 'ambiguity', 'refuse', 'the', 'temptation', 'to', 'guess', 'There', 'should', 'be', 'one', 'and', 'preferably', 'only', 'one', 'obvious', 'way', 'to', 'do', 'it', 'Although', 'that', 'way', 'may', 'not', 'be', 'obvious', 'at', 'first', 'unless', 'you', 're', 'Dutch', 'Now', 'is', 'better', 'than', 'never', 'Although', 'never', 'is', 'often', 'better', 'than', 'right', 'now', 'If', 'the', 'implementation', 'is', 'hard', 'to', 'explain', 'it', 's', 'a', 'bad', 'idea', 'If', 'the', 'implementation', 'is', 'easy', 'to', 'explain', 'it', 'may', 'be', 'a', 'good', 'idea', 'Namespaces', 'are', 'one', 'honking', 'great', 'idea', 'let', 's', 'do', 'more', 'of', 'those']\n"
     ]
    }
   ],
   "source": [
    "print(len(reg_list))\n",
    "print(reg_list)  # .,!?는 w에 포함이 안되기때문에 제거 // + 한글자 이상씩 "
   ]
  },
  {
   "cell_type": "markdown",
   "metadata": {},
   "source": [
    "## Stopword (불용어)\n",
    "- 문장내에서는 많이 사용되지만 문장의 전체 맥락과는 상관없는 단어들.\n",
    "    - ex) 조사, 접미사, 접속사, 대명사 등\n",
    "- Stopword 단어들을 List로 묶어서 관리한다.\n",
    "    - nltk가 언어별로 Stop word 제공.\n",
    "    - 실제 분석대상에 맞는 Stop word 를 만들어서 사용한다. \n",
    "    - 보통 파일로 불용어를 저장하여 사용한다.~!"
   ]
  },
  {
   "cell_type": "code",
   "execution_count": 18,
   "metadata": {},
   "outputs": [
    {
     "name": "stderr",
     "output_type": "stream",
     "text": [
      "[nltk_data] Downloading package stopwords to\n",
      "[nltk_data]     C:\\Users\\Playdata\\AppData\\Roaming\\nltk_data...\n",
      "[nltk_data]   Package stopwords is already up-to-date!\n"
     ]
    },
    {
     "data": {
      "text/plain": [
       "True"
      ]
     },
     "execution_count": 18,
     "metadata": {},
     "output_type": "execute_result"
    }
   ],
   "source": [
    "nltk.download('stopwords')"
   ]
  },
  {
   "cell_type": "code",
   "execution_count": 19,
   "metadata": {},
   "outputs": [
    {
     "name": "stdout",
     "output_type": "stream",
     "text": [
      "['arabic', 'azerbaijani', 'danish', 'dutch', 'english', 'finnish', 'french', 'german', 'greek', 'hungarian', 'indonesian', 'italian', 'kazakh', 'nepali', 'norwegian', 'portuguese', 'romanian', 'russian', 'slovene', 'spanish', 'swedish', 'tajik', 'turkish']\n"
     ]
    }
   ],
   "source": [
    "from nltk.corpus import stopwords\n",
    "print(stopwords.fileids())  # 언어별 스탑워드 제공 "
   ]
  },
  {
   "cell_type": "code",
   "execution_count": 20,
   "metadata": {},
   "outputs": [
    {
     "name": "stdout",
     "output_type": "stream",
     "text": [
      "248 <class 'list'>\n"
     ]
    },
    {
     "data": {
      "text/plain": [
       "['إذ',\n",
       " 'إذا',\n",
       " 'إذما',\n",
       " 'إذن',\n",
       " 'أف',\n",
       " 'أقل',\n",
       " 'أكثر',\n",
       " 'ألا',\n",
       " 'إلا',\n",
       " 'التي',\n",
       " 'الذي',\n",
       " 'الذين',\n",
       " 'اللاتي',\n",
       " 'اللائي',\n",
       " 'اللتان',\n",
       " 'اللتيا',\n",
       " 'اللتين',\n",
       " 'اللذان',\n",
       " 'اللذين',\n",
       " 'اللواتي',\n",
       " 'إلى',\n",
       " 'إليك',\n",
       " 'إليكم',\n",
       " 'إليكما',\n",
       " 'إليكن',\n",
       " 'أم',\n",
       " 'أما',\n",
       " 'أما',\n",
       " 'إما',\n",
       " 'أن',\n",
       " 'إن',\n",
       " 'إنا',\n",
       " 'أنا',\n",
       " 'أنت',\n",
       " 'أنتم',\n",
       " 'أنتما',\n",
       " 'أنتن',\n",
       " 'إنما',\n",
       " 'إنه',\n",
       " 'أنى',\n",
       " 'أنى',\n",
       " 'آه',\n",
       " 'آها',\n",
       " 'أو',\n",
       " 'أولاء',\n",
       " 'أولئك',\n",
       " 'أوه',\n",
       " 'آي',\n",
       " 'أي',\n",
       " 'أيها',\n",
       " 'إي',\n",
       " 'أين',\n",
       " 'أين',\n",
       " 'أينما',\n",
       " 'إيه',\n",
       " 'بخ',\n",
       " 'بس',\n",
       " 'بعد',\n",
       " 'بعض',\n",
       " 'بك',\n",
       " 'بكم',\n",
       " 'بكم',\n",
       " 'بكما',\n",
       " 'بكن',\n",
       " 'بل',\n",
       " 'بلى',\n",
       " 'بما',\n",
       " 'بماذا',\n",
       " 'بمن',\n",
       " 'بنا',\n",
       " 'به',\n",
       " 'بها',\n",
       " 'بهم',\n",
       " 'بهما',\n",
       " 'بهن',\n",
       " 'بي',\n",
       " 'بين',\n",
       " 'بيد',\n",
       " 'تلك',\n",
       " 'تلكم',\n",
       " 'تلكما',\n",
       " 'ته',\n",
       " 'تي',\n",
       " 'تين',\n",
       " 'تينك',\n",
       " 'ثم',\n",
       " 'ثمة',\n",
       " 'حاشا',\n",
       " 'حبذا',\n",
       " 'حتى',\n",
       " 'حيث',\n",
       " 'حيثما',\n",
       " 'حين',\n",
       " 'خلا',\n",
       " 'دون',\n",
       " 'ذا',\n",
       " 'ذات',\n",
       " 'ذاك',\n",
       " 'ذان',\n",
       " 'ذانك',\n",
       " 'ذلك',\n",
       " 'ذلكم',\n",
       " 'ذلكما',\n",
       " 'ذلكن',\n",
       " 'ذه',\n",
       " 'ذو',\n",
       " 'ذوا',\n",
       " 'ذواتا',\n",
       " 'ذواتي',\n",
       " 'ذي',\n",
       " 'ذين',\n",
       " 'ذينك',\n",
       " 'ريث',\n",
       " 'سوف',\n",
       " 'سوى',\n",
       " 'شتان',\n",
       " 'عدا',\n",
       " 'عسى',\n",
       " 'عل',\n",
       " 'على',\n",
       " 'عليك',\n",
       " 'عليه',\n",
       " 'عما',\n",
       " 'عن',\n",
       " 'عند',\n",
       " 'غير',\n",
       " 'فإذا',\n",
       " 'فإن',\n",
       " 'فلا',\n",
       " 'فمن',\n",
       " 'في',\n",
       " 'فيم',\n",
       " 'فيما',\n",
       " 'فيه',\n",
       " 'فيها',\n",
       " 'قد',\n",
       " 'كأن',\n",
       " 'كأنما',\n",
       " 'كأي',\n",
       " 'كأين',\n",
       " 'كذا',\n",
       " 'كذلك',\n",
       " 'كل',\n",
       " 'كلا',\n",
       " 'كلاهما',\n",
       " 'كلتا',\n",
       " 'كلما',\n",
       " 'كليكما',\n",
       " 'كليهما',\n",
       " 'كم',\n",
       " 'كم',\n",
       " 'كما',\n",
       " 'كي',\n",
       " 'كيت',\n",
       " 'كيف',\n",
       " 'كيفما',\n",
       " 'لا',\n",
       " 'لاسيما',\n",
       " 'لدى',\n",
       " 'لست',\n",
       " 'لستم',\n",
       " 'لستما',\n",
       " 'لستن',\n",
       " 'لسن',\n",
       " 'لسنا',\n",
       " 'لعل',\n",
       " 'لك',\n",
       " 'لكم',\n",
       " 'لكما',\n",
       " 'لكن',\n",
       " 'لكنما',\n",
       " 'لكي',\n",
       " 'لكيلا',\n",
       " 'لم',\n",
       " 'لما',\n",
       " 'لن',\n",
       " 'لنا',\n",
       " 'له',\n",
       " 'لها',\n",
       " 'لهم',\n",
       " 'لهما',\n",
       " 'لهن',\n",
       " 'لو',\n",
       " 'لولا',\n",
       " 'لوما',\n",
       " 'لي',\n",
       " 'لئن',\n",
       " 'ليت',\n",
       " 'ليس',\n",
       " 'ليسا',\n",
       " 'ليست',\n",
       " 'ليستا',\n",
       " 'ليسوا',\n",
       " 'ما',\n",
       " 'ماذا',\n",
       " 'متى',\n",
       " 'مذ',\n",
       " 'مع',\n",
       " 'مما',\n",
       " 'ممن',\n",
       " 'من',\n",
       " 'منه',\n",
       " 'منها',\n",
       " 'منذ',\n",
       " 'مه',\n",
       " 'مهما',\n",
       " 'نحن',\n",
       " 'نحو',\n",
       " 'نعم',\n",
       " 'ها',\n",
       " 'هاتان',\n",
       " 'هاته',\n",
       " 'هاتي',\n",
       " 'هاتين',\n",
       " 'هاك',\n",
       " 'هاهنا',\n",
       " 'هذا',\n",
       " 'هذان',\n",
       " 'هذه',\n",
       " 'هذي',\n",
       " 'هذين',\n",
       " 'هكذا',\n",
       " 'هل',\n",
       " 'هلا',\n",
       " 'هم',\n",
       " 'هما',\n",
       " 'هن',\n",
       " 'هنا',\n",
       " 'هناك',\n",
       " 'هنالك',\n",
       " 'هو',\n",
       " 'هؤلاء',\n",
       " 'هي',\n",
       " 'هيا',\n",
       " 'هيت',\n",
       " 'هيهات',\n",
       " 'والذي',\n",
       " 'والذين',\n",
       " 'وإذ',\n",
       " 'وإذا',\n",
       " 'وإن',\n",
       " 'ولا',\n",
       " 'ولكن',\n",
       " 'ولو',\n",
       " 'وما',\n",
       " 'ومن',\n",
       " 'وهو',\n",
       " 'يا']"
      ]
     },
     "execution_count": 20,
     "metadata": {},
     "output_type": "execute_result"
    }
   ],
   "source": [
    "# 언어별 불용어 사전 Loading\n",
    "sw_arabic = stopwords.words('arabic')\n",
    "print(len(sw_arabic), type(sw_arabic))\n",
    "sw_arabic"
   ]
  },
  {
   "cell_type": "code",
   "execution_count": 21,
   "metadata": {},
   "outputs": [
    {
     "data": {
      "text/plain": [
       "179"
      ]
     },
     "execution_count": 21,
     "metadata": {},
     "output_type": "execute_result"
    }
   ],
   "source": [
    "sw = stopwords.words('english')  # 불용어(로 등록된) 사전 보여줌 (미리 지정된)\n",
    "len(sw)"
   ]
  },
  {
   "cell_type": "code",
   "execution_count": 22,
   "metadata": {},
   "outputs": [
    {
     "data": {
      "text/plain": [
       "False"
      ]
     },
     "execution_count": 22,
     "metadata": {},
     "output_type": "execute_result"
    }
   ],
   "source": [
    "'test' in sw"
   ]
  },
  {
   "cell_type": "code",
   "execution_count": 23,
   "metadata": {},
   "outputs": [
    {
     "data": {
      "text/plain": [
       "['i',\n",
       " 'me',\n",
       " 'my',\n",
       " 'myself',\n",
       " 'we',\n",
       " 'our',\n",
       " 'ours',\n",
       " 'ourselves',\n",
       " 'you',\n",
       " \"you're\",\n",
       " \"you've\",\n",
       " \"you'll\",\n",
       " \"you'd\",\n",
       " 'your',\n",
       " 'yours',\n",
       " 'yourself',\n",
       " 'yourselves',\n",
       " 'he',\n",
       " 'him',\n",
       " 'his',\n",
       " 'himself',\n",
       " 'she',\n",
       " \"she's\",\n",
       " 'her',\n",
       " 'hers',\n",
       " 'herself',\n",
       " 'it',\n",
       " \"it's\",\n",
       " 'its',\n",
       " 'itself',\n",
       " 'they',\n",
       " 'them',\n",
       " 'their',\n",
       " 'theirs',\n",
       " 'themselves',\n",
       " 'what',\n",
       " 'which',\n",
       " 'who',\n",
       " 'whom',\n",
       " 'this',\n",
       " 'that',\n",
       " \"that'll\",\n",
       " 'these',\n",
       " 'those',\n",
       " 'am',\n",
       " 'is',\n",
       " 'are',\n",
       " 'was',\n",
       " 'were',\n",
       " 'be',\n",
       " 'been',\n",
       " 'being',\n",
       " 'have',\n",
       " 'has',\n",
       " 'had',\n",
       " 'having',\n",
       " 'do',\n",
       " 'does',\n",
       " 'did',\n",
       " 'doing',\n",
       " 'a',\n",
       " 'an',\n",
       " 'the',\n",
       " 'and',\n",
       " 'but',\n",
       " 'if',\n",
       " 'or',\n",
       " 'because',\n",
       " 'as',\n",
       " 'until',\n",
       " 'while',\n",
       " 'of',\n",
       " 'at',\n",
       " 'by',\n",
       " 'for',\n",
       " 'with',\n",
       " 'about',\n",
       " 'against',\n",
       " 'between',\n",
       " 'into',\n",
       " 'through',\n",
       " 'during',\n",
       " 'before',\n",
       " 'after',\n",
       " 'above',\n",
       " 'below',\n",
       " 'to',\n",
       " 'from',\n",
       " 'up',\n",
       " 'down',\n",
       " 'in',\n",
       " 'out',\n",
       " 'on',\n",
       " 'off',\n",
       " 'over',\n",
       " 'under',\n",
       " 'again',\n",
       " 'further',\n",
       " 'then',\n",
       " 'once',\n",
       " 'here',\n",
       " 'there',\n",
       " 'when',\n",
       " 'where',\n",
       " 'why',\n",
       " 'how',\n",
       " 'all',\n",
       " 'any',\n",
       " 'both',\n",
       " 'each',\n",
       " 'few',\n",
       " 'more',\n",
       " 'most',\n",
       " 'other',\n",
       " 'some',\n",
       " 'such',\n",
       " 'no',\n",
       " 'nor',\n",
       " 'not',\n",
       " 'only',\n",
       " 'own',\n",
       " 'same',\n",
       " 'so',\n",
       " 'than',\n",
       " 'too',\n",
       " 'very',\n",
       " 's',\n",
       " 't',\n",
       " 'can',\n",
       " 'will',\n",
       " 'just',\n",
       " 'don',\n",
       " \"don't\",\n",
       " 'should',\n",
       " \"should've\",\n",
       " 'now',\n",
       " 'd',\n",
       " 'll',\n",
       " 'm',\n",
       " 'o',\n",
       " 're',\n",
       " 've',\n",
       " 'y',\n",
       " 'ain',\n",
       " 'aren',\n",
       " \"aren't\",\n",
       " 'couldn',\n",
       " \"couldn't\",\n",
       " 'didn',\n",
       " \"didn't\",\n",
       " 'doesn',\n",
       " \"doesn't\",\n",
       " 'hadn',\n",
       " \"hadn't\",\n",
       " 'hasn',\n",
       " \"hasn't\",\n",
       " 'haven',\n",
       " \"haven't\",\n",
       " 'isn',\n",
       " \"isn't\",\n",
       " 'ma',\n",
       " 'mightn',\n",
       " \"mightn't\",\n",
       " 'mustn',\n",
       " \"mustn't\",\n",
       " 'needn',\n",
       " \"needn't\",\n",
       " 'shan',\n",
       " \"shan't\",\n",
       " 'shouldn',\n",
       " \"shouldn't\",\n",
       " 'wasn',\n",
       " \"wasn't\",\n",
       " 'weren',\n",
       " \"weren't\",\n",
       " 'won',\n",
       " \"won't\",\n",
       " 'wouldn',\n",
       " \"wouldn't\"]"
      ]
     },
     "execution_count": 23,
     "metadata": {},
     "output_type": "execute_result"
    }
   ],
   "source": [
    "sw  # 'test'라는 단어를 stopword로 사용하고싶으면 불용어 리스트에  append 하면됨// 혹은 삭제 가능 "
   ]
  },
  {
   "cell_type": "code",
   "execution_count": 24,
   "metadata": {},
   "outputs": [],
   "source": [
    "sw_korean =[\n",
    "    '그녀','그','이것','저것'\n",
    "]  # 이렇게 만들어 사용도 가능~!"
   ]
  },
  {
   "cell_type": "code",
   "execution_count": null,
   "metadata": {},
   "outputs": [],
   "source": []
  },
  {
   "cell_type": "code",
   "execution_count": null,
   "metadata": {},
   "outputs": [],
   "source": []
  },
  {
   "cell_type": "code",
   "execution_count": 25,
   "metadata": {},
   "outputs": [
    {
     "name": "stdout",
     "output_type": "stream",
     "text": [
      "Beautiful is better than ugly.\n",
      "Explicit is better than implicit.\n",
      "Simple is better than complex.\n",
      "Complex is better than complicated.\n",
      "Flat is better than nested.\n",
      "Sparse is better than dense.\n",
      "Readability counts.\n",
      "Special cases aren't special enough to break the rules.\n",
      "Although practicality beats purity.\n",
      "Errors should never pass silently.\n",
      "Unless explicitly silenced.\n",
      "In the face of ambiguity, refuse the temptation to guess.\n",
      "There should be one-- and preferably only one --obvious way to do it.\n",
      "Although that way may not be obvious at first unless you're Dutch.\n",
      "Now is better than never.\n",
      "Although never is often better than *right* now.\n",
      "If the implementation is hard to explain, it's a bad idea.\n",
      "If the implementation is easy to explain, it may be a good idea.\n",
      "Namespaces are one honking great idea -- let's do more of those!\n"
     ]
    }
   ],
   "source": [
    "print(txt)"
   ]
  },
  {
   "cell_type": "code",
   "execution_count": null,
   "metadata": {},
   "outputs": [],
   "source": []
  },
  {
   "cell_type": "markdown",
   "metadata": {},
   "source": [
    "### tokenize_text()  함수 구현--> 전처리 하는 함수를 만든다?\n",
    "- 문장별 토큰화 시키는 함수 구현\n",
    "- 쉼표,마침표등 구두점(punctuation)은 공백처리한다.\n",
    "- stopword를 제외한다."
   ]
  },
  {
   "cell_type": "code",
   "execution_count": 26,
   "metadata": {},
   "outputs": [],
   "source": [
    "def tokenize_text(doc):\n",
    "    \"\"\"\n",
    "    하나의 문서를 받아서 토큰화 해서 반환하는 함수.\n",
    "    문장별로 단어리스트를 2차원 배열(리스트)형태로 반환.\n",
    "    구두점 / 특수문자/숫자,불용어(stopword)들은 모두 제거.\n",
    "    모두 소문자로 구성.\n",
    "    [매개변수]\n",
    "        doc: 변환대상 문서\n",
    "    [반환]\n",
    "        list: 2차원 형태의 리스트.(문장,단어)\n",
    "    \"\"\"\n",
    "    # 받은 문장을 다 소문자로 반환\n",
    "    text = doc.lower()\n",
    "    \n",
    "    #문장단위로 토큰화\n",
    "    sent_tokens = nltk.sent_tokenize(text)\n",
    "    \n",
    "    # 불용어(stopword) 리스트 생성\n",
    "    sw = stopwords.words('english')\n",
    "    sw.extend(['although','unless']) # 불용어 추가 \n",
    "    \n",
    "    result_list =[] # 최종결과를 담을 리스트\n",
    "    \n",
    "    # 문장별로 단어단위 토큰화\n",
    "    for sent in sent_tokens: # 문장으로 하나씩 반환해서 그걸 단어단위로 토큰화하기 위한 반복문.\n",
    "        #문장단위 토큰화 작업. 불용어제거, 특수문자/숫자 제거.\n",
    "        tmp_words = nltk.regexp_tokenize(sent,'[a-zA-Z가-힣]+')  # 숫자를 빼고 싶으니까 \\w+ 사용안한다.// 리스트 안에 글자들1글자 이상\n",
    "        # 불용어 제거 \n",
    "        word_list = [w for w in tmp_words if w not in sw] # sw : 불용어\n",
    "        \n",
    "        result_list.append(word_list)\n",
    "    \n",
    "    \n",
    "    return result_list"
   ]
  },
  {
   "cell_type": "code",
   "execution_count": 27,
   "metadata": {},
   "outputs": [],
   "source": [
    "#print(txt)"
   ]
  },
  {
   "cell_type": "code",
   "execution_count": 28,
   "metadata": {
    "ExecuteTime": {
     "end_time": "2020-09-07T22:13:03.097464Z",
     "start_time": "2020-09-07T22:13:03.035595Z"
    }
   },
   "outputs": [
    {
     "name": "stdout",
     "output_type": "stream",
     "text": [
      "[['beautiful', 'better', 'ugly'],\n",
      " ['explicit', 'better', 'implicit'],\n",
      " ['simple', 'better', 'complex'],\n",
      " ['complex', 'better', 'complicated'],\n",
      " ['flat', 'better', 'nested'],\n",
      " ['sparse', 'better', 'dense'],\n",
      " ['readability', 'counts'],\n",
      " ['special', 'cases', 'special', 'enough', 'break', 'rules'],\n",
      " ['practicality', 'beats', 'purity'],\n",
      " ['errors', 'never', 'pass', 'silently'],\n",
      " ['explicitly', 'silenced'],\n",
      " ['face', 'ambiguity', 'refuse', 'temptation', 'guess'],\n",
      " ['one', 'preferably', 'one', 'obvious', 'way'],\n",
      " ['way', 'may', 'obvious', 'first', 'dutch'],\n",
      " ['better', 'never'],\n",
      " ['never', 'often', 'better', 'right'],\n",
      " ['implementation', 'hard', 'explain', 'bad', 'idea'],\n",
      " ['implementation', 'easy', 'explain', 'may', 'good', 'idea'],\n",
      " ['namespaces', 'one', 'honking', 'great', 'idea', 'let']]\n"
     ]
    },
    {
     "data": {
      "text/plain": [
       "(19, None)"
      ]
     },
     "execution_count": 28,
     "metadata": {},
     "output_type": "execute_result"
    }
   ],
   "source": [
    "from pprint import pprint \n",
    "tokens = tokenize_text(txt)\n",
    "len(tokens),pprint(tokens)  # 2차원 (문장,word)"
   ]
  },
  {
   "cell_type": "code",
   "execution_count": null,
   "metadata": {},
   "outputs": [],
   "source": []
  },
  {
   "cell_type": "markdown",
   "metadata": {},
   "source": [
    "- 결과\n",
    "```\n",
    "[['beautiful', 'better', 'ugly'],\n",
    " ['explicit', 'better', 'implicit'],\n",
    " ['simple', 'better', 'complex'],\n",
    " ['complex', 'better', 'complicated'],\n",
    " ['flat', 'better', 'nested'],\n",
    " ['sparse', 'better', 'dense'],\n",
    " ['readability', 'counts'],\n",
    " ['special', 'cases', 'special', 'enough', 'break', 'rules'],\n",
    " ['although', 'practicality', 'beats', 'purity'],\n",
    " ['errors', 'never', 'pass', 'silently'],\n",
    " ['unless', 'explicitly', 'silenced'],\n",
    " ['face', 'ambiguity', 'refuse', 'temptation', 'guess'],\n",
    " ['one', 'preferably', 'one', 'obvious', 'way'],\n",
    " ['although', 'way', 'may', 'obvious', 'first', 'unless', 'dutch'],\n",
    " ['better', 'never'],\n",
    " ['although', 'never', 'often', 'better', 'right'],\n",
    " ['implementation', 'hard', 'explain', 'bad', 'idea'],\n",
    " ['implementation', 'easy', 'explain', 'may', 'good', 'idea']]\n",
    "```"
   ]
  },
  {
   "cell_type": "markdown",
   "metadata": {},
   "source": [
    "## 형태소 분석\n",
    "- 형태소\n",
    "    - 일정한 의미가 있는 가장 작은 말의 단위\n",
    "- 형태소 분석  \n",
    "    - 말뭉치에서 의미있는(분석에 필요한) 형태소들만 추출하는 것\n",
    "    - 보통 단어로 부터 어근, 접두사, 접미사, 품사등 언어적 속성을 파악하여 처리한다. \n",
    "- 형태소 분석을 위한 기법\n",
    "    - 어간추출(Stemming)\n",
    "    - 원형(기본형) 복원 (Lemmatization)\n",
    "    - 품사부착 (POS tagging - Part Of Speech)"
   ]
  },
  {
   "cell_type": "markdown",
   "metadata": {},
   "source": [
    "### 어간추출(Stemming)  --> 의미를 생각해서 바뀐다기 보다는 그냥 기계적으로 잘라버려서 확인을 해야한다.\n",
    "- 어간이 같으면 같은 단어로 count 된다.\n",
    "- 어간이 \n",
    "\n",
    "- 어간: 활용어에서 변하지 않는 부분\n",
    "    - painted, paint, painting => 어간: paint  --> 여기서 같은 어간을 가진 단어가 그냥 pa 로만바뀌어도 모두가 pa로 바뀌어서 count되면 이상없음\n",
    "                                               --> 근데 중간에 하나가 pai 로 바뀌면 안됨\n",
    "    - 보다, 보니, 보고=>어간 보-\n",
    "- 어간 추출 \n",
    "    - 단어에서 어미를 제거하고 어간을 추출하는 작업\n",
    "- 목적\n",
    "    - 같은 의미를 가지는 단어의 여러가지 활용이 있을 경우 다른 단어로 카운트 되는 문제점을 해결한다.\n",
    "        - flower, flowers 가 두개의 단어로 카운트 되는 것을 flower로 통일한다.        \n",
    "- nltk의 주요 어간 추출 알고리즘\n",
    "    - Porter Stemmer\n",
    "    - Lancaster Stemmer\n",
    "    - Snowball Stemmer\n",
    "- 메소드\n",
    "    - `stemmer객체.stem(단어)`\n",
    "- stemming의 문제\n",
    "    - 완벽하지 않다는 것이 문제이다.        \n",
    "        - ex) new와 news는 다른 단어 인데 둘다 new로 처리한다.\n",
    "    - 처리후 눈으로 직접 확인해야 한다."
   ]
  },
  {
   "cell_type": "code",
   "execution_count": 29,
   "metadata": {},
   "outputs": [],
   "source": [
    "from nltk import PorterStemmer, LancasterStemmer, SnowballStemmer"
   ]
  },
  {
   "cell_type": "code",
   "execution_count": 30,
   "metadata": {},
   "outputs": [],
   "source": [
    "# stemming 은 단어를 모두 소문자로 바꾸고 처리하기 때문에 대소문자 상관없음\n",
    "words =[\n",
    "    'Working','Works','Worked',\n",
    "    'Painting','Paints','Painted',\n",
    "    'happy','happier','happiest'\n",
    "]"
   ]
  },
  {
   "cell_type": "code",
   "execution_count": 31,
   "metadata": {},
   "outputs": [],
   "source": [
    "#1. stemmer 객체생성\n",
    "#2. stem(단어) 을 호출해서 단어별로 어간추출 작업을 진행\n"
   ]
  },
  {
   "cell_type": "code",
   "execution_count": 32,
   "metadata": {},
   "outputs": [
    {
     "name": "stdout",
     "output_type": "stream",
     "text": [
      "['work', 'work', 'work', 'paint', 'paint', 'paint', 'happi', 'happier', 'happiest']\n"
     ]
    }
   ],
   "source": [
    "ps = PorterStemmer()\n",
    "print([ps.stem(word) for word in words])  # 뜻을 보고 한게아니라 기계적으로 짜르고 바꾸고 붙였다.// 불규칙 동사 변형 못함.."
   ]
  },
  {
   "cell_type": "code",
   "execution_count": 33,
   "metadata": {},
   "outputs": [
    {
     "name": "stdout",
     "output_type": "stream",
     "text": [
      "['work', 'work', 'work', 'paint', 'paint', 'paint', 'happy', 'happy', 'happiest']\n"
     ]
    }
   ],
   "source": [
    "ls = LancasterStemmer()\n",
    "print([ls.stem(word) for word in words])"
   ]
  },
  {
   "cell_type": "code",
   "execution_count": 34,
   "metadata": {},
   "outputs": [
    {
     "name": "stdout",
     "output_type": "stream",
     "text": [
      "['work', 'work', 'work', 'paint', 'paint', 'paint', 'happi', 'happier', 'happiest']\n"
     ]
    }
   ],
   "source": [
    "sbs = SnowballStemmer('english')  # 스노우 볼은 언어를 지정해주고 사용해야함~!\n",
    "print([sbs.stem(word) for word in words])"
   ]
  },
  {
   "cell_type": "code",
   "execution_count": null,
   "metadata": {},
   "outputs": [],
   "source": []
  },
  {
   "cell_type": "code",
   "execution_count": null,
   "metadata": {},
   "outputs": [],
   "source": []
  },
  {
   "cell_type": "markdown",
   "metadata": {},
   "source": [
    "### 원형(기본형)복원(Lemmatization)\n",
    "- 단어의 기본형을 반환한다.\n",
    "    - ex) am, is, are => be\n",
    "- 단어의 품사를 지정하면 정확한 결과를 얻을 수 있다. / 품사를 넣어 줘야만 가능하다.\n",
    "- `WordNetLemmatizer객체.lemmatize(단어 [, pos=품사])`\n",
    "- 클래스 생성객체 생성 해서 사용.\n",
    "> 어간추출과 원형복원은 문법적 또는 의미적으로 변한 단어의 원형을 찾는 역할은 동일하다.<br>\n",
    "> **원형복원**은 품사와 같은 문법적요소와 문장내에서의 의미적인 부분을 감안해 찾기 때문에 어간추출 방식보다 더 정교하다. "
   ]
  },
  {
   "cell_type": "code",
   "execution_count": 35,
   "metadata": {},
   "outputs": [
    {
     "name": "stderr",
     "output_type": "stream",
     "text": [
      "[nltk_data] Downloading package wordnet to\n",
      "[nltk_data]     C:\\Users\\Playdata\\AppData\\Roaming\\nltk_data...\n",
      "[nltk_data]   Package wordnet is already up-to-date!\n"
     ]
    },
    {
     "data": {
      "text/plain": [
       "True"
      ]
     },
     "execution_count": 35,
     "metadata": {},
     "output_type": "execute_result"
    }
   ],
   "source": [
    "nltk.download('wordnet')"
   ]
  },
  {
   "cell_type": "code",
   "execution_count": 36,
   "metadata": {},
   "outputs": [],
   "source": [
    "from nltk.stem import WordNetLemmatizer"
   ]
  },
  {
   "cell_type": "code",
   "execution_count": 37,
   "metadata": {},
   "outputs": [],
   "source": [
    "words =['is','are','am','has','had','have']"
   ]
  },
  {
   "cell_type": "code",
   "execution_count": 38,
   "metadata": {
    "scrolled": false
   },
   "outputs": [
    {
     "data": {
      "text/plain": [
       "'be'"
      ]
     },
     "execution_count": 38,
     "metadata": {},
     "output_type": "execute_result"
    }
   ],
   "source": [
    "lemm = WordNetLemmatizer()\n",
    "lemm.lemmatize('are', pos = 'v') # 단어를 하나씩 줘야하기 때문에 "
   ]
  },
  {
   "cell_type": "code",
   "execution_count": 39,
   "metadata": {},
   "outputs": [
    {
     "data": {
      "text/plain": [
       "['be', 'be', 'be', 'have', 'have', 'have']"
      ]
     },
     "execution_count": 39,
     "metadata": {},
     "output_type": "execute_result"
    }
   ],
   "source": [
    "[lemm.lemmatize(word, pos ='v') for word in words]   # 단어를 하나씩 줘야하기 때문에 "
   ]
  },
  {
   "cell_type": "code",
   "execution_count": 40,
   "metadata": {},
   "outputs": [
    {
     "data": {
      "text/plain": [
       "['happy', 'happy', 'happy', 'Happeier']"
      ]
     },
     "execution_count": 40,
     "metadata": {},
     "output_type": "execute_result"
    }
   ],
   "source": [
    "word2 = ['happy','happier','happiest', 'Happeier'] # 형용사 :a// 원형복원은 직접 소문자로 바꾸고 해야 함.\n",
    "\n",
    "[lemm.lemmatize(word, pos ='a') for word in word2]"
   ]
  },
  {
   "cell_type": "code",
   "execution_count": 41,
   "metadata": {},
   "outputs": [
    {
     "data": {
      "text/plain": [
       "('meet', 'meeting')"
      ]
     },
     "execution_count": 41,
     "metadata": {},
     "output_type": "execute_result"
    }
   ],
   "source": [
    "lemm.lemmatize('meeting',pos = 'v'), lemm.lemmatize('meeting',pos = 'n')  # 문맥에 맞게 복원됨 "
   ]
  },
  {
   "cell_type": "code",
   "execution_count": 42,
   "metadata": {},
   "outputs": [
    {
     "data": {
      "text/plain": [
       "('meet', 'meet')"
      ]
     },
     "execution_count": 42,
     "metadata": {},
     "output_type": "execute_result"
    }
   ],
   "source": [
    "sbs.stem('meeting'),sbs.stem('meet')  # 명사, 동사로 씌여서 뜻이 다른데 똑같은 meet으로 바꿈..."
   ]
  },
  {
   "cell_type": "code",
   "execution_count": null,
   "metadata": {},
   "outputs": [],
   "source": []
  },
  {
   "cell_type": "code",
   "execution_count": null,
   "metadata": {},
   "outputs": [],
   "source": []
  },
  {
   "cell_type": "code",
   "execution_count": null,
   "metadata": {},
   "outputs": [],
   "source": []
  },
  {
   "cell_type": "markdown",
   "metadata": {},
   "source": [
    "### 품사부착-POS Tagging(Part-Of-Speech Tagging)\n",
    "- 형태소에 품사를 붙이는 작업.\n",
    "    - 품사의 구분이나 표현은 언어, 학자마다 다르다. \n",
    "- NLTK는 펜 트리뱅크 태그세트(Penn Treebank Tagset) 이용\n",
    "    - 명사 : N으로 시작 (NN-일반명사, NNP-고유명사)\n",
    "    - 형용사 : J로 시작(JJ, JJR-비교급, JJS-최상급)\n",
    "    - 동사: V로 시작 (VB-동사, VBP-현재형 동사)\n",
    "    - 부사: R로 시작 (RB-부사)\n",
    "    - `nltk.help.upenn_tagset(['키워드'])` : 도움말\n",
    "- `pos_tag(단어_리스트)`    \n",
    "    - 단어와 품사를 튜플로 묶은 리스트를 반환"
   ]
  },
  {
   "cell_type": "code",
   "execution_count": 43,
   "metadata": {},
   "outputs": [
    {
     "name": "stderr",
     "output_type": "stream",
     "text": [
      "[nltk_data] Downloading package tagsets to\n",
      "[nltk_data]     C:\\Users\\Playdata\\AppData\\Roaming\\nltk_data...\n",
      "[nltk_data]   Package tagsets is already up-to-date!\n",
      "[nltk_data] Downloading package averaged_perceptron_tagger to\n",
      "[nltk_data]     C:\\Users\\Playdata\\AppData\\Roaming\\nltk_data...\n",
      "[nltk_data]   Package averaged_perceptron_tagger is already up-to-\n",
      "[nltk_data]       date!\n"
     ]
    },
    {
     "data": {
      "text/plain": [
       "True"
      ]
     },
     "execution_count": 43,
     "metadata": {},
     "output_type": "execute_result"
    }
   ],
   "source": [
    "nltk.download('tagsets')\n",
    "nltk.download('averaged_perceptron_tagger')"
   ]
  },
  {
   "cell_type": "code",
   "execution_count": 44,
   "metadata": {},
   "outputs": [
    {
     "name": "stdout",
     "output_type": "stream",
     "text": [
      "$: dollar\n",
      "    $ -$ --$ A$ C$ HK$ M$ NZ$ S$ U.S.$ US$\n",
      "'': closing quotation mark\n",
      "    ' ''\n",
      "(: opening parenthesis\n",
      "    ( [ {\n",
      "): closing parenthesis\n",
      "    ) ] }\n",
      ",: comma\n",
      "    ,\n",
      "--: dash\n",
      "    --\n",
      ".: sentence terminator\n",
      "    . ! ?\n",
      ":: colon or ellipsis\n",
      "    : ; ...\n",
      "CC: conjunction, coordinating\n",
      "    & 'n and both but either et for less minus neither nor or plus so\n",
      "    therefore times v. versus vs. whether yet\n",
      "CD: numeral, cardinal\n",
      "    mid-1890 nine-thirty forty-two one-tenth ten million 0.5 one forty-\n",
      "    seven 1987 twenty '79 zero two 78-degrees eighty-four IX '60s .025\n",
      "    fifteen 271,124 dozen quintillion DM2,000 ...\n",
      "DT: determiner\n",
      "    all an another any both del each either every half la many much nary\n",
      "    neither no some such that the them these this those\n",
      "EX: existential there\n",
      "    there\n",
      "FW: foreign word\n",
      "    gemeinschaft hund ich jeux habeas Haementeria Herr K'ang-si vous\n",
      "    lutihaw alai je jour objets salutaris fille quibusdam pas trop Monte\n",
      "    terram fiche oui corporis ...\n",
      "IN: preposition or conjunction, subordinating\n",
      "    astride among uppon whether out inside pro despite on by throughout\n",
      "    below within for towards near behind atop around if like until below\n",
      "    next into if beside ...\n",
      "JJ: adjective or numeral, ordinal\n",
      "    third ill-mannered pre-war regrettable oiled calamitous first separable\n",
      "    ectoplasmic battery-powered participatory fourth still-to-be-named\n",
      "    multilingual multi-disciplinary ...\n",
      "JJR: adjective, comparative\n",
      "    bleaker braver breezier briefer brighter brisker broader bumper busier\n",
      "    calmer cheaper choosier cleaner clearer closer colder commoner costlier\n",
      "    cozier creamier crunchier cuter ...\n",
      "JJS: adjective, superlative\n",
      "    calmest cheapest choicest classiest cleanest clearest closest commonest\n",
      "    corniest costliest crassest creepiest crudest cutest darkest deadliest\n",
      "    dearest deepest densest dinkiest ...\n",
      "LS: list item marker\n",
      "    A A. B B. C C. D E F First G H I J K One SP-44001 SP-44002 SP-44005\n",
      "    SP-44007 Second Third Three Two * a b c d first five four one six three\n",
      "    two\n",
      "MD: modal auxiliary\n",
      "    can cannot could couldn't dare may might must need ought shall should\n",
      "    shouldn't will would\n",
      "NN: noun, common, singular or mass\n",
      "    common-carrier cabbage knuckle-duster Casino afghan shed thermostat\n",
      "    investment slide humour falloff slick wind hyena override subhumanity\n",
      "    machinist ...\n",
      "NNP: noun, proper, singular\n",
      "    Motown Venneboerger Czestochwa Ranzer Conchita Trumplane Christos\n",
      "    Oceanside Escobar Kreisler Sawyer Cougar Yvette Ervin ODI Darryl CTCA\n",
      "    Shannon A.K.C. Meltex Liverpool ...\n",
      "NNPS: noun, proper, plural\n",
      "    Americans Americas Amharas Amityvilles Amusements Anarcho-Syndicalists\n",
      "    Andalusians Andes Andruses Angels Animals Anthony Antilles Antiques\n",
      "    Apache Apaches Apocrypha ...\n",
      "NNS: noun, common, plural\n",
      "    undergraduates scotches bric-a-brac products bodyguards facets coasts\n",
      "    divestitures storehouses designs clubs fragrances averages\n",
      "    subjectivists apprehensions muses factory-jobs ...\n",
      "PDT: pre-determiner\n",
      "    all both half many quite such sure this\n",
      "POS: genitive marker\n",
      "    ' 's\n",
      "PRP: pronoun, personal\n",
      "    hers herself him himself hisself it itself me myself one oneself ours\n",
      "    ourselves ownself self she thee theirs them themselves they thou thy us\n",
      "PRP$: pronoun, possessive\n",
      "    her his mine my our ours their thy your\n",
      "RB: adverb\n",
      "    occasionally unabatingly maddeningly adventurously professedly\n",
      "    stirringly prominently technologically magisterially predominately\n",
      "    swiftly fiscally pitilessly ...\n",
      "RBR: adverb, comparative\n",
      "    further gloomier grander graver greater grimmer harder harsher\n",
      "    healthier heavier higher however larger later leaner lengthier less-\n",
      "    perfectly lesser lonelier longer louder lower more ...\n",
      "RBS: adverb, superlative\n",
      "    best biggest bluntest earliest farthest first furthest hardest\n",
      "    heartiest highest largest least less most nearest second tightest worst\n",
      "RP: particle\n",
      "    aboard about across along apart around aside at away back before behind\n",
      "    by crop down ever fast for forth from go high i.e. in into just later\n",
      "    low more off on open out over per pie raising start teeth that through\n",
      "    under unto up up-pp upon whole with you\n",
      "SYM: symbol\n",
      "    % & ' '' ''. ) ). * + ,. < = > @ A[fj] U.S U.S.S.R * ** ***\n",
      "TO: \"to\" as preposition or infinitive marker\n",
      "    to\n",
      "UH: interjection\n",
      "    Goodbye Goody Gosh Wow Jeepers Jee-sus Hubba Hey Kee-reist Oops amen\n",
      "    huh howdy uh dammit whammo shucks heck anyways whodunnit honey golly\n",
      "    man baby diddle hush sonuvabitch ...\n",
      "VB: verb, base form\n",
      "    ask assemble assess assign assume atone attention avoid bake balkanize\n",
      "    bank begin behold believe bend benefit bevel beware bless boil bomb\n",
      "    boost brace break bring broil brush build ...\n",
      "VBD: verb, past tense\n",
      "    dipped pleaded swiped regummed soaked tidied convened halted registered\n",
      "    cushioned exacted snubbed strode aimed adopted belied figgered\n",
      "    speculated wore appreciated contemplated ...\n",
      "VBG: verb, present participle or gerund\n",
      "    telegraphing stirring focusing angering judging stalling lactating\n",
      "    hankerin' alleging veering capping approaching traveling besieging\n",
      "    encrypting interrupting erasing wincing ...\n",
      "VBN: verb, past participle\n",
      "    multihulled dilapidated aerosolized chaired languished panelized used\n",
      "    experimented flourished imitated reunifed factored condensed sheared\n",
      "    unsettled primed dubbed desired ...\n",
      "VBP: verb, present tense, not 3rd person singular\n",
      "    predominate wrap resort sue twist spill cure lengthen brush terminate\n",
      "    appear tend stray glisten obtain comprise detest tease attract\n",
      "    emphasize mold postpone sever return wag ...\n",
      "VBZ: verb, present tense, 3rd person singular\n",
      "    bases reconstructs marks mixes displeases seals carps weaves snatches\n",
      "    slumps stretches authorizes smolders pictures emerges stockpiles\n",
      "    seduces fizzes uses bolsters slaps speaks pleads ...\n",
      "WDT: WH-determiner\n",
      "    that what whatever which whichever\n",
      "WP: WH-pronoun\n",
      "    that what whatever whatsoever which who whom whosoever\n",
      "WP$: WH-pronoun, possessive\n",
      "    whose\n",
      "WRB: Wh-adverb\n",
      "    how however whence whenever where whereby whereever wherein whereof why\n",
      "``: opening quotation mark\n",
      "    ` ``\n"
     ]
    }
   ],
   "source": [
    "nltk.help.upenn_tagset() # 모든 품사에 대한 설명 "
   ]
  },
  {
   "cell_type": "code",
   "execution_count": 45,
   "metadata": {},
   "outputs": [
    {
     "name": "stdout",
     "output_type": "stream",
     "text": [
      "JJ: adjective or numeral, ordinal\n",
      "    third ill-mannered pre-war regrettable oiled calamitous first separable\n",
      "    ectoplasmic battery-powered participatory fourth still-to-be-named\n",
      "    multilingual multi-disciplinary ...\n"
     ]
    }
   ],
   "source": [
    "nltk.help.upenn_tagset('JJ') # 품사 의미"
   ]
  },
  {
   "cell_type": "code",
   "execution_count": null,
   "metadata": {},
   "outputs": [],
   "source": []
  },
  {
   "cell_type": "code",
   "execution_count": 46,
   "metadata": {},
   "outputs": [],
   "source": [
    "from nltk.tag import pos_tag\n",
    "\n",
    "words =['Book','book','car','go','Korea','have','sexy','Guy','pretty']"
   ]
  },
  {
   "cell_type": "code",
   "execution_count": 47,
   "metadata": {},
   "outputs": [
    {
     "data": {
      "text/plain": [
       "[('Book', 'NNP'),\n",
       " ('book', 'NN'),\n",
       " ('car', 'NN'),\n",
       " ('go', 'VBP'),\n",
       " ('Korea', 'NNP'),\n",
       " ('have', 'VBP'),\n",
       " ('sexy', 'VBN'),\n",
       " ('Guy', 'NNP'),\n",
       " ('pretty', 'RB')]"
      ]
     },
     "execution_count": 47,
     "metadata": {},
     "output_type": "execute_result"
    }
   ],
   "source": [
    "pos_tag(words)"
   ]
  },
  {
   "cell_type": "markdown",
   "metadata": {},
   "source": [
    "# ------------------------------------------------------------------------------------------------------------------------\n",
    "## txt 원형복원\n",
    "- 1.각 token에 품사를 부착\n",
    "- 원형복원 처리\n",
    "\n",
    "-"
   ]
  },
  {
   "cell_type": "code",
   "execution_count": 48,
   "metadata": {},
   "outputs": [
    {
     "name": "stdout",
     "output_type": "stream",
     "text": [
      "['beautiful', 'better', 'ugly', 'explicit', 'better', 'implicit', 'simple', 'better', 'complex', 'complex', 'better', 'complicated', 'flat', 'better', 'nested', 'sparse', 'better', 'dense', 'readability', 'counts', 'special', 'cases', 'special', 'enough', 'break', 'rules', 'practicality', 'beats', 'purity', 'errors', 'never', 'pass', 'silently', 'explicitly', 'silenced', 'face', 'ambiguity', 'refuse', 'temptation', 'guess', 'one', 'preferably', 'one', 'obvious', 'way', 'way', 'may', 'obvious', 'first', 'dutch', 'better', 'never', 'never', 'often', 'better', 'right', 'implementation', 'hard', 'explain', 'bad', 'idea', 'implementation', 'easy', 'explain', 'may', 'good', 'idea', 'namespaces', 'one', 'honking', 'great', 'idea', 'let']\n"
     ]
    }
   ],
   "source": [
    "\n",
    "tokens = tokenize_text(txt)\n",
    "# pos tag 하기위해 1차원 list 로 만들어줌\n",
    "tokens = [word for word_list in tokens for word in word_list]  # for 문 두개 함 //word_list : 단어가 들어있는 리스트.\n",
    "# [word for word_list in tokens\n",
    "#          for word in word_list]  ---> 이런식으로 된것임~!\n",
    "print(tokens)\n"
   ]
  },
  {
   "cell_type": "code",
   "execution_count": null,
   "metadata": {},
   "outputs": [],
   "source": []
  },
  {
   "cell_type": "code",
   "execution_count": 49,
   "metadata": {},
   "outputs": [
    {
     "data": {
      "text/plain": [
       "[('beautiful', 'JJ'),\n",
       " ('better', 'JJR'),\n",
       " ('ugly', 'RB'),\n",
       " ('explicit', 'JJ'),\n",
       " ('better', 'RBR'),\n",
       " ('implicit', 'JJ'),\n",
       " ('simple', 'JJ'),\n",
       " ('better', 'RBR'),\n",
       " ('complex', 'JJ'),\n",
       " ('complex', 'JJ'),\n",
       " ('better', 'RBR'),\n",
       " ('complicated', 'VBN'),\n",
       " ('flat', 'JJ'),\n",
       " ('better', 'RBR'),\n",
       " ('nested', 'JJ'),\n",
       " ('sparse', 'NN'),\n",
       " ('better', 'RBR'),\n",
       " ('dense', 'NN'),\n",
       " ('readability', 'NN'),\n",
       " ('counts', 'VBZ'),\n",
       " ('special', 'JJ'),\n",
       " ('cases', 'NNS'),\n",
       " ('special', 'JJ'),\n",
       " ('enough', 'JJ'),\n",
       " ('break', 'NN'),\n",
       " ('rules', 'NNS'),\n",
       " ('practicality', 'NN'),\n",
       " ('beats', 'VBP'),\n",
       " ('purity', 'NN'),\n",
       " ('errors', 'NNS'),\n",
       " ('never', 'RB'),\n",
       " ('pass', 'VBP'),\n",
       " ('silently', 'RB'),\n",
       " ('explicitly', 'RB'),\n",
       " ('silenced', 'VBN'),\n",
       " ('face', 'NN'),\n",
       " ('ambiguity', 'NN'),\n",
       " ('refuse', 'VBP'),\n",
       " ('temptation', 'NN'),\n",
       " ('guess', 'NN'),\n",
       " ('one', 'CD'),\n",
       " ('preferably', 'RB'),\n",
       " ('one', 'CD'),\n",
       " ('obvious', 'JJ'),\n",
       " ('way', 'NN'),\n",
       " ('way', 'NN'),\n",
       " ('may', 'MD'),\n",
       " ('obvious', 'VB'),\n",
       " ('first', 'JJ'),\n",
       " ('dutch', 'NN'),\n",
       " ('better', 'RBR'),\n",
       " ('never', 'RB'),\n",
       " ('never', 'RB'),\n",
       " ('often', 'RB'),\n",
       " ('better', 'RB'),\n",
       " ('right', 'JJ'),\n",
       " ('implementation', 'NN'),\n",
       " ('hard', 'RB'),\n",
       " ('explain', 'VBP'),\n",
       " ('bad', 'JJ'),\n",
       " ('idea', 'NN'),\n",
       " ('implementation', 'NN'),\n",
       " ('easy', 'JJ'),\n",
       " ('explain', 'NN'),\n",
       " ('may', 'MD'),\n",
       " ('good', 'VB'),\n",
       " ('idea', 'NN'),\n",
       " ('namespaces', 'NNS'),\n",
       " ('one', 'CD'),\n",
       " ('honking', 'VBG'),\n",
       " ('great', 'JJ'),\n",
       " ('idea', 'NN'),\n",
       " ('let', 'NN')]"
      ]
     },
     "execution_count": 49,
     "metadata": {},
     "output_type": "execute_result"
    }
   ],
   "source": [
    "# 품사 부착\n",
    "\n",
    "pos_taged_tokens =pos_tag(tokens) # 리스트를 넣어야 되서 위에 코드에서 1차원 리스트를 만듦\n",
    "pos_taged_tokens"
   ]
  },
  {
   "cell_type": "code",
   "execution_count": 50,
   "metadata": {},
   "outputs": [],
   "source": [
    "# lemm.lemmatize('good', pos ='VB') # 에러 발생 pos = 'a' 이렇게 넣었어야함 "
   ]
  },
  {
   "cell_type": "code",
   "execution_count": 51,
   "metadata": {},
   "outputs": [],
   "source": [
    "# 품사형식 바꾸는 함수 \n",
    "def get_wordnet_postag(pos_tag):\n",
    "    \"\"\"\n",
    "    펜 트리뱅크 태그셋의 품사를 (pos_tag() 반환형식)을 WordNetlemmatizer(원형복원처리객체)가 사용하는 품사 형식으로 변환\n",
    "    - n : 명사, a : 형용사, v: 동사, r:부사\n",
    "    \"\"\"\n",
    "    if pos_tag.startswith('J'):\n",
    "        return 'a'\n",
    "    elif pos_tag.startswith('N'):\n",
    "        return 'n'\n",
    "    elif pos_tag.startswith('V'):\n",
    "        return 'v'\n",
    "    elif pos_tag.startswith('R'):\n",
    "        return 'r'\n",
    "    else:\n",
    "        return None"
   ]
  },
  {
   "cell_type": "code",
   "execution_count": 52,
   "metadata": {},
   "outputs": [
    {
     "data": {
      "text/plain": [
       "[('beautiful', 'JJ'),\n",
       " ('better', 'JJR'),\n",
       " ('ugly', 'RB'),\n",
       " ('explicit', 'JJ'),\n",
       " ('better', 'RBR'),\n",
       " ('implicit', 'JJ'),\n",
       " ('simple', 'JJ'),\n",
       " ('better', 'RBR'),\n",
       " ('complex', 'JJ'),\n",
       " ('complex', 'JJ'),\n",
       " ('better', 'RBR'),\n",
       " ('complicated', 'VBN'),\n",
       " ('flat', 'JJ'),\n",
       " ('better', 'RBR'),\n",
       " ('nested', 'JJ'),\n",
       " ('sparse', 'NN'),\n",
       " ('better', 'RBR'),\n",
       " ('dense', 'NN'),\n",
       " ('readability', 'NN'),\n",
       " ('counts', 'VBZ'),\n",
       " ('special', 'JJ'),\n",
       " ('cases', 'NNS'),\n",
       " ('special', 'JJ'),\n",
       " ('enough', 'JJ'),\n",
       " ('break', 'NN'),\n",
       " ('rules', 'NNS'),\n",
       " ('practicality', 'NN'),\n",
       " ('beats', 'VBP'),\n",
       " ('purity', 'NN'),\n",
       " ('errors', 'NNS'),\n",
       " ('never', 'RB'),\n",
       " ('pass', 'VBP'),\n",
       " ('silently', 'RB'),\n",
       " ('explicitly', 'RB'),\n",
       " ('silenced', 'VBN'),\n",
       " ('face', 'NN'),\n",
       " ('ambiguity', 'NN'),\n",
       " ('refuse', 'VBP'),\n",
       " ('temptation', 'NN'),\n",
       " ('guess', 'NN'),\n",
       " ('one', 'CD'),\n",
       " ('preferably', 'RB'),\n",
       " ('one', 'CD'),\n",
       " ('obvious', 'JJ'),\n",
       " ('way', 'NN'),\n",
       " ('way', 'NN'),\n",
       " ('may', 'MD'),\n",
       " ('obvious', 'VB'),\n",
       " ('first', 'JJ'),\n",
       " ('dutch', 'NN'),\n",
       " ('better', 'RBR'),\n",
       " ('never', 'RB'),\n",
       " ('never', 'RB'),\n",
       " ('often', 'RB'),\n",
       " ('better', 'RB'),\n",
       " ('right', 'JJ'),\n",
       " ('implementation', 'NN'),\n",
       " ('hard', 'RB'),\n",
       " ('explain', 'VBP'),\n",
       " ('bad', 'JJ'),\n",
       " ('idea', 'NN'),\n",
       " ('implementation', 'NN'),\n",
       " ('easy', 'JJ'),\n",
       " ('explain', 'NN'),\n",
       " ('may', 'MD'),\n",
       " ('good', 'VB'),\n",
       " ('idea', 'NN'),\n",
       " ('namespaces', 'NNS'),\n",
       " ('one', 'CD'),\n",
       " ('honking', 'VBG'),\n",
       " ('great', 'JJ'),\n",
       " ('idea', 'NN'),\n",
       " ('let', 'NN')]"
      ]
     },
     "execution_count": 52,
     "metadata": {},
     "output_type": "execute_result"
    }
   ],
   "source": [
    "pos_taged_tokens"
   ]
  },
  {
   "cell_type": "code",
   "execution_count": 53,
   "metadata": {},
   "outputs": [
    {
     "data": {
      "text/plain": [
       "[('beautiful', 'a'),\n",
       " ('better', 'a'),\n",
       " ('ugly', 'r'),\n",
       " ('explicit', 'a'),\n",
       " ('better', 'r'),\n",
       " ('implicit', 'a'),\n",
       " ('simple', 'a'),\n",
       " ('better', 'r'),\n",
       " ('complex', 'a'),\n",
       " ('complex', 'a'),\n",
       " ('better', 'r'),\n",
       " ('complicated', 'v'),\n",
       " ('flat', 'a'),\n",
       " ('better', 'r'),\n",
       " ('nested', 'a'),\n",
       " ('sparse', 'n'),\n",
       " ('better', 'r'),\n",
       " ('dense', 'n'),\n",
       " ('readability', 'n'),\n",
       " ('counts', 'v'),\n",
       " ('special', 'a'),\n",
       " ('cases', 'n'),\n",
       " ('special', 'a'),\n",
       " ('enough', 'a'),\n",
       " ('break', 'n'),\n",
       " ('rules', 'n'),\n",
       " ('practicality', 'n'),\n",
       " ('beats', 'v'),\n",
       " ('purity', 'n'),\n",
       " ('errors', 'n'),\n",
       " ('never', 'r'),\n",
       " ('pass', 'v'),\n",
       " ('silently', 'r'),\n",
       " ('explicitly', 'r'),\n",
       " ('silenced', 'v'),\n",
       " ('face', 'n'),\n",
       " ('ambiguity', 'n'),\n",
       " ('refuse', 'v'),\n",
       " ('temptation', 'n'),\n",
       " ('guess', 'n'),\n",
       " ('preferably', 'r'),\n",
       " ('obvious', 'a'),\n",
       " ('way', 'n'),\n",
       " ('way', 'n'),\n",
       " ('obvious', 'v'),\n",
       " ('first', 'a'),\n",
       " ('dutch', 'n'),\n",
       " ('better', 'r'),\n",
       " ('never', 'r'),\n",
       " ('never', 'r'),\n",
       " ('often', 'r'),\n",
       " ('better', 'r'),\n",
       " ('right', 'a'),\n",
       " ('implementation', 'n'),\n",
       " ('hard', 'r'),\n",
       " ('explain', 'v'),\n",
       " ('bad', 'a'),\n",
       " ('idea', 'n'),\n",
       " ('implementation', 'n'),\n",
       " ('easy', 'a'),\n",
       " ('explain', 'n'),\n",
       " ('good', 'v'),\n",
       " ('idea', 'n'),\n",
       " ('namespaces', 'n'),\n",
       " ('honking', 'v'),\n",
       " ('great', 'a'),\n",
       " ('idea', 'n'),\n",
       " ('let', 'n')]"
      ]
     },
     "execution_count": 53,
     "metadata": {},
     "output_type": "execute_result"
    }
   ],
   "source": [
    "wordnet_pos_taged_tokens = [(word, get_wordnet_postag(tag)) for word, tag in pos_taged_tokens if get_wordnet_postag(tag)!= None]\n",
    "wordnet_pos_taged_tokens"
   ]
  },
  {
   "cell_type": "markdown",
   "metadata": {},
   "source": [
    "### 원형복원"
   ]
  },
  {
   "cell_type": "code",
   "execution_count": 54,
   "metadata": {},
   "outputs": [
    {
     "data": {
      "text/plain": [
       "['beautiful',\n",
       " 'good',\n",
       " 'ugly',\n",
       " 'explicit',\n",
       " 'well',\n",
       " 'implicit',\n",
       " 'simple',\n",
       " 'well',\n",
       " 'complex',\n",
       " 'complex',\n",
       " 'well',\n",
       " 'complicate',\n",
       " 'flat',\n",
       " 'well',\n",
       " 'nested',\n",
       " 'sparse',\n",
       " 'well',\n",
       " 'dense',\n",
       " 'readability',\n",
       " 'count',\n",
       " 'special',\n",
       " 'case',\n",
       " 'special',\n",
       " 'enough',\n",
       " 'break',\n",
       " 'rule',\n",
       " 'practicality',\n",
       " 'beat',\n",
       " 'purity',\n",
       " 'error',\n",
       " 'never',\n",
       " 'pass',\n",
       " 'silently',\n",
       " 'explicitly',\n",
       " 'silence',\n",
       " 'face',\n",
       " 'ambiguity',\n",
       " 'refuse',\n",
       " 'temptation',\n",
       " 'guess',\n",
       " 'preferably',\n",
       " 'obvious',\n",
       " 'way',\n",
       " 'way',\n",
       " 'obvious',\n",
       " 'first',\n",
       " 'dutch',\n",
       " 'well',\n",
       " 'never',\n",
       " 'never',\n",
       " 'often',\n",
       " 'well',\n",
       " 'right',\n",
       " 'implementation',\n",
       " 'hard',\n",
       " 'explain',\n",
       " 'bad',\n",
       " 'idea',\n",
       " 'implementation',\n",
       " 'easy',\n",
       " 'explain',\n",
       " 'good',\n",
       " 'idea',\n",
       " 'namespaces',\n",
       " 'honk',\n",
       " 'great',\n",
       " 'idea',\n",
       " 'let']"
      ]
     },
     "execution_count": 54,
     "metadata": {},
     "output_type": "execute_result"
    }
   ],
   "source": [
    "from nltk.stem import WordNetLemmatizer\n",
    "\n",
    "lemm = WordNetLemmatizer()\n",
    "token_lemm = [lemm.lemmatize(word, pos = tag) for word,tag in wordnet_pos_taged_tokens]  # 원형복원~!\n",
    "\n",
    "# [lemm.lemmatize(word, pos = tag) for word,tag in wordnet_pos_taged_tokens]  # 원형복원~!\n",
    "token_lemm"
   ]
  },
  {
   "cell_type": "code",
   "execution_count": 55,
   "metadata": {},
   "outputs": [
    {
     "data": {
      "text/plain": [
       "['sparse',\n",
       " 'dense',\n",
       " 'readability',\n",
       " 'case',\n",
       " 'break',\n",
       " 'rule',\n",
       " 'practicality',\n",
       " 'purity',\n",
       " 'error',\n",
       " 'face',\n",
       " 'ambiguity',\n",
       " 'temptation',\n",
       " 'guess',\n",
       " 'way',\n",
       " 'way',\n",
       " 'dutch',\n",
       " 'implementation',\n",
       " 'idea',\n",
       " 'implementation',\n",
       " 'explain',\n",
       " 'idea',\n",
       " 'namespaces',\n",
       " 'idea',\n",
       " 'let']"
      ]
     },
     "execution_count": 55,
     "metadata": {},
     "output_type": "execute_result"
    }
   ],
   "source": [
    "#### 명사만 추출 \n",
    "token_lemm_n = [lemm.lemmatize(word, pos = tag) for word,tag in wordnet_pos_taged_tokens if tag == 'n']\n",
    "token_lemm_n"
   ]
  },
  {
   "cell_type": "code",
   "execution_count": 56,
   "metadata": {},
   "outputs": [
    {
     "data": {
      "text/plain": [
       "['sparse',\n",
       " 'dense',\n",
       " 'readability',\n",
       " 'case',\n",
       " 'break',\n",
       " 'rule',\n",
       " 'practicality',\n",
       " 'purity',\n",
       " 'error',\n",
       " 'face',\n",
       " 'ambiguity',\n",
       " 'temptation',\n",
       " 'guess',\n",
       " 'way',\n",
       " 'way',\n",
       " 'dutch',\n",
       " 'implementation',\n",
       " 'idea',\n",
       " 'implementation',\n",
       " 'explain',\n",
       " 'idea',\n",
       " 'namespaces',\n",
       " 'idea',\n",
       " 'let']"
      ]
     },
     "execution_count": 56,
     "metadata": {},
     "output_type": "execute_result"
    }
   ],
   "source": [
    "# 명사만 추출\n",
    "nouns = [lemm.lemmatize(word, pos = get_wordnet_postag(tag)) for word, tag in pos_taged_tokens if get_wordnet_postag(tag) == 'n' ]\n",
    "nouns"
   ]
  },
  {
   "cell_type": "code",
   "execution_count": null,
   "metadata": {},
   "outputs": [],
   "source": []
  },
  {
   "cell_type": "code",
   "execution_count": null,
   "metadata": {},
   "outputs": [],
   "source": []
  },
  {
   "cell_type": "markdown",
   "metadata": {},
   "source": [
    "## 텍스트 전처리 프로세스\n",
    "- 클렌징(cleansing)\n",
    "    - 특수문자, 기호 필요없는 문자 제거\n",
    "    - 대소문자 변경\n",
    "- stop word(분석에 필요 없는 토큰) 제거\n",
    "- 텍스트 토큰화\n",
    "    - 분석의 최소단위로 나누는 작업\n",
    "    - 보통 단어단위나 글자단위로 나눈다.\n",
    "- 어근 추출(Stemming/Lemmatization)을 통한 텍스트 정규화 작업"
   ]
  },
  {
   "cell_type": "markdown",
   "metadata": {},
   "source": [
    "\n",
    "\n",
    "## TODO \n",
    "- tokenize_text에 stemming 추가 /// 문장별 단어별 토큰화 한뒤 원형복원"
   ]
  },
  {
   "cell_type": "code",
   "execution_count": 57,
   "metadata": {},
   "outputs": [],
   "source": [
    "def tokenize_text2(doc):\n",
    "    \"\"\"\n",
    "    tokenize_text() 함수 + 원형복원을 추가.\n",
    "    \"\"\"\n",
    "    # 소문자 변환\n",
    "    text = doc.lower()\n",
    "    \n",
    "    # 문장단위로 토큰화\n",
    "    sent_tokens = nltk.sent_tokenize(text)\n",
    "    # 불용어 리스트 // # 불용어(stopword) 제거 \n",
    "        \n",
    "    sw = stopwords.words('english') # stopwords 객체 생성\n",
    "    sw.extend(['although','unless']) # 불용어 추가 \n",
    "    \n",
    "    # Wordnetlemmatization 객체 생성  // 빼먹었었음 \n",
    "    lemm = WordNetLemmatizer()\n",
    "    \n",
    "    # 최종결과 저장 list\n",
    "    result_list=[]\n",
    "    \n",
    "    # 단어단위로 토큰화(반복문 사용)\n",
    "    \n",
    "    for sentance in sent_tokens:\n",
    "        # 단어단위로 토큰화\n",
    "        word_tokens = nltk.regexp_tokenize(sentance, r'[a-zA-Z가-힣]+')\n",
    "        # 불용어(stopword) 제거 \n",
    "        word_tokens = [word for word in word_tokens if word not in sw]\n",
    "        \n",
    "   \n",
    "        # 원형복원 : 같은 의미 의것들을 같은 것으로 보려고.. count 하려고\n",
    "        # 1. pos_tag\n",
    "        word_tokens =pos_tag(word_tokens)\n",
    "\n",
    "        # 2. pos_tag 를 wordnet의 품사 형식으로 바꾸기\n",
    "\n",
    "        word_tokens= [(word,get_wordnet_postag(tag)) for word, tag in  word_tokens if get_wordnet_postag(tag) != None]\n",
    "        # 3. 원형복원\n",
    "        word_tokens = [lemm.lemmatize(word, pos = tag) for word,tag in word_tokens] \n",
    "        result_list.append(word_tokens)\n",
    "\n",
    "        \n",
    "    return result_list"
   ]
  },
  {
   "cell_type": "code",
   "execution_count": 58,
   "metadata": {},
   "outputs": [
    {
     "data": {
      "text/plain": [
       "19"
      ]
     },
     "execution_count": 58,
     "metadata": {},
     "output_type": "execute_result"
    }
   ],
   "source": [
    "len(tokenize_text2(txt))"
   ]
  },
  {
   "cell_type": "code",
   "execution_count": 59,
   "metadata": {},
   "outputs": [
    {
     "data": {
      "text/plain": [
       "[['beautiful', 'good', 'ugly'],\n",
       " ['explicit', 'well', 'implicit'],\n",
       " ['simple', 'well', 'complex'],\n",
       " ['complex', 'well', 'complicate'],\n",
       " ['flat', 'well', 'nest'],\n",
       " ['sparse', 'well', 'dense'],\n",
       " ['readability', 'count'],\n",
       " ['special', 'case', 'special', 'enough', 'break', 'rule'],\n",
       " ['practicality', 'beat', 'purity'],\n",
       " ['error', 'never', 'pass', 'silently'],\n",
       " ['explicitly', 'silence'],\n",
       " ['face', 'ambiguity', 'refuse', 'temptation', 'guess'],\n",
       " ['preferably', 'obvious', 'way'],\n",
       " ['way', 'obvious', 'first', 'dutch'],\n",
       " ['well', 'never'],\n",
       " ['never', 'often', 'good', 'right'],\n",
       " ['implementation', 'hard', 'explain', 'bad', 'idea'],\n",
       " ['implementation', 'easy', 'explain', 'good', 'idea'],\n",
       " ['namespaces', 'honk', 'great', 'idea', 'let']]"
      ]
     },
     "execution_count": 59,
     "metadata": {},
     "output_type": "execute_result"
    }
   ],
   "source": [
    "tokenize_text2(txt)"
   ]
  },
  {
   "cell_type": "markdown",
   "metadata": {},
   "source": [
    "- 결과\n",
    "```\n",
    "[['beautiful', 'good', 'ugly'],\n",
    " ['explicit', 'well', 'implicit'],\n",
    " ['simple', 'well', 'complex'],\n",
    " ['complex', 'well', 'complicate'],\n",
    " ['flat', 'well', 'nest'],\n",
    " ['sparse', 'well', 'dense'],\n",
    " ['readability', 'count'],\n",
    " ['special', 'case', 'special', 'enough', 'break', 'rule'],\n",
    " ['practicality', 'beat', 'purity'],\n",
    " ['error', 'never', 'pass', 'silently'],\n",
    " ['explicitly', 'silence'],\n",
    " ['face', 'ambiguity', 'refuse', 'temptation', 'guess'],\n",
    " ['preferably', 'obvious', 'way'],\n",
    " ['way', 'obvious', 'first', 'dutch'],\n",
    " ['well', 'never'],\n",
    " ['never', 'often', 'good', 'right'],\n",
    " ['implementation', 'hard', 'explain', 'bad', 'idea'],\n",
    " ['implementation', 'easy', 'explain', 'good', 'idea']]\n",
    "```"
   ]
  },
  {
   "cell_type": "markdown",
   "metadata": {},
   "source": [
    "## news.txt"
   ]
  },
  {
   "cell_type": "code",
   "execution_count": 60,
   "metadata": {},
   "outputs": [],
   "source": [
    "with open('news.txt', encoding = 'utf-8') as f:\n",
    "    news_text = f.read()"
   ]
  },
  {
   "cell_type": "code",
   "execution_count": 61,
   "metadata": {},
   "outputs": [
    {
     "data": {
      "text/plain": [
       "'Sitting in his parents’ hair salon, Min-Kyu is buried in his computer game.\\nWearing his gray soccer kit, his boots constantly clicking against the tiled floor, the 11-year-old is lost in a parallel universe, far from the distracting noise of electric clippers and the faint smell of hairspray.\\nBut then, as seems to happen so often in this part of the world -- that is, New Malden in suburban southwest London --  ears prick up when the name “Mr. Son” is mentioned.\\nMr. Son, as he is affectionately known here, is actually Son Heung-Min, the South Korean Tottenham football star and national hero. That he is referred to as Mr. Son is a sign of the high esteem in which he is held.\\nFor Min-Kyu, Son, whose instantly recognizable face was broadcast across the world when he scored the first ever goal at Tottenham’s new $1.3 billion stadium,  is a shining example of how an insatiable work ethic yields success. His strike in the 1-0 win over Manchester City in the first leg of the Champions League quarterfinal only served to enhance his reputation.\\n“It’s hard to explain how he makes me feel but I think more than anything Son makes me feel proud,” he said.\\n“It’s so hard to become a professional football player but he’s moved from Korea, to Germany and to England, where he has become one of the best players.\\n“He’s Korea’s best player of all time. Park Ji-Sung was good but Son is at a different level. He works so hard, he scores goals, he always gives 100%.\\n“He is a living example of what I have always said; that hard work will always beat talent.\\n“When I see that Son has done it, it gives me the belief that I can do it too.”\\nFor Min-Kyu, like so many other South Koreans across the diaspora, Son’s success has become a source of national pride.\\nBorn in Chuncheon, northeast of the capital Seoul, Son made his name first in Germany after moving to Europe as a teenager with Hamburg. His success earned him a move to Bayer Leverkusen in 2013 where he caught the eye, persuading Tottenham to pay a reported $28 million for the forward. That fee has been more than repaid since, with Son scoring 18 goals in 53 appearances last season alone. His performance and achievements have established Son as one of the most exciting players in the Premier League, while earning him huge popularity both in Korea and much nearer his new home.\\nBut perhaps for the Korean community of New Malden, or as local councillor Jaesung Ha calls it, “Little Seoul,” the pride is even greater. This corner of the United Kingdom, home to the largest Korean community in Europe, retains huge affection for the country, especially when it comes to sport.\\nAccording to Ha, the first Korean councillor to be elected in London, there are approximately 12,000 South, North and Chinese Koreans living in the local borough, with around 9,000 in New Malden.\\nSituated just over a 20-minute train ride from London’s Waterloo station, the leafy suburb of New Malden is home to the largest Korean community in the UK. “I came here because it was easy to acclimatize,” Ha, who represents the Liberal Democrats, said with a smile. “You could talk in Korean, read in Korean, eat Korean food, and that appealed to me.”\\nLike many older members of the Korean community, Jaesung moved to the UK in the 1980s, originally hoping to live close to the Korean Embassy in Wimbledon. Such a dream proved too expensive and instead, New Malden, with its beautifully manicured residential streets, good schools and excellent transport links, proved far more economical than the rather more luxurious Wimbledon, which is four miles away.\\nOthers followed both for work and study, and once Korean businesses began to move in, New Malden’s reputation as a home away from home began to take shape, with grocery shops, bakeries and restaurants all catering for the local clientele.\\nWalking along the high street, it’s difficult to disagree with Ha’s assessment. Korean menus are plastered across windows, each restaurant offering a different deal with locals spoiled for choice. Ask for a recommendation and you could spend half a day arguing about which restaurant offers the best cuisine.\\nIt’s not just restaurants, though. There’s a Korean community theater, a welcoming center for older Koreans, a Korean travel agent, a language school, and dotted between the traditional fish and chip shops and pubs, are posters advertising Chelsea’s women’s team and its star South Korean player Ji So-Yun.\\nJust off the high street is one of Ji’s favorite restaurants, You Me, named after You Mie, the owner’s daughter.\\nWalk through the doors of the restaurant and it\\'s suddenly apparent that this is not just a place for the locals, it’s the place where South Korea\\'s footballers, including Son, come for a taste of home.\\nStanding proudly by the tables, You Mie points to the hundreds of photos of her with stars of South Korean football, while signed shirts adorn the walls of her family\\'s restaurant.\\n\"I wasn\\'t here when Son visited, but my father says he liked the barbecue,\" she says while talking through the photos of the Tottenham player.\\nYou Mie, a Korean football journalist and a part-time waitress at her parents\\' restaurant in New Malden, has spent the past couple of years writing extensively about Son\\'s success. Her phone does not stop ringing with people begging her for tickets. \"I don\\'t know how they got my number, but I think my mum has been throwing it around and telling everyone I know Son,\" she says with a laugh.\\\\\\nYou Mie whose parents came to Britain in the 1980s, grew up in New Malden. She has witnessed a sea change in attitudes toward football from the South Korean community, first with the arrival of Ji-Sung Park at Manchester United, and then with the national team\\'s success at the 2002 World Cup, where it reached the semifinal as co-hosts.\\nBut she believes it is the success of Son that has sparked a new wave of hysteria, patriotism and pride.\\n\"Son\\'s success has inspired the younger generation here,\" she says. \"You see them now with his name on the back of their shirts, which you never had before.\\n\"Now the kids are reading newspapers just to see if Son is in there. I have parents asking me how to get their child into football. They see how hard he works, his work ethic and people admire that about him.\\n\"People want their kids to follow in his footsteps and fans want to watch him. You see more and more Korean fans going on the Underground and buses to Tottenham games. You see them waving Korean flags on television. Having grown up in London, it does feel a bit strange but I think it\\'s a great thing for Korea.\"\\nSon’s achievements in England are a source of pride, but it was his success in securing victory for South Korea at the 2018 Asian Games that made him headline news.\\nIn South Korea, all men who are deemed physically capable are required to complete 21 months of military service. The only exemptions offered are to those who win gold at the Asian Games or a medal of any color at the Olympic Games.\\nFortunately, for Son, he secured the much-needed gold medal, leading South Korea to a 2-1 victory over Japan and ending speculation over whether he would halt his career to serve in the military.\\n“The military is something that is really sensitive,” You Mie added.\\n“I think that everyone wanted him not to go so he could prolong his career but I know there were some people who said he shouldn’t be given an exemption.\\n“Normally there is a specific reason for people not to go and I don’t think people wanted him to get an exemption just because he’s Son. I think the government thought that too. They were thinking, ‘If we give him an exemption just because he’s Son, then we’ll have to do it for other houses as well.’\\n“Baseball is really big, why not do it for them? I think getting the gold medal and doing it the proper way was the best it could turn out.”\\nSon is not the first South Korean to play in the Premier League, but his impact is being felt far and wide. Park, who won four Premier League titles and the European Champions League with Manchester United between 2005 and 2012 was a pioneer, but his achievements were often overshadowed by playing alongside the likes of Cristiano Ronaldo and Wayne Rooney.\\nOthers such as Seol Ki-Hyun, Lee Young-Pyo and Kim Bo-Kyung, all of whom played in the Premier League and dined at You Me, failed to have quite the same impact as Park.\\nMaking an impact has not appeared to have been a problem for Son, whose goal-scoring exploits have propelled him into the spotlight at Tottenham. Such is his appeal that many South Koreans are flying to London just to watch him in action, according to local travel agent Sukchan Daniel Kim.\\nKim says it\\'s not unusual for football supporters to fly in just for a day to catch a glimpse of their hero, often paying over $915 for flights in addition to accommodation, food, transport and a match ticket.\\n“I know a few people who have flown over from Korea, stayed for a day to watch Son and then flown home again. It’s not unusual.\\n“The problem for people in Korea is getting tickets. They often ask me or members of the Korean community here in the UK to get tickets for them.\\nTravel agent Sukchan Daniel Kim\\n“Sometimes though those tickets can end up going on secondary websites and end up going for two or three times the price.\\n“Ji-Sung Park was the starting point for all this but now Son has appeared and interest has rocketed again.\"\\nPark\\'s success at United inspired a whole new generation of Manchester United supporters throughout the Korean community. Many like Sam Ji, who owns a local hair salon in New Malden, supported United during Park\\'s time at Old Trafford but are now proud Tottenham supporters. He says that for many within the community, it\\'s about supporting the player, not the club.\\n\"When I supported United it was about Park but now everyone is for Tottenham because of Son,\" he said. \"If Son moved from Tottenham and then went to play for Chelsea, would I follow him? Yes, I probably would.”\\nHoil Choi, a local dentist, agrees. When asked if he would consider switching allegiance to Arsenal if Son moved to Tottenham\\'s deadliest rival, he laughs: \"Yes, I think I would.\"\\nDentist Hoil Choi waits to get a haircut at Sam & Sunny Hair Salon in New Malden.\\nIn the hair salon and on the football field, Son\\'s success has struck a chord. Byeong Park, a local pastor who also runs a local Korean football team and works for the UK branch of the Korean Sports Council, says Son\\'s exploits have given the local community great pride.\\nBut while he admires Son\\'s technical and physical attributes, it is the work ethic, instilled by Son\\'s father and former player, Son Woon-Jung, that has made him an example to the next generation.\\n\"I think that the work ethic and the way Son was prepared for life by his parents was a real example,\" Park told CNN.\\nHyoon-Gyun Oh, chairman of the UK’s Korea Sports Council, right, pins a symbol of the Korean Sport & Olympic Committee onto Byeong Park’s lapel.\\n\"We would like to see other youngsters follow in Son\\'s footsteps and perhaps see a second or third \\'Son\\' in the UK in the future. But it\\'s not easy for young Korean footballers to adapt. The language barrier is often raised as one of the most difficult obstacles and it\\'s difficult to get visas and bring the family.\"\\nWhile many Korean footballers have struggled to make an impact in England\\'s Premier League, there is a generation of British-born Koreans who are hoping to forge a path of their own.\\nWatching from the side of the field, Min Kyu’s father, Sam, looks on with a smile as his son takes the ball on his right foot and then his left, appearing comfortable on either foot during a training drill.\\nSam, who was a keen footballer during his teenage years in Seoul, knows the challenges his son will face if he is to become a professional footballer.\\nSam Ji, father of Min-Kyu, cuts a young customer’s hair in the salon he and his wife run in New Malden.\\nHe came to the country in the 1980s after winning a place at the Sassoon hairdressing academy in London, where he met his wife, Sunny. The couple own a salon in New Malden often working long hours to provide for their two children. With his daughter a successful junior golfer, and his son pursuing football, Sam says it is difficult to support Min-Kyu’s commitments.\\nHe says at least two Premier League clubs have asked about taking Min-Kyu on trial, but the travel that would require would make it difficult for him to find cover at work and he’s unable to make such sacrifices. But that doesn’t mean he’s giving up.\\nMin-Kyu-Ji, center, sits among teammates during a training session in New Malden.\\n\"My son loves football but it\\'s hard when you have work,\" he says. \"Min-Kyu is always with a football, he eats while sitting with a football.\\n\"So for us, Son is like a miracle. He’s brilliant. He’s a great example for our children.\\n“I think Son’s success is inspiring my son. I guess we just have to wait and see.”'"
      ]
     },
     "execution_count": 61,
     "metadata": {},
     "output_type": "execute_result"
    }
   ],
   "source": [
    "news_text"
   ]
  },
  {
   "cell_type": "code",
   "execution_count": 62,
   "metadata": {},
   "outputs": [
    {
     "data": {
      "text/plain": [
       "104"
      ]
     },
     "execution_count": 62,
     "metadata": {},
     "output_type": "execute_result"
    }
   ],
   "source": [
    "news_tokens = tokenize_text2(news_text) # 단어별 토큰화, 원형 복원 된것.\n",
    "len(news_tokens)"
   ]
  },
  {
   "cell_type": "code",
   "execution_count": 63,
   "metadata": {
    "collapsed": true
   },
   "outputs": [
    {
     "data": {
      "text/plain": [
       "[['sit', 'parent', 'hair', 'salon', 'min', 'kyu', 'bury', 'computer', 'game'],\n",
       " ['wear',\n",
       "  'gray',\n",
       "  'soccer',\n",
       "  'kit',\n",
       "  'boot',\n",
       "  'constantly',\n",
       "  'click',\n",
       "  'tile',\n",
       "  'floor',\n",
       "  'year',\n",
       "  'old',\n",
       "  'lose',\n",
       "  'parallel',\n",
       "  'universe',\n",
       "  'far',\n",
       "  'distract',\n",
       "  'noise',\n",
       "  'electric',\n",
       "  'clipper',\n",
       "  'faint',\n",
       "  'smell',\n",
       "  'hairspray'],\n",
       " ['seem',\n",
       "  'happen',\n",
       "  'often',\n",
       "  'part',\n",
       "  'world',\n",
       "  'new',\n",
       "  'malden',\n",
       "  'suburban',\n",
       "  'southwest',\n",
       "  'london',\n",
       "  'ears',\n",
       "  'prick',\n",
       "  'name',\n",
       "  'mr'],\n",
       " ['son', 'mention'],\n",
       " ['mr',\n",
       "  'son',\n",
       "  'affectionately',\n",
       "  'know',\n",
       "  'actually',\n",
       "  'son',\n",
       "  'heung',\n",
       "  'min',\n",
       "  'south',\n",
       "  'korean',\n",
       "  'tottenham',\n",
       "  'football',\n",
       "  'star',\n",
       "  'national',\n",
       "  'hero']]"
      ]
     },
     "execution_count": 63,
     "metadata": {},
     "output_type": "execute_result"
    }
   ],
   "source": [
    "news_tokens[:5]"
   ]
  },
  {
   "cell_type": "markdown",
   "metadata": {},
   "source": [
    "# 분석을 위한 클래스들\n",
    "## Text클래스\n",
    "- 문서 분석에 유용한 여러 메소드 제공\n",
    "- **토큰 리스트**을 입력해 객체생성 후 제공되는 메소드를 이용해 분석한다.\n",
    "- ### 생성\n",
    "    - Text(토큰리스트, [name=이름])\n",
    "- ### 주요 메소드\n",
    "    - count(단어)\n",
    "        - 매개변수로 전달한 단어의 빈도수\n",
    "    - plot(N)\n",
    "        - 빈도수 상위 N개 단어를 선그래프로 시각화\n",
    "    - dispersion_plot(단어리스트)\n",
    "        - 매개변수로 전달한 단어들이 전체 말뭉치의 어느 부분에 나오는지 시각화"
   ]
  },
  {
   "cell_type": "code",
   "execution_count": 64,
   "metadata": {},
   "outputs": [
    {
     "data": {
      "text/plain": [
       "1197"
      ]
     },
     "execution_count": 64,
     "metadata": {},
     "output_type": "execute_result"
    }
   ],
   "source": [
    "news_words = [word for word_list in news_tokens for word in word_list]\n",
    "len(news_words)"
   ]
  },
  {
   "cell_type": "code",
   "execution_count": 65,
   "metadata": {},
   "outputs": [
    {
     "data": {
      "text/plain": [
       "1197"
      ]
     },
     "execution_count": 65,
     "metadata": {},
     "output_type": "execute_result"
    }
   ],
   "source": [
    "news_words = [word for word_list in news_tokens for word in word_list]   # 토큰화된 2차원 리스트를, 1차원 리스트로 분해\n",
    "len(news_words)"
   ]
  },
  {
   "cell_type": "code",
   "execution_count": 66,
   "metadata": {},
   "outputs": [
    {
     "data": {
      "text/plain": [
       "1197"
      ]
     },
     "execution_count": 66,
     "metadata": {},
     "output_type": "execute_result"
    }
   ],
   "source": [
    "news_words2 = []  # 1차원 리스트로 분해 \n",
    "for word_list in news_tokens:\n",
    "    # news_words2 = news_word2 + word_list\n",
    "    news_words2 +=word_list\n",
    "len(news_words2)"
   ]
  },
  {
   "cell_type": "code",
   "execution_count": 67,
   "metadata": {},
   "outputs": [
    {
     "data": {
      "text/plain": [
       "['sit', 'parent', 'hair', 'salon', 'min']"
      ]
     },
     "execution_count": 67,
     "metadata": {},
     "output_type": "execute_result"
    }
   ],
   "source": [
    "news_words[:5]  #함수를 통해서 전처리가 완료됨"
   ]
  },
  {
   "cell_type": "code",
   "execution_count": 68,
   "metadata": {},
   "outputs": [],
   "source": [
    "from nltk import Text\n",
    "import matplotlib.pyplot as plt\n"
   ]
  },
  {
   "cell_type": "code",
   "execution_count": 69,
   "metadata": {},
   "outputs": [
    {
     "data": {
      "text/plain": [
       "<Text: 손흥민 뉴스>"
      ]
     },
     "execution_count": 69,
     "metadata": {},
     "output_type": "execute_result"
    }
   ],
   "source": [
    "# Text 객체 생성\n",
    "news_text = Text(news_words, name ='손흥민 뉴스')\n",
    "news_text # name 을 안정하면 // 첫문장으로 제목을 만드렁줌"
   ]
  },
  {
   "cell_type": "code",
   "execution_count": 70,
   "metadata": {},
   "outputs": [
    {
     "data": {
      "text/plain": [
       "(5, 45)"
      ]
     },
     "execution_count": 70,
     "metadata": {},
     "output_type": "execute_result"
    }
   ],
   "source": [
    "# text.count(단어): 단어의 빈도수 조회\n",
    "news_text.count('parent'), news_text.count('son')"
   ]
  },
  {
   "cell_type": "code",
   "execution_count": 71,
   "metadata": {},
   "outputs": [
    {
     "data": {
      "image/png": "[encoded data removed]",
      "text/plain": [
       "<Figure size 720x504 with 1 Axes>"
      ]
     },
     "metadata": {
      "needs_background": "light"
     },
     "output_type": "display_data"
    }
   ],
   "source": [
    "# 빈도수 상위 단어들에 대한 그래프.\n",
    "plt.figure(figsize=(10,7))\n",
    "news_text.plot(20)\n",
    "plt.show()"
   ]
  },
  {
   "cell_type": "code",
   "execution_count": 72,
   "metadata": {},
   "outputs": [
    {
     "data": {
      "image/png": "[encoded data removed]",
      "text/plain": [
       "<Figure size 720x504 with 1 Axes>"
      ]
     },
     "metadata": {
      "needs_background": "light"
     },
     "output_type": "display_data"
    }
   ],
   "source": [
    "plt.figure(figsize=(10,7))\n",
    "# 단어들의 리스트가 순서대로 들어가서 만들어 진것이니까 리스트의 어디에 있나를 보는것인데 어디에 있는지 분포를 보는데 사용된다.\n",
    "news_text.dispersion_plot(['son', 'korean', 'say'])  # 단어가 어디에 나왔는지 분포를 보는것이다.\n",
    "\n",
    "plt.show()"
   ]
  },
  {
   "cell_type": "code",
   "execution_count": null,
   "metadata": {},
   "outputs": [],
   "source": []
  },
  {
   "cell_type": "code",
   "execution_count": null,
   "metadata": {},
   "outputs": [],
   "source": []
  },
  {
   "cell_type": "markdown",
   "metadata": {},
   "source": [
    "## FreqDist\n",
    "- document에서 사용된 토큰(단어)의 사용빈도 데이터를 가지는 클래스\n",
    "    - 토큰(단어)를 key, 개수를 value로 가지는 딕셔너리 형태\n",
    "- 생성\n",
    "    - Text 객체의 vocab() 메소드로 조회한다.\n",
    "    - 생성자(Initializer)에 토큰 List를 직접 넣어 생성가능\n",
    "- 주요 메소드\n",
    "    - B(): 출연한 고유 단어의 개수\n",
    "        - [Apple, Apple] -> 1\n",
    "    - N(): 총 단어수 \n",
    "        - [Apple, Apple] -> 2\n",
    "    - get(단어) 또는 FreqDist['단어'] : 특정 단어의 출연 빈도수\n",
    "    - freq(단어): 총 단어수 대비 특정단어의 출연비율\n",
    "    - most_common() : 빈도수 순서로 정렬하여 리스트로 반환"
   ]
  },
  {
   "cell_type": "code",
   "execution_count": 96,
   "metadata": {},
   "outputs": [
    {
     "data": {
      "text/plain": [
       "<Text: 손흥민 뉴스>"
      ]
     },
     "execution_count": 96,
     "metadata": {},
     "output_type": "execute_result"
    }
   ],
   "source": [
    "#  news_text --> Text 객체이다.\n",
    "news_text"
   ]
  },
  {
   "cell_type": "code",
   "execution_count": 74,
   "metadata": {},
   "outputs": [
    {
     "data": {
      "text/plain": [
       "nltk.probability.FreqDist"
      ]
     },
     "execution_count": 74,
     "metadata": {},
     "output_type": "execute_result"
    }
   ],
   "source": [
    "# FreqDist 객체 생성\n",
    "freq = news_text.vocab() #토큰화 시킨 단어리스트가 없을때  텍스트.voca()\n",
    "type(freq)"
   ]
  },
  {
   "cell_type": "code",
   "execution_count": 75,
   "metadata": {},
   "outputs": [
    {
     "data": {
      "text/plain": [
       "nltk.probability.FreqDist"
      ]
     },
     "execution_count": 75,
     "metadata": {},
     "output_type": "execute_result"
    }
   ],
   "source": [
    "from nltk import FreqDist\n",
    "freq2 = FreqDist(news_words)  # 토큰화 시킨 단어리스트(news_words)가 있을때\n",
    "type(freq2)"
   ]
  },
  {
   "cell_type": "code",
   "execution_count": 76,
   "metadata": {},
   "outputs": [
    {
     "data": {
      "text/plain": [
       "'총단어수: 1197, 고유단어개수: 560'"
      ]
     },
     "execution_count": 76,
     "metadata": {},
     "output_type": "execute_result"
    }
   ],
   "source": [
    "\"총단어수: {}, 고유단어개수: {}\".format(freq.N(), freq.B())"
   ]
  },
  {
   "cell_type": "code",
   "execution_count": 77,
   "metadata": {},
   "outputs": [
    {
     "data": {
      "text/plain": [
       "'단어 london의 빈도수 6,6,6'"
      ]
     },
     "execution_count": 77,
     "metadata": {},
     "output_type": "execute_result"
    }
   ],
   "source": [
    "\"단어 london의 빈도수 {},{},{}\".format(freq.get('london'), freq['london'], news_text.count('london'))"
   ]
  },
  {
   "cell_type": "code",
   "execution_count": 101,
   "metadata": {},
   "outputs": [
    {
     "name": "stdout",
     "output_type": "stream",
     "text": [
      "빈도수 : freq['london'], 출연 비율 freq.freq('london')\n"
     ]
    }
   ],
   "source": [
    "print(f\"빈도수 : freq['london'], 출연 비율 freq.freq('london')\")"
   ]
  },
  {
   "cell_type": "code",
   "execution_count": 78,
   "metadata": {},
   "outputs": [
    {
     "data": {
      "text/plain": [
       "'단어 london의 출연비율:0.005012531328320802, 0.005012531328320802'"
      ]
     },
     "execution_count": 78,
     "metadata": {},
     "output_type": "execute_result"
    }
   ],
   "source": [
    "\"단어 london의 출연비율:{}, {}\".format(6/1197, freq.freq('london'))"
   ]
  },
  {
   "cell_type": "code",
   "execution_count": 79,
   "metadata": {},
   "outputs": [
    {
     "data": {
      "text/plain": [
       "[('son', 45),\n",
       " ('korean', 33),\n",
       " ('new', 17),\n",
       " ('say', 15),\n",
       " ('malden', 13),\n",
       " ('football', 13),\n",
       " ('south', 12),\n",
       " ('work', 12),\n",
       " ('success', 11),\n",
       " ('think', 11),\n",
       " ('korea', 11),\n",
       " ('park', 11),\n",
       " ('local', 11),\n",
       " ('min', 10),\n",
       " ('tottenham', 10),\n",
       " ('community', 10),\n",
       " ('make', 9),\n",
       " ('see', 9),\n",
       " ('kyu', 8),\n",
       " ('league', 8),\n",
       " ('player', 8),\n",
       " ('ji', 8),\n",
       " ('restaurant', 8),\n",
       " ('people', 8),\n",
       " ('get', 8),\n",
       " ('move', 7),\n",
       " ('home', 7),\n",
       " ('salon', 6),\n",
       " ('often', 6),\n",
       " ('london', 6),\n",
       " ('first', 6),\n",
       " ('hard', 6),\n",
       " ('give', 6),\n",
       " ('many', 6),\n",
       " ('premier', 6),\n",
       " ('uk', 6),\n",
       " ('go', 6),\n",
       " ('sam', 6),\n",
       " ('parent', 5),\n",
       " ('hair', 5),\n",
       " ('game', 5),\n",
       " ('know', 5),\n",
       " ('example', 5),\n",
       " ('pride', 5),\n",
       " ('come', 5),\n",
       " ('difficult', 5),\n",
       " ('ask', 5),\n",
       " ('mie', 5),\n",
       " ('footballer', 5),\n",
       " ('ticket', 5),\n",
       " ('old', 4),\n",
       " ('name', 4),\n",
       " ('score', 4),\n",
       " ('goal', 4),\n",
       " ('ethic', 4),\n",
       " ('manchester', 4),\n",
       " ('become', 4),\n",
       " ('best', 4),\n",
       " ('time', 4),\n",
       " ('always', 4),\n",
       " ('ha', 4),\n",
       " ('great', 4),\n",
       " ('sport', 4),\n",
       " ('follow', 4),\n",
       " ('travel', 4),\n",
       " ('father', 4),\n",
       " ('unite', 4),\n",
       " ('young', 4),\n",
       " ('generation', 4),\n",
       " ('want', 4),\n",
       " ('watch', 4),\n",
       " ('exemption', 4),\n",
       " ('play', 4),\n",
       " ('impact', 4),\n",
       " ('kim', 4),\n",
       " ('fly', 4),\n",
       " ('support', 4),\n",
       " ('sit', 3),\n",
       " ('year', 3),\n",
       " ('far', 3),\n",
       " ('world', 3),\n",
       " ('mr', 3),\n",
       " ('star', 3),\n",
       " ('national', 3),\n",
       " ('high', 3),\n",
       " ('win', 3),\n",
       " ('feel', 3),\n",
       " ('england', 3),\n",
       " ('live', 3),\n",
       " ('seoul', 3),\n",
       " ('achievement', 3),\n",
       " ('united', 3),\n",
       " ('street', 3),\n",
       " ('take', 3),\n",
       " ('offer', 3),\n",
       " ('day', 3),\n",
       " ('agent', 3),\n",
       " ('team', 3),\n",
       " ('place', 3),\n",
       " ('like', 3),\n",
       " ('everyone', 3),\n",
       " ('child', 3),\n",
       " ('military', 3),\n",
       " ('gold', 3),\n",
       " ('medal', 3),\n",
       " ('end', 3),\n",
       " ('appear', 3),\n",
       " ('supporter', 3),\n",
       " ('part', 2),\n",
       " ('hero', 2),\n",
       " ('sign', 2),\n",
       " ('face', 2),\n",
       " ('strike', 2),\n",
       " ('champion', 2),\n",
       " ('serve', 2),\n",
       " ('reputation', 2),\n",
       " ('proud', 2),\n",
       " ('professional', 2),\n",
       " ('germany', 2),\n",
       " ('good', 2),\n",
       " ('different', 2),\n",
       " ('source', 2),\n",
       " ('bear', 2),\n",
       " ('europe', 2),\n",
       " ('earn', 2),\n",
       " ('catch', 2),\n",
       " ('pay', 2),\n",
       " ('huge', 2),\n",
       " ('much', 2),\n",
       " ('perhaps', 2),\n",
       " ('councillor', 2),\n",
       " ('jaesung', 2),\n",
       " ('large', 2),\n",
       " ('country', 2),\n",
       " ('accord', 2),\n",
       " ('train', 2),\n",
       " ('easy', 2),\n",
       " ('smile', 2),\n",
       " ('talk', 2),\n",
       " ('read', 2),\n",
       " ('food', 2),\n",
       " ('appeal', 2),\n",
       " ('member', 2),\n",
       " ('hop', 2),\n",
       " ('wimbledon', 2),\n",
       " ('prove', 2),\n",
       " ('school', 2),\n",
       " ('transport', 2),\n",
       " ('away', 2),\n",
       " ('others', 2),\n",
       " ('begin', 2),\n",
       " ('shop', 2),\n",
       " ('walk', 2),\n",
       " ('center', 2),\n",
       " ('language', 2),\n",
       " ('chelsea', 2),\n",
       " ('daughter', 2),\n",
       " ('point', 2),\n",
       " ('shirt', 2),\n",
       " ('family', 2),\n",
       " ('couple', 2),\n",
       " ('tell', 2),\n",
       " ('sung', 2),\n",
       " ('inspire', 2),\n",
       " ('kid', 2),\n",
       " ('footstep', 2),\n",
       " ('fan', 2),\n",
       " ('secure', 2),\n",
       " ('victory', 2),\n",
       " ('asian', 2),\n",
       " ('olympic', 2),\n",
       " ('career', 2),\n",
       " ('really', 2),\n",
       " ('way', 2),\n",
       " ('problem', 2),\n",
       " ('exploit', 2),\n",
       " ('sukchan', 2),\n",
       " ('daniel', 2),\n",
       " ('unusual', 2),\n",
       " ('club', 2),\n",
       " ('yes', 2),\n",
       " ('hoil', 2),\n",
       " ('choi', 2),\n",
       " ('dentist', 2),\n",
       " ('wait', 2),\n",
       " ('sunny', 2),\n",
       " ('field', 2),\n",
       " ('byeong', 2),\n",
       " ('run', 2),\n",
       " ('council', 2),\n",
       " ('right', 2),\n",
       " ('foot', 2),\n",
       " ('wife', 2),\n",
       " ('bury', 1),\n",
       " ('computer', 1),\n",
       " ('wear', 1),\n",
       " ('gray', 1),\n",
       " ('soccer', 1),\n",
       " ('kit', 1),\n",
       " ('boot', 1),\n",
       " ('constantly', 1),\n",
       " ('click', 1),\n",
       " ('tile', 1),\n",
       " ('floor', 1),\n",
       " ('lose', 1),\n",
       " ('parallel', 1),\n",
       " ('universe', 1),\n",
       " ('distract', 1),\n",
       " ('noise', 1),\n",
       " ('electric', 1),\n",
       " ('clipper', 1),\n",
       " ('faint', 1),\n",
       " ('smell', 1),\n",
       " ('hairspray', 1),\n",
       " ('seem', 1),\n",
       " ('happen', 1),\n",
       " ('suburban', 1),\n",
       " ('southwest', 1),\n",
       " ('ears', 1),\n",
       " ('prick', 1),\n",
       " ('mention', 1),\n",
       " ('affectionately', 1),\n",
       " ('actually', 1),\n",
       " ('heung', 1),\n",
       " ('refer', 1),\n",
       " ('esteem', 1),\n",
       " ('hold', 1),\n",
       " ('instantly', 1),\n",
       " ('recognizable', 1),\n",
       " ('broadcast', 1),\n",
       " ('ever', 1),\n",
       " ('stadium', 1),\n",
       " ('shin', 1),\n",
       " ('insatiable', 1),\n",
       " ('yield', 1),\n",
       " ('city', 1),\n",
       " ('leg', 1),\n",
       " ('quarterfinal', 1),\n",
       " ('enhance', 1),\n",
       " ('explain', 1),\n",
       " ('anything', 1),\n",
       " ('sing', 1),\n",
       " ('level', 1),\n",
       " ('beat', 1),\n",
       " ('talent', 1),\n",
       " ('do', 1),\n",
       " ('belief', 1),\n",
       " ('diaspora', 1),\n",
       " ('chuncheon', 1),\n",
       " ('northeast', 1),\n",
       " ('capital', 1),\n",
       " ('teenager', 1),\n",
       " ('hamburg', 1),\n",
       " ('bayer', 1),\n",
       " ('leverkusen', 1),\n",
       " ('eye', 1),\n",
       " ('persuade', 1),\n",
       " ('report', 1),\n",
       " ('forward', 1),\n",
       " ('fee', 1),\n",
       " ('repaid', 1),\n",
       " ('appearance', 1),\n",
       " ('last', 1),\n",
       " ('season', 1),\n",
       " ('alone', 1),\n",
       " ('performance', 1),\n",
       " ('establish', 1),\n",
       " ('exciting', 1),\n",
       " ('popularity', 1),\n",
       " ('near', 1),\n",
       " ('call', 1),\n",
       " ('little', 1),\n",
       " ('even', 1),\n",
       " ('corner', 1),\n",
       " ('kingdom', 1),\n",
       " ('retain', 1),\n",
       " ('affection', 1),\n",
       " ('especially', 1),\n",
       " ('elect', 1),\n",
       " ('approximately', 1),\n",
       " ('north', 1),\n",
       " ('chinese', 1),\n",
       " ('borough', 1),\n",
       " ('situate', 1),\n",
       " ('minute', 1),\n",
       " ('ride', 1),\n",
       " ('waterloo', 1),\n",
       " ('station', 1),\n",
       " ('leafy', 1),\n",
       " ('suburb', 1),\n",
       " ('acclimatize', 1),\n",
       " ('represent', 1),\n",
       " ('liberal', 1),\n",
       " ('democrat', 1),\n",
       " ('eat', 1),\n",
       " ('originally', 1),\n",
       " ('close', 1),\n",
       " ('embassy', 1),\n",
       " ('dream', 1),\n",
       " ('expensive', 1),\n",
       " ('instead', 1),\n",
       " ('beautifully', 1),\n",
       " ('manicure', 1),\n",
       " ('residential', 1),\n",
       " ('excellent', 1),\n",
       " ('link', 1),\n",
       " ('economical', 1),\n",
       " ('rather', 1),\n",
       " ('luxurious', 1),\n",
       " ('mile', 1),\n",
       " ('study', 1),\n",
       " ('business', 1),\n",
       " ('shape', 1),\n",
       " ('grocery', 1),\n",
       " ('bakeries', 1),\n",
       " ('cater', 1),\n",
       " ('clientele', 1),\n",
       " ('along', 1),\n",
       " ('disagree', 1),\n",
       " ('assessment', 1),\n",
       " ('menu', 1),\n",
       " ('plaster', 1),\n",
       " ('window', 1),\n",
       " ('deal', 1),\n",
       " ('spoil', 1),\n",
       " ('choice', 1),\n",
       " ('recommendation', 1),\n",
       " ('spend', 1),\n",
       " ('half', 1),\n",
       " ('argue', 1),\n",
       " ('cuisine', 1),\n",
       " ('theater', 1),\n",
       " ('welcome', 1),\n",
       " ('dot', 1),\n",
       " ('traditional', 1),\n",
       " ('fish', 1),\n",
       " ('chip', 1),\n",
       " ('pubs', 1),\n",
       " ('poster', 1),\n",
       " ('advertise', 1),\n",
       " ('woman', 1),\n",
       " ('yun', 1),\n",
       " ('favorite', 1),\n",
       " ('owner', 1),\n",
       " ('door', 1),\n",
       " ('suddenly', 1),\n",
       " ('apparent', 1),\n",
       " ('include', 1),\n",
       " ('taste', 1),\n",
       " ('stand', 1),\n",
       " ('proudly', 1),\n",
       " ('table', 1),\n",
       " ('hundred', 1),\n",
       " ('photos', 1),\n",
       " ('adorn', 1),\n",
       " ('wall', 1),\n",
       " ('visit', 1),\n",
       " ('barbecue', 1),\n",
       " ('photo', 1),\n",
       " ('journalist', 1),\n",
       " ('waitress', 1),\n",
       " ('spent', 1),\n",
       " ('write', 1),\n",
       " ('extensively', 1),\n",
       " ('phone', 1),\n",
       " ('stop', 1),\n",
       " ('ring', 1),\n",
       " ('beg', 1),\n",
       " ('number', 1),\n",
       " ('mum', 1),\n",
       " ('throw', 1),\n",
       " ('britain', 1),\n",
       " ('grow', 1),\n",
       " ('witnessed', 1),\n",
       " ('sea', 1),\n",
       " ('change', 1),\n",
       " ('attitudes', 1),\n",
       " ('arrival', 1),\n",
       " ('cup', 1),\n",
       " ('reach', 1),\n",
       " ('semifinal', 1),\n",
       " ('co', 1),\n",
       " ('host', 1),\n",
       " ('believe', 1),\n",
       " ('spark', 1),\n",
       " ('wave', 1),\n",
       " ('hysteria', 1),\n",
       " ('patriotism', 1),\n",
       " ('back', 1),\n",
       " ('never', 1),\n",
       " ('newspaper', 1),\n",
       " ('admire', 1),\n",
       " ('underground', 1),\n",
       " ('bus', 1),\n",
       " ('waving', 1),\n",
       " ('flag', 1),\n",
       " ('television', 1),\n",
       " ('grown', 1),\n",
       " ('strange', 1),\n",
       " ('thing', 1),\n",
       " ('headline', 1),\n",
       " ('news', 1),\n",
       " ('men', 1),\n",
       " ('deem', 1),\n",
       " ('physically', 1),\n",
       " ('capable', 1),\n",
       " ('required', 1),\n",
       " ('complete', 1),\n",
       " ('month', 1),\n",
       " ('service', 1),\n",
       " ('color', 1),\n",
       " ('fortunately', 1),\n",
       " ('need', 1),\n",
       " ('lead', 1),\n",
       " ('japan', 1),\n",
       " ('speculation', 1),\n",
       " ('halt', 1),\n",
       " ('something', 1),\n",
       " ('sensitive', 1),\n",
       " ('add', 1),\n",
       " ('prolong', 1),\n",
       " ('normally', 1),\n",
       " ('specific', 1),\n",
       " ('reason', 1),\n",
       " ('government', 1),\n",
       " ('thought', 1),\n",
       " ('house', 1),\n",
       " ('well', 1),\n",
       " ('baseball', 1),\n",
       " ('big', 1),\n",
       " ('proper', 1),\n",
       " ('turn', 1),\n",
       " ('felt', 1),\n",
       " ('wide', 1),\n",
       " ('title', 1),\n",
       " ('european', 1),\n",
       " ('pioneer', 1),\n",
       " ('overshadow', 1),\n",
       " ('alongside', 1),\n",
       " ('cristiano', 1),\n",
       " ('ronaldo', 1),\n",
       " ('wayne', 1),\n",
       " ('rooney', 1),\n",
       " ('seol', 1),\n",
       " ('ki', 1),\n",
       " ('hyun', 1),\n",
       " ('lee', 1),\n",
       " ('pyo', 1),\n",
       " ('bo', 1),\n",
       " ('kyung', 1),\n",
       " ('din', 1),\n",
       " ('fail', 1),\n",
       " ('quite', 1),\n",
       " ('propel', 1),\n",
       " ('spotlight', 1),\n",
       " ('action', 1),\n",
       " ('glimpse', 1),\n",
       " ('flight', 1),\n",
       " ('addition', 1),\n",
       " ('accommodation', 1),\n",
       " ('match', 1),\n",
       " ('stayed', 1),\n",
       " ('sometimes', 1),\n",
       " ('secondary', 1),\n",
       " ('website', 1),\n",
       " ('price', 1),\n",
       " ('start', 1),\n",
       " ('interest', 1),\n",
       " ('rocket', 1),\n",
       " ('inspired', 1),\n",
       " ('whole', 1),\n",
       " ('own', 1),\n",
       " ('trafford', 1),\n",
       " ('probably', 1),\n",
       " ('agrees', 1),\n",
       " ('consider', 1),\n",
       " ('switch', 1),\n",
       " ('allegiance', 1),\n",
       " ('arsenal', 1),\n",
       " ('deadly', 1),\n",
       " ('rival', 1),\n",
       " ('laugh', 1),\n",
       " ('haircut', 1),\n",
       " ('chord', 1),\n",
       " ('pastor', 1),\n",
       " ('also', 1),\n",
       " ('branch', 1),\n",
       " ('admires', 1),\n",
       " ('technical', 1),\n",
       " ('physical', 1),\n",
       " ('attribute', 1),\n",
       " ('instill', 1),\n",
       " ('former', 1),\n",
       " ('woon', 1),\n",
       " ('jung', 1),\n",
       " ('next', 1),\n",
       " ('prepare', 1),\n",
       " ('life', 1),\n",
       " ('real', 1),\n",
       " ('cnn', 1),\n",
       " ('hyoon', 1),\n",
       " ('gyun', 1),\n",
       " ('chairman', 1),\n",
       " ('pin', 1),\n",
       " ('symbol', 1),\n",
       " ('committee', 1),\n",
       " ('lapel', 1),\n",
       " ('youngster', 1),\n",
       " ('second', 1),\n",
       " ('third', 1),\n",
       " ('future', 1),\n",
       " ('adapt', 1),\n",
       " ('barrier', 1),\n",
       " ('raise', 1),\n",
       " ('obstacle', 1),\n",
       " ('visas', 1),\n",
       " ('bring', 1),\n",
       " ('struggle', 1),\n",
       " ('british', 1),\n",
       " ('forge', 1),\n",
       " ('path', 1),\n",
       " ('side', 1),\n",
       " ('look', 1),\n",
       " ('ball', 1),\n",
       " ('leave', 1),\n",
       " ('comfortable', 1),\n",
       " ('training', 1),\n",
       " ('drill', 1),\n",
       " ('keen', 1),\n",
       " ('teenage', 1),\n",
       " ('challenge', 1),\n",
       " ('cut', 1),\n",
       " ('customer', 1),\n",
       " ('sassoon', 1),\n",
       " ('hairdressing', 1),\n",
       " ('academy', 1),\n",
       " ('meet', 1),\n",
       " ('long', 1),\n",
       " ('hour', 1),\n",
       " ('provide', 1),\n",
       " ('successful', 1),\n",
       " ('junior', 1),\n",
       " ('golfer', 1),\n",
       " ('pursue', 1),\n",
       " ('commitment', 1),\n",
       " ('least', 1),\n",
       " ('trial', 1),\n",
       " ('require', 1),\n",
       " ('find', 1),\n",
       " ('cover', 1),\n",
       " ('unable', 1),\n",
       " ('sacrifice', 1),\n",
       " ('mean', 1),\n",
       " ('teammate', 1),\n",
       " ('session', 1),\n",
       " ('love', 1),\n",
       " ('eats', 1),\n",
       " ('miracle', 1),\n",
       " ('brilliant', 1),\n",
       " ('guess', 1)]"
      ]
     },
     "execution_count": 79,
     "metadata": {},
     "output_type": "execute_result"
    }
   ],
   "source": [
    "# 단어의 빈도수를 내림차순으로 정렬해서 반환\n",
    "freq.most_common()"
   ]
  },
  {
   "cell_type": "code",
   "execution_count": 80,
   "metadata": {},
   "outputs": [
    {
     "data": {
      "text/plain": [
       "FreqDist({'son': 45, 'korean': 33, 'new': 17, 'say': 15, 'malden': 13, 'football': 13, 'south': 12, 'work': 12, 'success': 11, 'think': 11, ...})"
      ]
     },
     "execution_count": 80,
     "metadata": {},
     "output_type": "execute_result"
    }
   ],
   "source": [
    "freq"
   ]
  },
  {
   "cell_type": "code",
   "execution_count": null,
   "metadata": {},
   "outputs": [],
   "source": []
  },
  {
   "cell_type": "code",
   "execution_count": null,
   "metadata": {},
   "outputs": [],
   "source": []
  },
  {
   "cell_type": "code",
   "execution_count": null,
   "metadata": {},
   "outputs": [],
   "source": []
  },
  {
   "cell_type": "markdown",
   "metadata": {},
   "source": [
    "## wordcloud\n",
    "- 단어의 빈도수를 시각화.\n",
    "- 많이 출연한 단어는 크게, 적게 출연한 단어는 작게 표현해서 핵심단어들(출연빈도가 높은 단어)들을 쉽게 파악할 수 있게한다.\n"
   ]
  },
  {
   "cell_type": "code",
   "execution_count": 81,
   "metadata": {},
   "outputs": [
    {
     "name": "stdout",
     "output_type": "stream",
     "text": [
      "Requirement already satisfied: wordcloud in c:\\users\\playdata\\anaconda3\\envs\\ml\\lib\\site-packages (1.8.1)\n",
      "Requirement already satisfied: matplotlib in c:\\users\\playdata\\anaconda3\\envs\\ml\\lib\\site-packages (from wordcloud) (3.3.4)\n",
      "Requirement already satisfied: pillow in c:\\users\\playdata\\anaconda3\\envs\\ml\\lib\\site-packages (from wordcloud) (8.1.2)\n",
      "Requirement already satisfied: numpy>=1.6.1 in c:\\users\\playdata\\anaconda3\\envs\\ml\\lib\\site-packages (from wordcloud) (1.20.1)\n",
      "Requirement already satisfied: cycler>=0.10 in c:\\users\\playdata\\anaconda3\\envs\\ml\\lib\\site-packages (from matplotlib->wordcloud) (0.10.0)\n",
      "Requirement already satisfied: pyparsing!=2.0.4,!=2.1.2,!=2.1.6,>=2.0.3 in c:\\users\\playdata\\anaconda3\\envs\\ml\\lib\\site-packages (from matplotlib->wordcloud) (2.4.7)\n",
      "Requirement already satisfied: kiwisolver>=1.0.1 in c:\\users\\playdata\\anaconda3\\envs\\ml\\lib\\site-packages (from matplotlib->wordcloud) (1.3.1)\n",
      "Requirement already satisfied: python-dateutil>=2.1 in c:\\users\\playdata\\anaconda3\\envs\\ml\\lib\\site-packages (from matplotlib->wordcloud) (2.8.1)\n",
      "Requirement already satisfied: six in c:\\users\\playdata\\anaconda3\\envs\\ml\\lib\\site-packages (from cycler>=0.10->matplotlib->wordcloud) (1.15.0)\n"
     ]
    }
   ],
   "source": [
    "!pip install wordcloud"
   ]
  },
  {
   "cell_type": "code",
   "execution_count": 82,
   "metadata": {
    "scrolled": true
   },
   "outputs": [
    {
     "name": "stdout",
     "output_type": "stream",
     "text": [
      "STIXNonUnicode c:\\users\\playdata\\anaconda3\\envs\\ml\\lib\\site-packages\\matplotlib\\mpl-data\\fonts\\ttf\\STIXNonUniIta.ttf\n",
      "DejaVu Sans Display c:\\users\\playdata\\anaconda3\\envs\\ml\\lib\\site-packages\\matplotlib\\mpl-data\\fonts\\ttf\\DejaVuSansDisplay.ttf\n",
      "cmmi10 c:\\users\\playdata\\anaconda3\\envs\\ml\\lib\\site-packages\\matplotlib\\mpl-data\\fonts\\ttf\\cmmi10.ttf\n",
      "STIXSizeOneSym c:\\users\\playdata\\anaconda3\\envs\\ml\\lib\\site-packages\\matplotlib\\mpl-data\\fonts\\ttf\\STIXSizOneSymReg.ttf\n",
      "STIXSizeOneSym c:\\users\\playdata\\anaconda3\\envs\\ml\\lib\\site-packages\\matplotlib\\mpl-data\\fonts\\ttf\\STIXSizOneSymBol.ttf\n",
      "DejaVu Sans Mono c:\\users\\playdata\\anaconda3\\envs\\ml\\lib\\site-packages\\matplotlib\\mpl-data\\fonts\\ttf\\DejaVuSansMono-Oblique.ttf\n",
      "DejaVu Sans c:\\users\\playdata\\anaconda3\\envs\\ml\\lib\\site-packages\\matplotlib\\mpl-data\\fonts\\ttf\\DejaVuSans-Bold.ttf\n",
      "DejaVu Sans c:\\users\\playdata\\anaconda3\\envs\\ml\\lib\\site-packages\\matplotlib\\mpl-data\\fonts\\ttf\\DejaVuSans-Oblique.ttf\n",
      "cmss10 c:\\users\\playdata\\anaconda3\\envs\\ml\\lib\\site-packages\\matplotlib\\mpl-data\\fonts\\ttf\\cmss10.ttf\n",
      "cmsy10 c:\\users\\playdata\\anaconda3\\envs\\ml\\lib\\site-packages\\matplotlib\\mpl-data\\fonts\\ttf\\cmsy10.ttf\n",
      "DejaVu Serif c:\\users\\playdata\\anaconda3\\envs\\ml\\lib\\site-packages\\matplotlib\\mpl-data\\fonts\\ttf\\DejaVuSerif-Italic.ttf\n",
      "STIXSizeFiveSym c:\\users\\playdata\\anaconda3\\envs\\ml\\lib\\site-packages\\matplotlib\\mpl-data\\fonts\\ttf\\STIXSizFiveSymReg.ttf\n",
      "DejaVu Sans Mono c:\\users\\playdata\\anaconda3\\envs\\ml\\lib\\site-packages\\matplotlib\\mpl-data\\fonts\\ttf\\DejaVuSansMono-BoldOblique.ttf\n",
      "cmtt10 c:\\users\\playdata\\anaconda3\\envs\\ml\\lib\\site-packages\\matplotlib\\mpl-data\\fonts\\ttf\\cmtt10.ttf\n",
      "cmr10 c:\\users\\playdata\\anaconda3\\envs\\ml\\lib\\site-packages\\matplotlib\\mpl-data\\fonts\\ttf\\cmr10.ttf\n",
      "DejaVu Serif c:\\users\\playdata\\anaconda3\\envs\\ml\\lib\\site-packages\\matplotlib\\mpl-data\\fonts\\ttf\\DejaVuSerif-Bold.ttf\n",
      "cmb10 c:\\users\\playdata\\anaconda3\\envs\\ml\\lib\\site-packages\\matplotlib\\mpl-data\\fonts\\ttf\\cmb10.ttf\n",
      "STIXGeneral c:\\users\\playdata\\anaconda3\\envs\\ml\\lib\\site-packages\\matplotlib\\mpl-data\\fonts\\ttf\\STIXGeneralItalic.ttf\n",
      "DejaVu Serif c:\\users\\playdata\\anaconda3\\envs\\ml\\lib\\site-packages\\matplotlib\\mpl-data\\fonts\\ttf\\DejaVuSerif-BoldItalic.ttf\n",
      "DejaVu Sans c:\\users\\playdata\\anaconda3\\envs\\ml\\lib\\site-packages\\matplotlib\\mpl-data\\fonts\\ttf\\DejaVuSans.ttf\n",
      "cmex10 c:\\users\\playdata\\anaconda3\\envs\\ml\\lib\\site-packages\\matplotlib\\mpl-data\\fonts\\ttf\\cmex10.ttf\n",
      "STIXSizeThreeSym c:\\users\\playdata\\anaconda3\\envs\\ml\\lib\\site-packages\\matplotlib\\mpl-data\\fonts\\ttf\\STIXSizThreeSymReg.ttf\n",
      "STIXNonUnicode c:\\users\\playdata\\anaconda3\\envs\\ml\\lib\\site-packages\\matplotlib\\mpl-data\\fonts\\ttf\\STIXNonUniBol.ttf\n",
      "STIXGeneral c:\\users\\playdata\\anaconda3\\envs\\ml\\lib\\site-packages\\matplotlib\\mpl-data\\fonts\\ttf\\STIXGeneralBol.ttf\n",
      "DejaVu Sans Mono c:\\users\\playdata\\anaconda3\\envs\\ml\\lib\\site-packages\\matplotlib\\mpl-data\\fonts\\ttf\\DejaVuSansMono-Bold.ttf\n",
      "STIXSizeFourSym c:\\users\\playdata\\anaconda3\\envs\\ml\\lib\\site-packages\\matplotlib\\mpl-data\\fonts\\ttf\\STIXSizFourSymBol.ttf\n",
      "DejaVu Sans Mono c:\\users\\playdata\\anaconda3\\envs\\ml\\lib\\site-packages\\matplotlib\\mpl-data\\fonts\\ttf\\DejaVuSansMono.ttf\n",
      "DejaVu Sans c:\\users\\playdata\\anaconda3\\envs\\ml\\lib\\site-packages\\matplotlib\\mpl-data\\fonts\\ttf\\DejaVuSans-BoldOblique.ttf\n",
      "STIXNonUnicode c:\\users\\playdata\\anaconda3\\envs\\ml\\lib\\site-packages\\matplotlib\\mpl-data\\fonts\\ttf\\STIXNonUni.ttf\n",
      "STIXGeneral c:\\users\\playdata\\anaconda3\\envs\\ml\\lib\\site-packages\\matplotlib\\mpl-data\\fonts\\ttf\\STIXGeneralBolIta.ttf\n",
      "DejaVu Serif c:\\users\\playdata\\anaconda3\\envs\\ml\\lib\\site-packages\\matplotlib\\mpl-data\\fonts\\ttf\\DejaVuSerif.ttf\n",
      "STIXSizeFourSym c:\\users\\playdata\\anaconda3\\envs\\ml\\lib\\site-packages\\matplotlib\\mpl-data\\fonts\\ttf\\STIXSizFourSymReg.ttf\n",
      "STIXNonUnicode c:\\users\\playdata\\anaconda3\\envs\\ml\\lib\\site-packages\\matplotlib\\mpl-data\\fonts\\ttf\\STIXNonUniBolIta.ttf\n",
      "STIXSizeThreeSym c:\\users\\playdata\\anaconda3\\envs\\ml\\lib\\site-packages\\matplotlib\\mpl-data\\fonts\\ttf\\STIXSizThreeSymBol.ttf\n",
      "STIXSizeTwoSym c:\\users\\playdata\\anaconda3\\envs\\ml\\lib\\site-packages\\matplotlib\\mpl-data\\fonts\\ttf\\STIXSizTwoSymReg.ttf\n",
      "STIXSizeTwoSym c:\\users\\playdata\\anaconda3\\envs\\ml\\lib\\site-packages\\matplotlib\\mpl-data\\fonts\\ttf\\STIXSizTwoSymBol.ttf\n",
      "DejaVu Serif Display c:\\users\\playdata\\anaconda3\\envs\\ml\\lib\\site-packages\\matplotlib\\mpl-data\\fonts\\ttf\\DejaVuSerifDisplay.ttf\n",
      "STIXGeneral c:\\users\\playdata\\anaconda3\\envs\\ml\\lib\\site-packages\\matplotlib\\mpl-data\\fonts\\ttf\\STIXGeneral.ttf\n",
      "Verdana C:\\WINDOWS\\Fonts\\verdanai.ttf\n",
      "Segoe UI Historic C:\\Windows\\Fonts\\seguihis.ttf\n",
      "Trebuchet MS C:\\Windows\\Fonts\\trebucit.ttf\n",
      "Georgia C:\\WINDOWS\\Fonts\\georgiai.ttf\n",
      "Georgia C:\\Windows\\Fonts\\georgiai.ttf\n",
      "Segoe UI C:\\Windows\\Fonts\\seguisli.ttf\n",
      "Cambria C:\\WINDOWS\\Fonts\\cambriai.ttf\n",
      "Corbel C:\\WINDOWS\\Fonts\\corbeli.ttf\n",
      "Yu Gothic C:\\WINDOWS\\Fonts\\YuGothL.ttc\n",
      "Nirmala UI C:\\Windows\\Fonts\\NirmalaS.ttf\n",
      "Microsoft Tai Le C:\\Windows\\Fonts\\taileb.ttf\n",
      "Microsoft Sans Serif C:\\WINDOWS\\Fonts\\micross.ttf\n",
      "Cambria C:\\Windows\\Fonts\\cambria.ttc\n",
      "Franklin Gothic Medium C:\\WINDOWS\\Fonts\\framd.ttf\n",
      "Times New Roman C:\\Windows\\Fonts\\timesbd.ttf\n",
      "Nirmala UI C:\\Windows\\Fonts\\Nirmala.ttf\n",
      "Segoe MDL2 Assets C:\\WINDOWS\\Fonts\\segmdl2.ttf\n",
      "Yu Gothic C:\\WINDOWS\\Fonts\\YuGothR.ttc\n",
      "Segoe UI C:\\WINDOWS\\Fonts\\seguibli.ttf\n",
      "Corbel C:\\Windows\\Fonts\\corbelb.ttf\n",
      "Segoe Print C:\\Windows\\Fonts\\segoeprb.ttf\n",
      "Candara C:\\WINDOWS\\Fonts\\Candara.ttf\n",
      "Arial C:\\Windows\\Fonts\\arial.ttf\n",
      "Arial C:\\WINDOWS\\Fonts\\arialbi.ttf\n",
      "Segoe UI C:\\WINDOWS\\Fonts\\seguili.ttf\n",
      "Constantia C:\\Windows\\Fonts\\constani.ttf\n",
      "Segoe UI C:\\WINDOWS\\Fonts\\segoeuil.ttf\n",
      "Mongolian Baiti C:\\Windows\\Fonts\\monbaiti.ttf\n",
      "Comic Sans MS C:\\Windows\\Fonts\\comicbd.ttf\n",
      "SimSun-ExtB C:\\Windows\\Fonts\\simsunb.ttf\n",
      "Segoe UI C:\\WINDOWS\\Fonts\\seguisbi.ttf\n",
      "Segoe UI C:\\WINDOWS\\Fonts\\segoeuiz.ttf\n",
      "Corbel C:\\WINDOWS\\Fonts\\corbelli.ttf\n",
      "Times New Roman C:\\WINDOWS\\Fonts\\timesbd.ttf\n",
      "Candara C:\\Windows\\Fonts\\Candarali.ttf\n",
      "Arial C:\\WINDOWS\\Fonts\\ariali.ttf\n",
      "Times New Roman C:\\WINDOWS\\Fonts\\times.ttf\n",
      "Ebrima C:\\Windows\\Fonts\\ebrima.ttf\n",
      "Verdana C:\\WINDOWS\\Fonts\\verdanab.ttf\n",
      "Sylfaen C:\\Windows\\Fonts\\sylfaen.ttf\n",
      "Microsoft YaHei C:\\Windows\\Fonts\\msyhbd.ttc\n",
      "Microsoft PhagsPa C:\\WINDOWS\\Fonts\\phagspa.ttf\n",
      "Segoe UI C:\\Windows\\Fonts\\seguibl.ttf\n",
      "Constantia C:\\WINDOWS\\Fonts\\constanz.ttf\n",
      "Marlett C:\\WINDOWS\\Fonts\\marlett.ttf\n",
      "Verdana C:\\Windows\\Fonts\\verdana.ttf\n",
      "Arial C:\\WINDOWS\\Fonts\\ariblk.ttf\n",
      "Corbel C:\\Windows\\Fonts\\corbel.ttf\n",
      "Corbel C:\\Windows\\Fonts\\corbell.ttf\n",
      "Myanmar Text C:\\WINDOWS\\Fonts\\mmrtext.ttf\n",
      "Impact C:\\Windows\\Fonts\\impact.ttf\n",
      "Consolas C:\\WINDOWS\\Fonts\\consolab.ttf\n",
      "Segoe Script C:\\WINDOWS\\Fonts\\segoescb.ttf\n",
      "Segoe UI C:\\Windows\\Fonts\\segoeuii.ttf\n",
      "Times New Roman C:\\WINDOWS\\Fonts\\timesbi.ttf\n",
      "Microsoft JhengHei C:\\WINDOWS\\Fonts\\msjhl.ttc\n",
      "Corbel C:\\WINDOWS\\Fonts\\corbell.ttf\n",
      "Batang C:\\WINDOWS\\Fonts\\batang.ttc\n",
      "Segoe UI C:\\Windows\\Fonts\\segoeuisl.ttf\n",
      "MV Boli C:\\Windows\\Fonts\\mvboli.ttf\n",
      "Corbel C:\\WINDOWS\\Fonts\\corbelb.ttf\n",
      "Trebuchet MS C:\\WINDOWS\\Fonts\\trebucbi.ttf\n",
      "Microsoft JhengHei C:\\WINDOWS\\Fonts\\msjh.ttc\n",
      "Consolas C:\\Windows\\Fonts\\consolaz.ttf\n",
      "Georgia C:\\WINDOWS\\Fonts\\georgiab.ttf\n",
      "Segoe UI C:\\WINDOWS\\Fonts\\segoeuib.ttf\n",
      "TeamViewer15 C:\\WINDOWS\\Fonts\\teamviewer15.otf\n",
      "Malgun Gothic C:\\WINDOWS\\Fonts\\malgunbd.ttf\n",
      "Lucida Sans Unicode C:\\Windows\\Fonts\\l_10646.ttf\n",
      "Microsoft PhagsPa C:\\Windows\\Fonts\\phagspab.ttf\n",
      "Cambria C:\\Windows\\Fonts\\cambriai.ttf\n",
      "Myanmar Text C:\\Windows\\Fonts\\mmrtext.ttf\n",
      "Cambria C:\\WINDOWS\\Fonts\\cambriab.ttf\n",
      "Comic Sans MS C:\\WINDOWS\\Fonts\\comic.ttf\n",
      "Sitka Small C:\\Windows\\Fonts\\Sitka.ttc\n",
      "Microsoft YaHei C:\\Windows\\Fonts\\msyh.ttc\n",
      "Segoe UI Symbol C:\\Windows\\Fonts\\seguisym.ttf\n",
      "Consolas C:\\WINDOWS\\Fonts\\consola.ttf\n",
      "Calibri C:\\Windows\\Fonts\\calibriz.ttf\n",
      "Mongolian Baiti C:\\WINDOWS\\Fonts\\monbaiti.ttf\n",
      "Calibri C:\\WINDOWS\\Fonts\\calibriz.ttf\n",
      "Corbel C:\\Windows\\Fonts\\corbeli.ttf\n",
      "Segoe UI Emoji C:\\WINDOWS\\Fonts\\seguiemj.ttf\n",
      "Trebuchet MS C:\\WINDOWS\\Fonts\\trebucit.ttf\n",
      "Leelawadee UI C:\\Windows\\Fonts\\LeelawUI.ttf\n",
      "Symbol C:\\Windows\\Fonts\\symbol.ttf\n",
      "SimSun C:\\Windows\\Fonts\\simsun.ttc\n",
      "Cambria C:\\WINDOWS\\Fonts\\cambria.ttc\n",
      "Arial C:\\Windows\\Fonts\\arialbd.ttf\n",
      "Constantia C:\\WINDOWS\\Fonts\\constani.ttf\n",
      "Trebuchet MS C:\\Windows\\Fonts\\trebucbd.ttf\n",
      "Calibri C:\\Windows\\Fonts\\calibrib.ttf\n",
      "Calibri C:\\WINDOWS\\Fonts\\calibril.ttf\n",
      "Ebrima C:\\WINDOWS\\Fonts\\ebrimabd.ttf\n",
      "Courier New C:\\Windows\\Fonts\\couri.ttf\n",
      "Batang C:\\Windows\\Fonts\\batang.ttc\n",
      "Leelawadee UI C:\\Windows\\Fonts\\LeelaUIb.ttf\n",
      "Yu Gothic C:\\Windows\\Fonts\\YuGothM.ttc\n",
      "Palatino Linotype C:\\Windows\\Fonts\\palab.ttf\n",
      "Myanmar Text C:\\Windows\\Fonts\\mmrtextb.ttf\n",
      "Franklin Gothic Medium C:\\Windows\\Fonts\\framd.ttf\n",
      "Candara C:\\Windows\\Fonts\\Candara.ttf\n",
      "Candara C:\\WINDOWS\\Fonts\\Candaraz.ttf\n",
      "Lucida Sans Unicode C:\\WINDOWS\\Fonts\\l_10646.ttf\n",
      "Ebrima C:\\WINDOWS\\Fonts\\ebrima.ttf\n",
      "Microsoft New Tai Lue C:\\Windows\\Fonts\\ntailub.ttf\n",
      "Leelawadee UI C:\\WINDOWS\\Fonts\\LeelUIsl.ttf\n",
      "Arial C:\\WINDOWS\\Fonts\\arialbd.ttf\n",
      "Georgia C:\\Windows\\Fonts\\georgia.ttf\n",
      "MV Boli C:\\WINDOWS\\Fonts\\mvboli.ttf\n",
      "Calibri C:\\WINDOWS\\Fonts\\calibrii.ttf\n",
      "Sitka Small C:\\WINDOWS\\Fonts\\Sitka.ttc\n",
      "Yu Gothic C:\\WINDOWS\\Fonts\\YuGothM.ttc\n",
      "Myanmar Text C:\\WINDOWS\\Fonts\\mmrtextb.ttf\n",
      "Times New Roman C:\\WINDOWS\\Fonts\\timesi.ttf\n",
      "Microsoft New Tai Lue C:\\Windows\\Fonts\\ntailu.ttf\n",
      "Tahoma C:\\Windows\\Fonts\\tahomabd.ttf\n",
      "Arial C:\\Windows\\Fonts\\ariali.ttf\n",
      "Yu Gothic C:\\Windows\\Fonts\\YuGothB.ttc\n",
      "Comic Sans MS C:\\WINDOWS\\Fonts\\comicbd.ttf\n",
      "Microsoft Himalaya C:\\WINDOWS\\Fonts\\himalaya.ttf\n",
      "Malgun Gothic C:\\WINDOWS\\Fonts\\malgun.ttf\n",
      "Microsoft YaHei C:\\WINDOWS\\Fonts\\msyhl.ttc\n",
      "Webdings C:\\Windows\\Fonts\\webdings.ttf\n",
      "Yu Gothic C:\\Windows\\Fonts\\YuGothL.ttc\n",
      "Calibri C:\\Windows\\Fonts\\calibrii.ttf\n",
      "Symbol C:\\WINDOWS\\Fonts\\symbol.ttf\n",
      "SimSun-ExtB C:\\WINDOWS\\Fonts\\simsunb.ttf\n",
      "Impact C:\\WINDOWS\\Fonts\\impact.ttf\n",
      "Candara C:\\Windows\\Fonts\\Candarai.ttf\n",
      "Courier New C:\\Windows\\Fonts\\courbi.ttf\n",
      "Segoe UI C:\\Windows\\Fonts\\seguibli.ttf\n",
      "Calibri C:\\Windows\\Fonts\\calibrili.ttf\n",
      "Tahoma C:\\Windows\\Fonts\\tahoma.ttf\n",
      "Leelawadee UI C:\\WINDOWS\\Fonts\\LeelaUIb.ttf\n",
      "Nirmala UI C:\\WINDOWS\\Fonts\\Nirmala.ttf\n",
      "Courier New C:\\WINDOWS\\Fonts\\cour.ttf\n",
      "Microsoft JhengHei C:\\Windows\\Fonts\\msjhl.ttc\n",
      "Sitka Small C:\\Windows\\Fonts\\SitkaB.ttc\n",
      "Gadugi C:\\Windows\\Fonts\\gadugib.ttf\n",
      "MS Gothic C:\\Windows\\Fonts\\msgothic.ttc\n",
      "Segoe UI C:\\Windows\\Fonts\\segoeuil.ttf\n",
      "Segoe UI C:\\WINDOWS\\Fonts\\segoeuisl.ttf\n",
      "Comic Sans MS C:\\Windows\\Fonts\\comicz.ttf\n",
      "Courier New C:\\Windows\\Fonts\\courbd.ttf\n",
      "Candara C:\\WINDOWS\\Fonts\\Candarai.ttf\n",
      "Cambria C:\\Windows\\Fonts\\cambriaz.ttf\n",
      "MingLiU-ExtB C:\\WINDOWS\\Fonts\\mingliub.ttc\n",
      "Microsoft New Tai Lue C:\\WINDOWS\\Fonts\\ntailub.ttf\n",
      "Palatino Linotype C:\\WINDOWS\\Fonts\\palab.ttf\n",
      "Bahnschrift C:\\Windows\\Fonts\\bahnschrift.ttf\n",
      "Nirmala UI C:\\WINDOWS\\Fonts\\NirmalaB.ttf\n",
      "Calibri C:\\WINDOWS\\Fonts\\calibrili.ttf\n",
      "Bahnschrift C:\\WINDOWS\\Fonts\\bahnschrift.ttf\n",
      "Segoe UI Historic C:\\WINDOWS\\Fonts\\seguihis.ttf\n",
      "Trebuchet MS C:\\WINDOWS\\Fonts\\trebucbd.ttf\n",
      "Sitka Small C:\\WINDOWS\\Fonts\\SitkaI.ttc\n",
      "Gulim C:\\Windows\\Fonts\\gulim.ttc\n",
      "Lucida Console C:\\Windows\\Fonts\\lucon.ttf\n",
      "MS Gothic C:\\WINDOWS\\Fonts\\msgothic.ttc\n",
      "Calibri C:\\WINDOWS\\Fonts\\calibri.ttf\n",
      "Verdana C:\\Windows\\Fonts\\verdanaz.ttf\n",
      "Corbel C:\\WINDOWS\\Fonts\\corbel.ttf\n",
      "Consolas C:\\Windows\\Fonts\\consolab.ttf\n",
      "Comic Sans MS C:\\WINDOWS\\Fonts\\comici.ttf\n",
      "Segoe UI C:\\Windows\\Fonts\\segoeuiz.ttf\n",
      "Gadugi C:\\Windows\\Fonts\\gadugi.ttf\n",
      "Gulim C:\\WINDOWS\\Fonts\\gulim.ttc\n",
      "Arial C:\\Windows\\Fonts\\ariblk.ttf\n",
      "Times New Roman C:\\Windows\\Fonts\\times.ttf\n",
      "Segoe UI C:\\Windows\\Fonts\\segoeuib.ttf\n",
      "Corbel C:\\Windows\\Fonts\\corbelz.ttf\n",
      "Segoe UI C:\\WINDOWS\\Fonts\\seguisb.ttf\n",
      "Nirmala UI C:\\Windows\\Fonts\\NirmalaB.ttf\n",
      "Constantia C:\\Windows\\Fonts\\constanz.ttf\n",
      "Wingdings C:\\Windows\\Fonts\\wingding.ttf\n",
      "Segoe MDL2 Assets C:\\Windows\\Fonts\\segmdl2.ttf\n",
      "Microsoft Tai Le C:\\WINDOWS\\Fonts\\taile.ttf\n",
      "Tahoma C:\\WINDOWS\\Fonts\\tahomabd.ttf\n",
      "Calibri C:\\Windows\\Fonts\\calibril.ttf\n",
      "Microsoft Sans Serif C:\\Windows\\Fonts\\micross.ttf\n",
      "Segoe UI C:\\WINDOWS\\Fonts\\segoeui.ttf\n",
      "Ebrima C:\\Windows\\Fonts\\ebrimabd.ttf\n",
      "Candara C:\\Windows\\Fonts\\Candaral.ttf\n",
      "Segoe Print C:\\WINDOWS\\Fonts\\segoepr.ttf\n",
      "Gadugi C:\\WINDOWS\\Fonts\\gadugi.ttf\n",
      "Comic Sans MS C:\\Windows\\Fonts\\comic.ttf\n",
      "Courier New C:\\WINDOWS\\Fonts\\courbd.ttf\n",
      "Microsoft Tai Le C:\\WINDOWS\\Fonts\\taileb.ttf\n",
      "Segoe Print C:\\WINDOWS\\Fonts\\segoeprb.ttf\n",
      "Candara C:\\WINDOWS\\Fonts\\Candarab.ttf\n",
      "Arial C:\\WINDOWS\\Fonts\\arial.ttf\n",
      "Verdana C:\\WINDOWS\\Fonts\\verdana.ttf\n",
      "Javanese Text C:\\WINDOWS\\Fonts\\javatext.ttf\n",
      "Webdings C:\\WINDOWS\\Fonts\\webdings.ttf\n",
      "Microsoft PhagsPa C:\\WINDOWS\\Fonts\\phagspab.ttf\n",
      "Franklin Gothic Medium C:\\Windows\\Fonts\\framdit.ttf\n",
      "Georgia C:\\WINDOWS\\Fonts\\georgiaz.ttf\n",
      "Wingdings C:\\WINDOWS\\Fonts\\wingding.ttf\n",
      "Segoe UI Emoji C:\\Windows\\Fonts\\seguiemj.ttf\n",
      "Microsoft PhagsPa C:\\Windows\\Fonts\\phagspa.ttf\n",
      "Segoe Print C:\\Windows\\Fonts\\segoepr.ttf\n",
      "Trebuchet MS C:\\WINDOWS\\Fonts\\trebuc.ttf\n",
      "Comic Sans MS C:\\Windows\\Fonts\\comici.ttf\n",
      "Segoe UI C:\\WINDOWS\\Fonts\\segoeuii.ttf\n",
      "Segoe UI C:\\WINDOWS\\Fonts\\seguisli.ttf\n",
      "Verdana C:\\Windows\\Fonts\\verdanab.ttf\n",
      "Palatino Linotype C:\\Windows\\Fonts\\palabi.ttf\n",
      "Verdana C:\\WINDOWS\\Fonts\\verdanaz.ttf\n",
      "Calibri C:\\Windows\\Fonts\\calibri.ttf\n",
      "Segoe UI C:\\Windows\\Fonts\\seguisb.ttf\n",
      "Microsoft Himalaya C:\\Windows\\Fonts\\himalaya.ttf\n",
      "Candara C:\\Windows\\Fonts\\Candaraz.ttf\n",
      "Courier New C:\\Windows\\Fonts\\cour.ttf\n",
      "Candara C:\\WINDOWS\\Fonts\\Candaral.ttf\n",
      "Franklin Gothic Medium C:\\WINDOWS\\Fonts\\framdit.ttf\n",
      "Consolas C:\\Windows\\Fonts\\consolai.ttf\n",
      "Georgia C:\\Windows\\Fonts\\georgiaz.ttf\n",
      "Constantia C:\\Windows\\Fonts\\constanb.ttf\n",
      "Microsoft JhengHei C:\\WINDOWS\\Fonts\\msjhbd.ttc\n",
      "Palatino Linotype C:\\WINDOWS\\Fonts\\palai.ttf\n",
      "Times New Roman C:\\Windows\\Fonts\\timesbi.ttf\n",
      "Cambria C:\\WINDOWS\\Fonts\\cambriaz.ttf\n",
      "Palatino Linotype C:\\Windows\\Fonts\\pala.ttf\n",
      "Cambria C:\\Windows\\Fonts\\cambriab.ttf\n",
      "Comic Sans MS C:\\WINDOWS\\Fonts\\comicz.ttf\n",
      "Microsoft YaHei C:\\Windows\\Fonts\\msyhl.ttc\n",
      "Segoe UI C:\\Windows\\Fonts\\seguisbi.ttf\n",
      "Malgun Gothic C:\\Windows\\Fonts\\malgunbd.ttf\n",
      "Constantia C:\\WINDOWS\\Fonts\\constanb.ttf\n",
      "Microsoft YaHei C:\\WINDOWS\\Fonts\\msyhbd.ttc\n",
      "Candara C:\\Windows\\Fonts\\Candarab.ttf\n",
      "Gadugi C:\\WINDOWS\\Fonts\\gadugib.ttf\n",
      "Sylfaen C:\\WINDOWS\\Fonts\\sylfaen.ttf\n",
      "Consolas C:\\Windows\\Fonts\\consola.ttf\n",
      "Segoe Script C:\\Windows\\Fonts\\segoescb.ttf\n",
      "Gabriola C:\\WINDOWS\\Fonts\\Gabriola.ttf\n",
      "Segoe UI C:\\WINDOWS\\Fonts\\seguibl.ttf\n",
      "Constantia C:\\WINDOWS\\Fonts\\constan.ttf\n",
      "Verdana C:\\Windows\\Fonts\\verdanai.ttf\n",
      "Yu Gothic C:\\Windows\\Fonts\\YuGothR.ttc\n",
      "Segoe Script C:\\Windows\\Fonts\\segoesc.ttf\n",
      "Sitka Small C:\\Windows\\Fonts\\SitkaZ.ttc\n",
      "Leelawadee UI C:\\Windows\\Fonts\\LeelUIsl.ttf\n",
      "Microsoft Yi Baiti C:\\Windows\\Fonts\\msyi.ttf\n",
      "TeamViewer15 C:\\Windows\\Fonts\\teamviewer15.otf\n",
      "SimSun C:\\WINDOWS\\Fonts\\simsun.ttc\n",
      "Times New Roman C:\\Windows\\Fonts\\timesi.ttf\n",
      "Palatino Linotype C:\\Windows\\Fonts\\palai.ttf\n",
      "Segoe UI C:\\Windows\\Fonts\\segoeui.ttf\n",
      "Courier New C:\\WINDOWS\\Fonts\\couri.ttf\n",
      "HoloLens MDL2 Assets C:\\WINDOWS\\Fonts\\holomdl2.ttf\n",
      "Candara C:\\WINDOWS\\Fonts\\Candarali.ttf\n",
      "Palatino Linotype C:\\WINDOWS\\Fonts\\palabi.ttf\n",
      "Segoe Script C:\\WINDOWS\\Fonts\\segoesc.ttf\n",
      "Javanese Text C:\\Windows\\Fonts\\javatext.ttf\n",
      "Constantia C:\\Windows\\Fonts\\constan.ttf\n",
      "Microsoft JhengHei C:\\Windows\\Fonts\\msjh.ttc\n",
      "Microsoft Yi Baiti C:\\WINDOWS\\Fonts\\msyi.ttf\n",
      "Trebuchet MS C:\\Windows\\Fonts\\trebuc.ttf\n",
      "Segoe UI Symbol C:\\WINDOWS\\Fonts\\seguisym.ttf\n",
      "Georgia C:\\WINDOWS\\Fonts\\georgia.ttf\n",
      "Sitka Small C:\\WINDOWS\\Fonts\\SitkaZ.ttc\n",
      "HoloLens MDL2 Assets C:\\Windows\\Fonts\\holomdl2.ttf\n",
      "Yu Gothic C:\\WINDOWS\\Fonts\\YuGothB.ttc\n",
      "Malgun Gothic C:\\Windows\\Fonts\\malgunsl.ttf\n",
      "Courier New C:\\WINDOWS\\Fonts\\courbi.ttf\n",
      "Georgia C:\\Windows\\Fonts\\georgiab.ttf\n",
      "Palatino Linotype C:\\WINDOWS\\Fonts\\pala.ttf\n",
      "Malgun Gothic C:\\Windows\\Fonts\\malgun.ttf\n",
      "Microsoft New Tai Lue C:\\WINDOWS\\Fonts\\ntailu.ttf\n",
      "Segoe UI C:\\Windows\\Fonts\\seguili.ttf\n",
      "Consolas C:\\WINDOWS\\Fonts\\consolaz.ttf\n",
      "Leelawadee UI C:\\WINDOWS\\Fonts\\LeelawUI.ttf\n",
      "Sitka Small C:\\Windows\\Fonts\\SitkaI.ttc\n",
      "Arial C:\\Windows\\Fonts\\arialbi.ttf\n",
      "Trebuchet MS C:\\Windows\\Fonts\\trebucbi.ttf\n",
      "MingLiU-ExtB C:\\Windows\\Fonts\\mingliub.ttc\n",
      "Corbel C:\\Windows\\Fonts\\corbelli.ttf\n",
      "Consolas C:\\WINDOWS\\Fonts\\consolai.ttf\n",
      "Corbel C:\\WINDOWS\\Fonts\\corbelz.ttf\n",
      "Malgun Gothic C:\\WINDOWS\\Fonts\\malgunsl.ttf\n",
      "Gabriola C:\\Windows\\Fonts\\Gabriola.ttf\n",
      "Microsoft YaHei C:\\WINDOWS\\Fonts\\msyh.ttc\n",
      "Tahoma C:\\WINDOWS\\Fonts\\tahoma.ttf\n",
      "Ink Free C:\\Windows\\Fonts\\Inkfree.ttf\n",
      "Microsoft JhengHei C:\\Windows\\Fonts\\msjhbd.ttc\n",
      "Calibri C:\\WINDOWS\\Fonts\\calibrib.ttf\n",
      "Nirmala UI C:\\WINDOWS\\Fonts\\NirmalaS.ttf\n",
      "Ink Free C:\\WINDOWS\\Fonts\\Inkfree.ttf\n",
      "Sitka Small C:\\WINDOWS\\Fonts\\SitkaB.ttc\n",
      "Lucida Console C:\\WINDOWS\\Fonts\\lucon.ttf\n",
      "Microsoft Tai Le C:\\Windows\\Fonts\\taile.ttf\n"
     ]
    }
   ],
   "source": [
    "# 한글처리를 위해서는 한글을 지원하는 폰트의 경로를 지정해야 한다.\n",
    "\n",
    "# 폰트경로 조회 하기 위해 임포트\n",
    "import matplotlib.font_manager as fm\n",
    "\n",
    "for f in fm.fontManager.ttflist:\n",
    "    print(f.name,f.fname) # 폰트 이름, 폰트 경로 "
   ]
  },
  {
   "cell_type": "code",
   "execution_count": 83,
   "metadata": {},
   "outputs": [
    {
     "data": {
      "text/plain": [
       "[('Malgun Gothic', 'C:\\\\WINDOWS\\\\Fonts\\\\malgunbd.ttf'),\n",
       " ('Malgun Gothic', 'C:\\\\WINDOWS\\\\Fonts\\\\malgun.ttf'),\n",
       " ('Malgun Gothic', 'C:\\\\Windows\\\\Fonts\\\\malgunbd.ttf'),\n",
       " ('Malgun Gothic', 'C:\\\\Windows\\\\Fonts\\\\malgunsl.ttf'),\n",
       " ('Malgun Gothic', 'C:\\\\Windows\\\\Fonts\\\\malgun.ttf'),\n",
       " ('Malgun Gothic', 'C:\\\\WINDOWS\\\\Fonts\\\\malgunsl.ttf')]"
      ]
     },
     "execution_count": 83,
     "metadata": {},
     "output_type": "execute_result"
    }
   ],
   "source": [
    "[(f.name, f.fname) for f in fm.fontManager.ttflist if 'malg' in f.name.lower()]  # 맥 applegothic"
   ]
  },
  {
   "cell_type": "code",
   "execution_count": 84,
   "metadata": {},
   "outputs": [],
   "source": [
    "font_path = 'C:\\\\Windows\\\\Fonts\\\\malgun.ttf'\n",
    "\n",
    "from wordcloud import WordCloud\n",
    "\n",
    "# 설정\n",
    "wc = WordCloud(font_path = font_path,\n",
    "              max_words = 200, # 최대로 나오는 단어의 개수 ( 설정 조정해보기 , relative도 )\n",
    "              prefer_horizontal = 0.7, # 가로로 쓰여질 word의 비율\n",
    "              relative_scaling = 0.7, # 0~1 사이의 실수. 1에 가까울 수록 빈도수가 많은 단어와 적은 단어의 크기 차이를 크게한다.1:2배빈도면 크기도2배\n",
    "              min_font_size = 1,\n",
    "              max_font_size = 50, # 가장작은 폰트 크기, 가장큰 폰트크기 지정,\n",
    "              background_color= 'white',\n",
    "              width = 1024, # 파일로 저장했을때 이미 크기 조절 \n",
    "              height = 768 )\n"
   ]
  },
  {
   "cell_type": "code",
   "execution_count": 85,
   "metadata": {},
   "outputs": [
    {
     "data": {
      "text/plain": [
       "<wordcloud.wordcloud.WordCloud at 0x21a09a0f488>"
      ]
     },
     "execution_count": 85,
     "metadata": {},
     "output_type": "execute_result"
    }
   ],
   "source": [
    "# WordCloud객체에 데이터 넣기.\n",
    "word_cloud = wc.generate_from_frequencies(freq)# 딕셔너리 : {단어 : 빈도수, 단어:빈도수, .......}\n",
    "word_cloud"
   ]
  },
  {
   "cell_type": "code",
   "execution_count": 86,
   "metadata": {},
   "outputs": [
    {
     "data": {
      "text/plain": [
       "FreqDist({'son': 45, 'korean': 33, 'new': 17, 'say': 15, 'malden': 13, 'football': 13, 'south': 12, 'work': 12, 'success': 11, 'think': 11, ...})"
      ]
     },
     "execution_count": 86,
     "metadata": {},
     "output_type": "execute_result"
    }
   ],
   "source": [
    "freq"
   ]
  },
  {
   "cell_type": "code",
   "execution_count": 87,
   "metadata": {},
   "outputs": [
    {
     "data": {
      "text/plain": [
       "<wordcloud.wordcloud.WordCloud at 0x21a09a0f488>"
      ]
     },
     "execution_count": 87,
     "metadata": {},
     "output_type": "execute_result"
    }
   ],
   "source": [
    "# 파일로 저장.\n",
    "word_cloud.to_file('word_cloud.png')"
   ]
  },
  {
   "cell_type": "code",
   "execution_count": 88,
   "metadata": {},
   "outputs": [
    {
     "data": {
      "image/png": "[encoded data removed]",
      "text/plain": [
       "<Figure size 1080x1080 with 1 Axes>"
      ]
     },
     "metadata": {
      "needs_background": "light"
     },
     "output_type": "display_data"
    }
   ],
   "source": [
    "# matplotlib 으로 보기.\n",
    "plt.figure(figsize = (15,15))\n",
    "plt.imshow(word_cloud)\n",
    "plt.axis('off')\n",
    "plt.show()"
   ]
  },
  {
   "cell_type": "code",
   "execution_count": null,
   "metadata": {},
   "outputs": [],
   "source": []
  },
  {
   "cell_type": "code",
   "execution_count": null,
   "metadata": {},
   "outputs": [],
   "source": []
  },
  {
   "cell_type": "markdown",
   "metadata": {},
   "source": [
    "## scikit-learn의 CountVectorizer를 이용해 <<TDM 만들기>>\n",
    "\n",
    "- ### TDM:행이 단어(개수)/ 열이 문서(1번째문서 , 2번째문서...) = DTM:행이 문서// 열이 단어  \n",
    "    - Term-Document-Matrix\n",
    "    - 문서안에서 문서를 구성하는 단어들이 몇번 나왔는지를 표현하는 행렬\n",
    "- TDM 행렬 반환\n",
    "    - 컬럼: 문서\n",
    "    - 행: 고유단어\n",
    "    - Value: 개수\n",
    "- 학습: fit(raw document)\n",
    "    - raw document - 문장을 원소로 가지는 1차원 배열형태 문서 (sent_tokenize 를 해서만들어야)\n",
    "    - 전체 문장들(corpus)에서 고유단어들을 찾아낸뒤 index를 붙인다.\n",
    "- 변환: transform(raw document)\n",
    "    - 문장별(원소) 단어 count\n",
    "- CountVectorizer 주요 속성, 메소드\n",
    "    - cv.vocabulary_\n",
    "        - 단어-index 반환(딕셔너리)\n",
    "    - get_feature_names()\n",
    "        - index순서대로 단어들 반환"
   ]
  },
  {
   "cell_type": "code",
   "execution_count": 89,
   "metadata": {},
   "outputs": [],
   "source": [
    "# sklearn 을 사용해서 만들기 \n",
    "docs =[\n",
    "    'This is the first document. I write this document', # 1번 문서,(ex:뉴스기사 1개를 하나의 문장으로~!)\n",
    "    'I like apple. I read document' # 2번 문서.......\n",
    "]"
   ]
  },
  {
   "cell_type": "code",
   "execution_count": 90,
   "metadata": {},
   "outputs": [],
   "source": [
    "from sklearn.feature_extraction.text import CountVectorizer\n",
    "cv = CountVectorizer()\n"
   ]
  },
  {
   "cell_type": "code",
   "execution_count": 91,
   "metadata": {},
   "outputs": [
    {
     "data": {
      "text/plain": [
       "CountVectorizer()"
      ]
     },
     "execution_count": 91,
     "metadata": {},
     "output_type": "execute_result"
    }
   ],
   "source": [
    "cv.fit(docs)"
   ]
  },
  {
   "cell_type": "code",
   "execution_count": 92,
   "metadata": {},
   "outputs": [
    {
     "data": {
      "text/plain": [
       "{'this': 7,\n",
       " 'is': 3,\n",
       " 'the': 6,\n",
       " 'first': 2,\n",
       " 'document': 1,\n",
       " 'write': 8,\n",
       " 'like': 4,\n",
       " 'apple': 0,\n",
       " 'read': 5}"
      ]
     },
     "execution_count": 92,
     "metadata": {},
     "output_type": "execute_result"
    }
   ],
   "source": [
    "cv.vocabulary_  # 단어의 인덱스 값"
   ]
  },
  {
   "cell_type": "code",
   "execution_count": 93,
   "metadata": {},
   "outputs": [
    {
     "data": {
      "text/plain": [
       "array([[0, 2, 1, 1, 0, 0, 1, 2, 1],\n",
       "       [1, 1, 0, 0, 1, 1, 0, 0, 0]], dtype=int64)"
      ]
     },
     "execution_count": 93,
     "metadata": {},
     "output_type": "execute_result"
    }
   ],
   "source": [
    "dtm = cv.transform(docs)\n",
    "dtm.toarray()  # 첫번째 문서 두번쩌문서, 열 :단어  /// 위의 인덱스와 맞춰서 보면됨~!\n"
   ]
  },
  {
   "cell_type": "code",
   "execution_count": 94,
   "metadata": {},
   "outputs": [
    {
     "data": {
      "text/plain": [
       "['apple', 'document', 'first', 'is', 'like', 'read', 'the', 'this', 'write']"
      ]
     },
     "execution_count": 94,
     "metadata": {},
     "output_type": "execute_result"
    }
   ],
   "source": [
    "cv.get_feature_names()  "
   ]
  },
  {
   "cell_type": "code",
   "execution_count": 103,
   "metadata": {},
   "outputs": [],
   "source": [
    "import pandas as pd"
   ]
  },
  {
   "cell_type": "code",
   "execution_count": 104,
   "metadata": {},
   "outputs": [
    {
     "data": {
      "text/html": [
       "<div>\n",
       "<style scoped>\n",
       "    .dataframe tbody tr th:only-of-type {\n",
       "        vertical-align: middle;\n",
       "    }\n",
       "\n",
       "    .dataframe tbody tr th {\n",
       "        vertical-align: top;\n",
       "    }\n",
       "\n",
       "    .dataframe thead th {\n",
       "        text-align: right;\n",
       "    }\n",
       "</style>\n",
       "<table border=\"1\" class=\"dataframe\">\n",
       "  <thead>\n",
       "    <tr style=\"text-align: right;\">\n",
       "      <th></th>\n",
       "      <th>apple</th>\n",
       "      <th>document</th>\n",
       "      <th>first</th>\n",
       "      <th>is</th>\n",
       "      <th>like</th>\n",
       "      <th>read</th>\n",
       "      <th>the</th>\n",
       "      <th>this</th>\n",
       "      <th>write</th>\n",
       "    </tr>\n",
       "  </thead>\n",
       "  <tbody>\n",
       "    <tr>\n",
       "      <th>0</th>\n",
       "      <td>0</td>\n",
       "      <td>2</td>\n",
       "      <td>1</td>\n",
       "      <td>1</td>\n",
       "      <td>0</td>\n",
       "      <td>0</td>\n",
       "      <td>1</td>\n",
       "      <td>2</td>\n",
       "      <td>1</td>\n",
       "    </tr>\n",
       "    <tr>\n",
       "      <th>1</th>\n",
       "      <td>1</td>\n",
       "      <td>1</td>\n",
       "      <td>0</td>\n",
       "      <td>0</td>\n",
       "      <td>1</td>\n",
       "      <td>1</td>\n",
       "      <td>0</td>\n",
       "      <td>0</td>\n",
       "      <td>0</td>\n",
       "    </tr>\n",
       "  </tbody>\n",
       "</table>\n",
       "</div>"
      ],
      "text/plain": [
       "   apple  document  first  is  like  read  the  this  write\n",
       "0      0         2      1   1     0     0    1     2      1\n",
       "1      1         1      0   0     1     1    0     0      0"
      ]
     },
     "execution_count": 104,
     "metadata": {},
     "output_type": "execute_result"
    }
   ],
   "source": [
    "pd.DataFrame(dtm.toarray(), columns = cv.get_feature_names())"
   ]
  },
  {
   "cell_type": "code",
   "execution_count": null,
   "metadata": {},
   "outputs": [],
   "source": []
  },
  {
   "cell_type": "markdown",
   "metadata": {},
   "source": [
    "## news.txt\n",
    "- news.txt를 읽고 TDM 생성 후 csv파일로 저장\n",
    "- 문장단위로 dtm을 생성 "
   ]
  },
  {
   "cell_type": "code",
   "execution_count": 105,
   "metadata": {},
   "outputs": [],
   "source": [
    "# sklearn 안쓰고 만듦\n",
    "import pandas as pd"
   ]
  },
  {
   "cell_type": "code",
   "execution_count": 106,
   "metadata": {},
   "outputs": [
    {
     "data": {
      "text/html": [
       "<div>\n",
       "<style scoped>\n",
       "    .dataframe tbody tr th:only-of-type {\n",
       "        vertical-align: middle;\n",
       "    }\n",
       "\n",
       "    .dataframe tbody tr th {\n",
       "        vertical-align: top;\n",
       "    }\n",
       "\n",
       "    .dataframe thead th {\n",
       "        text-align: right;\n",
       "    }\n",
       "</style>\n",
       "<table border=\"1\" class=\"dataframe\">\n",
       "  <thead>\n",
       "    <tr style=\"text-align: right;\">\n",
       "      <th></th>\n",
       "      <th>단어</th>\n",
       "      <th>빈도수/문서1</th>\n",
       "    </tr>\n",
       "  </thead>\n",
       "  <tbody>\n",
       "    <tr>\n",
       "      <th>0</th>\n",
       "      <td>son</td>\n",
       "      <td>45</td>\n",
       "    </tr>\n",
       "    <tr>\n",
       "      <th>1</th>\n",
       "      <td>korean</td>\n",
       "      <td>33</td>\n",
       "    </tr>\n",
       "    <tr>\n",
       "      <th>2</th>\n",
       "      <td>new</td>\n",
       "      <td>17</td>\n",
       "    </tr>\n",
       "    <tr>\n",
       "      <th>3</th>\n",
       "      <td>say</td>\n",
       "      <td>15</td>\n",
       "    </tr>\n",
       "    <tr>\n",
       "      <th>4</th>\n",
       "      <td>malden</td>\n",
       "      <td>13</td>\n",
       "    </tr>\n",
       "  </tbody>\n",
       "</table>\n",
       "</div>"
      ],
      "text/plain": [
       "       단어  빈도수/문서1\n",
       "0     son       45\n",
       "1  korean       33\n",
       "2     new       17\n",
       "3     say       15\n",
       "4  malden       13"
      ]
     },
     "execution_count": 106,
     "metadata": {},
     "output_type": "execute_result"
    }
   ],
   "source": [
    "df = pd.DataFrame(freq.most_common(), columns=['단어', '빈도수/문서1'])  # 단어,빈도수//freq.most_common()가있어서 pandas로 tdm을 만들수 있었음\n",
    "df.head()"
   ]
  },
  {
   "cell_type": "code",
   "execution_count": 107,
   "metadata": {},
   "outputs": [
    {
     "data": {
      "text/html": [
       "<div>\n",
       "<style scoped>\n",
       "    .dataframe tbody tr th:only-of-type {\n",
       "        vertical-align: middle;\n",
       "    }\n",
       "\n",
       "    .dataframe tbody tr th {\n",
       "        vertical-align: top;\n",
       "    }\n",
       "\n",
       "    .dataframe thead th {\n",
       "        text-align: right;\n",
       "    }\n",
       "</style>\n",
       "<table border=\"1\" class=\"dataframe\">\n",
       "  <thead>\n",
       "    <tr style=\"text-align: right;\">\n",
       "      <th></th>\n",
       "      <th>빈도수/문서1</th>\n",
       "    </tr>\n",
       "    <tr>\n",
       "      <th>단어</th>\n",
       "      <th></th>\n",
       "    </tr>\n",
       "  </thead>\n",
       "  <tbody>\n",
       "    <tr>\n",
       "      <th>son</th>\n",
       "      <td>45</td>\n",
       "    </tr>\n",
       "    <tr>\n",
       "      <th>korean</th>\n",
       "      <td>33</td>\n",
       "    </tr>\n",
       "    <tr>\n",
       "      <th>new</th>\n",
       "      <td>17</td>\n",
       "    </tr>\n",
       "    <tr>\n",
       "      <th>say</th>\n",
       "      <td>15</td>\n",
       "    </tr>\n",
       "    <tr>\n",
       "      <th>malden</th>\n",
       "      <td>13</td>\n",
       "    </tr>\n",
       "    <tr>\n",
       "      <th>...</th>\n",
       "      <td>...</td>\n",
       "    </tr>\n",
       "    <tr>\n",
       "      <th>love</th>\n",
       "      <td>1</td>\n",
       "    </tr>\n",
       "    <tr>\n",
       "      <th>eats</th>\n",
       "      <td>1</td>\n",
       "    </tr>\n",
       "    <tr>\n",
       "      <th>miracle</th>\n",
       "      <td>1</td>\n",
       "    </tr>\n",
       "    <tr>\n",
       "      <th>brilliant</th>\n",
       "      <td>1</td>\n",
       "    </tr>\n",
       "    <tr>\n",
       "      <th>guess</th>\n",
       "      <td>1</td>\n",
       "    </tr>\n",
       "  </tbody>\n",
       "</table>\n",
       "<p>560 rows × 1 columns</p>\n",
       "</div>"
      ],
      "text/plain": [
       "           빈도수/문서1\n",
       "단어                \n",
       "son             45\n",
       "korean          33\n",
       "new             17\n",
       "say             15\n",
       "malden          13\n",
       "...            ...\n",
       "love             1\n",
       "eats             1\n",
       "miracle          1\n",
       "brilliant        1\n",
       "guess            1\n",
       "\n",
       "[560 rows x 1 columns]"
      ]
     },
     "execution_count": 107,
     "metadata": {},
     "output_type": "execute_result"
    }
   ],
   "source": [
    "df.set_index('단어')"
   ]
  },
  {
   "cell_type": "code",
   "execution_count": 108,
   "metadata": {},
   "outputs": [
    {
     "data": {
      "text/html": [
       "<div>\n",
       "<style scoped>\n",
       "    .dataframe tbody tr th:only-of-type {\n",
       "        vertical-align: middle;\n",
       "    }\n",
       "\n",
       "    .dataframe tbody tr th {\n",
       "        vertical-align: top;\n",
       "    }\n",
       "\n",
       "    .dataframe thead th {\n",
       "        text-align: right;\n",
       "    }\n",
       "</style>\n",
       "<table border=\"1\" class=\"dataframe\">\n",
       "  <thead>\n",
       "    <tr style=\"text-align: right;\">\n",
       "      <th></th>\n",
       "      <th>빈도수/문서1</th>\n",
       "    </tr>\n",
       "    <tr>\n",
       "      <th>단어</th>\n",
       "      <th></th>\n",
       "    </tr>\n",
       "  </thead>\n",
       "  <tbody>\n",
       "    <tr>\n",
       "      <th>son</th>\n",
       "      <td>45</td>\n",
       "    </tr>\n",
       "    <tr>\n",
       "      <th>korean</th>\n",
       "      <td>33</td>\n",
       "    </tr>\n",
       "    <tr>\n",
       "      <th>new</th>\n",
       "      <td>17</td>\n",
       "    </tr>\n",
       "    <tr>\n",
       "      <th>say</th>\n",
       "      <td>15</td>\n",
       "    </tr>\n",
       "    <tr>\n",
       "      <th>malden</th>\n",
       "      <td>13</td>\n",
       "    </tr>\n",
       "  </tbody>\n",
       "</table>\n",
       "</div>"
      ],
      "text/plain": [
       "        빈도수/문서1\n",
       "단어             \n",
       "son          45\n",
       "korean       33\n",
       "new          17\n",
       "say          15\n",
       "malden       13"
      ]
     },
     "execution_count": 108,
     "metadata": {},
     "output_type": "execute_result"
    }
   ],
   "source": [
    "tdm=df.set_index('단어')\n",
    "tdm.head()"
   ]
  },
  {
   "cell_type": "code",
   "execution_count": 109,
   "metadata": {},
   "outputs": [
    {
     "data": {
      "text/html": [
       "<div>\n",
       "<style scoped>\n",
       "    .dataframe tbody tr th:only-of-type {\n",
       "        vertical-align: middle;\n",
       "    }\n",
       "\n",
       "    .dataframe tbody tr th {\n",
       "        vertical-align: top;\n",
       "    }\n",
       "\n",
       "    .dataframe thead th {\n",
       "        text-align: right;\n",
       "    }\n",
       "</style>\n",
       "<table border=\"1\" class=\"dataframe\">\n",
       "  <thead>\n",
       "    <tr style=\"text-align: right;\">\n",
       "      <th>단어</th>\n",
       "      <th>son</th>\n",
       "      <th>korean</th>\n",
       "      <th>new</th>\n",
       "      <th>say</th>\n",
       "      <th>malden</th>\n",
       "      <th>football</th>\n",
       "      <th>south</th>\n",
       "      <th>work</th>\n",
       "      <th>success</th>\n",
       "      <th>think</th>\n",
       "      <th>...</th>\n",
       "      <th>unable</th>\n",
       "      <th>sacrifice</th>\n",
       "      <th>mean</th>\n",
       "      <th>teammate</th>\n",
       "      <th>session</th>\n",
       "      <th>love</th>\n",
       "      <th>eats</th>\n",
       "      <th>miracle</th>\n",
       "      <th>brilliant</th>\n",
       "      <th>guess</th>\n",
       "    </tr>\n",
       "  </thead>\n",
       "  <tbody>\n",
       "    <tr>\n",
       "      <th>빈도수/문서1</th>\n",
       "      <td>45</td>\n",
       "      <td>33</td>\n",
       "      <td>17</td>\n",
       "      <td>15</td>\n",
       "      <td>13</td>\n",
       "      <td>13</td>\n",
       "      <td>12</td>\n",
       "      <td>12</td>\n",
       "      <td>11</td>\n",
       "      <td>11</td>\n",
       "      <td>...</td>\n",
       "      <td>1</td>\n",
       "      <td>1</td>\n",
       "      <td>1</td>\n",
       "      <td>1</td>\n",
       "      <td>1</td>\n",
       "      <td>1</td>\n",
       "      <td>1</td>\n",
       "      <td>1</td>\n",
       "      <td>1</td>\n",
       "      <td>1</td>\n",
       "    </tr>\n",
       "  </tbody>\n",
       "</table>\n",
       "<p>1 rows × 560 columns</p>\n",
       "</div>"
      ],
      "text/plain": [
       "단어       son  korean  new  say  malden  football  south  work  success  think  \\\n",
       "빈도수/문서1   45      33   17   15      13        13     12    12       11     11   \n",
       "\n",
       "단어       ...  unable  sacrifice  mean  teammate  session  love  eats  miracle  \\\n",
       "빈도수/문서1  ...       1          1     1         1        1     1     1        1   \n",
       "\n",
       "단어       brilliant  guess  \n",
       "빈도수/문서1          1      1  \n",
       "\n",
       "[1 rows x 560 columns]"
      ]
     },
     "execution_count": 109,
     "metadata": {},
     "output_type": "execute_result"
    }
   ],
   "source": [
    "dtm = tdm.T # 전치 시킴.\n",
    "dtm"
   ]
  },
  {
   "cell_type": "code",
   "execution_count": null,
   "metadata": {},
   "outputs": [],
   "source": []
  },
  {
   "cell_type": "code",
   "execution_count": null,
   "metadata": {},
   "outputs": [],
   "source": []
  },
  {
   "cell_type": "code",
   "execution_count": null,
   "metadata": {},
   "outputs": [],
   "source": []
  },
  {
   "cell_type": "code",
   "execution_count": null,
   "metadata": {},
   "outputs": [],
   "source": []
  },
  {
   "cell_type": "code",
   "execution_count": null,
   "metadata": {},
   "outputs": [],
   "source": []
  },
  {
   "cell_type": "code",
   "execution_count": null,
   "metadata": {},
   "outputs": [],
   "source": []
  }
 ],
 "metadata": {
  "kernelspec": {
   "display_name": "Python 3",
   "language": "python",
   "name": "python3"
  },
  "language_info": {
   "codemirror_mode": {
    "name": "ipython",
    "version": 3
   },
   "file_extension": ".py",
   "mimetype": "text/x-python",
   "name": "python",
   "nbconvert_exporter": "python",
   "pygments_lexer": "ipython3",
   "version": "3.7.10"
  },
  "toc": {
   "base_numbering": 1,
   "nav_menu": {},
   "number_sections": false,
   "sideBar": true,
   "skip_h1_title": false,
   "title_cell": "Table of Contents",
   "title_sidebar": "Contents",
   "toc_cell": false,
   "toc_position": {},
   "toc_section_display": true,
   "toc_window_display": false
  },
  "varInspector": {
   "cols": {
    "lenName": 16,
    "lenType": 16,
    "lenVar": 40
   },
   "kernels_config": {
    "python": {
     "delete_cmd_postfix": "",
     "delete_cmd_prefix": "del ",
     "library": "var_list.py",
     "varRefreshCmd": "print(var_dic_list())"
    },
    "r": {
     "delete_cmd_postfix": ") ",
     "delete_cmd_prefix": "rm(",
     "library": "var_list.r",
     "varRefreshCmd": "cat(var_dic_list()) "
    }
   },
   "types_to_exclude": [
    "module",
    "function",
    "builtin_function_or_method",
    "instance",
    "_Feature"
   ],
   "window_display": false
  }
 },
 "nbformat": 4,
 "nbformat_minor": 2
}
