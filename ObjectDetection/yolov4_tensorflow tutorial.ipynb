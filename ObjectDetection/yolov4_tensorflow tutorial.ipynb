{
 "cells": [
  {
   "cell_type": "markdown",
   "metadata": {},
   "source": [
    "https://github.com/dbgmlek/yolov4_object_detection_workspace.git\n",
    "\n",
    "1. conda create -n yolo pip python=3.7\n",
    "1. conda activate yolo\n",
    "1. library 설치\n",
    "    \n",
    "\t- pip install tensorflow0\n",
    "\t- pip install opencv-contrib-python==4.4.*\n",
    "        - **opencv 4.4대 버전 설치**\n",
    "\t- pip install easydict\n",
    "\t- pip install pillow\n",
    "1. clone\n",
    "\t- git clone https://github.com/hunglc007/tensorflow-yolov4-tflite.git\n",
    "1. weights 다운로드\n",
    "\t- https://drive.google.com/file/d/1cewMfusmPjYWbrnuJRuKhPMwRe_b9PaT/view\n",
    "\t- tensorflow-yolov4-tflite/data 폴더 아래 복사\n",
    "1. 검출 할 class 목록 파일(.names) 작성\n",
    "1. core/config.py 에 class 목록파일 경로 설정\n",
    "    - __C.YOLO.CLASSES 변수에 설정\n",
    "1. weights(가중치)를 Tensorflow 버전으로 변환\t\n",
    "\t- `python save_model.py --weights ./data/yolov4.weights --output ./checkpoints/yolov4-416 --input_size 416`\n",
    "        - weights: yolo에서 학습한 가중치\n",
    "        - output: 변환 모델을 저장할 디렉토리. 변환 후 saved model 형식으로 생성됨\n",
    "        - input_size: input image size\n",
    "\t\n",
    "\t\n",
    "# Detection\n",
    "\n",
    "## 이미지\n",
    "```\n",
    "python detect.py --weights ./checkpoints/yolov4-416 --size 416 --model yolov4 --image ./data/kite.jpg\n",
    "```\n",
    "\n",
    "## 비디오\n",
    "\n",
    "```\n",
    "python detectvideo.py --weights ./checkpoints/yolov4-416 --size 416 --model yolov4 --video ./data/road.mp4\n",
    "```\n"
   ]
  }
 ],
 "metadata": {
  "kernelspec": {
   "display_name": "Python 3",
   "language": "python",
   "name": "python3"
  },
  "language_info": {
   "codemirror_mode": {
    "name": "ipython",
    "version": 3
   },
   "file_extension": ".py",
   "mimetype": "text/x-python",
   "name": "python",
   "nbconvert_exporter": "python",
   "pygments_lexer": "ipython3",
   "version": "3.7.10"
  }
 },
 "nbformat": 4,
 "nbformat_minor": 4
}
