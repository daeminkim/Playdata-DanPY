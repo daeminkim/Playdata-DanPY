{
 "cells": [
  {
   "cell_type": "markdown",
   "metadata": {},
   "source": [
    "- 코랩은 기본적으로 리눅스기반 우분투 기때문. 그리고 텐서플로우 오브젝트 api가 설치 안되있어서 설치해야한다.\n",
    "# 윈도우즈 에서 설치하기.\n",
    "- [튜토리얼](https://tensorflow-object-detection-api-tutorial.readthedocs.io/en/latest/index.html)\n",
    "  - TensorFlow 2 Object Detection API tutorial\n",
    "\n",
    "- 6교시 ~7교시강의 설치 가의\n",
    "1. tensorflow object detection api git clone  / 클론 했다.. / 다운로드 받아서 설치해도 됨..\n",
    "    - https://github.com/tensorflow/models\n",
    "    - git clone https://github.com/tensorflow/models.git\n",
    "\n",
    "2. 라이브러리 설치\n",
    "     - mac 에서 할때.. \n",
    "        - https://medium.com/@viviennediegoencarnacion/how-to-setup-tensorflow-object-detection-on-mac-a0b72fbf470a\n",
    "        - tensorflow 빼고  밑에꺼 하면됨.. tensorflow는 설치 되어있으니까 그리고 2. 대 버전으로 해야하는데 링크에는 1.대임..\n",
    "\n",
    "    \n",
    "- pip install tf_slim -> 이거도 안함.. \n",
    "- visualcpp build tool 설치\n",
    "    - https://go.microsoft.com/fwlink/?LinkId=691126\n",
    "- pip install pycocotools \n",
    "\n",
    "3. protobuf 설치\n",
    "    - https://github.com/protocolbuffers/protobuf/releases  이동\n",
    "    - os에 맞는 것 찾아서 다운. [protoc-3.16.0-win64.zip](https://github.com/protocolbuffers/protobuf/releases/download/v3.14.0/protoc-3.14.0-win64.zip)\n",
    "    - 압축 풀고 bin/ 를 환경변수의 path로 잡아 준다. \n",
    "\t\t- 다음을 명령프롬프트에서 실행해서 cmd 재실행 안해도 되게 한다.\n",
    "\t\t- set path=%path%;C:\\tools\\protoc-3.16.0-win64\\bin \n",
    "3. research/object_detection/protos 를 컴파일\n",
    "    - protoc 파일을 pb 파일로 변환 (구글 자체 포멧인 protoc 파일을 python executable 파일로 변환하는 것.)\n",
    "    - models\\research 디렉토리로 이동\n",
    "        - cd models\\research\n",
    "\t- protoc.exe object_detection/protos/*.proto --python_out=.\n",
    "4. setup.py 를 이용해 설치\n",
    "\t- cd models/research/object_detection/packages/tf2\n",
    "\t- pip install .  # 띄어쓰기 하고 . 해야함 \n",
    "    \n",
    "# 예제 코드 실행\n",
    "\t- 주피터 노트북실행\n",
    "\t- research/object_detection/colab_tutorials/object_detection_tutorial.ipynb 실행\n",
    "\t\n",
    "# colab 템플릿 clone\n",
    "- https://github.com/dbgmlek/object_detection_workspace.git"
   ]
  }
 ],
 "metadata": {
  "kernelspec": {
   "display_name": "Python 3",
   "language": "python",
   "name": "python3"
  },
  "language_info": {
   "codemirror_mode": {
    "name": "ipython",
    "version": 3
   },
   "file_extension": ".py",
   "mimetype": "text/x-python",
   "name": "python",
   "nbconvert_exporter": "python",
   "pygments_lexer": "ipython3",
   "version": "3.7.10"
  }
 },
 "nbformat": 4,
 "nbformat_minor": 4
}
