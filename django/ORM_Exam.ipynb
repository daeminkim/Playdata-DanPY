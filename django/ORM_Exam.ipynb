{
 "cells": [
  {
   "cell_type": "code",
   "execution_count": 1,
   "id": "0ad82dc3",
   "metadata": {},
   "outputs": [],
   "source": [
    "#이설정을 하면 주피터 노트북에서 장고쉘을 똑같이 사용할 수 있음.. \n",
    "# 프로젝트 디렉토리에서 실행\n",
    "# jupyter notebook 에서 django shell을 사용할 수 있도록 환경변수 설정 -> 프로젝트에서 만든 모델들을 사용하여 CRUD하려고 \n",
    "import os\n",
    "os.environ['DJANGO_SETTINGS_MODULE'] = 'config.settings' #세팅스 파일이 어디에 잇는지 알려줘야함.. config가 아니라 다른이름으로 했다면 바뀌겠지..\n",
    "os.environ['DJANGO_ALLOW_ASYNC_UNSAFE'] = 'true'\n",
    "\n",
    "import django\n",
    "django.setup()\n"
   ]
  },
  {
   "cell_type": "code",
   "execution_count": 2,
   "id": "9642bc22",
   "metadata": {},
   "outputs": [],
   "source": [
    "from polls.models import Question, Choice"
   ]
  },
  {
   "cell_type": "code",
   "execution_count": 3,
   "id": "d7013762",
   "metadata": {},
   "outputs": [
    {
     "output_type": "execute_result",
     "data": {
      "text/plain": [
       "django.db.models.manager.Manager"
      ]
     },
     "metadata": {},
     "execution_count": 3
    }
   ],
   "source": [
    "type( Question.objects)"
   ]
  },
  {
   "cell_type": "code",
   "execution_count": null,
   "metadata": {},
   "outputs": [],
   "source": []
  },
  {
   "cell_type": "markdown",
   "id": "9bce2b4a",
   "metadata": {},
   "source": [
    "# 전체조회\n",
    " - all\n",
    " - 조회된 결과를 갖고 인덱싱, 슬라이싱을 통해서 특정 범위조회결과를 확인 할수 있다.\n",
    " - 반환된 값의 타입입은 Queryset 이다."
   ]
  },
  {
   "cell_type": "code",
   "execution_count": 5,
   "id": "bac28b77",
   "metadata": {},
   "outputs": [
    {
     "data": {
      "text/plain": [
       "<QuerySet [<Question: 좋아하는 색깔은 무엇입니까?>, <Question: 가고 싶은 나라를 선택하세요.>, <Question: 좋아하는 동물은 무엇입니까?>]>"
      ]
     },
     "execution_count": 5,
     "metadata": {},
     "output_type": "execute_result"
    }
   ],
   "source": [
    "# model클래스 이름.objects.xxx\n",
    "qs = Question.objects.all() # QuerySet\n",
    "qs"
   ]
  },
  {
   "cell_type": "code",
   "execution_count": 6,
   "id": "82e76949",
   "metadata": {},
   "outputs": [
    {
     "name": "stdout",
     "output_type": "stream",
     "text": [
      "SELECT \"polls_question\".\"id\", \"polls_question\".\"question_text\", \"polls_question\".\"pub_date\" FROM \"polls_question\"\n"
     ]
    }
   ],
   "source": [
    "#QuerySet.query : sql문 조회 -> 어떤 구문이 실행됐나 체크 할수있다.\n",
    "print(qs.query)"
   ]
  },
  {
   "cell_type": "code",
   "execution_count": 7,
   "id": "cab36d0c",
   "metadata": {},
   "outputs": [
    {
     "name": "stdout",
     "output_type": "stream",
     "text": [
      "좋아하는 색깔은 무엇입니까? <class 'polls.models.Question'>\n",
      "가고 싶은 나라를 선택하세요. <class 'polls.models.Question'>\n",
      "좋아하는 동물은 무엇입니까? <class 'polls.models.Question'>\n"
     ]
    }
   ],
   "source": [
    "for q in qs:\n",
    "    print(q,type(q))"
   ]
  },
  {
   "cell_type": "code",
   "execution_count": 8,
   "id": "da761149",
   "metadata": {},
   "outputs": [
    {
     "data": {
      "text/plain": [
       "<Question: 좋아하는 색깔은 무엇입니까?>"
      ]
     },
     "execution_count": 8,
     "metadata": {},
     "output_type": "execute_result"
    }
   ],
   "source": [
    "# 특정 조회결과 하나 조회 - indexing\n",
    "# 범위 조회 : slicing\n",
    "qs[0]"
   ]
  },
  {
   "cell_type": "code",
   "execution_count": 9,
   "id": "b50c17d5",
   "metadata": {},
   "outputs": [
    {
     "data": {
      "text/plain": [
       "[<Question: 가고 싶은 나라를 선택하세요.>, <Question: 좋아하는 동물은 무엇입니까?>]"
      ]
     },
     "execution_count": 9,
     "metadata": {},
     "output_type": "execute_result"
    }
   ],
   "source": [
    "qs[1:]"
   ]
  },
  {
   "cell_type": "code",
   "execution_count": 11,
   "id": "e90ac61a",
   "metadata": {},
   "outputs": [],
   "source": [
    "#qs[-1] # 음수 index는 사용못함.."
   ]
  },
  {
   "cell_type": "code",
   "execution_count": 12,
   "id": "968eb560",
   "metadata": {},
   "outputs": [
    {
     "data": {
      "text/plain": [
       "<Question: 좋아하는 색깔은 무엇입니까?>"
      ]
     },
     "execution_count": 12,
     "metadata": {},
     "output_type": "execute_result"
    }
   ],
   "source": [
    "qs.first() # 모델객체 을 반환한다."
   ]
  },
  {
   "cell_type": "code",
   "execution_count": 13,
   "id": "63d87373",
   "metadata": {},
   "outputs": [
    {
     "data": {
      "text/plain": [
       "<Question: 좋아하는 동물은 무엇입니까?>"
      ]
     },
     "execution_count": 13,
     "metadata": {},
     "output_type": "execute_result"
    }
   ],
   "source": [
    "qs.last() "
   ]
  },
  {
   "cell_type": "code",
   "execution_count": 14,
   "id": "e9bcfe19",
   "metadata": {},
   "outputs": [
    {
     "name": "stdout",
     "output_type": "stream",
     "text": [
      "<QuerySet [<Choice: 검정색>, <Choice: 파란색>, <Choice: 빨간색>, <Choice: 미국>, <Choice: 영국>, <Choice: 브라질>, <Choice: 프랑스>, <Choice: 이탈리아>, <Choice: 고양이>, <Choice: 호랑이>, <Choice: 사자>]>\n"
     ]
    }
   ],
   "source": [
    "qs = Choice.objects.all()\n",
    "print(qs)"
   ]
  },
  {
   "cell_type": "code",
   "execution_count": 15,
   "id": "e3b760aa",
   "metadata": {},
   "outputs": [
    {
     "data": {
      "text/plain": [
       "<QuerySet [<Choice: 검정색>, <Choice: 고양이>, <Choice: 미국>, <Choice: 브라질>, <Choice: 빨간색>, <Choice: 사자>, <Choice: 영국>, <Choice: 이탈리아>, <Choice: 파란색>, <Choice: 프랑스>, <Choice: 호랑이>]>"
      ]
     },
     "execution_count": 15,
     "metadata": {},
     "output_type": "execute_result"
    }
   ],
   "source": [
    "qs.order_by('choice_text')  # Asc 오름차순"
   ]
  },
  {
   "cell_type": "code",
   "execution_count": 16,
   "id": "201ed8f7",
   "metadata": {},
   "outputs": [
    {
     "data": {
      "text/plain": [
       "<QuerySet [<Choice: 호랑이>, <Choice: 프랑스>, <Choice: 파란색>, <Choice: 이탈리아>, <Choice: 영국>, <Choice: 사자>, <Choice: 빨간색>, <Choice: 브라질>, <Choice: 미국>, <Choice: 고양이>, <Choice: 검정색>]>"
      ]
     },
     "execution_count": 16,
     "metadata": {},
     "output_type": "execute_result"
    }
   ],
   "source": [
    "qs.order_by('-choice_text') # 내림차순."
   ]
  },
  {
   "cell_type": "code",
   "execution_count": 17,
   "id": "74915a7d",
   "metadata": {},
   "outputs": [
    {
     "data": {
      "text/plain": [
       "<QuerySet [<Choice: 검정색>, <Choice: 고양이>, <Choice: 미국>, <Choice: 브라질>, <Choice: 빨간색>, <Choice: 사자>, <Choice: 영국>, <Choice: 이탈리아>, <Choice: 파란색>, <Choice: 프랑스>, <Choice: 호랑이>]>"
      ]
     },
     "execution_count": 17,
     "metadata": {},
     "output_type": "execute_result"
    }
   ],
   "source": [
    "qs = Choice.objects.all().order_by('choice_text')\n",
    "qs"
   ]
  },
  {
   "cell_type": "code",
   "execution_count": 18,
   "id": "7cae58e4",
   "metadata": {},
   "outputs": [
    {
     "name": "stdout",
     "output_type": "stream",
     "text": [
      "SELECT \"polls_choice\".\"id\", \"polls_choice\".\"choice_text\", \"polls_choice\".\"vote\", \"polls_choice\".\"question_id\" FROM \"polls_choice\" ORDER BY \"polls_choice\".\"choice_text\" ASC\n"
     ]
    }
   ],
   "source": [
    "print(qs.query)"
   ]
  },
  {
   "cell_type": "code",
   "execution_count": 20,
   "id": "efe2b5e2",
   "metadata": {},
   "outputs": [
    {
     "name": "stdout",
     "output_type": "stream",
     "text": [
      "<class 'polls.models.Choice'>\n",
      "검정색\n"
     ]
    }
   ],
   "source": [
    "c=qs.first() # 모델 클래스의 객체가 넘어옴.\n",
    "print(type(c))\n",
    "print(c)"
   ]
  },
  {
   "cell_type": "code",
   "execution_count": 21,
   "id": "be6a6d8a",
   "metadata": {},
   "outputs": [
    {
     "name": "stdout",
     "output_type": "stream",
     "text": [
      "1 검정색 10 1\n"
     ]
    }
   ],
   "source": [
    "# 조회한 모델의 속성을 조회 -> 특정 컬럼값 조회 -> . 표기법\n",
    "# Choice : id(pk), choice_text, vote, question_id\n",
    "print(c.id, c.choice_text, c.vote, c.question_id)"
   ]
  },
  {
   "cell_type": "code",
   "execution_count": 22,
   "id": "01e0ff81",
   "metadata": {
    "collapsed": true
   },
   "outputs": [
    {
     "name": "stdout",
     "output_type": "stream",
     "text": [
      "1\t검정색\t10\t1\n",
      "9\t고양이\t0\t4\n",
      "4\t미국\t0\t3\n",
      "6\t브라질\t0\t3\n",
      "3\t빨간색\t0\t1\n",
      "11\t사자\t0\t4\n",
      "5\t영국\t0\t3\n",
      "8\t이탈리아\t0\t3\n",
      "2\t파란색\t0\t1\n",
      "7\t프랑스\t0\t3\n",
      "10\t호랑이\t0\t4\n"
     ]
    }
   ],
   "source": [
    "for c in qs:\n",
    "    print(c.id, c.choice_text, c.vote, c.question_id, sep ='\\t')"
   ]
  },
  {
   "cell_type": "markdown",
   "id": "0e74917f",
   "metadata": {},
   "source": [
    "# where 절\n",
    " - filter(조회조건)\n",
    "     - 조회조건을 만족하는 0개 이상의 행을 조회\n",
    " - exclude(조회조건)\n",
    "     - filter의 반대. 조회 조건을 만족하지 않는 0개이상의 행을 조회 (not)\n",
    " - get(조회조건)\n",
    "     - 조회조건을 만족하는 1개 행을 조회\n",
    " - filter/exclude : QuerySet으로 반환\n",
    " - get: Model 객체를 반환"
   ]
  },
  {
   "cell_type": "code",
   "execution_count": null,
   "id": "76c0171d",
   "metadata": {},
   "outputs": [],
   "source": [
    "# Where 절\n",
    "qs = Question.objects.filter(id = 1)\n",
    "#primary key 컬럼 조회: 컬럼명, pk\n",
    "qs = Question.objects.filter(pk = 1)  # id는 컬럼 명대신 pk를 써도됨 primary key 니까~!\n",
    "qs"
   ]
  },
  {
   "cell_type": "code",
   "execution_count": null,
   "id": "801e9435",
   "metadata": {},
   "outputs": [],
   "source": [
    "print(qs.first().pub_date)  # 쿼리셋에는.pub_date 가 없고 모델에 있는 것이기 때문에 .first()를해서 모델을 반환받고 거기에 .pub_date를 해야함."
   ]
  },
  {
   "cell_type": "code",
   "execution_count": null,
   "id": "5f3f81d4",
   "metadata": {},
   "outputs": [],
   "source": [
    "quest = Question.objects.get(pk = 1)  # get() : pk로 조회 할때 사용\n",
    "print(type(quest))"
   ]
  },
  {
   "cell_type": "code",
   "execution_count": null,
   "id": "8518820d",
   "metadata": {},
   "outputs": [],
   "source": [
    "try:\n",
    "    r = Question.objects.get(pk =2)   #없는것을 할땐 exception이 난다.\n",
    "    print(r.pub_date)\n",
    "except: \n",
    "    print('조회 결과 없음')"
   ]
  },
  {
   "cell_type": "code",
   "execution_count": null,
   "id": "c7c2da5b",
   "metadata": {},
   "outputs": [],
   "source": [
    "Question.objects.get(id__gt=1)  # id>1  // get은 무조건 조회 결과가 1개여야 한다. 2개 이상일 경우 예외 발생."
   ]
  },
  {
   "cell_type": "code",
   "execution_count": null,
   "id": "44d0741d",
   "metadata": {},
   "outputs": [],
   "source": [
    "# 조회조건\n",
    "#qs = Choice.objects.filter(id__gt=3) # id>3  // gt : 보다 큰것 , lt 작은것\n",
    "qs = Choice.objects.filter(id__gte=5) # 크거나 같음\n",
    "qs = Choice.objects.filter(id__lt=5) # 작은검\n",
    "qs = Choice.objects.filter(id__lte=5)\n",
    "for q in qs:\n",
    "    print(q.id, q.choice_text)"
   ]
  },
  {
   "cell_type": "code",
   "execution_count": null,
   "id": "d98758d1",
   "metadata": {},
   "outputs": [],
   "source": [
    "#qs = Question.objects.filter(question_text__startswith ='가고') # q_t like '가고%'  가고로 시작 되는\n",
    "#qs = Question.objects.filter(question_text__endswith ='하세요.')   # q_t like  '%하세요.' 하세요로 끝나는\n",
    "qs = Question.objects.filter(question_text__contains ='하는') # q_t like '%하는%'\n",
    "print(qs.query)\n",
    "for q in qs:\n",
    "    print(q.id, q.question_text)\n"
   ]
  },
  {
   "cell_type": "code",
   "execution_count": null,
   "id": "3fe65344",
   "metadata": {},
   "outputs": [],
   "source": [
    "#qs = Choice.objects.filter(id__in=[2,6,7,20]) # where id in [2,6,7,20]\n",
    "qs = Choice.objects.filter(id__range=(3,7)) # between 3 and 7   '='들어가야함.. pdf 오타임_!\n",
    "print(qs.query)\n",
    "for q in qs:\n",
    "    print(q.id, q.choice_text)"
   ]
  },
  {
   "cell_type": "markdown",
   "id": "20c03847",
   "metadata": {},
   "source": [
    "# and조건"
   ]
  },
  {
   "cell_type": "code",
   "execution_count": null,
   "id": "0b14eb94",
   "metadata": {},
   "outputs": [],
   "source": [
    "qs = Choice.objects.filter(pk=3, choice_text ='빨간색') # and\n",
    "qs.first().id, qs.first().choice_text"
   ]
  },
  {
   "cell_type": "code",
   "execution_count": null,
   "id": "2cfb00f4",
   "metadata": {},
   "outputs": [],
   "source": [
    "qs = Choice.objects.filter(pk__lt=5, choice_text__contains = '색')\n",
    "for q in qs:\n",
    "    print(q.id, q.choice_text)"
   ]
  },
  {
   "cell_type": "markdown",
   "id": "7cb49857",
   "metadata": {},
   "source": [
    "# or 조건"
   ]
  },
  {
   "cell_type": "code",
   "execution_count": null,
   "id": "a84689ea",
   "metadata": {},
   "outputs": [],
   "source": [
    "from django.db.models import Q"
   ]
  },
  {
   "cell_type": "code",
   "execution_count": null,
   "id": "24c32e9c",
   "metadata": {},
   "outputs": [],
   "source": [
    "# qs = Choice.objects.filter(Q(pk__gt=5)|Q(choice_text__contains = '색'))\n",
    "# qs = Choice.objects.filter(Q(pk__gt=5)|~Q(choice_text__contains = '색'))\n",
    "qs = Choice.objects.filter(~Q(pk=5))  #--> 결국 exclude 쓰면 됨..\n",
    "print(qs.query)\n",
    "for q in qs:\n",
    "    print(q.id, q.choice_text)"
   ]
  },
  {
   "cell_type": "code",
   "execution_count": null,
   "id": "69950aa9",
   "metadata": {},
   "outputs": [],
   "source": [
    "# qs = Choice.objects.exclude(pk=5)\n",
    "qs = Choice.objects.exclude(pk__lt=5)\n",
    "\n",
    "print(qs.query) # query 속성: 생성된 sql문을 확인 할 수 있다.\n",
    "for q in qs:\n",
    "    print(q.id, q.choice_text)"
   ]
  },
  {
   "cell_type": "markdown",
   "id": "2891e2f0",
   "metadata": {},
   "source": [
    "## 컬럼 선택\n",
    "select 컬럼, 컬럼\n",
    " - values(field이름,... )\n",
    "     - 개별 조회결과를 Dictionary에 넣어서 반환"
   ]
  },
  {
   "cell_type": "code",
   "execution_count": 13,
   "id": "e4210267",
   "metadata": {},
   "outputs": [
    {
     "name": "stdout",
     "output_type": "stream",
     "text": [
      "SELECT \"polls_choice\".\"choice_text\", \"polls_choice\".\"vote\" FROM \"polls_choice\"\n",
      "검정색 10 {'choice_text': '검정색', 'vote': 10}\n",
      "파란색 0 {'choice_text': '파란색', 'vote': 0}\n",
      "빨간색 0 {'choice_text': '빨간색', 'vote': 0}\n",
      "미국 0 {'choice_text': '미국', 'vote': 0}\n",
      "영국 0 {'choice_text': '영국', 'vote': 0}\n",
      "브라질 0 {'choice_text': '브라질', 'vote': 0}\n",
      "프랑스 0 {'choice_text': '프랑스', 'vote': 0}\n",
      "이탈리아 0 {'choice_text': '이탈리아', 'vote': 0}\n",
      "고양이 0 {'choice_text': '고양이', 'vote': 0}\n",
      "호랑이 0 {'choice_text': '호랑이', 'vote': 0}\n",
      "사자 0 {'choice_text': '사자', 'vote': 0}\n"
     ]
    }
   ],
   "source": [
    "qs = Choice.objects.all().values('choice_text', 'vote')#.order_by('-vote') #쿼리문을 만드는 과정이고,쿼리문 만들기만 한거다.\n",
    "print(qs.query) #- > qs.query를 통해서 쿼리문을 확인 할수 있음\n",
    "for q in qs: # 값을 가져오는 시점에 쿼리문이 처리된것이다.\n",
    "    print(q['choice_text'], q['vote'],q)"
   ]
  },
  {
   "cell_type": "code",
   "execution_count": 16,
   "id": "61d1544f",
   "metadata": {},
   "outputs": [
    {
     "name": "stdout",
     "output_type": "stream",
     "text": [
      "SELECT \"polls_choice\".\"choice_text\", \"polls_choice\".\"vote\" FROM \"polls_choice\"\n"
     ]
    }
   ],
   "source": [
    "qs = Choice.objects.all() #쿼리문을 만들기만 한것이다.\n",
    "qs2 = qs.values('choice_text', 'vote')\n",
    "print(qs2.query)"
   ]
  },
  {
   "cell_type": "markdown",
   "id": "901b4c4e",
   "metadata": {},
   "source": [
    "# 집계\n",
    "- 단순 집계\n",
    "    - aggregate(집계함수(),...)\n",
    "- Group by 집계\n",
    "    - values(그룹으로 묶을 컬럼).annotate(집게함수(),...)\n",
    "- 결과를 dictionary 로 반환"
   ]
  },
  {
   "cell_type": "code",
   "execution_count": 27,
   "id": "29d9d9ce",
   "metadata": {},
   "outputs": [
    {
     "data": {
      "text/plain": [
       "(2, 2)"
      ]
     },
     "execution_count": 27,
     "metadata": {},
     "output_type": "execute_result"
    }
   ],
   "source": [
    "# 조회결과 행수 조회\n",
    "qs = Choice.objects.all()\n",
    "qs = Choice.objects.filter(id__lt=3)\n",
    "len(qs), qs.count()  #-> 집계함수가 아니고 그냥 count함수이다. != Count"
   ]
  },
  {
   "cell_type": "code",
   "execution_count": 29,
   "id": "905e16c8",
   "metadata": {},
   "outputs": [],
   "source": [
    "from django.db.models import Count, Sum, Avg, Min, Max, StdDev, Variance"
   ]
  },
  {
   "cell_type": "code",
   "execution_count": 32,
   "id": "de619e84",
   "metadata": {},
   "outputs": [
    {
     "name": "stdout",
     "output_type": "stream",
     "text": [
      "<class 'dict'>\n"
     ]
    },
    {
     "data": {
      "text/plain": [
       "{'id__count': 11,\n",
       " 'choice_text__count': 11,\n",
       " 'vote__sum': 388,\n",
       " 'vote__avg': 35.27272727272727,\n",
       " 'vote__min': 0,\n",
       " 'vote__max': 209,\n",
       " 'vote__stddev': 59.728310493267465,\n",
       " 'vote__variance': 3567.4710743801647}"
      ]
     },
     "execution_count": 32,
     "metadata": {},
     "output_type": "execute_result"
    }
   ],
   "source": [
    "# dic = Choice.objects.aggregate(Count('id')) # select count(id) from choice\n",
    "dic = Choice.objects.aggregate(Count('id'), Count('choice_text'), Sum('vote'), \n",
    "                               Avg('vote'), Min('vote'),Max('vote'), StdDev('vote'),Variance('vote'))\n",
    "print(type(dic))\n",
    "dic"
   ]
  },
  {
   "cell_type": "code",
   "execution_count": 34,
   "id": "e538d7b6",
   "metadata": {},
   "outputs": [
    {
     "data": {
      "text/plain": [
       "{'pub_date__min': datetime.datetime(2021, 5, 25, 5, 18, 48, 100019, tzinfo=<UTC>),\n",
       " 'pub_date__max': datetime.datetime(2021, 5, 25, 5, 26, 14, 623959, tzinfo=<UTC>)}"
      ]
     },
     "execution_count": 34,
     "metadata": {},
     "output_type": "execute_result"
    }
   ],
   "source": [
    "dic =Question.objects.aggregate(Min('pub_date'),Max('pub_date'))\n",
    "# dic.query  -> 반환값이 딕셔너리라서 쿼리문 조회 못함..\n",
    "dic"
   ]
  },
  {
   "cell_type": "code",
   "execution_count": 36,
   "id": "d76fff4f",
   "metadata": {},
   "outputs": [
    {
     "name": "stdout",
     "output_type": "stream",
     "text": [
      "2021-05-25 05:18:48.100019+00:00\n"
     ]
    },
    {
     "data": {
      "text/plain": [
       "'2021년 05월 25일'"
      ]
     },
     "execution_count": 36,
     "metadata": {},
     "output_type": "execute_result"
    }
   ],
   "source": [
    "print(dic['pub_date__min'])\n",
    "dic['pub_date__max'].strftime('%Y년 %m월 %d일')  # 원하는 것만 형식으로 갖고올때 strftime 으로 만들어 주면됨.."
   ]
  },
  {
   "cell_type": "code",
   "execution_count": 38,
   "id": "ac7106e9",
   "metadata": {},
   "outputs": [
    {
     "data": {
      "text/plain": [
       "{'vote__sum': 126}"
      ]
     },
     "execution_count": 38,
     "metadata": {},
     "output_type": "execute_result"
    }
   ],
   "source": [
    "# where +집계\n",
    "dic = Choice.objects.filter(id__gt =5).aggregate(Sum('vote'))\n",
    "dic  # 필터를 통해서 where절 을 뽑고 그것들만 집계할때 "
   ]
  },
  {
   "cell_type": "code",
   "execution_count": 42,
   "id": "da3763f2",
   "metadata": {},
   "outputs": [
    {
     "data": {
      "text/plain": [
       "<QuerySet [{'question_id': 1, 'vote__sum': 45, 'vote__avg': 15.0}, {'question_id': 3, 'vote__sum': 322, 'vote__avg': 64.4}, {'question_id': 4, 'vote__sum': 21, 'vote__avg': 7.0}]>"
      ]
     },
     "execution_count": 42,
     "metadata": {},
     "output_type": "execute_result"
    }
   ],
   "source": [
    "# group by \n",
    "# choice -> 질문별 vote의 합계, 평균\n",
    "# 그룹별 집계 : dictionary , 최종 반환: QuerySet\n",
    "qs = Choice.objects.values('question_id').annotate(Sum('vote'), Avg('vote'))\n",
    "qs"
   ]
  },
  {
   "cell_type": "code",
   "execution_count": 45,
   "id": "bfb64eb3",
   "metadata": {},
   "outputs": [
    {
     "name": "stdout",
     "output_type": "stream",
     "text": [
      "질문: 1, 투표합계:45, 투표평균: 15.0\n",
      "질문: 3, 투표합계:322, 투표평균: 64.4\n",
      "질문: 4, 투표합계:21, 투표평균: 7.0\n"
     ]
    }
   ],
   "source": [
    "for d in qs:\n",
    "    print(f\"질문: {d['question_id']}, 투표합계:{d['vote__sum']}, 투표평균: {d['vote__avg']}\")\n",
    "    "
   ]
  },
  {
   "cell_type": "markdown",
   "id": "d2b6f975",
   "metadata": {},
   "source": [
    "# 테이블 간의 관계\n",
    "\n"
   ]
  },
  {
   "cell_type": "markdown",
   "id": "3a290916",
   "metadata": {},
   "source": [
    "## 자식 테이블에서 부모 테이블의 값을 조회"
   ]
  },
  {
   "cell_type": "code",
   "execution_count": 48,
   "id": "8fa70c24",
   "metadata": {},
   "outputs": [
    {
     "name": "stdout",
     "output_type": "stream",
     "text": [
      "빨간색 <class 'polls.models.Choice'>\n"
     ]
    }
   ],
   "source": [
    "c1 = Choice.objects.get(pk= 3)\n",
    "c1    # c1 : Choice 모델 객체 \n",
    "print(c1, type(c1))"
   ]
  },
  {
   "cell_type": "code",
   "execution_count": 52,
   "id": "0fb74555",
   "metadata": {},
   "outputs": [
    {
     "data": {
      "text/plain": [
       "(3, 3, '빨간색', 20, 1)"
      ]
     },
     "execution_count": 52,
     "metadata": {},
     "output_type": "execute_result"
    }
   ],
   "source": [
    "# 모델에서 속성들 조회 -> 각 컬럼들 값 조회 //c1.question_id 질문 id\n",
    "c1.id, c1.pk, c1.choice_text, c1.vote, c1.question_id"
   ]
  },
  {
   "cell_type": "code",
   "execution_count": 56,
   "id": "fc49e603",
   "metadata": {},
   "outputs": [
    {
     "data": {
      "text/plain": [
       "(polls.models.Question, <Question: 좋아하는 색깔은 무엇입니까?>)"
      ]
     },
     "execution_count": 56,
     "metadata": {},
     "output_type": "execute_result"
    }
   ],
   "source": [
    "q1 = c1.question  # 부모 모델 객체를 차\n",
    "type(q1), q1"
   ]
  },
  {
   "cell_type": "code",
   "execution_count": 57,
   "id": "223ea5be",
   "metadata": {},
   "outputs": [
    {
     "name": "stdout",
     "output_type": "stream",
     "text": [
      "좋아하는 색깔은 무엇입니까? 2021-05-25 05:18:48.100019+00:00\n"
     ]
    }
   ],
   "source": [
    "print(q1.question_text, q1.pub_date)"
   ]
  },
  {
   "cell_type": "markdown",
   "id": "f10231b1",
   "metadata": {},
   "source": [
    "## 부모테이블에서 자식테이블 값을 조회\n"
   ]
  },
  {
   "cell_type": "code",
   "execution_count": 72,
   "id": "fff5dab7",
   "metadata": {},
   "outputs": [
    {
     "data": {
      "text/plain": [
       "(polls.models.Question, <Question: 가고 싶은 나라를 선택하세요.>)"
      ]
     },
     "execution_count": 72,
     "metadata": {},
     "output_type": "execute_result"
    }
   ],
   "source": [
    "q = Question.objects.get(pk=3)\n",
    "type(q), q"
   ]
  },
  {
   "cell_type": "code",
   "execution_count": 73,
   "id": "1f44eb6e",
   "metadata": {},
   "outputs": [
    {
     "data": {
      "text/plain": [
       "(3,\n",
       " '가고 싶은 나라를 선택하세요.',\n",
       " datetime.datetime(2021, 5, 25, 5, 20, 51, 726904, tzinfo=<UTC>))"
      ]
     },
     "execution_count": 73,
     "metadata": {},
     "output_type": "execute_result"
    }
   ],
   "source": [
    "q.id, q.question_text, q.pub_date"
   ]
  },
  {
   "cell_type": "code",
   "execution_count": 74,
   "id": "20a76a50",
   "metadata": {},
   "outputs": [
    {
     "data": {
      "text/plain": [
       "<QuerySet [<Choice: 미국>, <Choice: 영국>, <Choice: 브라질>, <Choice: 프랑스>, <Choice: 이탈리아>]>"
      ]
     },
     "execution_count": 74,
     "metadata": {},
     "output_type": "execute_result"
    }
   ],
   "source": [
    "Choice.objects.filter(question_id=3) "
   ]
  },
  {
   "cell_type": "code",
   "execution_count": 76,
   "id": "e2f4c26e",
   "metadata": {},
   "outputs": [
    {
     "name": "stdout",
     "output_type": "stream",
     "text": [
      "<class 'django.db.models.fields.related_descriptors.create_reverse_many_to_one_manager.<locals>.RelatedManager'>\n"
     ]
    }
   ],
   "source": [
    "c= q.choice_set # id 3번 질문의 보기들만 조회됨.. \n",
    "print(type(c)) #RelatedManager -> choice_set , objects(모든것) 가 비슷한 역할 이지만 choice_set은 q와 연결되있는 것만 갖고 "
   ]
  },
  {
   "cell_type": "code",
   "execution_count": 66,
   "id": "6fedb907",
   "metadata": {},
   "outputs": [
    {
     "data": {
      "text/plain": [
       "<QuerySet [<Choice: 미국>, <Choice: 영국>, <Choice: 브라질>, <Choice: 프랑스>, <Choice: 이탈리아>]>"
      ]
     },
     "execution_count": 66,
     "metadata": {},
     "output_type": "execute_result"
    }
   ],
   "source": [
    "c.all()  #->여기 안에서만 찾는.. "
   ]
  },
  {
   "cell_type": "code",
   "execution_count": 69,
   "id": "3c679268",
   "metadata": {},
   "outputs": [
    {
     "data": {
      "text/plain": [
       "<QuerySet [<Choice: 미국>]>"
      ]
     },
     "execution_count": 69,
     "metadata": {},
     "output_type": "execute_result"
    }
   ],
   "source": [
    "c.filter(choice_text ='미국')  "
   ]
  },
  {
   "cell_type": "markdown",
   "id": "7dda2844",
   "metadata": {},
   "source": [
    "# insert / update /delete\n",
    "- insert/ update\n",
    "    - 모델객체(insert할 내용을가진).save()\n",
    "- delete\n",
    "    - 모델객체(삭제할 pk를 가진).delete()  -> 무조건 pk가 같은 값만.. 삭제"
   ]
  },
  {
   "cell_type": "code",
   "execution_count": 77,
   "id": "b5107352",
   "metadata": {},
   "outputs": [
    {
     "name": "stdout",
     "output_type": "stream",
     "text": [
      "1\n",
      "3\n",
      "4\n"
     ]
    }
   ],
   "source": [
    "#insert\n",
    "qs = Question.objects.all()\n",
    "for q in qs:\n",
    "    print(q.pk)"
   ]
  },
  {
   "cell_type": "code",
   "execution_count": 78,
   "id": "ad87bd0a",
   "metadata": {},
   "outputs": [],
   "source": [
    "from datetime import datetime, timedelta"
   ]
  },
  {
   "cell_type": "code",
   "execution_count": 83,
   "id": "04632135",
   "metadata": {},
   "outputs": [
    {
     "data": {
      "text/plain": [
       "('좋아하는 꽃은?', datetime.datetime(2021, 5, 26, 11, 24, 7, 811510), 2)"
      ]
     },
     "execution_count": 83,
     "metadata": {},
     "output_type": "execute_result"
    }
   ],
   "source": [
    "# pk : id - 자동 증가 (생략가능)\n",
    "new_q = Question()\n",
    "#new_q.id = 2  # 자동 증가로 했을 경우는 넣지 않는 것이좋다.\n",
    "new_q.question_text=\"좋아하는 꽃은?\"\n",
    "new_q.pub_date = datetime.now()\n",
    "new_q.question_text, new_q.pub_date, new_q.pk"
   ]
  },
  {
   "cell_type": "code",
   "execution_count": 84,
   "id": "c420b3a9",
   "metadata": {},
   "outputs": [
    {
     "name": "stderr",
     "output_type": "stream",
     "text": [
      "c:\\users\\playdata\\anaconda3\\envs\\django\\lib\\site-packages\\django\\db\\models\\fields\\__init__.py:1416: RuntimeWarning: DateTimeField Question.pub_date received a naive datetime (2021-05-26 11:24:07.811510) while time zone support is active.\n",
      "  warnings.warn(\"DateTimeField %s received a naive datetime (%s)\"\n"
     ]
    }
   ],
   "source": [
    "new_q.save()"
   ]
  },
  {
   "cell_type": "code",
   "execution_count": 85,
   "id": "f8f7bee3",
   "metadata": {},
   "outputs": [
    {
     "name": "stdout",
     "output_type": "stream",
     "text": [
      "1 좋아하는 색깔은 무엇입니까? 2021-05-25 05:18:48.100019+00:00\n",
      "2 좋아하는 꽃은? 2021-05-26 02:24:08.705905+00:00\n",
      "3 가고 싶은 나라를 선택하세요. 2021-05-25 05:20:51.726904+00:00\n",
      "4 좋아하는 동물은 무엇입니까? 2021-05-25 05:26:14.623959+00:00\n",
      "5 좋아하는 가수는? 2021-05-26 02:22:43.934556+00:00\n"
     ]
    }
   ],
   "source": [
    "#insert\n",
    "qs = Question.objects.all()\n",
    "for q in qs:\n",
    "    print(q.pk, q.question_text, q.pub_date)  # new_q가 insert됨"
   ]
  },
  {
   "cell_type": "code",
   "execution_count": 94,
   "id": "03b24f9a",
   "metadata": {},
   "outputs": [
    {
     "name": "stdout",
     "output_type": "stream",
     "text": [
      "2 좋아하는 꽃은 무엇입니까? 2021-02-15 11:29:58.307422\n"
     ]
    },
    {
     "name": "stderr",
     "output_type": "stream",
     "text": [
      "c:\\users\\playdata\\anaconda3\\envs\\django\\lib\\site-packages\\django\\db\\models\\fields\\__init__.py:1416: RuntimeWarning: DateTimeField Question.pub_date received a naive datetime (2021-02-15 11:29:58.307422) while time zone support is active.\n",
      "  warnings.warn(\"DateTimeField %s received a naive datetime (%s)\"\n"
     ]
    }
   ],
   "source": [
    "q = Question.objects.get(pk=2)\n",
    "q.question_text =\"좋아하는 꽃은 무엇입니까?\"\n",
    "q.pub_date = datetime.now() - timedelta(days = 100 ) # \n",
    "print(q.id, q.question_text, q.pub_date)\n",
    "q.save()"
   ]
  },
  {
   "cell_type": "code",
   "execution_count": 96,
   "id": "1f841543",
   "metadata": {},
   "outputs": [
    {
     "name": "stdout",
     "output_type": "stream",
     "text": [
      "1 좋아하는 색깔은 무엇입니까? 2021-05-25 05:18:48.100019+00:00\n",
      "2 좋아하는 꽃은 무엇입니까? 2021-02-15 02:29:58.307422+00:00\n",
      "3 가고 싶은 나라를 선택하세요. 2021-05-25 05:20:51.726904+00:00\n",
      "4 좋아하는 동물은 무엇입니까? 2021-05-25 05:26:14.623959+00:00\n",
      "5 좋아하는 가수는? 2021-05-26 02:22:43.934556+00:00\n"
     ]
    }
   ],
   "source": [
    "qs = Question.objects.all()\n",
    "for q in qs:\n",
    "    print(q.pk, q.question_text, q.pub_date)  # update됨"
   ]
  },
  {
   "cell_type": "code",
   "execution_count": 97,
   "id": "dbfad77a",
   "metadata": {},
   "outputs": [
    {
     "data": {
      "text/plain": [
       "(2, '', None)"
      ]
     },
     "execution_count": 97,
     "metadata": {},
     "output_type": "execute_result"
    }
   ],
   "source": [
    "# 삭제  - 무조건 pk 갖고만 삭제를 할 수있다.\n",
    "d_q = Question()\n",
    "d_q.id = 2\n",
    "d_q.id, d_q.question_text, d_q.pub_date"
   ]
  },
  {
   "cell_type": "code",
   "execution_count": 98,
   "id": "5c1b3417",
   "metadata": {},
   "outputs": [
    {
     "data": {
      "text/plain": [
       "(1, {'polls.Question': 1})"
      ]
     },
     "execution_count": 98,
     "metadata": {},
     "output_type": "execute_result"
    }
   ],
   "source": [
    "d_q.delete()"
   ]
  },
  {
   "cell_type": "code",
   "execution_count": 99,
   "id": "7c5336a2",
   "metadata": {},
   "outputs": [
    {
     "name": "stdout",
     "output_type": "stream",
     "text": [
      "1 좋아하는 색깔은 무엇입니까? 2021-05-25 05:18:48.100019+00:00\n",
      "3 가고 싶은 나라를 선택하세요. 2021-05-25 05:20:51.726904+00:00\n",
      "4 좋아하는 동물은 무엇입니까? 2021-05-25 05:26:14.623959+00:00\n",
      "5 좋아하는 가수는? 2021-05-26 02:22:43.934556+00:00\n"
     ]
    }
   ],
   "source": [
    "qs = Question.objects.all()\n",
    "for q in qs:\n",
    "    print(q.pk, q.question_text, q.pub_date)  # update됨"
   ]
  },
  {
   "cell_type": "code",
   "execution_count": 100,
   "id": "f799e4a7",
   "metadata": {},
   "outputs": [
    {
     "data": {
      "text/plain": [
       "<QuerySet [<Choice: 검정색>, <Choice: 파란색>, <Choice: 빨간색>, <Choice: 미국>, <Choice: 영국>, <Choice: 브라질>, <Choice: 프랑스>, <Choice: 이탈리아>, <Choice: 고양이>, <Choice: 호랑이>, <Choice: 사자>]>"
      ]
     },
     "execution_count": 100,
     "metadata": {},
     "output_type": "execute_result"
    }
   ],
   "source": [
    "Choice.objects.all()"
   ]
  },
  {
   "cell_type": "code",
   "execution_count": 102,
   "id": "a5d2a534",
   "metadata": {},
   "outputs": [
    {
     "name": "stdout",
     "output_type": "stream",
     "text": [
      "검정색\n",
      "파란색\n",
      "빨간색\n"
     ]
    }
   ],
   "source": [
    "# 특정조건의 데이터들을 삭제하고 싶다 -> 초회를 제일 먼저해야함\n",
    "# choice_text에 '색'이들어간 것들 삭제\n",
    "qs = Choice.objects.filter(choice_text__endswith ='색')\n",
    "for q in qs:\n",
    "    print(q)  # q가 객체 니까 \n",
    "    q.delete()"
   ]
  },
  {
   "cell_type": "code",
   "execution_count": 103,
   "id": "92515bc7",
   "metadata": {},
   "outputs": [
    {
     "data": {
      "text/plain": [
       "<QuerySet [<Choice: 미국>, <Choice: 영국>, <Choice: 브라질>, <Choice: 프랑스>, <Choice: 이탈리아>, <Choice: 고양이>, <Choice: 호랑이>, <Choice: 사자>]>"
      ]
     },
     "execution_count": 103,
     "metadata": {},
     "output_type": "execute_result"
    }
   ],
   "source": [
    "Choice.objects.all()"
   ]
  },
  {
   "cell_type": "markdown",
   "id": "8551c8c7",
   "metadata": {},
   "source": [
    "# 직접 SQL문을 실행\n",
    "- 모델.objects.raw('select문')\n",
    "    - RawQuerySet"
   ]
  },
  {
   "cell_type": "code",
   "execution_count": 104,
   "id": "001728ef",
   "metadata": {},
   "outputs": [
    {
     "data": {
      "text/plain": [
       "<RawQuerySet: select * from polls_choice>"
      ]
     },
     "execution_count": 104,
     "metadata": {},
     "output_type": "execute_result"
    }
   ],
   "source": [
    "rq =Choice.objects.raw('select * from polls_choice')\n",
    "rq"
   ]
  },
  {
   "cell_type": "code",
   "execution_count": 106,
   "id": "cad283da",
   "metadata": {},
   "outputs": [
    {
     "name": "stdout",
     "output_type": "stream",
     "text": [
      "미국 <class 'polls.models.Choice'>\n",
      "영국 <class 'polls.models.Choice'>\n",
      "브라질 <class 'polls.models.Choice'>\n",
      "프랑스 <class 'polls.models.Choice'>\n",
      "이탈리아 <class 'polls.models.Choice'>\n",
      "고양이 <class 'polls.models.Choice'>\n",
      "호랑이 <class 'polls.models.Choice'>\n",
      "사자 <class 'polls.models.Choice'>\n"
     ]
    }
   ],
   "source": [
    "for q in rq:\n",
    "    print(q, type(q))"
   ]
  },
  {
   "cell_type": "code",
   "execution_count": null,
   "id": "e1d2948e",
   "metadata": {},
   "outputs": [],
   "source": []
  },
  {
   "cell_type": "code",
   "execution_count": null,
   "id": "6906388e",
   "metadata": {},
   "outputs": [],
   "source": []
  },
  {
   "cell_type": "code",
   "execution_count": null,
   "id": "fcd10d68",
   "metadata": {},
   "outputs": [],
   "source": []
  },
  {
   "cell_type": "code",
   "execution_count": null,
   "id": "126f411b",
   "metadata": {},
   "outputs": [],
   "source": []
  },
  {
   "cell_type": "code",
   "execution_count": null,
   "id": "a6bd35a0",
   "metadata": {},
   "outputs": [],
   "source": []
  },
  {
   "cell_type": "code",
   "execution_count": null,
   "id": "453b6d39",
   "metadata": {},
   "outputs": [],
   "source": []
  },
  {
   "cell_type": "code",
   "execution_count": null,
   "id": "37711276",
   "metadata": {},
   "outputs": [],
   "source": []
  },
  {
   "cell_type": "code",
   "execution_count": null,
   "id": "db709aea",
   "metadata": {},
   "outputs": [],
   "source": []
  },
  {
   "cell_type": "code",
   "execution_count": null,
   "id": "e8193d7a",
   "metadata": {},
   "outputs": [],
   "source": []
  },
  {
   "cell_type": "code",
   "execution_count": null,
   "id": "45ca01b6",
   "metadata": {},
   "outputs": [],
   "source": []
  }
 ],
 "metadata": {
  "kernelspec": {
   "name": "python3810jvsc74a57bd0113fa9d96a21e4c78a8b675c93e6fa3db04e0cb8cf174594dc5ffbfcccb1d16d",
   "display_name": "Python 3.8.10 64-bit ('django': conda)"
  },
  "language_info": {
   "codemirror_mode": {
    "name": "ipython",
    "version": 3
   },
   "file_extension": ".py",
   "mimetype": "text/x-python",
   "name": "python",
   "nbconvert_exporter": "python",
   "pygments_lexer": "ipython3",
   "version": "3.8.10"
  }
 },
 "nbformat": 4,
 "nbformat_minor": 5
}