{
 "cells": [
  {
   "cell_type": "markdown",
   "id": "0d870975",
   "metadata": {},
   "source": [
    "# MVT 간단한 개념\n",
    "- 나눗셈 함수\n",
    "- 두개의 값을 받아서 나눈 다음에 결과를 올림(ceil)해서 출력"
   ]
  },
  {
   "cell_type": "code",
   "execution_count": 9,
   "id": "e906a60b",
   "metadata": {},
   "outputs": [],
   "source": [
    "import math\n",
    "def divide(num1, num2):\n",
    "    # 파라미터 값 변환/검증\n",
    "    # 변환 (num1, num2를 int(정수)로 변환)\n",
    "    num1, num2 = int(num1), int(num2)\n",
    "    # num2 가 0인지 확인 -> 0일경우 예외 발생 -> 파라미터 검증\n",
    "    if num2 ==0: \n",
    "        raise Exception('0으로는 나눌 수 없습니다.')\n",
    "        \n",
    "    #나누고 올림 작업 - Business Logic (DB작업 -> Model)\n",
    "    result = num1/num2\n",
    "    result = math.ceil(result)\n",
    "    \n",
    "    # 결과 출력 (Template)\n",
    "    print(\"=\"*50)\n",
    "    print(\"나누기 결과는 올림해서 정수로 출력합니다.\")\n",
    "    print(\"결과: {}\".format(result))\n",
    "    print('='*50)"
   ]
  },
  {
   "cell_type": "code",
   "execution_count": 12,
   "id": "28f711a8",
   "metadata": {
    "collapsed": true
   },
   "outputs": [
    {
     "ename": "Exception",
     "evalue": "0으로는 나눌 수 없습니다.",
     "output_type": "error",
     "traceback": [
      "\u001b[1;31m---------------------------------------------------------------------------\u001b[0m",
      "\u001b[1;31mException\u001b[0m                                 Traceback (most recent call last)",
      "\u001b[1;32m<ipython-input-12-9dcff4fb9fc7>\u001b[0m in \u001b[0;36m<module>\u001b[1;34m\u001b[0m\n\u001b[1;32m----> 1\u001b[1;33m \u001b[0mdivide\u001b[0m\u001b[1;33m(\u001b[0m\u001b[1;36m20\u001b[0m\u001b[1;33m,\u001b[0m\u001b[1;36m0\u001b[0m\u001b[1;33m)\u001b[0m\u001b[1;33m\u001b[0m\u001b[1;33m\u001b[0m\u001b[0m\n\u001b[0m",
      "\u001b[1;32m<ipython-input-9-c2fcb0bc6799>\u001b[0m in \u001b[0;36mdivide\u001b[1;34m(num1, num2)\u001b[0m\n\u001b[0;32m      5\u001b[0m     \u001b[1;31m# num2 가 0인지 확인 -> 0일경우 예외 발생 -> 파라미터 검증\u001b[0m\u001b[1;33m\u001b[0m\u001b[1;33m\u001b[0m\u001b[1;33m\u001b[0m\u001b[0m\n\u001b[0;32m      6\u001b[0m     \u001b[1;32mif\u001b[0m \u001b[0mnum2\u001b[0m \u001b[1;33m==\u001b[0m\u001b[1;36m0\u001b[0m\u001b[1;33m:\u001b[0m\u001b[1;33m\u001b[0m\u001b[1;33m\u001b[0m\u001b[0m\n\u001b[1;32m----> 7\u001b[1;33m         \u001b[1;32mraise\u001b[0m \u001b[0mException\u001b[0m\u001b[1;33m(\u001b[0m\u001b[1;34m'0으로는 나눌 수 없습니다.'\u001b[0m\u001b[1;33m)\u001b[0m\u001b[1;33m\u001b[0m\u001b[1;33m\u001b[0m\u001b[0m\n\u001b[0m\u001b[0;32m      8\u001b[0m \u001b[1;33m\u001b[0m\u001b[0m\n\u001b[0;32m      9\u001b[0m     \u001b[1;31m#나누고 올림 작업\u001b[0m\u001b[1;33m\u001b[0m\u001b[1;33m\u001b[0m\u001b[1;33m\u001b[0m\u001b[0m\n",
      "\u001b[1;31mException\u001b[0m: 0으로는 나눌 수 없습니다."
     ]
    }
   ],
   "source": [
    "divide(20,0)"
   ]
  },
  {
   "cell_type": "code",
   "execution_count": 10,
   "id": "7541f2d1",
   "metadata": {},
   "outputs": [
    {
     "name": "stdout",
     "output_type": "stream",
     "text": [
      "==================================================\n",
      "나누기 결과는 올림해서 정수로 출력합니다.\n",
      "결과: 5\n",
      "==================================================\n"
     ]
    }
   ],
   "source": [
    "divide(10,2)"
   ]
  },
  {
   "cell_type": "code",
   "execution_count": 11,
   "id": "62b354bf",
   "metadata": {},
   "outputs": [
    {
     "name": "stdout",
     "output_type": "stream",
     "text": [
      "==================================================\n",
      "나누기 결과는 올림해서 정수로 출력합니다.\n",
      "결과: 2\n",
      "==================================================\n"
     ]
    }
   ],
   "source": [
    "divide(\"10\",\"6\")"
   ]
  },
  {
   "cell_type": "code",
   "execution_count": 18,
   "id": "1d61c9dd",
   "metadata": {},
   "outputs": [],
   "source": [
    "def validator(num1, num2):\n",
    "     # 파라미터 값 변환/검증\n",
    "    # 변환 (num1, num2를 int(정수)로 변환)\n",
    "    num1, num2 = int(num1), int(num2)\n",
    "    # num2 가 0인지 확인 -> 0일경우 예외 발생 -> 파라미터 검증\n",
    "    if num2 ==0: \n",
    "        raise Exception('0으로는 나눌 수 없습니다.')\n",
    "    return num1, num2"
   ]
  },
  {
   "cell_type": "code",
   "execution_count": 19,
   "id": "0443fb4c",
   "metadata": {},
   "outputs": [],
   "source": [
    "def Model(num1,num2):\n",
    "    #나누고 올림 작업 - Business Logic (DB작업 -> Model)\n",
    "    result = num1/num2\n",
    "    result = math.ceil(result)\n",
    "    return result"
   ]
  },
  {
   "cell_type": "code",
   "execution_count": 23,
   "id": "f14d25c4",
   "metadata": {},
   "outputs": [],
   "source": [
    "def Template(result):\n",
    "        \n",
    "    # 결과 출력 (Template)\n",
    "    print(\"=\"*50)\n",
    "    print(\"나누기 결과는 올림해서 정수로 출력합니다.\")\n",
    "    print(\"결과: {}\".format(result))\n",
    "    print('='*50)"
   ]
  },
  {
   "cell_type": "code",
   "execution_count": 24,
   "id": "e05d1760",
   "metadata": {},
   "outputs": [],
   "source": [
    "def divideView(num1,num2):\n",
    "    num1, num2 = validator(num1,num2)\n",
    "    result = Model(num1, num2)\n",
    "    Template(result)"
   ]
  },
  {
   "cell_type": "code",
   "execution_count": null,
   "id": "76d95ddb",
   "metadata": {},
   "outputs": [],
   "source": []
  },
  {
   "cell_type": "code",
   "execution_count": null,
   "id": "d124d4b7",
   "metadata": {},
   "outputs": [],
   "source": []
  },
  {
   "cell_type": "code",
   "execution_count": null,
   "id": "7c349e60",
   "metadata": {},
   "outputs": [],
   "source": []
  },
  {
   "cell_type": "code",
   "execution_count": 25,
   "id": "47c641e1",
   "metadata": {},
   "outputs": [
    {
     "name": "stdout",
     "output_type": "stream",
     "text": [
      "==================================================\n",
      "나누기 결과는 올림해서 정수로 출력합니다.\n",
      "결과: 5\n",
      "==================================================\n"
     ]
    }
   ],
   "source": [
    "divideView(10,2)"
   ]
  },
  {
   "cell_type": "code",
   "execution_count": null,
   "id": "6624288c",
   "metadata": {},
   "outputs": [],
   "source": []
  },
  {
   "cell_type": "code",
   "execution_count": null,
   "id": "72d84485",
   "metadata": {},
   "outputs": [],
   "source": []
  },
  {
   "cell_type": "code",
   "execution_count": null,
   "id": "01b21c5e",
   "metadata": {},
   "outputs": [],
   "source": []
  },
  {
   "cell_type": "code",
   "execution_count": null,
   "id": "6a443872",
   "metadata": {},
   "outputs": [],
   "source": []
  }
 ],
 "metadata": {
  "kernelspec": {
   "display_name": "Python 3",
   "language": "python",
   "name": "python3"
  },
  "language_info": {
   "codemirror_mode": {
    "name": "ipython",
    "version": 3
   },
   "file_extension": ".py",
   "mimetype": "text/x-python",
   "name": "python",
   "nbconvert_exporter": "python",
   "pygments_lexer": "ipython3",
   "version": "3.8.10"
  }
 },
 "nbformat": 4,
 "nbformat_minor": 5
}
