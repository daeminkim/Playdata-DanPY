{
 "cells": [
  {
   "cell_type": "code",
   "execution_count": 1,
   "id": "06f2de73",
   "metadata": {},
   "outputs": [],
   "source": [
    "# django shell 환경 설정.\n",
    "import os\n",
    "import django\n",
    "os.environ['DJANGO_SETTINGS_MODULE'] = 'config.settings'\n",
    "os.environ['DJANGO_ALLOW_ASYNC_UNSAFE'] ='true'\n",
    "\n",
    "django.setup()"
   ]
  },
  {
   "cell_type": "markdown",
   "id": "9de37edc",
   "metadata": {},
   "source": [
    "# Paginator 클래스\n",
    "- 전체 페이징 처리를 관리하는 클래스\n",
    "- 전체 데이터관련 정보, 각 페이지당 보여줄 데이터의 정보 등을 제공\n",
    "\n",
    "# Page 클래스\n",
    "- 한페이지에대한 데이터를 관리\n",
    "- Paginator 가 생성해서 제공.\n",
    "- iterable 타입. 원소로 데이터를 제공.\n",
    "- Page객체.object_list 속성: 페이지가 가진 데이터들을 List로 반환"
   ]
  },
  {
   "cell_type": "code",
   "execution_count": 3,
   "id": "4413c1f1",
   "metadata": {},
   "outputs": [],
   "source": [
    "from django.core.paginator import Paginator"
   ]
  },
  {
   "cell_type": "code",
   "execution_count": 4,
   "id": "1e535d7e",
   "metadata": {},
   "outputs": [
    {
     "name": "stdout",
     "output_type": "stream",
     "text": [
      "63\n"
     ]
    },
    {
     "data": {
      "text/plain": [
       "['0', '1', '2', '3', '4']"
      ]
     },
     "execution_count": 4,
     "metadata": {},
     "output_type": "execute_result"
    }
   ],
   "source": [
    "data_list = list('0123456789abcdefghijklmnopqrstuvwxxyzABCDEFGHIJKLMNOPQRSTUVWXYZ')\n",
    "print(len(data_list))\n",
    "data_list[:5]\n",
    "#각 문자가 데이터 한개 (게시판 -> 한개의 게시물) 이라고 가정."
   ]
  },
  {
   "cell_type": "code",
   "execution_count": 5,
   "id": "d31dba4a",
   "metadata": {},
   "outputs": [],
   "source": [
    "# Paginator생성(데이터들, 한페이지에 보여줄 데이터 개수) # 데이터들: Model.objects.all()\n",
    "pn = Paginator(data_list, 5)"
   ]
  },
  {
   "cell_type": "code",
   "execution_count": 6,
   "id": "ddd58328",
   "metadata": {},
   "outputs": [
    {
     "name": "stdout",
     "output_type": "stream",
     "text": [
      "전체데이터수: 63\n"
     ]
    }
   ],
   "source": [
    "print(\"전체데이터수:\" , pn.count)"
   ]
  },
  {
   "cell_type": "code",
   "execution_count": 7,
   "id": "cd5567d1",
   "metadata": {},
   "outputs": [
    {
     "name": "stdout",
     "output_type": "stream",
     "text": [
      "총페이지수: 13\n"
     ]
    }
   ],
   "source": [
    "print(\"총페이지수:\", pn.num_pages)"
   ]
  },
  {
   "cell_type": "code",
   "execution_count": 8,
   "id": "97aaa74a",
   "metadata": {},
   "outputs": [
    {
     "name": "stdout",
     "output_type": "stream",
     "text": [
      "시작~끝 페이지의 범위: range(1, 14)\n"
     ]
    }
   ],
   "source": [
    "print(\"시작~끝 페이지의 범위:\", pn.page_range)  # end포함 안되니까 14까지 나옴.. range잖아  // range(1, pn.num_page+1)"
   ]
  },
  {
   "cell_type": "code",
   "execution_count": 9,
   "id": "38401b78",
   "metadata": {},
   "outputs": [
    {
     "name": "stdout",
     "output_type": "stream",
     "text": [
      "1\t2\t3\t4\t5\t6\t7\t8\t9\t10\t11\t12\t13\t"
     ]
    }
   ],
   "source": [
    "# page 번호를 출력\n",
    "for p in pn.page_range:\n",
    "    print(p, end= '\\t')"
   ]
  },
  {
   "cell_type": "code",
   "execution_count": 12,
   "id": "039707b0",
   "metadata": {},
   "outputs": [
    {
     "data": {
      "text/plain": [
       "(django.core.paginator.Page, <Page 1 of 13>)"
      ]
     },
     "execution_count": 12,
     "metadata": {},
     "output_type": "execute_result"
    }
   ],
   "source": [
    "# 각 페이지에 속한 데이터를 조회\n",
    "\n",
    "page1 = pn.page(1) # pn.page(페이지번호) : 해당 번호 페이지의 데이터들을 Page객체로 반환.\n",
    "type(page1), page1"
   ]
  },
  {
   "cell_type": "code",
   "execution_count": 13,
   "id": "c8bc6664",
   "metadata": {},
   "outputs": [
    {
     "data": {
      "text/plain": [
       "<Page 10 of 13>"
      ]
     },
     "execution_count": 13,
     "metadata": {},
     "output_type": "execute_result"
    }
   ],
   "source": [
    "page10 = pn.page(10)\n",
    "page10"
   ]
  },
  {
   "cell_type": "code",
   "execution_count": 14,
   "id": "e2ca7577",
   "metadata": {
    "collapsed": true
   },
   "outputs": [
    {
     "ename": "EmptyPage",
     "evalue": "해당 페이지에 결과가 없습니다.",
     "output_type": "error",
     "traceback": [
      "\u001b[1;31m---------------------------------------------------------------------------\u001b[0m",
      "\u001b[1;31mEmptyPage\u001b[0m                                 Traceback (most recent call last)",
      "\u001b[1;32m<ipython-input-14-1cffda5a1a7b>\u001b[0m in \u001b[0;36m<module>\u001b[1;34m\u001b[0m\n\u001b[1;32m----> 1\u001b[1;33m \u001b[0mpn\u001b[0m\u001b[1;33m.\u001b[0m\u001b[0mpage\u001b[0m\u001b[1;33m(\u001b[0m\u001b[1;36m100\u001b[0m\u001b[1;33m)\u001b[0m \u001b[1;31m# 없는 페이지 조회\u001b[0m\u001b[1;33m\u001b[0m\u001b[1;33m\u001b[0m\u001b[0m\n\u001b[0m",
      "\u001b[1;32mc:\\users\\playdata\\anaconda3\\envs\\django\\lib\\site-packages\\django\\core\\paginator.py\u001b[0m in \u001b[0;36mpage\u001b[1;34m(self, number)\u001b[0m\n\u001b[0;32m     74\u001b[0m     \u001b[1;32mdef\u001b[0m \u001b[0mpage\u001b[0m\u001b[1;33m(\u001b[0m\u001b[0mself\u001b[0m\u001b[1;33m,\u001b[0m \u001b[0mnumber\u001b[0m\u001b[1;33m)\u001b[0m\u001b[1;33m:\u001b[0m\u001b[1;33m\u001b[0m\u001b[1;33m\u001b[0m\u001b[0m\n\u001b[0;32m     75\u001b[0m         \u001b[1;34m\"\"\"Return a Page object for the given 1-based page number.\"\"\"\u001b[0m\u001b[1;33m\u001b[0m\u001b[1;33m\u001b[0m\u001b[0m\n\u001b[1;32m---> 76\u001b[1;33m         \u001b[0mnumber\u001b[0m \u001b[1;33m=\u001b[0m \u001b[0mself\u001b[0m\u001b[1;33m.\u001b[0m\u001b[0mvalidate_number\u001b[0m\u001b[1;33m(\u001b[0m\u001b[0mnumber\u001b[0m\u001b[1;33m)\u001b[0m\u001b[1;33m\u001b[0m\u001b[1;33m\u001b[0m\u001b[0m\n\u001b[0m\u001b[0;32m     77\u001b[0m         \u001b[0mbottom\u001b[0m \u001b[1;33m=\u001b[0m \u001b[1;33m(\u001b[0m\u001b[0mnumber\u001b[0m \u001b[1;33m-\u001b[0m \u001b[1;36m1\u001b[0m\u001b[1;33m)\u001b[0m \u001b[1;33m*\u001b[0m \u001b[0mself\u001b[0m\u001b[1;33m.\u001b[0m\u001b[0mper_page\u001b[0m\u001b[1;33m\u001b[0m\u001b[1;33m\u001b[0m\u001b[0m\n\u001b[0;32m     78\u001b[0m         \u001b[0mtop\u001b[0m \u001b[1;33m=\u001b[0m \u001b[0mbottom\u001b[0m \u001b[1;33m+\u001b[0m \u001b[0mself\u001b[0m\u001b[1;33m.\u001b[0m\u001b[0mper_page\u001b[0m\u001b[1;33m\u001b[0m\u001b[1;33m\u001b[0m\u001b[0m\n",
      "\u001b[1;32mc:\\users\\playdata\\anaconda3\\envs\\django\\lib\\site-packages\\django\\core\\paginator.py\u001b[0m in \u001b[0;36mvalidate_number\u001b[1;34m(self, number)\u001b[0m\n\u001b[0;32m     56\u001b[0m                 \u001b[1;32mpass\u001b[0m\u001b[1;33m\u001b[0m\u001b[1;33m\u001b[0m\u001b[0m\n\u001b[0;32m     57\u001b[0m             \u001b[1;32melse\u001b[0m\u001b[1;33m:\u001b[0m\u001b[1;33m\u001b[0m\u001b[1;33m\u001b[0m\u001b[0m\n\u001b[1;32m---> 58\u001b[1;33m                 \u001b[1;32mraise\u001b[0m \u001b[0mEmptyPage\u001b[0m\u001b[1;33m(\u001b[0m\u001b[0m_\u001b[0m\u001b[1;33m(\u001b[0m\u001b[1;34m'That page contains no results'\u001b[0m\u001b[1;33m)\u001b[0m\u001b[1;33m)\u001b[0m\u001b[1;33m\u001b[0m\u001b[1;33m\u001b[0m\u001b[0m\n\u001b[0m\u001b[0;32m     59\u001b[0m         \u001b[1;32mreturn\u001b[0m \u001b[0mnumber\u001b[0m\u001b[1;33m\u001b[0m\u001b[1;33m\u001b[0m\u001b[0m\n\u001b[0;32m     60\u001b[0m \u001b[1;33m\u001b[0m\u001b[0m\n",
      "\u001b[1;31mEmptyPage\u001b[0m: 해당 페이지에 결과가 없습니다."
     ]
    }
   ],
   "source": [
    "pn.page(100) # 없는 페이지 조회 exception 발생 -->emptyPage"
   ]
  },
  {
   "cell_type": "code",
   "execution_count": 15,
   "id": "0e18c9b2",
   "metadata": {},
   "outputs": [
    {
     "name": "stdout",
     "output_type": "stream",
     "text": [
      "0\n",
      "1\n",
      "2\n",
      "3\n",
      "4\n"
     ]
    }
   ],
   "source": [
    "for data in page1:\n",
    "    print(data)"
   ]
  },
  {
   "cell_type": "code",
   "execution_count": 16,
   "id": "d7ae148b",
   "metadata": {},
   "outputs": [
    {
     "name": "stdout",
     "output_type": "stream",
     "text": [
      "I\n",
      "J\n",
      "K\n",
      "L\n",
      "M\n"
     ]
    }
   ],
   "source": [
    "for data in page10:\n",
    "    print(data)"
   ]
  },
  {
   "cell_type": "code",
   "execution_count": 19,
   "id": "5e000d36",
   "metadata": {},
   "outputs": [
    {
     "name": "stdout",
     "output_type": "stream",
     "text": [
      "['0', '1', '2', '3', '4']\n"
     ]
    },
    {
     "data": {
      "text/plain": [
       "(['0', '1', '2', '3', '4'], ('0', '1', '2', '3', '4'))"
      ]
     },
     "execution_count": 19,
     "metadata": {},
     "output_type": "execute_result"
    }
   ],
   "source": [
    "# 페이지가 가진 데이터를 list로 반환\n",
    "list_1 = page1.object_list\n",
    "print(list_1)\n",
    "list(page1), tuple(page1)"
   ]
  },
  {
   "cell_type": "markdown",
   "id": "39bc02d7",
   "metadata": {},
   "source": [
    "def list(request):\n",
    "    pageNo = request.GET['page']\n",
    "    pn = Paginator(Model.objects.all(), 10)\n",
    "    page = pn.get(pagNo)\n",
    "    \n",
    "    return render(request, 'template경로', {'data':page})"
   ]
  },
  {
   "cell_type": "markdown",
   "id": "79a22e21",
   "metadata": {},
   "source": [
    "## 이전/다음페이지 유무 \n",
    "- 1페이지 : 이전 페이지 없음, 다음페이지 있음.\n",
    "- 13페이지: 이전 페이지 있음, 다음페이지 없음.\n",
    "- 10페이지: 이전,다음 페이지 다있음."
   ]
  },
  {
   "cell_type": "code",
   "execution_count": 20,
   "id": "07c07de8",
   "metadata": {},
   "outputs": [
    {
     "name": "stdout",
     "output_type": "stream",
     "text": [
      "이전페이지 유무: False\n",
      "다음페이지 유무: True\n"
     ]
    }
   ],
   "source": [
    "#1 페이지 조회\n",
    "print('이전페이지 유무:', page1.has_previous())\n",
    "print('다음페이지 유무:', page1.has_next())"
   ]
  },
  {
   "cell_type": "code",
   "execution_count": 21,
   "id": "6ec4f322",
   "metadata": {},
   "outputs": [
    {
     "name": "stdout",
     "output_type": "stream",
     "text": [
      "이전페이지 유무: True\n",
      "다음페이지 유무: True\n"
     ]
    }
   ],
   "source": [
    "#10 페이지 조회\n",
    "print('이전페이지 유무:', page10.has_previous())\n",
    "print('다음페이지 유무:', page10.has_next())"
   ]
  },
  {
   "cell_type": "code",
   "execution_count": 22,
   "id": "a5bb691c",
   "metadata": {},
   "outputs": [
    {
     "name": "stdout",
     "output_type": "stream",
     "text": [
      "이전페이지 유무: True\n",
      "다음페이지 유무: False\n"
     ]
    }
   ],
   "source": [
    "# 13 페이지 조회\n",
    "page13 = pn.page(13)\n",
    "print('이전페이지 유무:', page13.has_previous())\n",
    "print('다음페이지 유무:', page13.has_next())"
   ]
  },
  {
   "cell_type": "markdown",
   "id": "fdb0ca22",
   "metadata": {},
   "source": [
    "## 이전/다음페이지 번호 조회"
   ]
  },
  {
   "cell_type": "code",
   "execution_count": 72,
   "id": "ae7f8f32",
   "metadata": {},
   "outputs": [
    {
     "data": {
      "text/plain": [
       "1"
      ]
     },
     "execution_count": 72,
     "metadata": {},
     "output_type": "execute_result"
    }
   ],
   "source": [
    "page1.number  # "
   ]
  },
  {
   "cell_type": "code",
   "execution_count": 24,
   "id": "461e843b",
   "metadata": {},
   "outputs": [
    {
     "name": "stdout",
     "output_type": "stream",
     "text": [
      "다음페이지번호: 2\n"
     ]
    }
   ],
   "source": [
    "#page1의 이전 / 다음 페이지 번호\n",
    "#print('이전페이지번호:', page1.previous_page_number()) #없으면 emptyPage예외 발생\n",
    "print('다음페이지번호:', page1.next_page_number())"
   ]
  },
  {
   "cell_type": "code",
   "execution_count": 25,
   "id": "a52bd5bf",
   "metadata": {},
   "outputs": [
    {
     "name": "stdout",
     "output_type": "stream",
     "text": [
      "이전페이지번호: 9\n",
      "다음페이지번호: 11\n"
     ]
    }
   ],
   "source": [
    "# page10의 이전/다음페이지 번홈\n",
    "print('이전페이지번호:', page10.previous_page_number()) \n",
    "print('다음페이지번호:', page10.next_page_number())"
   ]
  },
  {
   "cell_type": "code",
   "execution_count": 27,
   "id": "1a5d38c6",
   "metadata": {},
   "outputs": [
    {
     "name": "stdout",
     "output_type": "stream",
     "text": [
      "이전페이지번호: 12\n"
     ]
    }
   ],
   "source": [
    "# page13의 이전/다음페이지 번홈\n",
    "print('이전페이지번호:', page13.previous_page_number()) \n",
    "#print('다음페이지번호:', page13.next_page_number()) #없으면 empty page예외 발생"
   ]
  },
  {
   "cell_type": "markdown",
   "id": "ef724bfb",
   "metadata": {},
   "source": [
    "## 각 페이지별 데이터 출력(조회해서 출력)\n"
   ]
  },
  {
   "cell_type": "code",
   "execution_count": 35,
   "id": "78add293",
   "metadata": {},
   "outputs": [
    {
     "name": "stdout",
     "output_type": "stream",
     "text": [
      "1페이지\n",
      "0, 1, 2, 3, 4, 5, 6, 7, 8, 9, \n",
      "=============================================\n",
      "2페이지\n",
      "a, b, c, d, e, f, g, h, i, j, \n",
      "=============================================\n",
      "3페이지\n",
      "k, l, m, n, o, p, q, r, s, t, \n",
      "=============================================\n",
      "4페이지\n",
      "u, v, w, x, x, y, z, A, B, C, \n",
      "=============================================\n",
      "5페이지\n",
      "D, E, F, G, H, I, J, K, L, M, \n",
      "=============================================\n",
      "6페이지\n",
      "N, O, P, Q, R, S, T, U, V, W, \n",
      "=============================================\n",
      "7페이지\n",
      "X, Y, Z, \n",
      "=============================================\n"
     ]
    }
   ],
   "source": [
    "pn = Paginator(data_list, 10) #페이지당 10개 데이터 출력\n",
    "for pageNO in pn.page_range:\n",
    "    print(f\"{pageNO}페이지\")\n",
    "    for data in pn.page(pageNO):\n",
    "        print(data, end=', ')\n",
    "    print(\"\\n=============================================\")"
   ]
  },
  {
   "cell_type": "markdown",
   "id": "51181b9f",
   "metadata": {},
   "source": [
    "## 현재 페이지(요청페이지)가 속한 page그룹의 (page_range)에서의 시작 index와 끝 index를 조회"
   ]
  },
  {
   "cell_type": "code",
   "execution_count": 37,
   "id": "29f147ea",
   "metadata": {},
   "outputs": [],
   "source": [
    "pn = Paginator(data_list,5)\n",
    "r=pn.page_range"
   ]
  },
  {
   "cell_type": "code",
   "execution_count": 40,
   "id": "eda9448e",
   "metadata": {},
   "outputs": [
    {
     "data": {
      "text/plain": [
       "range(1, 14)"
      ]
     },
     "execution_count": 40,
     "metadata": {},
     "output_type": "execute_result"
    }
   ],
   "source": [
    "r"
   ]
  },
  {
   "cell_type": "code",
   "execution_count": 46,
   "id": "a3e680c7",
   "metadata": {},
   "outputs": [
    {
     "data": {
      "text/plain": [
       "[7, 8, 9]"
      ]
     },
     "execution_count": 46,
     "metadata": {},
     "output_type": "execute_result"
    }
   ],
   "source": [
    "list(r[0:3]) # 현재페이지 :1,2,3\n",
    "list(r[3:6]) # 페이지그룸 : 4,5,6// 현재 페이지 :5\n",
    "list(r[6:9]) # 현재 페이지 9 \n",
    "## index = page-1 를 이용 슬라이스 해서 페이지 그룹을 구한다. "
   ]
  },
  {
   "cell_type": "code",
   "execution_count": 65,
   "id": "912c4a87",
   "metadata": {},
   "outputs": [
    {
     "name": "stdout",
     "output_type": "stream",
     "text": [
      "11,12,13,"
     ]
    }
   ],
   "source": [
    "current_page = 11# 현재 페이지\n",
    "page_group_count = 10 # 한페이 그룹의 페이지 수// 페이지 10개가 1개그룹\n",
    "\n",
    "# 현재 page가 속함 group의 시작 페이지의 index\n",
    "start_index = int((current_page-1)/page_group_count) *page_group_count\n",
    "# 현재 page가 속한 group의 마지막 페이지의 intex\n",
    "end_index = start_index + page_group_count\n",
    "\n",
    "#print(start_index, end_index) # 시작페이지/ 끝페이지 번호\n",
    "r = pn.page_range[start_index:end_index]\n",
    "\n",
    "for a in r:\n",
    "    print(a,end=\",\")"
   ]
  },
  {
   "cell_type": "code",
   "execution_count": 53,
   "id": "729699f5",
   "metadata": {},
   "outputs": [
    {
     "data": {
      "text/plain": [
       "10"
      ]
     },
     "execution_count": 53,
     "metadata": {},
     "output_type": "execute_result"
    }
   ],
   "source": [
    "# current_page = 12\n",
    "# # n.0 ~ n.9 -> int하면 n 만 남음\n",
    "# int((current_page-1)/page_group_count) *page_group_count"
   ]
  },
  {
   "cell_type": "markdown",
   "id": "5dc98245",
   "metadata": {},
   "source": [
    "## post 데이터 추가 "
   ]
  },
  {
   "cell_type": "code",
   "execution_count": 67,
   "id": "aa8079e6",
   "metadata": {},
   "outputs": [],
   "source": [
    "from board.models import Category,Post"
   ]
  },
  {
   "cell_type": "code",
   "execution_count": null,
   "id": "595bf203",
   "metadata": {},
   "outputs": [],
   "source": [
    "c =Category(pk = 1)"
   ]
  },
  {
   "cell_type": "code",
   "execution_count": 68,
   "id": "910a4c43",
   "metadata": {},
   "outputs": [
    {
     "name": "stdout",
     "output_type": "stream",
     "text": [
      "1\n",
      "2\n",
      "3\n",
      "4\n",
      "5\n"
     ]
    }
   ],
   "source": [
    "for c in Category.objects.all():\n",
    "    print(c.pk)"
   ]
  },
  {
   "cell_type": "code",
   "execution_count": 69,
   "id": "5d34c09a",
   "metadata": {},
   "outputs": [],
   "source": [
    "for i in range(350):\n",
    "    post = Post(title=f'제목-{i}', content=f'내용\\n내용\\n내용-{i}', category = c)\n",
    "#   insert,update :모델.save()\n",
    "    post.save()"
   ]
  },
  {
   "cell_type": "code",
   "execution_count": 71,
   "id": "d7eac289",
   "metadata": {},
   "outputs": [
    {
     "data": {
      "text/plain": [
       "353"
      ]
     },
     "execution_count": 71,
     "metadata": {},
     "output_type": "execute_result"
    }
   ],
   "source": [
    "Post.objects.all().count()"
   ]
  },
  {
   "cell_type": "code",
   "execution_count": null,
   "id": "356aaafb",
   "metadata": {},
   "outputs": [],
   "source": []
  },
  {
   "cell_type": "code",
   "execution_count": null,
   "id": "c81a9cc9",
   "metadata": {},
   "outputs": [],
   "source": []
  },
  {
   "cell_type": "code",
   "execution_count": null,
   "id": "e2e45ae8",
   "metadata": {},
   "outputs": [],
   "source": []
  },
  {
   "cell_type": "code",
   "execution_count": null,
   "id": "80b0e6a6",
   "metadata": {},
   "outputs": [],
   "source": []
  },
  {
   "cell_type": "code",
   "execution_count": null,
   "id": "cef49feb",
   "metadata": {},
   "outputs": [],
   "source": []
  },
  {
   "cell_type": "code",
   "execution_count": null,
   "id": "008325af",
   "metadata": {},
   "outputs": [],
   "source": []
  },
  {
   "cell_type": "code",
   "execution_count": null,
   "id": "603f0177",
   "metadata": {},
   "outputs": [],
   "source": []
  },
  {
   "cell_type": "code",
   "execution_count": null,
   "id": "dad639f3",
   "metadata": {},
   "outputs": [],
   "source": []
  },
  {
   "cell_type": "code",
   "execution_count": null,
   "id": "6f1cd2ee",
   "metadata": {},
   "outputs": [],
   "source": []
  },
  {
   "cell_type": "code",
   "execution_count": null,
   "id": "3cc0a507",
   "metadata": {},
   "outputs": [],
   "source": []
  },
  {
   "cell_type": "code",
   "execution_count": null,
   "id": "ceda2a46",
   "metadata": {},
   "outputs": [],
   "source": []
  },
  {
   "cell_type": "code",
   "execution_count": null,
   "id": "8f95c7bc",
   "metadata": {},
   "outputs": [],
   "source": []
  },
  {
   "cell_type": "code",
   "execution_count": null,
   "id": "1593f5b8",
   "metadata": {},
   "outputs": [],
   "source": []
  },
  {
   "cell_type": "code",
   "execution_count": null,
   "id": "049b648e",
   "metadata": {},
   "outputs": [],
   "source": []
  },
  {
   "cell_type": "code",
   "execution_count": null,
   "id": "bf98a044",
   "metadata": {},
   "outputs": [],
   "source": []
  },
  {
   "cell_type": "code",
   "execution_count": null,
   "id": "3cc0fb3b",
   "metadata": {},
   "outputs": [],
   "source": []
  },
  {
   "cell_type": "code",
   "execution_count": null,
   "id": "82281070",
   "metadata": {},
   "outputs": [],
   "source": []
  },
  {
   "cell_type": "code",
   "execution_count": null,
   "id": "40355811",
   "metadata": {},
   "outputs": [],
   "source": []
  },
  {
   "cell_type": "code",
   "execution_count": null,
   "id": "035ed93e",
   "metadata": {},
   "outputs": [],
   "source": []
  },
  {
   "cell_type": "code",
   "execution_count": null,
   "id": "a5ec334c",
   "metadata": {},
   "outputs": [],
   "source": []
  },
  {
   "cell_type": "code",
   "execution_count": null,
   "id": "13051ed2",
   "metadata": {},
   "outputs": [],
   "source": []
  }
 ],
 "metadata": {
  "kernelspec": {
   "display_name": "Python 3",
   "language": "python",
   "name": "python3"
  },
  "language_info": {
   "codemirror_mode": {
    "name": "ipython",
    "version": 3
   },
   "file_extension": ".py",
   "mimetype": "text/x-python",
   "name": "python",
   "nbconvert_exporter": "python",
   "pygments_lexer": "ipython3",
   "version": "3.8.10"
  }
 },
 "nbformat": 4,
 "nbformat_minor": 5
}
